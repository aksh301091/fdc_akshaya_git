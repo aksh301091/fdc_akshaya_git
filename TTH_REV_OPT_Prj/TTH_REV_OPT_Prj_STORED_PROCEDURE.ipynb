{
 "cells": [
  {
   "cell_type": "code",
   "execution_count": null,
   "id": "0e080b77-4fbe-4fa9-aae1-61a125d33f20",
   "metadata": {},
   "outputs": [],
   "source": []
  }
 ],
 "metadata": {
  "kernelspec": {
   "display_name": "",
   "name": ""
  },
  "language_info": {
   "name": ""
  }
 },
 "nbformat": 4,
 "nbformat_minor": 5
}
