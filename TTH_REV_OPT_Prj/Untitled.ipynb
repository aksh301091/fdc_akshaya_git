{
 "cells": [
  {
   "cell_type": "code",
   "execution_count": 1,
   "id": "7d34ce6f",
   "metadata": {},
   "outputs": [],
   "source": [
    "import os"
   ]
  },
  {
   "cell_type": "code",
   "execution_count": 5,
   "id": "dfeb89dc",
   "metadata": {},
   "outputs": [
    {
     "data": {
      "text/plain": [
       "('AKSHAYA',\n",
       " 'FOSFOR_SOLUTIONS_WH',\n",
       " 'TTH_REV_OPT_Schema',\n",
       " 'TTH_DB',\n",
       " 'AKSHAYA',\n",
       " 'ug94937.us-east4.gcp',\n",
       " 'Password@2023')"
      ]
     },
     "execution_count": 5,
     "metadata": {},
     "output_type": "execute_result"
    }
   ],
   "source": [
    "os.getenv(\"user\"), os.getenv(\"warehouse\"), os.getenv(\"schema\"), os.getenv(\"database\"), os.getenv(\"role\"), os.getenv(\"account\"), os.getenv(\"password\")"
   ]
  }
 ],
 "metadata": {
  "kernelspec": {
   "display_name": "Python 3",
   "language": "python",
   "name": "python3"
  },
  "language_info": {
   "codemirror_mode": {
    "name": "ipython",
    "version": 3
   },
   "file_extension": ".py",
   "mimetype": "text/x-python",
   "name": "python",
   "nbconvert_exporter": "python",
   "pygments_lexer": "ipython3",
   "version": "3.8.18"
  }
 },
 "nbformat": 4,
 "nbformat_minor": 5
}
