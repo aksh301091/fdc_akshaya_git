{
 "cells": [
  {
   "cell_type": "code",
   "execution_count": null,
   "id": "89a1021a",
   "metadata": {},
   "outputs": [],
   "source": [
    "!pip install --upgrade pip\n",
    "!pip install \"snowflake-connector-python[pandas]\" \"snowflake-snowpark-python[pandas]\" snowflake-snowpark-python==1.9.0 fosforio fosforml numpy pandas matplotlib scikit-learn xgboost seaborn python-dateutil tqdm holidays faker\n",
    "!pip install --upgrade --q snowflake-snowpark-python==1.9.0\n",
    "!pip uninstall urllib3 -y\n",
    "!pip install urllib3==1.26.15"
   ]
  },
  {
   "cell_type": "code",
   "execution_count": 1,
   "id": "caa700cd",
   "metadata": {},
   "outputs": [
    {
     "name": "stdout",
     "output_type": "stream",
     "text": [
      "Connection manager service url initialised to http://fdc-project-manager:80/project-manager\n",
      "If you need to update its value then update the variable CONNECTION_MANAGER_BASE_URL in os env.\n"
     ]
    }
   ],
   "source": [
    "from fosforio import snowflake\n",
    "from fosforio import get_dataframe\n",
    "from datetime import datetime, timedelta"
   ]
  },
  {
   "cell_type": "code",
   "execution_count": 2,
   "id": "a7b1e370",
   "metadata": {},
   "outputs": [
    {
     "name": "stderr",
     "output_type": "stream",
     "text": [
      "Matplotlib created a temporary cache directory at /tmp/matplotlib-__8e11_z because the default path (/home/mosaic-ai/.cache/matplotlib) is not a writable directory; it is highly recommended to set the MPLCONFIGDIR environment variable to a writable directory, in particular to speed up the import of Matplotlib and to better support multiprocessing.\n"
     ]
    }
   ],
   "source": [
    "import pandas as pd\n",
    "pd.set_option('display.max_columns', 500)\n",
    "import seaborn as sns"
   ]
  },
  {
   "cell_type": "code",
   "execution_count": null,
   "id": "10afc635",
   "metadata": {},
   "outputs": [],
   "source": [
    "snowflake.get_connection(connection_name=\"TTH_REV_OPT_CXN\")\n",
    "data = get_dataframe(\"BOOKINGS\")\n",
    "data"
   ]
  },
  {
   "cell_type": "code",
   "execution_count": 3,
   "id": "b401ab4c",
   "metadata": {},
   "outputs": [
    {
     "data": {
      "text/html": [
       "<div>\n",
       "<style scoped>\n",
       "    .dataframe tbody tr th:only-of-type {\n",
       "        vertical-align: middle;\n",
       "    }\n",
       "\n",
       "    .dataframe tbody tr th {\n",
       "        vertical-align: top;\n",
       "    }\n",
       "\n",
       "    .dataframe thead th {\n",
       "        text-align: right;\n",
       "    }\n",
       "</style>\n",
       "<table border=\"1\" class=\"dataframe\">\n",
       "  <thead>\n",
       "    <tr style=\"text-align: right;\">\n",
       "      <th></th>\n",
       "      <th>HOTEL</th>\n",
       "      <th>IS_CANCELED</th>\n",
       "      <th>LEAD_TIME</th>\n",
       "      <th>ARRIVAL_DATE_YEAR</th>\n",
       "      <th>MONTH</th>\n",
       "      <th>ARRIVAL_DATE_WEEK_NUMBER</th>\n",
       "      <th>ARRIVAL_DATE_DAY_OF_MONTH</th>\n",
       "      <th>EXPECTED_ARRIVAL_DATE</th>\n",
       "      <th>RESERVATION_STATUS</th>\n",
       "      <th>RESERVATION_STATUS_DATE</th>\n",
       "      <th>TOTAL_STAY_NIGHTS</th>\n",
       "      <th>TALLY_DAYS</th>\n",
       "      <th>STAYS_IN_WEEKEND_NIGHTS</th>\n",
       "      <th>STAYS_IN_WEEK_NIGHTS</th>\n",
       "      <th>ADULTS</th>\n",
       "      <th>CHILDREN</th>\n",
       "      <th>BABIES</th>\n",
       "      <th>TOTAL_GUESTS</th>\n",
       "      <th>AVG_ROOMS_PER_NIGHT</th>\n",
       "      <th>TOTAL_ROOM_NIGHTS</th>\n",
       "      <th>MEAL</th>\n",
       "      <th>COUNTRY</th>\n",
       "      <th>MARKET_SEGMENT</th>\n",
       "      <th>DISTRIBUTION_CHANNEL</th>\n",
       "      <th>PREVIOUS_CANCELLATIONS</th>\n",
       "      <th>PREVIOUS_BOOKINGS_NOT_CANCELED</th>\n",
       "      <th>RESERVED_ROOM_TYPE</th>\n",
       "      <th>ASSIGNED_ROOM_TYPE</th>\n",
       "      <th>DEPOSIT_TYPE</th>\n",
       "      <th>DAYS_IN_WAITING_LIST</th>\n",
       "      <th>CUSTOMER_TYPE</th>\n",
       "      <th>ADR</th>\n",
       "    </tr>\n",
       "  </thead>\n",
       "  <tbody>\n",
       "    <tr>\n",
       "      <th>0</th>\n",
       "      <td>City Hotel</td>\n",
       "      <td>1</td>\n",
       "      <td>272</td>\n",
       "      <td>2021</td>\n",
       "      <td>7</td>\n",
       "      <td>29</td>\n",
       "      <td>16</td>\n",
       "      <td>2021-07-16</td>\n",
       "      <td>Canceled</td>\n",
       "      <td>17-10-2020</td>\n",
       "      <td>2</td>\n",
       "      <td>0.272</td>\n",
       "      <td>0</td>\n",
       "      <td>2</td>\n",
       "      <td>2</td>\n",
       "      <td>0</td>\n",
       "      <td>0</td>\n",
       "      <td>2</td>\n",
       "      <td>1</td>\n",
       "      <td>2</td>\n",
       "      <td>BB</td>\n",
       "      <td>PRT</td>\n",
       "      <td>Groups</td>\n",
       "      <td>TA/TO</td>\n",
       "      <td>1</td>\n",
       "      <td>0</td>\n",
       "      <td>A</td>\n",
       "      <td>A</td>\n",
       "      <td>No Deposit</td>\n",
       "      <td>0</td>\n",
       "      <td>Transient.Party</td>\n",
       "      <td>62.80</td>\n",
       "    </tr>\n",
       "    <tr>\n",
       "      <th>1</th>\n",
       "      <td>City Hotel</td>\n",
       "      <td>1</td>\n",
       "      <td>307</td>\n",
       "      <td>2021</td>\n",
       "      <td>8</td>\n",
       "      <td>34</td>\n",
       "      <td>20</td>\n",
       "      <td>2021-08-20</td>\n",
       "      <td>Canceled</td>\n",
       "      <td>17-10-2020</td>\n",
       "      <td>2</td>\n",
       "      <td>0.307</td>\n",
       "      <td>0</td>\n",
       "      <td>2</td>\n",
       "      <td>2</td>\n",
       "      <td>0</td>\n",
       "      <td>0</td>\n",
       "      <td>2</td>\n",
       "      <td>1</td>\n",
       "      <td>2</td>\n",
       "      <td>BB</td>\n",
       "      <td>PRT</td>\n",
       "      <td>Groups</td>\n",
       "      <td>TA/TO</td>\n",
       "      <td>1</td>\n",
       "      <td>0</td>\n",
       "      <td>A</td>\n",
       "      <td>A</td>\n",
       "      <td>No Deposit</td>\n",
       "      <td>0</td>\n",
       "      <td>Transient.Party</td>\n",
       "      <td>62.80</td>\n",
       "    </tr>\n",
       "    <tr>\n",
       "      <th>2</th>\n",
       "      <td>City Hotel</td>\n",
       "      <td>1</td>\n",
       "      <td>258</td>\n",
       "      <td>2021</td>\n",
       "      <td>7</td>\n",
       "      <td>27</td>\n",
       "      <td>2</td>\n",
       "      <td>2021-07-02</td>\n",
       "      <td>Canceled</td>\n",
       "      <td>17-10-2020</td>\n",
       "      <td>2</td>\n",
       "      <td>0.258</td>\n",
       "      <td>0</td>\n",
       "      <td>2</td>\n",
       "      <td>2</td>\n",
       "      <td>0</td>\n",
       "      <td>0</td>\n",
       "      <td>2</td>\n",
       "      <td>1</td>\n",
       "      <td>2</td>\n",
       "      <td>BB</td>\n",
       "      <td>PRT</td>\n",
       "      <td>Groups</td>\n",
       "      <td>TA/TO</td>\n",
       "      <td>1</td>\n",
       "      <td>0</td>\n",
       "      <td>A</td>\n",
       "      <td>A</td>\n",
       "      <td>No Deposit</td>\n",
       "      <td>0</td>\n",
       "      <td>Transient.Party</td>\n",
       "      <td>62.80</td>\n",
       "    </tr>\n",
       "    <tr>\n",
       "      <th>3</th>\n",
       "      <td>City Hotel</td>\n",
       "      <td>1</td>\n",
       "      <td>307</td>\n",
       "      <td>2021</td>\n",
       "      <td>8</td>\n",
       "      <td>34</td>\n",
       "      <td>20</td>\n",
       "      <td>2021-08-20</td>\n",
       "      <td>Canceled</td>\n",
       "      <td>17-10-2020</td>\n",
       "      <td>2</td>\n",
       "      <td>0.307</td>\n",
       "      <td>0</td>\n",
       "      <td>2</td>\n",
       "      <td>2</td>\n",
       "      <td>0</td>\n",
       "      <td>0</td>\n",
       "      <td>2</td>\n",
       "      <td>1</td>\n",
       "      <td>2</td>\n",
       "      <td>BB</td>\n",
       "      <td>PRT</td>\n",
       "      <td>Groups</td>\n",
       "      <td>TA/TO</td>\n",
       "      <td>1</td>\n",
       "      <td>0</td>\n",
       "      <td>A</td>\n",
       "      <td>A</td>\n",
       "      <td>No Deposit</td>\n",
       "      <td>0</td>\n",
       "      <td>Transient.Party</td>\n",
       "      <td>62.80</td>\n",
       "    </tr>\n",
       "    <tr>\n",
       "      <th>4</th>\n",
       "      <td>City Hotel</td>\n",
       "      <td>1</td>\n",
       "      <td>279</td>\n",
       "      <td>2021</td>\n",
       "      <td>7</td>\n",
       "      <td>30</td>\n",
       "      <td>23</td>\n",
       "      <td>2021-07-23</td>\n",
       "      <td>Canceled</td>\n",
       "      <td>17-10-2020</td>\n",
       "      <td>2</td>\n",
       "      <td>0.279</td>\n",
       "      <td>0</td>\n",
       "      <td>2</td>\n",
       "      <td>2</td>\n",
       "      <td>0</td>\n",
       "      <td>0</td>\n",
       "      <td>2</td>\n",
       "      <td>1</td>\n",
       "      <td>2</td>\n",
       "      <td>BB</td>\n",
       "      <td>PRT</td>\n",
       "      <td>Groups</td>\n",
       "      <td>TA/TO</td>\n",
       "      <td>1</td>\n",
       "      <td>0</td>\n",
       "      <td>A</td>\n",
       "      <td>A</td>\n",
       "      <td>No Deposit</td>\n",
       "      <td>0</td>\n",
       "      <td>Transient.Party</td>\n",
       "      <td>62.80</td>\n",
       "    </tr>\n",
       "    <tr>\n",
       "      <th>...</th>\n",
       "      <td>...</td>\n",
       "      <td>...</td>\n",
       "      <td>...</td>\n",
       "      <td>...</td>\n",
       "      <td>...</td>\n",
       "      <td>...</td>\n",
       "      <td>...</td>\n",
       "      <td>...</td>\n",
       "      <td>...</td>\n",
       "      <td>...</td>\n",
       "      <td>...</td>\n",
       "      <td>...</td>\n",
       "      <td>...</td>\n",
       "      <td>...</td>\n",
       "      <td>...</td>\n",
       "      <td>...</td>\n",
       "      <td>...</td>\n",
       "      <td>...</td>\n",
       "      <td>...</td>\n",
       "      <td>...</td>\n",
       "      <td>...</td>\n",
       "      <td>...</td>\n",
       "      <td>...</td>\n",
       "      <td>...</td>\n",
       "      <td>...</td>\n",
       "      <td>...</td>\n",
       "      <td>...</td>\n",
       "      <td>...</td>\n",
       "      <td>...</td>\n",
       "      <td>...</td>\n",
       "      <td>...</td>\n",
       "      <td>...</td>\n",
       "    </tr>\n",
       "    <tr>\n",
       "      <th>117100</th>\n",
       "      <td>Resort Hotel</td>\n",
       "      <td>0</td>\n",
       "      <td>269</td>\n",
       "      <td>2023</td>\n",
       "      <td>8</td>\n",
       "      <td>34</td>\n",
       "      <td>24</td>\n",
       "      <td>2023-08-24</td>\n",
       "      <td>Check.Out</td>\n",
       "      <td>10-09-2023</td>\n",
       "      <td>17</td>\n",
       "      <td>17.000</td>\n",
       "      <td>4</td>\n",
       "      <td>13</td>\n",
       "      <td>2</td>\n",
       "      <td>0</td>\n",
       "      <td>0</td>\n",
       "      <td>2</td>\n",
       "      <td>1</td>\n",
       "      <td>17</td>\n",
       "      <td>BB</td>\n",
       "      <td>GBR</td>\n",
       "      <td>Offline TA/TO</td>\n",
       "      <td>TA/TO</td>\n",
       "      <td>0</td>\n",
       "      <td>0</td>\n",
       "      <td>D</td>\n",
       "      <td>D</td>\n",
       "      <td>No Deposit</td>\n",
       "      <td>0</td>\n",
       "      <td>Contract</td>\n",
       "      <td>84.80</td>\n",
       "    </tr>\n",
       "    <tr>\n",
       "      <th>117101</th>\n",
       "      <td>Resort Hotel</td>\n",
       "      <td>0</td>\n",
       "      <td>212</td>\n",
       "      <td>2023</td>\n",
       "      <td>8</td>\n",
       "      <td>35</td>\n",
       "      <td>31</td>\n",
       "      <td>2023-08-31</td>\n",
       "      <td>Check.Out</td>\n",
       "      <td>10-09-2023</td>\n",
       "      <td>10</td>\n",
       "      <td>10.000</td>\n",
       "      <td>2</td>\n",
       "      <td>8</td>\n",
       "      <td>2</td>\n",
       "      <td>1</td>\n",
       "      <td>0</td>\n",
       "      <td>3</td>\n",
       "      <td>1</td>\n",
       "      <td>10</td>\n",
       "      <td>BB</td>\n",
       "      <td>GBR</td>\n",
       "      <td>Offline TA/TO</td>\n",
       "      <td>TA/TO</td>\n",
       "      <td>0</td>\n",
       "      <td>0</td>\n",
       "      <td>A</td>\n",
       "      <td>A</td>\n",
       "      <td>No Deposit</td>\n",
       "      <td>0</td>\n",
       "      <td>Transient</td>\n",
       "      <td>89.75</td>\n",
       "    </tr>\n",
       "    <tr>\n",
       "      <th>117102</th>\n",
       "      <td>Resort Hotel</td>\n",
       "      <td>0</td>\n",
       "      <td>204</td>\n",
       "      <td>2023</td>\n",
       "      <td>8</td>\n",
       "      <td>35</td>\n",
       "      <td>29</td>\n",
       "      <td>2023-08-29</td>\n",
       "      <td>Check.Out</td>\n",
       "      <td>12-09-2023</td>\n",
       "      <td>14</td>\n",
       "      <td>14.000</td>\n",
       "      <td>4</td>\n",
       "      <td>10</td>\n",
       "      <td>2</td>\n",
       "      <td>0</td>\n",
       "      <td>0</td>\n",
       "      <td>2</td>\n",
       "      <td>1</td>\n",
       "      <td>14</td>\n",
       "      <td>BB</td>\n",
       "      <td>IRL</td>\n",
       "      <td>Direct</td>\n",
       "      <td>Direct</td>\n",
       "      <td>0</td>\n",
       "      <td>0</td>\n",
       "      <td>E</td>\n",
       "      <td>E</td>\n",
       "      <td>No Deposit</td>\n",
       "      <td>0</td>\n",
       "      <td>Transient</td>\n",
       "      <td>153.57</td>\n",
       "    </tr>\n",
       "    <tr>\n",
       "      <th>117103</th>\n",
       "      <td>Resort Hotel</td>\n",
       "      <td>0</td>\n",
       "      <td>161</td>\n",
       "      <td>2023</td>\n",
       "      <td>8</td>\n",
       "      <td>35</td>\n",
       "      <td>31</td>\n",
       "      <td>2023-08-31</td>\n",
       "      <td>Check.Out</td>\n",
       "      <td>14-09-2023</td>\n",
       "      <td>14</td>\n",
       "      <td>14.000</td>\n",
       "      <td>4</td>\n",
       "      <td>10</td>\n",
       "      <td>2</td>\n",
       "      <td>0</td>\n",
       "      <td>0</td>\n",
       "      <td>2</td>\n",
       "      <td>1</td>\n",
       "      <td>14</td>\n",
       "      <td>HB</td>\n",
       "      <td>DEU</td>\n",
       "      <td>Offline TA/TO</td>\n",
       "      <td>TA/TO</td>\n",
       "      <td>0</td>\n",
       "      <td>0</td>\n",
       "      <td>A</td>\n",
       "      <td>A</td>\n",
       "      <td>No Deposit</td>\n",
       "      <td>0</td>\n",
       "      <td>Transient</td>\n",
       "      <td>99.06</td>\n",
       "    </tr>\n",
       "    <tr>\n",
       "      <th>117104</th>\n",
       "      <td>Resort Hotel</td>\n",
       "      <td>0</td>\n",
       "      <td>211</td>\n",
       "      <td>2023</td>\n",
       "      <td>8</td>\n",
       "      <td>35</td>\n",
       "      <td>31</td>\n",
       "      <td>2023-08-31</td>\n",
       "      <td>Check.Out</td>\n",
       "      <td>14-09-2023</td>\n",
       "      <td>14</td>\n",
       "      <td>14.000</td>\n",
       "      <td>4</td>\n",
       "      <td>10</td>\n",
       "      <td>2</td>\n",
       "      <td>0</td>\n",
       "      <td>0</td>\n",
       "      <td>2</td>\n",
       "      <td>1</td>\n",
       "      <td>14</td>\n",
       "      <td>HB</td>\n",
       "      <td>GBR</td>\n",
       "      <td>Offline TA/TO</td>\n",
       "      <td>TA/TO</td>\n",
       "      <td>0</td>\n",
       "      <td>0</td>\n",
       "      <td>D</td>\n",
       "      <td>D</td>\n",
       "      <td>No Deposit</td>\n",
       "      <td>0</td>\n",
       "      <td>Contract</td>\n",
       "      <td>112.80</td>\n",
       "    </tr>\n",
       "  </tbody>\n",
       "</table>\n",
       "<p>117105 rows × 32 columns</p>\n",
       "</div>"
      ],
      "text/plain": [
       "               HOTEL  IS_CANCELED  LEAD_TIME  ARRIVAL_DATE_YEAR  MONTH  \\\n",
       "0         City Hotel            1        272               2021      7   \n",
       "1         City Hotel            1        307               2021      8   \n",
       "2         City Hotel            1        258               2021      7   \n",
       "3         City Hotel            1        307               2021      8   \n",
       "4         City Hotel            1        279               2021      7   \n",
       "...              ...          ...        ...                ...    ...   \n",
       "117100  Resort Hotel            0        269               2023      8   \n",
       "117101  Resort Hotel            0        212               2023      8   \n",
       "117102  Resort Hotel            0        204               2023      8   \n",
       "117103  Resort Hotel            0        161               2023      8   \n",
       "117104  Resort Hotel            0        211               2023      8   \n",
       "\n",
       "        ARRIVAL_DATE_WEEK_NUMBER  ARRIVAL_DATE_DAY_OF_MONTH  \\\n",
       "0                             29                         16   \n",
       "1                             34                         20   \n",
       "2                             27                          2   \n",
       "3                             34                         20   \n",
       "4                             30                         23   \n",
       "...                          ...                        ...   \n",
       "117100                        34                         24   \n",
       "117101                        35                         31   \n",
       "117102                        35                         29   \n",
       "117103                        35                         31   \n",
       "117104                        35                         31   \n",
       "\n",
       "       EXPECTED_ARRIVAL_DATE RESERVATION_STATUS RESERVATION_STATUS_DATE  \\\n",
       "0                 2021-07-16           Canceled              17-10-2020   \n",
       "1                 2021-08-20           Canceled              17-10-2020   \n",
       "2                 2021-07-02           Canceled              17-10-2020   \n",
       "3                 2021-08-20           Canceled              17-10-2020   \n",
       "4                 2021-07-23           Canceled              17-10-2020   \n",
       "...                      ...                ...                     ...   \n",
       "117100            2023-08-24          Check.Out              10-09-2023   \n",
       "117101            2023-08-31          Check.Out              10-09-2023   \n",
       "117102            2023-08-29          Check.Out              12-09-2023   \n",
       "117103            2023-08-31          Check.Out              14-09-2023   \n",
       "117104            2023-08-31          Check.Out              14-09-2023   \n",
       "\n",
       "        TOTAL_STAY_NIGHTS  TALLY_DAYS  STAYS_IN_WEEKEND_NIGHTS  \\\n",
       "0                       2       0.272                        0   \n",
       "1                       2       0.307                        0   \n",
       "2                       2       0.258                        0   \n",
       "3                       2       0.307                        0   \n",
       "4                       2       0.279                        0   \n",
       "...                   ...         ...                      ...   \n",
       "117100                 17      17.000                        4   \n",
       "117101                 10      10.000                        2   \n",
       "117102                 14      14.000                        4   \n",
       "117103                 14      14.000                        4   \n",
       "117104                 14      14.000                        4   \n",
       "\n",
       "        STAYS_IN_WEEK_NIGHTS  ADULTS  CHILDREN  BABIES  TOTAL_GUESTS  \\\n",
       "0                          2       2         0       0             2   \n",
       "1                          2       2         0       0             2   \n",
       "2                          2       2         0       0             2   \n",
       "3                          2       2         0       0             2   \n",
       "4                          2       2         0       0             2   \n",
       "...                      ...     ...       ...     ...           ...   \n",
       "117100                    13       2         0       0             2   \n",
       "117101                     8       2         1       0             3   \n",
       "117102                    10       2         0       0             2   \n",
       "117103                    10       2         0       0             2   \n",
       "117104                    10       2         0       0             2   \n",
       "\n",
       "        AVG_ROOMS_PER_NIGHT  TOTAL_ROOM_NIGHTS MEAL COUNTRY MARKET_SEGMENT  \\\n",
       "0                         1                  2   BB     PRT         Groups   \n",
       "1                         1                  2   BB     PRT         Groups   \n",
       "2                         1                  2   BB     PRT         Groups   \n",
       "3                         1                  2   BB     PRT         Groups   \n",
       "4                         1                  2   BB     PRT         Groups   \n",
       "...                     ...                ...  ...     ...            ...   \n",
       "117100                    1                 17   BB     GBR  Offline TA/TO   \n",
       "117101                    1                 10   BB     GBR  Offline TA/TO   \n",
       "117102                    1                 14   BB     IRL         Direct   \n",
       "117103                    1                 14   HB     DEU  Offline TA/TO   \n",
       "117104                    1                 14   HB     GBR  Offline TA/TO   \n",
       "\n",
       "       DISTRIBUTION_CHANNEL  PREVIOUS_CANCELLATIONS  \\\n",
       "0                     TA/TO                       1   \n",
       "1                     TA/TO                       1   \n",
       "2                     TA/TO                       1   \n",
       "3                     TA/TO                       1   \n",
       "4                     TA/TO                       1   \n",
       "...                     ...                     ...   \n",
       "117100                TA/TO                       0   \n",
       "117101                TA/TO                       0   \n",
       "117102               Direct                       0   \n",
       "117103                TA/TO                       0   \n",
       "117104                TA/TO                       0   \n",
       "\n",
       "        PREVIOUS_BOOKINGS_NOT_CANCELED RESERVED_ROOM_TYPE ASSIGNED_ROOM_TYPE  \\\n",
       "0                                    0                  A                  A   \n",
       "1                                    0                  A                  A   \n",
       "2                                    0                  A                  A   \n",
       "3                                    0                  A                  A   \n",
       "4                                    0                  A                  A   \n",
       "...                                ...                ...                ...   \n",
       "117100                               0                  D                  D   \n",
       "117101                               0                  A                  A   \n",
       "117102                               0                  E                  E   \n",
       "117103                               0                  A                  A   \n",
       "117104                               0                  D                  D   \n",
       "\n",
       "       DEPOSIT_TYPE  DAYS_IN_WAITING_LIST    CUSTOMER_TYPE     ADR  \n",
       "0        No Deposit                     0  Transient.Party   62.80  \n",
       "1        No Deposit                     0  Transient.Party   62.80  \n",
       "2        No Deposit                     0  Transient.Party   62.80  \n",
       "3        No Deposit                     0  Transient.Party   62.80  \n",
       "4        No Deposit                     0  Transient.Party   62.80  \n",
       "...             ...                   ...              ...     ...  \n",
       "117100   No Deposit                     0         Contract   84.80  \n",
       "117101   No Deposit                     0        Transient   89.75  \n",
       "117102   No Deposit                     0        Transient  153.57  \n",
       "117103   No Deposit                     0        Transient   99.06  \n",
       "117104   No Deposit                     0         Contract  112.80  \n",
       "\n",
       "[117105 rows x 32 columns]"
      ]
     },
     "execution_count": 3,
     "metadata": {},
     "output_type": "execute_result"
    }
   ],
   "source": [
    "data = pd.read_csv('./bookings.csv')\n",
    "data"
   ]
  },
  {
   "cell_type": "code",
   "execution_count": null,
   "id": "1b2297b8",
   "metadata": {},
   "outputs": [],
   "source": [
    "data.tail()"
   ]
  },
  {
   "cell_type": "code",
   "execution_count": 4,
   "id": "779e96e5",
   "metadata": {},
   "outputs": [
    {
     "name": "stderr",
     "output_type": "stream",
     "text": [
      "<ipython-input-4-48c2fc89ab93>:2: UserWarning: Parsing dates in %d-%m-%Y format when dayfirst=False (the default) was specified. Pass `dayfirst=True` or specify a format to silence this warning.\n",
      "  data['RESERVATION_STATUS_DATE'] = pd.to_datetime(data['RESERVATION_STATUS_DATE'], errors='coerce')\n"
     ]
    },
    {
     "data": {
      "text/plain": [
       "0        272 days\n",
       "1        307 days\n",
       "2        258 days\n",
       "3        307 days\n",
       "4        279 days\n",
       "           ...   \n",
       "117100   -17 days\n",
       "117101   -10 days\n",
       "117102   -14 days\n",
       "117103   -14 days\n",
       "117104   -14 days\n",
       "Length: 117105, dtype: timedelta64[ns]"
      ]
     },
     "execution_count": 4,
     "metadata": {},
     "output_type": "execute_result"
    }
   ],
   "source": [
    "data['EXPECTED_ARRIVAL_DATE'] = pd.to_datetime(data['EXPECTED_ARRIVAL_DATE'], errors='coerce')\n",
    "data['RESERVATION_STATUS_DATE'] = pd.to_datetime(data['RESERVATION_STATUS_DATE'], errors='coerce')\n",
    "data['EXPECTED_ARRIVAL_DATE'] - data['RESERVATION_STATUS_DATE']"
   ]
  },
  {
   "cell_type": "code",
   "execution_count": 5,
   "id": "98e793fb",
   "metadata": {},
   "outputs": [
    {
     "data": {
      "text/plain": [
       "0"
      ]
     },
     "execution_count": 5,
     "metadata": {},
     "output_type": "execute_result"
    }
   ],
   "source": [
    "data['LEAD_TIME'].min()"
   ]
  },
  {
   "cell_type": "code",
   "execution_count": 6,
   "id": "c7ce45ac",
   "metadata": {},
   "outputs": [
    {
     "data": {
      "text/plain": [
       "709"
      ]
     },
     "execution_count": 6,
     "metadata": {},
     "output_type": "execute_result"
    }
   ],
   "source": [
    "data['LEAD_TIME'].max()"
   ]
  },
  {
   "cell_type": "code",
   "execution_count": 7,
   "id": "3e878f2b",
   "metadata": {},
   "outputs": [
    {
     "data": {
      "text/plain": [
       "105.19527774219718"
      ]
     },
     "execution_count": 7,
     "metadata": {},
     "output_type": "execute_result"
    }
   ],
   "source": [
    "data['LEAD_TIME'].mean()"
   ]
  },
  {
   "cell_type": "code",
   "execution_count": 8,
   "id": "e50bd111",
   "metadata": {
    "scrolled": true
   },
   "outputs": [
    {
     "data": {
      "text/plain": [
       "Index(['HOTEL', 'IS_CANCELED', 'LEAD_TIME', 'ARRIVAL_DATE_YEAR', 'MONTH',\n",
       "       'ARRIVAL_DATE_WEEK_NUMBER', 'ARRIVAL_DATE_DAY_OF_MONTH',\n",
       "       'EXPECTED_ARRIVAL_DATE', 'RESERVATION_STATUS',\n",
       "       'RESERVATION_STATUS_DATE', 'TOTAL_STAY_NIGHTS', 'TALLY_DAYS',\n",
       "       'STAYS_IN_WEEKEND_NIGHTS', 'STAYS_IN_WEEK_NIGHTS', 'ADULTS', 'CHILDREN',\n",
       "       'BABIES', 'TOTAL_GUESTS', 'AVG_ROOMS_PER_NIGHT', 'TOTAL_ROOM_NIGHTS',\n",
       "       'MEAL', 'COUNTRY', 'MARKET_SEGMENT', 'DISTRIBUTION_CHANNEL',\n",
       "       'PREVIOUS_CANCELLATIONS', 'PREVIOUS_BOOKINGS_NOT_CANCELED',\n",
       "       'RESERVED_ROOM_TYPE', 'ASSIGNED_ROOM_TYPE', 'DEPOSIT_TYPE',\n",
       "       'DAYS_IN_WAITING_LIST', 'CUSTOMER_TYPE', 'ADR'],\n",
       "      dtype='object')"
      ]
     },
     "execution_count": 8,
     "metadata": {},
     "output_type": "execute_result"
    }
   ],
   "source": [
    "data.columns"
   ]
  },
  {
   "cell_type": "code",
   "execution_count": 9,
   "id": "d4d8bdc9",
   "metadata": {},
   "outputs": [
    {
     "data": {
      "text/plain": [
       "Timestamp('2021-07-01 00:00:00')"
      ]
     },
     "execution_count": 9,
     "metadata": {},
     "output_type": "execute_result"
    }
   ],
   "source": [
    "pd.to_datetime(data['EXPECTED_ARRIVAL_DATE']).min()"
   ]
  },
  {
   "cell_type": "code",
   "execution_count": 10,
   "id": "01ae2832",
   "metadata": {},
   "outputs": [
    {
     "data": {
      "text/plain": [
       "Timestamp('2023-08-31 00:00:00')"
      ]
     },
     "execution_count": 10,
     "metadata": {},
     "output_type": "execute_result"
    }
   ],
   "source": [
    "pd.to_datetime(data['EXPECTED_ARRIVAL_DATE']).max()"
   ]
  },
  {
   "cell_type": "code",
   "execution_count": 11,
   "id": "f22e6351",
   "metadata": {},
   "outputs": [],
   "source": [
    "data['EXPECTED_ARRIVAL_DATE'] = pd.to_datetime(data['EXPECTED_ARRIVAL_DATE'], errors='coerce')\n",
    "data['RESERVATION_STATUS_DATE'] = pd.to_datetime(data['RESERVATION_STATUS_DATE'], errors='coerce')"
   ]
  },
  {
   "cell_type": "code",
   "execution_count": 12,
   "id": "fd4c2928",
   "metadata": {},
   "outputs": [
    {
     "data": {
      "text/plain": [
       "2819    2021-07-01\n",
       "2953    2021-07-01\n",
       "1427    2021-07-01\n",
       "2950    2021-07-01\n",
       "2949    2021-07-01\n",
       "           ...    \n",
       "34089          NaT\n",
       "34149          NaT\n",
       "34275          NaT\n",
       "34319          NaT\n",
       "34859          NaT\n",
       "Name: EXPECTED_ARRIVAL_DATE, Length: 117105, dtype: datetime64[ns]"
      ]
     },
     "execution_count": 12,
     "metadata": {},
     "output_type": "execute_result"
    }
   ],
   "source": [
    "data.sort_values(by='EXPECTED_ARRIVAL_DATE')['EXPECTED_ARRIVAL_DATE']"
   ]
  },
  {
   "cell_type": "code",
   "execution_count": 13,
   "id": "2be15e5d",
   "metadata": {},
   "outputs": [],
   "source": [
    "original_last_date = datetime(2023, 8, 31)\n",
    "target_date = datetime(2024, 6, 30)"
   ]
  },
  {
   "cell_type": "code",
   "execution_count": 14,
   "id": "4552ad4b",
   "metadata": {},
   "outputs": [
    {
     "data": {
      "text/plain": [
       "Timestamp('2021-07-01 00:00:00')"
      ]
     },
     "execution_count": 14,
     "metadata": {},
     "output_type": "execute_result"
    }
   ],
   "source": [
    "original_min_date = data['EXPECTED_ARRIVAL_DATE'].min()\n",
    "original_min_date"
   ]
  },
  {
   "cell_type": "code",
   "execution_count": 15,
   "id": "4bae8355",
   "metadata": {},
   "outputs": [
    {
     "data": {
      "text/plain": [
       "304"
      ]
     },
     "execution_count": 15,
     "metadata": {},
     "output_type": "execute_result"
    }
   ],
   "source": [
    "days_to_add = (target_date - original_last_date).days\n",
    "days_to_add"
   ]
  },
  {
   "cell_type": "code",
   "execution_count": 16,
   "id": "2b3e11d2",
   "metadata": {},
   "outputs": [],
   "source": [
    "data['NEW_RES_TIME'] = 0"
   ]
  },
  {
   "cell_type": "code",
   "execution_count": 18,
   "id": "39a6b39e",
   "metadata": {},
   "outputs": [
    {
     "data": {
      "text/plain": [
       "0"
      ]
     },
     "execution_count": 18,
     "metadata": {},
     "output_type": "execute_result"
    }
   ],
   "source": [
    "data['NEW_RES_TIME'].loc[0]"
   ]
  },
  {
   "cell_type": "code",
   "execution_count": 19,
   "id": "19ef683a",
   "metadata": {},
   "outputs": [
    {
     "data": {
      "text/plain": [
       "272"
      ]
     },
     "execution_count": 19,
     "metadata": {},
     "output_type": "execute_result"
    }
   ],
   "source": [
    "data['LEAD_TIME'].iloc[0]"
   ]
  },
  {
   "cell_type": "code",
   "execution_count": 20,
   "id": "d65a042a",
   "metadata": {},
   "outputs": [
    {
     "data": {
      "text/plain": [
       "272"
      ]
     },
     "execution_count": 20,
     "metadata": {},
     "output_type": "execute_result"
    }
   ],
   "source": [
    "int(data['LEAD_TIME'].iloc[0])"
   ]
  },
  {
   "cell_type": "code",
   "execution_count": null,
   "id": "1481ece6",
   "metadata": {},
   "outputs": [],
   "source": [
    "data['EXPECTED_ARRIVAL_DATE'].iloc[0] -  timedelta(days=int(data['LEAD_TIME'].iloc[0]))"
   ]
  },
  {
   "cell_type": "code",
   "execution_count": 21,
   "id": "34e4fc2b",
   "metadata": {},
   "outputs": [
    {
     "name": "stderr",
     "output_type": "stream",
     "text": [
      "<ipython-input-21-9203a18b5794>:2: SettingWithCopyWarning: \n",
      "A value is trying to be set on a copy of a slice from a DataFrame\n",
      "\n",
      "See the caveats in the documentation: https://pandas.pydata.org/pandas-docs/stable/user_guide/indexing.html#returning-a-view-versus-a-copy\n",
      "  data['NEW_RES_TIME'].iloc[index] = data['EXPECTED_ARRIVAL_DATE'].iloc[index] - timedelta(days=int(data['LEAD_TIME'].iloc[index]))\n"
     ]
    }
   ],
   "source": [
    "for index, row in data.iterrows():\n",
    "    data['NEW_RES_TIME'].iloc[index] = data['EXPECTED_ARRIVAL_DATE'].iloc[index] - timedelta(days=int(data['LEAD_TIME'].iloc[index]))"
   ]
  },
  {
   "cell_type": "code",
   "execution_count": 22,
   "id": "d8dd253d",
   "metadata": {},
   "outputs": [
    {
     "data": {
      "text/plain": [
       "0         2020-10-17 00:00:00\n",
       "1         2020-10-17 00:00:00\n",
       "2         2020-10-17 00:00:00\n",
       "3         2020-10-17 00:00:00\n",
       "4         2020-10-17 00:00:00\n",
       "                 ...         \n",
       "117100    2022-11-28 00:00:00\n",
       "117101    2023-01-31 00:00:00\n",
       "117102    2023-02-06 00:00:00\n",
       "117103    2023-03-23 00:00:00\n",
       "117104    2023-02-01 00:00:00\n",
       "Name: NEW_RES_TIME, Length: 117105, dtype: object"
      ]
     },
     "execution_count": 22,
     "metadata": {},
     "output_type": "execute_result"
    }
   ],
   "source": [
    "data['NEW_RES_TIME']"
   ]
  },
  {
   "cell_type": "code",
   "execution_count": 23,
   "id": "907684c3",
   "metadata": {
    "scrolled": true
   },
   "outputs": [],
   "source": [
    "data['EXPECTED_ARRIVAL_DATE'] = data['EXPECTED_ARRIVAL_DATE'] + timedelta(days=days_to_add)\n",
    "data['RESERVATION_STATUS_DATE'] = data['NEW_RES_TIME'] + timedelta(days=days_to_add)"
   ]
  },
  {
   "cell_type": "code",
   "execution_count": 24,
   "id": "b95ca2c9",
   "metadata": {},
   "outputs": [
    {
     "name": "stderr",
     "output_type": "stream",
     "text": [
      "<ipython-input-24-23265ab83679>:1: PerformanceWarning: Adding/subtracting object-dtype array to DatetimeArray not vectorized.\n",
      "  data['LEAD_TIME_UPDATED'] = data['EXPECTED_ARRIVAL_DATE'] - data['RESERVATION_STATUS_DATE']\n"
     ]
    }
   ],
   "source": [
    "data['LEAD_TIME_UPDATED'] = data['EXPECTED_ARRIVAL_DATE'] - data['RESERVATION_STATUS_DATE']"
   ]
  },
  {
   "cell_type": "code",
   "execution_count": 32,
   "id": "6b1756a8",
   "metadata": {},
   "outputs": [
    {
     "ename": "AttributeError",
     "evalue": "'Timedelta' object has no attribute 'split'",
     "output_type": "error",
     "traceback": [
      "\u001b[0;31m---------------------------------------------------------------------------\u001b[0m",
      "\u001b[0;31mAttributeError\u001b[0m                            Traceback (most recent call last)",
      "Cell \u001b[0;32mIn[32], line 1\u001b[0m\n\u001b[0;32m----> 1\u001b[0m \u001b[43mdata\u001b[49m\u001b[43m[\u001b[49m\u001b[38;5;124;43m'\u001b[39;49m\u001b[38;5;124;43mLEAD_TIME_UPDATED\u001b[39;49m\u001b[38;5;124;43m'\u001b[39;49m\u001b[43m]\u001b[49m\u001b[38;5;241;43m.\u001b[39;49m\u001b[43mapply\u001b[49m\u001b[43m(\u001b[49m\u001b[38;5;28;43;01mlambda\u001b[39;49;00m\u001b[43m \u001b[49m\u001b[43mx\u001b[49m\u001b[43m:\u001b[49m\u001b[43m \u001b[49m\u001b[38;5;28;43mint\u001b[39;49m\u001b[43m(\u001b[49m\u001b[43mx\u001b[49m\u001b[38;5;241;43m.\u001b[39;49m\u001b[43msplit\u001b[49m\u001b[43m(\u001b[49m\u001b[43m)\u001b[49m\u001b[43m[\u001b[49m\u001b[38;5;241;43m0\u001b[39;49m\u001b[43m]\u001b[49m\u001b[43m)\u001b[49m\u001b[43m)\u001b[49m\n",
      "File \u001b[0;32m/packages/Python-3.8-Snowpark/86595857-4c87-4db3-814d-b3b9191f5ae5/3.8/pandas/core/series.py:4630\u001b[0m, in \u001b[0;36mSeries.apply\u001b[0;34m(self, func, convert_dtype, args, **kwargs)\u001b[0m\n\u001b[1;32m   4520\u001b[0m \u001b[38;5;28;01mdef\u001b[39;00m \u001b[38;5;21mapply\u001b[39m(\n\u001b[1;32m   4521\u001b[0m     \u001b[38;5;28mself\u001b[39m,\n\u001b[1;32m   4522\u001b[0m     func: AggFuncType,\n\u001b[0;32m   (...)\u001b[0m\n\u001b[1;32m   4525\u001b[0m     \u001b[38;5;241m*\u001b[39m\u001b[38;5;241m*\u001b[39mkwargs,\n\u001b[1;32m   4526\u001b[0m ) \u001b[38;5;241m-\u001b[39m\u001b[38;5;241m>\u001b[39m DataFrame \u001b[38;5;241m|\u001b[39m Series:\n\u001b[1;32m   4527\u001b[0m \u001b[38;5;250m    \u001b[39m\u001b[38;5;124;03m\"\"\"\u001b[39;00m\n\u001b[1;32m   4528\u001b[0m \u001b[38;5;124;03m    Invoke function on values of Series.\u001b[39;00m\n\u001b[1;32m   4529\u001b[0m \n\u001b[0;32m   (...)\u001b[0m\n\u001b[1;32m   4628\u001b[0m \u001b[38;5;124;03m    dtype: float64\u001b[39;00m\n\u001b[1;32m   4629\u001b[0m \u001b[38;5;124;03m    \"\"\"\u001b[39;00m\n\u001b[0;32m-> 4630\u001b[0m     \u001b[38;5;28;01mreturn\u001b[39;00m \u001b[43mSeriesApply\u001b[49m\u001b[43m(\u001b[49m\u001b[38;5;28;43mself\u001b[39;49m\u001b[43m,\u001b[49m\u001b[43m \u001b[49m\u001b[43mfunc\u001b[49m\u001b[43m,\u001b[49m\u001b[43m \u001b[49m\u001b[43mconvert_dtype\u001b[49m\u001b[43m,\u001b[49m\u001b[43m \u001b[49m\u001b[43margs\u001b[49m\u001b[43m,\u001b[49m\u001b[43m \u001b[49m\u001b[43mkwargs\u001b[49m\u001b[43m)\u001b[49m\u001b[38;5;241;43m.\u001b[39;49m\u001b[43mapply\u001b[49m\u001b[43m(\u001b[49m\u001b[43m)\u001b[49m\n",
      "File \u001b[0;32m/packages/Python-3.8-Snowpark/86595857-4c87-4db3-814d-b3b9191f5ae5/3.8/pandas/core/apply.py:1025\u001b[0m, in \u001b[0;36mSeriesApply.apply\u001b[0;34m(self)\u001b[0m\n\u001b[1;32m   1022\u001b[0m     \u001b[38;5;28;01mreturn\u001b[39;00m \u001b[38;5;28mself\u001b[39m\u001b[38;5;241m.\u001b[39mapply_str()\n\u001b[1;32m   1024\u001b[0m \u001b[38;5;66;03m# self.f is Callable\u001b[39;00m\n\u001b[0;32m-> 1025\u001b[0m \u001b[38;5;28;01mreturn\u001b[39;00m \u001b[38;5;28;43mself\u001b[39;49m\u001b[38;5;241;43m.\u001b[39;49m\u001b[43mapply_standard\u001b[49m\u001b[43m(\u001b[49m\u001b[43m)\u001b[49m\n",
      "File \u001b[0;32m/packages/Python-3.8-Snowpark/86595857-4c87-4db3-814d-b3b9191f5ae5/3.8/pandas/core/apply.py:1076\u001b[0m, in \u001b[0;36mSeriesApply.apply_standard\u001b[0;34m(self)\u001b[0m\n\u001b[1;32m   1074\u001b[0m     \u001b[38;5;28;01melse\u001b[39;00m:\n\u001b[1;32m   1075\u001b[0m         values \u001b[38;5;241m=\u001b[39m obj\u001b[38;5;241m.\u001b[39mastype(\u001b[38;5;28mobject\u001b[39m)\u001b[38;5;241m.\u001b[39m_values\n\u001b[0;32m-> 1076\u001b[0m         mapped \u001b[38;5;241m=\u001b[39m \u001b[43mlib\u001b[49m\u001b[38;5;241;43m.\u001b[39;49m\u001b[43mmap_infer\u001b[49m\u001b[43m(\u001b[49m\n\u001b[1;32m   1077\u001b[0m \u001b[43m            \u001b[49m\u001b[43mvalues\u001b[49m\u001b[43m,\u001b[49m\n\u001b[1;32m   1078\u001b[0m \u001b[43m            \u001b[49m\u001b[43mf\u001b[49m\u001b[43m,\u001b[49m\n\u001b[1;32m   1079\u001b[0m \u001b[43m            \u001b[49m\u001b[43mconvert\u001b[49m\u001b[38;5;241;43m=\u001b[39;49m\u001b[38;5;28;43mself\u001b[39;49m\u001b[38;5;241;43m.\u001b[39;49m\u001b[43mconvert_dtype\u001b[49m\u001b[43m,\u001b[49m\n\u001b[1;32m   1080\u001b[0m \u001b[43m        \u001b[49m\u001b[43m)\u001b[49m\n\u001b[1;32m   1082\u001b[0m \u001b[38;5;28;01mif\u001b[39;00m \u001b[38;5;28mlen\u001b[39m(mapped) \u001b[38;5;129;01mand\u001b[39;00m \u001b[38;5;28misinstance\u001b[39m(mapped[\u001b[38;5;241m0\u001b[39m], ABCSeries):\n\u001b[1;32m   1083\u001b[0m     \u001b[38;5;66;03m# GH#43986 Need to do list(mapped) in order to get treated as nested\u001b[39;00m\n\u001b[1;32m   1084\u001b[0m     \u001b[38;5;66;03m#  See also GH#25959 regarding EA support\u001b[39;00m\n\u001b[1;32m   1085\u001b[0m     \u001b[38;5;28;01mreturn\u001b[39;00m obj\u001b[38;5;241m.\u001b[39m_constructor_expanddim(\u001b[38;5;28mlist\u001b[39m(mapped), index\u001b[38;5;241m=\u001b[39mobj\u001b[38;5;241m.\u001b[39mindex)\n",
      "File \u001b[0;32m/packages/Python-3.8-Snowpark/86595857-4c87-4db3-814d-b3b9191f5ae5/3.8/pandas/_libs/lib.pyx:2834\u001b[0m, in \u001b[0;36mpandas._libs.lib.map_infer\u001b[0;34m()\u001b[0m\n",
      "Cell \u001b[0;32mIn[32], line 1\u001b[0m, in \u001b[0;36m<lambda>\u001b[0;34m(x)\u001b[0m\n\u001b[0;32m----> 1\u001b[0m data[\u001b[38;5;124m'\u001b[39m\u001b[38;5;124mLEAD_TIME_UPDATED\u001b[39m\u001b[38;5;124m'\u001b[39m]\u001b[38;5;241m.\u001b[39mapply(\u001b[38;5;28;01mlambda\u001b[39;00m x: \u001b[38;5;28mint\u001b[39m(\u001b[43mx\u001b[49m\u001b[38;5;241;43m.\u001b[39;49m\u001b[43msplit\u001b[49m()[\u001b[38;5;241m0\u001b[39m]))\n",
      "\u001b[0;31mAttributeError\u001b[0m: 'Timedelta' object has no attribute 'split'"
     ]
    }
   ],
   "source": [
    "data['LEAD_TIME_UPDATED'].apply(lambda x: int(x.split()[0]))"
   ]
  },
  {
   "cell_type": "code",
   "execution_count": null,
   "id": "973d0023",
   "metadata": {},
   "outputs": [],
   "source": [
    "data['LEAD_TIME_UPDATED'].max()"
   ]
  },
  {
   "cell_type": "code",
   "execution_count": null,
   "id": "85ab737d",
   "metadata": {
    "scrolled": true
   },
   "outputs": [],
   "source": [
    "data['LEAD_TIME_UPDATED'] = data['LEAD_TIME_UPDATED'].dt.days"
   ]
  },
  {
   "cell_type": "code",
   "execution_count": null,
   "id": "7bb89acb",
   "metadata": {},
   "outputs": [],
   "source": [
    "data['LEAD_TIME_UPDATED']"
   ]
  },
  {
   "cell_type": "code",
   "execution_count": null,
   "id": "2eaf814c",
   "metadata": {},
   "outputs": [],
   "source": [
    "data[data[\"LEAD_TIME_UPDATED\"] < 0]"
   ]
  },
  {
   "cell_type": "code",
   "execution_count": null,
   "id": "34c3e02c",
   "metadata": {},
   "outputs": [],
   "source": []
  },
  {
   "cell_type": "code",
   "execution_count": null,
   "id": "867c8b7d",
   "metadata": {},
   "outputs": [],
   "source": [
    "data['EXPECTED_ARRIVAL_DATE'].min()"
   ]
  },
  {
   "cell_type": "code",
   "execution_count": null,
   "id": "6f8bf19e",
   "metadata": {},
   "outputs": [],
   "source": [
    "data['EXPECTED_ARRIVAL_DATE'].max()"
   ]
  },
  {
   "cell_type": "code",
   "execution_count": null,
   "id": "b1584f34",
   "metadata": {},
   "outputs": [],
   "source": [
    "import os\n",
    "from snowflake.snowpark.session import Session\n",
    "user = os.getenv(\"user\")\n",
    "warehouse = os.getenv(\"warehouse\")\n",
    "schema= os.getenv(\"schema\")\n",
    "database = os.getenv(\"database\")\n",
    "role =  os.getenv(\"role\")\n",
    "account =  os.getenv(\"account\")\n",
    "password= os.getenv(\"password\")\n",
    "\n",
    "connection_params = dict(user=user, \n",
    "                         password=password, \n",
    "                         account=account, \n",
    "                         warehouse=warehouse, \n",
    "                         database=database,\n",
    "                         schema=schema, \n",
    "                         role=role)\n",
    "\n",
    "session = Session.builder.configs(connection_params).create()\n",
    "\n",
    "session.sql('use warehouse {};'.format(warehouse)).collect()\n",
    "\n",
    "session.sql('use database {};'.format(database)).collect()\n",
    "\n",
    "session.sql('use schema {}.{};'.format(database, schema)).collect()"
   ]
  },
  {
   "cell_type": "code",
   "execution_count": null,
   "id": "5d95de14",
   "metadata": {},
   "outputs": [],
   "source": [
    "data.info()"
   ]
  },
  {
   "cell_type": "code",
   "execution_count": null,
   "id": "581a7d09",
   "metadata": {},
   "outputs": [],
   "source": [
    "data[\"EXPECTED_ARRIVAL_DATE\"] = pd.to_datetime(data[\"EXPECTED_ARRIVAL_DATE\"]).dt.strftime(\"%Y-%m-%d %H:%M:%S\")\n"
   ]
  },
  {
   "cell_type": "code",
   "execution_count": null,
   "id": "2a55f64b",
   "metadata": {},
   "outputs": [],
   "source": [
    "data.info()"
   ]
  },
  {
   "cell_type": "code",
   "execution_count": null,
   "id": "74accff5",
   "metadata": {},
   "outputs": [],
   "source": [
    "df_model=session.createDataFrame(\n",
    "        data_backup.values.tolist(),\n",
    "        schema=data_backup.columns.tolist())\n",
    "df_model.write.mode(\"overwrite\").save_as_table(\"TTH_DB.TTH_REV_OPT_Schema.BOOKINGS\")"
   ]
  },
  {
   "cell_type": "code",
   "execution_count": null,
   "id": "2982b126",
   "metadata": {},
   "outputs": [],
   "source": [
    "data['EXPECTED_ARRIVAL_DATE'].isna().sum()"
   ]
  },
  {
   "cell_type": "code",
   "execution_count": null,
   "id": "11b0416b",
   "metadata": {},
   "outputs": [],
   "source": [
    "data_backup = data.dropna(axis=0)"
   ]
  },
  {
   "cell_type": "code",
   "execution_count": null,
   "id": "3d76ebd1",
   "metadata": {},
   "outputs": [],
   "source": [
    "data_backup['EXPECTED_ARRIVAL_DATE'].min()"
   ]
  },
  {
   "cell_type": "code",
   "execution_count": null,
   "id": "18abbe26",
   "metadata": {},
   "outputs": [],
   "source": [
    "data_backup['EXPECTED_ARRIVAL_DATE'].max()"
   ]
  },
  {
   "cell_type": "code",
   "execution_count": null,
   "id": "43dfd5d9",
   "metadata": {},
   "outputs": [],
   "source": [
    "117105 - 117009"
   ]
  }
 ],
 "metadata": {
  "kernelspec": {
   "display_name": "Python 3",
   "language": "python",
   "name": "python3"
  },
  "language_info": {
   "codemirror_mode": {
    "name": "ipython",
    "version": 3
   },
   "file_extension": ".py",
   "mimetype": "text/x-python",
   "name": "python",
   "nbconvert_exporter": "python",
   "pygments_lexer": "ipython3",
   "version": "3.8.18"
  }
 },
 "nbformat": 4,
 "nbformat_minor": 5
}
