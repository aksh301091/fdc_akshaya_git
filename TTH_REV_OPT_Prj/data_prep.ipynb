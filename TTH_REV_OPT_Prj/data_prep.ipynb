{
 "cells": [
  {
   "cell_type": "markdown",
   "id": "8040318b",
   "metadata": {},
   "source": [
    "# install libraries"
   ]
  },
  {
   "cell_type": "code",
   "execution_count": null,
   "id": "e0d7206a",
   "metadata": {},
   "outputs": [],
   "source": [
    "!pip install --upgrade pip\n",
    "!pip install \"snowflake-connector-python[pandas]\" \"snowflake-snowpark-python[pandas]\" snowflake-snowpark-python==1.9.0 fosforio fosforml numpy pandas matplotlib scikit-learn xgboost seaborn python-dateutil tqdm holidays\n",
    "!pip install --upgrade --q snowflake-snowpark-python==1.9.0\n",
    "!pip uninstall urllib3 -y\n",
    "!pip install urllib3==1.26.15"
   ]
  },
  {
   "cell_type": "markdown",
   "id": "8ef66af3",
   "metadata": {},
   "source": [
    "# Import helper libraries"
   ]
  },
  {
   "cell_type": "code",
   "execution_count": null,
   "id": "983cfe35",
   "metadata": {},
   "outputs": [],
   "source": [
    "from fosforio import snowflake\n",
    "from fosforml import *\n",
    "from fosforml.constants import MLModelFlavours\n",
    "from fosforio import get_dataframe\n",
    "from matplotlib import pyplot as plt\n",
    "import pandas as pd\n",
    "pd.set_option('display.max_columns', 500)\n",
    "import seaborn as sns\n",
    "from sklearn.metrics import mean_absolute_percentage_error\n",
    "import numpy as np\n",
    "import warnings; warnings.simplefilter('ignore')\n",
    "from joblib import dump, load\n",
    "import requests\n",
    "from tqdm import tqdm\n",
    "import time\n",
    "import calendar\n",
    "\n",
    "from time import sleep\n",
    "import configparser\n",
    "from dateutil.relativedelta import relativedelta\n",
    "import datetime\n",
    "from dateutil.easter import easter\n",
    "from scipy.optimize import minimize_scalar\n",
    "from scipy.optimize import curve_fit\n",
    "\n",
    "%matplotlib inline"
   ]
  },
  {
   "cell_type": "markdown",
   "id": "3e3c7d04",
   "metadata": {},
   "source": [
    "# connect to snowflake"
   ]
  },
  {
   "cell_type": "code",
   "execution_count": null,
   "id": "53efc342",
   "metadata": {},
   "outputs": [],
   "source": [
    "snowflake.get_connection(connection_name=\"TTH_REV_OPT_CXN\")\n",
    "data = get_dataframe(\"BOOKINGS_TRANSFORMED\")\n",
    "data"
   ]
  },
  {
   "cell_type": "code",
   "execution_count": null,
   "id": "838d5fa6",
   "metadata": {},
   "outputs": [],
   "source": [
    "data.columns = [x.lower() for x in data.columns]"
   ]
  },
  {
   "cell_type": "code",
   "execution_count": null,
   "id": "0de05c6b",
   "metadata": {},
   "outputs": [],
   "source": [
    "data.columns"
   ]
  },
  {
   "cell_type": "markdown",
   "id": "a5fa4084",
   "metadata": {},
   "source": [
    "# removing Canceletions and no-shows and keep City hotel data only\n"
   ]
  },
  {
   "cell_type": "code",
   "execution_count": null,
   "id": "c8ebc74e",
   "metadata": {},
   "outputs": [],
   "source": [
    "df = data[(data['is_canceled'] == 0) & (data['reservation_status'] !='No-Show')] \n",
    "df"
   ]
  },
  {
   "cell_type": "code",
   "execution_count": null,
   "id": "07d75d01",
   "metadata": {},
   "outputs": [],
   "source": [
    "df.groupby(['hotel','market_segment','reserved_room_type']).agg({'adr':'mean','reservation_status_date_transformed':'count'})\n"
   ]
  },
  {
   "cell_type": "code",
   "execution_count": null,
   "id": "2a61dc08",
   "metadata": {},
   "outputs": [],
   "source": [
    "data = df[(df.market_segment != 'Complementary') ]\n",
    "data = data[(data.reserved_room_type == 'A') |(data.reserved_room_type == 'D') | (data.reserved_room_type == 'E')]\n",
    "data.reserved_room_type.value_counts()\n"
   ]
  },
  {
   "cell_type": "code",
   "execution_count": null,
   "id": "bd1b07ca",
   "metadata": {},
   "outputs": [],
   "source": [
    "data.info()\n"
   ]
  },
  {
   "cell_type": "code",
   "execution_count": null,
   "id": "fe078cb2",
   "metadata": {},
   "outputs": [],
   "source": [
    "hotels = data['hotel'].unique()\n",
    "room_types = data['reserved_room_type'].unique()"
   ]
  },
  {
   "cell_type": "code",
   "execution_count": null,
   "id": "dc594eb8",
   "metadata": {},
   "outputs": [],
   "source": [
    "data['total_rns'] = data['stays_in_week_nights'] + data['stays_in_weekend_nights']\n",
    "data_to_transform = data[['hotel','reserved_room_type','arrival_date_transformed','total_rns','adr']]\n",
    "data_to_transform"
   ]
  },
  {
   "cell_type": "code",
   "execution_count": null,
   "id": "98edc3c7",
   "metadata": {},
   "outputs": [],
   "source": [
    "import os\n",
    "from snowflake.snowpark.session import Session\n",
    "user = os.getenv(\"user\")\n",
    "warehouse = os.getenv(\"warehouse\")\n",
    "schema= os.getenv(\"schema\")\n",
    "database = os.getenv(\"database\")\n",
    "role =  os.getenv(\"role\")\n",
    "account =  os.getenv(\"account\")\n",
    "password= os.getenv(\"password\")\n",
    "\n",
    "connection_params = dict(user=user, \n",
    "                         password=password, \n",
    "                         account=account, \n",
    "                         warehouse=warehouse, \n",
    "                         database=database,\n",
    "                         schema=schema, \n",
    "                         role=role)\n",
    "\n",
    "session = Session.builder.configs(connection_params).create()\n",
    "\n",
    "session.sql('use warehouse {};'.format(warehouse)).collect()\n",
    "\n",
    "session.sql('use database {};'.format(database)).collect()\n",
    "\n",
    "session.sql('use schema {}.{};'.format(database, schema)).collect()"
   ]
  },
  {
   "cell_type": "code",
   "execution_count": null,
   "id": "1d2ef4d3",
   "metadata": {},
   "outputs": [],
   "source": []
  },
  {
   "cell_type": "markdown",
   "id": "9b8ba8a9",
   "metadata": {},
   "source": [
    "# Create a new dataframe to store the data by stay date"
   ]
  },
  {
   "cell_type": "code",
   "execution_count": null,
   "id": "b98c4d1b",
   "metadata": {},
   "outputs": [],
   "source": [
    "expanded_df = pd.DataFrame()\n",
    "\n",
    "for _, row in data.iterrows():\n",
    "    num_stay_dates = row['total_rns']\n",
    "    try:\n",
    "        # Create a row for each stay date\n",
    "        expanded_booking = pd.DataFrame({\n",
    "            'hotel': row['hotel'],\n",
    "            'room_type': row['reserved_room_type'], \n",
    "            'arrival_date': pd.date_range(start=row['expected_arrival_date'], periods=num_stay_dates),\n",
    "            'total_rns': 1,\n",
    "            'adr': row['adr']\n",
    "        })\n",
    "        \n",
    "        # Append the stay date information to the new dataframe\n",
    "        expanded_df = pd.concat([expanded_df, expanded_booking], ignore_index=True)\n",
    "    except ValueError as e:\n",
    "        print(f\"Error processing booking for {row['hotel']} on {row['expected_arrival_date']} : {num_stay_dates} {e}\")\n",
    "\n",
    "\n"
   ]
  },
  {
   "cell_type": "markdown",
   "id": "0be4df76",
   "metadata": {},
   "source": [
    "# Sort the final dataframe by date"
   ]
  },
  {
   "cell_type": "code",
   "execution_count": null,
   "id": "168594ba",
   "metadata": {},
   "outputs": [],
   "source": [
    "expanded_df = expanded_df.sort_values('arrival_date')\n",
    "expanded_df = expanded_df.reset_index(drop=True)\n",
    "expanded_df"
   ]
  },
  {
   "cell_type": "code",
   "execution_count": null,
   "id": "c8a6c326",
   "metadata": {},
   "outputs": [],
   "source": [
    "expanded_df['adr']= np.round(expanded_df['adr'], 2)\n",
    "\n",
    "expanded_df\n"
   ]
  },
  {
   "cell_type": "markdown",
   "id": "52bb8a52",
   "metadata": {},
   "source": [
    "# Building seasonality"
   ]
  },
  {
   "cell_type": "code",
   "execution_count": null,
   "id": "d4ebad45",
   "metadata": {},
   "outputs": [],
   "source": [
    "import holidays\n",
    "holiday_dates = holidays.CountryHoliday('PT', years=[2020,2021,2022,2023])\n",
    "holidays = {\n",
    "    expected_arrival_date: name\n",
    "    for expected_arrival_date, name in holiday_dates.items()\n",
    "    if name in ['Ano Novo', 'Páscoa', 'Dia de Natal']\n",
    "}"
   ]
  },
  {
   "cell_type": "markdown",
   "id": "c1a11810",
   "metadata": {},
   "source": [
    "# rename holiday columns"
   ]
  },
  {
   "cell_type": "code",
   "execution_count": null,
   "id": "357cc18f",
   "metadata": {},
   "outputs": [],
   "source": []
  },
  {
   "cell_type": "code",
   "execution_count": null,
   "id": "57adc644",
   "metadata": {},
   "outputs": [],
   "source": [
    "expanded_df = expanded_df.rename({'Ano Novo':'new_year','Páscoa':'easter','Dia de Natal':'christmas'},axis=1)"
   ]
  },
  {
   "cell_type": "code",
   "execution_count": null,
   "id": "b408ca4e",
   "metadata": {},
   "outputs": [],
   "source": [
    "def generate_holiday_dates(start_year, end_year):\n",
    "    holidays = {}\n",
    "    for year in range(start_year, end_year + 1):\n",
    "        holidays[datetime.date(year, 1, 1)] = 'new_year'\n",
    "        easter_date = easter(year)\n",
    "        holidays[easter_date] = 'easter'\n",
    "        holidays[datetime.date(year, 12, 25)] = 'christmas'\n",
    "    return holidays\n",
    "\n",
    "holidays = generate_holiday_dates(2020, 2023)\n"
   ]
  },
  {
   "cell_type": "code",
   "execution_count": null,
   "id": "227ec526",
   "metadata": {},
   "outputs": [],
   "source": [
    "holidays"
   ]
  },
  {
   "cell_type": "code",
   "execution_count": null,
   "id": "339ecf00",
   "metadata": {},
   "outputs": [],
   "source": [
    "# Define pre and post ranges for each holiday\n",
    "pre_range_offset = {'new_year': relativedelta(days=-1),\n",
    "                    'easter': relativedelta(days=-2),\n",
    "                    'christmas': relativedelta(days=-3)}\n",
    "\n",
    "post_range_offset = {'new_year': relativedelta(days=1),\n",
    "                     'easter': relativedelta(days=2),\n",
    "                     'christmas': relativedelta(days=3)}"
   ]
  },
  {
   "cell_type": "code",
   "execution_count": null,
   "id": "0cafa047",
   "metadata": {},
   "outputs": [],
   "source": [
    "# Create new columns for each holiday\n",
    "for holiday in holidays.values():\n",
    "    expanded_df[holiday] = 0\n",
    " \n",
    " # Set the holiday columns to 1 for matching dates\n",
    "for arrival_date, name in holidays.items():\n",
    "    expanded_df.loc[expanded_df['arrival_date'] == arrival_date, name] = 1\n",
    "\n",
    "    # Set the holiday columns to 1 for pre and post dates\n",
    "    pre_offset = pre_range_offset.get(name)\n",
    "    if pre_offset:\n",
    "        pre_date = pd.to_datetime(arrival_date) + pre_offset\n",
    "        expanded_df.loc[expanded_df['arrival_date'] == pre_date.strftime('%Y-%m-%d'), name] = 1\n",
    "\n",
    "    post_offset = post_range_offset.get(name)\n",
    "    if post_offset:\n",
    "        post_date = pd.to_datetime(arrival_date) + post_offset\n",
    "        expanded_df.loc[expanded_df['arrival_date'] == post_date.strftime('%Y-%m-%d'), name] = 1"
   ]
  },
  {
   "cell_type": "code",
   "execution_count": null,
   "id": "551d034b",
   "metadata": {
    "scrolled": true
   },
   "outputs": [],
   "source": [
    "##check\n",
    "expanded_df.head()"
   ]
  },
  {
   "cell_type": "code",
   "execution_count": null,
   "id": "898ed484",
   "metadata": {},
   "outputs": [],
   "source": [
    "# Add dow, month to data\n",
    "expanded_df['dow'] = expanded_df.arrival_date.dt.strftime('%A')\n",
    "expanded_df['month'] = expanded_df.arrival_date.dt.strftime('%B')"
   ]
  },
  {
   "cell_type": "code",
   "execution_count": null,
   "id": "4116caac",
   "metadata": {
    "scrolled": true
   },
   "outputs": [],
   "source": [
    "##check\n",
    "expanded_df.head()"
   ]
  },
  {
   "cell_type": "code",
   "execution_count": null,
   "id": "6459a42d",
   "metadata": {},
   "outputs": [],
   "source": [
    "expanded_df.shape"
   ]
  },
  {
   "cell_type": "code",
   "execution_count": null,
   "id": "fd7a518e",
   "metadata": {},
   "outputs": [],
   "source": [
    "expanded_df.info()"
   ]
  },
  {
   "cell_type": "code",
   "execution_count": null,
   "id": "e1fb3fdf",
   "metadata": {},
   "outputs": [],
   "source": [
    "expanded_df[expanded_df['easter'] == 0]"
   ]
  },
  {
   "cell_type": "code",
   "execution_count": null,
   "id": "f28e7fff",
   "metadata": {},
   "outputs": [],
   "source": [
    "from scipy.optimize import brentq\n",
    "\n",
    "def demand_to_price(num_rooms, a, b, c, d, max_demand, optimal_price):\n",
    "    def root_func(x):\n",
    "        return num_rooms - (a * np.exp(-b * x) + c)\n",
    "\n",
    "    try:\n",
    "        price = brentq(root_func, 0, 200)  # Adjust the interval bounds as needed\n",
    "    except ValueError:\n",
    "        # Fallback to default price if no root is found\n",
    "        price_range=(0, optimal_price)\n",
    "        price = np.random.uniform(*price_range)\n",
    "\n",
    "    return price"
   ]
  },
  {
   "cell_type": "code",
   "execution_count": null,
   "id": "8aeb53c7",
   "metadata": {},
   "outputs": [],
   "source": [
    "expanded_df['adr'] = np.round(expanded_df['adr'], 2)\n",
    "expanded_df"
   ]
  },
  {
   "cell_type": "markdown",
   "id": "caa1dfe5",
   "metadata": {},
   "source": [
    "# Non holidays dataset"
   ]
  },
  {
   "cell_type": "code",
   "execution_count": null,
   "id": "ef8373c6",
   "metadata": {
    "scrolled": true
   },
   "outputs": [],
   "source": [
    "non_holidays = expanded_df[expanded_df[['new_year', 'easter', 'christmas']].sum(axis=1) == 0]\n",
    "\n",
    "non_holidays.head()"
   ]
  },
  {
   "cell_type": "code",
   "execution_count": null,
   "id": "49a3f1ba",
   "metadata": {},
   "outputs": [],
   "source": [
    "non_holidays.shape"
   ]
  },
  {
   "cell_type": "code",
   "execution_count": null,
   "id": "d007c879",
   "metadata": {},
   "outputs": [],
   "source": [
    "daily_rns= non_holidays.groupby(['arrival_date','dow','month', 'hotel', 'room_type']).agg({'total_rns':'sum'}).reset_index() # ge total stays per day\n",
    "\n",
    "daily_rns = daily_rns.groupby(['dow','month', 'hotel', 'room_type']).agg({'total_rns':['sum','mean','median']}).reset_index() # get Rns metrics by Dow & Month\n",
    "\n",
    "daily_rns.columns = ['_'.join(col) for col in daily_rns.columns] #remove multi level column\n",
    "daily_rns"
   ]
  },
  {
   "cell_type": "code",
   "execution_count": null,
   "id": "ba8f0f0c",
   "metadata": {},
   "outputs": [],
   "source": [
    "adr_frequency = non_holidays.groupby(['dow','month','adr', 'hotel', 'room_type']).agg({'total_rns':'sum'})\n",
    "adr_frequency.reset_index(inplace=True)"
   ]
  },
  {
   "cell_type": "code",
   "execution_count": null,
   "id": "67aa9a80",
   "metadata": {},
   "outputs": [],
   "source": [
    "adr_frequency"
   ]
  },
  {
   "cell_type": "code",
   "execution_count": null,
   "id": "3d21ea7a",
   "metadata": {},
   "outputs": [],
   "source": [
    "merged_df = pd.merge(adr_frequency, daily_rns,how='left',left_on=['dow','month', 'hotel', 'room_type'], right_on=['dow_','month_', 'hotel_', 'room_type_'],suffixes=('_act', '_tot'))\n",
    "\n",
    "merged_df = merged_df.drop(['dow_','month_'],axis=1)\n",
    "\n",
    "merged_df"
   ]
  },
  {
   "cell_type": "code",
   "execution_count": null,
   "id": "c1355c2e",
   "metadata": {},
   "outputs": [],
   "source": [
    "merged_df['probability'] = merged_df['total_rns']/merged_df['total_rns_sum']"
   ]
  },
  {
   "cell_type": "code",
   "execution_count": null,
   "id": "7cdaa3b5",
   "metadata": {},
   "outputs": [],
   "source": [
    "merged_df['expected_rns'] = merged_df['probability'] * merged_df['total_rns_median']"
   ]
  },
  {
   "cell_type": "code",
   "execution_count": null,
   "id": "6ba54f95",
   "metadata": {},
   "outputs": [],
   "source": [
    "merged_df = merged_df.sort_values(by=['dow', 'month', 'adr'], ascending=[True, True, False])"
   ]
  },
  {
   "cell_type": "code",
   "execution_count": null,
   "id": "78068d67",
   "metadata": {},
   "outputs": [],
   "source": [
    "merged_df['expected_demand']=merged_df.groupby(['dow', 'month'])['expected_rns'].cumsum()"
   ]
  },
  {
   "cell_type": "code",
   "execution_count": null,
   "id": "f609d904",
   "metadata": {},
   "outputs": [],
   "source": [
    "merged_df['expected_rev'] = merged_df['adr']* merged_df['expected_demand']"
   ]
  },
  {
   "cell_type": "code",
   "execution_count": null,
   "id": "ecd7b302",
   "metadata": {},
   "outputs": [],
   "source": [
    "merged_df['expected_rev'] = merged_df['adr']* merged_df['expected_demand']"
   ]
  },
  {
   "cell_type": "code",
   "execution_count": null,
   "id": "3c2c18ca",
   "metadata": {},
   "outputs": [],
   "source": [
    "merged_df[(merged_df.dow == 'Friday') & (merged_df.month =='April')].plot(x='adr', y='expected_demand', kind='line')"
   ]
  },
  {
   "cell_type": "code",
   "execution_count": null,
   "id": "e3c57bd7",
   "metadata": {},
   "outputs": [],
   "source": [
    "merged_df[(merged_df.dow == 'Friday') & (merged_df.month =='April')].plot(x='adr', y='expected_rev', kind='line')"
   ]
  },
  {
   "cell_type": "code",
   "execution_count": null,
   "id": "9630b51b",
   "metadata": {},
   "outputs": [],
   "source": [
    "from scipy.optimize import curve_fit\n",
    "\n",
    "# Define the demand curve function\n",
    "def demand_curve(x, a, b, c, d, max_demand):\n",
    "    demand = a * np.exp(-b * x) + c\n",
    "    demand = np.where(x <= max_demand, np.minimum(demand, max_demand), demand)\n",
    "    return demand + d\n"
   ]
  },
  {
   "cell_type": "code",
   "execution_count": null,
   "id": "856be003",
   "metadata": {},
   "outputs": [],
   "source": [
    "x_data = merged_df['adr'].values\n",
    "y_data = merged_df['expected_demand'].values\n",
    "\n",
    "\n",
    "initial_guess = [1, 0.01, 1, 1, 100]\n",
    "bounds = ([0, 0, 0, 0, 0], [np.inf, np.inf, np.inf, np.inf, np.inf])\n",
    "\n",
    "params, _ = curve_fit(demand_curve, x_data, y_data, bounds=bounds, p0=initial_guess)\n",
    "\n",
    "a_fit, b_fit, c_fit ,d_fit,max_demand= params"
   ]
  },
  {
   "cell_type": "code",
   "execution_count": null,
   "id": "ccb449ee",
   "metadata": {},
   "outputs": [],
   "source": [
    "predicted_demand = demand_curve(x_data, a_fit, b_fit,c_fit,d_fit,max_demand)"
   ]
  },
  {
   "cell_type": "code",
   "execution_count": null,
   "id": "b02eb471",
   "metadata": {},
   "outputs": [],
   "source": [
    "plt.scatter(x_data, y_data, label='Actual Demand')\n",
    "plt.plot(x_data, predicted_demand, label='Fitted Curve')\n",
    "plt.xlabel('Price')\n",
    "plt.ylabel('Demand')\n",
    "plt.legend()\n",
    "plt.title('Demand Curve Fit')\n",
    "plt.show()"
   ]
  },
  {
   "cell_type": "code",
   "execution_count": null,
   "id": "f2582a10",
   "metadata": {},
   "outputs": [],
   "source": [
    "def revenue(price):\n",
    "    return price * demand_curve(price, a_fit, b_fit,c_fit,d_fit,max_demand)"
   ]
  },
  {
   "cell_type": "code",
   "execution_count": null,
   "id": "6c77846b",
   "metadata": {},
   "outputs": [],
   "source": [
    "objective = lambda price: -revenue(price)\n",
    "from scipy.optimize import minimize_scalar\n",
    "\n",
    "result = minimize_scalar(objective, bounds=(60, 180), method='bounded')\n",
    "optimal_price = result.x\n",
    "max_revenue = -result.fun\n",
    "room_sold = demand_curve(optimal_price, a_fit, b_fit,c_fit,d_fit,max_demand)"
   ]
  },
  {
   "cell_type": "code",
   "execution_count": null,
   "id": "5cd335c5",
   "metadata": {},
   "outputs": [],
   "source": [
    "print(f\"The optimal price to maximize revenue: ${optimal_price}\")\n",
    "print(f\"The maximum revenue achievable: ${max_revenue}\")\n",
    "print(f\"The expected number of rooms to sell: {room_sold}\")"
   ]
  },
  {
   "cell_type": "code",
   "execution_count": null,
   "id": "5ea6cb23",
   "metadata": {},
   "outputs": [],
   "source": [
    "demand_to_price(50,a_fit,b_fit,c_fit,d_fit,max_demand, optimal_price)"
   ]
  },
  {
   "cell_type": "code",
   "execution_count": null,
   "id": "728fb077",
   "metadata": {},
   "outputs": [],
   "source": [
    "results = pd.DataFrame(columns=['month', 'hotel', 'room_type', 'dow', 'optimal_rate', 'expected_rn','expected_rev','optimal_rate_lim_inv'])"
   ]
  },
  {
   "cell_type": "code",
   "execution_count": null,
   "id": "9020ef4f",
   "metadata": {},
   "outputs": [],
   "source": [
    "months = merged_df.month.unique()\n",
    "dow = merged_df.dow.unique()"
   ]
  },
  {
   "cell_type": "code",
   "execution_count": null,
   "id": "06ba40a3",
   "metadata": {},
   "outputs": [],
   "source": [
    "#Create a loop to observe if our demand curve fits properly to each demand month and dow\n",
    "\n",
    "\n",
    "for month in months:\n",
    "    for day in dow:\n",
    "        \n",
    "        print(month,day)\n",
    "        #get data\n",
    "        data = merged_df[(merged_df.dow == day) & (merged_df.month ==month)].reset_index()\n",
    "        \n",
    "        #remove outlier\n",
    "        mean = data.adr.mean()\n",
    "        std_dev = data.adr.std()\n",
    "       \n",
    "\n",
    "        # calculate z-scores\n",
    "        data['z_scores'] = np.abs((data.adr - mean) / std_dev)\n",
    "        \n",
    "        #filter out outliers\n",
    "        data = data[data.z_scores <=2]\n",
    "        \n",
    "        ## Fit Demand curve\n",
    "        x_data = data['adr'].values\n",
    "        y_data = data['expected_demand'].values\n",
    "        \n",
    "        # Try except expression to ensure we get no errors when fitting the demand curve due to our initial guess\n",
    "        try:\n",
    "            initial_guess = [1, 0.01, 1, 1,data['total_rns_median'].values[0] ]\n",
    "            bounds = ([0, 0, 0, 0, 0], [np.inf, np.inf, np.inf, np.inf, np.inf])\n",
    "\n",
    "        # Fit the demand curve to the data\n",
    "            params, _ = curve_fit(demand_curve, x_data, y_data, bounds=bounds, p0=initial_guess)\n",
    "        except:\n",
    "            if month =='January':\n",
    "                \n",
    "                initial_guess = [1, 0.01, 1, 1,40 ]\n",
    "            else:\n",
    "                initial_guess = [1, 0.01, 1, 1,50 ]\n",
    "            bounds = ([0, 0, 0, 0, 0], [np.inf, np.inf, np.inf, np.inf, np.inf])\n",
    "\n",
    "        # Fit the demand curve to the data\n",
    "            params, _ = curve_fit(demand_curve, x_data, y_data, bounds=bounds, p0=initial_guess)\n",
    "        \n",
    "        # Extract the fitted parameters\n",
    "        a_fit, b_fit, c_fit ,d_fit,max_demand= params\n",
    "        \n",
    "        #visually explore if the demand curve fits the data\n",
    "        predicted_demand = demand_curve(x_data, a_fit, b_fit,c_fit,d_fit,max_demand)\n",
    "        \n",
    "        plt.scatter(x_data, y_data, label='Actual Demand')\n",
    "        plt.plot(x_data, predicted_demand, label='Fitted Curve')\n",
    "        plt.xlabel('Price')\n",
    "        plt.ylabel('Demand')\n",
    "        plt.legend()\n",
    "        plt.title('Demand Curve Fit')\n",
    "        plt.show()"
   ]
  },
  {
   "cell_type": "code",
   "execution_count": null,
   "id": "5a0c68db",
   "metadata": {},
   "outputs": [],
   "source": []
  },
  {
   "cell_type": "code",
   "execution_count": null,
   "id": "6767d08b",
   "metadata": {},
   "outputs": [],
   "source": [
    "for hotel in hotels:\n",
    "    for room_type in room_types:\n",
    "        for month in months:\n",
    "            for day in dow:\n",
    "                # Get data for the specific combination\n",
    "                data_subset = merged_df[(merged_df['dow'] == day) & \n",
    "                                        (merged_df['hotel'] == hotel) & \n",
    "                                        (merged_df['room_type'] == room_type) & \n",
    "                                        (merged_df['month'] == month)].reset_index()\n",
    "                \n",
    "                if data_subset.empty:\n",
    "                    continue\n",
    "\n",
    "                # Remove outliers\n",
    "                mean = data_subset['adr'].mean()\n",
    "                std_dev = data_subset['adr'].std()\n",
    "                data_subset['z_scores'] = np.abs((data_subset['adr'] - mean) / std_dev)\n",
    "                data_subset = data_subset[data_subset['z_scores'] <= 2]\n",
    "\n",
    "                # Fit demand curve\n",
    "                x_data = data_subset['adr'].values\n",
    "                y_data = data_subset['expected_demand'].values\n",
    "\n",
    "                try:\n",
    "                    initial_guess = [1, 0.01, 1, 1, data_subset['total_rns_median'].values[0]]\n",
    "                    bounds = ([0, 0, 0, 0, 0], [np.inf, np.inf, np.inf, np.inf, np.inf])\n",
    "                    maxfev = 10000  # Increase the number of maximum function evaluations\n",
    "                    params, _ = curve_fit(demand_curve, x_data, y_data, bounds=bounds, p0=initial_guess, maxfev=maxfev)\n",
    "                except RuntimeError as e:\n",
    "                    print(f\"Error fitting demand curve for {hotel}, {room_type}, {month}, {day}: {e}\")\n",
    "                    continue\n",
    "\n",
    "                a_fit, b_fit, c_fit, d_fit, max_demand = params\n",
    "\n",
    "                # Optimize revenue\n",
    "                def revenue(price):\n",
    "                    return price * demand_curve(price, a_fit, b_fit, c_fit, d_fit, max_demand)\n",
    "\n",
    "                objective = lambda price: -revenue(price)\n",
    "                optimize = minimize_scalar(objective, bounds=(45, 200), method='bounded')\n",
    "                optimal_price = optimize.x\n",
    "                max_revenue = -optimize.fun\n",
    "                expected_rns = demand_curve(optimal_price, a_fit, b_fit, c_fit, d_fit, max_demand)\n",
    "\n",
    "                optimal_rate_lim_inv = demand_to_price(50, a_fit, b_fit, c_fit, d_fit, max_demand, optimal_price)\n",
    "\n",
    "                new_row = pd.DataFrame({'hotel': hotel,\n",
    "                                        'room_type': room_type,\n",
    "                                        'month': month,\n",
    "                                        'dow': day,\n",
    "                                        'optimal_rate': optimal_price,\n",
    "                                        'expected_rev': max_revenue,\n",
    "                                        'expected_rn': expected_rns,\n",
    "                                        'optimal_rate_lim_inv': optimal_rate_lim_inv}, index=[0])\n",
    "                results = pd.concat([results, new_row], ignore_index=True)\n"
   ]
  },
  {
   "cell_type": "code",
   "execution_count": null,
   "id": "76fac15d",
   "metadata": {},
   "outputs": [],
   "source": [
    "results"
   ]
  },
  {
   "cell_type": "code",
   "execution_count": null,
   "id": "8aa35f3c",
   "metadata": {},
   "outputs": [],
   "source": [
    "month_order = ['January', 'February', 'March', 'April', 'May', 'June', 'July', 'August', 'September', 'October', 'November', 'December']\n",
    "dow_order = ['Monday', 'Tuesday', 'Wednesday', 'Thursday', 'Friday', 'Saturday', 'Sunday']\n",
    "\n",
    "# Sort the dataframe by the custom order\n",
    "results['month'] = pd.Categorical(results['month'], categories=month_order, ordered=True)\n",
    "results['dow'] = pd.Categorical(results['dow'], categories=dow_order, ordered=True)\n",
    "results = results.sort_values(['month', 'dow'])\n",
    "\n",
    "grouped = results.groupby(['month', 'dow'])['optimal_rate'].mean().unstack()\n",
    "\n",
    "# Create the graph\n",
    "fig, ax = plt.subplots(figsize=(10, 6))\n",
    "grouped.plot(ax=ax, kind='bar')\n",
    "ax.set_xlabel('Day of the Week')\n",
    "ax.set_ylabel('Optimal Rate')\n",
    "ax.set_title('Optimal Rate by Month and Day of the Week')\n",
    "\n",
    "# Customize the appearance (optional)\n",
    "plt.legend(title='Month', bbox_to_anchor=(1, 1))\n",
    "plt.xticks(rotation=0)\n",
    "\n",
    "# Show the graph\n",
    "plt.show()"
   ]
  },
  {
   "cell_type": "code",
   "execution_count": null,
   "id": "2fc29da3",
   "metadata": {},
   "outputs": [],
   "source": [
    "#clean up the results\n",
    "results['optimal_rate'] = results['optimal_rate'].round()\n",
    "results['optimal_rate_lim_inv'] = results['optimal_rate_lim_inv'].round()\n",
    "\n",
    "results['expected_rn'] = results['expected_rn'].round().astype(int)\n",
    "results['expected_rev'] = results['expected_rev'].round()\n",
    "results"
   ]
  },
  {
   "cell_type": "code",
   "execution_count": null,
   "id": "67157075",
   "metadata": {},
   "outputs": [],
   "source": []
  },
  {
   "cell_type": "markdown",
   "id": "d68756d4",
   "metadata": {},
   "source": [
    "# Holidays"
   ]
  },
  {
   "cell_type": "code",
   "execution_count": null,
   "id": "5192a169",
   "metadata": {},
   "outputs": [],
   "source": [
    "holidays =  expanded_df[expanded_df[['new_year', 'easter', 'christmas']].sum(axis=1) != 0]\n",
    "holidays"
   ]
  },
  {
   "cell_type": "code",
   "execution_count": null,
   "id": "4a4bd88f",
   "metadata": {},
   "outputs": [],
   "source": [
    "unpivoted = pd.melt(holidays, id_vars=['arrival_date', 'total_rns', 'adr', 'dow', 'month', \"hotel\", \"room_type\"],\n",
    "                    value_vars=['new_year', 'easter', 'christmas'],\n",
    "                    var_name='holiday', value_name='holiday_indicator')"
   ]
  },
  {
   "cell_type": "code",
   "execution_count": null,
   "id": "472c0508",
   "metadata": {},
   "outputs": [],
   "source": [
    "unpivoted[unpivoted.holiday =='christmas']\n",
    "unpivoted = unpivoted[unpivoted['holiday_indicator'] == 1]\n",
    "unpivoted"
   ]
  },
  {
   "cell_type": "code",
   "execution_count": null,
   "id": "a6e9b81c",
   "metadata": {},
   "outputs": [],
   "source": [
    "holiday_adr = unpivoted.groupby(['holiday','adr','holiday_indicator', \"hotel\", \"room_type\"]).agg({'total_rns':'sum'}).reset_index()\n",
    "holiday_rns = unpivoted.groupby(['arrival_date','holiday', \"hotel\", \"room_type\"]).agg({'total_rns':'sum'}).reset_index()\n",
    "holiday_rns = holiday_rns.groupby(['holiday', \"hotel\", \"room_type\"]).agg({'total_rns':['sum','mean','median']}).reset_index()\n",
    "holiday_rns.columns = ['_'.join(col) for col in holiday_rns.columns]"
   ]
  },
  {
   "cell_type": "code",
   "execution_count": null,
   "id": "a4a38166",
   "metadata": {},
   "outputs": [],
   "source": [
    "holiday_rns"
   ]
  },
  {
   "cell_type": "code",
   "execution_count": null,
   "id": "ab10e6b9",
   "metadata": {},
   "outputs": [],
   "source": [
    "merged_holidays = pd.merge(holiday_adr, holiday_rns,how='left',left_on=['holiday'], right_on=['holiday_'],suffixes=('_act', '_tot'))\n",
    "\n",
    "merged_holidays.drop('holiday_',axis=1,inplace=True)\n",
    "\n",
    "merged_holidays"
   ]
  },
  {
   "cell_type": "code",
   "execution_count": null,
   "id": "bfa72a86",
   "metadata": {},
   "outputs": [],
   "source": [
    "merged_holidays['probability'] = merged_holidays['total_rns']/merged_holidays['total_rns_sum']\n",
    "merged_holidays['expected_rns'] = merged_holidays['probability'] * merged_holidays['total_rns_median']\n",
    "merged_holidays = merged_holidays.sort_values(by=['holiday', 'adr'], ascending=[True, False])\n",
    "merged_holidays['expected_demand']=merged_holidays.groupby(['holiday'])['expected_rns'].cumsum()"
   ]
  },
  {
   "cell_type": "code",
   "execution_count": null,
   "id": "37fe1ebf",
   "metadata": {},
   "outputs": [],
   "source": [
    "merged_holidays"
   ]
  },
  {
   "cell_type": "code",
   "execution_count": null,
   "id": "6ee4671c",
   "metadata": {},
   "outputs": [],
   "source": [
    "unique_holidays = merged_holidays.holiday.unique()\n"
   ]
  },
  {
   "cell_type": "code",
   "execution_count": null,
   "id": "24f66b9a",
   "metadata": {},
   "outputs": [],
   "source": [
    "def demand_to_price(num_rooms, a, b, c, d, max_demand, optimal_price):\n",
    "    def root_func(x):\n",
    "        return num_rooms - (a * np.exp(-b * x) + c)\n",
    "\n",
    "    try:\n",
    "        price = brentq(root_func, 0, 200)  # Adjust the interval bounds as needed\n",
    "    except ValueError:\n",
    "        # Fallback to default price if no root is found\n",
    "        price_range=(0, optimal_price)\n",
    "        price = np.random.uniform(*price_range)\n",
    "\n",
    "    return price"
   ]
  },
  {
   "cell_type": "code",
   "execution_count": null,
   "id": "8d0febbc",
   "metadata": {},
   "outputs": [],
   "source": [
    "holiday_results = pd.DataFrame(columns=['holiday', 'optimal_rate', 'expected_rn','expected_rev','optimal_rate_lim_inv'])\n",
    "\n",
    "for hotel in hotels:\n",
    "    for room_type in room_types:\n",
    "\n",
    "        for day in unique_holidays:\n",
    "                data = merged_holidays[(merged_holidays.holiday == day) & (merged_holidays.hotel == hotel) & (merged_holidays.room_type == room_type) ].reset_index()\n",
    "\n",
    "                #remove outlier\n",
    "                mean = data.adr.mean()\n",
    "                std_dev = data.adr.std()\n",
    "\n",
    "\n",
    "                # calculate z-scores\n",
    "                data['z_scores'] = np.abs((data.adr - mean) / std_dev)\n",
    "\n",
    "                #filter out outliers\n",
    "                data = data[data.z_scores <=2]\n",
    "\n",
    "                ## Fit Demand curve\n",
    "                x_data = data['adr'].values\n",
    "                y_data = data['expected_demand'].values\n",
    "\n",
    "                initial_guess = [1, 0.01, 1, 1,data['total_rns_median'].values[0] ]\n",
    "                bounds = ([0, 0, 0, 0, 0], [np.inf, np.inf, np.inf, np.inf, np.inf])\n",
    "\n",
    "                try:\n",
    "                    params, _ = curve_fit(demand_curve, x_data, y_data, bounds=bounds, p0=initial_guess)\n",
    "                except Exception as e:\n",
    "                    print(f\"Error fitting demand curve for {hotel}, {room_type}: {e}\")\n",
    "                    continue\n",
    "\n",
    "                # Extract the fitted parameters\n",
    "                a_fit, b_fit, c_fit ,d_fit,max_demand= params\n",
    "\n",
    "                a_fit, b_fit, c_fit ,d_fit,max_demand = np.round(a_fit, 3), np.round(b_fit, 3), np.round(c_fit, 3) ,np.round(d_fit, 3),np.round(max_demand, 3)\n",
    "                #optimze revenue\n",
    "                objective = lambda price: -revenue(price)\n",
    "\n",
    "\n",
    "\n",
    "                optimize = minimize_scalar(objective, bounds=(45, 400), method='bounded')\n",
    "                optimal_price = optimize.x\n",
    "                max_revenue = -optimize.fun\n",
    "\n",
    "                expected_rns = demand_curve(optimal_price,a_fit, b_fit, c_fit ,d_fit,max_demand)\n",
    "                print(50,a_fit,b_fit,c_fit,d_fit,max_demand)\n",
    "                optimal_rate_lim_inv = demand_to_price(50,a_fit,b_fit,c_fit,d_fit,max_demand, optimal_price)\n",
    "\n",
    "                new_row = pd.DataFrame({'holiday':day,\n",
    "                                        'hotel': hotel,\n",
    "                               'room_type': room_type,\n",
    "                               'optimal_rate': optimal_price,\n",
    "                               'expected_rev':max_revenue,\n",
    "                               'expected_rn':expected_rns,\n",
    "                               'optimal_rate_lim_inv':optimal_rate_lim_inv},index=[0])\n",
    "                holiday_results = pd.concat([holiday_results, new_row], ignore_index=True)"
   ]
  },
  {
   "cell_type": "code",
   "execution_count": null,
   "id": "6e864db6",
   "metadata": {},
   "outputs": [],
   "source": [
    "holiday_results"
   ]
  },
  {
   "cell_type": "code",
   "execution_count": null,
   "id": "2bed9e55",
   "metadata": {},
   "outputs": [],
   "source": [
    "results"
   ]
  },
  {
   "cell_type": "code",
   "execution_count": null,
   "id": "e835e147",
   "metadata": {},
   "outputs": [],
   "source": [
    "room_types"
   ]
  },
  {
   "cell_type": "code",
   "execution_count": null,
   "id": "8a33e923",
   "metadata": {},
   "outputs": [],
   "source": [
    "holiday_results\n",
    "\n",
    "\n",
    "years = [2020, 2021, 2022, 2023]\n",
    "\n",
    "holiday_dates = []\n",
    "for year in years:\n",
    "    for index, row in holiday_results.iterrows():\n",
    "        if row['holiday'] == 'christmas':\n",
    "            date = datetime.date(year, 12, 25)\n",
    "        elif row['holiday'] == 'easter':\n",
    "            date = easter(year)\n",
    "        elif row['holiday'] == 'new_year':\n",
    "            date = datetime.date(year, 1, 1)\n",
    "\n",
    "        holiday_dates.append({\n",
    "            'hotel': row['hotel'],\n",
    "            'room_type': row['room_type'],\n",
    "            'month': date.strftime('%B'),\n",
    "            'dow': date.strftime(\"%A\"),\n",
    "            'holiday': row['holiday'],\n",
    "            'optimal_rate': row['optimal_rate'],\n",
    "            'expected_rn': row['expected_rn'],\n",
    "            'expected_rev': row['expected_rev'],\n",
    "            'optimal_rate_lim_inv': row['optimal_rate_lim_inv'],\n",
    "            'arrival_date': pd.to_datetime(date)\n",
    "        })\n",
    "\n",
    "holiday_results_yearly = pd.DataFrame(holiday_dates)\n",
    "\n",
    "\n"
   ]
  },
  {
   "cell_type": "code",
   "execution_count": null,
   "id": "0e7b995c",
   "metadata": {},
   "outputs": [],
   "source": [
    "results"
   ]
  },
  {
   "cell_type": "code",
   "execution_count": null,
   "id": "f56e237d",
   "metadata": {},
   "outputs": [],
   "source": [
    "final_data = pd.concat([results, holiday_results_yearly], axis=0)"
   ]
  },
  {
   "cell_type": "code",
   "execution_count": null,
   "id": "a185c974",
   "metadata": {},
   "outputs": [],
   "source": [
    "final_data.drop('arrival_date', axis=1, inplace=True)"
   ]
  },
  {
   "cell_type": "code",
   "execution_count": null,
   "id": "cdddefe8",
   "metadata": {},
   "outputs": [],
   "source": [
    "final_data['holiday'].fillna('non_holiday', inplace=True)"
   ]
  },
  {
   "cell_type": "code",
   "execution_count": null,
   "id": "8c5697c6",
   "metadata": {},
   "outputs": [],
   "source": [
    "final_data = pd.concat([final_data, pd.get_dummies(final_data.holiday)], axis=1)\n",
    "final_data.drop('holiday', axis=1, inplace=True)"
   ]
  },
  {
   "cell_type": "code",
   "execution_count": null,
   "id": "fef455da",
   "metadata": {},
   "outputs": [],
   "source": [
    "#final_data.to_csv('final_data.csv', index=False)"
   ]
  },
  {
   "cell_type": "code",
   "execution_count": null,
   "id": "bebf426a",
   "metadata": {},
   "outputs": [],
   "source": [
    "final_data"
   ]
  },
  {
   "cell_type": "code",
   "execution_count": null,
   "id": "ee610e72",
   "metadata": {},
   "outputs": [],
   "source": [
    "df"
   ]
  },
  {
   "cell_type": "code",
   "execution_count": null,
   "id": "211d2600",
   "metadata": {},
   "outputs": [],
   "source": [
    "start_year = 2020\n",
    "end_year = 2023\n",
    "\n",
    "month_dict = {month: index for index, month in enumerate(pd.date_range('2020-01-01', periods=12, freq='M').strftime('%B'), 1)}\n",
    "\n",
    "def generate_dates(row):\n",
    "    month_num = month_dict[row['month']]\n",
    "    dates = []\n",
    "    for year in range(start_year, end_year + 1):\n",
    "        month_dates = pd.date_range(start=f'{year}-{month_num:02d}-01', end=f'{year}-{month_num:02d}-01', freq='D') + MonthEnd(0)\n",
    "        dow_dates = month_dates[month_dates.day_name() == row['dow']]\n",
    "        dates.extend(dow_dates)\n",
    "    return dates\n",
    "\n",
    "expanded_data = final_data.apply(lambda row: pd.DataFrame({\n",
    "    'month': row['month'],\n",
    "    'hotel': row['hotel'],\n",
    "    'room_type': row['room_type'],\n",
    "    'dow': row['dow'],\n",
    "    'optimal_rate': row['optimal_rate'],\n",
    "    'expected_rn': row['expected_rn'],\n",
    "    'expected_rev': row['expected_rev'],\n",
    "    'optimal_rate_lim_inv': row['optimal_rate_lim_inv'],\n",
    "    'christmas': row['christmas'],\n",
    "    'easter': row['easter'],\n",
    "    'new_year': row['new_year'],\n",
    "    'non_holiday': row['non_holiday'],\n",
    "    'arrival_date': generate_dates(row)\n",
    "}), axis=1).explode('arrival_date').reset_index(drop=True)\n",
    "\n",
    "expanded_data"
   ]
  },
  {
   "cell_type": "code",
   "execution_count": null,
   "id": "fd3dab23",
   "metadata": {},
   "outputs": [],
   "source": []
  },
  {
   "cell_type": "code",
   "execution_count": null,
   "id": "b75a0b57",
   "metadata": {},
   "outputs": [],
   "source": []
  },
  {
   "cell_type": "code",
   "execution_count": null,
   "id": "efefb332",
   "metadata": {},
   "outputs": [],
   "source": []
  },
  {
   "cell_type": "code",
   "execution_count": null,
   "id": "94da7fe4",
   "metadata": {},
   "outputs": [],
   "source": []
  },
  {
   "cell_type": "code",
   "execution_count": null,
   "id": "176d67b4",
   "metadata": {},
   "outputs": [],
   "source": []
  },
  {
   "cell_type": "code",
   "execution_count": null,
   "id": "3aefe7d5",
   "metadata": {},
   "outputs": [],
   "source": []
  },
  {
   "cell_type": "code",
   "execution_count": null,
   "id": "440cf678",
   "metadata": {},
   "outputs": [],
   "source": []
  }
 ],
 "metadata": {
  "kernelspec": {
   "display_name": "Python 3",
   "language": "python",
   "name": "python3"
  },
  "language_info": {
   "codemirror_mode": {
    "name": "ipython",
    "version": 3
   },
   "file_extension": ".py",
   "mimetype": "text/x-python",
   "name": "python",
   "nbconvert_exporter": "python",
   "pygments_lexer": "ipython3",
   "version": "3.8.18"
  }
 },
 "nbformat": 4,
 "nbformat_minor": 5
}
