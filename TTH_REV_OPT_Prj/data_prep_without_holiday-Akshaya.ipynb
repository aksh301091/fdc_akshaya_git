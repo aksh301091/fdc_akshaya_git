{
 "cells": [
  {
   "cell_type": "markdown",
   "id": "8040318b",
   "metadata": {},
   "source": [
    "# install libraries"
   ]
  },
  {
   "cell_type": "code",
   "execution_count": null,
   "id": "e0d7206a",
   "metadata": {},
   "outputs": [],
   "source": [
    "!pip install --upgrade pip\n",
    "!pip install \"snowflake-connector-python[pandas]\" \"snowflake-snowpark-python[pandas]\" snowflake-snowpark-python==1.9.0 fosforio fosforml numpy pandas matplotlib scikit-learn xgboost seaborn python-dateutil tqdm holidays faker\n",
    "!pip install --upgrade --q snowflake-snowpark-python==1.9.0\n",
    "!pip uninstall urllib3 -y\n",
    "!pip install urllib3==1.26.15"
   ]
  },
  {
   "cell_type": "markdown",
   "id": "8ef66af3",
   "metadata": {},
   "source": [
    "# Import helper libraries"
   ]
  },
  {
   "cell_type": "code",
   "execution_count": 1,
   "id": "983cfe35",
   "metadata": {},
   "outputs": [
    {
     "name": "stdout",
     "output_type": "stream",
     "text": [
      "Connection manager service url initialised to http://fdc-project-manager:80/project-manager\n",
      "If you need to update its value then update the variable CONNECTION_MANAGER_BASE_URL in os env.\n"
     ]
    },
    {
     "ename": "ModuleNotFoundError",
     "evalue": "No module named 'fosforml'",
     "output_type": "error",
     "traceback": [
      "\u001b[0;31m---------------------------------------------------------------------------\u001b[0m",
      "\u001b[0;31mModuleNotFoundError\u001b[0m                       Traceback (most recent call last)",
      "Cell \u001b[0;32mIn[1], line 2\u001b[0m\n\u001b[1;32m      1\u001b[0m \u001b[38;5;28;01mfrom\u001b[39;00m \u001b[38;5;21;01mfosforio\u001b[39;00m \u001b[38;5;28;01mimport\u001b[39;00m snowflake\n\u001b[0;32m----> 2\u001b[0m \u001b[38;5;28;01mfrom\u001b[39;00m \u001b[38;5;21;01mfosforml\u001b[39;00m \u001b[38;5;28;01mimport\u001b[39;00m \u001b[38;5;241m*\u001b[39m\n\u001b[1;32m      3\u001b[0m \u001b[38;5;28;01mfrom\u001b[39;00m \u001b[38;5;21;01mfosforml\u001b[39;00m\u001b[38;5;21;01m.\u001b[39;00m\u001b[38;5;21;01mconstants\u001b[39;00m \u001b[38;5;28;01mimport\u001b[39;00m MLModelFlavours\n\u001b[1;32m      4\u001b[0m \u001b[38;5;28;01mfrom\u001b[39;00m \u001b[38;5;21;01mfosforio\u001b[39;00m \u001b[38;5;28;01mimport\u001b[39;00m get_dataframe\n",
      "\u001b[0;31mModuleNotFoundError\u001b[0m: No module named 'fosforml'"
     ]
    }
   ],
   "source": [
    "from fosforio import snowflake\n",
    "from fosforml import *\n",
    "from fosforml.constants import MLModelFlavours\n",
    "from fosforio import get_dataframe\n",
    "from matplotlib import pyplot as plt\n",
    "import pandas as pd\n",
    "pd.set_option('display.max_columns', 500)\n",
    "import seaborn as sns\n",
    "from sklearn.metrics import mean_absolute_percentage_error\n",
    "import numpy as np\n",
    "import warnings; warnings.simplefilter('ignore')\n",
    "from joblib import dump, load\n",
    "import requests\n",
    "from tqdm import tqdm\n",
    "import time\n",
    "import calendar\n",
    "\n",
    "from time import sleep\n",
    "import configparser\n",
    "from dateutil.relativedelta import relativedelta\n",
    "import datetime\n",
    "from dateutil.easter import easter\n",
    "from scipy.optimize import minimize_scalar\n",
    "from scipy.optimize import curve_fit\n",
    "\n",
    "%matplotlib inline"
   ]
  },
  {
   "cell_type": "markdown",
   "id": "3e3c7d04",
   "metadata": {},
   "source": [
    "# connect to snowflake"
   ]
  },
  {
   "cell_type": "code",
   "execution_count": null,
   "id": "53efc342",
   "metadata": {},
   "outputs": [],
   "source": [
    "snowflake.get_connection(connection_name=\"TTH_REV_OPT_CXN\")\n",
    "data = get_dataframe(\"BOOKINGS_TRANSFORMED\")\n",
    "data"
   ]
  },
  {
   "cell_type": "markdown",
   "id": "a5fa4084",
   "metadata": {},
   "source": [
    "# removing Canceletions and no-shows and keep City hotel data only\n"
   ]
  },
  {
   "cell_type": "code",
   "execution_count": null,
   "id": "62935d21",
   "metadata": {},
   "outputs": [],
   "source": [
    "def update_values(row):\n",
    "    if row['hotel'] == 'City Hotel' and row['reserved_room_type'] == 'A':\n",
    "        return 150\n",
    "    elif row['hotel'] == 'City Hotel' and row['reserved_room_type'] == 'D':\n",
    "        return 80\n",
    "    elif row['hotel'] == 'City Hotel' and row['reserved_room_type'] == 'E':\n",
    "        return 30\n",
    "    elif row['hotel'] == 'Resort Hotel' and row['reserved_room_type'] == 'A':\n",
    "        return 150\n",
    "    elif row['hotel'] == 'Resort Hotel' and row['reserved_room_type'] == 'D':\n",
    "        return 75\n",
    "    elif row['hotel'] == 'Resort Hotel' and row['reserved_room_type'] == 'E':\n",
    "        return 60\n",
    "    else:\n",
    "        pass"
   ]
  },
  {
   "cell_type": "code",
   "execution_count": null,
   "id": "530d37b7",
   "metadata": {},
   "outputs": [],
   "source": [
    "data.columns = map(lambda x: str(x).lower(), data.columns)"
   ]
  },
  {
   "cell_type": "code",
   "execution_count": null,
   "id": "d1cfda8b",
   "metadata": {
    "scrolled": true
   },
   "outputs": [],
   "source": [
    "data['room_limit'] = data.apply(update_values, axis=1)\n",
    "data"
   ]
  },
  {
   "cell_type": "code",
   "execution_count": null,
   "id": "0de05c6b",
   "metadata": {},
   "outputs": [],
   "source": [
    "data.columns"
   ]
  },
  {
   "cell_type": "code",
   "execution_count": null,
   "id": "932de23c",
   "metadata": {},
   "outputs": [],
   "source": []
  },
  {
   "cell_type": "code",
   "execution_count": null,
   "id": "6e23c4dc",
   "metadata": {},
   "outputs": [],
   "source": []
  },
  {
   "cell_type": "code",
   "execution_count": null,
   "id": "c8ebc74e",
   "metadata": {},
   "outputs": [],
   "source": [
    "df = data[(data['is_canceled'] == 0) & (data['reservation_status'] !='No-Show')] \n",
    "df"
   ]
  },
  {
   "cell_type": "code",
   "execution_count": null,
   "id": "07d75d01",
   "metadata": {},
   "outputs": [],
   "source": [
    "df.groupby(['hotel','market_segment','reserved_room_type']).agg({'adr':'mean','reservation_status_date_transformed':'count'})\n"
   ]
  },
  {
   "cell_type": "code",
   "execution_count": null,
   "id": "2a61dc08",
   "metadata": {},
   "outputs": [],
   "source": [
    "data = df[(df.market_segment != 'Complementary') ]\n",
    "data = data[(data.reserved_room_type == 'A') |(data.reserved_room_type == 'D') | (data.reserved_room_type == 'E')]\n",
    "data.reserved_room_type.value_counts()\n"
   ]
  },
  {
   "cell_type": "code",
   "execution_count": null,
   "id": "4b832af7",
   "metadata": {},
   "outputs": [],
   "source": []
  },
  {
   "cell_type": "code",
   "execution_count": null,
   "id": "bd1b07ca",
   "metadata": {},
   "outputs": [],
   "source": [
    "data.info()\n"
   ]
  },
  {
   "cell_type": "code",
   "execution_count": null,
   "id": "d91bc860",
   "metadata": {},
   "outputs": [],
   "source": [
    "data_backup = data.copy()"
   ]
  },
  {
   "cell_type": "code",
   "execution_count": null,
   "id": "fe078cb2",
   "metadata": {},
   "outputs": [],
   "source": [
    "hotels = data['hotel'].unique()\n",
    "room_types = data['reserved_room_type'].unique()"
   ]
  },
  {
   "cell_type": "code",
   "execution_count": null,
   "id": "dc594eb8",
   "metadata": {},
   "outputs": [],
   "source": [
    "data['total_rns'] = data['stays_in_week_nights'] + data['stays_in_weekend_nights']\n",
    "data_to_transform = data[['hotel','reserved_room_type','arrival_date_transformed','total_rns','adr', 'room_limit']]\n",
    "data_to_transform"
   ]
  },
  {
   "cell_type": "code",
   "execution_count": null,
   "id": "98edc3c7",
   "metadata": {},
   "outputs": [],
   "source": [
    "import os\n",
    "from snowflake.snowpark.session import Session\n",
    "user = os.getenv(\"user\")\n",
    "warehouse = os.getenv(\"warehouse\")\n",
    "schema= os.getenv(\"schema\")\n",
    "database = os.getenv(\"database\")\n",
    "role =  os.getenv(\"role\")\n",
    "account =  os.getenv(\"account\")\n",
    "password= os.getenv(\"password\")\n",
    "\n",
    "connection_params = dict(user=user, \n",
    "                         password=password, \n",
    "                         account=account, \n",
    "                         warehouse=warehouse, \n",
    "                         database=database,\n",
    "                         schema=schema, \n",
    "                         role=role)\n",
    "\n",
    "session = Session.builder.configs(connection_params).create()\n",
    "\n",
    "session.sql('use warehouse {};'.format(warehouse)).collect()\n",
    "\n",
    "session.sql('use database {};'.format(database)).collect()\n",
    "\n",
    "session.sql('use schema {}.{};'.format(database, schema)).collect()"
   ]
  },
  {
   "cell_type": "code",
   "execution_count": null,
   "id": "1d2ef4d3",
   "metadata": {},
   "outputs": [],
   "source": []
  },
  {
   "cell_type": "markdown",
   "id": "9b8ba8a9",
   "metadata": {},
   "source": [
    "# Create a new dataframe to store the data by stay date"
   ]
  },
  {
   "cell_type": "code",
   "execution_count": null,
   "id": "b98c4d1b",
   "metadata": {},
   "outputs": [],
   "source": [
    "expanded_df = pd.DataFrame()\n",
    "\n",
    "for _, row in data.iterrows():\n",
    "    num_stay_dates = row['total_rns']\n",
    "    try:\n",
    "        # Create a row for each stay date\n",
    "        expanded_booking = pd.DataFrame({\n",
    "            'hotel': row['hotel'],\n",
    "            'room_type': row['reserved_room_type'], \n",
    "            'arrival_date': pd.date_range(start=row['expected_arrival_date'], periods=num_stay_dates),\n",
    "            'total_rns': 1,\n",
    "            'adr': row['adr'],\n",
    "            'room_limit': row['room_limit']\n",
    "        })\n",
    "        \n",
    "        # Append the stay date information to the new dataframe\n",
    "        expanded_df = pd.concat([expanded_df, expanded_booking], ignore_index=True)\n",
    "    except ValueError as e:\n",
    "        print(f\"Error processing booking for {row['hotel']} on {row['expected_arrival_date']} : {num_stay_dates} {e}\")"
   ]
  },
  {
   "cell_type": "markdown",
   "id": "0be4df76",
   "metadata": {},
   "source": [
    "# Sort the final dataframe by date"
   ]
  },
  {
   "cell_type": "code",
   "execution_count": null,
   "id": "168594ba",
   "metadata": {
    "scrolled": true
   },
   "outputs": [],
   "source": [
    "expanded_df = expanded_df.sort_values('arrival_date')\n",
    "expanded_df = expanded_df.reset_index(drop=True)\n",
    "expanded_df"
   ]
  },
  {
   "cell_type": "code",
   "execution_count": null,
   "id": "c8a6c326",
   "metadata": {},
   "outputs": [],
   "source": [
    "expanded_df['adr']= np.round(expanded_df['adr'], 2)\n",
    "\n",
    "expanded_df\n"
   ]
  },
  {
   "cell_type": "code",
   "execution_count": null,
   "id": "551d034b",
   "metadata": {
    "scrolled": true
   },
   "outputs": [],
   "source": [
    "##check\n",
    "expanded_df.head()"
   ]
  },
  {
   "cell_type": "code",
   "execution_count": null,
   "id": "898ed484",
   "metadata": {},
   "outputs": [],
   "source": [
    "# Add dow, month to data\n",
    "expanded_df['dow'] = expanded_df.arrival_date.dt.strftime('%A')\n",
    "expanded_df['month'] = expanded_df.arrival_date.dt.strftime('%B')"
   ]
  },
  {
   "cell_type": "code",
   "execution_count": null,
   "id": "4116caac",
   "metadata": {
    "scrolled": true
   },
   "outputs": [],
   "source": [
    "##check\n",
    "expanded_df.head()"
   ]
  },
  {
   "cell_type": "code",
   "execution_count": null,
   "id": "6459a42d",
   "metadata": {},
   "outputs": [],
   "source": [
    "expanded_df.shape"
   ]
  },
  {
   "cell_type": "code",
   "execution_count": null,
   "id": "fd7a518e",
   "metadata": {},
   "outputs": [],
   "source": [
    "expanded_df.info()"
   ]
  },
  {
   "cell_type": "code",
   "execution_count": null,
   "id": "d007c879",
   "metadata": {},
   "outputs": [],
   "source": [
    "daily_rns= expanded_df.groupby(['arrival_date','dow','month', 'hotel', 'room_type']).agg({'room_limit': 'mean', 'total_rns':'sum'}).reset_index() # ge total stays per day\n",
    "\n",
    "daily_rns = daily_rns.groupby(['dow','month', 'hotel', 'room_type']).agg({'room_limit': 'mean','total_rns':['sum','mean','median']}).reset_index() # get Rns metrics by Dow & Month\n",
    "\n",
    "daily_rns.columns = ['_'.join(col) for col in daily_rns.columns] #remove multi level column\n",
    "daily_rns"
   ]
  },
  {
   "cell_type": "code",
   "execution_count": null,
   "id": "ba8f0f0c",
   "metadata": {},
   "outputs": [],
   "source": [
    "adr_frequency = expanded_df.groupby(['dow','month','adr', 'hotel', 'room_type']).agg({'room_limit': 'mean','total_rns':'sum'})\n",
    "adr_frequency.reset_index(inplace=True)"
   ]
  },
  {
   "cell_type": "code",
   "execution_count": null,
   "id": "67aa9a80",
   "metadata": {},
   "outputs": [],
   "source": [
    "adr_frequency"
   ]
  },
  {
   "cell_type": "code",
   "execution_count": null,
   "id": "3d21ea7a",
   "metadata": {},
   "outputs": [],
   "source": [
    "merged_df = pd.merge(adr_frequency, daily_rns,how='left',left_on=['dow','month', 'hotel', 'room_type'], right_on=['dow_','month_', 'hotel_', 'room_type_'],suffixes=('_act', '_tot'))\n",
    "\n",
    "merged_df = merged_df.drop(['dow_','month_'],axis=1)\n",
    "\n",
    "merged_df"
   ]
  },
  {
   "cell_type": "code",
   "execution_count": null,
   "id": "c1355c2e",
   "metadata": {},
   "outputs": [],
   "source": [
    "merged_df['probability'] = merged_df['total_rns']/merged_df['total_rns_sum']"
   ]
  },
  {
   "cell_type": "code",
   "execution_count": null,
   "id": "7cdaa3b5",
   "metadata": {},
   "outputs": [],
   "source": [
    "merged_df['expected_rns'] = merged_df['probability'] * merged_df['total_rns_median']"
   ]
  },
  {
   "cell_type": "code",
   "execution_count": null,
   "id": "6ba54f95",
   "metadata": {},
   "outputs": [],
   "source": [
    "merged_df = merged_df.sort_values(by=['dow', 'month', 'adr'], ascending=[True, True, False])"
   ]
  },
  {
   "cell_type": "code",
   "execution_count": null,
   "id": "78068d67",
   "metadata": {},
   "outputs": [],
   "source": [
    "merged_df['expected_demand']=merged_df.groupby(['dow', 'month'])['expected_rns'].cumsum()"
   ]
  },
  {
   "cell_type": "code",
   "execution_count": null,
   "id": "f609d904",
   "metadata": {},
   "outputs": [],
   "source": [
    "merged_df['expected_rev'] = merged_df['adr']* merged_df['expected_demand']"
   ]
  },
  {
   "cell_type": "code",
   "execution_count": null,
   "id": "ecd7b302",
   "metadata": {},
   "outputs": [],
   "source": [
    "merged_df['expected_rev'] = merged_df['adr']* merged_df['expected_demand']"
   ]
  },
  {
   "cell_type": "code",
   "execution_count": null,
   "id": "3c2c18ca",
   "metadata": {},
   "outputs": [],
   "source": [
    "merged_df[(merged_df.dow == 'Friday') & (merged_df.month =='April')].plot(x='adr', y='expected_demand', kind='line')"
   ]
  },
  {
   "cell_type": "code",
   "execution_count": null,
   "id": "e3c57bd7",
   "metadata": {},
   "outputs": [],
   "source": [
    "merged_df[(merged_df.dow == 'Friday') & (merged_df.month =='April')].plot(x='adr', y='expected_rev', kind='line')"
   ]
  },
  {
   "cell_type": "code",
   "execution_count": null,
   "id": "01e3452e",
   "metadata": {},
   "outputs": [],
   "source": [
    "merged_df"
   ]
  },
  {
   "cell_type": "code",
   "execution_count": null,
   "id": "9630b51b",
   "metadata": {},
   "outputs": [],
   "source": [
    "from scipy.optimize import curve_fit\n",
    "\n",
    "# Define the demand curve function\n",
    "def demand_curve(x, a, b, c, d, max_demand):\n",
    "    demand = a * np.exp(-b * x) + c\n",
    "    demand = np.where(x <= max_demand, np.minimum(demand, max_demand), demand)\n",
    "    return demand + d\n"
   ]
  },
  {
   "cell_type": "code",
   "execution_count": null,
   "id": "856be003",
   "metadata": {},
   "outputs": [],
   "source": [
    "x_data = merged_df['adr'].values\n",
    "y_data = merged_df['expected_demand'].values\n",
    "\n",
    "\n",
    "initial_guess = [1, 0.01, 1, 1, 100]\n",
    "bounds = ([0, 0, 0, 0, 0], [np.inf, np.inf, np.inf, np.inf, np.inf])\n",
    "\n",
    "params, _ = curve_fit(demand_curve, x_data, y_data, bounds=bounds, p0=initial_guess)\n",
    "\n",
    "a_fit, b_fit, c_fit ,d_fit,max_demand= params"
   ]
  },
  {
   "cell_type": "code",
   "execution_count": null,
   "id": "ccb449ee",
   "metadata": {},
   "outputs": [],
   "source": [
    "predicted_demand = demand_curve(x_data, a_fit, b_fit,c_fit,d_fit,max_demand)"
   ]
  },
  {
   "cell_type": "code",
   "execution_count": null,
   "id": "b02eb471",
   "metadata": {},
   "outputs": [],
   "source": [
    "plt.scatter(x_data, y_data, label='Actual Demand')\n",
    "plt.plot(x_data, predicted_demand, label='Fitted Curve')\n",
    "plt.xlabel('Price')\n",
    "plt.ylabel('Demand')\n",
    "plt.legend()\n",
    "plt.title('Demand Curve Fit')\n",
    "plt.show()"
   ]
  },
  {
   "cell_type": "code",
   "execution_count": null,
   "id": "f2582a10",
   "metadata": {},
   "outputs": [],
   "source": [
    "def revenue(price):\n",
    "    return price * demand_curve(price, a_fit, b_fit,c_fit,d_fit,max_demand)"
   ]
  },
  {
   "cell_type": "code",
   "execution_count": null,
   "id": "6c77846b",
   "metadata": {},
   "outputs": [],
   "source": [
    "objective = lambda price: -revenue(price)\n",
    "from scipy.optimize import minimize_scalar\n",
    "\n",
    "result = minimize_scalar(objective, bounds=(60, 180), method='bounded')\n",
    "optimal_price = result.x\n",
    "max_revenue = -result.fun\n",
    "room_sold = demand_curve(optimal_price, a_fit, b_fit,c_fit,d_fit,max_demand)"
   ]
  },
  {
   "cell_type": "code",
   "execution_count": null,
   "id": "5cd335c5",
   "metadata": {},
   "outputs": [],
   "source": [
    "print(f\"The optimal price to maximize revenue: ${optimal_price}\")\n",
    "print(f\"The maximum revenue achievable: ${max_revenue}\")\n",
    "print(f\"The expected number of rooms to sell: {room_sold}\")"
   ]
  },
  {
   "cell_type": "code",
   "execution_count": null,
   "id": "f28e7fff",
   "metadata": {},
   "outputs": [],
   "source": [
    "from scipy.optimize import brentq\n",
    "\n",
    "def demand_to_price(num_rooms, a, b, c, d, max_demand):\n",
    "    def root_func(x):\n",
    "        return num_rooms - (a * np.exp(-b * x) + c)\n",
    "\n",
    "    try:\n",
    "        price = brentq(root_func, 0, 200)  # Adjust the interval bounds as needed\n",
    "    except ValueError:\n",
    "        # Fallback to default price if no root is found\n",
    "        price_range=(0, 200)\n",
    "        price = np.random.uniform(*price_range)\n",
    "\n",
    "    return price\n",
    "\n",
    "# from scipy.optimize import brentq\n",
    "\n",
    "# def demand_to_price(num_rooms, a, b, c, d, max_demand):\n",
    "   \n",
    "#     def root_func(x):\n",
    "#         return num_rooms - (a * np.exp(-b * x) + c)\n",
    "    \n",
    "#     # Find the price using numerical root finding\n",
    "#     price = brentq(root_func, 0, 200)  # Adjust the interval bounds as needed\n",
    "    \n",
    "#     return price"
   ]
  },
  {
   "cell_type": "code",
   "execution_count": null,
   "id": "5ea6cb23",
   "metadata": {},
   "outputs": [],
   "source": [
    "demand_to_price(50,a_fit,b_fit,c_fit,d_fit,max_demand)"
   ]
  },
  {
   "cell_type": "code",
   "execution_count": null,
   "id": "728fb077",
   "metadata": {},
   "outputs": [],
   "source": [
    "results = pd.DataFrame(columns=['month', 'hotel','room_limit', 'room_type', 'dow', 'optimal_rate', 'expected_rn','expected_rev','optimal_rate_lim_inv'])"
   ]
  },
  {
   "cell_type": "code",
   "execution_count": null,
   "id": "9020ef4f",
   "metadata": {},
   "outputs": [],
   "source": [
    "months = merged_df.month.unique()\n",
    "dow = merged_df.dow.unique()"
   ]
  },
  {
   "cell_type": "code",
   "execution_count": null,
   "id": "1ff451f6",
   "metadata": {},
   "outputs": [],
   "source": [
    "merged_df"
   ]
  },
  {
   "cell_type": "code",
   "execution_count": null,
   "id": "6767d08b",
   "metadata": {},
   "outputs": [],
   "source": [
    "for hotel in hotels:\n",
    "    for room_type in room_types:\n",
    "        for month in months:\n",
    "            for day in dow:\n",
    "                # Get data for the specific combination\n",
    "                data_subset = merged_df[(merged_df['dow'] == day) & \n",
    "                                        (merged_df['hotel'] == hotel) & \n",
    "                                        (merged_df['room_type'] == room_type) & \n",
    "                                        (merged_df['month'] == month)].reset_index()\n",
    "                \n",
    "                if data_subset.empty:\n",
    "                    continue\n",
    "\n",
    "                # Remove outliers\n",
    "                mean = data_subset['adr'].mean()\n",
    "                std_dev = data_subset['adr'].std()\n",
    "                data_subset['z_scores'] = np.abs((data_subset['adr'] - mean) / std_dev)\n",
    "                data_subset = data_subset[data_subset['z_scores'] <= 2]\n",
    "\n",
    "                # Fit demand curve\n",
    "                x_data = data_subset['adr'].values\n",
    "                y_data = data_subset['expected_demand'].values\n",
    "\n",
    "                try:\n",
    "                    initial_guess = [1, 0.01, 1, 1, data_subset['total_rns_median'].values[0]]\n",
    "                    bounds = ([0, 0, 0, 0, 0], [np.inf, np.inf, np.inf, np.inf, np.inf])\n",
    "                    maxfev = 10000  # Increase the number of maximum function evaluations\n",
    "                    params, _ = curve_fit(demand_curve, x_data, y_data, bounds=bounds, p0=initial_guess, maxfev=maxfev)\n",
    "                except RuntimeError as e:\n",
    "                    print(f\"Error fitting demand curve for {hotel}, {room_type}, {month}, {day}: {e}\")\n",
    "                    continue\n",
    "\n",
    "                a_fit, b_fit, c_fit, d_fit, max_demand = params\n",
    "\n",
    "                # Optimize revenue\n",
    "                def revenue(price):\n",
    "                    return price * demand_curve(price, a_fit, b_fit, c_fit, d_fit, max_demand)\n",
    "\n",
    "                objective = lambda price: -revenue(price)\n",
    "                optimize = minimize_scalar(objective, bounds=(45, 200), method='bounded')\n",
    "                optimal_price = optimize.x\n",
    "                max_revenue = -optimize.fun\n",
    "                expected_rns = demand_curve(optimal_price, a_fit, b_fit, c_fit, d_fit, max_demand)\n",
    "\n",
    "                optimal_rate_lim_inv = demand_to_price(data_subset['room_limit'].mean(), a_fit, b_fit, c_fit, d_fit, max_demand)\n",
    "\n",
    "                new_row = pd.DataFrame({'hotel': hotel,\n",
    "                                        'room_type': room_type,\n",
    "                                        'room_limit': data_subset['room_limit'].mean(),\n",
    "                                        'month': month,\n",
    "                                        'dow': day,\n",
    "                                        'optimal_rate': optimal_price,\n",
    "                                        'expected_rev': max_revenue,\n",
    "                                        'expected_rn': expected_rns,\n",
    "                                        'optimal_rate_lim_inv': optimal_rate_lim_inv}, index=[0])\n",
    "                results = pd.concat([results, new_row], ignore_index=True)\n"
   ]
  },
  {
   "cell_type": "code",
   "execution_count": null,
   "id": "76fac15d",
   "metadata": {},
   "outputs": [],
   "source": [
    "results"
   ]
  },
  {
   "cell_type": "code",
   "execution_count": null,
   "id": "2fc29da3",
   "metadata": {},
   "outputs": [],
   "source": [
    "#clean up the results\n",
    "results['optimal_rate'] = results['optimal_rate'].round()\n",
    "results['optimal_rate_lim_inv'] = results['optimal_rate_lim_inv'].round()\n",
    "\n",
    "results['expected_rn'] = results['expected_rn'].round().astype(int)\n",
    "results['expected_rev'] = results['expected_rev'].round()\n",
    "results"
   ]
  },
  {
   "cell_type": "code",
   "execution_count": null,
   "id": "67157075",
   "metadata": {},
   "outputs": [],
   "source": []
  },
  {
   "cell_type": "code",
   "execution_count": null,
   "id": "2bed9e55",
   "metadata": {},
   "outputs": [],
   "source": [
    "results"
   ]
  },
  {
   "cell_type": "code",
   "execution_count": null,
   "id": "0e7b995c",
   "metadata": {},
   "outputs": [],
   "source": [
    "results[(results['month'] == 'April') & (results['room_type'] == 'A')]"
   ]
  },
  {
   "cell_type": "code",
   "execution_count": null,
   "id": "ee610e72",
   "metadata": {},
   "outputs": [],
   "source": [
    "import itertools\n",
    "\n",
    "hotel_types = ['Resort Hotel', 'City Hotel']\n",
    "room_types = ['A', 'D', 'E']\n",
    "\n",
    "combinations = list(itertools.product(hotel_types, room_types))\n",
    "\n",
    "combinations\n",
    "\n",
    "combinations_df = pd.DataFrame(combinations, columns=['hotel', 'room_type'])\n",
    "combinations_df"
   ]
  },
  {
   "cell_type": "code",
   "execution_count": null,
   "id": "fd3dab23",
   "metadata": {},
   "outputs": [],
   "source": [
    "month_dict = {month: index for index, month in enumerate(pd.date_range('2020-01-01', periods=12, freq='M').strftime('%B'), 1)}\n",
    "\n",
    "\n",
    "new_data = pd.DataFrame()\n",
    "\n",
    "for year in range(2020, 2024):\n",
    "    for month in month_dict.values():\n",
    "        start_date = pd.to_datetime(f'{year}-{month}-01').replace(day=1)\n",
    "        end_date = pd.to_datetime(f'{year}-{month}-01').replace(day=1) + pd.offsets.MonthEnd(0)\n",
    "        date_range = pd.date_range(start_date, end_date, freq='D')\n",
    "        df = pd.DataFrame(date_range, columns=['arrival_date'])\n",
    "        df['dow'] = df['arrival_date'].dt.day_name()\n",
    "        df['month'] = df['arrival_date'].dt.month_name()\n",
    "\n",
    "        result_df = df.assign(key=1).merge(combinations_df.assign(key=1), on='key').drop('key', axis=1)\n",
    "        new_data = pd.concat([new_data, result_df], ignore_index=True)\n",
    "new_data"
   ]
  },
  {
   "cell_type": "code",
   "execution_count": null,
   "id": "b75a0b57",
   "metadata": {},
   "outputs": [],
   "source": [
    "final_data = pd.merge(new_data, results, how='left', on=['dow', 'hotel', 'room_type', 'month'])\n",
    "final_data"
   ]
  },
  {
   "cell_type": "code",
   "execution_count": null,
   "id": "b730e491",
   "metadata": {},
   "outputs": [],
   "source": [
    "final_data['room_limit'] = final_data['room_limit'].astype(int)"
   ]
  },
  {
   "cell_type": "code",
   "execution_count": null,
   "id": "94da7fe4",
   "metadata": {},
   "outputs": [],
   "source": [
    "final_data['arrival_date'] = pd.to_datetime(final_data['arrival_date'])"
   ]
  },
  {
   "cell_type": "code",
   "execution_count": null,
   "id": "7bb85e25",
   "metadata": {},
   "outputs": [],
   "source": [
    "final_data"
   ]
  },
  {
   "cell_type": "code",
   "execution_count": null,
   "id": "b3ac880b",
   "metadata": {},
   "outputs": [],
   "source": [
    "final_data[final_data[\"optimal_rate_lim_inv\"] > final_data[\"optimal_rate\"]]"
   ]
  },
  {
   "cell_type": "code",
   "execution_count": null,
   "id": "e52e29cc",
   "metadata": {},
   "outputs": [],
   "source": []
  },
  {
   "cell_type": "code",
   "execution_count": null,
   "id": "22e64941",
   "metadata": {},
   "outputs": [],
   "source": [
    "7712/8766"
   ]
  },
  {
   "cell_type": "code",
   "execution_count": null,
   "id": "d1d0e2a8",
   "metadata": {},
   "outputs": [],
   "source": [
    "final_data[final_data[\"expected_rn\"] > final_data[\"room_limit\"]]"
   ]
  },
  {
   "cell_type": "code",
   "execution_count": null,
   "id": "b5011448",
   "metadata": {},
   "outputs": [],
   "source": [
    "8462/8766"
   ]
  },
  {
   "cell_type": "code",
   "execution_count": null,
   "id": "f0fa6dfd",
   "metadata": {},
   "outputs": [],
   "source": []
  },
  {
   "cell_type": "code",
   "execution_count": null,
   "id": "64c3827e",
   "metadata": {},
   "outputs": [],
   "source": []
  },
  {
   "cell_type": "code",
   "execution_count": null,
   "id": "7c308c0f",
   "metadata": {},
   "outputs": [],
   "source": []
  },
  {
   "cell_type": "code",
   "execution_count": null,
   "id": "58807a6e",
   "metadata": {},
   "outputs": [],
   "source": []
  },
  {
   "cell_type": "code",
   "execution_count": null,
   "id": "1c362a38",
   "metadata": {},
   "outputs": [],
   "source": []
  },
  {
   "cell_type": "code",
   "execution_count": null,
   "id": "1493f6bc",
   "metadata": {},
   "outputs": [],
   "source": []
  },
  {
   "cell_type": "code",
   "execution_count": null,
   "id": "b4752575",
   "metadata": {},
   "outputs": [],
   "source": []
  },
  {
   "cell_type": "code",
   "execution_count": null,
   "id": "66fa5b56",
   "metadata": {},
   "outputs": [],
   "source": []
  },
  {
   "cell_type": "code",
   "execution_count": null,
   "id": "6c9078e3",
   "metadata": {},
   "outputs": [],
   "source": []
  },
  {
   "cell_type": "code",
   "execution_count": null,
   "id": "6cfcf1bf",
   "metadata": {},
   "outputs": [],
   "source": [
    "data_backup['arrival_date_transformed'] = pd.to_datetime(data_backup['arrival_date_transformed'])\n",
    "final_data['arrival_date'] = pd.to_datetime(final_data['arrival_date'])"
   ]
  },
  {
   "cell_type": "code",
   "execution_count": null,
   "id": "9fec4042",
   "metadata": {},
   "outputs": [],
   "source": []
  },
  {
   "cell_type": "code",
   "execution_count": null,
   "id": "a59666c8",
   "metadata": {},
   "outputs": [],
   "source": []
  },
  {
   "cell_type": "code",
   "execution_count": null,
   "id": "2683530d",
   "metadata": {},
   "outputs": [],
   "source": [
    "rev_opt_booking = pd.merge(data_backup, final_data, right_on=['arrival_date', 'hotel', 'room_type'], left_on=['arrival_date_transformed', 'hotel', 'reserved_room_type'], how='left')\n",
    "rev_opt_booking.to_csv('rev_opt_booking.csv', index=False)"
   ]
  },
  {
   "cell_type": "code",
   "execution_count": null,
   "id": "d7d9c178",
   "metadata": {},
   "outputs": [],
   "source": [
    "rev_opt_booking"
   ]
  },
  {
   "cell_type": "code",
   "execution_count": null,
   "id": "cbf510c9",
   "metadata": {},
   "outputs": [],
   "source": [
    "rev_opt_booking.drop(['month_y', 'room_limit_y'], axis=1, inplace=True)"
   ]
  },
  {
   "cell_type": "code",
   "execution_count": null,
   "id": "0a280309",
   "metadata": {},
   "outputs": [],
   "source": [
    "rev_opt_booking.rename(columns={\"month_x\": 'month', 'room_limit_x': 'room_limit'}, inplace=True)"
   ]
  },
  {
   "cell_type": "code",
   "execution_count": null,
   "id": "46ee645b",
   "metadata": {},
   "outputs": [],
   "source": [
    "rev_opt_booking[\"arrival_data\"] = pd.to_datetime(rev_opt_booking[\"arrival_date\"])\n",
    "rev_opt_booking[\"arrival_date_transformed\"] = pd.to_datetime(rev_opt_booking[\"arrival_date_transformed\"])"
   ]
  },
  {
   "cell_type": "code",
   "execution_count": null,
   "id": "8a5443b6",
   "metadata": {},
   "outputs": [],
   "source": [
    "rev_opt_booking.columns = map(lambda x: str(x).lower(), rev_opt_booking.columns)\n"
   ]
  },
  {
   "cell_type": "code",
   "execution_count": null,
   "id": "7cb9f52b",
   "metadata": {},
   "outputs": [],
   "source": [
    "rev_opt_booking.rename(columns={'arrival_date_year':'year',\n",
    "                                'optimal_rate' : 'optimal_adr', 'optimal_rate_lim_inv': 'optimal_adr_limited',\n",
    "                                'transcation_ids': 'booking_id', 'reservation_status_date_transformed': 'reservation_date'\n",
    "                               }, inplace=True)"
   ]
  },
  {
   "cell_type": "code",
   "execution_count": null,
   "id": "8a7d7848",
   "metadata": {},
   "outputs": [],
   "source": []
  },
  {
   "cell_type": "code",
   "execution_count": null,
   "id": "69c95ea2",
   "metadata": {
    "scrolled": false
   },
   "outputs": [],
   "source": [
    "rev_opt_booking.info()"
   ]
  },
  {
   "cell_type": "code",
   "execution_count": null,
   "id": "36a6c683",
   "metadata": {},
   "outputs": [],
   "source": []
  },
  {
   "cell_type": "code",
   "execution_count": null,
   "id": "2cb4fffa",
   "metadata": {},
   "outputs": [],
   "source": [
    "rev_opt_booking['room_limit'] = rev_opt_booking.apply(update_values, axis=1)"
   ]
  },
  {
   "cell_type": "code",
   "execution_count": null,
   "id": "097bec28",
   "metadata": {},
   "outputs": [],
   "source": [
    "rev_opt_booking = rev_opt_booking.drop([ 'reservation_status_date',  'avg_rooms_per_night','reserved_room_type', 'tally_days', 'total_room_nights'], axis=1)"
   ]
  },
  {
   "cell_type": "code",
   "execution_count": null,
   "id": "5b2aa4d2",
   "metadata": {},
   "outputs": [],
   "source": [
    "rev_opt_booking.columns"
   ]
  },
  {
   "cell_type": "code",
   "execution_count": null,
   "id": "1ef186e6",
   "metadata": {},
   "outputs": [],
   "source": [
    "rev_opt_booking['adr'] = rev_opt_booking['adr'].astype(int)"
   ]
  },
  {
   "cell_type": "code",
   "execution_count": null,
   "id": "3374e4dd",
   "metadata": {},
   "outputs": [],
   "source": [
    "rev_opt_booking = rev_opt_booking[['arrival_date', 'hotel', 'adr', 'is_canceled', 'lead_time',  'babies', 'children', 'country', 'customer_type',  'cust_id', 'days_in_waiting_list', 'deposit_type', 'distribution_channel', 'dow', 'expected_rev','expected_rn', 'market_segment', 'meal', 'month', 'optimal_adr',  'optimal_adr_limited', 'previous_bookings_not_canceled', 'previous_cancellations', 'reservation_status','reservation_date', 'room_type', 'room_limit', 'stays_in_weekend_nights', 'stays_in_week_nights',  'total_guests', 'total_stay_nights', 'booking_id']]"
   ]
  },
  {
   "cell_type": "code",
   "execution_count": null,
   "id": "72b99882",
   "metadata": {},
   "outputs": [],
   "source": []
  },
  {
   "cell_type": "code",
   "execution_count": null,
   "id": "af5ffafd",
   "metadata": {
    "scrolled": true
   },
   "outputs": [],
   "source": [
    "rev_opt_booking"
   ]
  },
  {
   "cell_type": "code",
   "execution_count": null,
   "id": "b683050a",
   "metadata": {
    "scrolled": true
   },
   "outputs": [],
   "source": [
    "rev_opt_booking[\"reservation_date\"] = pd.to_datetime(rev_opt_booking[\"reservation_date\"]).dt.strftime(\"%Y-%m-%d %H:%M:%S\")\n",
    "rev_opt_booking[\"arrival_date\"] = pd.to_datetime(rev_opt_booking[\"arrival_date\"]).dt.strftime(\"%Y-%m-%d %H:%M:%S\")\n",
    "\n",
    "rev_opt_booking[\"reservation_date\"]"
   ]
  },
  {
   "cell_type": "code",
   "execution_count": null,
   "id": "b30ea773",
   "metadata": {},
   "outputs": [],
   "source": [
    "rev_opt_booking[\"arrival_date\"]"
   ]
  },
  {
   "cell_type": "code",
   "execution_count": null,
   "id": "daa8e950",
   "metadata": {},
   "outputs": [],
   "source": [
    "df_model=session.createDataFrame(\n",
    "        rev_opt_booking.values.tolist(),\n",
    "        schema=rev_opt_booking.columns.tolist())\n",
    "df_model.write.mode(\"overwrite\").save_as_table(\"TTH_DB.TTH_REV_OPT_Schema.REV_OPT_OUTPUT\")"
   ]
  },
  {
   "cell_type": "code",
   "execution_count": null,
   "id": "2bf37425",
   "metadata": {},
   "outputs": [],
   "source": [
    "rev_opt_booking.columns"
   ]
  },
  {
   "cell_type": "code",
   "execution_count": null,
   "id": "3cc13dee",
   "metadata": {},
   "outputs": [],
   "source": [
    "rev_opt_booking.info()"
   ]
  },
  {
   "cell_type": "code",
   "execution_count": null,
   "id": "a673ed88",
   "metadata": {},
   "outputs": [],
   "source": [
    "def update_values(row):\n",
    "    if row['hotel'] == 'City Hotel' and row['room_type'] == 'A':\n",
    "        return 300\n",
    "    elif row['hotel'] == 'City Hotel' and row['room_type'] == 'D':\n",
    "        return 80\n",
    "    elif row['hotel'] == 'City Hotel' and row['room_type'] == 'E':\n",
    "        return 20\n",
    "    elif row['hotel'] == 'Resort Hotel' and row['room_type'] == 'A':\n",
    "        return 250\n",
    "    elif row['hotel'] == 'Resort Hotel' and row['room_type'] == 'D':\n",
    "        return 75\n",
    "    elif row['hotel'] == 'Resort Hotel' and row['room_type'] == 'E':\n",
    "        return 60\n",
    "    else:\n",
    "        pass"
   ]
  },
  {
   "cell_type": "code",
   "execution_count": null,
   "id": "56f90992",
   "metadata": {},
   "outputs": [],
   "source": [
    "rev_opt_booking['room_limit'] = rev_opt_booking.apply(update_values, axis=1)"
   ]
  },
  {
   "cell_type": "code",
   "execution_count": null,
   "id": "a761ec87",
   "metadata": {},
   "outputs": [],
   "source": [
    "rev_opt_booking.sample(n=7)"
   ]
  },
  {
   "cell_type": "code",
   "execution_count": null,
   "id": "cdadb72b",
   "metadata": {},
   "outputs": [],
   "source": [
    "rev_opt_booking.sample(n=8)[['expected_rn', 'room_limit', 'optimal_adr', 'optimal_adr_limited']]"
   ]
  }
 ],
 "metadata": {
  "kernelspec": {
   "display_name": "Python 3",
   "language": "python",
   "name": "python3"
  },
  "language_info": {
   "codemirror_mode": {
    "name": "ipython",
    "version": 3
   },
   "file_extension": ".py",
   "mimetype": "text/x-python",
   "name": "python",
   "nbconvert_exporter": "python",
   "pygments_lexer": "ipython3",
   "version": "3.8.18"
  }
 },
 "nbformat": 4,
 "nbformat_minor": 5
}
