{
 "cells": [
  {
   "cell_type": "code",
   "execution_count": null,
   "id": "1da3ec87-d99d-4b4e-8660-5a181cb8395b",
   "metadata": {},
   "outputs": [],
   "source": []
  }
 ],
 "metadata": {
  "kernelspec": {
   "display_name": "",
   "name": ""
  },
  "language_info": {
   "name": ""
  }
 },
 "nbformat": 4,
 "nbformat_minor": 5
}
