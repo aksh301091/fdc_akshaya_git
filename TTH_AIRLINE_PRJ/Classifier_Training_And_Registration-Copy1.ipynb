{
 "cells": [
  {
   "cell_type": "markdown",
   "id": "61df1e31-0739-41c3-be2c-ecf44e812231",
   "metadata": {},
   "source": [
    "# Use TTH_Template Custom Notebook template"
   ]
  },
  {
   "cell_type": "code",
   "execution_count": 1,
   "id": "371c6a4c-4acc-4404-827c-5c9fe622c7d3",
   "metadata": {},
   "outputs": [],
   "source": [
    "import datetime, warnings, scipy \n",
    "import pandas as pd\n",
    "import numpy as np\n",
    "\n",
    "import matplotlib.pyplot as plt\n",
    "%matplotlib inline\n",
    "import seaborn as sb\n",
    "\n",
    "from sklearn.model_selection import train_test_split\n",
    "# Importing Scikit-learn's preprocessing utilities for encoding categorical variables and scaling numerical data\n",
    "from sklearn.preprocessing import LabelEncoder\n",
    "from sklearn.preprocessing import StandardScaler\n",
    "from sklearn.tree import DecisionTreeClassifier\n",
    "from sklearn.metrics import roc_auc_score, classification_report\n",
    "\n",
    "pd.options.display.max_columns = 50\n",
    "warnings.filterwarnings(\"ignore\")\n",
    "\n",
    "from fosforml.model_manager.snowflakesession import get_session\n",
    "from fosforml import register_model"
   ]
  },
  {
   "cell_type": "code",
   "execution_count": 2,
   "id": "17fc7578-b0cc-4b75-acf8-70eb2250a7e1",
   "metadata": {},
   "outputs": [],
   "source": [
    "## for no font error:\n",
    "\n",
    "# Set Matplotlib's default font family to 'DeJavu Serif' to ensure a consistent font style across plots\n",
    "plt.rcParams['font.family'] = 'DeJavu Serif'"
   ]
  },
  {
   "cell_type": "markdown",
   "id": "e3aa2738-718f-4250-8f01-33dda51aab86",
   "metadata": {},
   "source": [
    "# Read data from Snowflake"
   ]
  },
  {
   "cell_type": "code",
   "execution_count": 3,
   "id": "fea86163-d9b4-48e3-98e7-221394405570",
   "metadata": {},
   "outputs": [],
   "source": [
    "my_session = get_session()"
   ]
  },
  {
   "cell_type": "code",
   "execution_count": null,
   "id": "c0861512-a2d5-47b2-9891-91fcffb4aa8a",
   "metadata": {},
   "outputs": [],
   "source": [
    "## table_name = 'FLIGHTS'\n",
    "table_name = 'FLIGHTS_FULL'\n",
    "\n",
    "sf_df = my_session.sql(\"select * from {}\".format(table_name))\n",
    "df = sf_df.to_pandas()"
   ]
  },
  {
   "cell_type": "code",
   "execution_count": null,
   "id": "f01faf24-a21e-4331-98c6-8aceb89735a4",
   "metadata": {},
   "outputs": [],
   "source": [
    "## FILTERING DATA for just 2 airlines\n",
    "\n",
    "options = ['Southwest Airlines Co.', 'Delta Air Lines Inc.'] \n",
    "  \n",
    "# selecting rows based on condition \n",
    "flights = df.loc[df['AIRLINE'].isin(options)] \n",
    "\n",
    "## check\n",
    "## flights['AIRLINE'].unique()"
   ]
  },
  {
   "cell_type": "code",
   "execution_count": null,
   "id": "ceb9a126-9429-42bf-81e7-c297bb9685ae",
   "metadata": {},
   "outputs": [],
   "source": [
    "## flights = df.copy()\n",
    "flights_needed_data = flights.copy()"
   ]
  },
  {
   "cell_type": "code",
   "execution_count": null,
   "id": "656cdba5-6d9a-47d4-bf9d-b389d6faf22f",
   "metadata": {},
   "outputs": [],
   "source": [
    "flights_needed_data.shape\n",
    "\n",
    "## OLD VALUE: (5819079, 31)"
   ]
  },
  {
   "cell_type": "code",
   "execution_count": null,
   "id": "2cc64aca-e409-4d3f-891a-662419ab89a2",
   "metadata": {},
   "outputs": [],
   "source": [
    "flights_needed_data.info()"
   ]
  },
  {
   "cell_type": "code",
   "execution_count": null,
   "id": "e866fb9d-1764-4dc7-a455-e488d187fc56",
   "metadata": {},
   "outputs": [],
   "source": [
    "flights_needed_data.head"
   ]
  },
  {
   "cell_type": "code",
   "execution_count": null,
   "id": "e2e5a3bc-6f46-4a76-97de-11e01277bc77",
   "metadata": {},
   "outputs": [],
   "source": [
    "## flights_needed_data = df.loc[(df['fly_date'] <= '2024-10-31')]\n",
    "## flights_needed_data = flights[0:100000]  # getting a segment "
   ]
  },
  {
   "cell_type": "code",
   "execution_count": null,
   "id": "481e05ba-330c-4119-8cb6-73285dd8f2e2",
   "metadata": {},
   "outputs": [],
   "source": [
    "def categorize_time(SCHEDULED_ARRIVAL):\n",
    "    if SCHEDULED_ARRIVAL >= 500 and SCHEDULED_ARRIVAL< 800: return 'Early morning'\n",
    "    elif SCHEDULED_ARRIVAL >= 800 and SCHEDULED_ARRIVAL < 1100: return 'Late morning'\n",
    "    elif SCHEDULED_ARRIVAL >= 1100 and SCHEDULED_ARRIVAL < 1400: return 'Around noon'\n",
    "    elif SCHEDULED_ARRIVAL >= 1400 and SCHEDULED_ARRIVAL < 1700: return 'Afternoon'\n",
    "    elif SCHEDULED_ARRIVAL >= 1700 and SCHEDULED_ARRIVAL < 2000: return 'Evening'\n",
    "    elif SCHEDULED_ARRIVAL >= 2000 and SCHEDULED_ARRIVAL < 2300: return 'Night'\n",
    "    elif SCHEDULED_ARRIVAL >= 2300 or SCHEDULED_ARRIVAL < 200: return 'Late night'\n",
    "    elif SCHEDULED_ARRIVAL >= 200 or SCHEDULED_ARRIVAL < 500: return 'Dawn'\n",
    "#    else:\n",
    "#        return 'Dawn'\n",
    "\n",
    "# Apply the function to the Age column using the apply() function\n",
    "flights_needed_data['ARRIVAL_TIME_SEGMENT'] = flights_needed_data['SCHEDULED_ARRIVAL'].apply(categorize_time)"
   ]
  },
  {
   "cell_type": "code",
   "execution_count": null,
   "id": "e0bb8e85-6007-4ed3-84b7-0af67c6a64e6",
   "metadata": {},
   "outputs": [],
   "source": [
    "flights_needed_data"
   ]
  },
  {
   "cell_type": "code",
   "execution_count": null,
   "id": "f6d40bd9-74d7-4afd-b8b3-ddaefec93f5f",
   "metadata": {},
   "outputs": [],
   "source": [
    " flights['AIRLINE__CODE'].unique()"
   ]
  },
  {
   "cell_type": "code",
   "execution_count": null,
   "id": "ebfcb783-151a-424f-bc1c-b4cbe124706d",
   "metadata": {},
   "outputs": [],
   "source": [
    "flights_needed_data.value_counts('DIVERTED')  # will tell us the no. of flights which were diverted"
   ]
  },
  {
   "cell_type": "code",
   "execution_count": null,
   "id": "36b2c291-2cbd-44c7-89b4-b66546dac87d",
   "metadata": {},
   "outputs": [],
   "source": [
    "flights_needed_data.info()"
   ]
  },
  {
   "cell_type": "code",
   "execution_count": null,
   "id": "4dc72563-1a28-428c-99fd-20c7dde8cd2b",
   "metadata": {},
   "outputs": [],
   "source": [
    "# filtering out unnecessary columns\n",
    "flights_needed_data=flights_needed_data.drop(['YEAR','FLIGHT_NUMBER','AIRLINE__CODE','TAIL_NUMBER','TAXI_OUT',\n",
    "                                              'SCHEDULED_TIME','WHEELS_OFF','ELAPSED_TIME',\n",
    "                                              'AIR_TIME','WHEELS_ON','DAY_OF_WEEK','TAXI_IN','CANCELLATION_REASON', 'DEST_LATITUDE',\n",
    "                                              'DEST_LONGITUDE','ORIGIN_LATITUDE', 'ORIGIN_LONGITUDE','ORIGIN_STATE', 'ORIGIN_COUNTRY', \n",
    "                                              'DEST_AIRPORT','DEST_CITY','DEST_STATE','DEST_COUNTRY', 'ORIGIN_CITY', 'ORIGIN_AIRPORT' ],\n",
    "                                             axis=1)\n",
    "# REMOVED DISTANCE FROM THIS LIST"
   ]
  },
  {
   "cell_type": "code",
   "execution_count": null,
   "id": "5801d4e1-04d8-450b-8fea-43c775a34b79",
   "metadata": {},
   "outputs": [],
   "source": [
    "## flights_needed_data=flights_needed_data.drop(['ORIGIN_AIRPORT' ],\n",
    "#                                             axis=1)"
   ]
  },
  {
   "cell_type": "code",
   "execution_count": null,
   "id": "ce8bfef7-8a1f-43b3-a2b4-4ae787614e8f",
   "metadata": {},
   "outputs": [],
   "source": [
    "flights_needed_data.isnull().sum()"
   ]
  },
  {
   "cell_type": "code",
   "execution_count": null,
   "id": "64ec3f0a-0626-42c9-8edd-f9b70227684b",
   "metadata": {},
   "outputs": [],
   "source": [
    "flights_needed_data.info()"
   ]
  },
  {
   "cell_type": "markdown",
   "id": "6566d72c-5e27-49d5-bef5-500bebcd1a84",
   "metadata": {},
   "source": [
    "## DO NOT RUN THIS CODE\n",
    "#flights_needed_data = flights_needed_data.apply(lambda x: x.fillna(x.mean()), axis=0)\n",
    "\n",
    "cols = ['DEPARTURE_DELAY','ARRIVAL_DELAY','AIR_SYSTEM_DELAY',\n",
    "        'SECURITY_DELAY','AIRLINE_DELAY','LATE_AIRCRAFT_DELAY','WEATHER_DELAY']\n",
    "cols1 = ['DEPARTURE_TIME']\n",
    "cols2 = ['ARRIVAL_TIME']\n",
    "#cols = ['DEPARTURE_TIME','DEPARTURE_DELAY','ARRIVAL_TIME','ARRIVAL_DELAY','AIR_SYSTEM_DELAY',\n",
    "#        'SECURITY_DELAY','AIRLINE_DELAY','LATE_AIRCRAFT_DELAY','WEATHER_DELAY']\n",
    "\n",
    "for column in cols1:\n",
    "    print (column)\n",
    "    flights_needed_data[column].fillna(flights_needed_data[['SCHEDULED_DEPARTURE']]), inplace=True)\n",
    "\n",
    "for column in cols2:\n",
    "    print (column)\n",
    "    flights_needed_data[column].fillna(flights_needed_data[['SCHEDULED_ARRIVAL']]), inplace=True)\n",
    "    \n",
    "for column in cols:\n",
    "    print (column)\n",
    "    flights_needed_data[column].fillna(flights_needed_data[column].mean(), inplace=True)"
   ]
  },
  {
   "cell_type": "code",
   "execution_count": null,
   "id": "9c58428b-4424-4d70-a0fa-9898a18acb1a",
   "metadata": {},
   "outputs": [],
   "source": [
    "#flights_needed_data = flights_needed_data.apply(lambda x: x.fillna(x.mean()), axis=0)\n",
    "\n",
    "cols = ['DEPARTURE_TIME', 'ARRIVAL_TIME','DEPARTURE_DELAY','ARRIVAL_DELAY','AIR_SYSTEM_DELAY',\n",
    "        'SECURITY_DELAY','AIRLINE_DELAY','LATE_AIRCRAFT_DELAY','WEATHER_DELAY']\n",
    "\n",
    "for column in cols:\n",
    "    print (column)\n",
    "    flights_needed_data[column].fillna(flights_needed_data[column].mean(), inplace=True)"
   ]
  },
  {
   "cell_type": "code",
   "execution_count": null,
   "id": "35862e0b-7990-411e-a9a7-d76b6a3a7c8c",
   "metadata": {},
   "outputs": [],
   "source": [
    "# replacing all NaN values with the mean of the attribute in which they are present\n",
    "#flights_needed_data=flights_needed_data.fillna(flights_needed_data.mean())"
   ]
  },
  {
   "cell_type": "code",
   "execution_count": null,
   "id": "8598113c-d80b-498b-833d-00135e2f4d31",
   "metadata": {},
   "outputs": [],
   "source": [
    "flights_needed_data.head()"
   ]
  },
  {
   "cell_type": "code",
   "execution_count": null,
   "id": "0a48b61c-7cf7-4849-b5df-f5c560d939c7",
   "metadata": {},
   "outputs": [],
   "source": [
    "# creating a new column; it will tell if the flight was delayed or not\n",
    "result=[]"
   ]
  },
  {
   "cell_type": "markdown",
   "id": "d0f82165-01c8-4f09-a6ab-309a89807f7f",
   "metadata": {},
   "source": [
    "# Create Target/Result column for Classifier"
   ]
  },
  {
   "cell_type": "code",
   "execution_count": null,
   "id": "22fb7882-b58e-4f54-9163-1ffc800ea7cd",
   "metadata": {},
   "outputs": [],
   "source": [
    "for row in flights_needed_data['ARRIVAL_DELAY']:\n",
    "  if row > 5:\n",
    "    result.append(1)\n",
    "  else:\n",
    "    result.append(0) "
   ]
  },
  {
   "cell_type": "code",
   "execution_count": null,
   "id": "03edefc0-0405-43ab-9b04-68486d3b4f3c",
   "metadata": {},
   "outputs": [],
   "source": [
    "flights_needed_data['result'] = result"
   ]
  },
  {
   "cell_type": "code",
   "execution_count": null,
   "id": "b3b423c2-8fb9-461f-96f0-ee9606a28dde",
   "metadata": {},
   "outputs": [],
   "source": [
    "flights_needed_data.value_counts('result')"
   ]
  },
  {
   "cell_type": "code",
   "execution_count": null,
   "id": "a75df5dc-543e-48f6-9063-ef718cebef33",
   "metadata": {},
   "outputs": [],
   "source": [
    "# removing some more columns\n",
    "flights_needed_data=flights_needed_data.drop(['ORIGIN_AIRPORT_CODE', 'DESTINATION_AIRPORT_CODE', 'ARRIVAL_TIME', 'ARRIVAL_DELAY'],axis=1)\n",
    "flights_needed_data"
   ]
  },
  {
   "cell_type": "code",
   "execution_count": null,
   "id": "54637fa2-038e-4c9d-8dda-760f0c7ed330",
   "metadata": {},
   "outputs": [],
   "source": [
    "flights_needed_data=flights_needed_data.drop(['FLY_DATE'], axis=1)"
   ]
  },
  {
   "cell_type": "code",
   "execution_count": null,
   "id": "981013f6-448b-4b72-8952-e30e76f59375",
   "metadata": {},
   "outputs": [],
   "source": [
    "#Get list of categorical variables\n",
    "s = (flights_needed_data.dtypes == 'object')\n",
    "object_cols = list(s[s].index)\n",
    "\n",
    "print(\"Categorical variables in the dataset:\", object_cols)"
   ]
  },
  {
   "cell_type": "code",
   "execution_count": null,
   "id": "77f7e232-3cbf-4513-8587-8d678398a10c",
   "metadata": {},
   "outputs": [],
   "source": [
    "#Label Encoding the object dtypes.\n",
    "LE=LabelEncoder()\n",
    "for i in object_cols:\n",
    "    flights_needed_data[i]=flights_needed_data[[i]].apply(LE.fit_transform)\n",
    "    \n",
    "print(\"All features are now numerical\")"
   ]
  },
  {
   "cell_type": "code",
   "execution_count": null,
   "id": "f17b3d89-a124-4f32-9373-6766f8e26303",
   "metadata": {},
   "outputs": [],
   "source": [
    "print(flights_needed_data.max(axis=0)) # will return max value of each column\n",
    "print(flights_needed_data.min(axis=0)) # will return min value of each column"
   ]
  },
  {
   "cell_type": "markdown",
   "id": "c86ace0b-272d-46de-98dc-4ff4d162d32f",
   "metadata": {},
   "source": [
    "# Train test split"
   ]
  },
  {
   "cell_type": "code",
   "execution_count": null,
   "id": "ed841e8d-48d4-4d7e-a104-bc8ebf2a8c13",
   "metadata": {},
   "outputs": [],
   "source": [
    "flights_needed_data.info()"
   ]
  },
  {
   "cell_type": "code",
   "execution_count": null,
   "id": "8b7c9c70-2af7-4883-8926-1209643f57fd",
   "metadata": {},
   "outputs": [],
   "source": [
    "test = flights_needed_data[flights_needed_data['MONTH'] >= 11] \n",
    "#test=test.drop(['FLY_DATE'], axis=1)\n",
    "train = flights_needed_data[flights_needed_data['MONTH'] < 11]\n",
    "#train=train.drop(['FLY_DATE'], axis=1)\n",
    "test_data = test.values\n",
    "train_data = train.values\n",
    "X_train, y_train = train_data[:,:-1], train_data[:,-1]\n",
    "X_test, y_test = test_data[:,:-1], test_data[:,-1]\n",
    "#train_data = flights_needed_data[flights_needed_data['FLY_DATE'].apply(lambda x:x.date()) < datetime.date(2024, 11, 1)]\n",
    "#test_data  = flights_needed_data[flights_needed_data['FLY_DATE'].apply(lambda x:x.date()) > datetime.date(2024, 10, 31)]"
   ]
  },
  {
   "cell_type": "code",
   "execution_count": null,
   "id": "346762ff-c602-46fe-b876-5d1beb3c69da",
   "metadata": {},
   "outputs": [],
   "source": [
    "test.shape"
   ]
  },
  {
   "cell_type": "code",
   "execution_count": null,
   "id": "b48f9d83-552b-434a-86e5-52f7ecf9bb1d",
   "metadata": {},
   "outputs": [],
   "source": [
    "train.shape"
   ]
  },
  {
   "cell_type": "code",
   "execution_count": null,
   "id": "8fe17d29-a4c4-4acb-8d6a-8a738b94a652",
   "metadata": {},
   "outputs": [],
   "source": [
    "X_train"
   ]
  },
  {
   "cell_type": "code",
   "execution_count": null,
   "id": "90d6f3ad-1536-4baa-af85-4260735f1234",
   "metadata": {},
   "outputs": [],
   "source": [
    "sc = StandardScaler()\n",
    "X_train_1 = sc.fit(X_train)\n",
    "X_train = sc.transform(X_train)\n",
    "X_test = sc.transform(X_test)"
   ]
  },
  {
   "cell_type": "markdown",
   "id": "07273d32-06fb-44bf-885b-2f8766fa14c5",
   "metadata": {},
   "source": [
    "# Model training and Prediction"
   ]
  },
  {
   "cell_type": "code",
   "execution_count": null,
   "id": "f63368de-2e10-478c-b25d-471f39c0775f",
   "metadata": {},
   "outputs": [],
   "source": [
    "clf = DecisionTreeClassifier()\n",
    "clf = clf.fit(X_train,y_train)"
   ]
  },
  {
   "cell_type": "code",
   "execution_count": null,
   "id": "147b558f-f64f-4de1-914c-b5a43019f1c2",
   "metadata": {},
   "outputs": [],
   "source": [
    "y_prob = clf.predict_proba(X_test)[:,1]"
   ]
  },
  {
   "cell_type": "code",
   "execution_count": null,
   "id": "d82c3e8d-c80d-49f4-a463-4280e8f6a000",
   "metadata": {},
   "outputs": [],
   "source": [
    "y_pred = clf.predict(X_test)"
   ]
  },
  {
   "cell_type": "code",
   "execution_count": null,
   "id": "b6968678-19a5-4b73-ac23-5be225e94844",
   "metadata": {},
   "outputs": [],
   "source": [
    "auc_score = roc_auc_score(y_test, y_pred)\n",
    "auc_score"
   ]
  },
  {
   "cell_type": "code",
   "execution_count": null,
   "id": "ab131b7c-ab9b-430b-b006-78f451fda925",
   "metadata": {},
   "outputs": [],
   "source": [
    "print(classification_report(y_test, y_pred))"
   ]
  },
  {
   "cell_type": "code",
   "execution_count": null,
   "id": "ec5eec6e-cd90-49c0-9af3-a5364a04371a",
   "metadata": {},
   "outputs": [],
   "source": [
    "flights_needed_data.shape"
   ]
  },
  {
   "cell_type": "code",
   "execution_count": null,
   "id": "d1ac2b07-af2a-45d8-93a2-c5a23b85d346",
   "metadata": {},
   "outputs": [],
   "source": [
    "flights_needed_df = flights_needed_data.drop(['result'],axis=1)"
   ]
  },
  {
   "cell_type": "code",
   "execution_count": null,
   "id": "3225c048-1eb7-403b-9320-dff5fa64d788",
   "metadata": {},
   "outputs": [],
   "source": [
    "final_data = flights_needed_df.values"
   ]
  },
  {
   "cell_type": "code",
   "execution_count": null,
   "id": "40e8da13-f3d3-480e-a37e-d3a77b49b758",
   "metadata": {},
   "outputs": [],
   "source": [
    "final_data = sc.transform(final_data)"
   ]
  },
  {
   "cell_type": "code",
   "execution_count": null,
   "id": "8f33f8b8-b589-49db-8ece-499fc882a026",
   "metadata": {},
   "outputs": [],
   "source": [
    "y_pred = clf.predict(final_data)"
   ]
  },
  {
   "cell_type": "code",
   "execution_count": null,
   "id": "7ccf66cb-8b92-4f1d-99cd-c600027fd1c8",
   "metadata": {},
   "outputs": [],
   "source": [
    "final_data"
   ]
  },
  {
   "cell_type": "code",
   "execution_count": null,
   "id": "7dd33c31-ad41-4336-8b3f-9ab1537c062d",
   "metadata": {},
   "outputs": [],
   "source": []
  },
  {
   "cell_type": "code",
   "execution_count": null,
   "id": "2cdf832f-75d6-4fea-b742-cb74491b6cc9",
   "metadata": {},
   "outputs": [],
   "source": [
    "y_prob = clf.predict_proba(final_data)[:,1]"
   ]
  },
  {
   "cell_type": "code",
   "execution_count": null,
   "id": "00662b37-38ff-4e30-a38d-5e9e2030f508",
   "metadata": {},
   "outputs": [],
   "source": [
    "len(y_pred)"
   ]
  },
  {
   "cell_type": "code",
   "execution_count": null,
   "id": "e929d3fb-8841-42cb-879b-6b48a9f8a035",
   "metadata": {},
   "outputs": [],
   "source": [
    "clf.feature_importances_"
   ]
  },
  {
   "cell_type": "code",
   "execution_count": null,
   "id": "c83c6eae-880a-4c2c-832d-c375f705c4b5",
   "metadata": {
    "scrolled": true
   },
   "outputs": [],
   "source": [
    "type(X_train),type(X_test),type(y_train),type(y_test),type(y_pred),type(y_prob)"
   ]
  },
  {
   "cell_type": "code",
   "execution_count": null,
   "id": "bdea7794-5a2a-475c-a3bd-573978b15648",
   "metadata": {},
   "outputs": [],
   "source": [
    "column = ['MONTH', 'DAY', 'SCHEDULED_DEPARTURE', 'DEPARTURE_TIME','DEPARTURE_DELAY','DISTANCE','SCHEDULED_ARRIVAL', 'DIVERTED', 'CANCELLED', \n",
    "          'AIR_SYSTEM_DELAY','SECURITY_DELAY', 'AIRLINE_DELAY', 'LATE_AIRCRAFT_DELAY','WEATHER_DELAY','AIRLINE', 'ARRIVAL_TIME_SEGMENT']\n"
   ]
  },
  {
   "cell_type": "code",
   "execution_count": null,
   "id": "a8e2909f-a5a1-4513-a22e-164c7505677c",
   "metadata": {},
   "outputs": [],
   "source": [
    "X_train_df = pd.DataFrame(X_train, columns=column)\n",
    "X_test_df = pd.DataFrame(X_test, columns=column)\n",
    "y_train_df = pd.DataFrame(y_train, columns=['ACTUAL_DELAY'])\n",
    "y_test_df = pd.DataFrame(y_test, columns=['ACTUAL_DELAY'])\n",
    "y_pred_df = pd.DataFrame(y_pred, columns=['PREDICTED_DELAY'])\n",
    "y_prob_df = pd.DataFrame(y_prob, columns=['PROBABILITY'])"
   ]
  },
  {
   "cell_type": "markdown",
   "id": "c259e861-84a4-48e2-867d-f65f8e925148",
   "metadata": {},
   "source": [
    "# Model Registration"
   ]
  },
  {
   "cell_type": "code",
   "execution_count": null,
   "id": "a75e4815-0392-449b-944a-071349fc21c8",
   "metadata": {},
   "outputs": [],
   "source": [
    "## registering the model in Fosfor Insight Designer.\n",
    "register_model(\n",
    "    model_obj=clf, \n",
    "    session=my_session,\n",
    "    x_train=X_train_df,\n",
    "    y_train=y_train_df,\n",
    "    x_test=X_test_df,\n",
    "    y_test=y_test_df,\n",
    "    y_pred=y_pred_df,\n",
    "    y_prob=y_prob_df,\n",
    "    source=\"Notebook\",\n",
    "    dataset_name=\"FLIGHTS_FULL\",\n",
    "    dataset_source=\"Snowflake\",\n",
    "    #dataset_source=\"InMemory\",\n",
    "    name=\"Decision_Tree_Delay_Classifier\",\n",
    "    description=\"Decision tree model trained via Notebook to identify Flight Delay application\",\n",
    "    flavour=\"sklearn\",\n",
    "    model_type=\"classification\",\n",
    "    conda_dependencies=[\"scikit-learn==1.3.2\"]\n",
    ")"
   ]
  },
  {
   "cell_type": "code",
   "execution_count": null,
   "id": "109e4213-c7df-4838-8f85-192a3945b4d2",
   "metadata": {},
   "outputs": [],
   "source": [
    "y_train_df"
   ]
  },
  {
   "cell_type": "markdown",
   "id": "33f85118-ef64-4d0d-9437-2dee6a260a0d",
   "metadata": {},
   "source": [
    "# Push Model Input on Snowflake"
   ]
  },
  {
   "cell_type": "code",
   "execution_count": null,
   "id": "29fcb8e8-e50c-4002-9bb7-2e8812b16f68",
   "metadata": {},
   "outputs": [],
   "source": [
    "X_train.shape"
   ]
  },
  {
   "cell_type": "code",
   "execution_count": null,
   "id": "7aa70205-48bf-46d3-8d74-f1a07f58e754",
   "metadata": {},
   "outputs": [],
   "source": [
    "y_train.shape"
   ]
  },
  {
   "cell_type": "raw",
   "id": "7fb53a75-633a-4c84-8c71-14bc476433f9",
   "metadata": {},
   "source": []
  },
  {
   "cell_type": "code",
   "execution_count": null,
   "id": "feb7b96d-54cc-4550-b55f-9f1b97b95379",
   "metadata": {},
   "outputs": [],
   "source": [
    "data_df = pd.concat([X_train_df,y_train_df],axis=1,ignore_index=True)"
   ]
  },
  {
   "cell_type": "code",
   "execution_count": null,
   "id": "ebe40193-0cc6-4508-8da3-e6d825690ddb",
   "metadata": {},
   "outputs": [],
   "source": [
    "data_df.columns = ['MONTH', 'DAY', 'SCHEDULED_DEPARTURE', 'DEPARTURE_TIME','DEPARTURE_DELAY','DISTANCE','SCHEDULED_ARRIVAL', 'DIVERTED', 'CANCELLED', \n",
    "          'AIR_SYSTEM_DELAY','SECURITY_DELAY', 'AIRLINE_DELAY', 'LATE_AIRCRAFT_DELAY','WEATHER_DELAY','AIRLINE', 'ARRIVAL_TIME_SEGMENT','FLIGHT_DELAY']"
   ]
  },
  {
   "cell_type": "code",
   "execution_count": null,
   "id": "0190d361-7943-4b6c-8975-956078e2149e",
   "metadata": {},
   "outputs": [],
   "source": [
    "data_df.head()"
   ]
  },
  {
   "cell_type": "code",
   "execution_count": null,
   "id": "f5829b4f-9088-41b3-86fd-f49cc386d93f",
   "metadata": {},
   "outputs": [],
   "source": [
    "data_df.info()"
   ]
  },
  {
   "cell_type": "code",
   "execution_count": null,
   "id": "3ac3c1ab-9ed9-4471-ac16-add9a4b1adfa",
   "metadata": {},
   "outputs": [],
   "source": [
    "data_df['FLIGHT_DELAY'] = data_df['FLIGHT_DELAY'].astype('str')"
   ]
  },
  {
   "cell_type": "code",
   "execution_count": null,
   "id": "de0c61ed-293b-49f1-b9e8-7956af29c6ce",
   "metadata": {},
   "outputs": [],
   "source": [
    "data_df.head()"
   ]
  },
  {
   "cell_type": "code",
   "execution_count": null,
   "id": "1059d8c6-ee72-4ac5-b731-e9bd680b9f84",
   "metadata": {},
   "outputs": [],
   "source": [
    "ins_train_sf=my_session.createDataFrame(\n",
    "        data_df.values.tolist(),\n",
    "        schema=data_df.columns.tolist())\n",
    "ins_train_sf.write.mode(\"overwrite\").save_as_table(\"TTH_DB.TTH_AIRLINE_SCHEMA.FLIGHTS_TRAINDATA\")"
   ]
  },
  {
   "cell_type": "markdown",
   "id": "c40d71b3-f21e-4678-a753-5e44a791542a",
   "metadata": {},
   "source": [
    "# Push Model Output on snowflake"
   ]
  },
  {
   "cell_type": "code",
   "execution_count": null,
   "id": "63626acb-37de-493f-9d9f-a7d7546ede5f",
   "metadata": {},
   "outputs": [],
   "source": [
    "test_df = pd.concat([X_test_df,y_test_df,y_pred_df, y_prob_df],axis=1,ignore_index=True)"
   ]
  },
  {
   "cell_type": "code",
   "execution_count": null,
   "id": "aca76bd9-3e53-4717-ae31-90dc38f7303d",
   "metadata": {},
   "outputs": [],
   "source": [
    "test_df.dropna(inplace=True)"
   ]
  },
  {
   "cell_type": "code",
   "execution_count": null,
   "id": "ed8c958b-7bd0-47fd-aac5-83f43e8abda9",
   "metadata": {},
   "outputs": [],
   "source": [
    "test_df.shape"
   ]
  },
  {
   "cell_type": "code",
   "execution_count": null,
   "id": "5b256707-3aa6-47a6-a1f9-080abb87b3e5",
   "metadata": {
    "scrolled": true
   },
   "outputs": [],
   "source": [
    "test_df.head()"
   ]
  },
  {
   "cell_type": "code",
   "execution_count": null,
   "id": "959fb66d-5ae0-4e35-b31a-0cfe83ab8f9a",
   "metadata": {},
   "outputs": [],
   "source": [
    "test_df.columns = ['MONTH', 'DAY', 'SCHEDULED_DEPARTURE', 'DEPARTURE_TIME','DEPARTURE_DELAY','DISTANCE','SCHEDULED_ARRIVAL', \n",
    "                   'DIVERTED', 'CANCELLED', 'AIR_SYSTEM_DELAY','SECURITY_DELAY', 'AIRLINE_DELAY', 'LATE_AIRCRAFT_DELAY',\n",
    "                   'WEATHER_DELAY','AIRLINE', 'ARRIVAL_TIME_SEGMENT','FLIGHT_DELAY','PREDICTED_DELAY','PROBABILITY']"
   ]
  },
  {
   "cell_type": "code",
   "execution_count": null,
   "id": "2fe5db14-4098-43fd-bc4c-2e11e71ef532",
   "metadata": {},
   "outputs": [],
   "source": [
    "X1_df = test_df.head(15000)\n",
    "X2_df = test_df.tail(15000)"
   ]
  },
  {
   "cell_type": "code",
   "execution_count": null,
   "id": "8160f70c-12ef-4a5a-8c86-ecfd98a62cfc",
   "metadata": {},
   "outputs": [],
   "source": [
    "ins_train_sf=my_session.createDataFrame(\n",
    "        X1_df.values.tolist(),\n",
    "        schema=X1_df.columns.tolist())\n",
    "ins_train_sf.write.mode(\"overwrite\").save_as_table(\"TTH_DB.TTH_AIRLINE_SCHEMA.DELAY_CLASSIFIER_OUTPUT_1\")"
   ]
  },
  {
   "cell_type": "code",
   "execution_count": null,
   "id": "c930ce26-4451-48b5-962e-dcd8536bfc0c",
   "metadata": {},
   "outputs": [],
   "source": [
    "ins_train_sf=my_session.createDataFrame(\n",
    "        X2_df.values.tolist(),\n",
    "        schema=X2_df.columns.tolist())\n",
    "ins_train_sf.write.mode(\"overwrite\").save_as_table(\"TTH_DB.TTH_AIRLINE_SCHEMA.DELAY_CLASSIFIER_OUTPUT_2\")"
   ]
  }
 ],
 "metadata": {
  "kernelspec": {
   "display_name": "Python 3 (ipykernel)",
   "language": "python",
   "name": "python3"
  },
  "language_info": {
   "codemirror_mode": {
    "name": "ipython",
    "version": 3
   },
   "file_extension": ".py",
   "mimetype": "text/x-python",
   "name": "python",
   "nbconvert_exporter": "python",
   "pygments_lexer": "ipython3",
   "version": "3.9.19"
  }
 },
 "nbformat": 4,
 "nbformat_minor": 5
}
