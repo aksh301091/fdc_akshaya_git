{
 "cells": [
  {
   "cell_type": "markdown",
   "id": "61df1e31-0739-41c3-be2c-ecf44e812231",
   "metadata": {},
   "source": [
    "# Use TTH_Template Custom Notebook template"
   ]
  },
  {
   "cell_type": "code",
   "execution_count": 46,
   "id": "371c6a4c-4acc-4404-827c-5c9fe622c7d3",
   "metadata": {},
   "outputs": [],
   "source": [
    "import datetime, warnings, scipy \n",
    "import pandas as pd\n",
    "import numpy as np\n",
    "\n",
    "import matplotlib.pyplot as plt\n",
    "%matplotlib inline\n",
    "import seaborn as sb\n",
    "\n",
    "from sklearn.model_selection import train_test_split\n",
    "# Importing Scikit-learn's preprocessing utilities for encoding categorical variables and scaling numerical data\n",
    "from sklearn.preprocessing import LabelEncoder\n",
    "from sklearn.preprocessing import StandardScaler\n",
    "from sklearn.tree import DecisionTreeClassifier\n",
    "from sklearn.metrics import roc_auc_score, classification_report\n",
    "\n",
    "pd.options.display.max_columns = 50\n",
    "warnings.filterwarnings(\"ignore\")\n",
    "\n",
    "from fosforml.model_manager.snowflakesession import get_session\n",
    "from fosforml import register_model"
   ]
  },
  {
   "cell_type": "code",
   "execution_count": 2,
   "id": "17fc7578-b0cc-4b75-acf8-70eb2250a7e1",
   "metadata": {},
   "outputs": [],
   "source": [
    "## for no font error:\n",
    "\n",
    "# Set Matplotlib's default font family to 'DeJavu Serif' to ensure a consistent font style across plots\n",
    "plt.rcParams['font.family'] = 'DeJavu Serif'"
   ]
  },
  {
   "cell_type": "markdown",
   "id": "e3aa2738-718f-4250-8f01-33dda51aab86",
   "metadata": {},
   "source": [
    "# Read data from Snowflake"
   ]
  },
  {
   "cell_type": "code",
   "execution_count": 3,
   "id": "fea86163-d9b4-48e3-98e7-221394405570",
   "metadata": {},
   "outputs": [],
   "source": [
    "my_session = get_session()"
   ]
  },
  {
   "cell_type": "code",
   "execution_count": 4,
   "id": "c0861512-a2d5-47b2-9891-91fcffb4aa8a",
   "metadata": {},
   "outputs": [],
   "source": [
    "## table_name = 'FLIGHTS'\n",
    "table_name = 'FLIGHTS_FULL'\n",
    "\n",
    "sf_df = my_session.sql(\"select * from {}\".format(table_name))\n",
    "df = sf_df.to_pandas()"
   ]
  },
  {
   "cell_type": "code",
   "execution_count": 5,
   "id": "f01faf24-a21e-4331-98c6-8aceb89735a4",
   "metadata": {},
   "outputs": [],
   "source": [
    "## FILTERING DATA for just 2 airlines\n",
    "\n",
    "options = ['Southwest Airlines Co.', 'Delta Air Lines Inc.'] \n",
    "  \n",
    "# selecting rows based on condition \n",
    "flights = df.loc[df['AIRLINE'].isin(options)] \n",
    "\n",
    "## check\n",
    "## flights['AIRLINE'].unique()"
   ]
  },
  {
   "cell_type": "code",
   "execution_count": 6,
   "id": "ceb9a126-9429-42bf-81e7-c297bb9685ae",
   "metadata": {},
   "outputs": [],
   "source": [
    "## flights = df.copy()\n",
    "flights_needed_data = flights.copy()"
   ]
  },
  {
   "cell_type": "code",
   "execution_count": 7,
   "id": "656cdba5-6d9a-47d4-bf9d-b389d6faf22f",
   "metadata": {},
   "outputs": [
    {
     "data": {
      "text/plain": [
       "(2137736, 45)"
      ]
     },
     "execution_count": 7,
     "metadata": {},
     "output_type": "execute_result"
    }
   ],
   "source": [
    "flights_needed_data.shape\n",
    "\n",
    "## OLD VALUE: (5819079, 31)"
   ]
  },
  {
   "cell_type": "code",
   "execution_count": null,
   "id": "2cc64aca-e409-4d3f-891a-662419ab89a2",
   "metadata": {},
   "outputs": [],
   "source": [
    "flights_needed_data.info()"
   ]
  },
  {
   "cell_type": "code",
   "execution_count": null,
   "id": "e866fb9d-1764-4dc7-a455-e488d187fc56",
   "metadata": {},
   "outputs": [],
   "source": [
    "flights_needed_data.head"
   ]
  },
  {
   "cell_type": "code",
   "execution_count": null,
   "id": "e2e5a3bc-6f46-4a76-97de-11e01277bc77",
   "metadata": {},
   "outputs": [],
   "source": [
    "## flights_needed_data = df.loc[(df['fly_date'] <= '2024-10-31')]\n",
    "## flights_needed_data = flights[0:100000]  # getting a segment "
   ]
  },
  {
   "cell_type": "code",
   "execution_count": 8,
   "id": "481e05ba-330c-4119-8cb6-73285dd8f2e2",
   "metadata": {},
   "outputs": [],
   "source": [
    "def categorize_time(SCHEDULED_ARRIVAL):\n",
    "    if SCHEDULED_ARRIVAL >= 500 and SCHEDULED_ARRIVAL< 800: return 'Early morning'\n",
    "    elif SCHEDULED_ARRIVAL >= 800 and SCHEDULED_ARRIVAL < 1100: return 'Late morning'\n",
    "    elif SCHEDULED_ARRIVAL >= 1100 and SCHEDULED_ARRIVAL < 1400: return 'Around noon'\n",
    "    elif SCHEDULED_ARRIVAL >= 1400 and SCHEDULED_ARRIVAL < 1700: return 'Afternoon'\n",
    "    elif SCHEDULED_ARRIVAL >= 1700 and SCHEDULED_ARRIVAL < 2000: return 'Evening'\n",
    "    elif SCHEDULED_ARRIVAL >= 2000 and SCHEDULED_ARRIVAL < 2300: return 'Night'\n",
    "    elif SCHEDULED_ARRIVAL >= 2300 or SCHEDULED_ARRIVAL < 200: return 'Late night'\n",
    "    elif SCHEDULED_ARRIVAL >= 200 or SCHEDULED_ARRIVAL < 500: return 'Dawn'\n",
    "#    else:\n",
    "#        return 'Dawn'\n",
    "\n",
    "# Apply the function to the Age column using the apply() function\n",
    "flights_needed_data['ARRIVAL_TIME_SEGMENT'] = flights_needed_data['SCHEDULED_ARRIVAL'].apply(categorize_time)"
   ]
  },
  {
   "cell_type": "code",
   "execution_count": null,
   "id": "e0bb8e85-6007-4ed3-84b7-0af67c6a64e6",
   "metadata": {},
   "outputs": [],
   "source": [
    "flights_needed_data"
   ]
  },
  {
   "cell_type": "code",
   "execution_count": 9,
   "id": "f6d40bd9-74d7-4afd-b8b3-ddaefec93f5f",
   "metadata": {},
   "outputs": [
    {
     "data": {
      "text/plain": [
       "array(['DL', 'WN'], dtype=object)"
      ]
     },
     "execution_count": 9,
     "metadata": {},
     "output_type": "execute_result"
    }
   ],
   "source": [
    " flights['AIRLINE__CODE'].unique()"
   ]
  },
  {
   "cell_type": "code",
   "execution_count": 10,
   "id": "ebfcb783-151a-424f-bc1c-b4cbe124706d",
   "metadata": {},
   "outputs": [
    {
     "data": {
      "text/plain": [
       "DIVERTED\n",
       "0    2132545\n",
       "1       5191\n",
       "Name: count, dtype: int64"
      ]
     },
     "execution_count": 10,
     "metadata": {},
     "output_type": "execute_result"
    }
   ],
   "source": [
    "flights_needed_data.value_counts('DIVERTED')  # will tell us the no. of flights which were diverted"
   ]
  },
  {
   "cell_type": "code",
   "execution_count": 11,
   "id": "36b2c291-2cbd-44c7-89b4-b66546dac87d",
   "metadata": {},
   "outputs": [
    {
     "name": "stdout",
     "output_type": "stream",
     "text": [
      "<class 'pandas.core.frame.DataFrame'>\n",
      "Index: 2137736 entries, 1 to 5819078\n",
      "Data columns (total 46 columns):\n",
      " #   Column                    Dtype  \n",
      "---  ------                    -----  \n",
      " 0   YEAR                      int16  \n",
      " 1   MONTH                     int8   \n",
      " 2   DAY                       int8   \n",
      " 3   DAY_OF_WEEK               int8   \n",
      " 4   AIRLINE__CODE             object \n",
      " 5   FLIGHT_NUMBER             int16  \n",
      " 6   TAIL_NUMBER               object \n",
      " 7   ORIGIN_AIRPORT_CODE       object \n",
      " 8   DESTINATION_AIRPORT_CODE  object \n",
      " 9   SCHEDULED_DEPARTURE       int16  \n",
      " 10  DEPARTURE_TIME            float64\n",
      " 11  DEPARTURE_DELAY           float64\n",
      " 12  TAXI_OUT                  float64\n",
      " 13  WHEELS_OFF                float64\n",
      " 14  SCHEDULED_TIME            float64\n",
      " 15  ELAPSED_TIME              float64\n",
      " 16  AIR_TIME                  float64\n",
      " 17  DISTANCE                  int16  \n",
      " 18  WHEELS_ON                 float64\n",
      " 19  TAXI_IN                   float64\n",
      " 20  SCHEDULED_ARRIVAL         int16  \n",
      " 21  ARRIVAL_TIME              float64\n",
      " 22  ARRIVAL_DELAY             float64\n",
      " 23  DIVERTED                  int8   \n",
      " 24  CANCELLED                 int8   \n",
      " 25  CANCELLATION_REASON       object \n",
      " 26  AIR_SYSTEM_DELAY          float64\n",
      " 27  SECURITY_DELAY            float64\n",
      " 28  AIRLINE_DELAY             float64\n",
      " 29  LATE_AIRCRAFT_DELAY       float64\n",
      " 30  WEATHER_DELAY             float64\n",
      " 31  FLY_DATE                  object \n",
      " 32  AIRLINE                   object \n",
      " 33  ORIGIN_AIRPORT            object \n",
      " 34  ORIGIN_CITY               object \n",
      " 35  ORIGIN_STATE              object \n",
      " 36  ORIGIN_COUNTRY            object \n",
      " 37  ORIGIN_LATITUDE           float64\n",
      " 38  ORIGIN_LONGITUDE          float64\n",
      " 39  DEST_AIRPORT              object \n",
      " 40  DEST_CITY                 object \n",
      " 41  DEST_STATE                object \n",
      " 42  DEST_COUNTRY              object \n",
      " 43  DEST_LATITUDE             float64\n",
      " 44  DEST_LONGITUDE            float64\n",
      " 45  ARRIVAL_TIME_SEGMENT      object \n",
      "dtypes: float64(20), int16(5), int8(5), object(16)\n",
      "memory usage: 634.0+ MB\n"
     ]
    }
   ],
   "source": [
    "flights_needed_data.info()"
   ]
  },
  {
   "cell_type": "code",
   "execution_count": 12,
   "id": "4dc72563-1a28-428c-99fd-20c7dde8cd2b",
   "metadata": {},
   "outputs": [],
   "source": [
    "# filtering out unnecessary columns\n",
    "flights_needed_data=flights_needed_data.drop(['YEAR','FLIGHT_NUMBER','AIRLINE__CODE','TAIL_NUMBER','TAXI_OUT',\n",
    "                                              'SCHEDULED_TIME','WHEELS_OFF','ELAPSED_TIME',\n",
    "                                              'AIR_TIME','WHEELS_ON','DAY_OF_WEEK','TAXI_IN','CANCELLATION_REASON', 'DEST_LATITUDE',\n",
    "                                              'DEST_LONGITUDE','ORIGIN_LATITUDE', 'ORIGIN_LONGITUDE','ORIGIN_STATE', 'ORIGIN_COUNTRY', \n",
    "                                              'DEST_AIRPORT','DEST_CITY','DEST_STATE','DEST_COUNTRY', 'ORIGIN_CITY', 'ORIGIN_AIRPORT' ],\n",
    "                                             axis=1)\n",
    "# REMOVED DISTANCE FROM THIS LIST"
   ]
  },
  {
   "cell_type": "code",
   "execution_count": 14,
   "id": "5801d4e1-04d8-450b-8fea-43c775a34b79",
   "metadata": {},
   "outputs": [],
   "source": [
    "## flights_needed_data=flights_needed_data.drop(['ORIGIN_AIRPORT' ],\n",
    "#                                             axis=1)"
   ]
  },
  {
   "cell_type": "code",
   "execution_count": 18,
   "id": "ce8bfef7-8a1f-43b3-a2b4-4ae787614e8f",
   "metadata": {},
   "outputs": [
    {
     "data": {
      "text/plain": [
       "MONTH                             0\n",
       "DAY                               0\n",
       "ORIGIN_AIRPORT_CODE               0\n",
       "DESTINATION_AIRPORT_CODE          0\n",
       "SCHEDULED_DEPARTURE               0\n",
       "DEPARTURE_TIME                19430\n",
       "DEPARTURE_DELAY               19430\n",
       "DISTANCE                          0\n",
       "SCHEDULED_ARRIVAL                 0\n",
       "ARRIVAL_TIME                  20737\n",
       "ARRIVAL_DELAY                 25058\n",
       "DIVERTED                          0\n",
       "CANCELLED                         0\n",
       "AIR_SYSTEM_DELAY            1783087\n",
       "SECURITY_DELAY              1783087\n",
       "AIRLINE_DELAY               1783087\n",
       "LATE_AIRCRAFT_DELAY         1783087\n",
       "WEATHER_DELAY               1783087\n",
       "FLY_DATE                          0\n",
       "AIRLINE                           0\n",
       "ARRIVAL_TIME_SEGMENT              0\n",
       "dtype: int64"
      ]
     },
     "execution_count": 18,
     "metadata": {},
     "output_type": "execute_result"
    }
   ],
   "source": [
    "flights_needed_data.isnull().sum()"
   ]
  },
  {
   "cell_type": "code",
   "execution_count": 19,
   "id": "64ec3f0a-0626-42c9-8edd-f9b70227684b",
   "metadata": {},
   "outputs": [
    {
     "name": "stdout",
     "output_type": "stream",
     "text": [
      "<class 'pandas.core.frame.DataFrame'>\n",
      "Index: 2137736 entries, 1 to 5819078\n",
      "Data columns (total 21 columns):\n",
      " #   Column                    Dtype  \n",
      "---  ------                    -----  \n",
      " 0   MONTH                     int8   \n",
      " 1   DAY                       int8   \n",
      " 2   ORIGIN_AIRPORT_CODE       object \n",
      " 3   DESTINATION_AIRPORT_CODE  object \n",
      " 4   SCHEDULED_DEPARTURE       int16  \n",
      " 5   DEPARTURE_TIME            float64\n",
      " 6   DEPARTURE_DELAY           float64\n",
      " 7   DISTANCE                  int16  \n",
      " 8   SCHEDULED_ARRIVAL         int16  \n",
      " 9   ARRIVAL_TIME              float64\n",
      " 10  ARRIVAL_DELAY             float64\n",
      " 11  DIVERTED                  int8   \n",
      " 12  CANCELLED                 int8   \n",
      " 13  AIR_SYSTEM_DELAY          float64\n",
      " 14  SECURITY_DELAY            float64\n",
      " 15  AIRLINE_DELAY             float64\n",
      " 16  LATE_AIRCRAFT_DELAY       float64\n",
      " 17  WEATHER_DELAY             float64\n",
      " 18  FLY_DATE                  object \n",
      " 19  AIRLINE                   object \n",
      " 20  ARRIVAL_TIME_SEGMENT      object \n",
      "dtypes: float64(9), int16(3), int8(4), object(5)\n",
      "memory usage: 265.0+ MB\n"
     ]
    }
   ],
   "source": [
    "flights_needed_data.info()"
   ]
  },
  {
   "cell_type": "markdown",
   "id": "6566d72c-5e27-49d5-bef5-500bebcd1a84",
   "metadata": {},
   "source": [
    "## DO NOT RUN THIS CODE\n",
    "#flights_needed_data = flights_needed_data.apply(lambda x: x.fillna(x.mean()), axis=0)\n",
    "\n",
    "cols = ['DEPARTURE_DELAY','ARRIVAL_DELAY','AIR_SYSTEM_DELAY',\n",
    "        'SECURITY_DELAY','AIRLINE_DELAY','LATE_AIRCRAFT_DELAY','WEATHER_DELAY']\n",
    "cols1 = ['DEPARTURE_TIME']\n",
    "cols2 = ['ARRIVAL_TIME']\n",
    "#cols = ['DEPARTURE_TIME','DEPARTURE_DELAY','ARRIVAL_TIME','ARRIVAL_DELAY','AIR_SYSTEM_DELAY',\n",
    "#        'SECURITY_DELAY','AIRLINE_DELAY','LATE_AIRCRAFT_DELAY','WEATHER_DELAY']\n",
    "\n",
    "for column in cols1:\n",
    "    print (column)\n",
    "    flights_needed_data[column].fillna(flights_needed_data[['SCHEDULED_DEPARTURE']]), inplace=True)\n",
    "\n",
    "for column in cols2:\n",
    "    print (column)\n",
    "    flights_needed_data[column].fillna(flights_needed_data[['SCHEDULED_ARRIVAL']]), inplace=True)\n",
    "    \n",
    "for column in cols:\n",
    "    print (column)\n",
    "    flights_needed_data[column].fillna(flights_needed_data[column].mean(), inplace=True)"
   ]
  },
  {
   "cell_type": "code",
   "execution_count": 23,
   "id": "9c58428b-4424-4d70-a0fa-9898a18acb1a",
   "metadata": {},
   "outputs": [
    {
     "name": "stdout",
     "output_type": "stream",
     "text": [
      "DEPARTURE_TIME\n",
      "ARRIVAL_TIME\n",
      "DEPARTURE_DELAY\n",
      "ARRIVAL_DELAY\n",
      "AIR_SYSTEM_DELAY\n",
      "SECURITY_DELAY\n",
      "AIRLINE_DELAY\n",
      "LATE_AIRCRAFT_DELAY\n",
      "WEATHER_DELAY\n"
     ]
    }
   ],
   "source": [
    "#flights_needed_data = flights_needed_data.apply(lambda x: x.fillna(x.mean()), axis=0)\n",
    "\n",
    "cols = ['DEPARTURE_TIME', 'ARRIVAL_TIME','DEPARTURE_DELAY','ARRIVAL_DELAY','AIR_SYSTEM_DELAY',\n",
    "        'SECURITY_DELAY','AIRLINE_DELAY','LATE_AIRCRAFT_DELAY','WEATHER_DELAY']\n",
    "\n",
    "for column in cols:\n",
    "    print (column)\n",
    "    flights_needed_data[column].fillna(flights_needed_data[column].mean(), inplace=True)"
   ]
  },
  {
   "cell_type": "code",
   "execution_count": null,
   "id": "35862e0b-7990-411e-a9a7-d76b6a3a7c8c",
   "metadata": {},
   "outputs": [],
   "source": [
    "# replacing all NaN values with the mean of the attribute in which they are present\n",
    "#flights_needed_data=flights_needed_data.fillna(flights_needed_data.mean())"
   ]
  },
  {
   "cell_type": "code",
   "execution_count": 24,
   "id": "8598113c-d80b-498b-833d-00135e2f4d31",
   "metadata": {},
   "outputs": [
    {
     "data": {
      "text/html": [
       "<div>\n",
       "<style scoped>\n",
       "    .dataframe tbody tr th:only-of-type {\n",
       "        vertical-align: middle;\n",
       "    }\n",
       "\n",
       "    .dataframe tbody tr th {\n",
       "        vertical-align: top;\n",
       "    }\n",
       "\n",
       "    .dataframe thead th {\n",
       "        text-align: right;\n",
       "    }\n",
       "</style>\n",
       "<table border=\"1\" class=\"dataframe\">\n",
       "  <thead>\n",
       "    <tr style=\"text-align: right;\">\n",
       "      <th></th>\n",
       "      <th>MONTH</th>\n",
       "      <th>DAY</th>\n",
       "      <th>ORIGIN_AIRPORT_CODE</th>\n",
       "      <th>DESTINATION_AIRPORT_CODE</th>\n",
       "      <th>SCHEDULED_DEPARTURE</th>\n",
       "      <th>DEPARTURE_TIME</th>\n",
       "      <th>DEPARTURE_DELAY</th>\n",
       "      <th>DISTANCE</th>\n",
       "      <th>SCHEDULED_ARRIVAL</th>\n",
       "      <th>ARRIVAL_TIME</th>\n",
       "      <th>ARRIVAL_DELAY</th>\n",
       "      <th>DIVERTED</th>\n",
       "      <th>CANCELLED</th>\n",
       "      <th>AIR_SYSTEM_DELAY</th>\n",
       "      <th>SECURITY_DELAY</th>\n",
       "      <th>AIRLINE_DELAY</th>\n",
       "      <th>LATE_AIRCRAFT_DELAY</th>\n",
       "      <th>WEATHER_DELAY</th>\n",
       "      <th>FLY_DATE</th>\n",
       "      <th>AIRLINE</th>\n",
       "      <th>ARRIVAL_TIME_SEGMENT</th>\n",
       "    </tr>\n",
       "  </thead>\n",
       "  <tbody>\n",
       "    <tr>\n",
       "      <th>1</th>\n",
       "      <td>12</td>\n",
       "      <td>17</td>\n",
       "      <td>CHA</td>\n",
       "      <td>ATL</td>\n",
       "      <td>549</td>\n",
       "      <td>552.0</td>\n",
       "      <td>3.0</td>\n",
       "      <td>106</td>\n",
       "      <td>645</td>\n",
       "      <td>640.0</td>\n",
       "      <td>-5.0</td>\n",
       "      <td>0</td>\n",
       "      <td>0</td>\n",
       "      <td>9.723927</td>\n",
       "      <td>0.044545</td>\n",
       "      <td>18.437779</td>\n",
       "      <td>23.825489</td>\n",
       "      <td>3.237765</td>\n",
       "      <td>2024-12-17</td>\n",
       "      <td>Delta Air Lines Inc.</td>\n",
       "      <td>Early morning</td>\n",
       "    </tr>\n",
       "    <tr>\n",
       "      <th>6</th>\n",
       "      <td>12</td>\n",
       "      <td>17</td>\n",
       "      <td>BDL</td>\n",
       "      <td>DTW</td>\n",
       "      <td>550</td>\n",
       "      <td>549.0</td>\n",
       "      <td>-1.0</td>\n",
       "      <td>549</td>\n",
       "      <td>750</td>\n",
       "      <td>758.0</td>\n",
       "      <td>8.0</td>\n",
       "      <td>0</td>\n",
       "      <td>0</td>\n",
       "      <td>9.723927</td>\n",
       "      <td>0.044545</td>\n",
       "      <td>18.437779</td>\n",
       "      <td>23.825489</td>\n",
       "      <td>3.237765</td>\n",
       "      <td>2024-12-17</td>\n",
       "      <td>Delta Air Lines Inc.</td>\n",
       "      <td>Early morning</td>\n",
       "    </tr>\n",
       "    <tr>\n",
       "      <th>7</th>\n",
       "      <td>12</td>\n",
       "      <td>17</td>\n",
       "      <td>DSM</td>\n",
       "      <td>ATL</td>\n",
       "      <td>550</td>\n",
       "      <td>549.0</td>\n",
       "      <td>-1.0</td>\n",
       "      <td>743</td>\n",
       "      <td>901</td>\n",
       "      <td>910.0</td>\n",
       "      <td>9.0</td>\n",
       "      <td>0</td>\n",
       "      <td>0</td>\n",
       "      <td>9.723927</td>\n",
       "      <td>0.044545</td>\n",
       "      <td>18.437779</td>\n",
       "      <td>23.825489</td>\n",
       "      <td>3.237765</td>\n",
       "      <td>2024-12-17</td>\n",
       "      <td>Delta Air Lines Inc.</td>\n",
       "      <td>Late morning</td>\n",
       "    </tr>\n",
       "    <tr>\n",
       "      <th>14</th>\n",
       "      <td>12</td>\n",
       "      <td>17</td>\n",
       "      <td>CMH</td>\n",
       "      <td>BWI</td>\n",
       "      <td>550</td>\n",
       "      <td>548.0</td>\n",
       "      <td>-2.0</td>\n",
       "      <td>337</td>\n",
       "      <td>710</td>\n",
       "      <td>656.0</td>\n",
       "      <td>-14.0</td>\n",
       "      <td>0</td>\n",
       "      <td>0</td>\n",
       "      <td>9.723927</td>\n",
       "      <td>0.044545</td>\n",
       "      <td>18.437779</td>\n",
       "      <td>23.825489</td>\n",
       "      <td>3.237765</td>\n",
       "      <td>2024-12-17</td>\n",
       "      <td>Southwest Airlines Co.</td>\n",
       "      <td>Early morning</td>\n",
       "    </tr>\n",
       "    <tr>\n",
       "      <th>15</th>\n",
       "      <td>12</td>\n",
       "      <td>17</td>\n",
       "      <td>ABQ</td>\n",
       "      <td>MDW</td>\n",
       "      <td>550</td>\n",
       "      <td>557.0</td>\n",
       "      <td>7.0</td>\n",
       "      <td>1121</td>\n",
       "      <td>935</td>\n",
       "      <td>930.0</td>\n",
       "      <td>-5.0</td>\n",
       "      <td>0</td>\n",
       "      <td>0</td>\n",
       "      <td>9.723927</td>\n",
       "      <td>0.044545</td>\n",
       "      <td>18.437779</td>\n",
       "      <td>23.825489</td>\n",
       "      <td>3.237765</td>\n",
       "      <td>2024-12-17</td>\n",
       "      <td>Southwest Airlines Co.</td>\n",
       "      <td>Late morning</td>\n",
       "    </tr>\n",
       "  </tbody>\n",
       "</table>\n",
       "</div>"
      ],
      "text/plain": [
       "    MONTH  DAY ORIGIN_AIRPORT_CODE DESTINATION_AIRPORT_CODE  \\\n",
       "1      12   17                 CHA                      ATL   \n",
       "6      12   17                 BDL                      DTW   \n",
       "7      12   17                 DSM                      ATL   \n",
       "14     12   17                 CMH                      BWI   \n",
       "15     12   17                 ABQ                      MDW   \n",
       "\n",
       "    SCHEDULED_DEPARTURE  DEPARTURE_TIME  DEPARTURE_DELAY  DISTANCE  \\\n",
       "1                   549           552.0              3.0       106   \n",
       "6                   550           549.0             -1.0       549   \n",
       "7                   550           549.0             -1.0       743   \n",
       "14                  550           548.0             -2.0       337   \n",
       "15                  550           557.0              7.0      1121   \n",
       "\n",
       "    SCHEDULED_ARRIVAL  ARRIVAL_TIME  ARRIVAL_DELAY  DIVERTED  CANCELLED  \\\n",
       "1                 645         640.0           -5.0         0          0   \n",
       "6                 750         758.0            8.0         0          0   \n",
       "7                 901         910.0            9.0         0          0   \n",
       "14                710         656.0          -14.0         0          0   \n",
       "15                935         930.0           -5.0         0          0   \n",
       "\n",
       "    AIR_SYSTEM_DELAY  SECURITY_DELAY  AIRLINE_DELAY  LATE_AIRCRAFT_DELAY  \\\n",
       "1           9.723927        0.044545      18.437779            23.825489   \n",
       "6           9.723927        0.044545      18.437779            23.825489   \n",
       "7           9.723927        0.044545      18.437779            23.825489   \n",
       "14          9.723927        0.044545      18.437779            23.825489   \n",
       "15          9.723927        0.044545      18.437779            23.825489   \n",
       "\n",
       "    WEATHER_DELAY    FLY_DATE                 AIRLINE ARRIVAL_TIME_SEGMENT  \n",
       "1        3.237765  2024-12-17    Delta Air Lines Inc.        Early morning  \n",
       "6        3.237765  2024-12-17    Delta Air Lines Inc.        Early morning  \n",
       "7        3.237765  2024-12-17    Delta Air Lines Inc.         Late morning  \n",
       "14       3.237765  2024-12-17  Southwest Airlines Co.        Early morning  \n",
       "15       3.237765  2024-12-17  Southwest Airlines Co.         Late morning  "
      ]
     },
     "execution_count": 24,
     "metadata": {},
     "output_type": "execute_result"
    }
   ],
   "source": [
    "flights_needed_data.head()"
   ]
  },
  {
   "cell_type": "code",
   "execution_count": 25,
   "id": "0a48b61c-7cf7-4849-b5df-f5c560d939c7",
   "metadata": {},
   "outputs": [],
   "source": [
    "# creating a new column; it will tell if the flight was delayed or not\n",
    "result=[]"
   ]
  },
  {
   "cell_type": "markdown",
   "id": "d0f82165-01c8-4f09-a6ab-309a89807f7f",
   "metadata": {},
   "source": [
    "# Create Target/Result column for Classifier"
   ]
  },
  {
   "cell_type": "code",
   "execution_count": 26,
   "id": "22fb7882-b58e-4f54-9163-1ffc800ea7cd",
   "metadata": {},
   "outputs": [],
   "source": [
    "for row in flights_needed_data['ARRIVAL_DELAY']:\n",
    "  if row > 5:\n",
    "    result.append(1)\n",
    "  else:\n",
    "    result.append(0) "
   ]
  },
  {
   "cell_type": "code",
   "execution_count": 27,
   "id": "03edefc0-0405-43ab-9b04-68486d3b4f3c",
   "metadata": {},
   "outputs": [],
   "source": [
    "flights_needed_data['result'] = result"
   ]
  },
  {
   "cell_type": "code",
   "execution_count": 28,
   "id": "b3b423c2-8fb9-461f-96f0-ee9606a28dde",
   "metadata": {},
   "outputs": [
    {
     "data": {
      "text/plain": [
       "result\n",
       "0    1595430\n",
       "1     542306\n",
       "Name: count, dtype: int64"
      ]
     },
     "execution_count": 28,
     "metadata": {},
     "output_type": "execute_result"
    }
   ],
   "source": [
    "flights_needed_data.value_counts('result')"
   ]
  },
  {
   "cell_type": "code",
   "execution_count": 29,
   "id": "a75df5dc-543e-48f6-9063-ef718cebef33",
   "metadata": {},
   "outputs": [
    {
     "data": {
      "text/html": [
       "<div>\n",
       "<style scoped>\n",
       "    .dataframe tbody tr th:only-of-type {\n",
       "        vertical-align: middle;\n",
       "    }\n",
       "\n",
       "    .dataframe tbody tr th {\n",
       "        vertical-align: top;\n",
       "    }\n",
       "\n",
       "    .dataframe thead th {\n",
       "        text-align: right;\n",
       "    }\n",
       "</style>\n",
       "<table border=\"1\" class=\"dataframe\">\n",
       "  <thead>\n",
       "    <tr style=\"text-align: right;\">\n",
       "      <th></th>\n",
       "      <th>MONTH</th>\n",
       "      <th>DAY</th>\n",
       "      <th>SCHEDULED_DEPARTURE</th>\n",
       "      <th>DEPARTURE_TIME</th>\n",
       "      <th>DEPARTURE_DELAY</th>\n",
       "      <th>DISTANCE</th>\n",
       "      <th>SCHEDULED_ARRIVAL</th>\n",
       "      <th>DIVERTED</th>\n",
       "      <th>CANCELLED</th>\n",
       "      <th>AIR_SYSTEM_DELAY</th>\n",
       "      <th>SECURITY_DELAY</th>\n",
       "      <th>AIRLINE_DELAY</th>\n",
       "      <th>LATE_AIRCRAFT_DELAY</th>\n",
       "      <th>WEATHER_DELAY</th>\n",
       "      <th>FLY_DATE</th>\n",
       "      <th>AIRLINE</th>\n",
       "      <th>ARRIVAL_TIME_SEGMENT</th>\n",
       "      <th>result</th>\n",
       "    </tr>\n",
       "  </thead>\n",
       "  <tbody>\n",
       "    <tr>\n",
       "      <th>1</th>\n",
       "      <td>12</td>\n",
       "      <td>17</td>\n",
       "      <td>549</td>\n",
       "      <td>552.0</td>\n",
       "      <td>3.0</td>\n",
       "      <td>106</td>\n",
       "      <td>645</td>\n",
       "      <td>0</td>\n",
       "      <td>0</td>\n",
       "      <td>9.723927</td>\n",
       "      <td>0.044545</td>\n",
       "      <td>18.437779</td>\n",
       "      <td>23.825489</td>\n",
       "      <td>3.237765</td>\n",
       "      <td>2024-12-17</td>\n",
       "      <td>Delta Air Lines Inc.</td>\n",
       "      <td>Early morning</td>\n",
       "      <td>0</td>\n",
       "    </tr>\n",
       "    <tr>\n",
       "      <th>6</th>\n",
       "      <td>12</td>\n",
       "      <td>17</td>\n",
       "      <td>550</td>\n",
       "      <td>549.0</td>\n",
       "      <td>-1.0</td>\n",
       "      <td>549</td>\n",
       "      <td>750</td>\n",
       "      <td>0</td>\n",
       "      <td>0</td>\n",
       "      <td>9.723927</td>\n",
       "      <td>0.044545</td>\n",
       "      <td>18.437779</td>\n",
       "      <td>23.825489</td>\n",
       "      <td>3.237765</td>\n",
       "      <td>2024-12-17</td>\n",
       "      <td>Delta Air Lines Inc.</td>\n",
       "      <td>Early morning</td>\n",
       "      <td>1</td>\n",
       "    </tr>\n",
       "    <tr>\n",
       "      <th>7</th>\n",
       "      <td>12</td>\n",
       "      <td>17</td>\n",
       "      <td>550</td>\n",
       "      <td>549.0</td>\n",
       "      <td>-1.0</td>\n",
       "      <td>743</td>\n",
       "      <td>901</td>\n",
       "      <td>0</td>\n",
       "      <td>0</td>\n",
       "      <td>9.723927</td>\n",
       "      <td>0.044545</td>\n",
       "      <td>18.437779</td>\n",
       "      <td>23.825489</td>\n",
       "      <td>3.237765</td>\n",
       "      <td>2024-12-17</td>\n",
       "      <td>Delta Air Lines Inc.</td>\n",
       "      <td>Late morning</td>\n",
       "      <td>1</td>\n",
       "    </tr>\n",
       "    <tr>\n",
       "      <th>14</th>\n",
       "      <td>12</td>\n",
       "      <td>17</td>\n",
       "      <td>550</td>\n",
       "      <td>548.0</td>\n",
       "      <td>-2.0</td>\n",
       "      <td>337</td>\n",
       "      <td>710</td>\n",
       "      <td>0</td>\n",
       "      <td>0</td>\n",
       "      <td>9.723927</td>\n",
       "      <td>0.044545</td>\n",
       "      <td>18.437779</td>\n",
       "      <td>23.825489</td>\n",
       "      <td>3.237765</td>\n",
       "      <td>2024-12-17</td>\n",
       "      <td>Southwest Airlines Co.</td>\n",
       "      <td>Early morning</td>\n",
       "      <td>0</td>\n",
       "    </tr>\n",
       "    <tr>\n",
       "      <th>15</th>\n",
       "      <td>12</td>\n",
       "      <td>17</td>\n",
       "      <td>550</td>\n",
       "      <td>557.0</td>\n",
       "      <td>7.0</td>\n",
       "      <td>1121</td>\n",
       "      <td>935</td>\n",
       "      <td>0</td>\n",
       "      <td>0</td>\n",
       "      <td>9.723927</td>\n",
       "      <td>0.044545</td>\n",
       "      <td>18.437779</td>\n",
       "      <td>23.825489</td>\n",
       "      <td>3.237765</td>\n",
       "      <td>2024-12-17</td>\n",
       "      <td>Southwest Airlines Co.</td>\n",
       "      <td>Late morning</td>\n",
       "      <td>0</td>\n",
       "    </tr>\n",
       "    <tr>\n",
       "      <th>...</th>\n",
       "      <td>...</td>\n",
       "      <td>...</td>\n",
       "      <td>...</td>\n",
       "      <td>...</td>\n",
       "      <td>...</td>\n",
       "      <td>...</td>\n",
       "      <td>...</td>\n",
       "      <td>...</td>\n",
       "      <td>...</td>\n",
       "      <td>...</td>\n",
       "      <td>...</td>\n",
       "      <td>...</td>\n",
       "      <td>...</td>\n",
       "      <td>...</td>\n",
       "      <td>...</td>\n",
       "      <td>...</td>\n",
       "      <td>...</td>\n",
       "      <td>...</td>\n",
       "    </tr>\n",
       "    <tr>\n",
       "      <th>5819074</th>\n",
       "      <td>9</td>\n",
       "      <td>21</td>\n",
       "      <td>1820</td>\n",
       "      <td>1817.0</td>\n",
       "      <td>-3.0</td>\n",
       "      <td>189</td>\n",
       "      <td>1910</td>\n",
       "      <td>0</td>\n",
       "      <td>0</td>\n",
       "      <td>9.723927</td>\n",
       "      <td>0.044545</td>\n",
       "      <td>18.437779</td>\n",
       "      <td>23.825489</td>\n",
       "      <td>3.237765</td>\n",
       "      <td>2024-09-21</td>\n",
       "      <td>Southwest Airlines Co.</td>\n",
       "      <td>Evening</td>\n",
       "      <td>0</td>\n",
       "    </tr>\n",
       "    <tr>\n",
       "      <th>5819075</th>\n",
       "      <td>9</td>\n",
       "      <td>21</td>\n",
       "      <td>1820</td>\n",
       "      <td>1826.0</td>\n",
       "      <td>6.0</td>\n",
       "      <td>1209</td>\n",
       "      <td>2220</td>\n",
       "      <td>0</td>\n",
       "      <td>0</td>\n",
       "      <td>9.723927</td>\n",
       "      <td>0.044545</td>\n",
       "      <td>18.437779</td>\n",
       "      <td>23.825489</td>\n",
       "      <td>3.237765</td>\n",
       "      <td>2024-09-21</td>\n",
       "      <td>Southwest Airlines Co.</td>\n",
       "      <td>Night</td>\n",
       "      <td>1</td>\n",
       "    </tr>\n",
       "    <tr>\n",
       "      <th>5819076</th>\n",
       "      <td>9</td>\n",
       "      <td>21</td>\n",
       "      <td>1820</td>\n",
       "      <td>1817.0</td>\n",
       "      <td>-3.0</td>\n",
       "      <td>192</td>\n",
       "      <td>1910</td>\n",
       "      <td>0</td>\n",
       "      <td>0</td>\n",
       "      <td>9.723927</td>\n",
       "      <td>0.044545</td>\n",
       "      <td>18.437779</td>\n",
       "      <td>23.825489</td>\n",
       "      <td>3.237765</td>\n",
       "      <td>2024-09-21</td>\n",
       "      <td>Southwest Airlines Co.</td>\n",
       "      <td>Evening</td>\n",
       "      <td>0</td>\n",
       "    </tr>\n",
       "    <tr>\n",
       "      <th>5819077</th>\n",
       "      <td>9</td>\n",
       "      <td>21</td>\n",
       "      <td>1820</td>\n",
       "      <td>1825.0</td>\n",
       "      <td>5.0</td>\n",
       "      <td>2065</td>\n",
       "      <td>2030</td>\n",
       "      <td>0</td>\n",
       "      <td>0</td>\n",
       "      <td>9.723927</td>\n",
       "      <td>0.044545</td>\n",
       "      <td>18.437779</td>\n",
       "      <td>23.825489</td>\n",
       "      <td>3.237765</td>\n",
       "      <td>2024-09-21</td>\n",
       "      <td>Southwest Airlines Co.</td>\n",
       "      <td>Night</td>\n",
       "      <td>0</td>\n",
       "    </tr>\n",
       "    <tr>\n",
       "      <th>5819078</th>\n",
       "      <td>9</td>\n",
       "      <td>21</td>\n",
       "      <td>1820</td>\n",
       "      <td>1820.0</td>\n",
       "      <td>0.0</td>\n",
       "      <td>1521</td>\n",
       "      <td>2345</td>\n",
       "      <td>0</td>\n",
       "      <td>0</td>\n",
       "      <td>9.723927</td>\n",
       "      <td>0.044545</td>\n",
       "      <td>18.437779</td>\n",
       "      <td>23.825489</td>\n",
       "      <td>3.237765</td>\n",
       "      <td>2024-09-21</td>\n",
       "      <td>Southwest Airlines Co.</td>\n",
       "      <td>Late night</td>\n",
       "      <td>0</td>\n",
       "    </tr>\n",
       "  </tbody>\n",
       "</table>\n",
       "<p>2137736 rows × 18 columns</p>\n",
       "</div>"
      ],
      "text/plain": [
       "         MONTH  DAY  SCHEDULED_DEPARTURE  DEPARTURE_TIME  DEPARTURE_DELAY  \\\n",
       "1           12   17                  549           552.0              3.0   \n",
       "6           12   17                  550           549.0             -1.0   \n",
       "7           12   17                  550           549.0             -1.0   \n",
       "14          12   17                  550           548.0             -2.0   \n",
       "15          12   17                  550           557.0              7.0   \n",
       "...        ...  ...                  ...             ...              ...   \n",
       "5819074      9   21                 1820          1817.0             -3.0   \n",
       "5819075      9   21                 1820          1826.0              6.0   \n",
       "5819076      9   21                 1820          1817.0             -3.0   \n",
       "5819077      9   21                 1820          1825.0              5.0   \n",
       "5819078      9   21                 1820          1820.0              0.0   \n",
       "\n",
       "         DISTANCE  SCHEDULED_ARRIVAL  DIVERTED  CANCELLED  AIR_SYSTEM_DELAY  \\\n",
       "1             106                645         0          0          9.723927   \n",
       "6             549                750         0          0          9.723927   \n",
       "7             743                901         0          0          9.723927   \n",
       "14            337                710         0          0          9.723927   \n",
       "15           1121                935         0          0          9.723927   \n",
       "...           ...                ...       ...        ...               ...   \n",
       "5819074       189               1910         0          0          9.723927   \n",
       "5819075      1209               2220         0          0          9.723927   \n",
       "5819076       192               1910         0          0          9.723927   \n",
       "5819077      2065               2030         0          0          9.723927   \n",
       "5819078      1521               2345         0          0          9.723927   \n",
       "\n",
       "         SECURITY_DELAY  AIRLINE_DELAY  LATE_AIRCRAFT_DELAY  WEATHER_DELAY  \\\n",
       "1              0.044545      18.437779            23.825489       3.237765   \n",
       "6              0.044545      18.437779            23.825489       3.237765   \n",
       "7              0.044545      18.437779            23.825489       3.237765   \n",
       "14             0.044545      18.437779            23.825489       3.237765   \n",
       "15             0.044545      18.437779            23.825489       3.237765   \n",
       "...                 ...            ...                  ...            ...   \n",
       "5819074        0.044545      18.437779            23.825489       3.237765   \n",
       "5819075        0.044545      18.437779            23.825489       3.237765   \n",
       "5819076        0.044545      18.437779            23.825489       3.237765   \n",
       "5819077        0.044545      18.437779            23.825489       3.237765   \n",
       "5819078        0.044545      18.437779            23.825489       3.237765   \n",
       "\n",
       "           FLY_DATE                 AIRLINE ARRIVAL_TIME_SEGMENT  result  \n",
       "1        2024-12-17    Delta Air Lines Inc.        Early morning       0  \n",
       "6        2024-12-17    Delta Air Lines Inc.        Early morning       1  \n",
       "7        2024-12-17    Delta Air Lines Inc.         Late morning       1  \n",
       "14       2024-12-17  Southwest Airlines Co.        Early morning       0  \n",
       "15       2024-12-17  Southwest Airlines Co.         Late morning       0  \n",
       "...             ...                     ...                  ...     ...  \n",
       "5819074  2024-09-21  Southwest Airlines Co.              Evening       0  \n",
       "5819075  2024-09-21  Southwest Airlines Co.                Night       1  \n",
       "5819076  2024-09-21  Southwest Airlines Co.              Evening       0  \n",
       "5819077  2024-09-21  Southwest Airlines Co.                Night       0  \n",
       "5819078  2024-09-21  Southwest Airlines Co.           Late night       0  \n",
       "\n",
       "[2137736 rows x 18 columns]"
      ]
     },
     "execution_count": 29,
     "metadata": {},
     "output_type": "execute_result"
    }
   ],
   "source": [
    "# removing some more columns\n",
    "flights_needed_data=flights_needed_data.drop(['ORIGIN_AIRPORT_CODE', 'DESTINATION_AIRPORT_CODE', 'ARRIVAL_TIME', 'ARRIVAL_DELAY'],axis=1)\n",
    "flights_needed_data"
   ]
  },
  {
   "cell_type": "code",
   "execution_count": 43,
   "id": "54637fa2-038e-4c9d-8dda-760f0c7ed330",
   "metadata": {},
   "outputs": [],
   "source": [
    "flights_needed_data=flights_needed_data.drop(['FLY_DATE'], axis=1)"
   ]
  },
  {
   "cell_type": "code",
   "execution_count": 44,
   "id": "981013f6-448b-4b72-8952-e30e76f59375",
   "metadata": {},
   "outputs": [
    {
     "name": "stdout",
     "output_type": "stream",
     "text": [
      "Categorical variables in the dataset: ['AIRLINE', 'ARRIVAL_TIME_SEGMENT']\n"
     ]
    }
   ],
   "source": [
    "#Get list of categorical variables\n",
    "s = (flights_needed_data.dtypes == 'object')\n",
    "object_cols = list(s[s].index)\n",
    "\n",
    "print(\"Categorical variables in the dataset:\", object_cols)"
   ]
  },
  {
   "cell_type": "code",
   "execution_count": 47,
   "id": "77f7e232-3cbf-4513-8587-8d678398a10c",
   "metadata": {},
   "outputs": [
    {
     "name": "stdout",
     "output_type": "stream",
     "text": [
      "All features are now numerical\n"
     ]
    }
   ],
   "source": [
    "#Label Encoding the object dtypes.\n",
    "LE=LabelEncoder()\n",
    "for i in object_cols:\n",
    "    flights_needed_data[i]=flights_needed_data[[i]].apply(LE.fit_transform)\n",
    "    \n",
    "print(\"All features are now numerical\")"
   ]
  },
  {
   "cell_type": "code",
   "execution_count": 48,
   "id": "f17b3d89-a124-4f32-9373-6766f8e26303",
   "metadata": {},
   "outputs": [
    {
     "name": "stdout",
     "output_type": "stream",
     "text": [
      "MONTH                     12.0\n",
      "DAY                       31.0\n",
      "SCHEDULED_DEPARTURE     2359.0\n",
      "DEPARTURE_TIME          2400.0\n",
      "DEPARTURE_DELAY         1289.0\n",
      "DISTANCE                4983.0\n",
      "SCHEDULED_ARRIVAL       2359.0\n",
      "DIVERTED                   1.0\n",
      "CANCELLED                  1.0\n",
      "AIR_SYSTEM_DELAY         991.0\n",
      "SECURITY_DELAY           440.0\n",
      "AIRLINE_DELAY           1274.0\n",
      "LATE_AIRCRAFT_DELAY     1010.0\n",
      "WEATHER_DELAY           1211.0\n",
      "AIRLINE                    1.0\n",
      "ARRIVAL_TIME_SEGMENT       7.0\n",
      "result                     1.0\n",
      "dtype: float64\n",
      "MONTH                    1.0\n",
      "DAY                      1.0\n",
      "SCHEDULED_DEPARTURE      1.0\n",
      "DEPARTURE_TIME           1.0\n",
      "DEPARTURE_DELAY        -61.0\n",
      "DISTANCE                74.0\n",
      "SCHEDULED_ARRIVAL        1.0\n",
      "DIVERTED                 0.0\n",
      "CANCELLED                0.0\n",
      "AIR_SYSTEM_DELAY         0.0\n",
      "SECURITY_DELAY           0.0\n",
      "AIRLINE_DELAY            0.0\n",
      "LATE_AIRCRAFT_DELAY      0.0\n",
      "WEATHER_DELAY            0.0\n",
      "AIRLINE                  0.0\n",
      "ARRIVAL_TIME_SEGMENT     0.0\n",
      "result                   0.0\n",
      "dtype: float64\n"
     ]
    }
   ],
   "source": [
    "print(flights_needed_data.max(axis=0)) # will return max value of each column\n",
    "print(flights_needed_data.min(axis=0)) # will return min value of each column"
   ]
  },
  {
   "cell_type": "markdown",
   "id": "c86ace0b-272d-46de-98dc-4ff4d162d32f",
   "metadata": {},
   "source": [
    "# Train test split"
   ]
  },
  {
   "cell_type": "code",
   "execution_count": 49,
   "id": "ed841e8d-48d4-4d7e-a104-bc8ebf2a8c13",
   "metadata": {},
   "outputs": [
    {
     "name": "stdout",
     "output_type": "stream",
     "text": [
      "<class 'pandas.core.frame.DataFrame'>\n",
      "Index: 2137736 entries, 1 to 5819078\n",
      "Data columns (total 17 columns):\n",
      " #   Column                Dtype  \n",
      "---  ------                -----  \n",
      " 0   MONTH                 int8   \n",
      " 1   DAY                   int8   \n",
      " 2   SCHEDULED_DEPARTURE   int16  \n",
      " 3   DEPARTURE_TIME        float64\n",
      " 4   DEPARTURE_DELAY       float64\n",
      " 5   DISTANCE              int16  \n",
      " 6   SCHEDULED_ARRIVAL     int16  \n",
      " 7   DIVERTED              int8   \n",
      " 8   CANCELLED             int8   \n",
      " 9   AIR_SYSTEM_DELAY      float64\n",
      " 10  SECURITY_DELAY        float64\n",
      " 11  AIRLINE_DELAY         float64\n",
      " 12  LATE_AIRCRAFT_DELAY   float64\n",
      " 13  WEATHER_DELAY         float64\n",
      " 14  AIRLINE               int64  \n",
      " 15  ARRIVAL_TIME_SEGMENT  int64  \n",
      " 16  result                int64  \n",
      "dtypes: float64(7), int16(3), int64(3), int8(4)\n",
      "memory usage: 199.8 MB\n"
     ]
    }
   ],
   "source": [
    "flights_needed_data.info()"
   ]
  },
  {
   "cell_type": "code",
   "execution_count": 50,
   "id": "8b7c9c70-2af7-4883-8926-1209643f57fd",
   "metadata": {},
   "outputs": [],
   "source": [
    "test = flights_needed_data[flights_needed_data['MONTH'] >= 11] \n",
    "#test=test.drop(['FLY_DATE'], axis=1)\n",
    "train = flights_needed_data[flights_needed_data['MONTH'] < 11]\n",
    "#train=train.drop(['FLY_DATE'], axis=1)\n",
    "test_data = test.values\n",
    "train_data = train.values\n",
    "X_train, y_train = train_data[:,:-1], train_data[:,-1]\n",
    "X_test, y_test = test_data[:,:-1], test_data[:,-1]\n",
    "#train_data = flights_needed_data[flights_needed_data['FLY_DATE'].apply(lambda x:x.date()) < datetime.date(2024, 11, 1)]\n",
    "#test_data  = flights_needed_data[flights_needed_data['FLY_DATE'].apply(lambda x:x.date()) > datetime.date(2024, 10, 31)]"
   ]
  },
  {
   "cell_type": "code",
   "execution_count": 84,
   "id": "346762ff-c602-46fe-b876-5d1beb3c69da",
   "metadata": {},
   "outputs": [
    {
     "data": {
      "text/plain": [
       "(354388, 17)"
      ]
     },
     "execution_count": 84,
     "metadata": {},
     "output_type": "execute_result"
    }
   ],
   "source": [
    "test.shape"
   ]
  },
  {
   "cell_type": "code",
   "execution_count": 85,
   "id": "b48f9d83-552b-434a-86e5-52f7ecf9bb1d",
   "metadata": {},
   "outputs": [
    {
     "data": {
      "text/plain": [
       "(1783348, 17)"
      ]
     },
     "execution_count": 85,
     "metadata": {},
     "output_type": "execute_result"
    }
   ],
   "source": [
    "train.shape"
   ]
  },
  {
   "cell_type": "code",
   "execution_count": 41,
   "id": "8fe17d29-a4c4-4acb-8d6a-8a738b94a652",
   "metadata": {},
   "outputs": [
    {
     "data": {
      "text/plain": [
       "array([[7, 9, 1552, ..., 0.0, 'Delta Air Lines Inc.', 'Evening'],\n",
       "       [7, 9, 1553, ..., 0.0, 'Delta Air Lines Inc.', 'Afternoon'],\n",
       "       [7, 9, 1555, ..., 3.237764663089421, 'Delta Air Lines Inc.',\n",
       "        'Afternoon'],\n",
       "       ...,\n",
       "       [9, 21, 1820, ..., 3.237764663089421, 'Southwest Airlines Co.',\n",
       "        'Evening'],\n",
       "       [9, 21, 1820, ..., 3.237764663089421, 'Southwest Airlines Co.',\n",
       "        'Night'],\n",
       "       [9, 21, 1820, ..., 3.237764663089421, 'Southwest Airlines Co.',\n",
       "        'Late night']], dtype=object)"
      ]
     },
     "execution_count": 41,
     "metadata": {},
     "output_type": "execute_result"
    }
   ],
   "source": [
    "X_train"
   ]
  },
  {
   "cell_type": "code",
   "execution_count": 51,
   "id": "90d6f3ad-1536-4baa-af85-4260735f1234",
   "metadata": {},
   "outputs": [],
   "source": [
    "sc = StandardScaler()\n",
    "X_train_1 = sc.fit(X_train)\n",
    "X_train = sc.transform(X_train)\n",
    "X_test = sc.transform(X_test)"
   ]
  },
  {
   "cell_type": "markdown",
   "id": "07273d32-06fb-44bf-885b-2f8766fa14c5",
   "metadata": {},
   "source": [
    "# Model training and Prediction"
   ]
  },
  {
   "cell_type": "code",
   "execution_count": 52,
   "id": "f63368de-2e10-478c-b25d-471f39c0775f",
   "metadata": {},
   "outputs": [],
   "source": [
    "clf = DecisionTreeClassifier()\n",
    "clf = clf.fit(X_train,y_train)"
   ]
  },
  {
   "cell_type": "code",
   "execution_count": 53,
   "id": "147b558f-f64f-4de1-914c-b5a43019f1c2",
   "metadata": {},
   "outputs": [],
   "source": [
    "y_prob = clf.predict_proba(X_test)[:,1]"
   ]
  },
  {
   "cell_type": "code",
   "execution_count": 54,
   "id": "d82c3e8d-c80d-49f4-a463-4280e8f6a000",
   "metadata": {},
   "outputs": [],
   "source": [
    "y_pred = clf.predict(X_test)"
   ]
  },
  {
   "cell_type": "code",
   "execution_count": 55,
   "id": "b6968678-19a5-4b73-ac23-5be225e94844",
   "metadata": {},
   "outputs": [
    {
     "data": {
      "text/plain": [
       "0.8414290715982611"
      ]
     },
     "execution_count": 55,
     "metadata": {},
     "output_type": "execute_result"
    }
   ],
   "source": [
    "auc_score = roc_auc_score(y_test, y_pred)\n",
    "auc_score"
   ]
  },
  {
   "cell_type": "code",
   "execution_count": 56,
   "id": "ab131b7c-ab9b-430b-b006-78f451fda925",
   "metadata": {},
   "outputs": [
    {
     "name": "stdout",
     "output_type": "stream",
     "text": [
      "              precision    recall  f1-score   support\n",
      "\n",
      "         0.0       0.92      0.91      0.92    263912\n",
      "         1.0       0.75      0.77      0.76     90476\n",
      "\n",
      "    accuracy                           0.88    354388\n",
      "   macro avg       0.84      0.84      0.84    354388\n",
      "weighted avg       0.88      0.88      0.88    354388\n",
      "\n"
     ]
    }
   ],
   "source": [
    "print(classification_report(y_test, y_pred))"
   ]
  },
  {
   "cell_type": "code",
   "execution_count": 57,
   "id": "ec5eec6e-cd90-49c0-9af3-a5364a04371a",
   "metadata": {},
   "outputs": [
    {
     "data": {
      "text/plain": [
       "(2137736, 17)"
      ]
     },
     "execution_count": 57,
     "metadata": {},
     "output_type": "execute_result"
    }
   ],
   "source": [
    "flights_needed_data.shape"
   ]
  },
  {
   "cell_type": "code",
   "execution_count": 58,
   "id": "d1ac2b07-af2a-45d8-93a2-c5a23b85d346",
   "metadata": {},
   "outputs": [],
   "source": [
    "flights_needed_df = flights_needed_data.drop(['result'],axis=1)"
   ]
  },
  {
   "cell_type": "code",
   "execution_count": 59,
   "id": "3225c048-1eb7-403b-9320-dff5fa64d788",
   "metadata": {},
   "outputs": [],
   "source": [
    "final_data = flights_needed_df.values"
   ]
  },
  {
   "cell_type": "code",
   "execution_count": 60,
   "id": "40e8da13-f3d3-480e-a37e-d3a77b49b758",
   "metadata": {},
   "outputs": [],
   "source": [
    "final_data = sc.transform(final_data)"
   ]
  },
  {
   "cell_type": "code",
   "execution_count": 61,
   "id": "8f33f8b8-b589-49db-8ece-499fc882a026",
   "metadata": {},
   "outputs": [],
   "source": [
    "y_pred = clf.predict(final_data)"
   ]
  },
  {
   "cell_type": "code",
   "execution_count": 62,
   "id": "7ccf66cb-8b92-4f1d-99cd-c600027fd1c8",
   "metadata": {},
   "outputs": [
    {
     "data": {
      "text/plain": [
       "array([[ 2.26781130e+00,  1.43291730e-01, -1.62725887e+00, ...,\n",
       "        -4.10201150e-04, -1.19703701e+00, -1.89088769e-01],\n",
       "       [ 2.26781130e+00,  1.43291730e-01, -1.62517973e+00, ...,\n",
       "        -4.10201150e-04, -1.19703701e+00, -1.89088769e-01],\n",
       "       [ 2.26781130e+00,  1.43291730e-01, -1.62517973e+00, ...,\n",
       "        -4.10201150e-04, -1.19703701e+00,  6.06922520e-01],\n",
       "       ...,\n",
       "       [ 1.20403516e+00,  5.99215933e-01,  1.01532546e+00, ...,\n",
       "        -4.10201150e-04,  8.35396060e-01,  2.08916875e-01],\n",
       "       [ 1.20403516e+00,  5.99215933e-01,  1.01532546e+00, ...,\n",
       "        -4.10201150e-04,  8.35396060e-01,  1.40293381e+00],\n",
       "       [ 1.20403516e+00,  5.99215933e-01,  1.01532546e+00, ...,\n",
       "        -4.10201150e-04,  8.35396060e-01,  1.00492816e+00]])"
      ]
     },
     "execution_count": 62,
     "metadata": {},
     "output_type": "execute_result"
    }
   ],
   "source": [
    "final_data"
   ]
  },
  {
   "cell_type": "code",
   "execution_count": null,
   "id": "7dd33c31-ad41-4336-8b3f-9ab1537c062d",
   "metadata": {},
   "outputs": [],
   "source": []
  },
  {
   "cell_type": "code",
   "execution_count": 63,
   "id": "2cdf832f-75d6-4fea-b742-cb74491b6cc9",
   "metadata": {},
   "outputs": [],
   "source": [
    "y_prob = clf.predict_proba(final_data)[:,1]"
   ]
  },
  {
   "cell_type": "code",
   "execution_count": 64,
   "id": "00662b37-38ff-4e30-a38d-5e9e2030f508",
   "metadata": {},
   "outputs": [
    {
     "data": {
      "text/plain": [
       "2137736"
      ]
     },
     "execution_count": 64,
     "metadata": {},
     "output_type": "execute_result"
    }
   ],
   "source": [
    "len(y_pred)"
   ]
  },
  {
   "cell_type": "code",
   "execution_count": 65,
   "id": "e929d3fb-8841-42cb-879b-6b48a9f8a035",
   "metadata": {},
   "outputs": [
    {
     "data": {
      "text/plain": [
       "array([3.05461050e-02, 7.61999266e-02, 3.14243960e-02, 3.95948221e-02,\n",
       "       1.02353132e-01, 6.48555744e-02, 5.76878262e-02, 2.00407377e-03,\n",
       "       1.57177703e-03, 1.07571810e-05, 5.85308619e-01, 1.10105398e-05,\n",
       "       2.21335565e-05, 5.42736065e-05, 4.73519823e-03, 3.62037436e-03])"
      ]
     },
     "execution_count": 65,
     "metadata": {},
     "output_type": "execute_result"
    }
   ],
   "source": [
    "clf.feature_importances_"
   ]
  },
  {
   "cell_type": "code",
   "execution_count": 66,
   "id": "c83c6eae-880a-4c2c-832d-c375f705c4b5",
   "metadata": {
    "scrolled": true
   },
   "outputs": [
    {
     "data": {
      "text/plain": [
       "(numpy.ndarray,\n",
       " numpy.ndarray,\n",
       " numpy.ndarray,\n",
       " numpy.ndarray,\n",
       " numpy.ndarray,\n",
       " numpy.ndarray)"
      ]
     },
     "execution_count": 66,
     "metadata": {},
     "output_type": "execute_result"
    }
   ],
   "source": [
    "type(X_train),type(X_test),type(y_train),type(y_test),type(y_pred),type(y_prob)"
   ]
  },
  {
   "cell_type": "code",
   "execution_count": 71,
   "id": "bdea7794-5a2a-475c-a3bd-573978b15648",
   "metadata": {},
   "outputs": [],
   "source": [
    "column = ['MONTH', 'DAY', 'SCHEDULED_DEPARTURE', 'DEPARTURE_TIME','DEPARTURE_DELAY','DISTANCE','SCHEDULED_ARRIVAL', 'DIVERTED', 'CANCELLED', \n",
    "          'AIR_SYSTEM_DELAY','SECURITY_DELAY', 'AIRLINE_DELAY', 'LATE_AIRCRAFT_DELAY','WEATHER_DELAY','AIRLINE', 'ARRIVAL_TIME_SEGMENT']\n"
   ]
  },
  {
   "cell_type": "code",
   "execution_count": 72,
   "id": "a8e2909f-a5a1-4513-a22e-164c7505677c",
   "metadata": {},
   "outputs": [],
   "source": [
    "X_train_df = pd.DataFrame(X_train, columns=column)\n",
    "X_test_df = pd.DataFrame(X_test, columns=column)\n",
    "y_train_df = pd.DataFrame(y_train, columns=['ACTUAL_DELAY'])\n",
    "y_test_df = pd.DataFrame(y_test, columns=['ACTUAL_DELAY'])\n",
    "y_pred_df = pd.DataFrame(y_pred, columns=['PREDICTED_DELAY'])\n",
    "y_prob_df = pd.DataFrame(y_prob, columns=['PROBABILITY'])"
   ]
  },
  {
   "cell_type": "markdown",
   "id": "c259e861-84a4-48e2-867d-f65f8e925148",
   "metadata": {},
   "source": [
    "# Model Registration"
   ]
  },
  {
   "cell_type": "code",
   "execution_count": 74,
   "id": "a75e4815-0392-449b-944a-071349fc21c8",
   "metadata": {},
   "outputs": [
    {
     "name": "stderr",
     "output_type": "stream",
     "text": [
      "The version of package 'numpy' in the local environment is 1.23.0, which does not fit the criteria for the requirement 'numpy'. Your UDF might not work when the package version is different between the server and your local environment.\n",
      "The version of package 'numpy' in the local environment is 1.23.0, which does not fit the criteria for the requirement 'numpy'. Your UDF might not work when the package version is different between the server and your local environment.\n"
     ]
    },
    {
     "name": "stdout",
     "output_type": "stream",
     "text": [
      "Calculating build time metrics\n",
      "\n",
      "Progress: ██████████████                                                         20.0%\n",
      "Calculating build time metrics\n",
      "\n",
      "Progress: ████████████████████████████                                           40.0%\n"
     ]
    },
    {
     "name": "stderr",
     "output_type": "stream",
     "text": [
      "The version of package 'numpy' in the local environment is 1.23.0, which does not fit the criteria for the requirement 'numpy'. Your UDF might not work when the package version is different between the server and your local environment.\n",
      "The version of package 'scikit-learn' in the local environment is 1.3.2, which does not fit the criteria for the requirement 'scikit-learn<1.4'. Your UDF might not work when the package version is different between the server and your local environment.\n"
     ]
    },
    {
     "name": "stdout",
     "output_type": "stream",
     "text": [
      "(1300) (1304): 01b7dbd5-0511-d6db-0072-f3031301147a: 100357 (P0000): Python Interpreter Error:\n",
      "Traceback (most recent call last):\n",
      "  File \"/opt/conda/lib/python3.9/site-packages/snowflake/ml/modeling/metrics/classification.py\", line 1059, in end_partition\n",
      "  File \"/usr/lib/python_udf/60d027bb89e79d3272b53d18af09089c8c0829c4d256cdefc695e6110f9272f1/lib/python3.9/site-packages/sklearn/utils/_param_validation.py\", line 211, in wrapper\n",
      "    return func(*args, **kwargs)\n",
      "  File \"/usr/lib/python_udf/60d027bb89e79d3272b53d18af09089c8c0829c4d256cdefc695e6110f9272f1/lib/python3.9/site-packages/sklearn/metrics/_classification.py\", line 505, in multilabel_confusion_matrix\n",
      "    y_type, y_true, y_pred = _check_targets(y_true, y_pred)\n",
      "  File \"/usr/lib/python_udf/60d027bb89e79d3272b53d18af09089c8c0829c4d256cdefc695e6110f9272f1/lib/python3.9/site-packages/sklearn/metrics/_classification.py\", line 93, in _check_targets\n",
      "    raise ValueError(\n",
      "ValueError: Classification metrics can't handle a mix of unknown and binary targets\n",
      " in function SNOWPARK_TEMP_TABLE_FUNCTION_AIORMHCK09 with handler compute\n"
     ]
    },
    {
     "name": "stderr",
     "output_type": "stream",
     "text": [
      "The version of package 'numpy' in the local environment is 1.23.0, which does not fit the criteria for the requirement 'numpy'. Your UDF might not work when the package version is different between the server and your local environment.\n",
      "The version of package 'scikit-learn' in the local environment is 1.3.2, which does not fit the criteria for the requirement 'scikit-learn<1.4'. Your UDF might not work when the package version is different between the server and your local environment.\n"
     ]
    },
    {
     "name": "stdout",
     "output_type": "stream",
     "text": [
      "(1300) (1304): 01b7dbd5-0511-d6db-0072-f30313011496: 100357 (P0000): Python Interpreter Error:\n",
      "Traceback (most recent call last):\n",
      "  File \"/opt/conda/lib/python3.9/site-packages/snowflake/ml/modeling/metrics/classification.py\", line 1059, in end_partition\n",
      "  File \"/usr/lib/python_udf/60d027bb89e79d3272b53d18af09089c8c0829c4d256cdefc695e6110f9272f1/lib/python3.9/site-packages/sklearn/utils/_param_validation.py\", line 211, in wrapper\n",
      "    return func(*args, **kwargs)\n",
      "  File \"/usr/lib/python_udf/60d027bb89e79d3272b53d18af09089c8c0829c4d256cdefc695e6110f9272f1/lib/python3.9/site-packages/sklearn/metrics/_classification.py\", line 505, in multilabel_confusion_matrix\n",
      "    y_type, y_true, y_pred = _check_targets(y_true, y_pred)\n",
      "  File \"/usr/lib/python_udf/60d027bb89e79d3272b53d18af09089c8c0829c4d256cdefc695e6110f9272f1/lib/python3.9/site-packages/sklearn/metrics/_classification.py\", line 93, in _check_targets\n",
      "    raise ValueError(\n",
      "ValueError: Classification metrics can't handle a mix of unknown and binary targets\n",
      " in function SNOWPARK_TEMP_TABLE_FUNCTION_ZTJ5X1F02Q with handler compute\n",
      "Calculating build time metrics\n",
      "\n",
      "Progress: ██████████████████████████████████████████                             60.0%\n"
     ]
    },
    {
     "name": "stderr",
     "output_type": "stream",
     "text": [
      "The version of package 'scikit-learn' in the local environment is 1.3.2, which does not fit the criteria for the requirement 'scikit-learn==1.3.*'. Your UDF might not work when the package version is different between the server and your local environment.\n",
      "The version of package 'snowflake-snowpark-python' in the local environment is 1.23.0, which does not fit the criteria for the requirement 'snowflake-snowpark-python'. Your UDF might not work when the package version is different between the server and your local environment.\n"
     ]
    },
    {
     "name": "stdout",
     "output_type": "stream",
     "text": [
      "Error in while calculating roc_auc: SnowparkSQLException('(1300) (1304): 01b7dbd6-0511-d749-0072-f3031301245a: 100357 (P0000): Python Interpreter Error:\\nTraceback (most recent call last):\\n  File \"/home/udf/32355341556656106/udf_py_1746131121.zip/udf_py_1746131121.py\", line 56, in compute\\n    return func(session)\\n  File \"/opt/conda/lib/python3.9/site-packages/snowflake/ml/modeling/metrics/ranking.py\", line 263, in roc_auc_score_anon_sproc\\n  File \"/usr/lib/python_udf/8555fbc9c36bcffcb868e1758df7efcc8c08a36721f54bbea8d245c9d48366ab/lib/python3.9/site-packages/sklearn/utils/_param_validation.py\", line 211, in wrapper\\n    return func(*args, **kwargs)\\n  File \"/usr/lib/python_udf/8555fbc9c36bcffcb868e1758df7efcc8c08a36721f54bbea8d245c9d48366ab/lib/python3.9/site-packages/sklearn/metrics/_ranking.py\", line 603, in roc_auc_score\\n    y_type = type_of_target(y_true, input_name=\"y_true\")\\n  File \"/usr/lib/python_udf/8555fbc9c36bcffcb868e1758df7efcc8c08a36721f54bbea8d245c9d48366ab/lib/python3.9/site-packages/sklearn/utils/multiclass.py\", line 382, in type_of_target\\n    _assert_all_finite(data, input_name=input_name)\\n  File \"/usr/lib/python_udf/8555fbc9c36bcffcb868e1758df7efcc8c08a36721f54bbea8d245c9d48366ab/lib/python3.9/site-packages/sklearn/utils/validation.py\", line 124, in _assert_all_finite\\n    _assert_all_finite_element_wise(\\n  File \"/usr/lib/python_udf/8555fbc9c36bcffcb868e1758df7efcc8c08a36721f54bbea8d245c9d48366ab/lib/python3.9/site-packages/sklearn/utils/validation.py\", line 173, in _assert_all_finite_element_wise\\n    raise ValueError(msg_err)\\nValueError: Input y_true contains NaN.\\n in function SNOWPARK_TEMP_PROCEDURE_2H3FEMVL19 with handler udf_py_1746131121.compute', None, None)\n",
      "Calculating build time metrics\n",
      "\n",
      "Progress: ████████████████████████████████████████████████████████               80.0%\n",
      "Error in while calculating feature_importance: AttributeError(\"'DecisionTreeClassifier' object has no attribute 'feature_names_in_'\")\n",
      "Calculating build time metrics\n",
      "\n",
      "Progress: ██████████████████████████████████████████████████████████████████████ 100.0%\n"
     ]
    },
    {
     "data": {
      "text/plain": [
       "\"Failed to save build time metrics for model 'MODEL_4FD7D083_2A05_47E2_A1ED_023104009A08_FDC_DECISION_TREE_DELAY_CLASSIFIER'. (1304): 01b7dbd7-0511-d6db-0072-f303130114e2: 100069 (22P02): Error parsing JSON: document is too large, max size 16777216 bytes, pos 16777216\""
      ]
     },
     "execution_count": 74,
     "metadata": {},
     "output_type": "execute_result"
    }
   ],
   "source": [
    "## registering the model in Fosfor Insight Designer.\n",
    "register_model(\n",
    "    model_obj=clf, \n",
    "    session=my_session,\n",
    "    x_train=X_train_df,\n",
    "    y_train=y_train_df,\n",
    "    x_test=X_test_df,\n",
    "    y_test=y_test_df,\n",
    "    y_pred=y_pred_df,\n",
    "    y_prob=y_prob_df,\n",
    "    source=\"Notebook\",\n",
    "    dataset_name=\"FLIGHTS_FULL\",\n",
    "    dataset_source=\"Snowflake\",\n",
    "    #dataset_source=\"InMemory\",\n",
    "    name=\"Decision_Tree_Delay_Classifier\",\n",
    "    description=\"Decision tree model trained via Notebook to identify Flight Delay application\",\n",
    "    flavour=\"sklearn\",\n",
    "    model_type=\"classification\",\n",
    "    conda_dependencies=[\"scikit-learn==1.3.2\"]\n",
    ")"
   ]
  },
  {
   "cell_type": "code",
   "execution_count": 75,
   "id": "109e4213-c7df-4838-8f85-192a3945b4d2",
   "metadata": {},
   "outputs": [
    {
     "data": {
      "text/html": [
       "<div>\n",
       "<style scoped>\n",
       "    .dataframe tbody tr th:only-of-type {\n",
       "        vertical-align: middle;\n",
       "    }\n",
       "\n",
       "    .dataframe tbody tr th {\n",
       "        vertical-align: top;\n",
       "    }\n",
       "\n",
       "    .dataframe thead th {\n",
       "        text-align: right;\n",
       "    }\n",
       "</style>\n",
       "<table border=\"1\" class=\"dataframe\">\n",
       "  <thead>\n",
       "    <tr style=\"text-align: right;\">\n",
       "      <th></th>\n",
       "      <th>ACTUAL_DELAY</th>\n",
       "    </tr>\n",
       "  </thead>\n",
       "  <tbody>\n",
       "    <tr>\n",
       "      <th>0</th>\n",
       "      <td>1.0</td>\n",
       "    </tr>\n",
       "    <tr>\n",
       "      <th>1</th>\n",
       "      <td>1.0</td>\n",
       "    </tr>\n",
       "    <tr>\n",
       "      <th>2</th>\n",
       "      <td>0.0</td>\n",
       "    </tr>\n",
       "    <tr>\n",
       "      <th>3</th>\n",
       "      <td>0.0</td>\n",
       "    </tr>\n",
       "    <tr>\n",
       "      <th>4</th>\n",
       "      <td>0.0</td>\n",
       "    </tr>\n",
       "    <tr>\n",
       "      <th>...</th>\n",
       "      <td>...</td>\n",
       "    </tr>\n",
       "    <tr>\n",
       "      <th>1783343</th>\n",
       "      <td>0.0</td>\n",
       "    </tr>\n",
       "    <tr>\n",
       "      <th>1783344</th>\n",
       "      <td>1.0</td>\n",
       "    </tr>\n",
       "    <tr>\n",
       "      <th>1783345</th>\n",
       "      <td>0.0</td>\n",
       "    </tr>\n",
       "    <tr>\n",
       "      <th>1783346</th>\n",
       "      <td>0.0</td>\n",
       "    </tr>\n",
       "    <tr>\n",
       "      <th>1783347</th>\n",
       "      <td>0.0</td>\n",
       "    </tr>\n",
       "  </tbody>\n",
       "</table>\n",
       "<p>1783348 rows × 1 columns</p>\n",
       "</div>"
      ],
      "text/plain": [
       "         ACTUAL_DELAY\n",
       "0                 1.0\n",
       "1                 1.0\n",
       "2                 0.0\n",
       "3                 0.0\n",
       "4                 0.0\n",
       "...               ...\n",
       "1783343           0.0\n",
       "1783344           1.0\n",
       "1783345           0.0\n",
       "1783346           0.0\n",
       "1783347           0.0\n",
       "\n",
       "[1783348 rows x 1 columns]"
      ]
     },
     "execution_count": 75,
     "metadata": {},
     "output_type": "execute_result"
    }
   ],
   "source": [
    "y_train_df"
   ]
  },
  {
   "cell_type": "markdown",
   "id": "33f85118-ef64-4d0d-9437-2dee6a260a0d",
   "metadata": {},
   "source": [
    "# Push Model Input on Snowflake"
   ]
  },
  {
   "cell_type": "code",
   "execution_count": 82,
   "id": "29fcb8e8-e50c-4002-9bb7-2e8812b16f68",
   "metadata": {},
   "outputs": [
    {
     "data": {
      "text/plain": [
       "(1783348, 16)"
      ]
     },
     "execution_count": 82,
     "metadata": {},
     "output_type": "execute_result"
    }
   ],
   "source": [
    "X_train.shape"
   ]
  },
  {
   "cell_type": "code",
   "execution_count": 83,
   "id": "7aa70205-48bf-46d3-8d74-f1a07f58e754",
   "metadata": {},
   "outputs": [
    {
     "data": {
      "text/plain": [
       "(1783348,)"
      ]
     },
     "execution_count": 83,
     "metadata": {},
     "output_type": "execute_result"
    }
   ],
   "source": [
    "y_train.shape"
   ]
  },
  {
   "cell_type": "raw",
   "id": "7fb53a75-633a-4c84-8c71-14bc476433f9",
   "metadata": {},
   "source": []
  },
  {
   "cell_type": "code",
   "execution_count": 76,
   "id": "feb7b96d-54cc-4550-b55f-9f1b97b95379",
   "metadata": {},
   "outputs": [],
   "source": [
    "data_df = pd.concat([X_train_df,y_train_df],axis=1,ignore_index=True)"
   ]
  },
  {
   "cell_type": "code",
   "execution_count": 77,
   "id": "ebe40193-0cc6-4508-8da3-e6d825690ddb",
   "metadata": {},
   "outputs": [],
   "source": [
    "data_df.columns = ['MONTH', 'DAY', 'SCHEDULED_DEPARTURE', 'DEPARTURE_TIME','DEPARTURE_DELAY','DISTANCE','SCHEDULED_ARRIVAL', 'DIVERTED', 'CANCELLED', \n",
    "          'AIR_SYSTEM_DELAY','SECURITY_DELAY', 'AIRLINE_DELAY', 'LATE_AIRCRAFT_DELAY','WEATHER_DELAY','AIRLINE', 'ARRIVAL_TIME_SEGMENT','FLIGHT_DELAY']"
   ]
  },
  {
   "cell_type": "code",
   "execution_count": 78,
   "id": "0190d361-7943-4b6c-8975-956078e2149e",
   "metadata": {},
   "outputs": [
    {
     "data": {
      "text/html": [
       "<div>\n",
       "<style scoped>\n",
       "    .dataframe tbody tr th:only-of-type {\n",
       "        vertical-align: middle;\n",
       "    }\n",
       "\n",
       "    .dataframe tbody tr th {\n",
       "        vertical-align: top;\n",
       "    }\n",
       "\n",
       "    .dataframe thead th {\n",
       "        text-align: right;\n",
       "    }\n",
       "</style>\n",
       "<table border=\"1\" class=\"dataframe\">\n",
       "  <thead>\n",
       "    <tr style=\"text-align: right;\">\n",
       "      <th></th>\n",
       "      <th>MONTH</th>\n",
       "      <th>DAY</th>\n",
       "      <th>SCHEDULED_DEPARTURE</th>\n",
       "      <th>DEPARTURE_TIME</th>\n",
       "      <th>DEPARTURE_DELAY</th>\n",
       "      <th>DISTANCE</th>\n",
       "      <th>SCHEDULED_ARRIVAL</th>\n",
       "      <th>DIVERTED</th>\n",
       "      <th>CANCELLED</th>\n",
       "      <th>AIR_SYSTEM_DELAY</th>\n",
       "      <th>SECURITY_DELAY</th>\n",
       "      <th>AIRLINE_DELAY</th>\n",
       "      <th>LATE_AIRCRAFT_DELAY</th>\n",
       "      <th>WEATHER_DELAY</th>\n",
       "      <th>AIRLINE</th>\n",
       "      <th>ARRIVAL_TIME_SEGMENT</th>\n",
       "      <th>FLIGHT_DELAY</th>\n",
       "    </tr>\n",
       "  </thead>\n",
       "  <tbody>\n",
       "    <tr>\n",
       "      <th>0</th>\n",
       "      <td>0.494851</td>\n",
       "      <td>-0.768557</td>\n",
       "      <td>0.458116</td>\n",
       "      <td>0.606529</td>\n",
       "      <td>1.113146</td>\n",
       "      <td>2.231401</td>\n",
       "      <td>0.449906</td>\n",
       "      <td>-0.050122</td>\n",
       "      <td>-0.098325</td>\n",
       "      <td>-1.050502</td>\n",
       "      <td>-0.065692</td>\n",
       "      <td>1.307518</td>\n",
       "      <td>-1.477250</td>\n",
       "      <td>-0.354656</td>\n",
       "      <td>-1.197037</td>\n",
       "      <td>0.208917</td>\n",
       "      <td>1.0</td>\n",
       "    </tr>\n",
       "    <tr>\n",
       "      <th>1</th>\n",
       "      <td>0.494851</td>\n",
       "      <td>-0.768557</td>\n",
       "      <td>0.460196</td>\n",
       "      <td>0.787425</td>\n",
       "      <td>2.567548</td>\n",
       "      <td>-0.302322</td>\n",
       "      <td>0.293479</td>\n",
       "      <td>-0.050122</td>\n",
       "      <td>-0.098325</td>\n",
       "      <td>-1.050502</td>\n",
       "      <td>-0.065692</td>\n",
       "      <td>3.757210</td>\n",
       "      <td>-1.477250</td>\n",
       "      <td>-0.354656</td>\n",
       "      <td>-1.197037</td>\n",
       "      <td>-1.383106</td>\n",
       "      <td>1.0</td>\n",
       "    </tr>\n",
       "    <tr>\n",
       "      <th>2</th>\n",
       "      <td>0.494851</td>\n",
       "      <td>-0.768557</td>\n",
       "      <td>0.464354</td>\n",
       "      <td>0.529292</td>\n",
       "      <td>-0.129155</td>\n",
       "      <td>-0.691831</td>\n",
       "      <td>0.257837</td>\n",
       "      <td>-0.050122</td>\n",
       "      <td>-0.098325</td>\n",
       "      <td>-0.001827</td>\n",
       "      <td>0.001476</td>\n",
       "      <td>-0.000523</td>\n",
       "      <td>0.000157</td>\n",
       "      <td>-0.000410</td>\n",
       "      <td>-1.197037</td>\n",
       "      <td>-1.383106</td>\n",
       "      <td>0.0</td>\n",
       "    </tr>\n",
       "    <tr>\n",
       "      <th>3</th>\n",
       "      <td>0.494851</td>\n",
       "      <td>-0.768557</td>\n",
       "      <td>0.464354</td>\n",
       "      <td>0.425632</td>\n",
       "      <td>-0.462456</td>\n",
       "      <td>-0.548629</td>\n",
       "      <td>0.477627</td>\n",
       "      <td>-0.050122</td>\n",
       "      <td>-0.098325</td>\n",
       "      <td>-0.001827</td>\n",
       "      <td>0.001476</td>\n",
       "      <td>-0.000523</td>\n",
       "      <td>0.000157</td>\n",
       "      <td>-0.000410</td>\n",
       "      <td>-1.197037</td>\n",
       "      <td>0.208917</td>\n",
       "      <td>0.0</td>\n",
       "    </tr>\n",
       "    <tr>\n",
       "      <th>4</th>\n",
       "      <td>0.494851</td>\n",
       "      <td>-0.768557</td>\n",
       "      <td>0.464354</td>\n",
       "      <td>0.433762</td>\n",
       "      <td>-0.341256</td>\n",
       "      <td>-0.050286</td>\n",
       "      <td>0.416244</td>\n",
       "      <td>-0.050122</td>\n",
       "      <td>-0.098325</td>\n",
       "      <td>-0.001827</td>\n",
       "      <td>0.001476</td>\n",
       "      <td>-0.000523</td>\n",
       "      <td>0.000157</td>\n",
       "      <td>-0.000410</td>\n",
       "      <td>-1.197037</td>\n",
       "      <td>0.208917</td>\n",
       "      <td>0.0</td>\n",
       "    </tr>\n",
       "  </tbody>\n",
       "</table>\n",
       "</div>"
      ],
      "text/plain": [
       "      MONTH       DAY  SCHEDULED_DEPARTURE  DEPARTURE_TIME  DEPARTURE_DELAY  \\\n",
       "0  0.494851 -0.768557             0.458116        0.606529         1.113146   \n",
       "1  0.494851 -0.768557             0.460196        0.787425         2.567548   \n",
       "2  0.494851 -0.768557             0.464354        0.529292        -0.129155   \n",
       "3  0.494851 -0.768557             0.464354        0.425632        -0.462456   \n",
       "4  0.494851 -0.768557             0.464354        0.433762        -0.341256   \n",
       "\n",
       "   DISTANCE  SCHEDULED_ARRIVAL  DIVERTED  CANCELLED  AIR_SYSTEM_DELAY  \\\n",
       "0  2.231401           0.449906 -0.050122  -0.098325         -1.050502   \n",
       "1 -0.302322           0.293479 -0.050122  -0.098325         -1.050502   \n",
       "2 -0.691831           0.257837 -0.050122  -0.098325         -0.001827   \n",
       "3 -0.548629           0.477627 -0.050122  -0.098325         -0.001827   \n",
       "4 -0.050286           0.416244 -0.050122  -0.098325         -0.001827   \n",
       "\n",
       "   SECURITY_DELAY  AIRLINE_DELAY  LATE_AIRCRAFT_DELAY  WEATHER_DELAY  \\\n",
       "0       -0.065692       1.307518            -1.477250      -0.354656   \n",
       "1       -0.065692       3.757210            -1.477250      -0.354656   \n",
       "2        0.001476      -0.000523             0.000157      -0.000410   \n",
       "3        0.001476      -0.000523             0.000157      -0.000410   \n",
       "4        0.001476      -0.000523             0.000157      -0.000410   \n",
       "\n",
       "    AIRLINE  ARRIVAL_TIME_SEGMENT  FLIGHT_DELAY  \n",
       "0 -1.197037              0.208917           1.0  \n",
       "1 -1.197037             -1.383106           1.0  \n",
       "2 -1.197037             -1.383106           0.0  \n",
       "3 -1.197037              0.208917           0.0  \n",
       "4 -1.197037              0.208917           0.0  "
      ]
     },
     "execution_count": 78,
     "metadata": {},
     "output_type": "execute_result"
    }
   ],
   "source": [
    "data_df.head()"
   ]
  },
  {
   "cell_type": "code",
   "execution_count": 79,
   "id": "f5829b4f-9088-41b3-86fd-f49cc386d93f",
   "metadata": {},
   "outputs": [
    {
     "name": "stdout",
     "output_type": "stream",
     "text": [
      "<class 'pandas.core.frame.DataFrame'>\n",
      "RangeIndex: 1783348 entries, 0 to 1783347\n",
      "Data columns (total 17 columns):\n",
      " #   Column                Dtype  \n",
      "---  ------                -----  \n",
      " 0   MONTH                 float64\n",
      " 1   DAY                   float64\n",
      " 2   SCHEDULED_DEPARTURE   float64\n",
      " 3   DEPARTURE_TIME        float64\n",
      " 4   DEPARTURE_DELAY       float64\n",
      " 5   DISTANCE              float64\n",
      " 6   SCHEDULED_ARRIVAL     float64\n",
      " 7   DIVERTED              float64\n",
      " 8   CANCELLED             float64\n",
      " 9   AIR_SYSTEM_DELAY      float64\n",
      " 10  SECURITY_DELAY        float64\n",
      " 11  AIRLINE_DELAY         float64\n",
      " 12  LATE_AIRCRAFT_DELAY   float64\n",
      " 13  WEATHER_DELAY         float64\n",
      " 14  AIRLINE               float64\n",
      " 15  ARRIVAL_TIME_SEGMENT  float64\n",
      " 16  FLIGHT_DELAY          float64\n",
      "dtypes: float64(17)\n",
      "memory usage: 231.3 MB\n"
     ]
    }
   ],
   "source": [
    "data_df.info()"
   ]
  },
  {
   "cell_type": "code",
   "execution_count": 80,
   "id": "3ac3c1ab-9ed9-4471-ac16-add9a4b1adfa",
   "metadata": {},
   "outputs": [],
   "source": [
    "data_df['FLIGHT_DELAY'] = data_df['FLIGHT_DELAY'].astype('str')"
   ]
  },
  {
   "cell_type": "code",
   "execution_count": null,
   "id": "de0c61ed-293b-49f1-b9e8-7956af29c6ce",
   "metadata": {},
   "outputs": [],
   "source": [
    "data_df.head()"
   ]
  },
  {
   "cell_type": "code",
   "execution_count": null,
   "id": "1059d8c6-ee72-4ac5-b731-e9bd680b9f84",
   "metadata": {},
   "outputs": [],
   "source": [
    "ins_train_sf=my_session.createDataFrame(\n",
    "        data_df.values.tolist(),\n",
    "        schema=data_df.columns.tolist())\n",
    "ins_train_sf.write.mode(\"overwrite\").save_as_table(\"TTH_DB.TTH_AIRLINE_SCHEMA.FLIGHTS_TRAINDATA\")"
   ]
  },
  {
   "cell_type": "markdown",
   "id": "c40d71b3-f21e-4678-a753-5e44a791542a",
   "metadata": {},
   "source": [
    "# Push Model Output on snowflake"
   ]
  },
  {
   "cell_type": "code",
   "execution_count": null,
   "id": "63626acb-37de-493f-9d9f-a7d7546ede5f",
   "metadata": {},
   "outputs": [],
   "source": [
    "test_df = pd.concat([X_test_df,y_test_df,y_pred_df, y_prob_df],axis=1,ignore_index=True)"
   ]
  },
  {
   "cell_type": "code",
   "execution_count": null,
   "id": "aca76bd9-3e53-4717-ae31-90dc38f7303d",
   "metadata": {},
   "outputs": [],
   "source": [
    "test_df.dropna(inplace=True)"
   ]
  },
  {
   "cell_type": "code",
   "execution_count": null,
   "id": "ed8c958b-7bd0-47fd-aac5-83f43e8abda9",
   "metadata": {},
   "outputs": [],
   "source": [
    "test_df.shape"
   ]
  },
  {
   "cell_type": "code",
   "execution_count": null,
   "id": "5b256707-3aa6-47a6-a1f9-080abb87b3e5",
   "metadata": {
    "scrolled": true
   },
   "outputs": [],
   "source": [
    "test_df.head()"
   ]
  },
  {
   "cell_type": "code",
   "execution_count": null,
   "id": "959fb66d-5ae0-4e35-b31a-0cfe83ab8f9a",
   "metadata": {},
   "outputs": [],
   "source": [
    "test_df.columns = ['MONTH', 'DAY', 'SCHEDULED_DEPARTURE', 'DEPARTURE_TIME','DEPARTURE_DELAY','DISTANCE','SCHEDULED_ARRIVAL', \n",
    "                   'DIVERTED', 'CANCELLED', 'AIR_SYSTEM_DELAY','SECURITY_DELAY', 'AIRLINE_DELAY', 'LATE_AIRCRAFT_DELAY',\n",
    "                   'WEATHER_DELAY','AIRLINE', 'ARRIVAL_TIME_SEGMENT','FLIGHT_DELAY','PREDICTED_DELAY','PROBABILITY']"
   ]
  },
  {
   "cell_type": "code",
   "execution_count": null,
   "id": "2fe5db14-4098-43fd-bc4c-2e11e71ef532",
   "metadata": {},
   "outputs": [],
   "source": [
    "X1_df = test_df.head(15000)\n",
    "X2_df = test_df.tail(15000)"
   ]
  },
  {
   "cell_type": "code",
   "execution_count": null,
   "id": "8160f70c-12ef-4a5a-8c86-ecfd98a62cfc",
   "metadata": {},
   "outputs": [],
   "source": [
    "ins_train_sf=my_session.createDataFrame(\n",
    "        X1_df.values.tolist(),\n",
    "        schema=X1_df.columns.tolist())\n",
    "ins_train_sf.write.mode(\"overwrite\").save_as_table(\"TTH_DB.TTH_AIRLINE_SCHEMA.DELAY_CLASSIFIER_OUTPUT_1\")"
   ]
  },
  {
   "cell_type": "code",
   "execution_count": null,
   "id": "c930ce26-4451-48b5-962e-dcd8536bfc0c",
   "metadata": {},
   "outputs": [],
   "source": [
    "ins_train_sf=my_session.createDataFrame(\n",
    "        X2_df.values.tolist(),\n",
    "        schema=X2_df.columns.tolist())\n",
    "ins_train_sf.write.mode(\"overwrite\").save_as_table(\"TTH_DB.TTH_AIRLINE_SCHEMA.DELAY_CLASSIFIER_OUTPUT_2\")"
   ]
  }
 ],
 "metadata": {
  "kernelspec": {
   "display_name": "Python 3 (ipykernel)",
   "language": "python",
   "name": "python3"
  },
  "language_info": {
   "codemirror_mode": {
    "name": "ipython",
    "version": 3
   },
   "file_extension": ".py",
   "mimetype": "text/x-python",
   "name": "python",
   "nbconvert_exporter": "python",
   "pygments_lexer": "ipython3",
   "version": "3.9.19"
  }
 },
 "nbformat": 4,
 "nbformat_minor": 5
}
