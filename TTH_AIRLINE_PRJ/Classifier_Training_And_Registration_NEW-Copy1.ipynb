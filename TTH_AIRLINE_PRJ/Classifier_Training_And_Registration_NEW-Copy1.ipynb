{
 "cells": [
  {
   "cell_type": "markdown",
   "id": "7f9b8fbb-4429-4731-b16c-dc25b9b95ca5",
   "metadata": {},
   "source": [
    "# **Flight Delay Prediction using Scikit-Learn Pipeline**\n",
    "\n",
    "## **Overview**\n",
    "This project demonstrates how to build a **machine learning pipeline** using scikit-learn to predict flight delays. The pipeline integrates data preprocessing with model training, ensuring efficient handling of both numerical and categorical data.\n",
    "\n",
    "---\n",
    "\n",
    "## **Objectives**\n",
    "- Preprocess numerical and categorical data using `ColumnTransformer`.\n",
    "- Automate the machine learning workflow using `Pipeline`.\n",
    "- Train a **Random Forest Classifier** to predict flight delays.\n",
    "- Optimize the model using **GridSearchCV** for hyperparameter tuning.\n",
    "\n",
    "---\n",
    "\n",
    "## **Data Overview**\n",
    "- **Dataset**: Contains flight details such as:\n",
    "  - **Year**, **Month**, **Day**\n",
    "  - **Airline code**, **Origin airport code**, **Destination airport code**\n",
    "  - **Departure delay** (target: delayed or not)\n",
    "\n",
    "- **Target Variable**:  \n",
    "  - `1` if the flight was delayed  \n",
    "  - `0` if the flight was on time\n",
    "\n",
    "---\n",
    "\n",
    "## **Steps Involved**\n",
    "\n",
    "### 1. **Data Loading and Exploration**\n",
    "- Load the flight dataset and inspect its structure and missing values.\n",
    "\n",
    "### 2. **Feature Engineering**\n",
    "- **Numerical Features**:\n",
    "  - `YEAR`, `MONTH`, `DAY`\n",
    "- **Categorical Features**:\n",
    "  - `AIRLINE__CODE`, `ORIGIN_AIRPORT_CODE`, `DESTINATION_AIRPORT_CODE`\n",
    "\n",
    "### 3. **Preprocessing with `ColumnTransformer`**\n",
    "- **Numerical Data**:\n",
    "  - Impute missing values with the **mean**.\n",
    "  - Standardize values using **`StandardScaler`**.\n",
    "  \n",
    "- **Categorical Data**:\n",
    "  - Impute missing values with `'missing'`.\n",
    "  - Encode using **`OneHotEncoder`**.\n",
    "\n",
    "### 4. **Pipeline Setup**\n",
    "- Use a **scikit-learn Pipeline** to link preprocessing and model training.\n",
    "- Integrate a **Random Forest Classifier** within the pipeline.\n",
    "\n",
    "### 5. **Model Training and Evaluation**\n",
    "- Split the data into **train (70%)** and **test (30%)** sets.\n",
    "- Evaluate the model using a **classification report** with metrics like:\n",
    "  - **Precision**, **Recall**, **F1-score**\n",
    "\n",
    "### 6. **Hyperparameter Tuning with GridSearchCV**\n",
    "- Tune hyperparameters of the Random Forest model:\n",
    "  - Number of estimators (`n_estimators`)\n",
    "  - Maximum tree depth (`max_depth`)\n",
    "\n",
    "### 7. **Model Persistence**\n",
    "- Save the trained model using **`joblib`** for later use.\n",
    "\n",
    "---\n",
    "\n",
    "## **Technologies Used**\n",
    "- **Python**: Programming language\n",
    "- **Pandas**: Data manipulation and cleaning\n",
    "- **Scikit-Learn**: Machine learning, preprocessing, and model evaluation\n",
    "- **Joblib**: Model persistence\n",
    "- **Jupyter Notebook**: Interactive development environment\n",
    "\n",
    "---\n",
    "\n",
    "## **Expected Output**\n",
    "- A **trained Random Forest model** to predict flight delays.\n",
    "- **Performance metrics** (accuracy, precision, recall) from the classification report.\n",
    "- A **saved model** (`flight_delay_classifier.pkl`) for deployment.\n",
    "\n",
    "---\n",
    "\n",
    "## **Conclusion**\n",
    "This project demonstrates how to create an automated **machine learning workflow** using scikit-learn’s `Pipeline` and `ColumnTransformer`. The streamlined preprocessing ensures consistency during both training and testing. With **hyperparameter tuning**, the model's performance is further optimized, making it reliable for real-world flight delay predictions.\n"
   ]
  },
  {
   "cell_type": "markdown",
   "id": "1c74068f-5d36-4470-b114-89c343639ee7",
   "metadata": {},
   "source": [
    "# Upgrade pip and install all required packages"
   ]
  },
  {
   "cell_type": "code",
   "execution_count": null,
   "id": "07cd3d9a-34f9-4470-ac27-ed4f2e7393ca",
   "metadata": {},
   "outputs": [],
   "source": [
    "!pip install --upgrade pip\n",
    "\n",
    "# Install Snowflake connectors, pandas integration, and essential libraries\n",
    "!pip install \"snowflake-connector-python[pandas]\" \\\n",
    "             snowflake-snowpark-python==1.9.0 \\\n",
    "             numpy pandas matplotlib scikit-learn xgboost seaborn \\\n",
    "             python-dateutil tqdm holidays faker\n",
    "\n",
    "# Ensure Snowpark Python is up-to-date\n",
    "!pip install --upgrade -q snowflake-snowpark-python==1.9.0\n",
    "\n",
    "# Fix potential urllib3 version conflicts\n",
    "!pip uninstall urllib3 -y\n",
    "!pip install urllib3==1.26.15\n",
    "\n",
    "# Additional installations for your project\n",
    "!pip install fosforml==1.1.6\n",
    "!pip install python-scipy\n",
    "!pip install basemap\n"
   ]
  },
  {
   "cell_type": "markdown",
   "id": "f2769424-b24a-4aa9-a0a4-13d11b137561",
   "metadata": {},
   "source": [
    "# Importing necessary libraries and settings"
   ]
  },
  {
   "cell_type": "code",
   "execution_count": 1,
   "id": "a8139298-4711-4e0e-923d-2414b79d4cee",
   "metadata": {},
   "outputs": [],
   "source": [
    "\n",
    "# Standard libraries for date and warnings\n",
    "import datetime\n",
    "import warnings\n",
    "\n",
    "# Scientific and Data Manipulation Libraries\n",
    "import scipy\n",
    "import pandas as pd\n",
    "import numpy as np\n",
    "\n",
    "# Data Visualization Libraries\n",
    "import matplotlib.pyplot as plt\n",
    "%matplotlib inline\n",
    "import seaborn as sb\n",
    "\n",
    "# Sklearn Modules for Data Preprocessing, Modeling, and Evaluation\n",
    "from sklearn.model_selection import train_test_split\n",
    "from sklearn.preprocessing import LabelEncoder  # Encoding categorical variables\n",
    "from sklearn.preprocessing import StandardScaler  # Scaling numerical data\n",
    "from sklearn.tree import DecisionTreeClassifier  # Decision Tree model\n",
    "from sklearn.metrics import roc_auc_score, classification_report  # Evaluation metrics\n",
    "\n",
    "from sklearn.preprocessing import StandardScaler, OneHotEncoder\n",
    "from sklearn.decomposition import PCA\n",
    "from sklearn.linear_model import LinearRegression\n",
    "\n",
    "import configparser\n",
    "from dateutil.relativedelta import relativedelta\n",
    "from sklearn.compose import ColumnTransformer\n",
    "from sklearn.pipeline import Pipeline\n",
    "from sklearn.linear_model import LinearRegression, Ridge, Lasso, ElasticNet\n",
    "from sklearn.ensemble import RandomForestRegressor, GradientBoostingRegressor\n",
    "from sklearn.svm import SVR\n",
    "from sklearn.model_selection import train_test_split, GridSearchCV\n",
    "from sklearn.metrics import mean_squared_error, r2_score\n",
    "%matplotlib inline\n",
    "\n",
    "# Configuring display options and warning filters\n",
    "pd.options.display.max_columns = 50\n",
    "warnings.filterwarnings(\"ignore\")\n",
    "\n",
    "# Custom FosforML package for Snowflake session and model registration\n",
    "from fosforml.model_manager.snowflakesession import get_session\n",
    "from fosforml import register_model\n",
    "from sklearn.compose import ColumnTransformer\n",
    "from sklearn.pipeline import Pipeline\n",
    "from sklearn.preprocessing import StandardScaler, OneHotEncoder\n",
    "from sklearn.impute import SimpleImputer\n"
   ]
  },
  {
   "cell_type": "code",
   "execution_count": 2,
   "id": "bc2ddd72-c6b6-45fc-b75d-da6bf2801118",
   "metadata": {},
   "outputs": [],
   "source": [
    "# Set Matplotlib's default font family to 'DeJavu Serif' to ensure a consistent font style across plots\n",
    "plt.rcParams['font.family'] = 'DeJavu Serif'"
   ]
  },
  {
   "cell_type": "markdown",
   "id": "4699a877-d528-48f9-9b71-783a105440a2",
   "metadata": {},
   "source": [
    "# Establishing a Snowflake session\n"
   ]
  },
  {
   "cell_type": "code",
   "execution_count": null,
   "id": "300e5555-0907-4a6f-8bca-2b46e0313562",
   "metadata": {},
   "outputs": [],
   "source": [
    "my_session = get_session()\n",
    "\n",
    "# Defining the table name to fetch data from\n",
    "# table_name = 'FLIGHTS'  # Initial option for table\n",
    "table_name = 'FLIGHTS_FULL'  # Final table to be used\n",
    "\n",
    "# Querying the data from the specified Snowflake table\n",
    "sf_df = my_session.sql(\"SELECT * FROM {}\".format(table_name))\n",
    "\n",
    "# Converting the Snowflake DataFrame to a pandas DataFrame for local processing\n",
    "df = sf_df.to_pandas()\n",
    "\n",
    "df"
   ]
  },
  {
   "cell_type": "markdown",
   "id": "fe9d32d5-b35b-4d9e-a2b7-0e9a3a89bff3",
   "metadata": {},
   "source": [
    "# Filtering data for specific airlines"
   ]
  },
  {
   "cell_type": "code",
   "execution_count": null,
   "id": "83f30293-3d3e-4836-8434-a1670c2458c2",
   "metadata": {},
   "outputs": [],
   "source": [
    "# Defining the list of airlines to include in the filtered DataFrame\n",
    "options = ['Southwest Airlines Co.', 'Delta Air Lines Inc.']\n",
    "\n",
    "#df.replace({'AIRLINE':'Southwest Airlines Co.'}, {'AIRLINE': 'Southwest airlines'}, regex=True)\n",
    "#df.replace({'AIRLINE':'Delta Air Lines Inc.'}, {'AIRLINE': 'Delta airlines'}, regex=True)\n",
    "\n",
    "# Selecting rows where the 'AIRLINE' column matches one of the specified airlines\n",
    "flights = df.loc[df['AIRLINE'].isin(options)]\n",
    "flights"
   ]
  },
  {
   "cell_type": "code",
   "execution_count": null,
   "id": "92aa1c97-5323-42b0-842f-49b71ca16f17",
   "metadata": {},
   "outputs": [],
   "source": [
    "flights = flights.dropna(subset = 'ARRIVAL_DELAY')"
   ]
  },
  {
   "cell_type": "markdown",
   "id": "4d006a0a-23b4-4d2f-9fb3-9629a057eefd",
   "metadata": {},
   "source": [
    "# Creating a copy of the filtered flights data"
   ]
  },
  {
   "cell_type": "code",
   "execution_count": null,
   "id": "1d052419-9d4b-43b4-9235-b9b157ddc9e8",
   "metadata": {},
   "outputs": [],
   "source": [
    "# This ensures that any modifications made to 'flights_needed_data' do not affect the original 'flights' DataFrame\n",
    "flights_needed_data = flights.copy()"
   ]
  },
  {
   "cell_type": "code",
   "execution_count": null,
   "id": "79ba63a4-5fcb-44a0-bfb4-11bb6c955f7c",
   "metadata": {},
   "outputs": [],
   "source": [
    "flights_needed_data.shape\n",
    "#(2137736, 45)"
   ]
  },
  {
   "cell_type": "code",
   "execution_count": null,
   "id": "4dbc089b-14c3-48c3-9ec4-023cffe6492b",
   "metadata": {},
   "outputs": [],
   "source": [
    "flights_needed_data.info()"
   ]
  },
  {
   "cell_type": "code",
   "execution_count": null,
   "id": "9aa82db6-2c10-40bb-bacb-83755b08ba6d",
   "metadata": {},
   "outputs": [],
   "source": [
    "flights_needed_data.head()"
   ]
  },
  {
   "cell_type": "markdown",
   "id": "9660f95e-a3b9-4c90-82a8-57219b90cece",
   "metadata": {},
   "source": [
    "# Function to categorize scheduled arrival times into time segments"
   ]
  },
  {
   "cell_type": "code",
   "execution_count": null,
   "id": "94c32420-2fc3-4411-801c-cfa7a054cfdc",
   "metadata": {},
   "outputs": [],
   "source": [
    "def categorize_time(SCHEDULED_ARRIVAL):\n",
    "    # Categorize based on scheduled arrival time in 24-hour format\n",
    "    if 500 <= SCHEDULED_ARRIVAL < 800:\n",
    "        return 'Early morning'\n",
    "    elif 800 <= SCHEDULED_ARRIVAL < 1100:\n",
    "        return 'Late morning'\n",
    "    elif 1100 <= SCHEDULED_ARRIVAL < 1400:\n",
    "        return 'Around noon'\n",
    "    elif 1400 <= SCHEDULED_ARRIVAL < 1700:\n",
    "        return 'Afternoon'\n",
    "    elif 1700 <= SCHEDULED_ARRIVAL < 2000:\n",
    "        return 'Evening'\n",
    "    elif 2000 <= SCHEDULED_ARRIVAL < 2300:\n",
    "        return 'Night'\n",
    "    elif SCHEDULED_ARRIVAL >= 2300 or SCHEDULED_ARRIVAL < 200:\n",
    "        return 'Late night'\n",
    "    elif 200 <= SCHEDULED_ARRIVAL < 500:\n",
    "        return 'Dawn'\n",
    "\n",
    "# Apply categorize_time function to the 'SCHEDULED_ARRIVAL' column to create 'ARRIVAL_TIME_SEGMENT'\n",
    "flights_needed_data['ARRIVAL_TIME_SEGMENT'] = flights_needed_data['SCHEDULED_ARRIVAL'].apply(categorize_time)\n"
   ]
  },
  {
   "cell_type": "code",
   "execution_count": null,
   "id": "913a2ee0-bebf-46c3-b82a-4ba6eab17aa7",
   "metadata": {},
   "outputs": [],
   "source": [
    "flights_needed_data"
   ]
  },
  {
   "cell_type": "code",
   "execution_count": null,
   "id": "eca09f53-9dc4-4a4e-8a1b-2e22cf4e0572",
   "metadata": {},
   "outputs": [],
   "source": [
    "flights['AIRLINE__CODE'].unique()"
   ]
  },
  {
   "cell_type": "code",
   "execution_count": null,
   "id": "d53009dc-e2da-4657-a434-6e35917b0bd0",
   "metadata": {},
   "outputs": [],
   "source": [
    "flights_needed_data.value_counts('DIVERTED')"
   ]
  },
  {
   "cell_type": "code",
   "execution_count": null,
   "id": "2af14d22-60aa-48df-ae40-c42d88f8dabb",
   "metadata": {},
   "outputs": [],
   "source": [
    "flights_needed_data['FLIGHT_NUMBER'] = flights_needed_data['FLIGHT_NUMBER'].astype(str)"
   ]
  },
  {
   "cell_type": "code",
   "execution_count": null,
   "id": "77a27c09-183b-49c9-a84f-2bd71903e73e",
   "metadata": {},
   "outputs": [],
   "source": [
    "flights_needed_data['MONTH'] = flights_needed_data['MONTH'].astype(str)\n",
    "flights_needed_data['DAY'] = flights_needed_data['DAY'].astype(str)\n",
    "flights_needed_data['DAY_OF_WEEK'] = flights_needed_data['DAY_OF_WEEK'].astype(str)\n",
    "flights_needed_data['DIVERTED'] = flights_needed_data['DIVERTED'].astype(str)\n",
    "flights_needed_data['CANCELLED'] = flights_needed_data['CANCELLED'].astype(str)\n",
    "flights_needed_data['CANCELLED'] = flights_needed_data['CANCELLED'].astype(str)"
   ]
  },
  {
   "cell_type": "code",
   "execution_count": null,
   "id": "a50c98a4-d7f2-4e16-8450-db7def805d4f",
   "metadata": {},
   "outputs": [],
   "source": [
    "flights_needed_data.info()"
   ]
  },
  {
   "cell_type": "code",
   "execution_count": null,
   "id": "40d70368-a8e0-4525-afd2-9119b9d383a6",
   "metadata": {},
   "outputs": [],
   "source": [
    "flights_needed_data.columns"
   ]
  },
  {
   "cell_type": "markdown",
   "id": "e08be183-df58-46a7-b8ab-8f142ad4dc1c",
   "metadata": {},
   "source": [
    "# Define columns by data type"
   ]
  },
  {
   "cell_type": "code",
   "execution_count": null,
   "id": "d9fa9fb7-31e0-4b5a-9297-585e11dd5788",
   "metadata": {},
   "outputs": [],
   "source": [
    "##numerical_cols = ['MONTH', 'DAY', 'SCHEDULED_DEPARTURE', 'DEPARTURE_TIME', 'DEPARTURE_DELAY',\n",
    " #                 'DISTANCE', 'SCHEDULED_ARRIVAL', 'DIVERTED', 'CANCELLED', 'AIR_SYSTEM_DELAY',\n",
    " #                 'SECURITY_DELAY', 'AIRLINE_DELAY', 'LATE_AIRCRAFT_DELAY', 'WEATHER_DELAY']\n",
    "##categorical_cols = ['AIRLINE', 'ARRIVAL_TIME_SEGMENT']\n",
    "\n",
    "numerical_cols = ['SCHEDULED_DEPARTURE', 'DISTANCE','SCHEDULED_ARRIVAL']                \n",
    "categorical_cols = ['MONTH', 'DAY', 'DAY_OF_WEEK', 'FLIGHT_NUMBER','TAIL_NUMBER',\n",
    "                    'AIRLINE', 'ORIGIN_AIRPORT', 'ORIGIN_CITY', 'DEST_AIRPORT', 'DEST_CITY','ARRIVAL_TIME_SEGMENT']\n"
   ]
  },
  {
   "cell_type": "markdown",
   "id": "94c08317-61e2-43d5-ac47-abb744ade252",
   "metadata": {},
   "source": [
    "# Creating the target column"
   ]
  },
  {
   "cell_type": "code",
   "execution_count": null,
   "id": "0d98c4cd-b4ec-4426-aac5-ed9ee4fc71fc",
   "metadata": {},
   "outputs": [],
   "source": [
    "# result = []\n",
    "# for row in flights_needed_data['ARRIVAL_DELAY']:\n",
    "#   if row > 5:\n",
    "#     result.append(1)\n",
    "#   else:\n",
    "#     result.append(0) \n",
    "\n",
    "# flights_needed_data['delay_flag'] = result\n",
    "# flights_needed_data.value_counts('delay_flag')"
   ]
  },
  {
   "cell_type": "code",
   "execution_count": null,
   "id": "70c6f756-d00f-41b5-b0df-3d84b37dabb3",
   "metadata": {},
   "outputs": [],
   "source": [
    "#test_data = flights_needed_data[flights_needed_data['MONTH'] >= 11] \n",
    "#test=test.drop(['FLY_DATE'], axis=1)\n",
    "#train_data = flights_needed_data[flights_needed_data['MONTH'] < 11]\n",
    "\n",
    "train_data  = flights_needed_data[flights_needed_data[\"MONTH\"].apply(lambda x: '11' not in x and '12' not in x)]\n",
    "test_data = flights_needed_data[flights_needed_data[\"MONTH\"].apply(lambda x: '11' in x or '12' in x)]"
   ]
  },
  {
   "cell_type": "code",
   "execution_count": null,
   "id": "8d025b9a-a27e-4b88-b763-eeba41555585",
   "metadata": {},
   "outputs": [],
   "source": [
    "test_data.info()"
   ]
  },
  {
   "cell_type": "code",
   "execution_count": null,
   "id": "35ef4680-86bf-4d8e-84b8-701bb7499ec2",
   "metadata": {},
   "outputs": [],
   "source": [
    "# Replace 'target_column_name' with the actual name of your target column\n",
    "X_train = train_data.drop(columns=['ARRIVAL_DELAY'])\n",
    "y_train = train_data['ARRIVAL_DELAY']\n",
    "\n",
    "# Replace 'target_column_name' with the actual name of your target column\n",
    "X_test = test_data.drop(columns=['ARRIVAL_DELAY'])\n",
    "y_test = test_data['ARRIVAL_DELAY']"
   ]
  },
  {
   "cell_type": "code",
   "execution_count": null,
   "id": "b303b94d-325b-40cd-b333-909d84560c06",
   "metadata": {},
   "outputs": [],
   "source": [
    "X_train.columns"
   ]
  },
  {
   "cell_type": "code",
   "execution_count": null,
   "id": "a9e7e247-2ff4-49ba-bf4c-1acdc66db58a",
   "metadata": {},
   "outputs": [],
   "source": [
    "numerical_cols = [ 'DISTANCE','AIR_TIME']                \n",
    "categorical_cols = ['MONTH', 'DAY', 'DAY_OF_WEEK', 'FLIGHT_NUMBER','TAIL_NUMBER',\n",
    "                    'AIRLINE', 'ORIGIN_AIRPORT', 'ORIGIN_CITY', 'DEST_AIRPORT', 'DEST_CITY','ARRIVAL_TIME_SEGMENT']\n",
    "## should add flytime if rerunning again"
   ]
  },
  {
   "cell_type": "markdown",
   "id": "2a29c00c-5759-4de5-bbfd-ea7d4d1079a4",
   "metadata": {},
   "source": [
    "# Define transformations for numerical columns: imputing and scaling"
   ]
  },
  {
   "cell_type": "code",
   "execution_count": null,
   "id": "9be2e1e0-15c1-46c6-836a-0b38cfc812b8",
   "metadata": {},
   "outputs": [],
   "source": [
    "numerical_transformer = Pipeline(steps=[\n",
    "    ('imputer', SimpleImputer(strategy='mean')),\n",
    "    ('scaler', StandardScaler())\n",
    "])"
   ]
  },
  {
   "cell_type": "markdown",
   "id": "a83dbadd-1155-4c10-9bb7-c3425a830ec1",
   "metadata": {},
   "source": [
    "# Define transformations for categorical columns: imputing and one-hot encoding\n"
   ]
  },
  {
   "cell_type": "code",
   "execution_count": null,
   "id": "9ff8f868-f6c2-4f29-92cc-cd77b00c9031",
   "metadata": {},
   "outputs": [],
   "source": [
    "categorical_transformer = Pipeline(steps=[\n",
    "    ('imputer', SimpleImputer(strategy='most_frequent')),\n",
    "    ('encoder', OneHotEncoder(handle_unknown='ignore'))\n",
    "])"
   ]
  },
  {
   "cell_type": "markdown",
   "id": "bd0581fd-6093-4fe4-aa7a-c282aaf3e8c0",
   "metadata": {},
   "source": [
    "# Combine both transformations in a ColumnTransformer\n"
   ]
  },
  {
   "cell_type": "code",
   "execution_count": null,
   "id": "8e59dab0-2476-4eca-9648-3087cb015efb",
   "metadata": {},
   "outputs": [],
   "source": [
    "preprocessor = ColumnTransformer(\n",
    "    transformers=[\n",
    "        ('num', numerical_transformer, numerical_cols),\n",
    "        ('cat', categorical_transformer, categorical_cols)\n",
    "    ]\n",
    ")"
   ]
  },
  {
   "cell_type": "markdown",
   "id": "e9e15a34-84bd-4f6c-853e-4ee495bb804d",
   "metadata": {},
   "source": [
    "# Create a full pipeline; add your model at the end (e.g., DecisionTreeClassifier)"
   ]
  },
  {
   "cell_type": "code",
   "execution_count": null,
   "id": "cd8f7d41-10b6-4923-993c-4e7fbcb4a2eb",
   "metadata": {},
   "outputs": [],
   "source": [
    "pipeline = Pipeline(steps=[\n",
    "    ('preprocessor', preprocessor),\n",
    "    ('regressor', RandomForestRegressor())\n",
    "])\n",
    "pipeline"
   ]
  },
  {
   "cell_type": "code",
   "execution_count": null,
   "id": "2c4c12b0-e50d-4325-a08a-7bb059f021d2",
   "metadata": {},
   "outputs": [],
   "source": [
    "# param_grid = {\n",
    "#     'regressor__n_estimators': [100],\n",
    "#     'regressor__max_depth': [10],\n",
    "#     'regressor__min_samples_split': [2],\n",
    "#     'regressor__min_samples_leaf': [1],\n",
    "#     #'regressor__max_features': ['auto']\n",
    "# }\n",
    "\n",
    "\n",
    "# grid_search = GridSearchCV(estimator=pipeline, \n",
    "#                            param_grid=param_grid, \n",
    "#                            cv=5, \n",
    "#                            scoring='neg_mean_squared_error', \n",
    "#                            n_jobs=-1)\n",
    "\n",
    "# grid_search.fit(X_train, y_train)\n",
    "\n",
    "# best_model = grid_search.best_estimator_\n",
    "# print(\"Best parameters found: \", grid_search.best_params_)\n",
    "# print(\"Best cross-validation score (MSE): {:.3f}\".format(-grid_search.best_score_))"
   ]
  },
  {
   "cell_type": "code",
   "execution_count": null,
   "id": "ec44ee91-8602-457a-89bb-04e5b559c285",
   "metadata": {},
   "outputs": [],
   "source": [
    "pipeline.fit(X_train, y_train)"
   ]
  },
  {
   "cell_type": "code",
   "execution_count": null,
   "id": "0ecc3667-07b6-4bbd-bcd8-9c7077107d1d",
   "metadata": {},
   "outputs": [],
   "source": []
  },
  {
   "cell_type": "code",
   "execution_count": null,
   "id": "7851334c-c13e-491a-8330-df3f5788bdbf",
   "metadata": {},
   "outputs": [],
   "source": []
  },
  {
   "cell_type": "code",
   "execution_count": null,
   "id": "37412033-6842-4637-9d57-590c26bea435",
   "metadata": {},
   "outputs": [],
   "source": []
  },
  {
   "cell_type": "code",
   "execution_count": null,
   "id": "de80eb6c-94fd-47ab-a9f6-1f0ec551f7ef",
   "metadata": {},
   "outputs": [],
   "source": []
  },
  {
   "cell_type": "code",
   "execution_count": null,
   "id": "09eba34f-5045-4677-b7dc-b59b8814a9c5",
   "metadata": {},
   "outputs": [],
   "source": [
    "## registering the model in Fosfor Insight Designer.\n",
    "register_model(\n",
    "    model_obj=best_estimator, \n",
    "    session=my_session,\n",
    "    x_train=X_train_df,\n",
    "    y_train=y_train_df,\n",
    "    x_test=X_test_df,\n",
    "    y_test=y_test_df,\n",
    "    y_pred=y_pred_df,\n",
    "    #y_prob=y_prob_df,\n",
    "    source=\"Notebook\",\n",
    "    dataset_name=\"FLIGHTS\",\n",
    "    dataset_source=\"Snowflake\",\n",
    "    #dataset_source=\"InMemory\",\n",
    "    name=\"Decision_Tree_Delay_Classifier\",\n",
    "    description=\"Decision tree model trained via Notebook to identify Flight Delay application\",\n",
    "    flavour=\"sklearn\",\n",
    "    model_type=\"classification\",\n",
    "    conda_dependencies=[\"scikit-learn==1.3.2\"]\n",
    ")"
   ]
  },
  {
   "cell_type": "code",
   "execution_count": null,
   "id": "90da918c-02b3-4374-9d0a-cbcbd7a6746f",
   "metadata": {},
   "outputs": [],
   "source": [
    "y_prob = pipeline.predict_proba(X_test)[:,1]"
   ]
  },
  {
   "cell_type": "code",
   "execution_count": null,
   "id": "6291583c-3015-4bdd-af1e-18c8de092261",
   "metadata": {},
   "outputs": [],
   "source": [
    "y_pred = pipeline.predict(X_test)"
   ]
  },
  {
   "cell_type": "code",
   "execution_count": null,
   "id": "fbf120ef-545b-4e9e-84c5-d07515079a55",
   "metadata": {},
   "outputs": [],
   "source": [
    "auc_score = roc_auc_score(y_test, y_pred)\n",
    "auc_score"
   ]
  },
  {
   "cell_type": "code",
   "execution_count": null,
   "id": "b6e4d9af-9c28-460d-adb1-6ff83d0eb499",
   "metadata": {},
   "outputs": [],
   "source": [
    "print(classification_report(y_test, y_pred))"
   ]
  },
  {
   "cell_type": "code",
   "execution_count": null,
   "id": "abe36521-87ab-4105-974c-5d1ae3b0ccd3",
   "metadata": {},
   "outputs": [],
   "source": [
    "y_pred = pipeline.predict(flights_needed_data)"
   ]
  },
  {
   "cell_type": "code",
   "execution_count": null,
   "id": "8305f0d4-b63b-4425-9e55-d12f9c285ede",
   "metadata": {},
   "outputs": [],
   "source": [
    "flights['ACTUAL_DELAY'] = flights_needed_data['result']\n",
    "flights"
   ]
  },
  {
   "cell_type": "code",
   "execution_count": null,
   "id": "c83ed7fd-a842-4d25-b85e-b5aeea608ea7",
   "metadata": {},
   "outputs": [],
   "source": [
    "flights['PREDICTED_DELAY'] = y_pred"
   ]
  },
  {
   "cell_type": "code",
   "execution_count": null,
   "id": "aefcebef-df14-42ef-a0d8-9bdf7d78695e",
   "metadata": {},
   "outputs": [],
   "source": [
    "flights"
   ]
  },
  {
   "cell_type": "code",
   "execution_count": null,
   "id": "b56f2d31-2151-4c39-afd1-1bc27b9106ef",
   "metadata": {},
   "outputs": [],
   "source": [
    "    # Ensure no NaN values remain by explicitly replacing NaN with None\n",
    "my_session.write_pandas(\n",
    "        df=flights,\n",
    "        table_name=\"DELAY_CLASSIFIER_OUTPUT_2510\",\n",
    "        database=\"TTH_DB\",\n",
    "        schema=\"TTH_AIRLINE_SCHEMA\",\n",
    "        auto_create_table=True\n",
    ")"
   ]
  },
  {
   "cell_type": "code",
   "execution_count": null,
   "id": "4db6cd50-fd48-40e2-b3d1-bf48f5fd3cae",
   "metadata": {},
   "outputs": [],
   "source": [
    "flights = flights.where(pd.notnull(flights), None)"
   ]
  },
  {
   "cell_type": "code",
   "execution_count": null,
   "id": "59b83fb7-e437-4e95-aaee-9ddad09e10ca",
   "metadata": {},
   "outputs": [],
   "source": [
    "flights.isna().sum()"
   ]
  },
  {
   "cell_type": "code",
   "execution_count": null,
   "id": "59472978-9f2a-4500-969f-90ffeff69eab",
   "metadata": {},
   "outputs": [],
   "source": [
    "chunk_size = 1000000\n",
    "chunks = [flights[i:i + chunk_size] for i in range(0, len(flights), chunk_size)]\n",
    "\n",
    "for chunk in chunks:\n",
    "    # Ensure no NaN values remain by explicitly replacing NaN with None\n",
    "    chunk = chunk.where(pd.notnull(chunk), None)\n",
    "    \n",
    "    # # Explicitly set the data type of each column to object\n",
    "    # for col in chunk.columns:\n",
    "    #     chunk[col] = chunk[col].astype(object)\n",
    "\n",
    "    # Convert the DataFrame to a Snowflake-compatible DataFrame\n",
    "    ins_train_sf = my_session.createDataFrame(\n",
    "        chunk.values.tolist(),\n",
    "        schema=chunk.columns.tolist()\n",
    "    )\n",
    "    \n",
    "    # Write to Snowflake\n",
    "    ins_train_sf.write.mode(\"append\").save_as_table(\"TTH_DB.TTH_AIRLINE_SCHEMA.DELAY_CLASSIFIER_OUTPUT_2510\")"
   ]
  },
  {
   "cell_type": "code",
   "execution_count": null,
   "id": "a920ab17-d798-4925-8a62-1c316b48761e",
   "metadata": {},
   "outputs": [],
   "source": [
    "len(chunks)"
   ]
  },
  {
   "cell_type": "code",
   "execution_count": null,
   "id": "13cd7752-8d06-4f66-8251-81b7d8909471",
   "metadata": {},
   "outputs": [],
   "source": [
    "flights.info()"
   ]
  },
  {
   "cell_type": "code",
   "execution_count": null,
   "id": "b1bb10c5-5209-4791-a3b2-9384381bce40",
   "metadata": {},
   "outputs": [],
   "source": [
    "my_session.sql('''\n",
    "CREATE TABLE IF NOT EXISTS TTH_DB.TTH_AIRLINE_SCHEMA.DELAY_CLASSIFIER_OUTPUT_2510 (\n",
    "    YEAR                      INT  NULL,\n",
    "    MONTH                     INT NULL,\n",
    "    DAY                       INT NULL,\n",
    "    DAY_OF_WEEK               INT NULL,\n",
    "    AIRLINE__CODE             STRING NULL,\n",
    "    FLIGHT_NUMBER             INT NULL,\n",
    "    TAIL_NUMBER               STRING NULL,\n",
    "    ORIGIN_AIRPORT_CODE       STRING NULL,\n",
    "    DESTINATION_AIRPORT_CODE  STRING NULL,\n",
    "    SCHEDULED_DEPARTURE       INT NULL,\n",
    "    DEPARTURE_TIME            FLOAT NULL,\n",
    "    DEPARTURE_DELAY           FLOAT NULL,\n",
    "    TAXI_OUT                  FLOAT NULL,\n",
    "    WHEELS_OFF                FLOAT NULL,\n",
    "    SCHEDULED_TIME            FLOAT NULL,\n",
    "    ELAPSED_TIME              FLOAT NULL,\n",
    "    AIR_TIME                  FLOAT NULL,\n",
    "    DISTANCE                  INT NULL,\n",
    "    WHEELS_ON                 FLOAT NULL,\n",
    "    TAXI_IN                   FLOAT NULL,\n",
    "    SCHEDULED_ARRIVAL         INT NULL,\n",
    "    ARRIVAL_TIME              FLOAT NULL,\n",
    "    ARRIVAL_DELAY             FLOAT NULL,\n",
    "    DIVERTED                  INT NULL,\n",
    "    CANCELLED                 INT NULL,\n",
    "    CANCELLATION_REASON       STRING NULL,\n",
    "    AIR_SYSTEM_DELAY          FLOAT NULL,\n",
    "    SECURITY_DELAY            FLOAT NULL,\n",
    "    AIRLINE_DELAY             FLOAT NULL,\n",
    "    LATE_AIRCRAFT_DELAY       FLOAT NULL,\n",
    "    WEATHER_DELAY             FLOAT NULL,\n",
    "    FLY_DATE                  STRING NULL,\n",
    "    AIRLINE                   STRING NULL,\n",
    "    ORIGIN_AIRPORT            STRING NULL,\n",
    "    ORIGIN_CITY               STRING NULL,\n",
    "    ORIGIN_STATE              STRING NULL,\n",
    "    ORIGIN_COUNTRY            STRING NULL,\n",
    "    ORIGIN_LATITUDE           FLOAT NULL,\n",
    "    ORIGIN_LONGITUDE          FLOAT NULL,\n",
    "    DEST_AIRPORT              STRING NULL,\n",
    "    DEST_CITY                 STRING NULL,\n",
    "    DEST_STATE                STRING NULL,\n",
    "    DEST_COUNTRY              STRING NULL,\n",
    "    DEST_LATITUDE             FLOAT NULL,\n",
    "    DEST_LONGITUDE            FLOAT NULL,\n",
    "    ACTUAL_DELAY              INT NULL,\n",
    "    PREDICTED_DELAY           INT NULL\n",
    ");\n",
    "\n",
    "''').collect()"
   ]
  },
  {
   "cell_type": "code",
   "execution_count": null,
   "id": "10321acd-1f8f-4d69-86f4-d77afc892a34",
   "metadata": {
    "scrolled": true
   },
   "outputs": [],
   "source": [
    "my_session.sql('drop table  TTH_DB.TTH_AIRLINE_SCHEMA.DELAY_CLASSIFIER_OUTPUT_2510;').collect()"
   ]
  },
  {
   "cell_type": "code",
   "execution_count": null,
   "id": "ba88c915-a708-4bff-9a8b-989f773765e2",
   "metadata": {},
   "outputs": [],
   "source": [
    "my_session = get_session()\n",
    "\n",
    "# Defining the table name to fetch data from\n",
    "# table_name = 'FLIGHTS'  # Initial option for table\n",
    "table_name = 'DELAY_CLASSIFIER_OUTPUT_2510'  # Final table to be used\n",
    "\n",
    "# Querying the data from the specified Snowflake table\n",
    "sf_df = my_session.sql(\"SELECT * FROM {}\".format(table_name))\n",
    "\n",
    "# Converting the Snowflake DataFrame to a pandas DataFrame for local processing\n",
    "df = sf_df.to_pandas()\n",
    "\n",
    "df"
   ]
  },
  {
   "cell_type": "code",
   "execution_count": null,
   "id": "4322af68-1a85-490b-9218-02a878781e2e",
   "metadata": {},
   "outputs": [],
   "source": [
    "df.isna().sum()"
   ]
  }
 ],
 "metadata": {
  "kernelspec": {
   "display_name": "Python 3 (ipykernel)",
   "language": "python",
   "name": "python3"
  },
  "language_info": {
   "codemirror_mode": {
    "name": "ipython",
    "version": 3
   },
   "file_extension": ".py",
   "mimetype": "text/x-python",
   "name": "python",
   "nbconvert_exporter": "python",
   "pygments_lexer": "ipython3",
   "version": "3.9.19"
  }
 },
 "nbformat": 4,
 "nbformat_minor": 5
}
