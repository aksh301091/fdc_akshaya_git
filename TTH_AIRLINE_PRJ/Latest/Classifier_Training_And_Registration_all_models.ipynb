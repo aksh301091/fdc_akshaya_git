{
 "cells": [
  {
   "cell_type": "markdown",
   "id": "7f9b8fbb-4429-4731-b16c-dc25b9b95ca5",
   "metadata": {
    "jp-MarkdownHeadingCollapsed": true
   },
   "source": [
    "# **Flight Delay Prediction using Scikit-Learn Pipeline**\n",
    "\n",
    "## **Overview**\n",
    "This project demonstrates how to build a **machine learning pipeline** using scikit-learn to predict flight delays. The pipeline integrates data preprocessing with model training, ensuring efficient handling of both numerical and categorical data.\n",
    "\n",
    "---\n",
    "\n",
    "## **Objectives**\n",
    "- Preprocess numerical and categorical data using `ColumnTransformer`.\n",
    "- Automate the machine learning workflow using `Pipeline`.\n",
    "- Train a **Random Forest Classifier** to predict flight delays.\n",
    "- Optimize the model using **GridSearchCV** for hyperparameter tuning.\n",
    "\n",
    "---\n",
    "\n",
    "## **Data Overview**\n",
    "- **Dataset**: Contains flight details such as:\n",
    "  - **Year**, **Month**, **Day**\n",
    "  - **Airline code**, **Origin airport code**, **Destination airport code**\n",
    "  - **Departure delay** (target: delayed or not)\n",
    "\n",
    "- **Target Variable**:  \n",
    "  - `1` if the flight was delayed  \n",
    "  - `0` if the flight was on time\n",
    "\n",
    "---\n",
    "\n",
    "## **Steps Involved**\n",
    "\n",
    "### 1. **Data Loading and Exploration**\n",
    "- Load the flight dataset and inspect its structure and missing values.\n",
    "\n",
    "### 2. **Feature Engineering**\n",
    "- **Numerical Features**:\n",
    "  - `YEAR`, `MONTH`, `DAY`\n",
    "- **Categorical Features**:\n",
    "  - `AIRLINE__CODE`, `ORIGIN_AIRPORT_CODE`, `DESTINATION_AIRPORT_CODE`\n",
    "\n",
    "### 3. **Preprocessing with `ColumnTransformer`**\n",
    "- **Numerical Data**:\n",
    "  - Impute missing values with the **mean**.\n",
    "  - Standardize values using **`StandardScaler`**.\n",
    "  \n",
    "- **Categorical Data**:\n",
    "  - Impute missing values with `'missing'`.\n",
    "  - Encode using **`OneHotEncoder`**.\n",
    "\n",
    "### 4. **Pipeline Setup**\n",
    "- Use a **scikit-learn Pipeline** to link preprocessing and model training.\n",
    "- Integrate a **Random Forest Classifier** within the pipeline.\n",
    "\n",
    "### 5. **Model Training and Evaluation**\n",
    "- Split the data into **train (70%)** and **test (30%)** sets.\n",
    "- Evaluate the model using a **classification report** with metrics like:\n",
    "  - **Precision**, **Recall**, **F1-score**\n",
    "\n",
    "### 6. **Hyperparameter Tuning with GridSearchCV**\n",
    "- Tune hyperparameters of the Random Forest model:\n",
    "  - Number of estimators (`n_estimators`)\n",
    "  - Maximum tree depth (`max_depth`)\n",
    "\n",
    "### 7. **Model Persistence**\n",
    "- Save the trained model using **`joblib`** for later use.\n",
    "\n",
    "---\n",
    "\n",
    "## **Technologies Used**\n",
    "- **Python**: Programming language\n",
    "- **Pandas**: Data manipulation and cleaning\n",
    "- **Scikit-Learn**: Machine learning, preprocessing, and model evaluation\n",
    "- **Joblib**: Model persistence\n",
    "- **Jupyter Notebook**: Interactive development environment\n",
    "\n",
    "---\n",
    "\n",
    "## **Expected Output**\n",
    "- A **trained Random Forest model** to predict flight delays.\n",
    "- **Performance metrics** (accuracy, precision, recall) from the classification report.\n",
    "- A **saved model** (`flight_delay_classifier.pkl`) for deployment.\n",
    "\n",
    "---\n",
    "\n",
    "## **Conclusion**\n",
    "This project demonstrates how to create an automated **machine learning workflow** using scikit-learn’s `Pipeline` and `ColumnTransformer`. The streamlined preprocessing ensures consistency during both training and testing. With **hyperparameter tuning**, the model's performance is further optimized, making it reliable for real-world flight delay predictions.\n"
   ]
  },
  {
   "cell_type": "markdown",
   "id": "1c74068f-5d36-4470-b114-89c343639ee7",
   "metadata": {},
   "source": [
    "# Upgrade pip and install all required packages"
   ]
  },
  {
   "cell_type": "code",
   "execution_count": null,
   "id": "07cd3d9a-34f9-4470-ac27-ed4f2e7393ca",
   "metadata": {},
   "outputs": [],
   "source": [
    "!pip install --upgrade pip\n",
    "\n",
    "# Install Snowflake connectors, pandas integration, and essential libraries\n",
    "!pip install \"snowflake-connector-python[pandas]\" \\\n",
    "             snowflake-snowpark-python==1.12.0,<2,>=1.11.1 \\\n",
    "             python-dateutil tqdm holidays faker\n",
    "!pip install numpy pandas matplotlib scikit-learn xgboost seaborn \\\n",
    "\n",
    "# Ensure Snowpark Python is up-to-date\n",
    "!pip install --upgrade -q snowflake-snowpark-python==1.12.0,<2,>=1.11.1\n",
    "\n",
    "\n",
    "# Fix potential urllib3 version conflicts\n",
    "!pip uninstall urllib3 -y\n",
    "!pip install urllib3==1.26.15\n",
    "\n",
    "# Additional installations for your project\n",
    "!pip install fosforml==1.1.6\n",
    "!pip install python-scipy\n",
    "!pip install cloudpickle==2.2.1\n",
    "!pip install basemap\n"
   ]
  },
  {
   "cell_type": "markdown",
   "id": "f2769424-b24a-4aa9-a0a4-13d11b137561",
   "metadata": {},
   "source": [
    "# Importing necessary libraries and settings"
   ]
  },
  {
   "cell_type": "code",
   "execution_count": 1,
   "id": "a8139298-4711-4e0e-923d-2414b79d4cee",
   "metadata": {},
   "outputs": [],
   "source": [
    "\n",
    "# Standard libraries for date and warnings\n",
    "import datetime\n",
    "import warnings\n",
    "\n",
    "# Scientific and Data Manipulation Libraries\n",
    "import scipy\n",
    "import pandas as pd\n",
    "import numpy as np\n",
    "\n",
    "# Data Visualization Libraries\n",
    "import matplotlib.pyplot as plt\n",
    "%matplotlib inline\n",
    "import seaborn as sb\n",
    "\n",
    "# Sklearn Modules for Data Preprocessing, Modeling, and Evaluation\n",
    "from sklearn.model_selection import train_test_split\n",
    "from sklearn.preprocessing import LabelEncoder  # Encoding categorical variables\n",
    "from sklearn.preprocessing import StandardScaler  # Scaling numerical data\n",
    "from sklearn.tree import DecisionTreeClassifier  # Decision Tree model\n",
    "from sklearn.metrics import roc_auc_score, classification_report  # Evaluation metrics\n",
    "\n",
    "from sklearn.preprocessing import StandardScaler, OneHotEncoder\n",
    "from sklearn.decomposition import PCA\n",
    "from sklearn.linear_model import LinearRegression\n",
    "\n",
    "import configparser\n",
    "from dateutil.relativedelta import relativedelta\n",
    "from sklearn.compose import ColumnTransformer\n",
    "from sklearn.pipeline import Pipeline\n",
    "from sklearn.linear_model import LinearRegression, Ridge, Lasso, ElasticNet\n",
    "from sklearn.ensemble import RandomForestRegressor, GradientBoostingRegressor\n",
    "from sklearn.svm import SVR\n",
    "from sklearn.model_selection import train_test_split, GridSearchCV\n",
    "from sklearn.metrics import mean_squared_error, r2_score\n",
    "%matplotlib inline\n",
    "\n",
    "# Configuring display options and warning filters\n",
    "pd.options.display.max_columns = 50\n",
    "warnings.filterwarnings(\"ignore\")\n",
    "\n",
    "# Custom FosforML package for Snowflake session and model registration\n",
    "from fosforml.model_manager.snowflakesession import get_session\n",
    "from fosforml import register_model\n",
    "from sklearn.compose import ColumnTransformer\n",
    "from sklearn.pipeline import Pipeline\n",
    "from sklearn.preprocessing import StandardScaler, OneHotEncoder\n",
    "from sklearn.impute import SimpleImputer\n"
   ]
  },
  {
   "cell_type": "code",
   "execution_count": 2,
   "id": "bc2ddd72-c6b6-45fc-b75d-da6bf2801118",
   "metadata": {},
   "outputs": [],
   "source": [
    "# Set Matplotlib's default font family to 'DeJavu Serif' to ensure a consistent font style across plots\n",
    "plt.rcParams['font.family'] = 'DeJavu Serif'"
   ]
  },
  {
   "cell_type": "markdown",
   "id": "4699a877-d528-48f9-9b71-783a105440a2",
   "metadata": {},
   "source": [
    "# Establishing a Snowflake session\n"
   ]
  },
  {
   "cell_type": "code",
   "execution_count": null,
   "id": "300e5555-0907-4a6f-8bca-2b46e0313562",
   "metadata": {},
   "outputs": [],
   "source": [
    "my_session = get_session()\n",
    "\n",
    "# Defining the table name to fetch data from\n",
    "# table_name = 'FLIGHTS'  # Initial option for table\n",
    "table_name = 'FLIGHTS_FULL'  # Final table to be used\n",
    "\n",
    "# Querying the data from the specified Snowflake table\n",
    "sf_df = my_session.sql(\"SELECT * FROM {}\".format(table_name))\n",
    "\n",
    "# Converting the Snowflake DataFrame to a pandas DataFrame for local processing\n",
    "df = sf_df.to_pandas()\n",
    "\n",
    "df"
   ]
  },
  {
   "cell_type": "markdown",
   "id": "fe9d32d5-b35b-4d9e-a2b7-0e9a3a89bff3",
   "metadata": {},
   "source": [
    "# Filtering data for specific airlines"
   ]
  },
  {
   "cell_type": "code",
   "execution_count": null,
   "id": "83f30293-3d3e-4836-8434-a1670c2458c2",
   "metadata": {},
   "outputs": [],
   "source": [
    "# Defining the list of airlines to include in the filtered DataFrame\n",
    "#options = ['Southwest Airlines Co.', 'Delta Air Lines Inc.']\n",
    "options = ['Southwest Airlines Co.']\n",
    "#df.replace({'AIRLINE':'Southwest Airlines Co.'}, {'AIRLINE': 'Southwest airlines'}, regex=True)\n",
    "#df.replace({'AIRLINE':'Delta Air Lines Inc.'}, {'AIRLINE': 'Delta airlines'}, regex=True)\n",
    "\n",
    "# Selecting rows where the 'AIRLINE' column matches one of the specified airlines\n",
    "flights = df.loc[df['AIRLINE'].isin(options)]\n",
    "flights"
   ]
  },
  {
   "cell_type": "code",
   "execution_count": null,
   "id": "92aa1c97-5323-42b0-842f-49b71ca16f17",
   "metadata": {},
   "outputs": [],
   "source": [
    "flights = flights.dropna(subset = 'ARRIVAL_DELAY')"
   ]
  },
  {
   "cell_type": "markdown",
   "id": "4d006a0a-23b4-4d2f-9fb3-9629a057eefd",
   "metadata": {},
   "source": [
    "# Creating a copy of the filtered flights data"
   ]
  },
  {
   "cell_type": "code",
   "execution_count": null,
   "id": "1d052419-9d4b-43b4-9235-b9b157ddc9e8",
   "metadata": {},
   "outputs": [],
   "source": [
    "# This ensures that any modifications made to 'flights_needed_data' do not affect the original 'flights' DataFrame\n",
    "flights_needed_data = flights.copy()"
   ]
  },
  {
   "cell_type": "code",
   "execution_count": null,
   "id": "79ba63a4-5fcb-44a0-bfb4-11bb6c955f7c",
   "metadata": {},
   "outputs": [],
   "source": [
    "flights_needed_data.shape\n",
    "#(2137736, 45)"
   ]
  },
  {
   "cell_type": "code",
   "execution_count": null,
   "id": "4dbc089b-14c3-48c3-9ec4-023cffe6492b",
   "metadata": {},
   "outputs": [],
   "source": [
    "flights_needed_data.info()"
   ]
  },
  {
   "cell_type": "code",
   "execution_count": null,
   "id": "9aa82db6-2c10-40bb-bacb-83755b08ba6d",
   "metadata": {},
   "outputs": [],
   "source": [
    "flights_needed_data.head()"
   ]
  },
  {
   "cell_type": "markdown",
   "id": "9660f95e-a3b9-4c90-82a8-57219b90cece",
   "metadata": {},
   "source": [
    "# Function to categorize scheduled arrival times into time segments"
   ]
  },
  {
   "cell_type": "code",
   "execution_count": null,
   "id": "94c32420-2fc3-4411-801c-cfa7a054cfdc",
   "metadata": {},
   "outputs": [],
   "source": [
    "def categorize_time(SCHEDULED_ARRIVAL):\n",
    "    # Categorize based on scheduled arrival time in 24-hour format\n",
    "    if 500 <= SCHEDULED_ARRIVAL < 800:\n",
    "        return 'Early morning'\n",
    "    elif 800 <= SCHEDULED_ARRIVAL < 1100:\n",
    "        return 'Late morning'\n",
    "    elif 1100 <= SCHEDULED_ARRIVAL < 1400:\n",
    "        return 'Around noon'\n",
    "    elif 1400 <= SCHEDULED_ARRIVAL < 1700:\n",
    "        return 'Afternoon'\n",
    "    elif 1700 <= SCHEDULED_ARRIVAL < 2000:\n",
    "        return 'Evening'\n",
    "    elif 2000 <= SCHEDULED_ARRIVAL < 2300:\n",
    "        return 'Night'\n",
    "    elif SCHEDULED_ARRIVAL >= 2300 or SCHEDULED_ARRIVAL < 200:\n",
    "        return 'Late night'\n",
    "    elif 200 <= SCHEDULED_ARRIVAL < 500:\n",
    "        return 'Dawn'\n",
    "\n",
    "# Apply categorize_time function to the 'SCHEDULED_ARRIVAL' column to create 'ARRIVAL_TIME_SEGMENT'\n",
    "flights_needed_data['ARRIVAL_TIME_SEGMENT'] = flights_needed_data['SCHEDULED_ARRIVAL'].apply(categorize_time)\n"
   ]
  },
  {
   "cell_type": "code",
   "execution_count": null,
   "id": "913a2ee0-bebf-46c3-b82a-4ba6eab17aa7",
   "metadata": {},
   "outputs": [],
   "source": [
    "flights_needed_data"
   ]
  },
  {
   "cell_type": "code",
   "execution_count": null,
   "id": "eca09f53-9dc4-4a4e-8a1b-2e22cf4e0572",
   "metadata": {},
   "outputs": [],
   "source": [
    "flights['AIRLINE__CODE'].unique()"
   ]
  },
  {
   "cell_type": "code",
   "execution_count": null,
   "id": "d53009dc-e2da-4657-a434-6e35917b0bd0",
   "metadata": {},
   "outputs": [],
   "source": [
    "flights_needed_data.value_counts('DIVERTED')"
   ]
  },
  {
   "cell_type": "code",
   "execution_count": null,
   "id": "2af14d22-60aa-48df-ae40-c42d88f8dabb",
   "metadata": {},
   "outputs": [],
   "source": [
    "flights_needed_data['FLIGHT_NUMBER'] = flights_needed_data['FLIGHT_NUMBER'].astype(str)"
   ]
  },
  {
   "cell_type": "code",
   "execution_count": null,
   "id": "77a27c09-183b-49c9-a84f-2bd71903e73e",
   "metadata": {},
   "outputs": [],
   "source": [
    "flights_needed_data['MONTH'] = flights_needed_data['MONTH'].astype(str)\n",
    "flights_needed_data['DAY'] = flights_needed_data['DAY'].astype(str)\n",
    "flights_needed_data['DAY_OF_WEEK'] = flights_needed_data['DAY_OF_WEEK'].astype(str)\n",
    "flights_needed_data['DIVERTED'] = flights_needed_data['DIVERTED'].astype(str)\n",
    "flights_needed_data['CANCELLED'] = flights_needed_data['CANCELLED'].astype(str)\n",
    "flights_needed_data['CANCELLED'] = flights_needed_data['CANCELLED'].astype(str)"
   ]
  },
  {
   "cell_type": "code",
   "execution_count": null,
   "id": "a50c98a4-d7f2-4e16-8450-db7def805d4f",
   "metadata": {},
   "outputs": [],
   "source": [
    "flights_needed_data.info()"
   ]
  },
  {
   "cell_type": "code",
   "execution_count": null,
   "id": "40d70368-a8e0-4525-afd2-9119b9d383a6",
   "metadata": {},
   "outputs": [],
   "source": [
    "flights_needed_data.columns"
   ]
  },
  {
   "cell_type": "markdown",
   "id": "3bd1d2f2-c21b-4d78-839b-2afde9561a5f",
   "metadata": {},
   "source": [
    "# identifying the categorical and numerical variables"
   ]
  },
  {
   "cell_type": "code",
   "execution_count": null,
   "id": "51791645-a707-4c6f-9b26-801b939db130",
   "metadata": {},
   "outputs": [],
   "source": [
    "numerical_cols = df.select_dtypes(include=['number']).columns.tolist()\n",
    "print(\"Numerical columns:\", numerical_cols)\n",
    "print('\\n\\n')\n",
    "categorical_cols = df.select_dtypes(include=['object', 'category']).columns.tolist()\n",
    "print(\"Categorical columns:\", categorical_cols)"
   ]
  },
  {
   "cell_type": "markdown",
   "id": "33b5ba98-edb6-432d-97c9-395792eeebec",
   "metadata": {},
   "source": [
    "# Quantifying missing values"
   ]
  },
  {
   "cell_type": "code",
   "execution_count": null,
   "id": "1fa7c67f-dfce-450a-88ca-84c2e707e42f",
   "metadata": {},
   "outputs": [],
   "source": [
    "flights_needed_data.isnull().mean().plot.bar(figsize=(12, 8))"
   ]
  },
  {
   "cell_type": "markdown",
   "id": "f37f3435-7718-4057-b5f0-7d9d1168f271",
   "metadata": {},
   "source": [
    "# Highlighting the Cardinality"
   ]
  },
  {
   "cell_type": "code",
   "execution_count": null,
   "id": "67a332ff-f757-4edb-bcf3-7fc4ae2c47c6",
   "metadata": {},
   "outputs": [],
   "source": [
    "flights_needed_data[categorical_cols].nunique()"
   ]
  },
  {
   "cell_type": "code",
   "execution_count": null,
   "id": "68b59636-eaf8-45ac-8c20-3e80bfde8eef",
   "metadata": {},
   "outputs": [],
   "source": [
    "flights_needed_data[categorical_cols].nunique().plot.bar(figsize=(12, 8))\n",
    "plt.xlabel(\"Categorical Variables\")\n",
    "plt.ylabel(\"Count of unique values\")\n",
    "plt.show()"
   ]
  },
  {
   "cell_type": "markdown",
   "id": "c0f911c2-c1df-4c4f-9eed-cc01ed4f4d41",
   "metadata": {},
   "source": [
    "# Correlations matrix"
   ]
  },
  {
   "cell_type": "code",
   "execution_count": null,
   "id": "ff977724-7288-459f-9fb2-e3f5b8e9271c",
   "metadata": {},
   "outputs": [],
   "source": [
    "threshold = 0.05 * len(flights_needed_data)\n",
    "for col in categorical_cols:\n",
    "    counts = flights_needed_data[col].value_counts()\n",
    "    rare_labels = counts[counts < threshold].index\n",
    "    flights_needed_data[col] = flights_needed_data[col].replace(rare_labels, 'Other')\n"
   ]
  },
  {
   "cell_type": "code",
   "execution_count": null,
   "id": "125574a5-efbb-4656-b1e3-95af8501525c",
   "metadata": {},
   "outputs": [],
   "source": [
    "from scipy.stats import chi2_contingency\n",
    "\n",
    "threshold = 0.05 * len(flights_needed_data)\n",
    "for col in categorical_cols:\n",
    "    counts = flights_needed_data[col].value_counts()\n",
    "    rare_labels = counts[counts < threshold].index\n",
    "    flights_needed_data[col] = flights_needed_data[col].replace(rare_labels, 'Other')\n",
    "\n",
    "categorical_cols = [col for col in categorical_cols if flights_needed_data[col].nunique() < 50]\n",
    "\n",
    "if 'FLY_DATE' in flights_needed_data.columns:\n",
    "    flights_needed_data['FLY_MONTH'] = pd.to_datetime(flights_needed_data['FLY_DATE']).dt.month\n",
    "    flights_needed_data['FLY_DAY_OF_WEEK'] = pd.to_datetime(flights_needed_data['FLY_DATE']).dt.dayofweek\n",
    "    \n",
    "    categorical_cols += ['FLY_MONTH', 'FLY_DAY_OF_WEEK']\n",
    "    \n",
    "    if 'FLY_DATE' in categorical_cols:\n",
    "        categorical_cols.remove('FLY_DATE')\n",
    "\n",
    "flights_needed_data = flights_needed_data.dropna(subset=categorical_cols + ['ARRIVAL_DELAY'])\n",
    "\n",
    "for col in categorical_cols:\n",
    "    contingency_table = pd.crosstab(flights_needed_data[col], flights_needed_data['ARRIVAL_DELAY'])\n",
    "    \n",
    "    if contingency_table.size > 0:\n",
    "        chi2, p, _, _ = chi2_contingency(contingency_table)\n",
    "        print(f\"Chi-square test for {col}: p-value = {p}\")\n",
    "    else:\n",
    "        print(f\"Skipping {col}: Contingency table is empty or too sparse\")\n"
   ]
  },
  {
   "cell_type": "code",
   "execution_count": null,
   "id": "ff1ec866-e9c5-4142-a236-6c2420f5256e",
   "metadata": {},
   "outputs": [],
   "source": [
    "from sklearn.preprocessing import LabelEncoder\n",
    "\n",
    "label_encoder = LabelEncoder()\n",
    "\n",
    "for col in categorical_cols:\n",
    "    flights_needed_data[col] = label_encoder.fit_transform(flights_needed_data[col].astype(str))\n",
    "\n",
    "categorical_data = flights_needed_data[categorical_cols]\n",
    "target = flights_needed_data['ARRIVAL_DELAY'].apply(lambda x: 1 if x > 0 else 0)  # Make it binary if needed\n",
    "\n",
    "from sklearn.feature_selection import mutual_info_classif\n",
    "mutual_info = mutual_info_classif(categorical_data, target, discrete_features=True)\n",
    "\n",
    "# Print mutual information scores\n",
    "for col, score in zip(categorical_cols, mutual_info):\n",
    "    print(f\"Mutual Information for {col}: {score}\")\n"
   ]
  },
  {
   "cell_type": "code",
   "execution_count": null,
   "id": "c07cfc03-6b17-4a7e-b2ca-c1d0db559d20",
   "metadata": {},
   "outputs": [],
   "source": [
    "\n",
    "corr_matrix = flights_needed_data.select_dtypes(include=['int', 'float']).corr()\n",
    "arrival_delay_corr = corr_matrix['ARRIVAL_DELAY'].drop('ARRIVAL_DELAY').sort_values(ascending=False)\n",
    "plt.figure(figsize=(10, 6))\n",
    "arrival_delay_corr.plot(kind='bar', color='skyblue')\n",
    "plt.title(\"Correlation with Target Variable 'ARRIVAL_DELAY'\")\n",
    "plt.xlabel(\"Features\")\n",
    "plt.ylabel(\"Correlation Coefficient\")\n",
    "plt.show()\n"
   ]
  },
  {
   "cell_type": "code",
   "execution_count": null,
   "id": "90c38cbe-b439-4c8b-bebb-041ca563f6fe",
   "metadata": {},
   "outputs": [],
   "source": [
    "arrival_delay_corr[arrival_delay_corr > 0.2].index.tolist()"
   ]
  },
  {
   "cell_type": "code",
   "execution_count": null,
   "id": "90cd6b7c-5ae1-4a04-8c7a-25cd508ec259",
   "metadata": {},
   "outputs": [],
   "source": [
    "##numerical_cols = ['MONTH', 'DAY', 'SCHEDULED_DEPARTURE', 'DEPARTURE_TIME', 'DEPARTURE_DELAY',\n",
    " #                 'DISTANCE', 'SCHEDULED_ARRIVAL', 'DIVERTED', 'CANCELLED', 'AIR_SYSTEM_DELAY',\n",
    " #                 'SECURITY_DELAY', 'AIRLINE_DELAY', 'LATE_AIRCRAFT_DELAY', 'WEATHER_DELAY']\n",
    "##categorical_cols = ['AIRLINE', 'ARRIVAL_TIME_SEGMENT']\n",
    "\n",
    "numerical_cols = ['DEPARTURE_DELAY',\n",
    " 'LATE_AIRCRAFT_DELAY',\n",
    " 'AIRLINE_DELAY',\n",
    " 'DEPARTURE_TIME',\n",
    " 'WHEELS_OFF',\n",
    " 'WEATHER_DELAY']           \n",
    "#categorical_cols = ['MONTH', 'DAY', 'DAY_OF_WEEK', 'FLIGHT_NUMBER','TAIL_NUMBER',\n",
    "#                    'AIRLINE', 'ORIGIN_AIRPORT', 'ORIGIN_CITY', 'DEST_AIRPORT', 'DEST_CITY','ARRIVAL_TIME_SEGMENT']\n",
    "categorical_cols = [    'ORIGIN_AIRPORT',   \n",
    "    'ORIGIN_CITY',      \n",
    "    'DEST_CITY',        \n",
    "    'DEST_STATE',       \n",
    "    'FLY_MONTH',        \n",
    "    'FLY_DAY_OF_WEEK',  \n",
    "    'AIRLINE',          \n",
    "    'DEST_AIRPORT',  \n",
    "    'DEST_COUNTRY',    \n",
    "    'CANCELLATION_REASON' ]"
   ]
  },
  {
   "cell_type": "markdown",
   "id": "e08be183-df58-46a7-b8ab-8f142ad4dc1c",
   "metadata": {},
   "source": [
    "# Define columns by data type"
   ]
  },
  {
   "cell_type": "markdown",
   "id": "94c08317-61e2-43d5-ac47-abb744ade252",
   "metadata": {},
   "source": [
    "# Creating the target column"
   ]
  },
  {
   "cell_type": "code",
   "execution_count": null,
   "id": "0d98c4cd-b4ec-4426-aac5-ed9ee4fc71fc",
   "metadata": {},
   "outputs": [],
   "source": [
    "# result = []\n",
    "# for row in flights_needed_data['ARRIVAL_DELAY']:\n",
    "#   if row > 5:\n",
    "#     result.append(1)\n",
    "#   else:\n",
    "#     result.append(0) \n",
    "\n",
    "# flights_needed_data['delay_flag'] = result\n",
    "# flights_needed_data.value_counts('delay_flag')"
   ]
  },
  {
   "cell_type": "code",
   "execution_count": null,
   "id": "20731222-9efc-458d-bf6f-0686aeb0a6f2",
   "metadata": {},
   "outputs": [],
   "source": [
    "flights_needed_data['FLY_DATE'] = pd.to_datetime(flights_needed_data['FLY_DATE'])\n",
    "\n",
    "flights_needed_data['FLY_MONTH'] = flights_needed_data['FLY_DATE'].dt.month\n",
    "flights_needed_data['FLY_DAY_OF_WEEK'] = flights_needed_data['FLY_DATE'].dt.dayofweek"
   ]
  },
  {
   "cell_type": "code",
   "execution_count": null,
   "id": "aaa8bb9c-39a4-4409-a76d-567e3c9b5a6a",
   "metadata": {},
   "outputs": [],
   "source": [
    "flights_needed_data['MONTH'] = flights_needed_data['MONTH'].astype(int)"
   ]
  },
  {
   "cell_type": "code",
   "execution_count": null,
   "id": "3a0a2254-c0f3-4246-9124-f6433d637e73",
   "metadata": {},
   "outputs": [],
   "source": [
    "flights_needed_data = flights_needed_data.loc[:, ~flights_needed_data.columns.duplicated()]\n"
   ]
  },
  {
   "cell_type": "code",
   "execution_count": null,
   "id": "70c6f756-d00f-41b5-b0df-3d84b37dabb3",
   "metadata": {},
   "outputs": [],
   "source": [
    "test_data = flights_needed_data[flights_needed_data['MONTH'] > 6][numerical_cols+categorical_cols + ['ARRIVAL_DELAY']]\n",
    "train_data = flights_needed_data[flights_needed_data['MONTH'] <= 6][numerical_cols+categorical_cols + ['ARRIVAL_DELAY']]\n"
   ]
  },
  {
   "cell_type": "code",
   "execution_count": null,
   "id": "57e73274-0e89-4f1b-9ee7-18dd0e4f2374",
   "metadata": {},
   "outputs": [],
   "source": [
    "train_data = train_data.loc[:, ~train_data.columns.duplicated()]\n",
    "test_data = test_data.loc[:, ~test_data.columns.duplicated()]"
   ]
  },
  {
   "cell_type": "code",
   "execution_count": null,
   "id": "9085c10f-9b71-467f-9a65-65a080aa1bda",
   "metadata": {},
   "outputs": [],
   "source": [
    "train_data.shape, test_data.shape"
   ]
  },
  {
   "cell_type": "code",
   "execution_count": null,
   "id": "8d025b9a-a27e-4b88-b763-eeba41555585",
   "metadata": {},
   "outputs": [],
   "source": [
    "test_data.info()"
   ]
  },
  {
   "cell_type": "code",
   "execution_count": null,
   "id": "35ef4680-86bf-4d8e-84b8-701bb7499ec2",
   "metadata": {},
   "outputs": [],
   "source": [
    "# Replace 'target_column_name' with the actual name of your target column\n",
    "X_train = train_data.drop(columns=['ARRIVAL_DELAY'])\n",
    "y_train = train_data['ARRIVAL_DELAY']\n",
    "\n",
    "# Replace 'target_column_name' with the actual name of your target column\n",
    "X_test = test_data.drop(columns=['ARRIVAL_DELAY'])\n",
    "y_test = test_data['ARRIVAL_DELAY']"
   ]
  },
  {
   "cell_type": "code",
   "execution_count": null,
   "id": "b303b94d-325b-40cd-b333-909d84560c06",
   "metadata": {},
   "outputs": [],
   "source": [
    "X_train.columns"
   ]
  },
  {
   "cell_type": "code",
   "execution_count": null,
   "id": "a9e7e247-2ff4-49ba-bf4c-1acdc66db58a",
   "metadata": {},
   "outputs": [],
   "source": [
    "# numerical_cols = [ 'DISTANCE','AIR_TIME']                \n",
    "# categorical_cols = ['MONTH', 'DAY', 'DAY_OF_WEEK', 'FLIGHT_NUMBER','TAIL_NUMBER',\n",
    "#                     'AIRLINE', 'ORIGIN_AIRPORT', 'ORIGIN_CITY', 'DEST_AIRPORT', 'DEST_CITY','ARRIVAL_TIME_SEGMENT']\n",
    "# ## should add flytime if rerunning again"
   ]
  },
  {
   "cell_type": "markdown",
   "id": "2a29c00c-5759-4de5-bbfd-ea7d4d1079a4",
   "metadata": {},
   "source": [
    "# Define transformations for numerical columns: imputing and scaling"
   ]
  },
  {
   "cell_type": "code",
   "execution_count": null,
   "id": "9be2e1e0-15c1-46c6-836a-0b38cfc812b8",
   "metadata": {},
   "outputs": [],
   "source": [
    "numerical_transformer = Pipeline(steps=[\n",
    "    ('imputer', SimpleImputer(strategy='mean')),\n",
    "    ('scaler', StandardScaler()),\n",
    "    ('pca', PCA(n_components=0.95)) \n",
    "])"
   ]
  },
  {
   "cell_type": "markdown",
   "id": "a83dbadd-1155-4c10-9bb7-c3425a830ec1",
   "metadata": {},
   "source": [
    "# Define transformations for categorical columns: imputing and one-hot encoding\n"
   ]
  },
  {
   "cell_type": "code",
   "execution_count": null,
   "id": "9ff8f868-f6c2-4f29-92cc-cd77b00c9031",
   "metadata": {},
   "outputs": [],
   "source": [
    "categorical_transformer = Pipeline(steps=[\n",
    "    ('imputer', SimpleImputer(strategy='most_frequent')),\n",
    "    ('encoder', OneHotEncoder(handle_unknown='ignore'))\n",
    "])"
   ]
  },
  {
   "cell_type": "markdown",
   "id": "bd0581fd-6093-4fe4-aa7a-c282aaf3e8c0",
   "metadata": {},
   "source": [
    "# Combine both transformations in a ColumnTransformer\n"
   ]
  },
  {
   "cell_type": "code",
   "execution_count": null,
   "id": "8e59dab0-2476-4eca-9648-3087cb015efb",
   "metadata": {},
   "outputs": [],
   "source": [
    "preprocessor = ColumnTransformer(\n",
    "    transformers=[\n",
    "        ('num', numerical_transformer, numerical_cols),\n",
    "        ('cat', categorical_transformer, categorical_cols)\n",
    "    ]\n",
    ")"
   ]
  },
  {
   "cell_type": "code",
   "execution_count": null,
   "id": "d4e33669-2c4f-4e11-bc98-4fb42bba3a41",
   "metadata": {},
   "outputs": [],
   "source": []
  },
  {
   "cell_type": "code",
   "execution_count": null,
   "id": "eae72fbc-37ef-4fd2-8349-0181a24c1412",
   "metadata": {},
   "outputs": [],
   "source": [
    "from sklearn.ensemble import RandomForestRegressor, GradientBoostingRegressor, AdaBoostRegressor\n",
    "from sklearn.linear_model import Ridge, Lasso, ElasticNet, LinearRegression\n",
    "from sklearn.tree import DecisionTreeRegressor\n",
    "from sklearn.neighbors import KNeighborsRegressor\n",
    "from sklearn.svm import SVR\n",
    "from xgboost import XGBRegressor"
   ]
  },
  {
   "cell_type": "code",
   "execution_count": null,
   "id": "957717e5-bb7b-4238-b8f4-a43c7be142d5",
   "metadata": {},
   "outputs": [],
   "source": [
    "model = Pipeline(steps=[\n",
    "    ('preprocessor', preprocessor),\n",
    "    ('classifier', RandomForestClassifier(n_jobs=-1))\n",
    "])\n",
    "\n",
    "model.fit(X_train, y_train)"
   ]
  },
  {
   "cell_type": "code",
   "execution_count": null,
   "id": "5513ee53-78b8-4bd5-b22e-6ba458bc9598",
   "metadata": {},
   "outputs": [],
   "source": [
    "X_train.columns"
   ]
  },
  {
   "cell_type": "code",
   "execution_count": null,
   "id": "87117c11-0053-481e-968e-8c1f2920e9b0",
   "metadata": {},
   "outputs": [],
   "source": [
    "regressors = {\n",
    "    'RandomForest': RandomForestRegressor(),\n",
    "    'XGBoost': XGBRegressor(),\n",
    "    'Ridge': Ridge(),\n",
    "    'Lasso': Lasso(),\n",
    "    'ElasticNet': ElasticNet(),\n",
    "    'LinearRegression': LinearRegression(),\n",
    "    'DecisionTree': DecisionTreeRegressor(),\n",
    "    'KNeighbors': KNeighborsRegressor(),\n",
    "    'SVR': SVR(),\n",
    "    'GradientBoosting': GradientBoostingRegressor()\n",
    "}\n",
    "\n",
    "param_grid = {\n",
    "    'RandomForest': {\n",
    "        'regressor__n_estimators': [100, 200],\n",
    "        'regressor__max_depth': [5, 10]\n",
    "    },\n",
    "    'XGBoost': {\n",
    "        'regressor__n_estimators': [100, 200],\n",
    "        'regressor__learning_rate': [0.1, 0.3],\n",
    "        'regressor__max_depth': [3, 10],\n",
    "        'regressor__subsample': [0.5, 1.0]\n",
    "    },\n",
    "    'Ridge': {\n",
    "        'regressor__alpha': [1.0, 10.0, 100.0]\n",
    "    },\n",
    "    'Lasso': {\n",
    "        'regressor__alpha': [0.1, 1.0, 10.0]\n",
    "    },\n",
    "    'ElasticNet': {\n",
    "        'regressor__alpha': [0.1, 1.0, 10.0],\n",
    "        'regressor__l1_ratio': [0.2, 0.5, 0.8]\n",
    "    },\n",
    "    'LinearRegression': {},  # No hyperparameters to tune\n",
    "    'DecisionTree': {\n",
    "        'regressor__max_depth': [5, 10, 15]\n",
    "    },\n",
    "    'KNeighbors': {\n",
    "        'regressor__n_neighbors': [3, 5, 7]\n",
    "    },\n",
    "    'SVR': {\n",
    "        'regressor__C': [0.1, 1.0, 10.0],\n",
    "        'regressor__kernel': ['linear', 'rbf']\n",
    "    },\n",
    "    'GradientBoosting': {\n",
    "        'regressor__n_estimators': [100, 200],\n",
    "        'regressor__learning_rate': [0.1, 0.3],\n",
    "        'regressor__max_depth': [3, 5]\n",
    "    }\n",
    "}\n",
    "\n",
    "# Initialize variables to store the best model and score\n",
    "best_model = None\n",
    "best_score = float('-inf')\n",
    "best_params = None"
   ]
  },
  {
   "cell_type": "code",
   "execution_count": null,
   "id": "462c9aa9-b6bf-4250-99dc-872397c60d9f",
   "metadata": {},
   "outputs": [],
   "source": [
    "for name, regressor in regressors.items():\n",
    "    pipeline = Pipeline(steps=[\n",
    "        ('preprocessor', preprocessor),\n",
    "        ('regressor', regressor)\n",
    "    ])\n",
    "    \n",
    "    # Perform grid search\n",
    "    grid_search = GridSearchCV(pipeline, param_grid[name], cv=5, scoring='r2', n_jobs=-1)\n",
    "    grid_search.fit(X_train, y_train)\n",
    "    \n",
    "    # Check if this model is the best so far\n",
    "    if grid_search.best_score_ > best_score:\n",
    "        best_score = grid_search.best_score_\n",
    "        best_model = grid_search.best_estimator_\n",
    "        best_params = grid_search.best_params_\n",
    "    \n",
    "    print(f\"Model: {name}\")\n",
    "    print(f\"Best R² score from cross-validation: {grid_search.best_score_}\")\n",
    "    print(f\"Best parameters: {grid_search.best_params_}\")\n",
    "    print(\"\")\n",
    "\n",
    "# Output the best model and its parameters\n",
    "print(\"Best model overall:\")\n",
    "print(best_model)\n",
    "print(f\"Best cross-validation R² score: {best_score}\")\n",
    "print(f\"Best parameters: {best_params}\")\n",
    "\n",
    "# Evaluate on the test set\n",
    "y_pred = best_model.predict(X_test)\n",
    "test_mse = mean_squared_error(y_test, y_pred)\n",
    "test_r2 = r2_score(y_test, y_pred)\n",
    "\n",
    "print(f\"Test set MSE: {test_mse}\")\n",
    "print(f\"Test set R² score: {test_r2}\")"
   ]
  },
  {
   "cell_type": "code",
   "execution_count": null,
   "id": "512574c4-3467-46dc-a764-9efd9709476e",
   "metadata": {},
   "outputs": [],
   "source": [
    "# from sklearn.metrics import mean_squared_error, mean_absolute_error, r2_score\n",
    "\n",
    "\n",
    "# pipeline.fit(X_train, y_train)\n",
    "\n",
    "# y_train_pred = pipeline.predict(X_train)\n",
    "\n",
    "# train_mse = mean_squared_error(y_train, y_train_pred)\n",
    "# train_mae = mean_absolute_error(y_train, y_train_pred)\n",
    "# train_r2 = r2_score(y_train, y_train_pred)\n",
    "\n",
    "# print(f\"Training MSE: {train_mse}\")\n",
    "# print(f\"Training MAE: {train_mae}\")\n",
    "# print(f\"Training R²: {train_r2}\")\n",
    "\n",
    "\n",
    "# y_test_pred = pipeline.predict(X_test)\n",
    "\n",
    "# test_mse = mean_squared_error(y_test, y_test_pred)\n",
    "# test_mae = mean_absolute_error(y_test, y_test_pred)\n",
    "# test_r2 = r2_score(y_test, y_test_pred)\n",
    "\n",
    "# print(f\"Test MSE: {test_mse}\")\n",
    "# print(f\"Test MAE: {test_mae}\")\n",
    "# print(f\"Test R²: {test_r2}\")\n",
    "\n",
    "\n",
    "# mse_tolerance = 0.2 \n",
    "\n",
    "# if train_mse < test_mse * (1 - mse_tolerance) and train_r2 > test_r2:\n",
    "#     print(\"The model is likely overfitting.\")\n",
    "# elif train_mse > test_mse * (1 + mse_tolerance):\n",
    "#     print(\"The model is likely underfitting.\")\n",
    "# else:\n",
    "#     print(\"The model is likely generalizing well.\")"
   ]
  },
  {
   "cell_type": "code",
   "execution_count": null,
   "id": "37412033-6842-4637-9d57-590c26bea435",
   "metadata": {},
   "outputs": [],
   "source": []
  },
  {
   "cell_type": "code",
   "execution_count": null,
   "id": "de80eb6c-94fd-47ab-a9f6-1f0ec551f7ef",
   "metadata": {},
   "outputs": [],
   "source": []
  }
 ],
 "metadata": {
  "kernelspec": {
   "display_name": "Python 3 (ipykernel)",
   "language": "python",
   "name": "python3"
  },
  "language_info": {
   "codemirror_mode": {
    "name": "ipython",
    "version": 3
   },
   "file_extension": ".py",
   "mimetype": "text/x-python",
   "name": "python",
   "nbconvert_exporter": "python",
   "pygments_lexer": "ipython3",
   "version": "3.9.19"
  }
 },
 "nbformat": 4,
 "nbformat_minor": 5
}
