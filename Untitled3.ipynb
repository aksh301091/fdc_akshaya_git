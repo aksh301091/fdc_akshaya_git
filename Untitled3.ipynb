{
 "cells": [
  {
   "cell_type": "code",
   "execution_count": null,
   "id": "64227628",
   "metadata": {},
   "outputs": [],
   "source": [
    "Revenue management is a business approach to balance supply and demand to maximize revenue. This might sound complicated, but it essentially provides a strategic answer to the above dilemma. Revenue managers have two strategic levers they can use to optimize revenue:\n",
    "\n",
    "Capacity control: How many rooms to allocate to each segment\n",
    "Pricing: What price to charge for each segment\n",
    "\n",
    "    In the capacity control model, we have established that\n",
    "\n",
    "The problem is: How to decide if we should sell the rooms to a group or transient.\n",
    "The variables are: the number of rooms to set aside for higher-paying guests.\n",
    "The optimal solution would be to set aside enough rooms for the higher-paying guest and sell the remaining to groups."
   ]
  }
 ],
 "metadata": {
  "kernelspec": {
   "display_name": "Python 3",
   "language": "python",
   "name": "python3"
  },
  "language_info": {
   "codemirror_mode": {
    "name": "ipython",
    "version": 3
   },
   "file_extension": ".py",
   "mimetype": "text/x-python",
   "name": "python",
   "nbconvert_exporter": "python",
   "pygments_lexer": "ipython3",
   "version": "3.8.19"
  }
 },
 "nbformat": 4,
 "nbformat_minor": 5
}
