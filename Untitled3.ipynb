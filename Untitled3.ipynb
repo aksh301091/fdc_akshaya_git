{
 "cells": [
  {
   "cell_type": "code",
   "execution_count": null,
   "id": "17ca0cae",
   "metadata": {},
   "outputs": [],
   "source": [
    "Revenue management is a business approach to balance supply and demand to maximize revenue. This might sound complicated, but it essentially provides a strategic answer to the above dilemma. Revenue managers have two strategic levers they can use to optimize revenue:\n",
    "\n",
    "Capacity control: How many rooms to allocate to each segment\n",
    "Pricing: What price to charge for each segment\n",
    "\n",
    "In the capacity control model, we have established that\n",
    "\n",
    "The problem is: How to decide if we should sell the rooms to a group or transient.\n",
    "The variables are: the number of rooms to set aside for higher-paying guests.\n",
    "The optimal solution would be to set aside enough rooms for the higher-paying guest and sell the remaining to groups.\n",
    "\n",
    "Expected revenue; this is a valuable metric because it helps revenue managers assess the average performance of different courses of action. This average performance allows for better decision-making by considering the potential risks and rewards associated with each option\n",
    "ER = (Outcome Revenue * Probability)\n",
    "\n",
    "if we know the probability of selling 60 rooms to high-paying guests ( let’s say it is 50%) and we know the price they are paying(for example $150), we can establish how much revenue this course of action would generate on average.\n",
    "Outcome revenue = 60*150 = 9 000\n",
    "ER = 9 000 * 0.5 = 4 500\n",
    "\n"
   ]
  }
 ],
 "metadata": {
  "kernelspec": {
   "display_name": "Python 3",
   "language": "python",
   "name": "python3"
  },
  "language_info": {
   "codemirror_mode": {
    "name": "ipython",
    "version": 3
   },
   "file_extension": ".py",
   "mimetype": "text/x-python",
   "name": "python",
   "nbconvert_exporter": "python",
   "pygments_lexer": "ipython3",
   "version": "3.8.19"
  }
 },
 "nbformat": 4,
 "nbformat_minor": 5
}
