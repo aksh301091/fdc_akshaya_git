{
 "cells": [
  {
   "cell_type": "markdown",
   "id": "61df1e31-0739-41c3-be2c-ecf44e812231",
   "metadata": {},
   "source": [
    "# Use TTH_Template Custom Notebook template"
   ]
  },
  {
   "cell_type": "code",
   "execution_count": 119,
   "id": "371c6a4c-4acc-4404-827c-5c9fe622c7d3",
   "metadata": {},
   "outputs": [],
   "source": [
    "import datetime, warnings, scipy \n",
    "import pandas as pd\n",
    "import numpy as np\n",
    "\n",
    "import matplotlib as mpl\n",
    "import matplotlib.pyplot as plt\n",
    "import matplotlib.patches as patches\n",
    "from matplotlib.patches import ConnectionPatch\n",
    "from matplotlib.gridspec import GridSpec\n",
    "from mpl_toolkits.basemap import Basemap\n",
    "import seaborn as sns\n",
    "\n",
    "from collections import OrderedDict\n",
    "\n",
    "from scipy.optimize import curve_fit\n",
    "\n",
    "from sklearn import metrics, linear_model\n",
    "from sklearn.preprocessing import PolynomialFeatures, StandardScaler\n",
    "from sklearn.preprocessing import LabelEncoder, OneHotEncoder\n",
    "from sklearn.model_selection import train_test_split, cross_val_score, cross_val_predict\n",
    "\n",
    "plt.rcParams[\"patch.force_edgecolor\"] = True\n",
    "plt.style.use('fivethirtyeight')\n",
    "mpl.rc('patch', edgecolor = 'dimgray', linewidth=1)\n",
    "from IPython.core.interactiveshell import InteractiveShell\n",
    "InteractiveShell.ast_node_interactivity = \"last_expr\"\n",
    "pd.options.display.max_columns = 50\n",
    "%matplotlib inline\n",
    "warnings.filterwarnings(\"ignore\")\n",
    "\n",
    "from fosforml.model_manager.snowflakesession import get_session\n",
    "from fosforml import register_model"
   ]
  },
  {
   "cell_type": "markdown",
   "id": "e3aa2738-718f-4250-8f01-33dda51aab86",
   "metadata": {},
   "source": [
    "# Read data from Snowflake"
   ]
  },
  {
   "cell_type": "code",
   "execution_count": 120,
   "id": "fea86163-d9b4-48e3-98e7-221394405570",
   "metadata": {},
   "outputs": [],
   "source": [
    "my_session = get_session()"
   ]
  },
  {
   "cell_type": "code",
   "execution_count": 121,
   "id": "0f26d920-2098-4933-b3d0-3c3e96050fd7",
   "metadata": {},
   "outputs": [],
   "source": [
    "table_name = 'AIRLINES'\n",
    "\n",
    "sf_df = my_session.sql(\"select * from {}\".format(table_name))\n",
    "airlines_names = sf_df.to_pandas()"
   ]
  },
  {
   "cell_type": "code",
   "execution_count": null,
   "id": "c0861512-a2d5-47b2-9891-91fcffb4aa8a",
   "metadata": {},
   "outputs": [],
   "source": [
    "table_name = 'FLIGHTS'\n",
    "\n",
    "sf_df = my_session.sql(\"select * from {}\".format(table_name))\n",
    "df = sf_df.to_pandas()"
   ]
  },
  {
   "cell_type": "code",
   "execution_count": null,
   "id": "61b157ef-68f5-482e-b7d2-db5877be3192",
   "metadata": {},
   "outputs": [],
   "source": [
    "print('Dataframe dimensions:', df.shape)"
   ]
  },
  {
   "cell_type": "code",
   "execution_count": null,
   "id": "82defb78-1520-48e1-8f93-671f9f5571eb",
   "metadata": {},
   "outputs": [],
   "source": [
    "min(df['SCHEDULED_ARRIVAL']), max(df['SCHEDULED_ARRIVAL'])"
   ]
  },
  {
   "cell_type": "code",
   "execution_count": null,
   "id": "f1b6909e-b2d7-420f-b5bd-523a4cd053fb",
   "metadata": {},
   "outputs": [],
   "source": [
    "min(df['SCHEDULED_DEPARTURE']), max(df['SCHEDULED_DEPARTURE'])"
   ]
  },
  {
   "cell_type": "code",
   "execution_count": null,
   "id": "b7a28ae8-c7f2-4452-9f78-faae09215d4d",
   "metadata": {},
   "outputs": [],
   "source": [
    "df.info()"
   ]
  },
  {
   "cell_type": "code",
   "execution_count": null,
   "id": "f3c5539a-683f-4916-8ee0-8624cc55d5ac",
   "metadata": {},
   "outputs": [],
   "source": [
    "pd.DataFrame(df.isnull().sum()).T.rename(index={0:'null values (nb)'})"
   ]
  },
  {
   "cell_type": "code",
   "execution_count": null,
   "id": "5782da12-0c4c-4a2c-bdb7-81f996d17d4f",
   "metadata": {},
   "outputs": [],
   "source": [
    "# gives some infos on columns types and number of null values\n",
    "tab_info=pd.DataFrame(df.dtypes).T.rename(index={0:'column type'})\n",
    "tab_info = pd.concat([tab_info,pd.DataFrame(df.isnull().sum()).T.rename(index={0:'null values (nb)'})], ignore_index=True)\n",
    "tab_info = pd.concat([tab_info,pd.DataFrame(df.isnull().sum()/df.shape[0]*100).T.rename(index={0:'null values (%)'})],ignore_index=True)\n",
    "tab_info"
   ]
  },
  {
   "cell_type": "code",
   "execution_count": null,
   "id": "2f637ed8-f385-446a-bde6-ab85fe5046e1",
   "metadata": {},
   "outputs": [],
   "source": [
    "#table_name = 'FLIGHTS_FULL'\n",
    "table_name = 'AIRPORTS'\n",
    "\n",
    "sf_df = my_session.sql(\"select * from {}\".format(table_name))\n",
    "airports = sf_df.to_pandas()"
   ]
  },
  {
   "cell_type": "code",
   "execution_count": null,
   "id": "ec15218e-d6a5-46e4-a8ff-16da8ae7dbe4",
   "metadata": {},
   "outputs": [],
   "source": [
    "airports.shape"
   ]
  },
  {
   "cell_type": "code",
   "execution_count": null,
   "id": "fa478d0c-ed15-4cdf-a449-a49877407f1a",
   "metadata": {},
   "outputs": [],
   "source": [
    "airports.info()"
   ]
  },
  {
   "cell_type": "code",
   "execution_count": null,
   "id": "a02a2169-732f-440b-b8d2-5305c0eb683c",
   "metadata": {},
   "outputs": [],
   "source": [
    "count_flights = df['ORIGIN_AIRPORT_CODE'].value_counts()"
   ]
  },
  {
   "cell_type": "code",
   "execution_count": null,
   "id": "57ffefb2-4158-4b7f-ad8a-73fa4b7b08f8",
   "metadata": {},
   "outputs": [],
   "source": [
    "#___________________________\n",
    "plt.figure(figsize=(11,11))\n",
    "#________________________________________\n",
    "# define properties of markers and labels\n",
    "colors = ['yellow', 'red', 'lightblue', 'purple', 'green', 'orange']\n",
    "size_limits = [1, 100, 1000, 10000, 100000, 1000000]\n",
    "labels = []\n",
    "for i in range(len(size_limits)-1):\n",
    "    labels.append(\"{} <.< {}\".format(size_limits[i], size_limits[i+1])) \n",
    "#____________________________________________________________\n",
    "map = Basemap(resolution='i',llcrnrlon=-180, urcrnrlon=-50,\n",
    "              llcrnrlat=10, urcrnrlat=75, lat_0=0, lon_0=0,)\n",
    "map.shadedrelief()\n",
    "map.drawcoastlines()\n",
    "map.drawcountries(linewidth = 3)\n",
    "map.drawstates(color='0.3')\n",
    "#_____________________\n",
    "# put airports on map\n",
    "for index, (code, y,x) in airports[['IATA_CODE', 'LATITUDE', 'LONGITUDE']].iterrows():\n",
    "    x, y = map(x, y)\n",
    "    isize = [i for i, val in enumerate(size_limits) if val < count_flights[code]]\n",
    "    ind = isize[-1]\n",
    "    map.plot(x, y, marker='o', markersize = ind+5, markeredgewidth = 1, color = colors[ind],\n",
    "             markeredgecolor='k', label = labels[ind])\n",
    "#_____________________________________________\n",
    "# remove duplicate labels and set their order\n",
    "handles, labels = plt.gca().get_legend_handles_labels()\n",
    "by_label = OrderedDict(zip(labels, handles))\n",
    "key_order = ('1 <.< 100', '100 <.< 1000', '1000 <.< 10000',\n",
    "             '10000 <.< 100000', '100000 <.< 1000000')\n",
    "new_label = OrderedDict()\n",
    "for key in key_order:\n",
    "    new_label[key] = by_label[key]\n",
    "plt.legend(new_label.values(), new_label.keys(), loc = 1, prop= {'size':11},\n",
    "           title='Number of flights per year', frameon = True, framealpha = 1)\n",
    "plt.show()"
   ]
  },
  {
   "cell_type": "markdown",
   "id": "84130d65-5ac5-4f75-9bfd-e4ccb3e4e084",
   "metadata": {},
   "source": [
    "# Given the large size of the dataset, I decide to consider only a subset of the data in order to reduce the computational time"
   ]
  },
  {
   "cell_type": "code",
   "execution_count": null,
   "id": "d271182d-88b0-404e-b64a-b2c5dcfc846b",
   "metadata": {},
   "outputs": [],
   "source": [
    "df = df[df['MONTH'] == 1]"
   ]
  },
  {
   "cell_type": "code",
   "execution_count": null,
   "id": "ada7022c-10c9-4c3a-9875-9fb4a3b6eded",
   "metadata": {},
   "outputs": [],
   "source": [
    "df['DATE'] = pd.to_datetime(df[['YEAR','MONTH', 'DAY']])"
   ]
  },
  {
   "cell_type": "markdown",
   "id": "14c335b8-24dd-4877-bdb8-40ffd6b7088c",
   "metadata": {},
   "source": [
    "# The SCHEDULED_DEPARTURE variable, the hour of the take-off is coded as a float where the two first digits indicate the hour and the two last, the minutes. This format is not convenient and I thus convert it. Finally, I merge the take-off hour with the flight date. To proceed with these transformations"
   ]
  },
  {
   "cell_type": "code",
   "execution_count": null,
   "id": "c035f5a1-37b4-45e3-8bf3-8ad740d2c257",
   "metadata": {},
   "outputs": [],
   "source": [
    "#_________________________________________________________\n",
    "# Function that convert the 'HHMM' string to datetime.time\n",
    "def format_heure(chaine):\n",
    "    if pd.isnull(chaine):\n",
    "        return np.nan\n",
    "    else:\n",
    "        if (chaine == 2400 or chaine == '2400') : chaine = '0000'\n",
    "        #chaine = \"{0:04d}\".format(int(chaine))\n",
    "        #print (chaine)\n",
    "        heure = datetime.time(int(chaine[0:2]), int(chaine[2:4]))\n",
    "        return heure\n",
    "#_____________________________________________________________________\n",
    "# Function that combines a date and time to produce a datetime.datetime\n",
    "def combine_date_heure(x):\n",
    "    if pd.isnull(x[0]) or pd.isnull(x[1]):\n",
    "        return np.nan\n",
    "    else:\n",
    "        return datetime.datetime.combine(x[0],x[1])\n",
    "#_______________________________________________________________________________\n",
    "# Function that combine two columns of the dataframe to create a datetime format\n",
    "def create_flight_time(df, col):    \n",
    "    liste = []\n",
    "    for index, cols in df[['DATE', col]].iterrows():    \n",
    "        if pd.isnull(cols[1]):\n",
    "            liste.append(np.nan)\n",
    "        elif float(cols[1]) == 2400:\n",
    "            cols[0] += datetime.timedelta(days=1)\n",
    "            cols[1] = datetime.time(0,0)\n",
    "            liste.append(combine_date_heure(cols))\n",
    "        else:\n",
    "            cols[1] = format_heure(cols[1])\n",
    "            liste.append(combine_date_heure(cols))\n",
    "    return pd.Series(liste)"
   ]
  },
  {
   "cell_type": "code",
   "execution_count": null,
   "id": "133eb44a-13c9-4edf-b598-b200bdb934d4",
   "metadata": {},
   "outputs": [],
   "source": [
    "variables_to_remove = ['TAXI_OUT', 'TAXI_IN', 'WHEELS_ON', 'WHEELS_OFF', 'YEAR', \n",
    "                       'MONTH','DAY','DAY_OF_WEEK', 'AIR_SYSTEM_DELAY',\n",
    "                       'SECURITY_DELAY', 'AIRLINE_DELAY', 'LATE_AIRCRAFT_DELAY',\n",
    "                       'WEATHER_DELAY', 'DIVERTED', 'CANCELLED', 'CANCELLATION_REASON',\n",
    "                       'FLIGHT_NUMBER', 'TAIL_NUMBER', 'AIR_TIME']\n",
    "df.drop(variables_to_remove, axis = 1, inplace = True)"
   ]
  },
  {
   "cell_type": "code",
   "execution_count": null,
   "id": "f1923c09-866d-43f3-ba46-6ccfbb7c4075",
   "metadata": {},
   "outputs": [],
   "source": [
    "df = df[['DATE','AIRLINE__CODE', 'ORIGIN_AIRPORT_CODE', 'DESTINATION_AIRPORT_CODE',\n",
    "        'SCHEDULED_DEPARTURE', 'DEPARTURE_TIME', 'DEPARTURE_DELAY',\n",
    "        'SCHEDULED_ARRIVAL', 'ARRIVAL_TIME', 'ARRIVAL_DELAY',\n",
    "        'SCHEDULED_TIME', 'ELAPSED_TIME']]"
   ]
  },
  {
   "cell_type": "code",
   "execution_count": null,
   "id": "62b01c94-a801-4a57-9858-b93656bd7337",
   "metadata": {},
   "outputs": [],
   "source": [
    "df.head()"
   ]
  },
  {
   "cell_type": "code",
   "execution_count": null,
   "id": "1b56d742-675a-402d-ac26-616ab9c3d1c2",
   "metadata": {},
   "outputs": [],
   "source": [
    "df.isnull().sum()"
   ]
  },
  {
   "cell_type": "code",
   "execution_count": null,
   "id": "c07843ca-4465-4234-9ffb-2c964ae9e137",
   "metadata": {},
   "outputs": [],
   "source": [
    "df.shape"
   ]
  },
  {
   "cell_type": "code",
   "execution_count": null,
   "id": "a1b8e3dd-95f6-4a31-913c-c2712ee769b5",
   "metadata": {},
   "outputs": [],
   "source": [
    "df.dropna(inplace=True)"
   ]
  },
  {
   "cell_type": "code",
   "execution_count": null,
   "id": "bad9d469-2fc7-46de-bb43-210ab82011e2",
   "metadata": {},
   "outputs": [],
   "source": [
    "df.shape"
   ]
  },
  {
   "cell_type": "code",
   "execution_count": null,
   "id": "7e36743b-0bf5-48a3-816c-39fefdf4bc55",
   "metadata": {},
   "outputs": [],
   "source": [
    "df['SCHEDULED_DEPARTURE'] = df['SCHEDULED_DEPARTURE'].astype(str).str.zfill(4)\n",
    "df['SCHEDULED_ARRIVAL'] = df['SCHEDULED_ARRIVAL'].astype(str).str.zfill(4)\n",
    "df['DEPARTURE_TIME'] = df['DEPARTURE_TIME'].astype(int).astype(str).str.zfill(4)\n",
    "df['ARRIVAL_TIME'] = df['ARRIVAL_TIME'].astype(int).astype(str).str.zfill(4)"
   ]
  },
  {
   "cell_type": "code",
   "execution_count": null,
   "id": "033f8763-f0b7-4978-ac9a-c5e4cacc68f7",
   "metadata": {},
   "outputs": [],
   "source": [
    "df.head()"
   ]
  },
  {
   "cell_type": "code",
   "execution_count": null,
   "id": "51ac9a54-f595-439c-8fea-2135654fa8ba",
   "metadata": {},
   "outputs": [],
   "source": [
    "df['SCHEDULED_DEPARTURE'] = create_flight_time(df, 'SCHEDULED_DEPARTURE')"
   ]
  },
  {
   "cell_type": "code",
   "execution_count": null,
   "id": "2bb8417e-a567-4e33-9a27-cae1afb4683f",
   "metadata": {},
   "outputs": [],
   "source": [
    "df['DEPARTURE_TIME'] = df['DEPARTURE_TIME'].apply(format_heure)"
   ]
  },
  {
   "cell_type": "code",
   "execution_count": null,
   "id": "7b9055d0-68cc-4bb0-9a07-87ab8266e8bf",
   "metadata": {},
   "outputs": [],
   "source": [
    "df['SCHEDULED_ARRIVAL'] = df['SCHEDULED_ARRIVAL'].apply(format_heure)"
   ]
  },
  {
   "cell_type": "code",
   "execution_count": null,
   "id": "dbf019f1-d0b7-4eba-b53b-915c38ba9ad2",
   "metadata": {},
   "outputs": [],
   "source": [
    "df['ARRIVAL_TIME'] = df['ARRIVAL_TIME'].apply(format_heure)"
   ]
  },
  {
   "cell_type": "code",
   "execution_count": null,
   "id": "9ff150b1-0b58-4390-a2f4-7c377931be5c",
   "metadata": {},
   "outputs": [],
   "source": [
    "df.head()"
   ]
  },
  {
   "cell_type": "code",
   "execution_count": 103,
   "id": "bccf470f-8ee9-4957-841b-6843c7c09381",
   "metadata": {},
   "outputs": [],
   "source": [
    "variables_to_remove = ['DATE']\n",
    "df.drop(variables_to_remove, axis = 1, inplace = True)"
   ]
  },
  {
   "cell_type": "code",
   "execution_count": 106,
   "id": "6df261e5-ce31-4bc5-bb6a-2ab964dd96db",
   "metadata": {},
   "outputs": [
    {
     "data": {
      "text/html": [
       "<div>\n",
       "<style scoped>\n",
       "    .dataframe tbody tr th:only-of-type {\n",
       "        vertical-align: middle;\n",
       "    }\n",
       "\n",
       "    .dataframe tbody tr th {\n",
       "        vertical-align: top;\n",
       "    }\n",
       "\n",
       "    .dataframe thead th {\n",
       "        text-align: right;\n",
       "    }\n",
       "</style>\n",
       "<table border=\"1\" class=\"dataframe\">\n",
       "  <thead>\n",
       "    <tr style=\"text-align: right;\">\n",
       "      <th></th>\n",
       "      <th>variable</th>\n",
       "      <th>missing values</th>\n",
       "      <th>filling factor (%)</th>\n",
       "    </tr>\n",
       "  </thead>\n",
       "  <tbody>\n",
       "    <tr>\n",
       "      <th>0</th>\n",
       "      <td>SCHEDULED_DEPARTURE</td>\n",
       "      <td>469968</td>\n",
       "      <td>0.000000</td>\n",
       "    </tr>\n",
       "    <tr>\n",
       "      <th>1</th>\n",
       "      <td>ARRIVAL_DELAY</td>\n",
       "      <td>12955</td>\n",
       "      <td>97.243429</td>\n",
       "    </tr>\n",
       "    <tr>\n",
       "      <th>2</th>\n",
       "      <td>ELAPSED_TIME</td>\n",
       "      <td>12955</td>\n",
       "      <td>97.243429</td>\n",
       "    </tr>\n",
       "    <tr>\n",
       "      <th>3</th>\n",
       "      <td>ARRIVAL_TIME</td>\n",
       "      <td>12271</td>\n",
       "      <td>97.388971</td>\n",
       "    </tr>\n",
       "    <tr>\n",
       "      <th>4</th>\n",
       "      <td>DEPARTURE_TIME</td>\n",
       "      <td>11657</td>\n",
       "      <td>97.519618</td>\n",
       "    </tr>\n",
       "    <tr>\n",
       "      <th>5</th>\n",
       "      <td>DEPARTURE_DELAY</td>\n",
       "      <td>11657</td>\n",
       "      <td>97.519618</td>\n",
       "    </tr>\n",
       "    <tr>\n",
       "      <th>6</th>\n",
       "      <td>DESTINATION_AIRPORT_CODE</td>\n",
       "      <td>0</td>\n",
       "      <td>100.000000</td>\n",
       "    </tr>\n",
       "    <tr>\n",
       "      <th>7</th>\n",
       "      <td>ORIGIN_AIRPORT_CODE</td>\n",
       "      <td>0</td>\n",
       "      <td>100.000000</td>\n",
       "    </tr>\n",
       "    <tr>\n",
       "      <th>8</th>\n",
       "      <td>SCHEDULED_ARRIVAL</td>\n",
       "      <td>0</td>\n",
       "      <td>100.000000</td>\n",
       "    </tr>\n",
       "    <tr>\n",
       "      <th>9</th>\n",
       "      <td>AIRLINE__CODE</td>\n",
       "      <td>0</td>\n",
       "      <td>100.000000</td>\n",
       "    </tr>\n",
       "    <tr>\n",
       "      <th>10</th>\n",
       "      <td>SCHEDULED_TIME</td>\n",
       "      <td>0</td>\n",
       "      <td>100.000000</td>\n",
       "    </tr>\n",
       "  </tbody>\n",
       "</table>\n",
       "</div>"
      ],
      "text/plain": [
       "                    variable  missing values  filling factor (%)\n",
       "0        SCHEDULED_DEPARTURE          469968            0.000000\n",
       "1              ARRIVAL_DELAY           12955           97.243429\n",
       "2               ELAPSED_TIME           12955           97.243429\n",
       "3               ARRIVAL_TIME           12271           97.388971\n",
       "4             DEPARTURE_TIME           11657           97.519618\n",
       "5            DEPARTURE_DELAY           11657           97.519618\n",
       "6   DESTINATION_AIRPORT_CODE               0          100.000000\n",
       "7        ORIGIN_AIRPORT_CODE               0          100.000000\n",
       "8          SCHEDULED_ARRIVAL               0          100.000000\n",
       "9              AIRLINE__CODE               0          100.000000\n",
       "10            SCHEDULED_TIME               0          100.000000"
      ]
     },
     "execution_count": 106,
     "metadata": {},
     "output_type": "execute_result"
    }
   ],
   "source": [
    "missing_df = df.isnull().sum(axis=0).reset_index()\n",
    "missing_df.columns = ['variable', 'missing values']\n",
    "missing_df['filling factor (%)']=(df.shape[0]-missing_df['missing values'])/df.shape[0]*100\n",
    "missing_df.sort_values('filling factor (%)').reset_index(drop = True)"
   ]
  },
  {
   "cell_type": "code",
   "execution_count": 80,
   "id": "c6f86027-d35f-4c9f-9a56-6dedc1ad290e",
   "metadata": {},
   "outputs": [],
   "source": [
    "df.dropna(inplace = True)"
   ]
  },
  {
   "cell_type": "code",
   "execution_count": 81,
   "id": "a8217fde-0253-4e0f-bbeb-6eaeaa62c085",
   "metadata": {},
   "outputs": [
    {
     "data": {
      "text/html": [
       "<div>\n",
       "<style scoped>\n",
       "    .dataframe tbody tr th:only-of-type {\n",
       "        vertical-align: middle;\n",
       "    }\n",
       "\n",
       "    .dataframe tbody tr th {\n",
       "        vertical-align: top;\n",
       "    }\n",
       "\n",
       "    .dataframe thead th {\n",
       "        text-align: right;\n",
       "    }\n",
       "</style>\n",
       "<table border=\"1\" class=\"dataframe\">\n",
       "  <thead>\n",
       "    <tr style=\"text-align: right;\">\n",
       "      <th></th>\n",
       "      <th>IATA_CODE</th>\n",
       "      <th>AIRPORT</th>\n",
       "      <th>CITY</th>\n",
       "      <th>STATE</th>\n",
       "      <th>COUNTRY</th>\n",
       "      <th>LATITUDE</th>\n",
       "      <th>LONGITUDE</th>\n",
       "    </tr>\n",
       "  </thead>\n",
       "  <tbody>\n",
       "    <tr>\n",
       "      <th>0</th>\n",
       "      <td>ABE</td>\n",
       "      <td>Lehigh Valley International Airport</td>\n",
       "      <td>Allentown</td>\n",
       "      <td>PA</td>\n",
       "      <td>USA</td>\n",
       "      <td>40.65236</td>\n",
       "      <td>-75.44040</td>\n",
       "    </tr>\n",
       "    <tr>\n",
       "      <th>1</th>\n",
       "      <td>ABI</td>\n",
       "      <td>Abilene Regional Airport</td>\n",
       "      <td>Abilene</td>\n",
       "      <td>TX</td>\n",
       "      <td>USA</td>\n",
       "      <td>32.41132</td>\n",
       "      <td>-99.68190</td>\n",
       "    </tr>\n",
       "    <tr>\n",
       "      <th>2</th>\n",
       "      <td>ABQ</td>\n",
       "      <td>Albuquerque International Sunport</td>\n",
       "      <td>Albuquerque</td>\n",
       "      <td>NM</td>\n",
       "      <td>USA</td>\n",
       "      <td>35.04022</td>\n",
       "      <td>-106.60919</td>\n",
       "    </tr>\n",
       "    <tr>\n",
       "      <th>3</th>\n",
       "      <td>ABR</td>\n",
       "      <td>Aberdeen Regional Airport</td>\n",
       "      <td>Aberdeen</td>\n",
       "      <td>SD</td>\n",
       "      <td>USA</td>\n",
       "      <td>45.44906</td>\n",
       "      <td>-98.42183</td>\n",
       "    </tr>\n",
       "    <tr>\n",
       "      <th>4</th>\n",
       "      <td>ABY</td>\n",
       "      <td>Southwest Georgia Regional Airport</td>\n",
       "      <td>Albany</td>\n",
       "      <td>GA</td>\n",
       "      <td>USA</td>\n",
       "      <td>31.53552</td>\n",
       "      <td>-84.19447</td>\n",
       "    </tr>\n",
       "  </tbody>\n",
       "</table>\n",
       "</div>"
      ],
      "text/plain": [
       "  IATA_CODE                              AIRPORT         CITY STATE COUNTRY  \\\n",
       "0       ABE  Lehigh Valley International Airport    Allentown    PA     USA   \n",
       "1       ABI             Abilene Regional Airport      Abilene    TX     USA   \n",
       "2       ABQ    Albuquerque International Sunport  Albuquerque    NM     USA   \n",
       "3       ABR            Aberdeen Regional Airport     Aberdeen    SD     USA   \n",
       "4       ABY   Southwest Georgia Regional Airport       Albany    GA     USA   \n",
       "\n",
       "   LATITUDE  LONGITUDE  \n",
       "0  40.65236  -75.44040  \n",
       "1  32.41132  -99.68190  \n",
       "2  35.04022 -106.60919  \n",
       "3  45.44906  -98.42183  \n",
       "4  31.53552  -84.19447  "
      ]
     },
     "execution_count": 81,
     "metadata": {},
     "output_type": "execute_result"
    }
   ],
   "source": [
    "airports.head()"
   ]
  },
  {
   "cell_type": "code",
   "execution_count": 82,
   "id": "d3c29335-850b-42f1-b786-4af2c473f7ac",
   "metadata": {},
   "outputs": [],
   "source": [
    "abbr_companies = airlines_names.set_index('IATA_CODE')['AIRLINE'].to_dict()"
   ]
  },
  {
   "cell_type": "markdown",
   "id": "f386d583-4132-4657-b477-0ccfc42f6426",
   "metadata": {},
   "source": [
    "abbr_companies"
   ]
  },
  {
   "cell_type": "markdown",
   "id": "82f68f9d-0876-4fc0-98c0-9a07e27663f6",
   "metadata": {},
   "source": [
    "# Basic Statistics"
   ]
  },
  {
   "cell_type": "code",
   "execution_count": 86,
   "id": "f8363622-7453-4221-bcca-9605585f8e65",
   "metadata": {},
   "outputs": [],
   "source": [
    "#__________________________________________________________________\n",
    "# function that extract statistical parameters from a grouby objet:\n",
    "def get_stats(group):\n",
    "    return {'min': group.min(), 'max': group.max(),\n",
    "            'count': group.count(), 'mean': group.mean()}\n",
    "#_______________________________________________________________"
   ]
  },
  {
   "cell_type": "code",
   "execution_count": 87,
   "id": "8ab7d718-e34d-4401-9e05-2956f1ae5f92",
   "metadata": {},
   "outputs": [
    {
     "ename": "ValueError",
     "evalue": "index must be a MultiIndex to unstack, <class 'pandas.core.indexes.base.Index'> was passed",
     "output_type": "error",
     "traceback": [
      "\u001b[0;31m---------------------------------------------------------------------------\u001b[0m",
      "\u001b[0;31mValueError\u001b[0m                                Traceback (most recent call last)",
      "Cell \u001b[0;32mIn[87], line 2\u001b[0m\n\u001b[1;32m      1\u001b[0m \u001b[38;5;66;03m# Creation of a dataframe with statitical infos on each airline:\u001b[39;00m\n\u001b[0;32m----> 2\u001b[0m global_stats \u001b[38;5;241m=\u001b[39m \u001b[43mdf\u001b[49m\u001b[43m[\u001b[49m\u001b[38;5;124;43m'\u001b[39;49m\u001b[38;5;124;43mDEPARTURE_DELAY\u001b[39;49m\u001b[38;5;124;43m'\u001b[39;49m\u001b[43m]\u001b[49m\u001b[38;5;241;43m.\u001b[39;49m\u001b[43mgroupby\u001b[49m\u001b[43m(\u001b[49m\u001b[43mdf\u001b[49m\u001b[43m[\u001b[49m\u001b[38;5;124;43m'\u001b[39;49m\u001b[38;5;124;43mAIRLINE__CODE\u001b[39;49m\u001b[38;5;124;43m'\u001b[39;49m\u001b[43m]\u001b[49m\u001b[43m)\u001b[49m\u001b[38;5;241;43m.\u001b[39;49m\u001b[43mapply\u001b[49m\u001b[43m(\u001b[49m\u001b[43mget_stats\u001b[49m\u001b[43m)\u001b[49m\u001b[38;5;241;43m.\u001b[39;49m\u001b[43munstack\u001b[49m\u001b[43m(\u001b[49m\u001b[43m)\u001b[49m\n\u001b[1;32m      3\u001b[0m global_stats \u001b[38;5;241m=\u001b[39m global_stats\u001b[38;5;241m.\u001b[39msort_values(\u001b[38;5;124m'\u001b[39m\u001b[38;5;124mcount\u001b[39m\u001b[38;5;124m'\u001b[39m)\n\u001b[1;32m      4\u001b[0m global_stats\n",
      "File \u001b[0;32m/opt/conda/lib/python3.9/site-packages/pandas/core/series.py:4595\u001b[0m, in \u001b[0;36mSeries.unstack\u001b[0;34m(self, level, fill_value, sort)\u001b[0m\n\u001b[1;32m   4550\u001b[0m \u001b[38;5;250m\u001b[39m\u001b[38;5;124;03m\"\"\"\u001b[39;00m\n\u001b[1;32m   4551\u001b[0m \u001b[38;5;124;03mUnstack, also known as pivot, Series with MultiIndex to produce DataFrame.\u001b[39;00m\n\u001b[1;32m   4552\u001b[0m \n\u001b[0;32m   (...)\u001b[0m\n\u001b[1;32m   4591\u001b[0m \u001b[38;5;124;03mb    2    4\u001b[39;00m\n\u001b[1;32m   4592\u001b[0m \u001b[38;5;124;03m\"\"\"\u001b[39;00m\n\u001b[1;32m   4593\u001b[0m \u001b[38;5;28;01mfrom\u001b[39;00m \u001b[38;5;21;01mpandas\u001b[39;00m\u001b[38;5;21;01m.\u001b[39;00m\u001b[38;5;21;01mcore\u001b[39;00m\u001b[38;5;21;01m.\u001b[39;00m\u001b[38;5;21;01mreshape\u001b[39;00m\u001b[38;5;21;01m.\u001b[39;00m\u001b[38;5;21;01mreshape\u001b[39;00m \u001b[38;5;28;01mimport\u001b[39;00m unstack\n\u001b[0;32m-> 4595\u001b[0m \u001b[38;5;28;01mreturn\u001b[39;00m \u001b[43munstack\u001b[49m\u001b[43m(\u001b[49m\u001b[38;5;28;43mself\u001b[39;49m\u001b[43m,\u001b[49m\u001b[43m \u001b[49m\u001b[43mlevel\u001b[49m\u001b[43m,\u001b[49m\u001b[43m \u001b[49m\u001b[43mfill_value\u001b[49m\u001b[43m,\u001b[49m\u001b[43m \u001b[49m\u001b[43msort\u001b[49m\u001b[43m)\u001b[49m\n",
      "File \u001b[0;32m/opt/conda/lib/python3.9/site-packages/pandas/core/reshape/reshape.py:511\u001b[0m, in \u001b[0;36munstack\u001b[0;34m(obj, level, fill_value, sort)\u001b[0m\n\u001b[1;32m    506\u001b[0m         \u001b[38;5;28;01mreturn\u001b[39;00m obj\u001b[38;5;241m.\u001b[39mT\u001b[38;5;241m.\u001b[39mstack(future_stack\u001b[38;5;241m=\u001b[39m\u001b[38;5;28;01mTrue\u001b[39;00m)\n\u001b[1;32m    507\u001b[0m \u001b[38;5;28;01melif\u001b[39;00m \u001b[38;5;129;01mnot\u001b[39;00m \u001b[38;5;28misinstance\u001b[39m(obj\u001b[38;5;241m.\u001b[39mindex, MultiIndex):\n\u001b[1;32m    508\u001b[0m     \u001b[38;5;66;03m# GH 36113\u001b[39;00m\n\u001b[1;32m    509\u001b[0m     \u001b[38;5;66;03m# Give nicer error messages when unstack a Series whose\u001b[39;00m\n\u001b[1;32m    510\u001b[0m     \u001b[38;5;66;03m# Index is not a MultiIndex.\u001b[39;00m\n\u001b[0;32m--> 511\u001b[0m     \u001b[38;5;28;01mraise\u001b[39;00m \u001b[38;5;167;01mValueError\u001b[39;00m(\n\u001b[1;32m    512\u001b[0m         \u001b[38;5;124mf\u001b[39m\u001b[38;5;124m\"\u001b[39m\u001b[38;5;124mindex must be a MultiIndex to unstack, \u001b[39m\u001b[38;5;132;01m{\u001b[39;00m\u001b[38;5;28mtype\u001b[39m(obj\u001b[38;5;241m.\u001b[39mindex)\u001b[38;5;132;01m}\u001b[39;00m\u001b[38;5;124m was passed\u001b[39m\u001b[38;5;124m\"\u001b[39m\n\u001b[1;32m    513\u001b[0m     )\n\u001b[1;32m    514\u001b[0m \u001b[38;5;28;01melse\u001b[39;00m:\n\u001b[1;32m    515\u001b[0m     \u001b[38;5;28;01mif\u001b[39;00m is_1d_only_ea_dtype(obj\u001b[38;5;241m.\u001b[39mdtype):\n",
      "\u001b[0;31mValueError\u001b[0m: index must be a MultiIndex to unstack, <class 'pandas.core.indexes.base.Index'> was passed"
     ]
    }
   ],
   "source": [
    "# Creation of a dataframe with statitical infos on each airline:\n",
    "global_stats = df['DEPARTURE_DELAY'].groupby(df['AIRLINE__CODE']).apply(get_stats).unstack()\n",
    "global_stats = global_stats.sort_values('count')\n",
    "global_stats"
   ]
  },
  {
   "cell_type": "code",
   "execution_count": null,
   "id": "aaa897bf-36ba-4c5e-84d5-e67f530ede24",
   "metadata": {},
   "outputs": [],
   "source": [
    "font = {'family' : 'normal', 'weight' : 'bold', 'size'   : 15}\n",
    "mpl.rc('font', **font)\n",
    "import matplotlib.patches as mpatches\n",
    "#__________________________________________________________________\n",
    "# I extract a subset of columns and redefine the airlines labeling \n",
    "df2 = df.loc[:, ['AIRLINE', 'DEPARTURE_DELAY']]\n",
    "df2['AIRLINE'] = df2['AIRLINE'].replace(abbr_companies)\n",
    "#________________________________________________________________________\n",
    "colors = ['royalblue', 'grey', 'wheat', 'c', 'firebrick', 'seagreen', 'lightskyblue',\n",
    "          'lightcoral', 'yellowgreen', 'gold', 'tomato', 'violet', 'aquamarine', 'chartreuse']\n",
    "#___________________________________\n",
    "fig = plt.figure(1, figsize=(16,15))\n",
    "gs=GridSpec(2,2)             \n",
    "ax1=fig.add_subplot(gs[0,0]) \n",
    "ax2=fig.add_subplot(gs[0,1]) \n",
    "ax3=fig.add_subplot(gs[1,:]) \n",
    "#------------------------------\n",
    "# Pie chart nº1: nb of flights\n",
    "#------------------------------\n",
    "labels = [s for s in  global_stats.index]\n",
    "sizes  = global_stats['count'].values\n",
    "explode = [0.3 if sizes[i] < 20000 else 0.0 for i in range(len(abbr_companies))]\n",
    "patches, texts, autotexts = ax1.pie(sizes, explode = explode,\n",
    "                                labels=labels, colors = colors,  autopct='%1.0f%%',\n",
    "                                shadow=False, startangle=0)\n",
    "for i in range(len(abbr_companies)): \n",
    "    texts[i].set_fontsize(14)\n",
    "ax1.axis('equal')\n",
    "ax1.set_title('% of flights per company', bbox={'facecolor':'midnightblue', 'pad':5},\n",
    "              color = 'w',fontsize=18)\n",
    "#_______________________________________________\n",
    "# I set the legend: abreviation -> airline name\n",
    "comp_handler = []\n",
    "for i in range(len(abbr_companies)):\n",
    "    comp_handler.append(mpatches.Patch(color=colors[i],\n",
    "            label = global_stats.index[i] + ': ' + abbr_companies[global_stats.index[i]]))\n",
    "ax1.legend(handles=comp_handler, bbox_to_anchor=(0.2, 0.9), \n",
    "           fontsize = 13, bbox_transform=plt.gcf().transFigure)\n",
    "#----------------------------------------\n",
    "# Pie chart nº2: mean delay at departure\n",
    "#----------------------------------------\n",
    "sizes  = global_stats['mean'].values\n",
    "sizes  = [max(s,0) for s in sizes]\n",
    "explode = [0.0 if sizes[i] < 20000 else 0.01 for i in range(len(abbr_companies))]\n",
    "patches, texts, autotexts = ax2.pie(sizes, explode = explode, labels = labels,\n",
    "                                colors = colors, shadow=False, startangle=0,\n",
    "                                autopct = lambda p :  '{:.0f}'.format(p * sum(sizes) / 100))\n",
    "for i in range(len(abbr_companies)): \n",
    "    texts[i].set_fontsize(14)\n",
    "ax2.axis('equal')\n",
    "ax2.set_title('Mean delay at origin', bbox={'facecolor':'midnightblue', 'pad':5},\n",
    "              color='w', fontsize=18)\n",
    "#------------------------------------------------------\n",
    "# striplot with all the values reported for the delays\n",
    "#___________________________________________________________________\n",
    "# I redefine the colors for correspondance with the pie charts\n",
    "colors = ['firebrick', 'gold', 'lightcoral', 'aquamarine', 'c', 'yellowgreen', 'grey',\n",
    "          'seagreen', 'tomato', 'violet', 'wheat', 'chartreuse', 'lightskyblue', 'royalblue']\n",
    "#___________________________________________________________________\n",
    "ax3 = sns.stripplot(y=\"AIRLINE\", x=\"DEPARTURE_DELAY\", size = 4, palette = colors,\n",
    "                    data=df2, linewidth = 0.5,  jitter=True)\n",
    "plt.setp(ax3.get_xticklabels(), fontsize=14)\n",
    "plt.setp(ax3.get_yticklabels(), fontsize=14)\n",
    "ax3.set_xticklabels(['{:2.0f}h{:2.0f}m'.format(*[int(y) for y in divmod(x,60)])\n",
    "                         for x in ax3.get_xticks()])\n",
    "plt.xlabel('Departure delay', fontsize=18, bbox={'facecolor':'midnightblue', 'pad':5},\n",
    "           color='w', labelpad=20)\n",
    "ax3.yaxis.label.set_visible(False)\n",
    "#________________________\n",
    "plt.tight_layout(w_pad=3) "
   ]
  },
  {
   "cell_type": "code",
   "execution_count": null,
   "id": "b21e85fa-10f7-45a3-a294-356017275175",
   "metadata": {},
   "outputs": [],
   "source": [
    "\n",
    "#_____________________________________________\n",
    "# Function that define how delays are grouped\n",
    "delay_type = lambda x:((0,1)[x > 5],2)[x > 45]\n",
    "df['DELAY_LEVEL'] = df['DEPARTURE_DELAY'].apply(delay_type)\n",
    "#____________________________________________________\n",
    "fig = plt.figure(1, figsize=(10,7))\n",
    "ax = sns.countplot(y=\"AIRLINE\", hue='DELAY_LEVEL', data=df)\n",
    "#____________________________________________________________________________________\n",
    "# We replace the abbreviations by the full names of the companies and set the labels\n",
    "labels = [abbr_companies[item.get_text()] for item in ax.get_yticklabels()]\n",
    "ax.set_yticklabels(labels)\n",
    "plt.setp(ax.get_xticklabels(), fontsize=12, weight = 'normal', rotation = 0);\n",
    "plt.setp(ax.get_yticklabels(), fontsize=12, weight = 'bold', rotation = 0);\n",
    "ax.yaxis.label.set_visible(False)\n",
    "plt.xlabel('Flight count', fontsize=16, weight = 'bold', labelpad=10)\n",
    "#________________\n",
    "# Set the legend\n",
    "L = plt.legend()\n",
    "L.get_texts()[0].set_text('on time (t < 5 min)')\n",
    "L.get_texts()[1].set_text('small delay (5 < t < 45 min)')\n",
    "L.get_texts()[2].set_text('large delay (t > 45 min)')\n",
    "plt.show()"
   ]
  },
  {
   "cell_type": "code",
   "execution_count": null,
   "id": "c1b28ffa-89d6-4132-9939-96db7f8bf211",
   "metadata": {},
   "outputs": [],
   "source": [
    "#___________________________________________\n",
    "# Model function used to fit the histograms\n",
    "def func(x, a, b):\n",
    "    return a * np.exp(-x/b)\n",
    "#-------------------------------------------\n",
    "points = [] ; label_company = []\n",
    "fig = plt.figure(1, figsize=(11,11))\n",
    "i = 0\n",
    "for carrier_name in [abbr_companies[x] for x in global_stats.index]:\n",
    "    i += 1\n",
    "    ax = fig.add_subplot(5,3,i)    \n",
    "    #_________________________\n",
    "    # Fit of the distribution\n",
    "    n, bins, patches = plt.hist(x = df2[df2['AIRLINE']==carrier_name]['DEPARTURE_DELAY'],\n",
    "                                range = (15,180), normed=True, bins= 60)\n",
    "    bin_centers = bins[:-1] + 0.5 * (bins[1:] - bins[:-1])    \n",
    "    popt, pcov = curve_fit(func, bin_centers, n, p0 = [1, 2])\n",
    "    #___________________________\n",
    "    # bookeeping of the results\n",
    "    points.append(popt)\n",
    "    label_company.append(carrier_name)\n",
    "    #______________________\n",
    "    # draw the fit curve\n",
    "    plt.plot(bin_centers, func(bin_centers, *popt), 'r-', linewidth=3)    \n",
    "    #_____________________________________\n",
    "    # define tick labels for each subplot\n",
    "    if i < 10:\n",
    "        ax.set_xticklabels(['' for x in ax.get_xticks()])\n",
    "    else:\n",
    "        ax.set_xticklabels(['{:2.0f}h{:2.0f}m'.format(*[int(y) for y in divmod(x,60)])\n",
    "                            for x in ax.get_xticks()])\n",
    "    #______________\n",
    "    # subplot title\n",
    "    plt.title(carrier_name, fontsize = 14, fontweight = 'bold', color = 'darkblue')\n",
    "    #____________\n",
    "    # axes labels \n",
    "    if i == 4:\n",
    "        ax.text(-0.3,0.9,'Normalized count of flights', fontsize=16, rotation=90,\n",
    "            color='k', horizontalalignment='center', transform = ax.transAxes)\n",
    "    if i == 14:\n",
    "        ax.text( 0.5, -0.5 ,'Delay at origin', fontsize=16, rotation=0,\n",
    "            color='k', horizontalalignment='center', transform = ax.transAxes)\n",
    "    #___________________________________________\n",
    "    # Legend: values of the a and b coefficients\n",
    "    ax.text(0.68, 0.7, 'a = {}\\nb = {}'.format(round(popt[0],2), round(popt[1],1)),\n",
    "            style='italic', transform=ax.transAxes, fontsize = 12, family='fantasy',\n",
    "            bbox={'facecolor':'tomato', 'alpha':0.8, 'pad':5})\n",
    "    \n",
    "plt.tight_layout()"
   ]
  },
  {
   "cell_type": "code",
   "execution_count": null,
   "id": "32d8ce18-fac7-4268-a6ea-fbb532407da5",
   "metadata": {},
   "outputs": [],
   "source": [
    "mpl.rcParams.update(mpl.rcParamsDefault)\n",
    "sns.set_context('paper')\n",
    "import matplotlib.patches as patches\n",
    "\n",
    "fig = plt.figure(1, figsize=(11,5))\n",
    "y_shift = [0 for _ in range(14)]\n",
    "y_shift[3] = 0.5/1000\n",
    "y_shift[12] = 2.5/1000\n",
    "y_shift[11] = -0.5/1000\n",
    "y_shift[8] = -2.5/1000\n",
    "y_shift[5] = 1/1000\n",
    "x_val = [s[1] for s in points]\n",
    "y_val = [s[0] for s in points]\n",
    "\n",
    "gs=GridSpec(2,7)\n",
    "#_______________________________\n",
    "# 1/ Plot overview (left panel)\n",
    "ax1=fig.add_subplot(gs[1,0:2]) \n",
    "plt.scatter(x=x_val, y=y_val, marker = 's', edgecolor='black', linewidth = '1')\n",
    "#__________________________________\n",
    "# Company label: Hawaiian airlines\n",
    "i= 1\n",
    "ax1.annotate(label_company[i], xy=(x_val[i]+1.5, y_val[i]+y_shift[i]),\n",
    "             xycoords='data', fontsize = 10)\n",
    "plt.xlabel(\"$b$ parameter\", fontsize=16, labelpad=20)\n",
    "plt.ylabel(\"$a$ parameter\", fontsize=16, labelpad=20)\n",
    "#__________________________________\n",
    "# Company label: Hawaiian airlines\n",
    "i= 12\n",
    "ax1.annotate(label_company[i], xy=(x_val[i]+1.5, y_val[i]+y_shift[i]),\n",
    "             xycoords='data', fontsize = 10)\n",
    "plt.xlabel(\"$b$ parameter\", fontsize=16, labelpad=20)\n",
    "plt.ylabel(\"$a$ parameter\", fontsize=16, labelpad=20)\n",
    "#____________\n",
    "# Main Title\n",
    "ax1.text(.5,1.5,'Characterizing delays \\n among companies', fontsize=16,\n",
    "        bbox={'facecolor':'midnightblue', 'pad':5}, color='w',\n",
    "        horizontalalignment='center',\n",
    "        transform=ax1.transAxes)\n",
    "#________________________\n",
    "# plot border parameters\n",
    "for k in ['top', 'bottom', 'right', 'left']:\n",
    "    ax1.spines[k].set_visible(True)\n",
    "    ax1.spines[k].set_linewidth(0.5)\n",
    "    ax1.spines[k].set_color('k')\n",
    "#____________________\n",
    "# Create a Rectangle \n",
    "rect = patches.Rectangle((21,0.025), 19, 0.07, linewidth=2,\n",
    "                         edgecolor='r', linestyle=':', facecolor='none')\n",
    "ax1.add_patch(rect)\n",
    "#_______________________________________________\n",
    "# 2/ Zoom on the bulk of carriers (right panel)\n",
    "ax2=fig.add_subplot(gs[0:2,2:])\n",
    "plt.scatter(x=x_val, y=y_val, marker = 's', edgecolor='black', linewidth = '1')\n",
    "plt.setp(ax1.get_xticklabels(), fontsize=12)\n",
    "plt.setp(ax1.get_yticklabels(), fontsize=12)\n",
    "ax2.set_xlim(21,45)\n",
    "ax2.set_ylim(0.025,0.095)\n",
    "#________________\n",
    "# Company labels\n",
    "for i in range(len(abbr_companies)):\n",
    "    ax2.annotate(label_company[i], xy=(x_val[i]+0.5, y_val[i]+y_shift[i]),\n",
    "                 xycoords='data', fontsize = 10)\n",
    "#____________________________\n",
    "# Increasing delay direction\n",
    "ax2.arrow(30, 0.09, 8, -0.03, head_width=0.005,\n",
    "          shape = 'full', head_length=2, fc='k', ec='k')\n",
    "ax2.annotate('increasing \\n  delays', fontsize= 20, color = 'r',\n",
    "          xy=(35, 0.075), xycoords='data')\n",
    "#________________________________\n",
    "# position and size of the ticks\n",
    "plt.tick_params(labelleft=False, labelright=True)\n",
    "plt.setp(ax2.get_xticklabels(), fontsize=14)\n",
    "plt.setp(ax2.get_yticklabels(), fontsize=14)\n",
    "#________________________\n",
    "# plot border parameters\n",
    "for k in ['top', 'bottom', 'right', 'left']:\n",
    "    ax2.spines[k].set_visible(True)\n",
    "    ax2.spines[k].set_linewidth(0.5)\n",
    "    ax2.spines[k].set_color('k')    \n",
    "#________________________________\n",
    "# Connection between the 2 plots\n",
    "xy2 = (40, 0.09) ; xy1 = (21, 0.095)\n",
    "con = ConnectionPatch(xyA=xy1, xyB=xy2, coordsA=\"data\", coordsB=\"data\",\n",
    "                      axesA=ax2, axesB=ax1,\n",
    "                      linestyle=':', linewidth = 2, color=\"red\")\n",
    "ax2.add_artist(con)\n",
    "xy2 = (40, 0.025) ; xy1 = (21, 0.025)\n",
    "con = ConnectionPatch(xyA=xy1, xyB=xy2, coordsA=\"data\", coordsB=\"data\",\n",
    "                      axesA=ax2, axesB=ax1,\n",
    "                      linestyle=':', linewidth = 2, color=\"red\")\n",
    "ax2.add_artist(con)\n",
    "plt.xlabel(\"$b$ parameter\", fontsize=16, labelpad=20)\n",
    "#--------------------------------\n",
    "plt.show()"
   ]
  },
  {
   "cell_type": "code",
   "execution_count": null,
   "id": "f69af558-48f0-4b30-9b22-08714a3fdd8a",
   "metadata": {},
   "outputs": [],
   "source": [
    "mpl.rcParams.update(mpl.rcParamsDefault)\n",
    "mpl.rcParams['hatch.linewidth'] = 2.0  \n",
    "\n",
    "fig = plt.figure(1, figsize=(11,6))\n",
    "ax = sns.barplot(x=\"DEPARTURE_DELAY\", y=\"AIRLINE\", data=df, color=\"lightskyblue\", ci=None)\n",
    "ax = sns.barplot(x=\"ARRIVAL_DELAY\", y=\"AIRLINE\", data=df, color=\"r\", hatch = '///',\n",
    "                 alpha = 0.0, ci=None)\n",
    "labels = [abbr_companies[item.get_text()] for item in ax.get_yticklabels()]\n",
    "ax.set_yticklabels(labels)\n",
    "ax.yaxis.label.set_visible(False)\n",
    "plt.xlabel('Mean delay [min] (@departure: blue, @arrival: hatch lines)',\n",
    "           fontsize=14, weight = 'bold', labelpad=10);"
   ]
  },
  {
   "cell_type": "code",
   "execution_count": null,
   "id": "3be78b56-6c63-4e7e-a79a-375f261f61f6",
   "metadata": {},
   "outputs": [],
   "source": [
    "print(\"Nb of airports: {}\".format(len(df['ORIGIN_AIRPORT'].unique())))"
   ]
  },
  {
   "cell_type": "code",
   "execution_count": null,
   "id": "29eb98b3-7d87-42ca-ab63-95252ece485e",
   "metadata": {},
   "outputs": [],
   "source": [
    "origin_nb = dict()\n",
    "for carrier in abbr_companies.keys():\n",
    "    liste_origin_airport = df[df['AIRLINE'] == carrier]['ORIGIN_AIRPORT'].unique()\n",
    "    origin_nb[carrier] = len(liste_origin_airport)"
   ]
  },
  {
   "cell_type": "code",
   "execution_count": null,
   "id": "9fe42616-6370-4569-ae75-4abf9132edc9",
   "metadata": {},
   "outputs": [],
   "source": [
    "test_df = pd.DataFrame.from_dict(origin_nb, orient='index')\n",
    "test_df.rename(columns = {0:'count'}, inplace = True)\n",
    "ax = test_df.plot(kind='bar', figsize = (8,3))\n",
    "labels = [abbr_companies[item.get_text()] for item in ax.get_xticklabels()]\n",
    "ax.set_xticklabels(labels)\n",
    "plt.ylabel('Number of airports visited', fontsize=14, weight = 'bold', labelpad=12)\n",
    "plt.setp(ax.get_xticklabels(), fontsize=11, ha = 'right', rotation = 80)\n",
    "ax.legend().set_visible(False)\n",
    "plt.show()"
   ]
  },
  {
   "cell_type": "code",
   "execution_count": null,
   "id": "ac7241f3-c6cb-4e04-a7ca-053321814565",
   "metadata": {},
   "outputs": [],
   "source": [
    "temp = airports.copy()\n",
    "identify_airport = temp.set_index('IATA_CODE')['CITY'].to_dict()\n",
    "latitude_airport = temp.set_index('IATA_CODE')['LATITUDE'].to_dict()\n",
    "longitude_airport = temp.set_index('IATA_CODE')['LONGITUDE'].to_dict()"
   ]
  },
  {
   "cell_type": "code",
   "execution_count": null,
   "id": "fe85c109-7e06-450b-929d-8013514d60c0",
   "metadata": {},
   "outputs": [],
   "source": [
    "def make_map(df, carrier, long_min, long_max, lat_min, lat_max):\n",
    "    fig=plt.figure(figsize=(7,3))\n",
    "    ax=fig.add_axes([0.,0.,1.,1.])\n",
    "    m = Basemap(resolution='i',llcrnrlon=long_min, urcrnrlon=long_max,\n",
    "                  llcrnrlat=lat_min, urcrnrlat=lat_max, lat_0=0, lon_0=0,)\n",
    "    df2 = df[df['AIRLINE'] == carrier]\n",
    "    count_trajectories = df2.groupby(['ORIGIN_AIRPORT', 'DESTINATION_AIRPORT']).size()\n",
    "    count_trajectories.sort_values(inplace = True)\n",
    "    \n",
    "    for (origin, dest), s in count_trajectories.iteritems():\n",
    "        nylat,   nylon = latitude_airport[origin], longitude_airport[origin]\n",
    "        m.plot(nylon, nylat, marker='o', markersize = 10, markeredgewidth = 1,\n",
    "                   color = 'seagreen', markeredgecolor='k')\n",
    "\n",
    "    for (origin, dest), s in count_trajectories.iteritems():\n",
    "        nylat,   nylon = latitude_airport[origin], longitude_airport[origin]\n",
    "        lonlat, lonlon = latitude_airport[dest], longitude_airport[dest]\n",
    "        if pd.isnull(nylat) or pd.isnull(nylon) or \\\n",
    "                pd.isnull(lonlat) or pd.isnull(lonlon): continue\n",
    "        if s < 100:\n",
    "            m.drawgreatcircle(nylon, nylat, lonlon, lonlat, linewidth=0.5, color='b',\n",
    "                             label = '< 100')\n",
    "        elif s < 200:\n",
    "            m.drawgreatcircle(nylon, nylat, lonlon, lonlat, linewidth=2, color='r',\n",
    "                             label = '100 <.< 200')\n",
    "        else:\n",
    "            m.drawgreatcircle(nylon, nylat, lonlon, lonlat, linewidth=2, color='gold',\n",
    "                              label = '> 200')    \n",
    "    #_____________________________________________\n",
    "    # remove duplicate labels and set their order\n",
    "    handles, labels = plt.gca().get_legend_handles_labels()\n",
    "    by_label = OrderedDict(zip(labels, handles))\n",
    "    key_order = ('< 100', '100 <.< 200', '> 200')                \n",
    "    new_label = OrderedDict()\n",
    "    for key in key_order:\n",
    "        if key not in by_label.keys(): continue\n",
    "        new_label[key] = by_label[key]\n",
    "    plt.legend(new_label.values(), new_label.keys(), loc = 'best', prop= {'size':8},\n",
    "               title='flights per month', facecolor = 'palegreen', \n",
    "               shadow = True, frameon = True, framealpha = 1)    \n",
    "    m.drawcoastlines()\n",
    "    m.fillcontinents()\n",
    "    ax.set_title('{} flights'.format(abbr_companies[carrier]))\n"
   ]
  },
  {
   "cell_type": "code",
   "execution_count": null,
   "id": "2b520fe3-c846-4545-8b00-1437bb3a5ba1",
   "metadata": {},
   "outputs": [],
   "source": [
    "coord = dict()\n",
    "coord['AA'] = [-165, -60, 10, 55]\n",
    "coord['AS'] = [-182, -63, 10, 75]\n",
    "coord['HA'] = [-180, -65, 10, 52]\n",
    "for carrier in ['AA', 'AS', 'HA']: \n",
    "    make_map(df, carrier, *coord[carrier])"
   ]
  },
  {
   "cell_type": "code",
   "execution_count": null,
   "id": "6ab2c719-36af-4fe3-b675-ecc2275f4acd",
   "metadata": {},
   "outputs": [],
   "source": [
    "airport_mean_delays = pd.DataFrame(pd.Series(df['ORIGIN_AIRPORT'].unique()))\n",
    "airport_mean_delays.set_index(0, drop = True, inplace = True)\n",
    "\n",
    "for carrier in abbr_companies.keys():\n",
    "    df1 = df[df['AIRLINE'] == carrier]\n",
    "    test = df1['DEPARTURE_DELAY'].groupby(df['ORIGIN_AIRPORT']).apply(get_stats).unstack()\n",
    "    airport_mean_delays[carrier] = test.loc[:, 'mean'] "
   ]
  },
  {
   "cell_type": "code",
   "execution_count": null,
   "id": "11171368-0b89-4050-b265-d6d05b7797ff",
   "metadata": {},
   "outputs": [],
   "source": [
    "sns.set(context=\"paper\")\n",
    "fig = plt.figure(1, figsize=(8,8))\n",
    "\n",
    "ax = fig.add_subplot(1,2,1)\n",
    "subset = airport_mean_delays.iloc[:50,:].rename(columns = abbr_companies)\n",
    "subset = subset.rename(index = identify_airport)\n",
    "mask = subset.isnull()\n",
    "sns.heatmap(subset, linewidths=0.01, cmap=\"Accent\", mask=mask, vmin = 0, vmax = 35)\n",
    "plt.setp(ax.get_xticklabels(), fontsize=10, rotation = 85) ;\n",
    "ax.yaxis.label.set_visible(False)\n",
    "\n",
    "ax = fig.add_subplot(1,2,2)    \n",
    "subset = airport_mean_delays.iloc[50:100,:].rename(columns = abbr_companies)\n",
    "subset = subset.rename(index = identify_airport)\n",
    "fig.text(0.5, 1.02, \"Delays: impact of the origin airport\", ha='center', fontsize = 18)\n",
    "mask = subset.isnull()\n",
    "sns.heatmap(subset, linewidths=0.01, cmap=\"Accent\", mask=mask, vmin = 0, vmax = 35)\n",
    "plt.setp(ax.get_xticklabels(), fontsize=10, rotation = 85) ;\n",
    "ax.yaxis.label.set_visible(False)\n",
    "\n",
    "plt.tight_layout()\n"
   ]
  },
  {
   "cell_type": "code",
   "execution_count": null,
   "id": "7f22835b-b626-4ec1-b974-4af8ecbb6a43",
   "metadata": {},
   "outputs": [],
   "source": [
    "#_________________________________________________________________\n",
    "# We select the company and create a subset of the main dataframe\n",
    "carrier = 'AA'\n",
    "df1 = df[df['AIRLINE']==carrier][['ORIGIN_AIRPORT','DESTINATION_AIRPORT','DEPARTURE_DELAY']]\n",
    "#___________________________________________________________\n",
    "# I collect the routes and list the delays for each of them\n",
    "trajet = dict()\n",
    "for ind, col in df1.iterrows():\n",
    "    if pd.isnull(col['DEPARTURE_DELAY']): continue\n",
    "    route = str(col['ORIGIN_AIRPORT'])+'-'+str(col['DESTINATION_AIRPORT'])\n",
    "    if route in trajet.keys():\n",
    "        trajet[route].append(col['DEPARTURE_DELAY'])\n",
    "    else:\n",
    "        trajet[route] = [col['DEPARTURE_DELAY']]\n",
    "#____________________________________________________________________        \n",
    "# I transpose the dictionary in a list to sort the routes by origins        \n",
    "liste_trajet = []\n",
    "for key, value in trajet.items():\n",
    "    liste_trajet.append([key, value])\n",
    "liste_trajet.sort()"
   ]
  },
  {
   "cell_type": "code",
   "execution_count": null,
   "id": "2a334391-9de1-4e19-ad48-5ad180830e87",
   "metadata": {},
   "outputs": [],
   "source": [
    "mean_val = [] ; std_val = [] ; x_label = []\n",
    "\n",
    "i = 0\n",
    "for route, liste_retards in liste_trajet:\n",
    "    #_____________________________________________\n",
    "    # I set the labels as the airport from origin\n",
    "    index = route.split('-')[0]\n",
    "    x_label.append(identify_airport[index])\n",
    "    #______________________________________________________________________________\n",
    "    # I put a threshold on delays to prevent that high values take too much weight\n",
    "    trajet2 = [min(90, s) for s in liste_retards]\n",
    "    #________________________________________\n",
    "    # I compute mean and standard deviations\n",
    "    mean_val.append(scipy.mean(trajet2))\n",
    "    std_val.append(scipy.std(trajet2))\n",
    "    i += 1\n",
    "#________________\n",
    "# Plot the graph\n",
    "fig, ax = plt.subplots(figsize=(10,4))\n",
    "std_min = [ min(15 + mean_val[i], s) for i,s in enumerate(std_val)] \n",
    "ax.errorbar(list(range(i)), mean_val, yerr = [std_min, std_val], fmt='o') \n",
    "ax.set_title('Mean route delays for \"{}\"'.format(abbr_companies[carrier]),\n",
    "             fontsize=14, weight = 'bold')\n",
    "plt.ylabel('Mean delay at origin (minutes)', fontsize=14, weight = 'bold', labelpad=12)\n",
    "#___________________________________________________\n",
    "# I define the x,y range and positions of the ticks\n",
    "imin, imax = 145, 230\n",
    "plt.xlim(imin, imax) ; plt.ylim(-20, 45)\n",
    "liste_ticks = [imin]\n",
    "for j in range(imin+1,imax):\n",
    "    if x_label[j] == x_label[j-1]: continue\n",
    "    liste_ticks.append(j)\n",
    "#_____________________________\n",
    "# and set the tick parameters  \n",
    "ax.set_xticks(liste_ticks)\n",
    "ax.set_xticklabels([x_label[int(x)] for x in ax.get_xticks()], rotation = 90, fontsize = 8)\n",
    "plt.setp(ax.get_yticklabels(), fontsize=12, rotation = 0)\n",
    "ax.tick_params(axis='y', which='major', pad=15)\n",
    "\n",
    "plt.show()"
   ]
  },
  {
   "cell_type": "code",
   "execution_count": null,
   "id": "3159172d-1c13-4ce1-a41e-2c9ee37d2a27",
   "metadata": {},
   "outputs": [],
   "source": [
    "class Figure_style():\n",
    "    #_________________________________________________________________\n",
    "    def __init__(self, size_x = 11, size_y = 5, nrows = 1, ncols = 1):\n",
    "        sns.set_style(\"white\")\n",
    "        sns.set_context(\"notebook\", font_scale=1.2, rc={\"lines.linewidth\": 2.5})\n",
    "        self.fig, axs = plt.subplots(nrows = nrows, ncols = ncols, figsize=(size_x,size_y,))\n",
    "        #________________________________\n",
    "        # convert self.axs to 2D array\n",
    "        if nrows == 1 and ncols == 1:\n",
    "            self.axs = np.reshape(axs, (1, -1))\n",
    "        elif nrows == 1:\n",
    "            self.axs = np.reshape(axs, (1, -1))\n",
    "        elif ncols == 1:\n",
    "            self.axs = np.reshape(axs, (-1, 1))\n",
    "    #_____________________________\n",
    "    def pos_update(self, ix, iy):\n",
    "        self.ix, self.iy = ix, iy\n",
    "    #_______________\n",
    "    def style(self):\n",
    "        self.axs[self.ix, self.iy].spines['right'].set_visible(False)\n",
    "        self.axs[self.ix, self.iy].spines['top'].set_visible(False)\n",
    "        self.axs[self.ix, self.iy].yaxis.grid(color='lightgray', linestyle=':')\n",
    "        self.axs[self.ix, self.iy].xaxis.grid(color='lightgray', linestyle=':')\n",
    "        self.axs[self.ix, self.iy].tick_params(axis='both', which='major',\n",
    "                                               labelsize=10, size = 5)\n",
    "    #________________________________________\n",
    "    def draw_legend(self, location='upper right'):\n",
    "        legend = self.axs[self.ix, self.iy].legend(loc = location, shadow=True,\n",
    "                                        facecolor = 'g', frameon = True)\n",
    "        legend.get_frame().set_facecolor('whitesmoke')\n",
    "    #_________________________________________________________________________________\n",
    "    def cust_plot(self, x, y, color='b', linestyle='-', linewidth=1, marker=None, label=''):\n",
    "        if marker:\n",
    "            markerfacecolor, marker, markersize = marker[:]\n",
    "            self.axs[self.ix, self.iy].plot(x, y, color = color, linestyle = linestyle,\n",
    "                                linewidth = linewidth, marker = marker, label = label,\n",
    "                                markerfacecolor = markerfacecolor, markersize = markersize)\n",
    "        else:\n",
    "            self.axs[self.ix, self.iy].plot(x, y, color = color, linestyle = linestyle,\n",
    "                                        linewidth = linewidth, label=label)\n",
    "        self.fig.autofmt_xdate()\n",
    "    #________________________________________________________________________\n",
    "    def cust_plot_date(self, x, y, color='lightblue', linestyle='-',\n",
    "                       linewidth=1, markeredge=False, label=''):\n",
    "        markeredgewidth = 1 if markeredge else 0\n",
    "        self.axs[self.ix, self.iy].plot_date(x, y, color='lightblue', markeredgecolor='grey',\n",
    "                                  markeredgewidth = markeredgewidth, label=label)\n",
    "    #________________________________________________________________________\n",
    "    def cust_scatter(self, x, y, color = 'lightblue', markeredge = False, label=''):\n",
    "        markeredgewidth = 1 if markeredge else 0\n",
    "        self.axs[self.ix, self.iy].scatter(x, y, color=color,  edgecolor='grey',\n",
    "                                  linewidths = markeredgewidth, label=label)    \n",
    "    #___________________________________________\n",
    "    def set_xlabel(self, label, fontsize = 14):\n",
    "        self.axs[self.ix, self.iy].set_xlabel(label, fontsize = fontsize)\n",
    "    #___________________________________________\n",
    "    def set_ylabel(self, label, fontsize = 14):\n",
    "        self.axs[self.ix, self.iy].set_ylabel(label, fontsize = fontsize)\n",
    "    #____________________________________\n",
    "    def set_xlim(self, lim_inf, lim_sup):\n",
    "        self.axs[self.ix, self.iy].set_xlim([lim_inf, lim_sup])\n",
    "    #____________________________________\n",
    "    def set_ylim(self, lim_inf, lim_sup):\n",
    "        self.axs[self.ix, self.iy].set_ylim([lim_inf, lim_sup])           "
   ]
  },
  {
   "cell_type": "code",
   "execution_count": null,
   "id": "df24de7a-91e1-472c-aef2-efa9f408c3bb",
   "metadata": {},
   "outputs": [],
   "source": [
    "carrier = 'WN'\n",
    "id_airport = 4\n",
    "liste_origin_airport = df[df['AIRLINE'] == carrier]['ORIGIN_AIRPORT'].unique()\n",
    "df2 = df[(df['AIRLINE'] == carrier) & (df['ARRIVAL_DELAY'] > 0)\n",
    "         & (df['ORIGIN_AIRPORT'] == liste_origin_airport[id_airport])]\n",
    "df2.sort_values('SCHEDULED_DEPARTURE', inplace = True)"
   ]
  },
  {
   "cell_type": "code",
   "execution_count": null,
   "id": "da4eb00a-b13c-4d9e-94ac-e6df873e2f27",
   "metadata": {},
   "outputs": [],
   "source": [
    "#_______________________________\n",
    "def func2(x, a, b, c):\n",
    "    return a * x**2 +  b*x + c\n",
    "#_______________________________\n",
    "df2['heure_depart'] =  df2['SCHEDULED_DEPARTURE'].apply(lambda x:x.time())\n",
    "test2 = df2['DEPARTURE_DELAY'].groupby(df2['heure_depart']).apply(get_stats).unstack()\n",
    "fct = lambda x:x.hour*3600+x.minute*60+x.second\n",
    "x_val = np.array([fct(s) for s in test2.index]) \n",
    "y_val = test2['mean']\n",
    "popt, pcov = curve_fit(func2, x_val, y_val, p0 = [1, 2, 3])\n",
    "test2['fit'] = pd.Series(func2(x_val, *popt), index = test2.index)"
   ]
  },
  {
   "cell_type": "code",
   "execution_count": null,
   "id": "053515a6-6713-4a79-bdd1-de87b56c2a3f",
   "metadata": {},
   "outputs": [],
   "source": [
    "fig1 = Figure_style(8, 4, 1, 1)\n",
    "fig1.pos_update(0, 0)\n",
    "fig1.cust_plot_date(df2['heure_depart'], df2['DEPARTURE_DELAY'],\n",
    "                    markeredge=False, label='initial data points')\n",
    "fig1.cust_plot(test2.index, test2['mean'], linestyle='--', linewidth=2, label='mean')\n",
    "fig1.cust_plot(test2.index, test2['fit'], color='r', linestyle='-', linewidth=3, label='fit')\n",
    "fig1.style() ; fig1.draw_legend('upper left')\n",
    "fig1.set_ylabel('Delay (minutes)', fontsize = 14)\n",
    "fig1.set_xlabel('Departure time', fontsize = 14)\n",
    "fig1.set_ylim(-15, 210)\n"
   ]
  },
  {
   "cell_type": "code",
   "execution_count": null,
   "id": "cc496c4c-e1d8-4384-b5fd-7e50c80129f5",
   "metadata": {},
   "outputs": [],
   "source": []
  },
  {
   "cell_type": "code",
   "execution_count": null,
   "id": "65984c51-1c55-43a4-abb1-06ea5d5f7a1a",
   "metadata": {},
   "outputs": [],
   "source": [
    "df_train = df[df['SCHEDULED_DEPARTURE'].apply(lambda x:x.date()) < datetime.date(2015, 1, 23)]\n",
    "df_test  = df[df['SCHEDULED_DEPARTURE'].apply(lambda x:x.date()) > datetime.date(2015, 1, 23)]\n",
    "df = df_train"
   ]
  },
  {
   "cell_type": "code",
   "execution_count": null,
   "id": "164e224e-fc8b-48c3-bcd5-51e1a8d0e9fc",
   "metadata": {},
   "outputs": [],
   "source": [
    "carrier = 'AA'\n",
    "check_airports = df[(df['AIRLINE'] == carrier)]['DEPARTURE_DELAY'].groupby(\n",
    "                         df['ORIGIN_AIRPORT']).apply(get_stats).unstack()\n",
    "check_airports.sort_values('count', ascending = False, inplace = True)\n",
    "check_airports[-5:]"
   ]
  },
  {
   "cell_type": "code",
   "execution_count": null,
   "id": "15075f7c-aa1d-460c-9a41-59256a557cb4",
   "metadata": {},
   "outputs": [],
   "source": [
    "def get_flight_delays(df, carrier, id_airport, extrem_values = False):\n",
    "    df2 = df[(df['AIRLINE'] == carrier) & (df['ORIGIN_AIRPORT'] == id_airport)]\n",
    "    #_______________________________________\n",
    "    # remove extreme values before fitting\n",
    "    if extrem_values:\n",
    "        df2['DEPARTURE_DELAY'] = df2['DEPARTURE_DELAY'].apply(lambda x:x if x < 60 else np.nan)\n",
    "        df2.dropna(how = 'any')\n",
    "    #__________________________________\n",
    "    # Conversion: date + heure -> heure\n",
    "    df2.sort_values('SCHEDULED_DEPARTURE', inplace = True)\n",
    "    df2['heure_depart'] =  df2['SCHEDULED_DEPARTURE'].apply(lambda x:x.time())\n",
    "    #___________________________________________________________________\n",
    "    # regroupement des vols par heure de départ et calcul de la moyenne\n",
    "    test2 = df2['DEPARTURE_DELAY'].groupby(df2['heure_depart']).apply(get_stats).unstack()\n",
    "    test2.reset_index(inplace=True)\n",
    "    #___________________________________\n",
    "    # conversion de l'heure en secondes\n",
    "    fct = lambda x:x.hour*3600+x.minute*60+x.second\n",
    "    test2.reset_index(inplace=True)\n",
    "    test2['heure_depart_min'] = test2['heure_depart'].apply(fct)\n",
    "    return test2"
   ]
  },
  {
   "cell_type": "code",
   "execution_count": null,
   "id": "45144a38-5d54-4c5e-ae65-4ffaad9cc080",
   "metadata": {},
   "outputs": [],
   "source": [
    "def linear_regression(test2):\n",
    "    test = test2[['mean', 'heure_depart_min']].dropna(how='any', axis = 0)\n",
    "    X = np.array(test['heure_depart_min'])\n",
    "    Y = np.array(test['mean'])\n",
    "    X = X.reshape(len(X),1)\n",
    "    Y = Y.reshape(len(Y),1)\n",
    "    regr = linear_model.LinearRegression()\n",
    "    regr.fit(X, Y)\n",
    "    result = regr.predict(X)\n",
    "    return X, Y, result"
   ]
  },
  {
   "cell_type": "code",
   "execution_count": null,
   "id": "0ef1933b-767b-403b-947d-2dcfc523be0a",
   "metadata": {},
   "outputs": [],
   "source": [
    "id_airport = 'PHL'\n",
    "df2 = df[(df['AIRLINE'] == carrier) & (df['ORIGIN_AIRPORT'] == id_airport)]\n",
    "df2['heure_depart'] =  df2['SCHEDULED_DEPARTURE'].apply(lambda x:x.time())\n",
    "df2['heure_depart'] = df2['heure_depart'].apply(lambda x:x.hour*3600+x.minute*60+x.second)\n",
    "#___________________\n",
    "# first case\n",
    "test2 = get_flight_delays(df, carrier, id_airport, False)\n",
    "X1, Y1, result2 = linear_regression(test2)\n",
    "#___________________\n",
    "# second case\n",
    "test3 = get_flight_delays(df, carrier, id_airport, True)\n",
    "X2, Y2, result3 = linear_regression(test3)"
   ]
  },
  {
   "cell_type": "code",
   "execution_count": null,
   "id": "05a29121-3712-41ba-bb29-d7e2b3f08424",
   "metadata": {},
   "outputs": [],
   "source": [
    "fig1 = Figure_style(8, 4, 1, 1)\n",
    "fig1.pos_update(0, 0)\n",
    "fig1.cust_scatter(df2['heure_depart'], df2['DEPARTURE_DELAY'], markeredge = True)\n",
    "fig1.cust_plot(X1, Y1, color = 'b', linestyle = ':', linewidth = 2, marker = ('b','s', 10))\n",
    "fig1.cust_plot(X2, Y2, color = 'g', linestyle = ':', linewidth = 2, marker = ('g','X', 12))\n",
    "fig1.cust_plot(X1, result2, color = 'b', linewidth = 3)\n",
    "fig1.cust_plot(X2, result3, color = 'g', linewidth = 3)\n",
    "fig1.style()\n",
    "fig1.set_ylabel('Delay (minutes)', fontsize = 14)\n",
    "fig1.set_xlabel('Departure time', fontsize = 14)\n",
    "#____________________________________\n",
    "# convert and set the x ticks labels\n",
    "fct_convert = lambda x: (int(x/3600) , int(divmod(x,3600)[1]/60))\n",
    "fig1.axs[fig1.ix, fig1.iy].set_xticklabels(['{:2.0f}h{:2.0f}m'.format(*fct_convert(x))\n",
    "                                            for x in fig1.axs[fig1.ix, fig1.iy].get_xticks()]);"
   ]
  },
  {
   "cell_type": "code",
   "execution_count": null,
   "id": "505e47a5-4243-48bd-bbee-3d6dc4b5252a",
   "metadata": {},
   "outputs": [],
   "source": []
  },
  {
   "cell_type": "code",
   "execution_count": null,
   "id": "55dff7ba-e268-4dd2-b789-fd712c0ca657",
   "metadata": {},
   "outputs": [],
   "source": [
    "class fit_polynome:\n",
    "\n",
    "    def __init__(self, data):\n",
    "        self.data = data[['mean', 'heure_depart_min']].dropna(how='any', axis = 0)\n",
    "\n",
    "    def split(self, method):        \n",
    "        self.method = method        \n",
    "        self.X = np.array(self.data['heure_depart_min'])\n",
    "        self.Y = np.array(self.data['mean'])\n",
    "        self.X = self.X.reshape(len(self.X),1)\n",
    "        self.Y = self.Y.reshape(len(self.Y),1)\n",
    "\n",
    "        if method == 'all':\n",
    "            self.X_train = self.X\n",
    "            self.Y_train = self.Y\n",
    "            self.X_test  = self.X\n",
    "            self.Y_test  = self.Y                        \n",
    "        elif method == 'split':            \n",
    "            self.X_train, self.X_test, self.Y_train, self.Y_test = \\\n",
    "                train_test_split(self.X, self.Y, test_size=0.3)\n",
    "    \n",
    "    def train(self, pol_order):\n",
    "        self.poly = PolynomialFeatures(degree = pol_order)\n",
    "        self.regr = linear_model.LinearRegression()\n",
    "        self.X_ = self.poly.fit_transform(self.X_train)\n",
    "        self.regr.fit(self.X_, self.Y_train)\n",
    "    \n",
    "    def predict(self, X):\n",
    "        self.X_ = self.poly.fit_transform(X)\n",
    "        self.result = self.regr.predict(self.X_)\n",
    "    \n",
    "    def calc_score(self):        \n",
    "        X_ = self.poly.fit_transform(self.X_test)\n",
    "        result = self.regr.predict(X_)\n",
    "        self.score = metrics.mean_squared_error(result, self.Y_test)\n",
    "The fit_polynome class allows you to perform all o"
   ]
  },
  {
   "cell_type": "code",
   "execution_count": null,
   "id": "4445f69f-478f-461a-9b60-e7cdb276b647",
   "metadata": {},
   "outputs": [],
   "source": [
    "fig = plt.figure(1, figsize=(10,4))\n",
    "\n",
    "ax = ['_' for _ in range(4)]\n",
    "ax[1]=fig.add_subplot(131) \n",
    "ax[2]=fig.add_subplot(132) \n",
    "ax[3]=fig.add_subplot(133) \n",
    "\n",
    "id_airport = 'BNA'\n",
    "test2 = get_flight_delays(df, carrier, id_airport, True)\n",
    "\n",
    "result = ['_' for _ in range(4)]\n",
    "score = [10000 for _ in range(4)]\n",
    "found = [False for _ in range(4)]\n",
    "fit = fit_polynome(test2)\n",
    "\n",
    "color = '.rgbyc'\n",
    "\n",
    "inc = 0\n",
    "while True:\n",
    "    inc += 1\n",
    "    fit.split('split')\n",
    "    for i in range(1,4):\n",
    "        fit.train(pol_order = i)\n",
    "        fit.predict(fit.X)\n",
    "        result[i] = fit.result\n",
    "        fit.calc_score()\n",
    "        score[i]  = fit.score\n",
    "\n",
    "    [ind_min] = [j for j,val in enumerate(score) if min(score) == val]\n",
    "    print(\"modèle nº{:<2}, min. pour n = {}, score = {:.1f}\".format(inc, ind_min,score[ind_min]))\n",
    "    \n",
    "    if not found[ind_min]:            \n",
    "        for i in range(1,4):\n",
    "            ax[ind_min].plot(fit.X, result[i], color[i], linewidth = 4 if i == ind_min else 1)\n",
    "        ax[ind_min].scatter(fit.X, fit.Y)                \n",
    "        ax[ind_min].text(0.05, 0.95, 'MSE = {:.1f}, {:.1f}, {:.1f}'.format(*score[1:4]),\n",
    "                         style='italic', transform=ax[ind_min].transAxes, fontsize = 8,\n",
    "                         bbox={'facecolor':'tomato', 'alpha':0.8, 'pad':5})                \n",
    "        found[ind_min] = True\n",
    "\n",
    "    shift = 0.5\n",
    "    plt.text(-1+shift, 1.05, \"polynomial order:\", color = 'k',\n",
    "                transform=ax[2].transAxes, fontsize = 16, family='fantasy')\n",
    "    plt.text(0+shift, 1.05, \"n = 1\", color = 'r', \n",
    "                transform=ax[2].transAxes, fontsize = 16, family='fantasy')\n",
    "    plt.text(0.4+shift, 1.05, \"n = 2\", color = 'g', \n",
    "                transform=ax[2].transAxes, fontsize = 16, family='fantasy')\n",
    "    plt.text(0.8+shift, 1.05, \"n = 3\", color = 'b',\n",
    "                transform=ax[2].transAxes, fontsize = 16, family='fantasy')\n",
    "   \n",
    "    if inc == 40 or all(found[1:4]): break\n"
   ]
  },
  {
   "cell_type": "code",
   "execution_count": null,
   "id": "8c112d19-6a67-4852-8cf9-78cb68f2d608",
   "metadata": {},
   "outputs": [],
   "source": []
  },
  {
   "cell_type": "code",
   "execution_count": null,
   "id": "19a4770a-ddda-4d9b-bbb6-b0a36b00d701",
   "metadata": {},
   "outputs": [],
   "source": [
    "class fit_polynome_cv:\n",
    "\n",
    "    def __init__(self, data):\n",
    "        self.data = data[['mean', 'heure_depart_min']].dropna(how='any', axis = 0)\n",
    "        self.X = np.array(self.data['heure_depart_min'])\n",
    "        self.Y = np.array(self.data['mean'])\n",
    "        self.X = self.X.reshape(len(self.X),1)\n",
    "        self.Y = self.Y.reshape(len(self.Y),1)\n",
    "\n",
    "    def train(self, pol_order, nb_folds):\n",
    "        self.poly = PolynomialFeatures(degree = pol_order)\n",
    "        self.regr = linear_model.LinearRegression()\n",
    "        self.X_ = self.poly.fit_transform(self.X)\n",
    "        self.result = cross_val_predict(self.regr, self.X_, self.Y, cv = nb_folds)\n",
    "    \n",
    "    def calc_score(self, pol_order, nb_folds):\n",
    "        self.poly = PolynomialFeatures(degree = pol_order)\n",
    "        self.regr = linear_model.LinearRegression()\n",
    "        self.X_ = self.poly.fit_transform(self.X)\n",
    "        self.score = np.mean(cross_val_score(self.regr, self.X_, self.Y,\n",
    "                                             cv = nb_folds, scoring = 'mean_squared_error'))"
   ]
  },
  {
   "cell_type": "code",
   "execution_count": null,
   "id": "02c4e99b-2238-4ae8-ad21-c2b02cdd7326",
   "metadata": {},
   "outputs": [],
   "source": [
    "#id_airport = 1129804 \n",
    "nb_folds = 10\n",
    "print('Max possible number of folds: {} \\n'.format(test2.shape[0]-1))\n",
    "fit2 = fit_polynome_cv(test2)\n",
    "for i in range(1, 8):\n",
    "    fit2.calc_score(i, nb_folds)\n",
    "    print('n={} -> MSE = {}'.format(i, round(abs(fit2.score),3)))"
   ]
  },
  {
   "cell_type": "code",
   "execution_count": null,
   "id": "e7602718-9020-420a-ba8f-2a64c76a9ca0",
   "metadata": {},
   "outputs": [],
   "source": [
    "fit = fit_polynome(test2)\n",
    "fit.split('all')\n",
    "fit.train(pol_order = 2)\n",
    "fit.predict(fit.X)"
   ]
  },
  {
   "cell_type": "code",
   "execution_count": null,
   "id": "7ac5cba4-cfb1-4a9a-8c36-7f88a909f37b",
   "metadata": {},
   "outputs": [],
   "source": [
    "fit2.train(pol_order = 2, nb_folds = nb_folds)"
   ]
  },
  {
   "cell_type": "code",
   "execution_count": null,
   "id": "c51ac6c2-adab-48a1-b041-84983761d414",
   "metadata": {},
   "outputs": [],
   "source": [
    "fig1 = Figure_style(8, 4, 1, 1) ; fig1.pos_update(0, 0)\n",
    "fig1.cust_scatter(fit2.X, fit2.Y, markeredge = True, label = 'initial data points')\n",
    "fig1.cust_plot(fit.X,fit2.result,color=u'#1f77b4',linestyle='--',linewidth=2,label='CV output')\n",
    "fig1.cust_plot(fit.X,fit.result,color=u'#ff7f0e',linewidth = 3,label='final fit')\n",
    "fig1.style(); fig1.draw_legend('upper left')\n",
    "fig1.set_ylabel('Delay (minutes)') ; fig1.set_xlabel('Departure time')\n",
    "#____________________________________\n",
    "# convert and set the x ticks labels\n",
    "fct_convert = lambda x: (int(x/3600) , int(divmod(x,3600)[1]/60))\n",
    "fig1.axs[fig1.ix, fig1.iy].set_xticklabels(['{:2.0f}h{:2.0f}m'.format(*fct_convert(x))\n",
    "                                            for x in fig1.axs[fig1.ix, fig1.iy].get_xticks()]);\n"
   ]
  },
  {
   "cell_type": "code",
   "execution_count": null,
   "id": "6cff1de9-1ca9-4b90-b3f8-ad1fb54c4f3a",
   "metadata": {},
   "outputs": [],
   "source": [
    "score = metrics.mean_squared_error(fit.result, fit2.Y)\n",
    "score"
   ]
  },
  {
   "cell_type": "code",
   "execution_count": null,
   "id": "4478620e-648b-4568-89bc-10b5f8357aa9",
   "metadata": {},
   "outputs": [],
   "source": [
    "test_data = get_flight_delays(df_test, carrier, id_airport, True)\n",
    "test_data = test_data[['mean', 'heure_depart_min']].dropna(how='any', axis = 0)\n",
    "X_test = np.array(test_data['heure_depart_min'])\n",
    "Y_test = np.array(test_data['mean'])\n",
    "X_test = X_test.reshape(len(X_test),1)\n",
    "Y_test = Y_test.reshape(len(Y_test),1)\n",
    "fit.predict(X_test)"
   ]
  },
  {
   "cell_type": "code",
   "execution_count": null,
   "id": "93021186-9174-40c0-b257-a6a80a72f24a",
   "metadata": {},
   "outputs": [],
   "source": [
    "score = metrics.mean_squared_error(fit.result, Y_test)\n",
    "score"
   ]
  },
  {
   "cell_type": "code",
   "execution_count": null,
   "id": "996e06de-44f0-4985-9df2-e3dae53986e7",
   "metadata": {},
   "outputs": [],
   "source": [
    "'Ecart = {:.2f} min'.format(np.sqrt(score))"
   ]
  },
  {
   "cell_type": "code",
   "execution_count": null,
   "id": "ec70bd19-83da-4fc4-9f58-cee7c74ec87c",
   "metadata": {},
   "outputs": [],
   "source": []
  },
  {
   "cell_type": "code",
   "execution_count": null,
   "id": "f3b45925-c79c-4897-9464-27071915d8e6",
   "metadata": {},
   "outputs": [],
   "source": [
    "def get_merged_delays(df, carrier):\n",
    "    liste_airports = df[df['AIRLINE'] == carrier]['ORIGIN_AIRPORT'].unique()\n",
    "    i = 0\n",
    "    liste_columns = ['AIRPORT_ID', 'heure_depart_min', 'mean']\n",
    "    for id_airport in liste_airports:\n",
    "        test2 = get_flight_delays(df, carrier, id_airport, True)\n",
    "        test2.loc[:, 'AIRPORT_ID'] = id_airport\n",
    "        test2 = test2[liste_columns]\n",
    "        test2.dropna(how = 'any', inplace = True)\n",
    "        if i == 0:\n",
    "            merged_df = test2.copy()\n",
    "        else:\n",
    "            merged_df = pd.concat([merged_df, test2], ignore_index = True)\n",
    "        i += 1    \n",
    "    return merged_df"
   ]
  },
  {
   "cell_type": "code",
   "execution_count": null,
   "id": "2f179869-d3e1-42be-91c1-2c4ce826edbd",
   "metadata": {},
   "outputs": [],
   "source": [
    "carrier = 'AA'\n",
    "merged_df = get_merged_delays(df, carrier)\n",
    "merged_df.shape"
   ]
  },
  {
   "cell_type": "code",
   "execution_count": null,
   "id": "fec86d72-7c41-4f23-956b-6f7405dd926c",
   "metadata": {},
   "outputs": [],
   "source": [
    "label_encoder = LabelEncoder()\n",
    "integer_encoded = label_encoder.fit_transform(merged_df['AIRPORT_ID'])\n",
    "#__________________________________________________________\n",
    "# correspondance between the codes and tags of the airports\n",
    "zipped = zip(integer_encoded, merged_df['AIRPORT_ID'])\n",
    "label_airports = list(set(list(zipped)))\n",
    "label_airports.sort(key = lambda x:x[0])\n",
    "label_airports[:5]"
   ]
  },
  {
   "cell_type": "code",
   "execution_count": null,
   "id": "3e304bdd-fb51-4898-a5d7-9c00c83188a7",
   "metadata": {},
   "outputs": [],
   "source": [
    "onehot_encoder = OneHotEncoder(sparse=False)\n",
    "integer_encoded = integer_encoded.reshape(len(integer_encoded), 1)\n",
    "onehot_encoded = onehot_encoder.fit_transform(integer_encoded)\n",
    "b = np.array(merged_df['heure_depart_min'])\n",
    "b = b.reshape(len(b),1)\n",
    "X = np.hstack((onehot_encoded, b))\n",
    "Y = np.array(merged_df['mean'])\n",
    "Y = Y.reshape(len(Y), 1)\n",
    "print(X.shape, Y.shape)"
   ]
  },
  {
   "cell_type": "code",
   "execution_count": null,
   "id": "e45807e3-cffa-4913-90e4-06d7cefad8c0",
   "metadata": {},
   "outputs": [],
   "source": [
    "lm = linear_model.LinearRegression()\n",
    "model = lm.fit(X,Y)\n",
    "predictions = lm.predict(X)\n",
    "print(\"MSE =\", metrics.mean_squared_error(predictions, Y))"
   ]
  },
  {
   "cell_type": "code",
   "execution_count": null,
   "id": "42637298-5df2-44ba-ab57-a77833ac94a4",
   "metadata": {},
   "outputs": [],
   "source": [
    "icount = 0\n",
    "for i, val in enumerate(Y):\n",
    "    if abs(val-predictions[i]) > 15: icount += 1\n",
    "'{:.2f}%'.format(icount / len(predictions) * 100)"
   ]
  },
  {
   "cell_type": "code",
   "execution_count": null,
   "id": "110d3717-b839-4f45-8c3d-aac754471ebb",
   "metadata": {},
   "outputs": [],
   "source": [
    "tips = pd.DataFrame()\n",
    "tips[\"prediction\"] = pd.Series([float(s) for s in predictions]) \n",
    "tips[\"original_data\"] = pd.Series([float(s) for s in Y]) \n",
    "sns.jointplot(x=\"original_data\", y=\"prediction\", data=tips, size = 6, ratio = 7,\n",
    "              joint_kws={'line_kws':{'color':'limegreen'}}, kind='reg')\n",
    "plt.xlabel('Mean delays (min)', fontsize = 15)\n",
    "plt.ylabel('Predictions (min)', fontsize = 15)\n",
    "plt.plot(list(range(-10,25)), list(range(-10,25)), linestyle = ':', color = 'r')\n",
    "sns.plt.show()"
   ]
  },
  {
   "cell_type": "code",
   "execution_count": null,
   "id": "dce8ae8a-ca30-41a7-bad7-3578abe50359",
   "metadata": {},
   "outputs": [],
   "source": [
    "poly = PolynomialFeatures(degree = 2)\n",
    "regr = linear_model.LinearRegression()\n",
    "X_ = poly.fit_transform(X)\n",
    "regr.fit(X_, Y)"
   ]
  },
  {
   "cell_type": "code",
   "execution_count": null,
   "id": "48567142-d267-4c38-9f1f-252818720193",
   "metadata": {},
   "outputs": [],
   "source": [
    "result = regr.predict(X_)\n",
    "print(\"MSE =\", metrics.mean_squared_error(result, Y))"
   ]
  },
  {
   "cell_type": "code",
   "execution_count": null,
   "id": "efa21f35-2377-491f-817d-c6aeb768a14f",
   "metadata": {},
   "outputs": [],
   "source": [
    "icount = 0\n",
    "for i, val in enumerate(Y):\n",
    "    if abs(val-result[i]) > 15: icount += 1\n",
    "'{:.2f}%'.format(icount / len(result) * 100)"
   ]
  },
  {
   "cell_type": "code",
   "execution_count": null,
   "id": "59244959-b23d-4543-90a9-05f7ffad89be",
   "metadata": {},
   "outputs": [],
   "source": [
    "tips = pd.DataFrame()\n",
    "tips[\"prediction\"] = pd.Series([float(s) for s in result]) \n",
    "tips[\"original_data\"] = pd.Series([float(s) for s in Y]) \n",
    "sns.jointplot(x=\"original_data\", y=\"prediction\", data=tips, size = 6, ratio = 7,\n",
    "              joint_kws={'line_kws':{'color':'limegreen'}}, kind='reg')\n",
    "plt.xlabel('Mean delays (min)', fontsize = 15)\n",
    "plt.ylabel('Predictions (min)', fontsize = 15)\n",
    "plt.plot(list(range(-10,25)), list(range(-10,25)), linestyle = ':', color = 'r')\n",
    "sns.plt.show()"
   ]
  },
  {
   "cell_type": "code",
   "execution_count": null,
   "id": "34e84afb-5a36-4b04-9707-db0e0b8ebfb8",
   "metadata": {},
   "outputs": [],
   "source": [
    "X_train, X_test, Y_train, Y_test = train_test_split(X, Y, test_size=0.3)"
   ]
  },
  {
   "cell_type": "code",
   "execution_count": null,
   "id": "70a9ceff-4ab4-4512-924b-079ac641d538",
   "metadata": {},
   "outputs": [],
   "source": [
    "X_train.shape"
   ]
  },
  {
   "cell_type": "code",
   "execution_count": null,
   "id": "d1654138-d8d2-4aae-9033-c73ff9e53585",
   "metadata": {},
   "outputs": [],
   "source": [
    "poly = PolynomialFeatures(degree = 2)\n",
    "regr = linear_model.LinearRegression()\n",
    "X_ = poly.fit_transform(X_train)\n",
    "regr.fit(X_, Y_train)\n",
    "result = regr.predict(X_)\n",
    "score = metrics.mean_squared_error(result, Y_train)\n",
    "print(\"Mean squared error = \", score)"
   ]
  },
  {
   "cell_type": "code",
   "execution_count": null,
   "id": "08988637-5e8b-4d15-869f-b78cd725d476",
   "metadata": {},
   "outputs": [],
   "source": [
    "X_ = poly.fit_transform(X_test)\n",
    "result = regr.predict(X_)\n",
    "score = metrics.mean_squared_error(result, Y_test)\n",
    "print(\"Mean squared error = \", score)"
   ]
  },
  {
   "cell_type": "code",
   "execution_count": null,
   "id": "3e98e446-e61c-4a97-b3d1-c9e3956793b3",
   "metadata": {},
   "outputs": [],
   "source": [
    "somme = 0\n",
    "for valeurs in zip(result, Y_test):\n",
    "    ajout = (float(valeurs[0]) - float(valeurs[1]))**2\n",
    "    somme += ajout\n",
    "    if ajout > 10**4:\n",
    "        print(\"{:<.1f} {:<.1f} {:<.1f}\".format(ajout, float(valeurs[0]), float(valeurs[1])))"
   ]
  },
  {
   "cell_type": "code",
   "execution_count": null,
   "id": "ffe4aa80-1e95-4763-8026-1157a1cfddd5",
   "metadata": {},
   "outputs": [],
   "source": [
    "from sklearn.linear_model import Ridge\n",
    "ridgereg = Ridge(alpha=0.3,normalize=True)\n",
    "poly = PolynomialFeatures(degree = 2)\n",
    "X_ = poly.fit_transform(X_train)\n",
    "ridgereg.fit(X_, Y_train)"
   ]
  },
  {
   "cell_type": "code",
   "execution_count": null,
   "id": "5dcc68af-51eb-493d-bfeb-43a80668da79",
   "metadata": {},
   "outputs": [],
   "source": [
    "X_ = poly.fit_transform(X_test)\n",
    "result = ridgereg.predict(X_)\n",
    "score = metrics.mean_squared_error(result, Y_test)\n",
    "print(\"Mean squared error = \", score)"
   ]
  },
  {
   "cell_type": "code",
   "execution_count": null,
   "id": "dcf59a44-4fcf-409f-845b-57eb4b60eb2b",
   "metadata": {},
   "outputs": [],
   "source": [
    "score_min = 10000\n",
    "for pol_order in range(1, 3):\n",
    "    for alpha in range(0, 20, 2):\n",
    "        ridgereg = Ridge(alpha = alpha/10, normalize=True)\n",
    "        poly = PolynomialFeatures(degree = pol_order)\n",
    "        regr = linear_model.LinearRegression()\n",
    "        X_ = poly.fit_transform(X_train)\n",
    "        ridgereg.fit(X_, Y_train)        \n",
    "        X_ = poly.fit_transform(X_test)\n",
    "        result = ridgereg.predict(X_)\n",
    "        score = metrics.mean_squared_error(result, Y_test)        \n",
    "        if score < score_min:\n",
    "            score_min = score\n",
    "            parameters = [alpha/10, pol_order]\n",
    "        print(\"n={} alpha={} , MSE = {:<0.5}\".format(pol_order, alpha, score))"
   ]
  },
  {
   "cell_type": "code",
   "execution_count": null,
   "id": "20778969-3c6e-422b-95e0-7f3e3ed5737a",
   "metadata": {},
   "outputs": [],
   "source": [
    "ridgereg = Ridge(alpha = parameters[0], normalize=True)\n",
    "poly = PolynomialFeatures(degree = parameters[1])\n",
    "X_ = poly.fit_transform(X)\n",
    "ridgereg.fit(X_, Y)\n",
    "result = ridgereg.predict(X_)\n",
    "score = metrics.mean_squared_error(result, Y)        \n",
    "print(score)"
   ]
  },
  {
   "cell_type": "code",
   "execution_count": null,
   "id": "89296782-97a6-46f8-81fd-388713edea93",
   "metadata": {},
   "outputs": [],
   "source": [
    "carrier = 'AA'\n",
    "merged_df_test = get_merged_delays(df_test, carrier)"
   ]
  },
  {
   "cell_type": "code",
   "execution_count": null,
   "id": "990c218f-d9a0-4b40-8f0f-748e37edbd10",
   "metadata": {},
   "outputs": [],
   "source": [
    "label_conversion = dict()\n",
    "for s in label_airports:\n",
    "    label_conversion[s[1]] = s[0]\n",
    "\n",
    "merged_df_test['AIRPORT_ID'].replace(label_conversion, inplace = True)\n",
    "\n",
    "for index, label in label_airports:\n",
    "    temp = merged_df_test['AIRPORT_ID'] == index\n",
    "    temp = temp.apply(lambda x:1.0 if x else 0.0)\n",
    "    if index == 0:\n",
    "        matrix = np.array(temp)\n",
    "    else:\n",
    "        matrix = np.vstack((matrix, temp))\n",
    "matrix = matrix.T\n",
    "\n",
    "b = np.array(merged_df_test['heure_depart_min'])\n",
    "b = b.reshape(len(b),1)\n",
    "X_test = np.hstack((matrix, b))\n",
    "Y_test = np.array(merged_df_test['mean'])\n",
    "Y_test = Y_test.reshape(len(Y_test), 1)"
   ]
  },
  {
   "cell_type": "code",
   "execution_count": null,
   "id": "3e344e58-be44-43c7-a2b9-ec303ab5b3e3",
   "metadata": {},
   "outputs": [],
   "source": [
    "X_ = poly.fit_transform(X_test)\n",
    "result = ridgereg.predict(X_)\n",
    "score = metrics.mean_squared_error(result, Y_test)\n",
    "'MSE = {:.2f}'.format(score)"
   ]
  },
  {
   "cell_type": "code",
   "execution_count": null,
   "id": "7a488797-ebb6-481d-be39-825132b4dcd8",
   "metadata": {},
   "outputs": [],
   "source": [
    "'Ecart = {:.2f} min'.format(np.sqrt(score))"
   ]
  },
  {
   "cell_type": "code",
   "execution_count": null,
   "id": "75ddd167-6dc9-44d2-aaf6-4349301a1c44",
   "metadata": {},
   "outputs": [],
   "source": []
  },
  {
   "cell_type": "code",
   "execution_count": null,
   "id": "23eaf6f6-bb22-4a22-a2f7-d863f1128404",
   "metadata": {},
   "outputs": [],
   "source": [
    "def create_df(df, carrier):\n",
    "    df2 = df[df['AIRLINE'] == carrier][['SCHEDULED_DEPARTURE','SCHEDULED_ARRIVAL',\n",
    "                                    'ORIGIN_AIRPORT','DESTINATION_AIRPORT','DEPARTURE_DELAY']]\n",
    "    df2.dropna(how = 'any', inplace = True)\n",
    "    df2['weekday'] = df2['SCHEDULED_DEPARTURE'].apply(lambda x:x.weekday())\n",
    "    #____________________\n",
    "    # delete delays > 1h\n",
    "    df2['DEPARTURE_DELAY'] = df2['DEPARTURE_DELAY'].apply(lambda x:x if x < 60 else np.nan)\n",
    "    df2.dropna(how = 'any', inplace = True)\n",
    "    #_________________\n",
    "    # formating times\n",
    "    fct = lambda x:x.hour*3600+x.minute*60+x.second\n",
    "    df2['heure_depart'] = df2['SCHEDULED_DEPARTURE'].apply(lambda x:x.time())\n",
    "    df2['heure_depart'] = df2['heure_depart'].apply(fct)\n",
    "    df2['heure_arrivee'] = df2['SCHEDULED_ARRIVAL'].apply(fct)\n",
    "    df3 = df2.groupby(['heure_depart', 'heure_arrivee', 'ORIGIN_AIRPORT'],\n",
    "                      as_index = False).mean()\n",
    "    return df3"
   ]
  },
  {
   "cell_type": "code",
   "execution_count": null,
   "id": "3a0358bb-3f6b-4fe6-a6cc-deeb0619c8b0",
   "metadata": {},
   "outputs": [],
   "source": [
    "df3 = create_df(df, carrier)    \n",
    "df3[:5]"
   ]
  },
  {
   "cell_type": "code",
   "execution_count": null,
   "id": "8562b0f5-c592-4e5e-9334-873da9e624ea",
   "metadata": {},
   "outputs": [],
   "source": [
    "label_encoder = LabelEncoder()\n",
    "integer_encoded = label_encoder.fit_transform(df3['ORIGIN_AIRPORT'])\n",
    "#_________________________________________________________\n",
    "zipped = zip(integer_encoded, df3['ORIGIN_AIRPORT'])\n",
    "label_airports = list(set(list(zipped)))\n",
    "label_airports.sort(key = lambda x:x[0])\n",
    "#_________________________________________________\n",
    "onehot_encoder = OneHotEncoder(sparse=False)\n",
    "integer_encoded = integer_encoded.reshape(len(integer_encoded), 1)\n",
    "onehot_encoded = onehot_encoder.fit_transform(integer_encoded)\n",
    "#_________________________________________________\n",
    "b = np.array(df3[['heure_depart', 'heure_arrivee']])\n",
    "X = np.hstack((onehot_encoded, b))\n",
    "Y = np.array(df3['DEPARTURE_DELAY'])\n",
    "Y = Y.reshape(len(Y), 1)"
   ]
  },
  {
   "cell_type": "code",
   "execution_count": null,
   "id": "93d5ffb1-935a-4c29-affe-996c8227916c",
   "metadata": {},
   "outputs": [],
   "source": [
    "X_train, X_test, Y_train, Y_test = train_test_split(X, Y, test_size=0.3)"
   ]
  },
  {
   "cell_type": "code",
   "execution_count": null,
   "id": "c022642a-4fa2-4687-b1d4-de9ebd5e4bae",
   "metadata": {},
   "outputs": [],
   "source": [
    "score_min = 10000\n",
    "for pol_order in range(1, 3):\n",
    "    for alpha in range(0, 20, 2):\n",
    "        ridgereg = Ridge(alpha = alpha/10, normalize=True)\n",
    "        poly = PolynomialFeatures(degree = pol_order)\n",
    "        regr = linear_model.LinearRegression()\n",
    "        X_ = poly.fit_transform(X_train)\n",
    "        ridgereg.fit(X_, Y_train)\n",
    "        \n",
    "        X_ = poly.fit_transform(X_test)\n",
    "        result = ridgereg.predict(X_)\n",
    "        score = metrics.mean_squared_error(result, Y_test)\n",
    "        \n",
    "        if score < score_min:\n",
    "            score_min = score\n",
    "            parameters = [alpha, pol_order]\n",
    "\n",
    "        print(\"n={} alpha={} , MSE = {:<0.5}\".format(pol_order, alpha/10, score))"
   ]
  },
  {
   "cell_type": "code",
   "execution_count": null,
   "id": "f4e7a7b0-8ed6-4e6f-936b-00b2b839b2eb",
   "metadata": {},
   "outputs": [],
   "source": [
    "ridgereg = Ridge(alpha = parameters[0], normalize=True)\n",
    "poly = PolynomialFeatures(degree = parameters[1])\n",
    "X_ = poly.fit_transform(X)\n",
    "ridgereg.fit(X_, Y)\n",
    "result = ridgereg.predict(X_)\n",
    "score = metrics.mean_squared_error(result, Y)        \n",
    "print(score)"
   ]
  },
  {
   "cell_type": "code",
   "execution_count": null,
   "id": "a415b011-07ac-48e6-8155-4563f57cfae3",
   "metadata": {},
   "outputs": [],
   "source": [
    "df3 = create_df(df_test, carrier)    \n",
    "df3[:5]"
   ]
  },
  {
   "cell_type": "code",
   "execution_count": null,
   "id": "e8442982-fb1e-47e9-a2d7-d2aa87812233",
   "metadata": {},
   "outputs": [],
   "source": [
    "label_conversion = dict()\n",
    "for s in label_airports:\n",
    "    label_conversion[s[1]] = s[0]\n",
    "\n",
    "df3['ORIGIN_AIRPORT'].replace(label_conversion, inplace = True)\n",
    "\n",
    "for index, label in label_airports:\n",
    "    temp = df3['ORIGIN_AIRPORT'] == index\n",
    "    temp = temp.apply(lambda x:1.0 if x else 0.0)\n",
    "    if index == 0:\n",
    "        matrix = np.array(temp)\n",
    "    else:\n",
    "        matrix = np.vstack((matrix, temp))\n",
    "matrix = matrix.T\n",
    "\n",
    "b = np.array(df3[['heure_depart', 'heure_arrivee']])\n",
    "X_test = np.hstack((matrix, b))\n",
    "Y_test = np.array(df3['DEPARTURE_DELAY'])\n",
    "Y_test = Y_test.reshape(len(Y_test), 1)"
   ]
  },
  {
   "cell_type": "code",
   "execution_count": null,
   "id": "886e361d-614b-4891-8fed-a5d11e2d185f",
   "metadata": {},
   "outputs": [],
   "source": [
    "X_ = poly.fit_transform(X_test)\n",
    "result = ridgereg.predict(X_)\n",
    "score = metrics.mean_squared_error(result, Y_test)\n",
    "print('MSE = {}'.format(round(score, 2)))"
   ]
  },
  {
   "cell_type": "code",
   "execution_count": null,
   "id": "78f5b937-df27-47c0-ba1c-880544150ea0",
   "metadata": {},
   "outputs": [],
   "source": [
    "'Ecart = {:.2f} min'.format(np.sqrt(score))"
   ]
  },
  {
   "cell_type": "code",
   "execution_count": null,
   "id": "780d5871-0418-49b2-a483-88c933cf71ea",
   "metadata": {},
   "outputs": [],
   "source": [
    "icount = 0\n",
    "for i, val in enumerate(Y_test):\n",
    "    if abs(val-predictions[i]) > 15: icount += 1\n",
    "print(\"ecarts > 15 minutes: {}%\".format(round((icount / len(predictions))*100,3)))"
   ]
  },
  {
   "cell_type": "code",
   "execution_count": null,
   "id": "011eed2b-f04e-41d8-9ad9-7572d9bfc15f",
   "metadata": {},
   "outputs": [],
   "source": [
    "tips = pd.DataFrame()\n",
    "tips[\"prediction\"] = pd.Series([float(s) for s in predictions]) \n",
    "tips[\"original_data\"] = pd.Series([float(s) for s in Y_test]) \n",
    "sns.jointplot(x=\"original_data\", y=\"prediction\", data=tips, size = 6, ratio = 7,\n",
    "              joint_kws={'line_kws':{'color':'limegreen'}}, kind='reg')\n",
    "plt.xlabel('Mean delays (min)', fontsize = 15)\n",
    "plt.ylabel('Predictions (min)', fontsize = 15)\n",
    "plt.plot(list(range(-10,25)), list(range(-10,25)), linestyle = ':', color = 'r')\n",
    "sns.plt.show()"
   ]
  },
  {
   "cell_type": "code",
   "execution_count": null,
   "id": "b6968678-19a5-4b73-ac23-5be225e94844",
   "metadata": {},
   "outputs": [],
   "source": []
  },
  {
   "cell_type": "code",
   "execution_count": null,
   "id": "8f33f8b8-b589-49db-8ece-499fc882a026",
   "metadata": {},
   "outputs": [],
   "source": []
  }
 ],
 "metadata": {
  "kernelspec": {
   "display_name": "Python 3 (ipykernel)",
   "language": "python",
   "name": "python3"
  },
  "language_info": {
   "codemirror_mode": {
    "name": "ipython",
    "version": 3
   },
   "file_extension": ".py",
   "mimetype": "text/x-python",
   "name": "python",
   "nbconvert_exporter": "python",
   "pygments_lexer": "ipython3",
   "version": "3.9.19"
  }
 },
 "nbformat": 4,
 "nbformat_minor": 5
}
