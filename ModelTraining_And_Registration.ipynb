{
 "cells": [
  {
   "cell_type": "markdown",
   "id": "61df1e31-0739-41c3-be2c-ecf44e812231",
   "metadata": {},
   "source": [
    "# Use TTH_Template Custom Notebook template"
   ]
  },
  {
   "cell_type": "code",
   "execution_count": 1,
   "id": "371c6a4c-4acc-4404-827c-5c9fe622c7d3",
   "metadata": {},
   "outputs": [],
   "source": [
    "import datetime, warnings, scipy \n",
    "import pandas as pd\n",
    "import numpy as np\n",
    "\n",
    "import matplotlib as mpl\n",
    "import matplotlib.pyplot as plt\n",
    "import matplotlib.patches as patches\n",
    "from matplotlib.patches import ConnectionPatch\n",
    "from matplotlib.gridspec import GridSpec\n",
    "from mpl_toolkits.basemap import Basemap\n",
    "import seaborn as sns\n",
    "\n",
    "from collections import OrderedDict\n",
    "\n",
    "from scipy.optimize import curve_fit\n",
    "\n",
    "from sklearn import metrics, linear_model\n",
    "from sklearn.preprocessing import PolynomialFeatures, StandardScaler\n",
    "from sklearn.preprocessing import LabelEncoder, OneHotEncoder\n",
    "from sklearn.model_selection import train_test_split, cross_val_score, cross_val_predict\n",
    "\n",
    "plt.rcParams[\"patch.force_edgecolor\"] = True\n",
    "plt.style.use('fivethirtyeight')\n",
    "mpl.rc('patch', edgecolor = 'dimgray', linewidth=1)\n",
    "from IPython.core.interactiveshell import InteractiveShell\n",
    "InteractiveShell.ast_node_interactivity = \"last_expr\"\n",
    "pd.options.display.max_columns = 50\n",
    "%matplotlib inline\n",
    "warnings.filterwarnings(\"ignore\")\n",
    "\n",
    "from fosforml.model_manager.snowflakesession import get_session\n",
    "from fosforml import register_model"
   ]
  },
  {
   "cell_type": "markdown",
   "id": "e3aa2738-718f-4250-8f01-33dda51aab86",
   "metadata": {},
   "source": [
    "# Read data from Snowflake"
   ]
  },
  {
   "cell_type": "code",
   "execution_count": 2,
   "id": "fea86163-d9b4-48e3-98e7-221394405570",
   "metadata": {},
   "outputs": [],
   "source": [
    "my_session = get_session()"
   ]
  },
  {
   "cell_type": "code",
   "execution_count": 4,
   "id": "c0861512-a2d5-47b2-9891-91fcffb4aa8a",
   "metadata": {},
   "outputs": [],
   "source": [
    "table_name = 'FLIGHTS'\n",
    "\n",
    "sf_df = my_session.sql(\"select * from {}\".format(table_name))\n",
    "df = sf_df.to_pandas()"
   ]
  },
  {
   "cell_type": "code",
   "execution_count": 5,
   "id": "61b157ef-68f5-482e-b7d2-db5877be3192",
   "metadata": {},
   "outputs": [
    {
     "name": "stdout",
     "output_type": "stream",
     "text": [
      "Dataframe dimensions: (5819079, 31)\n"
     ]
    }
   ],
   "source": [
    "print('Dataframe dimensions:', df.shape)"
   ]
  },
  {
   "cell_type": "code",
   "execution_count": 6,
   "id": "b7a28ae8-c7f2-4452-9f78-faae09215d4d",
   "metadata": {},
   "outputs": [
    {
     "name": "stdout",
     "output_type": "stream",
     "text": [
      "<class 'pandas.core.frame.DataFrame'>\n",
      "RangeIndex: 5819079 entries, 0 to 5819078\n",
      "Data columns (total 31 columns):\n",
      " #   Column                    Dtype  \n",
      "---  ------                    -----  \n",
      " 0   YEAR                      int16  \n",
      " 1   MONTH                     int8   \n",
      " 2   DAY                       int8   \n",
      " 3   DAY_OF_WEEK               int8   \n",
      " 4   AIRLINE__CODE             object \n",
      " 5   FLIGHT_NUMBER             int16  \n",
      " 6   TAIL_NUMBER               object \n",
      " 7   ORIGIN_AIRPORT_CODE       object \n",
      " 8   DESTINATION_AIRPORT_CODE  object \n",
      " 9   SCHEDULED_DEPARTURE       int16  \n",
      " 10  DEPARTURE_TIME            float64\n",
      " 11  DEPARTURE_DELAY           float64\n",
      " 12  TAXI_OUT                  float64\n",
      " 13  WHEELS_OFF                float64\n",
      " 14  SCHEDULED_TIME            float64\n",
      " 15  ELAPSED_TIME              float64\n",
      " 16  AIR_TIME                  float64\n",
      " 17  DISTANCE                  int16  \n",
      " 18  WHEELS_ON                 float64\n",
      " 19  TAXI_IN                   float64\n",
      " 20  SCHEDULED_ARRIVAL         int16  \n",
      " 21  ARRIVAL_TIME              float64\n",
      " 22  ARRIVAL_DELAY             float64\n",
      " 23  DIVERTED                  int8   \n",
      " 24  CANCELLED                 int8   \n",
      " 25  CANCELLATION_REASON       object \n",
      " 26  AIR_SYSTEM_DELAY          float64\n",
      " 27  SECURITY_DELAY            float64\n",
      " 28  AIRLINE_DELAY             float64\n",
      " 29  LATE_AIRCRAFT_DELAY       float64\n",
      " 30  WEATHER_DELAY             float64\n",
      "dtypes: float64(16), int16(5), int8(5), object(5)\n",
      "memory usage: 1015.6+ MB\n"
     ]
    }
   ],
   "source": [
    "df.info()"
   ]
  },
  {
   "cell_type": "code",
   "execution_count": null,
   "id": "f3c5539a-683f-4916-8ee0-8624cc55d5ac",
   "metadata": {},
   "outputs": [],
   "source": [
    "pd.DataFrame(df.isnull().sum()).T.rename(index={0:'null values (nb)'})"
   ]
  },
  {
   "cell_type": "code",
   "execution_count": 11,
   "id": "5782da12-0c4c-4a2c-bdb7-81f996d17d4f",
   "metadata": {},
   "outputs": [
    {
     "data": {
      "text/html": [
       "<div>\n",
       "<style scoped>\n",
       "    .dataframe tbody tr th:only-of-type {\n",
       "        vertical-align: middle;\n",
       "    }\n",
       "\n",
       "    .dataframe tbody tr th {\n",
       "        vertical-align: top;\n",
       "    }\n",
       "\n",
       "    .dataframe thead th {\n",
       "        text-align: right;\n",
       "    }\n",
       "</style>\n",
       "<table border=\"1\" class=\"dataframe\">\n",
       "  <thead>\n",
       "    <tr style=\"text-align: right;\">\n",
       "      <th></th>\n",
       "      <th>YEAR</th>\n",
       "      <th>MONTH</th>\n",
       "      <th>DAY</th>\n",
       "      <th>DAY_OF_WEEK</th>\n",
       "      <th>AIRLINE__CODE</th>\n",
       "      <th>FLIGHT_NUMBER</th>\n",
       "      <th>TAIL_NUMBER</th>\n",
       "      <th>ORIGIN_AIRPORT_CODE</th>\n",
       "      <th>DESTINATION_AIRPORT_CODE</th>\n",
       "      <th>SCHEDULED_DEPARTURE</th>\n",
       "      <th>DEPARTURE_TIME</th>\n",
       "      <th>DEPARTURE_DELAY</th>\n",
       "      <th>TAXI_OUT</th>\n",
       "      <th>WHEELS_OFF</th>\n",
       "      <th>SCHEDULED_TIME</th>\n",
       "      <th>ELAPSED_TIME</th>\n",
       "      <th>AIR_TIME</th>\n",
       "      <th>DISTANCE</th>\n",
       "      <th>WHEELS_ON</th>\n",
       "      <th>TAXI_IN</th>\n",
       "      <th>SCHEDULED_ARRIVAL</th>\n",
       "      <th>ARRIVAL_TIME</th>\n",
       "      <th>ARRIVAL_DELAY</th>\n",
       "      <th>DIVERTED</th>\n",
       "      <th>CANCELLED</th>\n",
       "      <th>CANCELLATION_REASON</th>\n",
       "      <th>AIR_SYSTEM_DELAY</th>\n",
       "      <th>SECURITY_DELAY</th>\n",
       "      <th>AIRLINE_DELAY</th>\n",
       "      <th>LATE_AIRCRAFT_DELAY</th>\n",
       "      <th>WEATHER_DELAY</th>\n",
       "    </tr>\n",
       "  </thead>\n",
       "  <tbody>\n",
       "    <tr>\n",
       "      <th>0</th>\n",
       "      <td>int16</td>\n",
       "      <td>int8</td>\n",
       "      <td>int8</td>\n",
       "      <td>int8</td>\n",
       "      <td>object</td>\n",
       "      <td>int16</td>\n",
       "      <td>object</td>\n",
       "      <td>object</td>\n",
       "      <td>object</td>\n",
       "      <td>int16</td>\n",
       "      <td>float64</td>\n",
       "      <td>float64</td>\n",
       "      <td>float64</td>\n",
       "      <td>float64</td>\n",
       "      <td>float64</td>\n",
       "      <td>float64</td>\n",
       "      <td>float64</td>\n",
       "      <td>int16</td>\n",
       "      <td>float64</td>\n",
       "      <td>float64</td>\n",
       "      <td>int16</td>\n",
       "      <td>float64</td>\n",
       "      <td>float64</td>\n",
       "      <td>int8</td>\n",
       "      <td>int8</td>\n",
       "      <td>object</td>\n",
       "      <td>float64</td>\n",
       "      <td>float64</td>\n",
       "      <td>float64</td>\n",
       "      <td>float64</td>\n",
       "      <td>float64</td>\n",
       "    </tr>\n",
       "    <tr>\n",
       "      <th>1</th>\n",
       "      <td>0</td>\n",
       "      <td>0</td>\n",
       "      <td>0</td>\n",
       "      <td>0</td>\n",
       "      <td>0</td>\n",
       "      <td>0</td>\n",
       "      <td>14721</td>\n",
       "      <td>0</td>\n",
       "      <td>0</td>\n",
       "      <td>0</td>\n",
       "      <td>86153</td>\n",
       "      <td>86153</td>\n",
       "      <td>89047</td>\n",
       "      <td>89047</td>\n",
       "      <td>6</td>\n",
       "      <td>105071</td>\n",
       "      <td>105071</td>\n",
       "      <td>0</td>\n",
       "      <td>92513</td>\n",
       "      <td>92513</td>\n",
       "      <td>0</td>\n",
       "      <td>92513</td>\n",
       "      <td>105071</td>\n",
       "      <td>0</td>\n",
       "      <td>0</td>\n",
       "      <td>5729195</td>\n",
       "      <td>4755640</td>\n",
       "      <td>4755640</td>\n",
       "      <td>4755640</td>\n",
       "      <td>4755640</td>\n",
       "      <td>4755640</td>\n",
       "    </tr>\n",
       "    <tr>\n",
       "      <th>2</th>\n",
       "      <td>0.0</td>\n",
       "      <td>0.0</td>\n",
       "      <td>0.0</td>\n",
       "      <td>0.0</td>\n",
       "      <td>0.0</td>\n",
       "      <td>0.0</td>\n",
       "      <td>0.252978</td>\n",
       "      <td>0.0</td>\n",
       "      <td>0.0</td>\n",
       "      <td>0.0</td>\n",
       "      <td>1.480526</td>\n",
       "      <td>1.480526</td>\n",
       "      <td>1.530259</td>\n",
       "      <td>1.530259</td>\n",
       "      <td>0.000103</td>\n",
       "      <td>1.805629</td>\n",
       "      <td>1.805629</td>\n",
       "      <td>0.0</td>\n",
       "      <td>1.589822</td>\n",
       "      <td>1.589822</td>\n",
       "      <td>0.0</td>\n",
       "      <td>1.589822</td>\n",
       "      <td>1.805629</td>\n",
       "      <td>0.0</td>\n",
       "      <td>0.0</td>\n",
       "      <td>98.455357</td>\n",
       "      <td>81.72496</td>\n",
       "      <td>81.72496</td>\n",
       "      <td>81.72496</td>\n",
       "      <td>81.72496</td>\n",
       "      <td>81.72496</td>\n",
       "    </tr>\n",
       "  </tbody>\n",
       "</table>\n",
       "</div>"
      ],
      "text/plain": [
       "    YEAR MONTH   DAY DAY_OF_WEEK AIRLINE__CODE FLIGHT_NUMBER TAIL_NUMBER  \\\n",
       "0  int16  int8  int8        int8        object         int16      object   \n",
       "1      0     0     0           0             0             0       14721   \n",
       "2    0.0   0.0   0.0         0.0           0.0           0.0    0.252978   \n",
       "\n",
       "  ORIGIN_AIRPORT_CODE DESTINATION_AIRPORT_CODE SCHEDULED_DEPARTURE  \\\n",
       "0              object                   object               int16   \n",
       "1                   0                        0                   0   \n",
       "2                 0.0                      0.0                 0.0   \n",
       "\n",
       "  DEPARTURE_TIME DEPARTURE_DELAY  TAXI_OUT WHEELS_OFF SCHEDULED_TIME  \\\n",
       "0        float64         float64   float64    float64        float64   \n",
       "1          86153           86153     89047      89047              6   \n",
       "2       1.480526        1.480526  1.530259   1.530259       0.000103   \n",
       "\n",
       "  ELAPSED_TIME  AIR_TIME DISTANCE WHEELS_ON   TAXI_IN SCHEDULED_ARRIVAL  \\\n",
       "0      float64   float64    int16   float64   float64             int16   \n",
       "1       105071    105071        0     92513     92513                 0   \n",
       "2     1.805629  1.805629      0.0  1.589822  1.589822               0.0   \n",
       "\n",
       "  ARRIVAL_TIME ARRIVAL_DELAY DIVERTED CANCELLED CANCELLATION_REASON  \\\n",
       "0      float64       float64     int8      int8              object   \n",
       "1        92513        105071        0         0             5729195   \n",
       "2     1.589822      1.805629      0.0       0.0           98.455357   \n",
       "\n",
       "  AIR_SYSTEM_DELAY SECURITY_DELAY AIRLINE_DELAY LATE_AIRCRAFT_DELAY  \\\n",
       "0          float64        float64       float64             float64   \n",
       "1          4755640        4755640       4755640             4755640   \n",
       "2         81.72496       81.72496      81.72496            81.72496   \n",
       "\n",
       "  WEATHER_DELAY  \n",
       "0       float64  \n",
       "1       4755640  \n",
       "2      81.72496  "
      ]
     },
     "execution_count": 11,
     "metadata": {},
     "output_type": "execute_result"
    }
   ],
   "source": [
    "# gives some infos on columns types and number of null values\n",
    "tab_info=pd.DataFrame(df.dtypes).T.rename(index={0:'column type'})\n",
    "tab_info = pd.concat([tab_info,pd.DataFrame(df.isnull().sum()).T.rename(index={0:'null values (nb)'})], ignore_index=True)\n",
    "tab_info = pd.concat([tab_info,pd.DataFrame(df.isnull().sum()/df.shape[0]*100).T.rename(index={0:'null values (%)'})],ignore_index=True)\n",
    "tab_info"
   ]
  },
  {
   "cell_type": "code",
   "execution_count": 13,
   "id": "2f637ed8-f385-446a-bde6-ab85fe5046e1",
   "metadata": {},
   "outputs": [],
   "source": [
    "#table_name = 'FLIGHTS_FULL'\n",
    "table_name = 'AIRPORTS'\n",
    "\n",
    "sf_df = my_session.sql(\"select * from {}\".format(table_name))\n",
    "airports = sf_df.to_pandas()"
   ]
  },
  {
   "cell_type": "code",
   "execution_count": 14,
   "id": "ec15218e-d6a5-46e4-a8ff-16da8ae7dbe4",
   "metadata": {},
   "outputs": [
    {
     "data": {
      "text/plain": [
       "(322, 7)"
      ]
     },
     "execution_count": 14,
     "metadata": {},
     "output_type": "execute_result"
    }
   ],
   "source": [
    "airports.shape"
   ]
  },
  {
   "cell_type": "code",
   "execution_count": 15,
   "id": "fa478d0c-ed15-4cdf-a449-a49877407f1a",
   "metadata": {},
   "outputs": [
    {
     "name": "stdout",
     "output_type": "stream",
     "text": [
      "<class 'pandas.core.frame.DataFrame'>\n",
      "RangeIndex: 322 entries, 0 to 321\n",
      "Data columns (total 7 columns):\n",
      " #   Column     Non-Null Count  Dtype  \n",
      "---  ------     --------------  -----  \n",
      " 0   IATA_CODE  322 non-null    object \n",
      " 1   AIRPORT    322 non-null    object \n",
      " 2   CITY       322 non-null    object \n",
      " 3   STATE      322 non-null    object \n",
      " 4   COUNTRY    322 non-null    object \n",
      " 5   LATITUDE   319 non-null    float64\n",
      " 6   LONGITUDE  319 non-null    float64\n",
      "dtypes: float64(2), object(5)\n",
      "memory usage: 17.7+ KB\n"
     ]
    }
   ],
   "source": [
    "airports.info()"
   ]
  },
  {
   "cell_type": "code",
   "execution_count": 17,
   "id": "a02a2169-732f-440b-b8d2-5305c0eb683c",
   "metadata": {},
   "outputs": [],
   "source": [
    "count_flights = df['IATA_CODE'].value_counts()"
   ]
  },
  {
   "cell_type": "code",
   "execution_count": 18,
   "id": "a725391f-382c-4657-abdc-ea4087029440",
   "metadata": {},
   "outputs": [
    {
     "data": {
      "text/plain": [
       "IATA_CODE\n",
       "YUM    1\n",
       "ABE    1\n",
       "SIT    1\n",
       "SJC    1\n",
       "SJT    1\n",
       "      ..\n",
       "ACK    1\n",
       "ACT    1\n",
       "ACV    1\n",
       "ACY    1\n",
       "ADK    1\n",
       "Name: count, Length: 322, dtype: int64"
      ]
     },
     "execution_count": 18,
     "metadata": {},
     "output_type": "execute_result"
    }
   ],
   "source": [
    "count_flights"
   ]
  },
  {
   "cell_type": "code",
   "execution_count": null,
   "id": "57ffefb2-4158-4b7f-ad8a-73fa4b7b08f8",
   "metadata": {},
   "outputs": [],
   "source": [
    "#___________________________\n",
    "plt.figure(figsize=(11,11))\n",
    "#________________________________________\n",
    "# define properties of markers and labels\n",
    "colors = ['yellow', 'red', 'lightblue', 'purple', 'green', 'orange']\n",
    "size_limits = [1, 100, 1000, 10000, 100000, 1000000]\n",
    "labels = []\n",
    "for i in range(len(size_limits)-1):\n",
    "    labels.append(\"{} <.< {}\".format(size_limits[i], size_limits[i+1])) \n",
    "#____________________________________________________________\n",
    "map = Basemap(resolution='i',llcrnrlon=-180, urcrnrlon=-50,\n",
    "              llcrnrlat=10, urcrnrlat=75, lat_0=0, lon_0=0,)\n",
    "map.shadedrelief()\n",
    "map.drawcoastlines()\n",
    "map.drawcountries(linewidth = 3)\n",
    "map.drawstates(color='0.3')\n",
    "#_____________________\n",
    "# put airports on map\n",
    "for index, (code, y,x) in airports[['IATA_CODE', 'LATITUDE', 'LONGITUDE']].iterrows():\n",
    "    x, y = map(x, y)\n",
    "    isize = [i for i, val in enumerate(size_limits) if val < count_flights[code]]\n",
    "    ind = isize[-1]\n",
    "    map.plot(x, y, marker='o', markersize = ind+5, markeredgewidth = 1, color = colors[ind],\n",
    "             markeredgecolor='k', label = labels[ind])\n",
    "#_____________________________________________\n",
    "# remove duplicate labels and set their order\n",
    "handles, labels = plt.gca().get_legend_handles_labels()\n",
    "by_label = OrderedDict(zip(labels, handles))\n",
    "key_order = ('1 <.< 100', '100 <.< 1000', '1000 <.< 10000',\n",
    "             '10000 <.< 100000', '100000 <.< 1000000')\n",
    "new_label = OrderedDict()\n",
    "for key in key_order:\n",
    "    new_label[key] = by_label[key]\n",
    "plt.legend(new_label.values(), new_label.keys(), loc = 1, prop= {'size':11},\n",
    "           title='Number of flights per year', frameon = True, framealpha = 1)\n",
    "plt.show()"
   ]
  },
  {
   "cell_type": "code",
   "execution_count": 19,
   "id": "d271182d-88b0-404e-b64a-b2c5dcfc846b",
   "metadata": {},
   "outputs": [
    {
     "ename": "KeyError",
     "evalue": "'MONTH'",
     "output_type": "error",
     "traceback": [
      "\u001b[0;31m---------------------------------------------------------------------------\u001b[0m",
      "\u001b[0;31mKeyError\u001b[0m                                  Traceback (most recent call last)",
      "File \u001b[0;32m/opt/conda/lib/python3.9/site-packages/pandas/core/indexes/base.py:3802\u001b[0m, in \u001b[0;36mIndex.get_loc\u001b[0;34m(self, key)\u001b[0m\n\u001b[1;32m   3801\u001b[0m \u001b[38;5;28;01mtry\u001b[39;00m:\n\u001b[0;32m-> 3802\u001b[0m     \u001b[38;5;28;01mreturn\u001b[39;00m \u001b[38;5;28;43mself\u001b[39;49m\u001b[38;5;241;43m.\u001b[39;49m\u001b[43m_engine\u001b[49m\u001b[38;5;241;43m.\u001b[39;49m\u001b[43mget_loc\u001b[49m\u001b[43m(\u001b[49m\u001b[43mcasted_key\u001b[49m\u001b[43m)\u001b[49m\n\u001b[1;32m   3803\u001b[0m \u001b[38;5;28;01mexcept\u001b[39;00m \u001b[38;5;167;01mKeyError\u001b[39;00m \u001b[38;5;28;01mas\u001b[39;00m err:\n",
      "File \u001b[0;32mindex.pyx:153\u001b[0m, in \u001b[0;36mpandas._libs.index.IndexEngine.get_loc\u001b[0;34m()\u001b[0m\n",
      "File \u001b[0;32mindex.pyx:182\u001b[0m, in \u001b[0;36mpandas._libs.index.IndexEngine.get_loc\u001b[0;34m()\u001b[0m\n",
      "File \u001b[0;32mpandas/_libs/hashtable_class_helper.pxi:7081\u001b[0m, in \u001b[0;36mpandas._libs.hashtable.PyObjectHashTable.get_item\u001b[0;34m()\u001b[0m\n",
      "File \u001b[0;32mpandas/_libs/hashtable_class_helper.pxi:7089\u001b[0m, in \u001b[0;36mpandas._libs.hashtable.PyObjectHashTable.get_item\u001b[0;34m()\u001b[0m\n",
      "\u001b[0;31mKeyError\u001b[0m: 'MONTH'",
      "\nThe above exception was the direct cause of the following exception:\n",
      "\u001b[0;31mKeyError\u001b[0m                                  Traceback (most recent call last)",
      "Cell \u001b[0;32mIn[19], line 1\u001b[0m\n\u001b[0;32m----> 1\u001b[0m df \u001b[38;5;241m=\u001b[39m df[\u001b[43mdf\u001b[49m\u001b[43m[\u001b[49m\u001b[38;5;124;43m'\u001b[39;49m\u001b[38;5;124;43mMONTH\u001b[39;49m\u001b[38;5;124;43m'\u001b[39;49m\u001b[43m]\u001b[49m \u001b[38;5;241m==\u001b[39m \u001b[38;5;241m1\u001b[39m]\n",
      "File \u001b[0;32m/opt/conda/lib/python3.9/site-packages/pandas/core/frame.py:4090\u001b[0m, in \u001b[0;36mDataFrame.__getitem__\u001b[0;34m(self, key)\u001b[0m\n\u001b[1;32m   4088\u001b[0m \u001b[38;5;28;01mif\u001b[39;00m \u001b[38;5;28mself\u001b[39m\u001b[38;5;241m.\u001b[39mcolumns\u001b[38;5;241m.\u001b[39mnlevels \u001b[38;5;241m>\u001b[39m \u001b[38;5;241m1\u001b[39m:\n\u001b[1;32m   4089\u001b[0m     \u001b[38;5;28;01mreturn\u001b[39;00m \u001b[38;5;28mself\u001b[39m\u001b[38;5;241m.\u001b[39m_getitem_multilevel(key)\n\u001b[0;32m-> 4090\u001b[0m indexer \u001b[38;5;241m=\u001b[39m \u001b[38;5;28;43mself\u001b[39;49m\u001b[38;5;241;43m.\u001b[39;49m\u001b[43mcolumns\u001b[49m\u001b[38;5;241;43m.\u001b[39;49m\u001b[43mget_loc\u001b[49m\u001b[43m(\u001b[49m\u001b[43mkey\u001b[49m\u001b[43m)\u001b[49m\n\u001b[1;32m   4091\u001b[0m \u001b[38;5;28;01mif\u001b[39;00m is_integer(indexer):\n\u001b[1;32m   4092\u001b[0m     indexer \u001b[38;5;241m=\u001b[39m [indexer]\n",
      "File \u001b[0;32m/opt/conda/lib/python3.9/site-packages/pandas/core/indexes/base.py:3809\u001b[0m, in \u001b[0;36mIndex.get_loc\u001b[0;34m(self, key)\u001b[0m\n\u001b[1;32m   3804\u001b[0m     \u001b[38;5;28;01mif\u001b[39;00m \u001b[38;5;28misinstance\u001b[39m(casted_key, \u001b[38;5;28mslice\u001b[39m) \u001b[38;5;129;01mor\u001b[39;00m (\n\u001b[1;32m   3805\u001b[0m         \u001b[38;5;28misinstance\u001b[39m(casted_key, abc\u001b[38;5;241m.\u001b[39mIterable)\n\u001b[1;32m   3806\u001b[0m         \u001b[38;5;129;01mand\u001b[39;00m \u001b[38;5;28many\u001b[39m(\u001b[38;5;28misinstance\u001b[39m(x, \u001b[38;5;28mslice\u001b[39m) \u001b[38;5;28;01mfor\u001b[39;00m x \u001b[38;5;129;01min\u001b[39;00m casted_key)\n\u001b[1;32m   3807\u001b[0m     ):\n\u001b[1;32m   3808\u001b[0m         \u001b[38;5;28;01mraise\u001b[39;00m InvalidIndexError(key)\n\u001b[0;32m-> 3809\u001b[0m     \u001b[38;5;28;01mraise\u001b[39;00m \u001b[38;5;167;01mKeyError\u001b[39;00m(key) \u001b[38;5;28;01mfrom\u001b[39;00m \u001b[38;5;21;01merr\u001b[39;00m\n\u001b[1;32m   3810\u001b[0m \u001b[38;5;28;01mexcept\u001b[39;00m \u001b[38;5;167;01mTypeError\u001b[39;00m:\n\u001b[1;32m   3811\u001b[0m     \u001b[38;5;66;03m# If we have a listlike key, _check_indexing_error will raise\u001b[39;00m\n\u001b[1;32m   3812\u001b[0m     \u001b[38;5;66;03m#  InvalidIndexError. Otherwise we fall through and re-raise\u001b[39;00m\n\u001b[1;32m   3813\u001b[0m     \u001b[38;5;66;03m#  the TypeError.\u001b[39;00m\n\u001b[1;32m   3814\u001b[0m     \u001b[38;5;28mself\u001b[39m\u001b[38;5;241m.\u001b[39m_check_indexing_error(key)\n",
      "\u001b[0;31mKeyError\u001b[0m: 'MONTH'"
     ]
    }
   ],
   "source": [
    "df = df[df['MONTH'] == 1]"
   ]
  },
  {
   "cell_type": "code",
   "execution_count": null,
   "id": "ada7022c-10c9-4c3a-9875-9fb4a3b6eded",
   "metadata": {},
   "outputs": [],
   "source": [
    "df['DATE'] = pd.to_datetime(df[['YEAR','MONTH', 'DAY']])"
   ]
  }
 ],
 "metadata": {
  "kernelspec": {
   "display_name": "Python 3 (ipykernel)",
   "language": "python",
   "name": "python3"
  },
  "language_info": {
   "codemirror_mode": {
    "name": "ipython",
    "version": 3
   },
   "file_extension": ".py",
   "mimetype": "text/x-python",
   "name": "python",
   "nbconvert_exporter": "python",
   "pygments_lexer": "ipython3",
   "version": "3.9.19"
  }
 },
 "nbformat": 4,
 "nbformat_minor": 5
}
