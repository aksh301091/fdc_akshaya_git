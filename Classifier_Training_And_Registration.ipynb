{
 "cells": [
  {
   "cell_type": "markdown",
   "id": "61df1e31-0739-41c3-be2c-ecf44e812231",
   "metadata": {},
   "source": [
    "# Use TTH_Template Custom Notebook template"
   ]
  },
  {
   "cell_type": "code",
   "execution_count": 17,
   "id": "371c6a4c-4acc-4404-827c-5c9fe622c7d3",
   "metadata": {},
   "outputs": [],
   "source": [
    "import datetime, warnings, scipy \n",
    "import pandas as pd\n",
    "import numpy as np\n",
    "\n",
    "import matplotlib.pyplot as plt\n",
    "%matplotlib inline\n",
    "import seaborn as sb\n",
    "\n",
    "from sklearn.model_selection import train_test_split\n",
    "from sklearn.preprocessing import StandardScaler\n",
    "from sklearn.tree import DecisionTreeClassifier\n",
    "from sklearn.metrics import roc_auc_score\n",
    "\n",
    "pd.options.display.max_columns = 50\n",
    "warnings.filterwarnings(\"ignore\")\n",
    "\n",
    "from fosforml.model_manager.snowflakesession import get_session\n",
    "from fosforml import register_model"
   ]
  },
  {
   "cell_type": "markdown",
   "id": "e3aa2738-718f-4250-8f01-33dda51aab86",
   "metadata": {},
   "source": [
    "# Read data from Snowflake"
   ]
  },
  {
   "cell_type": "code",
   "execution_count": 18,
   "id": "fea86163-d9b4-48e3-98e7-221394405570",
   "metadata": {},
   "outputs": [],
   "source": [
    "my_session = get_session()"
   ]
  },
  {
   "cell_type": "code",
   "execution_count": null,
   "id": "c0861512-a2d5-47b2-9891-91fcffb4aa8a",
   "metadata": {},
   "outputs": [],
   "source": [
    "table_name = 'FLIGHTS'\n",
    "\n",
    "sf_df = my_session.sql(\"select * from {}\".format(table_name))\n",
    "df = sf_df.to_pandas()"
   ]
  },
  {
   "cell_type": "code",
   "execution_count": null,
   "id": "ceb9a126-9429-42bf-81e7-c297bb9685ae",
   "metadata": {},
   "outputs": [],
   "source": [
    "flights = df.copy()\n",
    "flights_needed_data = df.copy()"
   ]
  },
  {
   "cell_type": "code",
   "execution_count": null,
   "id": "656cdba5-6d9a-47d4-bf9d-b389d6faf22f",
   "metadata": {},
   "outputs": [],
   "source": [
    "flights_needed_data.shape"
   ]
  },
  {
   "cell_type": "code",
   "execution_count": null,
   "id": "e2e5a3bc-6f46-4a76-97de-11e01277bc77",
   "metadata": {},
   "outputs": [],
   "source": [
    "flights_needed_data = flights[0:100000]  # getting a segment "
   ]
  },
  {
   "cell_type": "code",
   "execution_count": null,
   "id": "e0bb8e85-6007-4ed3-84b7-0af67c6a64e6",
   "metadata": {},
   "outputs": [],
   "source": [
    "flights_needed_data"
   ]
  },
  {
   "cell_type": "code",
   "execution_count": null,
   "id": "ebfcb783-151a-424f-bc1c-b4cbe124706d",
   "metadata": {},
   "outputs": [],
   "source": [
    "flights_needed_data.value_counts('DIVERTED')  # will tell us the no. of flights which were diverted"
   ]
  },
  {
   "cell_type": "code",
   "execution_count": null,
   "id": "4dc72563-1a28-428c-99fd-20c7dde8cd2b",
   "metadata": {},
   "outputs": [],
   "source": [
    "# filtering out unnecessary columns\n",
    "flights_needed_data=flights_needed_data.drop(['YEAR','FLIGHT_NUMBER','AIRLINE__CODE','DISTANCE','TAIL_NUMBER','TAXI_OUT',\n",
    "                                              'SCHEDULED_TIME','DEPARTURE_TIME','WHEELS_OFF','ELAPSED_TIME',\n",
    "                                              'AIR_TIME','WHEELS_ON','DAY_OF_WEEK','TAXI_IN','CANCELLATION_REASON'],\n",
    "                                             axis=1)"
   ]
  },
  {
   "cell_type": "code",
   "execution_count": null,
   "id": "ce8bfef7-8a1f-43b3-a2b4-4ae787614e8f",
   "metadata": {},
   "outputs": [],
   "source": [
    "flights_needed_data.isnull().sum()"
   ]
  },
  {
   "cell_type": "code",
   "execution_count": null,
   "id": "35862e0b-7990-411e-a9a7-d76b6a3a7c8c",
   "metadata": {},
   "outputs": [],
   "source": [
    "# replacing all NaN values with the mean of the attribute in which they are present\n",
    "flights_needed_data=flights_needed_data.fillna(flights_needed_data.mean())"
   ]
  },
  {
   "cell_type": "code",
   "execution_count": null,
   "id": "8598113c-d80b-498b-833d-00135e2f4d31",
   "metadata": {},
   "outputs": [],
   "source": [
    "flights_needed_data.head()"
   ]
  },
  {
   "cell_type": "code",
   "execution_count": null,
   "id": "0a48b61c-7cf7-4849-b5df-f5c560d939c7",
   "metadata": {},
   "outputs": [],
   "source": [
    "# creating a new column; it will tell if the flight was delayed or not\n",
    "result=[]"
   ]
  },
  {
   "cell_type": "code",
   "execution_count": null,
   "id": "22fb7882-b58e-4f54-9163-1ffc800ea7cd",
   "metadata": {},
   "outputs": [],
   "source": [
    "for row in flights_needed_data['ARRIVAL_DELAY']:\n",
    "  if row > 15:\n",
    "    result.append(1)\n",
    "  else:\n",
    "    result.append(0) "
   ]
  },
  {
   "cell_type": "code",
   "execution_count": null,
   "id": "03edefc0-0405-43ab-9b04-68486d3b4f3c",
   "metadata": {},
   "outputs": [],
   "source": [
    "flights_needed_data['result'] = result"
   ]
  },
  {
   "cell_type": "code",
   "execution_count": null,
   "id": "b3b423c2-8fb9-461f-96f0-ee9606a28dde",
   "metadata": {},
   "outputs": [],
   "source": [
    "flights_needed_data.value_counts('result')"
   ]
  },
  {
   "cell_type": "code",
   "execution_count": null,
   "id": "a75df5dc-543e-48f6-9063-ef718cebef33",
   "metadata": {},
   "outputs": [],
   "source": [
    "# removing some more columns\n",
    "flights_needed_data=flights_needed_data.drop(['ORIGIN_AIRPORT_CODE', 'DESTINATION_AIRPORT_CODE', 'ARRIVAL_TIME', 'ARRIVAL_DELAY'],axis=1)\n",
    "flights_needed_data"
   ]
  },
  {
   "cell_type": "code",
   "execution_count": null,
   "id": "c9a98c87-e693-48bc-966d-249a370d5010",
   "metadata": {},
   "outputs": [],
   "source": [
    "data = flights_needed_data.values\n",
    "X, y = data[:,:-1], data[:,-1]\n",
    "X_train, X_test, y_train, y_test = train_test_split(X, y, test_size=0.30, random_state=42)  # splitting in the ratio 70:30"
   ]
  },
  {
   "cell_type": "code",
   "execution_count": null,
   "id": "90d6f3ad-1536-4baa-af85-4260735f1234",
   "metadata": {},
   "outputs": [],
   "source": [
    "scaled_features = StandardScaler().fit_transform(X_train, X_test)"
   ]
  },
  {
   "cell_type": "code",
   "execution_count": null,
   "id": "f63368de-2e10-478c-b25d-471f39c0775f",
   "metadata": {},
   "outputs": [],
   "source": [
    "clf = DecisionTreeClassifier()\n",
    "clf = clf.fit(X_train,y_train)"
   ]
  },
  {
   "cell_type": "code",
   "execution_count": null,
   "id": "147b558f-f64f-4de1-914c-b5a43019f1c2",
   "metadata": {},
   "outputs": [],
   "source": [
    "pred_prob = clf.predict_proba(X_test)\n",
    "auc_score = roc_auc_score(y_test, pred_prob[:,1])\n",
    "auc_score"
   ]
  },
  {
   "cell_type": "code",
   "execution_count": null,
   "id": "d82c3e8d-c80d-49f4-a463-4280e8f6a000",
   "metadata": {},
   "outputs": [],
   "source": []
  },
  {
   "cell_type": "code",
   "execution_count": null,
   "id": "b6968678-19a5-4b73-ac23-5be225e94844",
   "metadata": {},
   "outputs": [],
   "source": []
  },
  {
   "cell_type": "code",
   "execution_count": null,
   "id": "ab131b7c-ab9b-430b-b006-78f451fda925",
   "metadata": {},
   "outputs": [],
   "source": []
  },
  {
   "cell_type": "code",
   "execution_count": null,
   "id": "ec5eec6e-cd90-49c0-9af3-a5364a04371a",
   "metadata": {},
   "outputs": [],
   "source": []
  },
  {
   "cell_type": "code",
   "execution_count": null,
   "id": "3225c048-1eb7-403b-9320-dff5fa64d788",
   "metadata": {},
   "outputs": [],
   "source": []
  },
  {
   "cell_type": "code",
   "execution_count": null,
   "id": "40e8da13-f3d3-480e-a37e-d3a77b49b758",
   "metadata": {},
   "outputs": [],
   "source": []
  },
  {
   "cell_type": "code",
   "execution_count": null,
   "id": "8f33f8b8-b589-49db-8ece-499fc882a026",
   "metadata": {},
   "outputs": [],
   "source": []
  }
 ],
 "metadata": {
  "kernelspec": {
   "display_name": "Python 3 (ipykernel)",
   "language": "python",
   "name": "python3"
  },
  "language_info": {
   "codemirror_mode": {
    "name": "ipython",
    "version": 3
   },
   "file_extension": ".py",
   "mimetype": "text/x-python",
   "name": "python",
   "nbconvert_exporter": "python",
   "pygments_lexer": "ipython3",
   "version": "3.9.19"
  }
 },
 "nbformat": 4,
 "nbformat_minor": 5
}
