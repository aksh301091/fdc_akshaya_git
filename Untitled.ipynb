{
 "cells": [
  {
   "cell_type": "markdown",
   "id": "61df1e31-0739-41c3-be2c-ecf44e812231",
   "metadata": {},
   "source": [
    "# Use TTH_Template Custom Notebook template"
   ]
  },
  {
   "cell_type": "code",
   "execution_count": 6,
   "id": "371c6a4c-4acc-4404-827c-5c9fe622c7d3",
   "metadata": {},
   "outputs": [],
   "source": [
    "import datetime, warnings, scipy \n",
    "import pandas as pd\n",
    "import numpy as np\n",
    "\n",
    "import matplotlib as mpl\n",
    "import matplotlib.pyplot as plt\n",
    "import matplotlib.patches as patches\n",
    "from matplotlib.patches import ConnectionPatch\n",
    "from matplotlib.gridspec import GridSpec\n",
    "from mpl_toolkits.basemap import Basemap\n",
    "\n",
    "from collections import OrderedDict\n",
    "\n",
    "from scipy.optimize import curve_fit\n",
    "\n",
    "from sklearn import metrics, linear_model\n",
    "from sklearn.preprocessing import PolynomialFeatures, StandardScaler\n",
    "from sklearn.preprocessing import LabelEncoder, OneHotEncoder\n",
    "from sklearn.model_selection import train_test_split, cross_val_score, cross_val_predict\n",
    "\n",
    "plt.rcParams[\"patch.force_edgecolor\"] = True\n",
    "plt.style.use('fivethirtyeight')\n",
    "mpl.rc('patch', edgecolor = 'dimgray', linewidth=1)\n",
    "from IPython.core.interactiveshell import InteractiveShell\n",
    "InteractiveShell.ast_node_interactivity = \"last_expr\"\n",
    "pd.options.display.max_columns = 50\n",
    "%matplotlib inline\n",
    "warnings.filterwarnings(\"ignore\")\n",
    "\n",
    "from fosforml.model_manager.snowflakesession import get_session\n",
    "from fosforml import register_model\n",
    "#import seaborn as sns"
   ]
  },
  {
   "cell_type": "code",
   "execution_count": 7,
   "id": "fea86163-d9b4-48e3-98e7-221394405570",
   "metadata": {},
   "outputs": [],
   "source": [
    "my_session = get_session()"
   ]
  },
  {
   "cell_type": "code",
   "execution_count": 8,
   "id": "2f637ed8-f385-446a-bde6-ab85fe5046e1",
   "metadata": {},
   "outputs": [],
   "source": [
    "table_name = 'FLIGHTS_FULL'\n",
    "\n",
    "sf_df = my_session.sql(\"select * from {}\".format(table_name))\n",
    "df = sf_df.to_pandas()"
   ]
  },
  {
   "cell_type": "code",
   "execution_count": 9,
   "id": "52f1e9bb-6eb8-4e4b-8ab7-2e7af1eb5526",
   "metadata": {},
   "outputs": [],
   "source": [
    "airports = df.copy()"
   ]
  },
  {
   "cell_type": "code",
   "execution_count": 10,
   "id": "ec15218e-d6a5-46e4-a8ff-16da8ae7dbe4",
   "metadata": {},
   "outputs": [
    {
     "data": {
      "text/plain": [
       "(5332914, 45)"
      ]
     },
     "execution_count": 10,
     "metadata": {},
     "output_type": "execute_result"
    }
   ],
   "source": [
    "airports.shape"
   ]
  },
  {
   "cell_type": "code",
   "execution_count": null,
   "id": "fa478d0c-ed15-4cdf-a449-a49877407f1a",
   "metadata": {},
   "outputs": [],
   "source": [
    "airpo"
   ]
  },
  {
   "cell_type": "code",
   "execution_count": null,
   "id": "a02a2169-732f-440b-b8d2-5305c0eb683c",
   "metadata": {},
   "outputs": [],
   "source": []
  },
  {
   "cell_type": "code",
   "execution_count": null,
   "id": "57ffefb2-4158-4b7f-ad8a-73fa4b7b08f8",
   "metadata": {},
   "outputs": [],
   "source": []
  },
  {
   "cell_type": "code",
   "execution_count": null,
   "id": "d271182d-88b0-404e-b64a-b2c5dcfc846b",
   "metadata": {},
   "outputs": [],
   "source": []
  },
  {
   "cell_type": "code",
   "execution_count": null,
   "id": "ada7022c-10c9-4c3a-9875-9fb4a3b6eded",
   "metadata": {},
   "outputs": [],
   "source": []
  }
 ],
 "metadata": {
  "kernelspec": {
   "display_name": "Python 3 (ipykernel)",
   "language": "python",
   "name": "python3"
  },
  "language_info": {
   "codemirror_mode": {
    "name": "ipython",
    "version": 3
   },
   "file_extension": ".py",
   "mimetype": "text/x-python",
   "name": "python",
   "nbconvert_exporter": "python",
   "pygments_lexer": "ipython3",
   "version": "3.9.19"
  }
 },
 "nbformat": 4,
 "nbformat_minor": 5
}
