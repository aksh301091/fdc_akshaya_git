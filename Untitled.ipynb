{
 "cells": [
  {
   "cell_type": "markdown",
   "id": "61df1e31-0739-41c3-be2c-ecf44e812231",
   "metadata": {},
   "source": [
    "# Use TTH_Template Custom Notebook template"
   ]
  },
  {
   "cell_type": "code",
   "execution_count": 1,
   "id": "371c6a4c-4acc-4404-827c-5c9fe622c7d3",
   "metadata": {},
   "outputs": [],
   "source": [
    "import datetime, warnings, scipy \n",
    "import pandas as pd\n",
    "import numpy as np\n",
    "\n",
    "import matplotlib as mpl\n",
    "import matplotlib.pyplot as plt\n",
    "import matplotlib.patches as patches\n",
    "from matplotlib.patches import ConnectionPatch\n",
    "from matplotlib.gridspec import GridSpec\n",
    "from mpl_toolkits.basemap import Basemap\n",
    "import seaborn as sns\n",
    "\n",
    "from collections import OrderedDict\n",
    "\n",
    "from scipy.optimize import curve_fit\n",
    "\n",
    "from sklearn import metrics, linear_model\n",
    "from sklearn.preprocessing import PolynomialFeatures, StandardScaler\n",
    "from sklearn.preprocessing import LabelEncoder, OneHotEncoder\n",
    "from sklearn.model_selection import train_test_split, cross_val_score, cross_val_predict\n",
    "\n",
    "plt.rcParams[\"patch.force_edgecolor\"] = True\n",
    "plt.style.use('fivethirtyeight')\n",
    "mpl.rc('patch', edgecolor = 'dimgray', linewidth=1)\n",
    "from IPython.core.interactiveshell import InteractiveShell\n",
    "InteractiveShell.ast_node_interactivity = \"last_expr\"\n",
    "pd.options.display.max_columns = 50\n",
    "%matplotlib inline\n",
    "warnings.filterwarnings(\"ignore\")\n",
    "\n",
    "from fosforml.model_manager.snowflakesession import get_session\n",
    "from fosforml import register_model"
   ]
  },
  {
   "cell_type": "markdown",
   "id": "e3aa2738-718f-4250-8f01-33dda51aab86",
   "metadata": {},
   "source": [
    "# Read data from Snowflake"
   ]
  },
  {
   "cell_type": "code",
   "execution_count": 2,
   "id": "fea86163-d9b4-48e3-98e7-221394405570",
   "metadata": {},
   "outputs": [],
   "source": [
    "my_session = get_session()"
   ]
  },
  {
   "cell_type": "code",
   "execution_count": 4,
   "id": "c0861512-a2d5-47b2-9891-91fcffb4aa8a",
   "metadata": {},
   "outputs": [],
   "source": [
    "table_name = 'FLIGHTS'\n",
    "\n",
    "sf_df = my_session.sql(\"select * from {}\".format(table_name))\n",
    "df = sf_df.to_pandas()"
   ]
  },
  {
   "cell_type": "code",
   "execution_count": 5,
   "id": "61b157ef-68f5-482e-b7d2-db5877be3192",
   "metadata": {},
   "outputs": [
    {
     "name": "stdout",
     "output_type": "stream",
     "text": [
      "Dataframe dimensions: (5819079, 31)\n"
     ]
    }
   ],
   "source": [
    "print('Dataframe dimensions:', df.shape)"
   ]
  },
  {
   "cell_type": "code",
   "execution_count": 6,
   "id": "b7a28ae8-c7f2-4452-9f78-faae09215d4d",
   "metadata": {},
   "outputs": [
    {
     "name": "stdout",
     "output_type": "stream",
     "text": [
      "<class 'pandas.core.frame.DataFrame'>\n",
      "RangeIndex: 5819079 entries, 0 to 5819078\n",
      "Data columns (total 31 columns):\n",
      " #   Column                    Dtype  \n",
      "---  ------                    -----  \n",
      " 0   YEAR                      int16  \n",
      " 1   MONTH                     int8   \n",
      " 2   DAY                       int8   \n",
      " 3   DAY_OF_WEEK               int8   \n",
      " 4   AIRLINE__CODE             object \n",
      " 5   FLIGHT_NUMBER             int16  \n",
      " 6   TAIL_NUMBER               object \n",
      " 7   ORIGIN_AIRPORT_CODE       object \n",
      " 8   DESTINATION_AIRPORT_CODE  object \n",
      " 9   SCHEDULED_DEPARTURE       int16  \n",
      " 10  DEPARTURE_TIME            float64\n",
      " 11  DEPARTURE_DELAY           float64\n",
      " 12  TAXI_OUT                  float64\n",
      " 13  WHEELS_OFF                float64\n",
      " 14  SCHEDULED_TIME            float64\n",
      " 15  ELAPSED_TIME              float64\n",
      " 16  AIR_TIME                  float64\n",
      " 17  DISTANCE                  int16  \n",
      " 18  WHEELS_ON                 float64\n",
      " 19  TAXI_IN                   float64\n",
      " 20  SCHEDULED_ARRIVAL         int16  \n",
      " 21  ARRIVAL_TIME              float64\n",
      " 22  ARRIVAL_DELAY             float64\n",
      " 23  DIVERTED                  int8   \n",
      " 24  CANCELLED                 int8   \n",
      " 25  CANCELLATION_REASON       object \n",
      " 26  AIR_SYSTEM_DELAY          float64\n",
      " 27  SECURITY_DELAY            float64\n",
      " 28  AIRLINE_DELAY             float64\n",
      " 29  LATE_AIRCRAFT_DELAY       float64\n",
      " 30  WEATHER_DELAY             float64\n",
      "dtypes: float64(16), int16(5), int8(5), object(5)\n",
      "memory usage: 1015.6+ MB\n"
     ]
    }
   ],
   "source": [
    "df.info()"
   ]
  },
  {
   "cell_type": "code",
   "execution_count": 7,
   "id": "5782da12-0c4c-4a2c-bdb7-81f996d17d4f",
   "metadata": {},
   "outputs": [
    {
     "ename": "AttributeError",
     "evalue": "'DataFrame' object has no attribute 'append'",
     "output_type": "error",
     "traceback": [
      "\u001b[0;31m---------------------------------------------------------------------------\u001b[0m",
      "\u001b[0;31mAttributeError\u001b[0m                            Traceback (most recent call last)",
      "\u001b[0;32m/tmp/ipykernel_32/2285391038.py\u001b[0m in \u001b[0;36m?\u001b[0;34m()\u001b[0m\n\u001b[0;32m----> 3\u001b[0;31m \u001b[0;31m# gives some infos on columns types and number of null values\u001b[0m\u001b[0;34m\u001b[0m\u001b[0;34m\u001b[0m\u001b[0m\n\u001b[0m\u001b[1;32m      4\u001b[0m \u001b[0mtab_info\u001b[0m\u001b[0;34m=\u001b[0m\u001b[0mpd\u001b[0m\u001b[0;34m.\u001b[0m\u001b[0mDataFrame\u001b[0m\u001b[0;34m(\u001b[0m\u001b[0mdf\u001b[0m\u001b[0;34m.\u001b[0m\u001b[0mdtypes\u001b[0m\u001b[0;34m)\u001b[0m\u001b[0;34m.\u001b[0m\u001b[0mT\u001b[0m\u001b[0;34m.\u001b[0m\u001b[0mrename\u001b[0m\u001b[0;34m(\u001b[0m\u001b[0mindex\u001b[0m\u001b[0;34m=\u001b[0m\u001b[0;34m{\u001b[0m\u001b[0;36m0\u001b[0m\u001b[0;34m:\u001b[0m\u001b[0;34m'column type'\u001b[0m\u001b[0;34m}\u001b[0m\u001b[0;34m)\u001b[0m\u001b[0;34m\u001b[0m\u001b[0;34m\u001b[0m\u001b[0m\n\u001b[1;32m      5\u001b[0m \u001b[0mtab_info\u001b[0m\u001b[0;34m=\u001b[0m\u001b[0mtab_info\u001b[0m\u001b[0;34m.\u001b[0m\u001b[0mappend\u001b[0m\u001b[0;34m(\u001b[0m\u001b[0mpd\u001b[0m\u001b[0;34m.\u001b[0m\u001b[0mDataFrame\u001b[0m\u001b[0;34m(\u001b[0m\u001b[0mdf\u001b[0m\u001b[0;34m.\u001b[0m\u001b[0misnull\u001b[0m\u001b[0;34m(\u001b[0m\u001b[0;34m)\u001b[0m\u001b[0;34m.\u001b[0m\u001b[0msum\u001b[0m\u001b[0;34m(\u001b[0m\u001b[0;34m)\u001b[0m\u001b[0;34m)\u001b[0m\u001b[0;34m.\u001b[0m\u001b[0mT\u001b[0m\u001b[0;34m.\u001b[0m\u001b[0mrename\u001b[0m\u001b[0;34m(\u001b[0m\u001b[0mindex\u001b[0m\u001b[0;34m=\u001b[0m\u001b[0;34m{\u001b[0m\u001b[0;36m0\u001b[0m\u001b[0;34m:\u001b[0m\u001b[0;34m'null values (nb)'\u001b[0m\u001b[0;34m}\u001b[0m\u001b[0;34m)\u001b[0m\u001b[0;34m)\u001b[0m\u001b[0;34m\u001b[0m\u001b[0;34m\u001b[0m\u001b[0m\n\u001b[1;32m      6\u001b[0m tab_info=tab_info.append(pd.DataFrame(df.isnull().sum()/df.shape[0]*100)\n",
      "\u001b[0;32m/opt/conda/lib/python3.9/site-packages/pandas/core/generic.py\u001b[0m in \u001b[0;36m?\u001b[0;34m(self, name)\u001b[0m\n\u001b[1;32m   6289\u001b[0m             \u001b[0;32mand\u001b[0m \u001b[0mname\u001b[0m \u001b[0;32mnot\u001b[0m \u001b[0;32min\u001b[0m \u001b[0mself\u001b[0m\u001b[0;34m.\u001b[0m\u001b[0m_accessors\u001b[0m\u001b[0;34m\u001b[0m\u001b[0;34m\u001b[0m\u001b[0m\n\u001b[1;32m   6290\u001b[0m             \u001b[0;32mand\u001b[0m \u001b[0mself\u001b[0m\u001b[0;34m.\u001b[0m\u001b[0m_info_axis\u001b[0m\u001b[0;34m.\u001b[0m\u001b[0m_can_hold_identifiers_and_holds_name\u001b[0m\u001b[0;34m(\u001b[0m\u001b[0mname\u001b[0m\u001b[0;34m)\u001b[0m\u001b[0;34m\u001b[0m\u001b[0;34m\u001b[0m\u001b[0m\n\u001b[1;32m   6291\u001b[0m         ):\n\u001b[1;32m   6292\u001b[0m             \u001b[0;32mreturn\u001b[0m \u001b[0mself\u001b[0m\u001b[0;34m[\u001b[0m\u001b[0mname\u001b[0m\u001b[0;34m]\u001b[0m\u001b[0;34m\u001b[0m\u001b[0;34m\u001b[0m\u001b[0m\n\u001b[0;32m-> 6293\u001b[0;31m         \u001b[0;32mreturn\u001b[0m \u001b[0mobject\u001b[0m\u001b[0;34m.\u001b[0m\u001b[0m__getattribute__\u001b[0m\u001b[0;34m(\u001b[0m\u001b[0mself\u001b[0m\u001b[0;34m,\u001b[0m \u001b[0mname\u001b[0m\u001b[0;34m)\u001b[0m\u001b[0;34m\u001b[0m\u001b[0;34m\u001b[0m\u001b[0m\n\u001b[0m",
      "\u001b[0;31mAttributeError\u001b[0m: 'DataFrame' object has no attribute 'append'"
     ]
    }
   ],
   "source": [
    "# gives some infos on columns types and number of null values\n",
    "tab_info=pd.DataFrame(df.dtypes).T.rename(index={0:'column type'})\n",
    "tab_info = pd.\n",
    "tab_info=tab_info.append(pd.DataFrame(df.isnull().sum()).T.rename(index={0:'null values (nb)'}))\n",
    "tab_info=tab_info.append(pd.DataFrame(df.isnull().sum()/df.shape[0]*100)\n",
    "                         .T.rename(index={0:'null values (%)'}))\n",
    "tab_info"
   ]
  },
  {
   "cell_type": "code",
   "execution_count": 3,
   "id": "2f637ed8-f385-446a-bde6-ab85fe5046e1",
   "metadata": {},
   "outputs": [],
   "source": [
    "table_name = 'FLIGHTS_FULL'\n",
    "\n",
    "sf_df = my_session.sql(\"select * from {}\".format(table_name))\n",
    "df = sf_df.to_pandas()"
   ]
  },
  {
   "cell_type": "code",
   "execution_count": 9,
   "id": "52f1e9bb-6eb8-4e4b-8ab7-2e7af1eb5526",
   "metadata": {},
   "outputs": [],
   "source": [
    "airports = df.copy()"
   ]
  },
  {
   "cell_type": "code",
   "execution_count": 10,
   "id": "ec15218e-d6a5-46e4-a8ff-16da8ae7dbe4",
   "metadata": {},
   "outputs": [
    {
     "data": {
      "text/plain": [
       "(5332914, 45)"
      ]
     },
     "execution_count": 10,
     "metadata": {},
     "output_type": "execute_result"
    }
   ],
   "source": [
    "airports.shape"
   ]
  },
  {
   "cell_type": "code",
   "execution_count": 11,
   "id": "fa478d0c-ed15-4cdf-a449-a49877407f1a",
   "metadata": {},
   "outputs": [
    {
     "name": "stdout",
     "output_type": "stream",
     "text": [
      "<class 'pandas.core.frame.DataFrame'>\n",
      "RangeIndex: 5332914 entries, 0 to 5332913\n",
      "Data columns (total 45 columns):\n",
      " #   Column                    Dtype  \n",
      "---  ------                    -----  \n",
      " 0   YEAR                      int16  \n",
      " 1   MONTH                     int8   \n",
      " 2   DAY                       int8   \n",
      " 3   DAY_OF_WEEK               int8   \n",
      " 4   AIRLINE__CODE             object \n",
      " 5   FLIGHT_NUMBER             int16  \n",
      " 6   TAIL_NUMBER               object \n",
      " 7   ORIGIN_AIRPORT_CODE       object \n",
      " 8   DESTINATION_AIRPORT_CODE  object \n",
      " 9   SCHEDULED_DEPARTURE       int16  \n",
      " 10  DEPARTURE_TIME            float64\n",
      " 11  DEPARTURE_DELAY           float64\n",
      " 12  TAXI_OUT                  float64\n",
      " 13  WHEELS_OFF                float64\n",
      " 14  SCHEDULED_TIME            float64\n",
      " 15  ELAPSED_TIME              float64\n",
      " 16  AIR_TIME                  float64\n",
      " 17  DISTANCE                  int16  \n",
      " 18  WHEELS_ON                 float64\n",
      " 19  TAXI_IN                   float64\n",
      " 20  SCHEDULED_ARRIVAL         int16  \n",
      " 21  ARRIVAL_TIME              float64\n",
      " 22  ARRIVAL_DELAY             float64\n",
      " 23  DIVERTED                  int8   \n",
      " 24  CANCELLED                 int8   \n",
      " 25  CANCELLATION_REASON       object \n",
      " 26  AIR_SYSTEM_DELAY          float64\n",
      " 27  SECURITY_DELAY            float64\n",
      " 28  AIRLINE_DELAY             float64\n",
      " 29  LATE_AIRCRAFT_DELAY       float64\n",
      " 30  WEATHER_DELAY             float64\n",
      " 31  FLY_DATE                  object \n",
      " 32  AIRLINE                   object \n",
      " 33  ORIGIN_AIRPORT            object \n",
      " 34  ORIGIN_CITY               object \n",
      " 35  ORIGIN_STATE              object \n",
      " 36  ORIGIN_COUNTRY            object \n",
      " 37  ORIGIN_LATITUDE           float64\n",
      " 38  ORIGIN_LONGITUDE          float64\n",
      " 39  DEST_AIRPORT              object \n",
      " 40  DEST_CITY                 object \n",
      " 41  DEST_STATE                object \n",
      " 42  DEST_COUNTRY              object \n",
      " 43  DEST_LATITUDE             float64\n",
      " 44  DEST_LONGITUDE            float64\n",
      "dtypes: float64(20), int16(5), int8(5), object(15)\n",
      "memory usage: 1.5+ GB\n"
     ]
    }
   ],
   "source": [
    "airports.info()"
   ]
  },
  {
   "cell_type": "code",
   "execution_count": 16,
   "id": "a02a2169-732f-440b-b8d2-5305c0eb683c",
   "metadata": {},
   "outputs": [],
   "source": [
    "count_flights = df['ORIGIN_AIRPORT_CODE'].value_counts()"
   ]
  },
  {
   "cell_type": "code",
   "execution_count": 17,
   "id": "a725391f-382c-4657-abdc-ea4087029440",
   "metadata": {},
   "outputs": [
    {
     "data": {
      "text/plain": [
       "ORIGIN_AIRPORT_CODE\n",
       "ATL    346836\n",
       "ORD    285884\n",
       "DFW    239551\n",
       "DEN    196055\n",
       "LAX    194673\n",
       "        ...  \n",
       "HYA        83\n",
       "DLG        77\n",
       "GST        77\n",
       "AKN        63\n",
       "ITH        34\n",
       "Name: count, Length: 322, dtype: int64"
      ]
     },
     "execution_count": 17,
     "metadata": {},
     "output_type": "execute_result"
    }
   ],
   "source": [
    "count_flights"
   ]
  },
  {
   "cell_type": "code",
   "execution_count": null,
   "id": "57ffefb2-4158-4b7f-ad8a-73fa4b7b08f8",
   "metadata": {},
   "outputs": [],
   "source": [
    "#___________________________\n",
    "plt.figure(figsize=(11,11))\n",
    "#________________________________________\n",
    "# define properties of markers and labels\n",
    "colors = ['yellow', 'red', 'lightblue', 'purple', 'green', 'orange']\n",
    "size_limits = [1, 100, 1000, 10000, 100000, 1000000]\n",
    "labels = []\n",
    "for i in range(len(size_limits)-1):\n",
    "    labels.append(\"{} <.< {}\".format(size_limits[i], size_limits[i+1])) \n",
    "#____________________________________________________________\n",
    "map = Basemap(resolution='i',llcrnrlon=-180, urcrnrlon=-50,\n",
    "              llcrnrlat=10, urcrnrlat=75, lat_0=0, lon_0=0,)\n",
    "map.shadedrelief()\n",
    "map.drawcoastlines()\n",
    "map.drawcountries(linewidth = 3)\n",
    "map.drawstates(color='0.3')\n",
    "#_____________________\n",
    "# put airports on map\n",
    "for index, (code, y,x) in airports[['ORIGIN_AIRPORT_CODE', 'ORIGIN_LATITUDE', 'ORIGIN_LONGITUDE']].iterrows():\n",
    "    x, y = map(x, y)\n",
    "    isize = [i for i, val in enumerate(size_limits) if val < count_flights[code]]\n",
    "    ind = isize[-1]\n",
    "    map.plot(x, y, marker='o', markersize = ind+5, markeredgewidth = 1, color = colors[ind],\n",
    "             markeredgecolor='k', label = labels[ind])\n",
    "#_____________________________________________\n",
    "# remove duplicate labels and set their order\n",
    "handles, labels = plt.gca().get_legend_handles_labels()\n",
    "by_label = OrderedDict(zip(labels, handles))\n",
    "key_order = ('1 <.< 100', '100 <.< 1000', '1000 <.< 10000',\n",
    "             '10000 <.< 100000', '100000 <.< 1000000')\n",
    "new_label = OrderedDict()\n",
    "for key in key_order:\n",
    "    new_label[key] = by_label[key]\n",
    "plt.legend(new_label.values(), new_label.keys(), loc = 1, prop= {'size':11},\n",
    "           title='Number of flights per year', frameon = True, framealpha = 1)\n",
    "plt.show()"
   ]
  },
  {
   "cell_type": "code",
   "execution_count": null,
   "id": "d271182d-88b0-404e-b64a-b2c5dcfc846b",
   "metadata": {},
   "outputs": [],
   "source": []
  },
  {
   "cell_type": "code",
   "execution_count": null,
   "id": "ada7022c-10c9-4c3a-9875-9fb4a3b6eded",
   "metadata": {},
   "outputs": [],
   "source": []
  }
 ],
 "metadata": {
  "kernelspec": {
   "display_name": "Python 3 (ipykernel)",
   "language": "python",
   "name": "python3"
  },
  "language_info": {
   "codemirror_mode": {
    "name": "ipython",
    "version": 3
   },
   "file_extension": ".py",
   "mimetype": "text/x-python",
   "name": "python",
   "nbconvert_exporter": "python",
   "pygments_lexer": "ipython3",
   "version": "3.9.19"
  }
 },
 "nbformat": 4,
 "nbformat_minor": 5
}
