{
 "cells": [
  {
   "cell_type": "markdown",
   "id": "32a091ca-3f51-4916-9cc8-f057d48efb89",
   "metadata": {},
   "source": [
    "## Installing packages"
   ]
  },
  {
   "cell_type": "code",
   "execution_count": null,
   "id": "44f7ee92-4f4a-4363-a860-0f0e848ec0d3",
   "metadata": {},
   "outputs": [],
   "source": [
    "!pip install --upgrade pip\n",
    "!pip install \"snowflake-connector-python[pandas]\" \"snowflake-snowpark-python[pandas]\" snowflake-snowpark-python==1.9.0 numpy pandas matplotlib scikit-learn xgboost seaborn python-dateutil tqdm holidays faker\n",
    "!pip install --upgrade --q snowflake-snowpark-python==1.9.0\n",
    "!pip uninstall urllib3 -y\n",
    "!pip install urllib3==1.26.15\n",
    "!pip install fosforml==1.1.6"
   ]
  },
  {
   "cell_type": "markdown",
   "id": "248769c1-1205-4c9d-a4e9-f798eaa50a91",
   "metadata": {},
   "source": [
    "## Importing packages"
   ]
  },
  {
   "cell_type": "code",
   "execution_count": 1,
   "id": "4a882d38-4243-4ee5-b02d-30ae9248af86",
   "metadata": {},
   "outputs": [],
   "source": [
    "from fosforml import *\n",
    "from fosforml.constants import MLModelFlavours\n",
    "from matplotlib import pyplot as plt\n",
    "import pandas as pd\n",
    "pd.set_option('display.max_columns', 500)\n",
    "import seaborn as sns\n",
    "from sklearn.metrics import mean_absolute_percentage_error\n",
    "import numpy as np\n",
    "import warnings; warnings.simplefilter('ignore')\n",
    "from joblib import dump, load\n",
    "import requests\n",
    "from tqdm import tqdm\n",
    "import time\n",
    "import calendar\n",
    "\n",
    "from time import sleep\n",
    "import configparser\n",
    "from dateutil.relativedelta import relativedelta\n",
    "import datetime\n",
    "from dateutil.easter import easter\n",
    "from scipy.optimize import minimize_scalar\n",
    "from scipy.optimize import curve_fit\n",
    "\n",
    "%matplotlib inline"
   ]
  },
  {
   "cell_type": "markdown",
   "id": "2b8e4ce5-403b-438a-b363-ea3d32e41181",
   "metadata": {},
   "source": [
    "## Getting data from Github and moving to SF"
   ]
  },
  {
   "cell_type": "code",
   "execution_count": null,
   "id": "8fa68879-afe3-42ee-8d7a-93637980e2ef",
   "metadata": {},
   "outputs": [],
   "source": [
    "# URL of the CSV file on GitHub\n",
    "#url = 'https://github.com/aksh301091/fdc_akshaya_git/blob/91a0b3faf99492355d3816919fbf79de434926c3/ME_CASINO_PRJ/customer_table.csv'\n",
    "#'https://raw.githubusercontent.com/username/repository/branch/filename.csv'"
   ]
  },
  {
   "cell_type": "code",
   "execution_count": 2,
   "id": "d6c9b9de-600d-4660-84e3-f3d9bd96363a",
   "metadata": {},
   "outputs": [],
   "source": [
    "from fosforml.model_manager.snowflakesession import get_session\n",
    "my_session = get_session()"
   ]
  },
  {
   "cell_type": "code",
   "execution_count": 3,
   "id": "e8efa40b-4258-4840-a052-e9e142ba2617",
   "metadata": {},
   "outputs": [],
   "source": [
    "# Read the CSV file into a DataFrame\n",
    "cust_df = pd.read_csv('customer_table.csv')\n",
    "#trx_df = pd.read_csv('transaction_table.csv')\n",
    "\n",
    "#cust_df.info()"
   ]
  },
  {
   "cell_type": "code",
   "execution_count": 7,
   "id": "dfd7a08c-a93a-43c4-88d3-9ea39fa4ed5d",
   "metadata": {},
   "outputs": [],
   "source": [
    "t1_df = pd.read_csv('trx_1.csv')\n",
    "t2_df = pd.read_csv('trx_2.csv')\n",
    "t3_df = pd.read_csv('trx_3.csv')"
   ]
  },
  {
   "cell_type": "code",
   "execution_count": 5,
   "id": "9c9e06c0-c177-4fa1-872e-414bd65c6cb4",
   "metadata": {},
   "outputs": [
    {
     "data": {
      "text/plain": [
       "pandas.core.frame.DataFrame"
      ]
     },
     "execution_count": 5,
     "metadata": {},
     "output_type": "execute_result"
    }
   ],
   "source": [
    "type(cust_df)"
   ]
  },
  {
   "cell_type": "code",
   "execution_count": null,
   "id": "7cc8c879-b24f-42dd-8fbb-356b57860362",
   "metadata": {},
   "outputs": [],
   "source": [
    "cust_sfdf = my_session.createDataFrame(cust_df)\n",
    "cust_sfdf.write.mode(\"overwrite\").save_as_table(\"casino_customers\")\n",
    "#my_session.table(\"casino_customers\").show()"
   ]
  },
  {
   "cell_type": "code",
   "execution_count": 11,
   "id": "8374e745-36e8-4b82-aa13-b96ea5cdd7c7",
   "metadata": {},
   "outputs": [],
   "source": [
    "#inter_df = pd.concat([t1_df, t2_df, t2_df, ignore_index=True)\n",
    "inter_df = t1_df._append(t2_df,ignore_index=True)\n",
    "\n",
    "#for trx_df in (t1_df, t2_df, t3_df):\n",
    "#    trx_df =  trx_df.append(df, ignore_index=True)\n",
    "#trx_df"
   ]
  },
  {
   "cell_type": "code",
   "execution_count": 12,
   "id": "2cf4b1ac-8936-4b6b-9828-e77b67463fd0",
   "metadata": {},
   "outputs": [],
   "source": [
    "trx_df = inter_df._append(t3_df, ignore_index=True)"
   ]
  },
  {
   "cell_type": "code",
   "execution_count": 15,
   "id": "8c237e75-fa76-495a-8e25-0b7a6df9d51f",
   "metadata": {},
   "outputs": [
    {
     "name": "stdout",
     "output_type": "stream",
     "text": [
      "<class 'pandas.core.frame.DataFrame'>\n",
      "RangeIndex: 200000 entries, 0 to 199999\n",
      "Data columns (total 24 columns):\n",
      " #   Column                              Non-Null Count   Dtype  \n",
      "---  ------                              --------------   -----  \n",
      " 0   TRANSACTION_ID                      200000 non-null  int64  \n",
      " 1   DATE                                200000 non-null  object \n",
      " 2   PLAYER_ID                           200000 non-null  int64  \n",
      " 3   PLAYER_AGE                          200000 non-null  int64  \n",
      " 4   PLAYER_GENDER                       200000 non-null  object \n",
      " 5   HOME_COUNTRY                        200000 non-null  object \n",
      " 6   HOME_CITY                           200000 non-null  object \n",
      " 7   GAME_CATEGORY                       200000 non-null  object \n",
      " 8   GAME_NAME                           200000 non-null  object \n",
      " 9   TABLE_MINIMUM_BET                   200000 non-null  float64\n",
      " 10  IS_PREMIUM_PLAYER                   200000 non-null  bool   \n",
      " 11  DURATION_SPENT                      200000 non-null  float64\n",
      " 12  CHIPS_WON_OR_LOST                   200000 non-null  int64  \n",
      " 13  NUMBER_OF_DAYS_SPENT_IN_CASINO      200000 non-null  int64  \n",
      " 14  STAYED_AT_CASINO_HOTEL              200000 non-null  bool   \n",
      " 15  AMOUNT_SPENT_IN_HOTEL_STAY          200000 non-null  float64\n",
      " 16  NUMBER_OF_DAYS_SPENT_IN_HOTEL       200000 non-null  int64  \n",
      " 17  NUMBER_OF_RESTAURANT_VISITS         200000 non-null  int64  \n",
      " 18  AMOUNT_SPENT_IN_CASINO_RESTAURANT   200000 non-null  float64\n",
      " 19  NUMBER_OF_CONCIERGE_VISITS          200000 non-null  int64  \n",
      " 20  AMOUNT_SPENT_IN_SPA                 200000 non-null  float64\n",
      " 21  NUMBER_OF_SPA_VISITS                200000 non-null  int64  \n",
      " 22  IS_LOYALTY_CARD_HOLDER              200000 non-null  bool   \n",
      " 23  REVENUE_MADE_BY_CASINO_FROM_PLAYER  200000 non-null  float64\n",
      "dtypes: bool(3), float64(6), int64(9), object(6)\n",
      "memory usage: 32.6+ MB\n"
     ]
    }
   ],
   "source": [
    "trx_df.info()"
   ]
  },
  {
   "cell_type": "code",
   "execution_count": 14,
   "id": "499fa6d3-8fe1-40ce-b139-4de0b3fd99d7",
   "metadata": {},
   "outputs": [],
   "source": [
    "trx_sfdf = my_session.createDataFrame(trx_df)\n",
    "trx_sfdf.write.mode(\"overwrite\").save_as_table(\"casino_transactions\")"
   ]
  },
  {
   "cell_type": "code",
   "execution_count": 16,
   "id": "f4446609-3be8-4475-9054-33e1278c4a8c",
   "metadata": {},
   "outputs": [
    {
     "data": {
      "text/plain": [
       "pandas.core.frame.DataFrame"
      ]
     },
     "execution_count": 16,
     "metadata": {},
     "output_type": "execute_result"
    }
   ],
   "source": [
    "## Reading data from SF \n",
    "\n",
    "table_name = 'CASINO_CUSTOMERS'\n",
    "customer_df = my_session.sql(\"select * from {}\".format(table_name))\n",
    "customer_df = customer_df.to_pandas()\n",
    "type(customer_df)"
   ]
  },
  {
   "cell_type": "code",
   "execution_count": 17,
   "id": "3af56f92-0885-4402-96fd-d1b8228e9e88",
   "metadata": {},
   "outputs": [
    {
     "data": {
      "text/plain": [
       "pandas.core.frame.DataFrame"
      ]
     },
     "execution_count": 17,
     "metadata": {},
     "output_type": "execute_result"
    }
   ],
   "source": [
    "table_name = 'CASINO_TRANSACTIONS'\n",
    "transaction_df = my_session.sql(\"select * from {}\".format(table_name))\n",
    "transaction_df = transaction_df.to_pandas()\n",
    "type(transaction_df)"
   ]
  },
  {
   "cell_type": "markdown",
   "id": "9480e0d3-a432-4132-b2d4-5f09e11dd0ec",
   "metadata": {},
   "source": [
    "## Data Exploration"
   ]
  },
  {
   "cell_type": "code",
   "execution_count": 18,
   "id": "5705cf61-bba0-4956-a593-6477cd13a30b",
   "metadata": {},
   "outputs": [
    {
     "name": "stdout",
     "output_type": "stream",
     "text": [
      "          PLAYER_ID           AGE GENDER HOME_COUNTRY  HOME_CITY  \\\n",
      "count   10000.00000  10000.000000  10000        10000      10000   \n",
      "unique          NaN           NaN      2            4         31   \n",
      "top             NaN           NaN   Male           US  Singapore   \n",
      "freq            NaN           NaN   5009         2527       2485   \n",
      "mean     5000.50000     60.339200    NaN          NaN        NaN   \n",
      "std      2886.89568     14.311612    NaN          NaN        NaN   \n",
      "min         1.00000     21.000000    NaN          NaN        NaN   \n",
      "25%      2500.75000     50.000000    NaN          NaN        NaN   \n",
      "50%      5000.50000     63.000000    NaN          NaN        NaN   \n",
      "75%      7500.25000     73.000000    NaN          NaN        NaN   \n",
      "max     10000.00000     80.000000    NaN          NaN        NaN   \n",
      "\n",
      "       DATE_FIRST_VISIT DATE_LAST_VISIT  TOTAL_NUMBER_OF_VISITS  \\\n",
      "count             10000           10000            10000.000000   \n",
      "unique              326             316                     NaN   \n",
      "top          04-09-2021      31-08-2024                     NaN   \n",
      "freq                185             183                     NaN   \n",
      "mean                NaN             NaN               20.000000   \n",
      "std                 NaN             NaN                4.471979   \n",
      "min                 NaN             NaN                4.000000   \n",
      "25%                 NaN             NaN               17.000000   \n",
      "50%                 NaN             NaN               20.000000   \n",
      "75%                 NaN             NaN               23.000000   \n",
      "max                 NaN             NaN               39.000000   \n",
      "\n",
      "        TOTAL_DURATION_SPENT  AVERAGE_DURATION_PER_VISIT  \\\n",
      "count           10000.000000                10000.000000   \n",
      "unique                   NaN                         NaN   \n",
      "top                      NaN                         NaN   \n",
      "freq                     NaN                         NaN   \n",
      "mean               90.082227                    4.505063   \n",
      "std                22.026645                    0.460744   \n",
      "min                19.720000                    2.885000   \n",
      "25%                74.875000                    4.200616   \n",
      "50%                89.070000                    4.501909   \n",
      "75%               104.142500                    4.816719   \n",
      "max               205.260000                    6.232667   \n",
      "\n",
      "        TOTAL_CHIPS_WON_OR_LOST  AVERAGE_CHIPS_WON_OR_LOST_PER_VISIT  \\\n",
      "count              10000.000000                         10000.000000   \n",
      "unique                      NaN                                  NaN   \n",
      "top                         NaN                                  NaN   \n",
      "freq                        NaN                                  NaN   \n",
      "mean                   1.927600                             0.134854   \n",
      "std                 2596.590549                           133.876720   \n",
      "min                -9855.000000                          -585.937500   \n",
      "25%                -1740.250000                           -88.811688   \n",
      "50%                   -4.000000                            -0.187643   \n",
      "75%                 1759.000000                            88.430804   \n",
      "max                11881.000000                           756.000000   \n",
      "\n",
      "        UNIQUE_GAMES_PLAYED IS_PREMIUM_PLAYER IS_LOYALTY_CARD_HOLDER  \\\n",
      "count          10000.000000             10000                  10000   \n",
      "unique                  NaN                 2                      2   \n",
      "top                     NaN              True                  False   \n",
      "freq                    NaN              5025                   5036   \n",
      "mean               9.023000               NaN                    NaN   \n",
      "std                1.254603               NaN                    NaN   \n",
      "min                3.000000               NaN                    NaN   \n",
      "25%                8.000000               NaN                    NaN   \n",
      "50%                9.000000               NaN                    NaN   \n",
      "75%               10.000000               NaN                    NaN   \n",
      "max               11.000000               NaN                    NaN   \n",
      "\n",
      "        TOTAL_AMOUNT_SPENT_IN_HOTEL  TOTAL_DAYS_SPENT_HOTEL  \\\n",
      "count                  10000.000000            10000.000000   \n",
      "unique                          NaN                     NaN   \n",
      "top                             NaN                     NaN   \n",
      "freq                            NaN                     NaN   \n",
      "mean                   25465.935600              150.311100   \n",
      "std                     9100.190473               53.986837   \n",
      "min                      568.630000               10.000000   \n",
      "25%                    18987.925000              112.000000   \n",
      "50%                    24699.060000              146.000000   \n",
      "75%                    31218.545000              185.000000   \n",
      "max                    71594.790000              440.000000   \n",
      "\n",
      "        TOTAL_AMOUNT_SPENT_IN_CASINO_RESTAURANT  NUMBER_OF_RESTAURANT_VISITS  \\\n",
      "count                              10000.000000                 10000.000000   \n",
      "unique                                      NaN                          NaN   \n",
      "top                                         NaN                          NaN   \n",
      "freq                                        NaN                          NaN   \n",
      "mean                                5205.477534                    89.860500   \n",
      "std                                 1323.069707                    23.808631   \n",
      "min                                 1018.320000                    12.000000   \n",
      "25%                                 4282.287500                    73.000000   \n",
      "50%                                 5143.380000                    89.000000   \n",
      "75%                                 6058.717500                   105.000000   \n",
      "max                                10803.050000                   196.000000   \n",
      "\n",
      "        TOTAL_AMOUNT_SPENT_IN_SPA  NUMBER_OF_SPA_VISITS  \\\n",
      "count                10000.000000          10000.000000   \n",
      "unique                        NaN                   NaN   \n",
      "top                           NaN                   NaN   \n",
      "freq                          NaN                   NaN   \n",
      "mean                 10208.786923             39.937900   \n",
      "std                   2604.160190             10.902006   \n",
      "min                   1195.830000              2.000000   \n",
      "25%                   8355.702500             32.000000   \n",
      "50%                  10064.780000             39.000000   \n",
      "75%                  11919.260000             47.000000   \n",
      "max                  21891.020000             88.000000   \n",
      "\n",
      "        TOTAL_REVENUE_TO_CASINO  NUMBER_OF_CONCIERGE_VISITS  \\\n",
      "count              10000.000000                 10000.00000   \n",
      "unique                      NaN                         NaN   \n",
      "top                         NaN                         NaN   \n",
      "freq                        NaN                         NaN   \n",
      "mean               40878.272457                    90.00840   \n",
      "std                11944.013856                    23.79098   \n",
      "min                 3568.520000                    19.00000   \n",
      "25%                32407.655000                    73.00000   \n",
      "50%                39989.640000                    89.00000   \n",
      "75%                48573.185000                   105.00000   \n",
      "max                98707.610000                   200.00000   \n",
      "\n",
      "        PREFERRED_GAME_CATEGORY PREFERRED_GAME_NAME  \n",
      "count                     10000               10000  \n",
      "unique                        3                  11  \n",
      "top     Speciality Number Games         Video Slots  \n",
      "freq                       4073                1407  \n",
      "mean                        NaN                 NaN  \n",
      "std                         NaN                 NaN  \n",
      "min                         NaN                 NaN  \n",
      "25%                         NaN                 NaN  \n",
      "50%                         NaN                 NaN  \n",
      "75%                         NaN                 NaN  \n",
      "max                         NaN                 NaN  \n",
      "        TRANSACTION_ID        DATE      PLAYER_ID     PLAYER_AGE  \\\n",
      "count    200000.000000      200000  200000.000000  200000.000000   \n",
      "unique             NaN        1096            NaN            NaN   \n",
      "top                NaN  04-05-2023            NaN            NaN   \n",
      "freq               NaN         232            NaN            NaN   \n",
      "mean     100000.500000         NaN    4996.881615      60.376765   \n",
      "std       57735.171256         NaN    2885.392724      14.283124   \n",
      "min           1.000000         NaN       1.000000      21.000000   \n",
      "25%       50000.750000         NaN    2497.000000      50.000000   \n",
      "50%      100000.500000         NaN    4991.000000      63.000000   \n",
      "75%      150000.250000         NaN    7495.000000      73.000000   \n",
      "max      200000.000000         NaN   10000.000000      80.000000   \n",
      "\n",
      "       PLAYER_GENDER HOME_COUNTRY  HOME_CITY            GAME_CATEGORY  \\\n",
      "count         200000       200000     200000                   200000   \n",
      "unique             2            4         31                        3   \n",
      "top           Female           US  Singapore  Speciality Number Games   \n",
      "freq          100078        50743      49363                    66780   \n",
      "mean             NaN          NaN        NaN                      NaN   \n",
      "std              NaN          NaN        NaN                      NaN   \n",
      "min              NaN          NaN        NaN                      NaN   \n",
      "25%              NaN          NaN        NaN                      NaN   \n",
      "50%              NaN          NaN        NaN                      NaN   \n",
      "75%              NaN          NaN        NaN                      NaN   \n",
      "max              NaN          NaN        NaN                      NaN   \n",
      "\n",
      "               GAME_NAME  TABLE_MINIMUM_BET IS_PREMIUM_PLAYER  DURATION_SPENT  \\\n",
      "count             200000      200000.000000            200000   200000.000000   \n",
      "unique                11                NaN                 2             NaN   \n",
      "top     Wheel of Fortune                NaN             False             NaN   \n",
      "freq               22348                NaN            149570             NaN   \n",
      "mean                 NaN         502.600009               NaN        4.506609   \n",
      "std                  NaN         287.336201               NaN        2.023435   \n",
      "min                  NaN           5.010000               NaN        1.000000   \n",
      "25%                  NaN         253.697500               NaN        2.750000   \n",
      "50%                  NaN         502.465000               NaN        4.510000   \n",
      "75%                  NaN         751.392500               NaN        6.260000   \n",
      "max                  NaN        1000.000000               NaN        8.000000   \n",
      "\n",
      "        CHIPS_WON_OR_LOST  NUMBER_OF_DAYS_SPENT_IN_CASINO  \\\n",
      "count       200000.000000                    200000.00000   \n",
      "unique                NaN                             NaN   \n",
      "top                   NaN                             NaN   \n",
      "freq                  NaN                             NaN   \n",
      "mean            -0.199490                        15.00081   \n",
      "std            577.246275                         8.35674   \n",
      "min          -1000.000000                         1.00000   \n",
      "25%           -500.000000                         8.00000   \n",
      "50%              0.000000                        15.00000   \n",
      "75%            500.000000                        22.00000   \n",
      "max            999.000000                        29.00000   \n",
      "\n",
      "       STAYED_AT_CASINO_HOTEL  AMOUNT_SPENT_IN_HOTEL_STAY  \\\n",
      "count                  200000               200000.000000   \n",
      "unique                      2                         NaN   \n",
      "top                      True                         NaN   \n",
      "freq                   100048                         NaN   \n",
      "mean                      NaN                 1274.806783   \n",
      "std                       NaN                 1620.430050   \n",
      "min                       NaN                    0.000000   \n",
      "25%                       NaN                    0.000000   \n",
      "50%                       NaN                  101.935000   \n",
      "75%                       NaN                 2550.895000   \n",
      "max                       NaN                 4999.960000   \n",
      "\n",
      "        NUMBER_OF_DAYS_SPENT_IN_HOTEL  NUMBER_OF_RESTAURANT_VISITS  \\\n",
      "count                   200000.000000                200000.000000   \n",
      "unique                            NaN                          NaN   \n",
      "top                               NaN                          NaN   \n",
      "freq                              NaN                          NaN   \n",
      "mean                         7.501185                     4.493120   \n",
      "std                          9.546370                     2.875252   \n",
      "min                          0.000000                     0.000000   \n",
      "25%                          0.000000                     2.000000   \n",
      "50%                          1.000000                     4.000000   \n",
      "75%                         15.000000                     7.000000   \n",
      "max                         29.000000                     9.000000   \n",
      "\n",
      "        AMOUNT_SPENT_IN_CASINO_RESTAURANT  NUMBER_OF_CONCIERGE_VISITS  \\\n",
      "count                       200000.000000               200000.000000   \n",
      "unique                                NaN                         NaN   \n",
      "top                                   NaN                         NaN   \n",
      "freq                                  NaN                         NaN   \n",
      "mean                           260.080048                    4.502670   \n",
      "std                            138.793711                    2.873365   \n",
      "min                             20.000000                    0.000000   \n",
      "25%                            139.517500                    2.000000   \n",
      "50%                            259.790000                    4.000000   \n",
      "75%                            380.570000                    7.000000   \n",
      "max                            500.000000                    9.000000   \n",
      "\n",
      "        AMOUNT_SPENT_IN_SPA  NUMBER_OF_SPA_VISITS IS_LOYALTY_CARD_HOLDER  \\\n",
      "count         200000.000000         200000.000000                 200000   \n",
      "unique                  NaN                   NaN                      2   \n",
      "top                     NaN                   NaN                  False   \n",
      "freq                    NaN                   NaN                 150817   \n",
      "mean             510.064978              1.998695                    NaN   \n",
      "std              282.538081              1.412067                    NaN   \n",
      "min               20.000000              0.000000                    NaN   \n",
      "25%              266.190000              1.000000                    NaN   \n",
      "50%              509.865000              2.000000                    NaN   \n",
      "75%              754.312500              3.000000                    NaN   \n",
      "max             1000.000000              4.000000                    NaN   \n",
      "\n",
      "        REVENUE_MADE_BY_CASINO_FROM_PLAYER  \n",
      "count                        200000.000000  \n",
      "unique                                 NaN  \n",
      "top                                    NaN  \n",
      "freq                                   NaN  \n",
      "mean                           2045.151299  \n",
      "std                            1748.254098  \n",
      "min                            -938.510000  \n",
      "25%                             690.732500  \n",
      "50%                            1524.325000  \n",
      "75%                            3323.652500  \n",
      "max                            7356.870000  \n"
     ]
    }
   ],
   "source": [
    "# Descriptive statistics for customer data\n",
    "print(customer_df.describe(include='all'))\n",
    "print(transaction_df.describe(include='all'))"
   ]
  },
  {
   "cell_type": "code",
   "execution_count": 19,
   "id": "1e1cd13b-1a62-4114-8984-68a0f5791e7b",
   "metadata": {},
   "outputs": [
    {
     "name": "stdout",
     "output_type": "stream",
     "text": [
      "<class 'pandas.core.frame.DataFrame'>\n",
      "RangeIndex: 10000 entries, 0 to 9999\n",
      "Data columns (total 25 columns):\n",
      " #   Column                                   Non-Null Count  Dtype  \n",
      "---  ------                                   --------------  -----  \n",
      " 0   PLAYER_ID                                10000 non-null  int16  \n",
      " 1   AGE                                      10000 non-null  int8   \n",
      " 2   GENDER                                   10000 non-null  object \n",
      " 3   HOME_COUNTRY                             10000 non-null  object \n",
      " 4   HOME_CITY                                10000 non-null  object \n",
      " 5   DATE_FIRST_VISIT                         10000 non-null  object \n",
      " 6   DATE_LAST_VISIT                          10000 non-null  object \n",
      " 7   TOTAL_NUMBER_OF_VISITS                   10000 non-null  int8   \n",
      " 8   TOTAL_DURATION_SPENT                     10000 non-null  float64\n",
      " 9   AVERAGE_DURATION_PER_VISIT               10000 non-null  float64\n",
      " 10  TOTAL_CHIPS_WON_OR_LOST                  10000 non-null  int16  \n",
      " 11  AVERAGE_CHIPS_WON_OR_LOST_PER_VISIT      10000 non-null  float64\n",
      " 12  UNIQUE_GAMES_PLAYED                      10000 non-null  int8   \n",
      " 13  IS_PREMIUM_PLAYER                        10000 non-null  bool   \n",
      " 14  IS_LOYALTY_CARD_HOLDER                   10000 non-null  bool   \n",
      " 15  TOTAL_AMOUNT_SPENT_IN_HOTEL              10000 non-null  float64\n",
      " 16  TOTAL_DAYS_SPENT_HOTEL                   10000 non-null  int16  \n",
      " 17  TOTAL_AMOUNT_SPENT_IN_CASINO_RESTAURANT  10000 non-null  float64\n",
      " 18  NUMBER_OF_RESTAURANT_VISITS              10000 non-null  int16  \n",
      " 19  TOTAL_AMOUNT_SPENT_IN_SPA                10000 non-null  float64\n",
      " 20  NUMBER_OF_SPA_VISITS                     10000 non-null  int8   \n",
      " 21  TOTAL_REVENUE_TO_CASINO                  10000 non-null  float64\n",
      " 22  NUMBER_OF_CONCIERGE_VISITS               10000 non-null  int16  \n",
      " 23  PREFERRED_GAME_CATEGORY                  10000 non-null  object \n",
      " 24  PREFERRED_GAME_NAME                      10000 non-null  object \n",
      "dtypes: bool(2), float64(7), int16(5), int8(4), object(7)\n",
      "memory usage: 1.2+ MB\n",
      "None\n",
      "<class 'pandas.core.frame.DataFrame'>\n",
      "RangeIndex: 200000 entries, 0 to 199999\n",
      "Data columns (total 24 columns):\n",
      " #   Column                              Non-Null Count   Dtype  \n",
      "---  ------                              --------------   -----  \n",
      " 0   TRANSACTION_ID                      200000 non-null  int32  \n",
      " 1   DATE                                200000 non-null  object \n",
      " 2   PLAYER_ID                           200000 non-null  int16  \n",
      " 3   PLAYER_AGE                          200000 non-null  int8   \n",
      " 4   PLAYER_GENDER                       200000 non-null  object \n",
      " 5   HOME_COUNTRY                        200000 non-null  object \n",
      " 6   HOME_CITY                           200000 non-null  object \n",
      " 7   GAME_CATEGORY                       200000 non-null  object \n",
      " 8   GAME_NAME                           200000 non-null  object \n",
      " 9   TABLE_MINIMUM_BET                   200000 non-null  float64\n",
      " 10  IS_PREMIUM_PLAYER                   200000 non-null  bool   \n",
      " 11  DURATION_SPENT                      200000 non-null  float64\n",
      " 12  CHIPS_WON_OR_LOST                   200000 non-null  int16  \n",
      " 13  NUMBER_OF_DAYS_SPENT_IN_CASINO      200000 non-null  int8   \n",
      " 14  STAYED_AT_CASINO_HOTEL              200000 non-null  bool   \n",
      " 15  AMOUNT_SPENT_IN_HOTEL_STAY          200000 non-null  float64\n",
      " 16  NUMBER_OF_DAYS_SPENT_IN_HOTEL       200000 non-null  int8   \n",
      " 17  NUMBER_OF_RESTAURANT_VISITS         200000 non-null  int8   \n",
      " 18  AMOUNT_SPENT_IN_CASINO_RESTAURANT   200000 non-null  float64\n",
      " 19  NUMBER_OF_CONCIERGE_VISITS          200000 non-null  int8   \n",
      " 20  AMOUNT_SPENT_IN_SPA                 200000 non-null  float64\n",
      " 21  NUMBER_OF_SPA_VISITS                200000 non-null  int8   \n",
      " 22  IS_LOYALTY_CARD_HOLDER              200000 non-null  bool   \n",
      " 23  REVENUE_MADE_BY_CASINO_FROM_PLAYER  200000 non-null  float64\n",
      "dtypes: bool(3), float64(6), int16(2), int32(1), int8(6), object(6)\n",
      "memory usage: 21.6+ MB\n",
      "None\n"
     ]
    }
   ],
   "source": [
    "# Info about dataframe\n",
    "print(customer_df.info())\n",
    "print(transaction_df.info())"
   ]
  },
  {
   "cell_type": "code",
   "execution_count": null,
   "id": "857d6b0e-e468-4556-a908-4a38dac9ab6b",
   "metadata": {},
   "outputs": [],
   "source": []
  }
 ],
 "metadata": {
  "kernelspec": {
   "display_name": "Python 3 (ipykernel)",
   "language": "python",
   "name": "python3"
  },
  "language_info": {
   "codemirror_mode": {
    "name": "ipython",
    "version": 3
   },
   "file_extension": ".py",
   "mimetype": "text/x-python",
   "name": "python",
   "nbconvert_exporter": "python",
   "pygments_lexer": "ipython3",
   "version": "3.9.19"
  }
 },
 "nbformat": 4,
 "nbformat_minor": 5
}
