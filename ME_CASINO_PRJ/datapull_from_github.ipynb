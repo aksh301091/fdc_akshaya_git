{
 "cells": [
  {
   "cell_type": "markdown",
   "id": "32a091ca-3f51-4916-9cc8-f057d48efb89",
   "metadata": {},
   "source": [
    "## Installing packages"
   ]
  },
  {
   "cell_type": "code",
   "execution_count": null,
   "id": "44f7ee92-4f4a-4363-a860-0f0e848ec0d3",
   "metadata": {},
   "outputs": [],
   "source": [
    "!pip install --upgrade pip\n",
    "!pip install \"snowflake-connector-python[pandas]\" \"snowflake-snowpark-python[pandas]\" snowflake-snowpark-python==1.9.0 numpy pandas matplotlib scikit-learn xgboost seaborn python-dateutil tqdm holidays faker\n",
    "!pip install --upgrade --q snowflake-snowpark-python==1.9.0\n",
    "!pip uninstall urllib3 -y\n",
    "!pip install urllib3==1.26.15\n",
    "!pip install fosforml==1.1.6"
   ]
  },
  {
   "cell_type": "markdown",
   "id": "248769c1-1205-4c9d-a4e9-f798eaa50a91",
   "metadata": {},
   "source": [
    "## Importing packages"
   ]
  },
  {
   "cell_type": "code",
   "execution_count": 11,
   "id": "4a882d38-4243-4ee5-b02d-30ae9248af86",
   "metadata": {},
   "outputs": [],
   "source": [
    "from fosforml import *\n",
    "from fosforml.constants import MLModelFlavours\n",
    "from matplotlib import pyplot as plt\n",
    "import pandas as pd\n",
    "pd.set_option('display.max_columns', 500)\n",
    "import seaborn as sns\n",
    "from sklearn.metrics import mean_absolute_percentage_error\n",
    "import numpy as np\n",
    "import warnings; warnings.simplefilter('ignore')\n",
    "from joblib import dump, load\n",
    "import requests\n",
    "from tqdm import tqdm\n",
    "import time\n",
    "import calendar\n",
    "\n",
    "from time import sleep\n",
    "import configparser\n",
    "from dateutil.relativedelta import relativedelta\n",
    "import datetime\n",
    "from dateutil.easter import easter\n",
    "from scipy.optimize import minimize_scalar\n",
    "from scipy.optimize import curve_fit\n",
    "\n",
    "%matplotlib inline"
   ]
  },
  {
   "cell_type": "markdown",
   "id": "2b8e4ce5-403b-438a-b363-ea3d32e41181",
   "metadata": {},
   "source": [
    "## Getting data from Github and moving to SF"
   ]
  },
  {
   "cell_type": "code",
   "execution_count": 2,
   "id": "8fa68879-afe3-42ee-8d7a-93637980e2ef",
   "metadata": {},
   "outputs": [],
   "source": [
    "# URL of the CSV file on GitHub\n",
    "#url = 'https://github.com/aksh301091/fdc_akshaya_git/blob/91a0b3faf99492355d3816919fbf79de434926c3/ME_CASINO_PRJ/customer_table.csv'\n",
    "#'https://raw.githubusercontent.com/username/repository/branch/filename.csv'"
   ]
  },
  {
   "cell_type": "code",
   "execution_count": 15,
   "id": "d6c9b9de-600d-4660-84e3-f3d9bd96363a",
   "metadata": {},
   "outputs": [],
   "source": [
    "from fosforml.model_manager.snowflakesession import get_session\n",
    "my_session = get_session()"
   ]
  },
  {
   "cell_type": "code",
   "execution_count": 12,
   "id": "e8efa40b-4258-4840-a052-e9e142ba2617",
   "metadata": {},
   "outputs": [
    {
     "name": "stdout",
     "output_type": "stream",
     "text": [
      "<class 'pandas.core.frame.DataFrame'>\n",
      "RangeIndex: 10000 entries, 0 to 9999\n",
      "Data columns (total 25 columns):\n",
      " #   Column                                   Non-Null Count  Dtype  \n",
      "---  ------                                   --------------  -----  \n",
      " 0   PLAYER_ID                                10000 non-null  int64  \n",
      " 1   AGE                                      10000 non-null  int64  \n",
      " 2   GENDER                                   10000 non-null  object \n",
      " 3   HOME_COUNTRY                             10000 non-null  object \n",
      " 4   HOME_CITY                                10000 non-null  object \n",
      " 5   DATE_FIRST_VISIT                         10000 non-null  object \n",
      " 6   DATE_LAST_VISIT                          10000 non-null  object \n",
      " 7   TOTAL_NUMBER_OF_VISITS                   10000 non-null  int64  \n",
      " 8   TOTAL_DURATION_SPENT                     10000 non-null  float64\n",
      " 9   AVERAGE_DURATION_PER_VISIT               10000 non-null  float64\n",
      " 10  TOTAL_CHIPS_WON_OR_LOST                  10000 non-null  int64  \n",
      " 11  AVERAGE_CHIPS_WON_OR_LOST_PER_VISIT      10000 non-null  float64\n",
      " 12  UNIQUE_GAMES_PLAYED                      10000 non-null  int64  \n",
      " 13  IS_PREMIUM_PLAYER                        10000 non-null  bool   \n",
      " 14  IS_LOYALTY_CARD_HOLDER                   10000 non-null  bool   \n",
      " 15  TOTAL_AMOUNT_SPENT_IN_HOTEL              10000 non-null  float64\n",
      " 16  TOTAL_DAYS_SPENT_HOTEL                   10000 non-null  int64  \n",
      " 17  TOTAL_AMOUNT_SPENT_IN_CASINO_RESTAURANT  10000 non-null  float64\n",
      " 18  NUMBER_OF_RESTAURANT_VISITS              10000 non-null  int64  \n",
      " 19  TOTAL_AMOUNT_SPENT_IN_SPA                10000 non-null  float64\n",
      " 20  NUMBER_OF_SPA_VISITS                     10000 non-null  int64  \n",
      " 21  TOTAL_REVENUE_TO_CASINO                  10000 non-null  float64\n",
      " 22  NUMBER_OF_CONCIERGE_VISITS               10000 non-null  int64  \n",
      " 23  PREFERRED_GAME_CATEGORY                  10000 non-null  object \n",
      " 24  PREFERRED_GAME_NAME                      10000 non-null  object \n",
      "dtypes: bool(2), float64(7), int64(9), object(7)\n",
      "memory usage: 1.8+ MB\n"
     ]
    }
   ],
   "source": [
    "# Read the CSV file into a DataFrame\n",
    "cust_df = pd.read_csv('customer_table.csv')\n",
    "trx_df = pd.read_csv('transaction_table.csv')\n",
    "t1_df = pd.read_csv('trx_1.csv')\n",
    "t2_df = pd.read_csv('trx_2.csv')\n",
    "t2_df = pd.read_csv('trx_3.csv')\n",
    "#cust_df.info()"
   ]
  },
  {
   "cell_type": "code",
   "execution_count": 14,
   "id": "9c9e06c0-c177-4fa1-872e-414bd65c6cb4",
   "metadata": {},
   "outputs": [
    {
     "data": {
      "text/plain": [
       "pandas.core.frame.DataFrame"
      ]
     },
     "execution_count": 14,
     "metadata": {},
     "output_type": "execute_result"
    }
   ],
   "source": [
    "type(cust_df)"
   ]
  },
  {
   "cell_type": "code",
   "execution_count": 18,
   "id": "7cc8c879-b24f-42dd-8fbb-356b57860362",
   "metadata": {},
   "outputs": [
    {
     "name": "stdout",
     "output_type": "stream",
     "text": [
      "-------------------------------------------------------------------------------------------------------------------------------------------------------------------------------------------------------------------------------------------------------------------------------------------------------------------------------------------------------------------------------------------------------------------------------------------------------------------------------------------------------------------------------------------------------------------------------------------------------------------------------------------------------\n",
      "|\"PLAYER_ID\"  |\"AGE\"  |\"GENDER\"  |\"HOME_COUNTRY\"  |\"HOME_CITY\"  |\"DATE_FIRST_VISIT\"  |\"DATE_LAST_VISIT\"  |\"TOTAL_NUMBER_OF_VISITS\"  |\"TOTAL_DURATION_SPENT\"  |\"AVERAGE_DURATION_PER_VISIT\"  |\"TOTAL_CHIPS_WON_OR_LOST\"  |\"AVERAGE_CHIPS_WON_OR_LOST_PER_VISIT\"  |\"UNIQUE_GAMES_PLAYED\"  |\"IS_PREMIUM_PLAYER\"  |\"IS_LOYALTY_CARD_HOLDER\"  |\"TOTAL_AMOUNT_SPENT_IN_HOTEL\"  |\"TOTAL_DAYS_SPENT_HOTEL\"  |\"TOTAL_AMOUNT_SPENT_IN_CASINO_RESTAURANT\"  |\"NUMBER_OF_RESTAURANT_VISITS\"  |\"TOTAL_AMOUNT_SPENT_IN_SPA\"  |\"NUMBER_OF_SPA_VISITS\"  |\"TOTAL_REVENUE_TO_CASINO\"  |\"NUMBER_OF_CONCIERGE_VISITS\"  |\"PREFERRED_GAME_CATEGORY\"  |\"PREFERRED_GAME_NAME\"  |\n",
      "-------------------------------------------------------------------------------------------------------------------------------------------------------------------------------------------------------------------------------------------------------------------------------------------------------------------------------------------------------------------------------------------------------------------------------------------------------------------------------------------------------------------------------------------------------------------------------------------------------------------------------------------------------\n",
      "|1            |28     |Female    |India           |Hyderabad    |02-10-2021          |19-08-2024         |24                        |111.17                  |4.632083333                   |4048                       |168.6666667                            |8                      |False                |True                      |26043.68                       |181                       |5634.89                                    |111                            |11490.81                     |51                      |39121.38                   |96                            |Slot games                 |Video Slots            |\n",
      "|2            |69     |Female    |Singapore       |Singapore    |06-09-2021          |17-08-2024         |24                        |114.26                  |4.760833333                   |-2159                      |-89.95833333                           |10                     |True                 |False                     |28966.09                       |207                       |7598.32                                    |105                            |14077.87                     |50                      |52801.28                   |102                           |Slot games                 |3D Slots               |\n",
      "|3            |52     |Female    |Singapore       |Singapore    |27-11-2021          |22-06-2024         |17                        |81.23                   |4.778235294                   |-419                       |-24.64705882                           |9                      |False                |False                     |23593.94                       |109                       |4642.91                                    |96                             |10904.3                      |35                      |39560.15                   |66                            |Table games                |Roulette               |\n",
      "|4            |41     |Female    |India           |Delhi        |10-10-2021          |18-05-2024         |17                        |69.72                   |4.101176471                   |-246                       |-14.47058824                           |9                      |True                 |False                     |23461.3                        |86                        |5322.28                                    |85                             |6804.14                      |36                      |35833.72                   |78                            |Table games                |Roulette               |\n",
      "|5            |66     |Female    |UK              |Manchester   |08-09-2021          |01-08-2024         |15                        |70.89                   |4.726                         |-755                       |-50.33333333                           |8                      |True                 |True                      |24073.65                       |141                       |4136.14                                    |63                             |7313.53                      |31                      |36278.32                   |82                            |Table games                |Poker                  |\n",
      "|6            |59     |Male      |India           |Delhi        |11-12-2021          |09-06-2024         |20                        |86.02                   |4.301                         |2114                       |105.7                                  |9                      |False                |True                      |23978.09                       |183                       |4535.15                                    |76                             |9415.25                      |40                      |35814.49                   |95                            |Speciality Number Games    |Bingo                  |\n",
      "|7            |68     |Male      |India           |Bangalore    |04-09-2021          |25-07-2024         |19                        |76.2                    |4.010526316                   |2302                       |121.1578947                            |8                      |False                |True                      |13020.62                       |109                       |4773.18                                    |58                             |9877.53                      |28                      |25369.33                   |83                            |Speciality Number Games    |Bingo                  |\n",
      "|8            |61     |Male      |US              |San Diego    |28-10-2021          |19-08-2024         |20                        |87.59                   |4.3795                        |4754                       |237.7                                  |10                     |False                |False                     |20532.22                       |119                       |5316.18                                    |97                             |8614.78                      |40                      |29709.18                   |83                            |Slot games                 |3D Slots               |\n",
      "|9            |51     |Male      |UK              |Birmingham   |19-10-2021          |29-07-2024         |22                        |107.69                  |4.895                         |-1417                      |-64.40909091                           |10                     |False                |True                      |46667.51                       |203                       |5495.5                                     |88                             |13255.58                     |49                      |66835.59                   |87                            |Slot games                 |Video Slots            |\n",
      "|10           |67     |Female    |UK              |Bristol      |03-09-2021          |02-06-2024         |24                        |103.12                  |4.296666667                   |2754                       |114.75                                 |9                      |False                |True                      |37179.09                       |217                       |6205.69                                    |129                            |13507.39                     |41                      |54138.17                   |135                           |Speciality Number Games    |Bingo                  |\n",
      "-------------------------------------------------------------------------------------------------------------------------------------------------------------------------------------------------------------------------------------------------------------------------------------------------------------------------------------------------------------------------------------------------------------------------------------------------------------------------------------------------------------------------------------------------------------------------------------------------------------------------------------------------------\n",
      "\n"
     ]
    }
   ],
   "source": [
    "cust_sfdf = my_session.createDataFrame(cust_df)\n",
    "cust_sfdf.write.mode(\"overwrite\").save_as_table(\"casino_customers\")\n",
    "#my_session.table(\"casino_customers\").show()"
   ]
  },
  {
   "cell_type": "code",
   "execution_count": 19,
   "id": "499fa6d3-8fe1-40ce-b139-4de0b3fd99d7",
   "metadata": {},
   "outputs": [
    {
     "name": "stdout",
     "output_type": "stream",
     "text": [
      "--------------------------------------------------------------------------------------------------------------------------------------------------------------------------------------------------------------------------------------------------------------------------------------------------------------------------------------------------------------------------------------------------------------------------------------------------------------------------------------------------------------------------------------------------------------------------------------------------------\n",
      "|\"TRANSACTION_ID\"  |\"DATE\"      |\"PLAYER_ID\"  |\"PLAYER_AGE\"  |\"PLAYER_GENDER\"  |\"HOME_COUNTRY\"  |\"HOME_CITY\"  |\"GAME_CATEGORY\"          |\"GAME_NAME\"       |\"TABLE_MINIMUM_BET\"  |\"IS_PREMIUM_PLAYER\"  |\"DURATION_SPENT\"  |\"CHIPS_WON_OR_LOST\"  |\"NUMBER_OF_DAYS_SPENT_IN_CASINO\"  |\"STAYED_AT_CASINO_HOTEL\"  |\"AMOUNT_SPENT_IN_HOTEL_STAY\"  |\"NUMBER_OF_DAYS_SPENT_IN_HOTEL\"  |\"NUMBER_OF_RESTAURANT_VISITS\"  |\"AMOUNT_SPENT_IN_CASINO_RESTAURANT\"  |\"NUMBER_OF_CONCIERGE_VISITS\"  |\"AMOUNT_SPENT_IN_SPA\"  |\"NUMBER_OF_SPA_VISITS\"  |\"IS_LOYALTY_CARD_HOLDER\"  |\"REVENUE_MADE_BY_CASINO_FROM_PLAYER\"  |\n",
      "--------------------------------------------------------------------------------------------------------------------------------------------------------------------------------------------------------------------------------------------------------------------------------------------------------------------------------------------------------------------------------------------------------------------------------------------------------------------------------------------------------------------------------------------------------------------------------------------------------\n",
      "|1                 |18-09-2021  |5391         |76            |Male             |India           |Chennai      |Speciality Number Games  |Wheel of Fortune  |206.95               |True                 |6.6               |-718.0               |19.0                              |False                     |0.0                           |0.0                              |6.0                            |245.81                               |1.0                           |480.88                 |2.0                     |False                     |1444.69                               |\n",
      "|2                 |30-07-2024  |6091         |54            |Male             |India           |Chennai      |Table games              |Craps             |407.03               |False                |5.87              |40.0                 |1.0                               |False                     |0.0                           |0.0                              |7.0                            |300.22                               |9.0                           |797.16                 |0.0                     |False                     |1057.38                               |\n",
      "|3                 |09-08-2022  |1551         |64            |Female           |India           |Bangalore    |Table games              |Roulette          |392.38               |True                 |1.35              |-514.0               |1.0                               |False                     |0.0                           |0.0                              |0.0                            |362.81                               |3.0                           |984.54                 |1.0                     |False                     |1861.35                               |\n",
      "|4                 |30-05-2023  |8568         |79            |Female           |India           |Bangalore    |Slot games               |Video Slots       |227.87               |False                |2.96              |-992.0               |22.0                              |True                      |4579.21                       |22.0                             |0.0                            |244.51                               |8.0                           |444.11                 |0.0                     |False                     |6259.83                               |\n",
      "|5                 |06-10-2023  |6877         |67            |Female           |US              |Dallas       |Table games              |Poker             |90.12                |False                |5.55              |645.0                |26.0                              |True                      |4362.35                       |26.0                             |3.0                            |473.64                               |2.0                           |787.09                 |0.0                     |False                     |4978.08                               |\n",
      "|6                 |02-04-2022  |8989         |75            |Male             |India           |Surat        |Speciality Number Games  |Keno              |160.04               |False                |4.85              |962.0                |9.0                               |False                     |0.0                           |0.0                              |4.0                            |402.89                               |1.0                           |519.69                 |3.0                     |False                     |-39.42                                |\n",
      "|7                 |09-06-2024  |2970         |44            |Male             |US              |San Jose     |Speciality Number Games  |Keno              |147.38               |True                 |4.58              |143.0                |20.0                              |False                     |0.0                           |0.0                              |0.0                            |232.25                               |3.0                           |129.89                 |3.0                     |False                     |219.14                                |\n",
      "|8                 |05-06-2022  |1706         |60            |Female           |Singapore       |Singapore    |Slot games               |Video Slots       |403.61               |False                |1.45              |961.0                |2.0                               |True                      |1655.67                       |2.0                              |1.0                            |79.43                                |2.0                           |290.31                 |2.0                     |False                     |1064.41                               |\n",
      "|9                 |11-02-2024  |7421         |77            |Female           |India           |Ahmedabad    |Speciality Number Games  |Keno              |225.57               |False                |7.59              |622.0                |14.0                              |False                     |0.0                           |0.0                              |1.0                            |261.85                               |5.0                           |943.39                 |4.0                     |False                     |583.24                                |\n",
      "|10                |08-11-2023  |8834         |74            |Male             |India           |Jaipur       |Slot games               |Classic Slots     |493.71               |False                |1.22              |226.0                |5.0                               |False                     |0.0                           |0.0                              |0.0                            |437.34                               |7.0                           |279.11                 |4.0                     |False                     |490.45                                |\n",
      "--------------------------------------------------------------------------------------------------------------------------------------------------------------------------------------------------------------------------------------------------------------------------------------------------------------------------------------------------------------------------------------------------------------------------------------------------------------------------------------------------------------------------------------------------------------------------------------------------------\n",
      "\n"
     ]
    }
   ],
   "source": [
    "#trx_sfdf = my_session.createDataFrame(trx_df)\n",
    "#trx_sfdf.write.mode(\"overwrite\").save_as_table(\"casino_transactions\")\n",
    "for df in (t1_df, t2_df, t3_df):\n",
    "    df =  df.append(df, ignore_index=True)\n",
    "print df\n",
    "\n",
    "t1_sfdf = my_session.createDataFrame(t1_df)\n",
    "t1_sfdf.write.mode(\"overwrite\").save_as_table(\"casino_transactions\")\n",
    "\n",
    "t2_sfdf = my_session.createDataFrame(t2_df)\n",
    "t2_sfdf.write.mode(\"overwrite\").save_as_table(\"casino_transactions\")\n",
    "\n",
    "t3_sfdf = my_session.createDataFrame(t3_df)\n",
    "t3_sfdf.write.mode(\"overwrite\").save_as_table(\"casino_transactions\")\n",
    "\n",
    "#my_session.table(\"casino_transactions\").show()"
   ]
  },
  {
   "cell_type": "code",
   "execution_count": 10,
   "id": "00521b8f-491f-4178-ad80-df272754a563",
   "metadata": {},
   "outputs": [
    {
     "name": "stdout",
     "output_type": "stream",
     "text": [
      "<class 'pandas.core.frame.DataFrame'>\n",
      "RangeIndex: 10000 entries, 0 to 9999\n",
      "Data columns (total 25 columns):\n",
      " #   Column                                   Non-Null Count  Dtype  \n",
      "---  ------                                   --------------  -----  \n",
      " 0   PLAYER_ID                                10000 non-null  int64  \n",
      " 1   AGE                                      10000 non-null  int64  \n",
      " 2   GENDER                                   10000 non-null  object \n",
      " 3   HOME_COUNTRY                             10000 non-null  object \n",
      " 4   HOME_CITY                                10000 non-null  object \n",
      " 5   DATE_FIRST_VISIT                         10000 non-null  object \n",
      " 6   DATE_LAST_VISIT                          10000 non-null  object \n",
      " 7   TOTAL_NUMBER_OF_VISITS                   10000 non-null  int64  \n",
      " 8   TOTAL_DURATION_SPENT                     10000 non-null  float64\n",
      " 9   AVERAGE_DURATION_PER_VISIT               10000 non-null  float64\n",
      " 10  TOTAL_CHIPS_WON_OR_LOST                  10000 non-null  int64  \n",
      " 11  AVERAGE_CHIPS_WON_OR_LOST_PER_VISIT      10000 non-null  float64\n",
      " 12  UNIQUE_GAMES_PLAYED                      10000 non-null  int64  \n",
      " 13  IS_PREMIUM_PLAYER                        10000 non-null  bool   \n",
      " 14  IS_LOYALTY_CARD_HOLDER                   10000 non-null  bool   \n",
      " 15  TOTAL_AMOUNT_SPENT_IN_HOTEL              10000 non-null  float64\n",
      " 16  TOTAL_DAYS_SPENT_HOTEL                   10000 non-null  int64  \n",
      " 17  TOTAL_AMOUNT_SPENT_IN_CASINO_RESTAURANT  10000 non-null  float64\n",
      " 18  NUMBER_OF_RESTAURANT_VISITS              10000 non-null  int64  \n",
      " 19  TOTAL_AMOUNT_SPENT_IN_SPA                10000 non-null  float64\n",
      " 20  NUMBER_OF_SPA_VISITS                     10000 non-null  int64  \n",
      " 21  TOTAL_REVENUE_TO_CASINO                  10000 non-null  float64\n",
      " 22  NUMBER_OF_CONCIERGE_VISITS               10000 non-null  int64  \n",
      " 23  PREFERRED_GAME_CATEGORY                  10000 non-null  object \n",
      " 24  PREFERRED_GAME_NAME                      10000 non-null  object \n",
      "dtypes: bool(2), float64(7), int64(9), object(7)\n",
      "memory usage: 1.8+ MB\n"
     ]
    }
   ],
   "source": [
    "df.info()\n"
   ]
  },
  {
   "cell_type": "code",
   "execution_count": null,
   "id": "f4446609-3be8-4475-9054-33e1278c4a8c",
   "metadata": {},
   "outputs": [],
   "source": [
    "## Reading data from SF \n",
    "table_name = 'DF_OPT'\n",
    "df_opt = my_session.sql(\"select * from {}\".format(table_name))\n",
    "df_opt = df_opt.to_pandas()"
   ]
  },
  {
   "cell_type": "code",
   "execution_count": null,
   "id": "3af56f92-0885-4402-96fd-d1b8228e9e88",
   "metadata": {},
   "outputs": [],
   "source": []
  }
 ],
 "metadata": {
  "kernelspec": {
   "display_name": "Python 3 (ipykernel)",
   "language": "python",
   "name": "python3"
  },
  "language_info": {
   "codemirror_mode": {
    "name": "ipython",
    "version": 3
   },
   "file_extension": ".py",
   "mimetype": "text/x-python",
   "name": "python",
   "nbconvert_exporter": "python",
   "pygments_lexer": "ipython3",
   "version": "3.9.19"
  }
 },
 "nbformat": 4,
 "nbformat_minor": 5
}
