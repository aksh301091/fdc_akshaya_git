{
 "cells": [
  {
   "cell_type": "code",
   "execution_count": null,
   "id": "44f7ee92-4f4a-4363-a860-0f0e848ec0d3",
   "metadata": {},
   "outputs": [],
   "source": [
    "!pip install --upgrade pip\n",
    "!pip install \"snowflake-connector-python[pandas]\" \"snowflake-snowpark-python[pandas]\" snowflake-snowpark-python==1.9.0 numpy pandas matplotlib scikit-learn xgboost seaborn python-dateutil tqdm holidays faker\n",
    "!pip install --upgrade --q snowflake-snowpark-python==1.9.0\n",
    "!pip uninstall urllib3 -y\n",
    "!pip install urllib3==1.26.15\n",
    "!pip install fosforml==1.1.6"
   ]
  },
  {
   "cell_type": "code",
   "execution_count": 1,
   "id": "e61394a8-4334-4689-a1cc-55ee90239a9c",
   "metadata": {},
   "outputs": [],
   "source": [
    "import pandas as pd"
   ]
  },
  {
   "cell_type": "code",
   "execution_count": 2,
   "id": "8fa68879-afe3-42ee-8d7a-93637980e2ef",
   "metadata": {},
   "outputs": [],
   "source": [
    "# URL of the CSV file on GitHub\n",
    "url = 'https://github.com/aksh301091/fdc_akshaya_git/blob/91a0b3faf99492355d3816919fbf79de434926c3/ME_CASINO_PRJ/customer_table.csv'\n",
    "#'https://raw.githubusercontent.com/username/repository/branch/filename.csv'"
   ]
  },
  {
   "cell_type": "code",
   "execution_count": 5,
   "id": "7f977392-d412-4046-bee1-5ce2fb602171",
   "metadata": {},
   "outputs": [
    {
     "data": {
      "text/plain": [
       "'https://github.com/aksh301091/fdc_akshaya_git/blob/91a0b3faf99492355d3816919fbf79de434926c3/ME_CASINO_PRJ/customer_table.csv'"
      ]
     },
     "execution_count": 5,
     "metadata": {},
     "output_type": "execute_result"
    }
   ],
   "source": [
    "url"
   ]
  },
  {
   "cell_type": "code",
   "execution_count": 9,
   "id": "e8efa40b-4258-4840-a052-e9e142ba2617",
   "metadata": {},
   "outputs": [
    {
     "name": "stdout",
     "output_type": "stream",
     "text": [
      "   PLAYER_ID  AGE  GENDER HOME_COUNTRY   HOME_CITY DATE_FIRST_VISIT  \\\n",
      "0          1   28  Female        India   Hyderabad       02-10-2021   \n",
      "1          2   69  Female    Singapore   Singapore       06-09-2021   \n",
      "2          3   52  Female    Singapore   Singapore       27-11-2021   \n",
      "3          4   41  Female        India       Delhi       10-10-2021   \n",
      "4          5   66  Female           UK  Manchester       08-09-2021   \n",
      "\n",
      "  DATE_LAST_VISIT  TOTAL_NUMBER_OF_VISITS  TOTAL_DURATION_SPENT  \\\n",
      "0      19-08-2024                      24                111.17   \n",
      "1      17-08-2024                      24                114.26   \n",
      "2      22-06-2024                      17                 81.23   \n",
      "3      18-05-2024                      17                 69.72   \n",
      "4      01-08-2024                      15                 70.89   \n",
      "\n",
      "   AVERAGE_DURATION_PER_VISIT  ...  TOTAL_AMOUNT_SPENT_IN_HOTEL  \\\n",
      "0                    4.632083  ...                     26043.68   \n",
      "1                    4.760833  ...                     28966.09   \n",
      "2                    4.778235  ...                     23593.94   \n",
      "3                    4.101176  ...                     23461.30   \n",
      "4                    4.726000  ...                     24073.65   \n",
      "\n",
      "   TOTAL_DAYS_SPENT_HOTEL  TOTAL_AMOUNT_SPENT_IN_CASINO_RESTAURANT  \\\n",
      "0                     181                                  5634.89   \n",
      "1                     207                                  7598.32   \n",
      "2                     109                                  4642.91   \n",
      "3                      86                                  5322.28   \n",
      "4                     141                                  4136.14   \n",
      "\n",
      "   NUMBER_OF_RESTAURANT_VISITS  TOTAL_AMOUNT_SPENT_IN_SPA  \\\n",
      "0                          111                   11490.81   \n",
      "1                          105                   14077.87   \n",
      "2                           96                   10904.30   \n",
      "3                           85                    6804.14   \n",
      "4                           63                    7313.53   \n",
      "\n",
      "   NUMBER_OF_SPA_VISITS  TOTAL_REVENUE_TO_CASINO  NUMBER_OF_CONCIERGE_VISITS  \\\n",
      "0                    51                 39121.38                          96   \n",
      "1                    50                 52801.28                         102   \n",
      "2                    35                 39560.15                          66   \n",
      "3                    36                 35833.72                          78   \n",
      "4                    31                 36278.32                          82   \n",
      "\n",
      "   PREFERRED_GAME_CATEGORY  PREFERRED_GAME_NAME  \n",
      "0               Slot games          Video Slots  \n",
      "1               Slot games             3D Slots  \n",
      "2              Table games             Roulette  \n",
      "3              Table games             Roulette  \n",
      "4              Table games                Poker  \n",
      "\n",
      "[5 rows x 25 columns]\n"
     ]
    }
   ],
   "source": [
    "# Read the CSV file into a DataFrame\n",
    "df = pd.read_csv('customer_table.csv')\n",
    "\n",
    "# Display the first few rows of the DataFrame\n",
    "print(df.head())"
   ]
  },
  {
   "cell_type": "code",
   "execution_count": null,
   "id": "3af56f92-0885-4402-96fd-d1b8228e9e88",
   "metadata": {},
   "outputs": [],
   "source": []
  }
 ],
 "metadata": {
  "kernelspec": {
   "display_name": "Python 3 (ipykernel)",
   "language": "python",
   "name": "python3"
  },
  "language_info": {
   "codemirror_mode": {
    "name": "ipython",
    "version": 3
   },
   "file_extension": ".py",
   "mimetype": "text/x-python",
   "name": "python",
   "nbconvert_exporter": "python",
   "pygments_lexer": "ipython3",
   "version": "3.9.19"
  }
 },
 "nbformat": 4,
 "nbformat_minor": 5
}
