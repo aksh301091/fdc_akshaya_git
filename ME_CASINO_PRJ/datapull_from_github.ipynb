{
 "cells": [
  {
   "cell_type": "markdown",
   "id": "32a091ca-3f51-4916-9cc8-f057d48efb89",
   "metadata": {},
   "source": [
    "## Installing packages"
   ]
  },
  {
   "cell_type": "code",
   "execution_count": null,
   "id": "44f7ee92-4f4a-4363-a860-0f0e848ec0d3",
   "metadata": {},
   "outputs": [],
   "source": [
    "!pip install --upgrade pip\n",
    "!pip install \"snowflake-connector-python[pandas]\" \"snowflake-snowpark-python[pandas]\" snowflake-snowpark-python==1.9.0 numpy pandas matplotlib scikit-learn xgboost seaborn python-dateutil tqdm holidays faker\n",
    "!pip install --upgrade --q snowflake-snowpark-python==1.9.0\n",
    "!pip uninstall urllib3 -y\n",
    "!pip install urllib3==1.26.15\n",
    "!pip install fosforml==1.1.6"
   ]
  },
  {
   "cell_type": "markdown",
   "id": "248769c1-1205-4c9d-a4e9-f798eaa50a91",
   "metadata": {},
   "source": [
    "## Importing packages"
   ]
  },
  {
   "cell_type": "code",
   "execution_count": 1,
   "id": "4a882d38-4243-4ee5-b02d-30ae9248af86",
   "metadata": {},
   "outputs": [],
   "source": [
    "from fosforml import *\n",
    "from fosforml.constants import MLModelFlavours\n",
    "from matplotlib import pyplot as plt\n",
    "import pandas as pd\n",
    "pd.set_option('display.max_columns', 500)\n",
    "import seaborn as sns\n",
    "from sklearn.metrics import mean_absolute_percentage_error\n",
    "import numpy as np\n",
    "import warnings; warnings.simplefilter('ignore')\n",
    "from joblib import dump, load\n",
    "import requests\n",
    "from tqdm import tqdm\n",
    "import time\n",
    "import calendar\n",
    "\n",
    "from time import sleep\n",
    "import configparser\n",
    "from dateutil.relativedelta import relativedelta\n",
    "import datetime\n",
    "from dateutil.easter import easter\n",
    "from scipy.optimize import minimize_scalar\n",
    "from scipy.optimize import curve_fit\n",
    "\n",
    "%matplotlib inline"
   ]
  },
  {
   "cell_type": "markdown",
   "id": "2b8e4ce5-403b-438a-b363-ea3d32e41181",
   "metadata": {},
   "source": [
    "## Getting data from Github and moving to SF"
   ]
  },
  {
   "cell_type": "code",
   "execution_count": null,
   "id": "8fa68879-afe3-42ee-8d7a-93637980e2ef",
   "metadata": {},
   "outputs": [],
   "source": [
    "# URL of the CSV file on GitHub\n",
    "#url = 'https://github.com/aksh301091/fdc_akshaya_git/blob/91a0b3faf99492355d3816919fbf79de434926c3/ME_CASINO_PRJ/customer_table.csv'\n",
    "#'https://raw.githubusercontent.com/username/repository/branch/filename.csv'"
   ]
  },
  {
   "cell_type": "code",
   "execution_count": 2,
   "id": "d6c9b9de-600d-4660-84e3-f3d9bd96363a",
   "metadata": {},
   "outputs": [],
   "source": [
    "from fosforml.model_manager.snowflakesession import get_session\n",
    "my_session = get_session()"
   ]
  },
  {
   "cell_type": "code",
   "execution_count": 3,
   "id": "e8efa40b-4258-4840-a052-e9e142ba2617",
   "metadata": {},
   "outputs": [],
   "source": [
    "# Read the CSV file into a DataFrame\n",
    "cust_df = pd.read_csv('customer_table.csv')\n",
    "#trx_df = pd.read_csv('transaction_table.csv')\n",
    "\n",
    "#cust_df.info()"
   ]
  },
  {
   "cell_type": "code",
   "execution_count": 7,
   "id": "dfd7a08c-a93a-43c4-88d3-9ea39fa4ed5d",
   "metadata": {},
   "outputs": [],
   "source": [
    "t1_df = pd.read_csv('trx_1.csv')\n",
    "t2_df = pd.read_csv('trx_2.csv')\n",
    "t3_df = pd.read_csv('trx_3.csv')"
   ]
  },
  {
   "cell_type": "code",
   "execution_count": 5,
   "id": "9c9e06c0-c177-4fa1-872e-414bd65c6cb4",
   "metadata": {},
   "outputs": [
    {
     "data": {
      "text/plain": [
       "pandas.core.frame.DataFrame"
      ]
     },
     "execution_count": 5,
     "metadata": {},
     "output_type": "execute_result"
    }
   ],
   "source": [
    "type(cust_df)"
   ]
  },
  {
   "cell_type": "code",
   "execution_count": null,
   "id": "7cc8c879-b24f-42dd-8fbb-356b57860362",
   "metadata": {},
   "outputs": [],
   "source": [
    "cust_sfdf = my_session.createDataFrame(cust_df)\n",
    "cust_sfdf.write.mode(\"overwrite\").save_as_table(\"casino_customers\")\n",
    "#my_session.table(\"casino_customers\").show()"
   ]
  },
  {
   "cell_type": "code",
   "execution_count": 11,
   "id": "8374e745-36e8-4b82-aa13-b96ea5cdd7c7",
   "metadata": {},
   "outputs": [],
   "source": [
    "#inter_df = pd.concat([t1_df, t2_df, t2_df, ignore_index=True)\n",
    "inter_df = t1_df._append(t2_df,ignore_index=True)\n",
    "\n",
    "#for trx_df in (t1_df, t2_df, t3_df):\n",
    "#    trx_df =  trx_df.append(df, ignore_index=True)\n",
    "#trx_df"
   ]
  },
  {
   "cell_type": "code",
   "execution_count": 12,
   "id": "2cf4b1ac-8936-4b6b-9828-e77b67463fd0",
   "metadata": {},
   "outputs": [],
   "source": [
    "trx_df = inter_df._append(t3_df, ignore_index=True)"
   ]
  },
  {
   "cell_type": "code",
   "execution_count": 15,
   "id": "8c237e75-fa76-495a-8e25-0b7a6df9d51f",
   "metadata": {},
   "outputs": [
    {
     "name": "stdout",
     "output_type": "stream",
     "text": [
      "<class 'pandas.core.frame.DataFrame'>\n",
      "RangeIndex: 200000 entries, 0 to 199999\n",
      "Data columns (total 24 columns):\n",
      " #   Column                              Non-Null Count   Dtype  \n",
      "---  ------                              --------------   -----  \n",
      " 0   TRANSACTION_ID                      200000 non-null  int64  \n",
      " 1   DATE                                200000 non-null  object \n",
      " 2   PLAYER_ID                           200000 non-null  int64  \n",
      " 3   PLAYER_AGE                          200000 non-null  int64  \n",
      " 4   PLAYER_GENDER                       200000 non-null  object \n",
      " 5   HOME_COUNTRY                        200000 non-null  object \n",
      " 6   HOME_CITY                           200000 non-null  object \n",
      " 7   GAME_CATEGORY                       200000 non-null  object \n",
      " 8   GAME_NAME                           200000 non-null  object \n",
      " 9   TABLE_MINIMUM_BET                   200000 non-null  float64\n",
      " 10  IS_PREMIUM_PLAYER                   200000 non-null  bool   \n",
      " 11  DURATION_SPENT                      200000 non-null  float64\n",
      " 12  CHIPS_WON_OR_LOST                   200000 non-null  int64  \n",
      " 13  NUMBER_OF_DAYS_SPENT_IN_CASINO      200000 non-null  int64  \n",
      " 14  STAYED_AT_CASINO_HOTEL              200000 non-null  bool   \n",
      " 15  AMOUNT_SPENT_IN_HOTEL_STAY          200000 non-null  float64\n",
      " 16  NUMBER_OF_DAYS_SPENT_IN_HOTEL       200000 non-null  int64  \n",
      " 17  NUMBER_OF_RESTAURANT_VISITS         200000 non-null  int64  \n",
      " 18  AMOUNT_SPENT_IN_CASINO_RESTAURANT   200000 non-null  float64\n",
      " 19  NUMBER_OF_CONCIERGE_VISITS          200000 non-null  int64  \n",
      " 20  AMOUNT_SPENT_IN_SPA                 200000 non-null  float64\n",
      " 21  NUMBER_OF_SPA_VISITS                200000 non-null  int64  \n",
      " 22  IS_LOYALTY_CARD_HOLDER              200000 non-null  bool   \n",
      " 23  REVENUE_MADE_BY_CASINO_FROM_PLAYER  200000 non-null  float64\n",
      "dtypes: bool(3), float64(6), int64(9), object(6)\n",
      "memory usage: 32.6+ MB\n"
     ]
    }
   ],
   "source": [
    "trx_df.info()"
   ]
  },
  {
   "cell_type": "code",
   "execution_count": 14,
   "id": "499fa6d3-8fe1-40ce-b139-4de0b3fd99d7",
   "metadata": {},
   "outputs": [],
   "source": [
    "trx_sfdf = my_session.createDataFrame(trx_df)\n",
    "trx_sfdf.write.mode(\"overwrite\").save_as_table(\"casino_transactions\")\n",
    "\n",
    "#my_session.table(\"casino_transactions\").show()"
   ]
  },
  {
   "cell_type": "code",
   "execution_count": null,
   "id": "00521b8f-491f-4178-ad80-df272754a563",
   "metadata": {},
   "outputs": [],
   "source": [
    "df.info()\n"
   ]
  },
  {
   "cell_type": "code",
   "execution_count": null,
   "id": "f4446609-3be8-4475-9054-33e1278c4a8c",
   "metadata": {},
   "outputs": [],
   "source": [
    "## Reading data from SF \n",
    "table_name = 'DF_OPT'\n",
    "df_opt = my_session.sql(\"select * from {}\".format(table_name))\n",
    "df_opt = df_opt.to_pandas()"
   ]
  },
  {
   "cell_type": "code",
   "execution_count": null,
   "id": "3af56f92-0885-4402-96fd-d1b8228e9e88",
   "metadata": {},
   "outputs": [],
   "source": []
  }
 ],
 "metadata": {
  "kernelspec": {
   "display_name": "Python 3 (ipykernel)",
   "language": "python",
   "name": "python3"
  },
  "language_info": {
   "codemirror_mode": {
    "name": "ipython",
    "version": 3
   },
   "file_extension": ".py",
   "mimetype": "text/x-python",
   "name": "python",
   "nbconvert_exporter": "python",
   "pygments_lexer": "ipython3",
   "version": "3.9.19"
  }
 },
 "nbformat": 4,
 "nbformat_minor": 5
}
