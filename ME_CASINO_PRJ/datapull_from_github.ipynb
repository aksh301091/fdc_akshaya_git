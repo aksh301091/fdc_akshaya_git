{
 "cells": [
  {
   "cell_type": "markdown",
   "id": "32a091ca-3f51-4916-9cc8-f057d48efb89",
   "metadata": {},
   "source": [
    "## Installing packages"
   ]
  },
  {
   "cell_type": "code",
   "execution_count": null,
   "id": "44f7ee92-4f4a-4363-a860-0f0e848ec0d3",
   "metadata": {},
   "outputs": [],
   "source": [
    "!pip install --upgrade pip\n",
    "!pip install \"snowflake-connector-python[pandas]\" \"snowflake-snowpark-python[pandas]\" snowflake-snowpark-python==1.9.0 numpy pandas matplotlib scikit-learn xgboost seaborn python-dateutil tqdm holidays faker\n",
    "!pip install --upgrade --q snowflake-snowpark-python==1.9.0\n",
    "!pip uninstall urllib3 -y\n",
    "!pip install urllib3==1.26.15\n",
    "!pip install fosforml==1.1.6"
   ]
  },
  {
   "cell_type": "code",
   "execution_count": null,
   "id": "9e456ec4-8c4e-4f58-a82a-544f2431f1f2",
   "metadata": {},
   "outputs": [],
   "source": [
    "!pip install yellowbrick"
   ]
  },
  {
   "cell_type": "markdown",
   "id": "248769c1-1205-4c9d-a4e9-f798eaa50a91",
   "metadata": {},
   "source": [
    "## Importing packages"
   ]
  },
  {
   "cell_type": "code",
   "execution_count": 1,
   "id": "4a882d38-4243-4ee5-b02d-30ae9248af86",
   "metadata": {},
   "outputs": [],
   "source": [
    "from fosforml import *\n",
    "from fosforml.constants import MLModelFlavours\n",
    "from matplotlib import pyplot as plt\n",
    "import numpy as np\n",
    "import pandas as pd\n",
    "pd.set_option('display.max_columns', 500)\n",
    "import seaborn as sns\n",
    "from sklearn.metrics import mean_absolute_percentage_error\n",
    "import warnings; warnings.simplefilter('ignore')\n",
    "from joblib import dump, load\n",
    "import requests\n",
    "from tqdm import tqdm\n",
    "import time\n",
    "import calendar\n",
    "\n",
    "from time import sleep\n",
    "import configparser\n",
    "from dateutil.relativedelta import relativedelta\n",
    "import datetime\n",
    "from dateutil.easter import easter\n",
    "from scipy.optimize import minimize_scalar\n",
    "from scipy.optimize import curve_fit\n",
    "\n",
    "%matplotlib inline"
   ]
  },
  {
   "cell_type": "code",
   "execution_count": 2,
   "id": "cc28067c-84d0-4f5b-80a9-5dee03b04892",
   "metadata": {},
   "outputs": [],
   "source": [
    "#Importing the Libraries\n",
    "\n",
    "import datetime\n",
    "import matplotlib\n",
    "import matplotlib.pyplot as plt\n",
    "from matplotlib import colors\n",
    "import seaborn as sns\n",
    "from sklearn.preprocessing import LabelEncoder\n",
    "from sklearn.preprocessing import StandardScaler\n",
    "from sklearn.decomposition import PCA\n",
    "from yellowbrick.cluster import KElbowVisualizer\n",
    "from sklearn.cluster import KMeans\n",
    "from mpl_toolkits.mplot3d import Axes3D\n",
    "from sklearn.cluster import AgglomerativeClustering\n",
    "from matplotlib.colors import ListedColormap\n",
    "from sklearn import metrics\n",
    "import warnings\n",
    "import sys\n",
    "if not sys.warnoptions:\n",
    "    warnings.simplefilter(\"ignore\")\n",
    "np.random.seed(42)"
   ]
  },
  {
   "cell_type": "code",
   "execution_count": 4,
   "id": "d6c9b9de-600d-4660-84e3-f3d9bd96363a",
   "metadata": {},
   "outputs": [],
   "source": [
    "from fosforml.model_manager.snowflakesession import get_session\n",
    "my_session = get_session()"
   ]
  },
  {
   "cell_type": "markdown",
   "id": "2b8e4ce5-403b-438a-b363-ea3d32e41181",
   "metadata": {
    "jp-MarkdownHeadingCollapsed": true
   },
   "source": [
    "## Getting data from Github and moving to SF"
   ]
  },
  {
   "cell_type": "code",
   "execution_count": null,
   "id": "8fa68879-afe3-42ee-8d7a-93637980e2ef",
   "metadata": {},
   "outputs": [],
   "source": [
    "# URL of the CSV file on GitHub\n",
    "#url = 'https://github.com/aksh301091/fdc_akshaya_git/blob/91a0b3faf99492355d3816919fbf79de434926c3/ME_CASINO_PRJ/customer_table.csv'\n",
    "#'https://raw.githubusercontent.com/username/repository/branch/filename.csv'"
   ]
  },
  {
   "cell_type": "code",
   "execution_count": null,
   "id": "e8efa40b-4258-4840-a052-e9e142ba2617",
   "metadata": {},
   "outputs": [],
   "source": [
    "# Read the CSV file into a DataFrame\n",
    "cust_df = pd.read_csv('customer_table.csv')\n",
    "#trx_df = pd.read_csv('transaction_table.csv')\n",
    "\n",
    "#cust_df.info()"
   ]
  },
  {
   "cell_type": "code",
   "execution_count": null,
   "id": "dfd7a08c-a93a-43c4-88d3-9ea39fa4ed5d",
   "metadata": {},
   "outputs": [],
   "source": [
    "t1_df = pd.read_csv('trx_1.csv')\n",
    "t2_df = pd.read_csv('trx_2.csv')\n",
    "t3_df = pd.read_csv('trx_3.csv')"
   ]
  },
  {
   "cell_type": "code",
   "execution_count": null,
   "id": "9c9e06c0-c177-4fa1-872e-414bd65c6cb4",
   "metadata": {},
   "outputs": [],
   "source": [
    "type(cust_df)"
   ]
  },
  {
   "cell_type": "code",
   "execution_count": null,
   "id": "7cc8c879-b24f-42dd-8fbb-356b57860362",
   "metadata": {},
   "outputs": [],
   "source": [
    "cust_sfdf = my_session.createDataFrame(cust_df)\n",
    "cust_sfdf.write.mode(\"overwrite\").save_as_table(\"casino_customers\")\n",
    "#my_session.table(\"casino_customers\").show()"
   ]
  },
  {
   "cell_type": "code",
   "execution_count": null,
   "id": "8374e745-36e8-4b82-aa13-b96ea5cdd7c7",
   "metadata": {},
   "outputs": [],
   "source": [
    "#inter_df = pd.concat([t1_df, t2_df, t2_df, ignore_index=True)\n",
    "inter_df = t1_df._append(t2_df,ignore_index=True)\n",
    "\n",
    "#for trx_df in (t1_df, t2_df, t3_df):\n",
    "#    trx_df =  trx_df.append(df, ignore_index=True)\n",
    "#trx_df"
   ]
  },
  {
   "cell_type": "code",
   "execution_count": null,
   "id": "2cf4b1ac-8936-4b6b-9828-e77b67463fd0",
   "metadata": {},
   "outputs": [],
   "source": [
    "trx_df = inter_df._append(t3_df, ignore_index=True)"
   ]
  },
  {
   "cell_type": "code",
   "execution_count": null,
   "id": "8c237e75-fa76-495a-8e25-0b7a6df9d51f",
   "metadata": {},
   "outputs": [],
   "source": [
    "trx_df.info()"
   ]
  },
  {
   "cell_type": "code",
   "execution_count": null,
   "id": "f59bb71a-b794-461e-9788-82cd08af032b",
   "metadata": {},
   "outputs": [],
   "source": [
    "cust"
   ]
  },
  {
   "cell_type": "code",
   "execution_count": null,
   "id": "499fa6d3-8fe1-40ce-b139-4de0b3fd99d7",
   "metadata": {},
   "outputs": [],
   "source": [
    "trx_sfdf = my_session.createDataFrame(trx_df)\n",
    "trx_sfdf.write.mode(\"overwrite\").save_as_table(\"casino_transactions\")"
   ]
  },
  {
   "cell_type": "markdown",
   "id": "b0f5d18d-b75d-40ae-a7c1-b22e5de7d9e9",
   "metadata": {},
   "source": [
    "## Reading data from SF "
   ]
  },
  {
   "cell_type": "code",
   "execution_count": 5,
   "id": "f4446609-3be8-4475-9054-33e1278c4a8c",
   "metadata": {},
   "outputs": [
    {
     "data": {
      "text/plain": [
       "pandas.core.frame.DataFrame"
      ]
     },
     "execution_count": 5,
     "metadata": {},
     "output_type": "execute_result"
    }
   ],
   "source": [
    "## Reading data from SF \n",
    "\n",
    "table_name = 'CASINO_CUSTOMERS'\n",
    "customer_df = my_session.sql(\"select * from {}\".format(table_name))\n",
    "customer_df = customer_df.to_pandas()\n",
    "type(customer_df)"
   ]
  },
  {
   "cell_type": "code",
   "execution_count": 6,
   "id": "3af56f92-0885-4402-96fd-d1b8228e9e88",
   "metadata": {},
   "outputs": [
    {
     "data": {
      "text/plain": [
       "pandas.core.frame.DataFrame"
      ]
     },
     "execution_count": 6,
     "metadata": {},
     "output_type": "execute_result"
    }
   ],
   "source": [
    "table_name = 'CASINO_TRANSACTIONS'\n",
    "transaction_df = my_session.sql(\"select * from {}\".format(table_name))\n",
    "transaction_df = transaction_df.to_pandas()\n",
    "type(transaction_df)"
   ]
  },
  {
   "cell_type": "markdown",
   "id": "be6a6e1c-8a51-48f8-9aa5-37d059dcf1a6",
   "metadata": {},
   "source": [
    "## Data Preparation"
   ]
  },
  {
   "cell_type": "code",
   "execution_count": 7,
   "id": "8f31bd07-85a8-4bb7-8922-3e326eee0b1a",
   "metadata": {},
   "outputs": [],
   "source": [
    "# Date transformation data type\n",
    "\n",
    "customer_df['DATE_FIRST_VISIT'] = pd.to_datetime(customer_df['DATE_FIRST_VISIT'], format = 'mixed')\n",
    "customer_df['DATE_LAST_VISIT'] = pd.to_datetime(customer_df['DATE_LAST_VISIT'], format = 'mixed')\n",
    "transaction_df['DATE'] = pd.to_datetime(transaction_df['DATE'], format = 'mixed')"
   ]
  },
  {
   "cell_type": "code",
   "execution_count": null,
   "id": "147e96d0-eb38-45ce-9518-c0f169d6c8e5",
   "metadata": {},
   "outputs": [],
   "source": [
    "print(customer_df.info())\n",
    "print(transaction_df.info())"
   ]
  },
  {
   "cell_type": "code",
   "execution_count": null,
   "id": "2adb2bb2-144e-49dd-9aa6-18ab638653cd",
   "metadata": {},
   "outputs": [],
   "source": [
    "# Adding new features for better classification\n",
    "customer_df['VISIT_FREQUENCY'] = customer_df['TOTAL_NUMBER_OF_VISITS'] / ((pd.to_datetime(customer_df['DATE_LAST_VISIT']) - \n",
    "                                                                           pd.to_datetime(customer_df['DATE_FIRST_VISIT'])).dt.days + 1)"
   ]
  },
  {
   "cell_type": "markdown",
   "id": "9480e0d3-a432-4132-b2d4-5f09e11dd0ec",
   "metadata": {
    "jp-MarkdownHeadingCollapsed": true
   },
   "source": [
    "## Data Exploration"
   ]
  },
  {
   "cell_type": "code",
   "execution_count": null,
   "id": "5705cf61-bba0-4956-a593-6477cd13a30b",
   "metadata": {},
   "outputs": [],
   "source": [
    "# Descriptive statistics for customer data\n",
    "print(customer_df.describe(include='all'))\n",
    "print(transaction_df.describe(include='all'))"
   ]
  },
  {
   "cell_type": "code",
   "execution_count": null,
   "id": "857d6b0e-e468-4556-a908-4a38dac9ab6b",
   "metadata": {},
   "outputs": [],
   "source": [
    "# Plotting distribution of age\n",
    "plt.figure(figsize=(12, 6))\n",
    "sns.histplot(customer_df['AGE'], bins=20, kde=True)\n",
    "plt.title('Age Distribution')\n",
    "plt.show()"
   ]
  },
  {
   "cell_type": "code",
   "execution_count": null,
   "id": "6ac0249c-76fb-4743-a183-aa474cff618e",
   "metadata": {},
   "outputs": [],
   "source": [
    "# Plotting distribution for numeric features in customer data\n",
    "customer_df.hist(bins=15, figsize=(20, 15))\n",
    "plt.suptitle('Distribution of Numeric Features in Customer Data')\n",
    "plt.show()"
   ]
  },
  {
   "cell_type": "code",
   "execution_count": null,
   "id": "c2e3e501-6dc2-4f6a-ad27-b1b1dbbb5515",
   "metadata": {},
   "outputs": [],
   "source": [
    "# Correlation matrix for customer_df\n",
    "correlation_matrix = customer_df.corr()\n",
    "plt.figure(figsize=(15, 10))\n",
    "sns.heatmap(correlation_matrix, annot=True, cmap='coolwarm')\n",
    "plt.title('Correlation Matrix for Customer Data')\n",
    "plt.show()"
   ]
  },
  {
   "cell_type": "code",
   "execution_count": null,
   "id": "8e5b2e3f-0b4d-48bf-bcbe-5b750284c1b9",
   "metadata": {},
   "outputs": [],
   "source": [
    "corrmat= customer_df.corr()\n",
    "plt.figure(figsize=(20,20))  \n",
    "sns.heatmap(corrmat,annot=True, cmap='coolwarm', center=0)"
   ]
  },
  {
   "cell_type": "code",
   "execution_count": null,
   "id": "b838a778-9734-48cf-bcce-bc0549261e18",
   "metadata": {},
   "outputs": [],
   "source": [
    "# Plotting categorical features against target variable\n",
    "sns.countplot(x='GENDER', data=customer_df)\n",
    "plt.title('Gender Distribution')\n",
    "plt.show()"
   ]
  },
  {
   "cell_type": "code",
   "execution_count": null,
   "id": "7d3ea32e-b4a8-4ad4-acea-950e7e1eb96f",
   "metadata": {},
   "outputs": [],
   "source": [
    "sns.countplot(x='HOME_COUNTRY', data=customer_df)\n",
    "plt.title('Country Distribution')\n",
    "plt.show()"
   ]
  },
  {
   "cell_type": "markdown",
   "id": "9e064770-35a2-40e8-9431-ff0c6c6865d1",
   "metadata": {
    "jp-MarkdownHeadingCollapsed": true
   },
   "source": [
    "## Pre-processing"
   ]
  },
  {
   "cell_type": "code",
   "execution_count": null,
   "id": "28e1a4a4-0af1-4e28-bf85-e444637f1c48",
   "metadata": {},
   "outputs": [],
   "source": [
    "# Checking for missing values\n",
    "print(customer_df.isna().sum())"
   ]
  },
  {
   "cell_type": "code",
   "execution_count": null,
   "id": "092e7e4a-3f6c-4912-94ca-046f4080e8d0",
   "metadata": {},
   "outputs": [],
   "source": [
    "# Fill missing values or drop them if appropriate\n",
    "customer_df = customer_df.dropna()  # Here we simply drop missing values"
   ]
  },
  {
   "cell_type": "code",
   "execution_count": null,
   "id": "c9f735bf-fdd9-489d-a602-56b1fcc06bd2",
   "metadata": {},
   "outputs": [],
   "source": []
  },
  {
   "cell_type": "code",
   "execution_count": null,
   "id": "efab25c9-8b8c-456a-a785-57f076ca6c88",
   "metadata": {},
   "outputs": [],
   "source": []
  },
  {
   "cell_type": "code",
   "execution_count": null,
   "id": "a7b8cc9e-482f-4bc5-b6eb-e5e4ddff7670",
   "metadata": {},
   "outputs": [],
   "source": []
  },
  {
   "cell_type": "code",
   "execution_count": null,
   "id": "32d4501e-d34c-4f02-ab6d-83a398b99342",
   "metadata": {},
   "outputs": [],
   "source": []
  },
  {
   "cell_type": "code",
   "execution_count": null,
   "id": "cdbb825e-ee39-4d84-98ae-b23a39ba1cb9",
   "metadata": {},
   "outputs": [],
   "source": []
  },
  {
   "cell_type": "code",
   "execution_count": null,
   "id": "5ea71576-a11a-4839-9d30-4386794746a9",
   "metadata": {},
   "outputs": [],
   "source": [
    "# Encoding categorical variables\n",
    "from sklearn.preprocessing import LabelEncoder\n",
    "label_encoders = {}\n",
    "for column in ['GENDER', 'HOME_COUNTRY', 'HOME_CITY', 'PREFERRED_GAME_CATEGORY', 'PREFERRED_GAME_NAME', 'IS_PREMIUM_PLAYER', 'IS_LOYALTY_CARD_HOLDER']:\n",
    "    le = LabelEncoder()\n",
    "    customer_df[column] = le.fit_transform(customer_df[column])\n",
    "    label_encoders[column] = le"
   ]
  },
  {
   "cell_type": "markdown",
   "id": "afcd0d72-f548-4543-8f4c-af033fe869f4",
   "metadata": {},
   "source": [
    "## Feature Engineering"
   ]
  },
  {
   "cell_type": "markdown",
   "id": "381aa516-8a47-4a52-a4f0-b2dbb2bfae57",
   "metadata": {},
   "source": [
    "## Classification Model training"
   ]
  },
  {
   "cell_type": "code",
   "execution_count": null,
   "id": "dd8d5f38-3472-40a8-be0c-11b0896b75ad",
   "metadata": {},
   "outputs": [],
   "source": [
    "# Preparing data for classification models\n",
    "\n",
    "X = customer_df.drop(columns=['PLAYER_ID', 'DATE_FIRST_VISIT', 'DATE_LAST_VISIT'])\n",
    "y = customer_df['IS_PREMIUM_PLAYER']  # Assuming the target variable is premium membership"
   ]
  },
  {
   "cell_type": "code",
   "execution_count": null,
   "id": "14186beb-86c1-4664-b4f4-668cae605c13",
   "metadata": {},
   "outputs": [],
   "source": []
  },
  {
   "cell_type": "code",
   "execution_count": null,
   "id": "a5ec1853-19a6-44c3-b6bd-d55ee22accbd",
   "metadata": {},
   "outputs": [],
   "source": []
  },
  {
   "cell_type": "code",
   "execution_count": null,
   "id": "75162080-d988-4832-b44a-106c7c763b34",
   "metadata": {},
   "outputs": [],
   "source": []
  }
 ],
 "metadata": {
  "kernelspec": {
   "display_name": "Python 3 (ipykernel)",
   "language": "python",
   "name": "python3"
  },
  "language_info": {
   "codemirror_mode": {
    "name": "ipython",
    "version": 3
   },
   "file_extension": ".py",
   "mimetype": "text/x-python",
   "name": "python",
   "nbconvert_exporter": "python",
   "pygments_lexer": "ipython3",
   "version": "3.9.19"
  }
 },
 "nbformat": 4,
 "nbformat_minor": 5
}
