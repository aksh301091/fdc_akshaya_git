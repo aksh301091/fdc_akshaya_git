{
 "cells": [
  {
   "cell_type": "markdown",
   "id": "500abd05-4d93-4e9d-ae1c-fba25ed30af5",
   "metadata": {},
   "source": [
    "# Casino Player Segmentation"
   ]
  },
  {
   "cell_type": "markdown",
   "id": "32a091ca-3f51-4916-9cc8-f057d48efb89",
   "metadata": {},
   "source": [
    "## Installing packages"
   ]
  },
  {
   "cell_type": "code",
   "execution_count": null,
   "id": "44f7ee92-4f4a-4363-a860-0f0e848ec0d3",
   "metadata": {},
   "outputs": [],
   "source": [
    "!pip install --upgrade pip\n",
    "!pip install \"snowflake-connector-python[pandas]\" \"snowflake-snowpark-python[pandas]\" snowflake-snowpark-python==1.9.0 numpy pandas matplotlib scikit-learn xgboost seaborn python-dateutil tqdm holidays faker\n",
    "!pip install --upgrade --q snowflake-snowpark-python==1.9.0\n",
    "!pip uninstall urllib3 -y\n",
    "!pip install urllib3==1.26.15\n",
    "!pip install fosforml==1.1.6"
   ]
  },
  {
   "cell_type": "code",
   "execution_count": null,
   "id": "9e456ec4-8c4e-4f58-a82a-544f2431f1f2",
   "metadata": {},
   "outputs": [],
   "source": [
    "!pip install yellowbrick"
   ]
  },
  {
   "cell_type": "markdown",
   "id": "248769c1-1205-4c9d-a4e9-f798eaa50a91",
   "metadata": {},
   "source": [
    "### Importing packages"
   ]
  },
  {
   "cell_type": "code",
   "execution_count": null,
   "id": "4a882d38-4243-4ee5-b02d-30ae9248af86",
   "metadata": {},
   "outputs": [],
   "source": [
    "from fosforml import *\n",
    "from fosforml.constants import MLModelFlavours\n",
    "from matplotlib import pyplot as plt\n",
    "import numpy as np\n",
    "import pandas as pd\n",
    "pd.set_option('display.max_columns', 500)\n",
    "import seaborn as sns\n",
    "from sklearn.metrics import mean_absolute_percentage_error\n",
    "import warnings; warnings.simplefilter('ignore')\n",
    "from joblib import dump, load\n",
    "import requests\n",
    "from tqdm import tqdm\n",
    "import time\n",
    "import calendar\n",
    "\n",
    "from time import sleep\n",
    "import configparser\n",
    "from dateutil.relativedelta import relativedelta\n",
    "import datetime\n",
    "from dateutil.easter import easter\n",
    "from scipy.optimize import minimize_scalar\n",
    "from scipy.optimize import curve_fit\n",
    "\n",
    "%matplotlib inline"
   ]
  },
  {
   "cell_type": "code",
   "execution_count": null,
   "id": "df36d86e-c47f-4567-998a-cdf92c6aa7b8",
   "metadata": {},
   "outputs": [],
   "source": [
    "import matplotlib.pyplot as plt\n",
    "plt.rcParams['font.family'] = 'DeJavu Serif'\n",
    "plt.rcParams['font.serif'] = ['Times New Roman']"
   ]
  },
  {
   "cell_type": "code",
   "execution_count": null,
   "id": "cc28067c-84d0-4f5b-80a9-5dee03b04892",
   "metadata": {},
   "outputs": [],
   "source": [
    "#Importing the Libraries\n",
    "\n",
    "import datetime\n",
    "import matplotlib\n",
    "import matplotlib.pyplot as plt\n",
    "from matplotlib import colors\n",
    "import seaborn as sns\n",
    "from sklearn.preprocessing import LabelEncoder\n",
    "from sklearn.preprocessing import StandardScaler\n",
    "from sklearn.decomposition import PCA\n",
    "from yellowbrick.cluster import KElbowVisualizer\n",
    "from sklearn.cluster import KMeans\n",
    "from mpl_toolkits.mplot3d import Axes3D\n",
    "from sklearn.cluster import AgglomerativeClustering\n",
    "from matplotlib.colors import ListedColormap\n",
    "from sklearn import metrics\n",
    "import warnings\n",
    "import sys\n",
    "if not sys.warnoptions:\n",
    "    warnings.simplefilter(\"ignore\")\n",
    "np.random.seed(42)"
   ]
  },
  {
   "cell_type": "code",
   "execution_count": null,
   "id": "d6c9b9de-600d-4660-84e3-f3d9bd96363a",
   "metadata": {},
   "outputs": [],
   "source": [
    "from fosforml.model_manager.snowflakesession import get_session\n",
    "my_session = get_session()"
   ]
  },
  {
   "cell_type": "markdown",
   "id": "6547c687-172f-46c7-b73c-20d76d94cdb4",
   "metadata": {},
   "source": [
    "## Data Pull and Push"
   ]
  },
  {
   "cell_type": "markdown",
   "id": "2b8e4ce5-403b-438a-b363-ea3d32e41181",
   "metadata": {},
   "source": [
    "### Getting data from Github and moving to SF"
   ]
  },
  {
   "cell_type": "code",
   "execution_count": null,
   "id": "8fa68879-afe3-42ee-8d7a-93637980e2ef",
   "metadata": {},
   "outputs": [],
   "source": [
    "# URL of the CSV file on GitHub\n",
    "#url = 'https://github.com/aksh301091/fdc_akshaya_git/blob/91a0b3faf99492355d3816919fbf79de434926c3/ME_CASINO_PRJ/customer_table.csv'\n",
    "#'https://raw.githubusercontent.com/username/repository/branch/filename.csv'"
   ]
  },
  {
   "cell_type": "code",
   "execution_count": null,
   "id": "e8efa40b-4258-4840-a052-e9e142ba2617",
   "metadata": {},
   "outputs": [],
   "source": [
    "# Read the CSV file into a DataFrame\n",
    "cust_df = pd.read_csv('customer_table.csv')\n",
    "#trx_df = pd.read_csv('transaction_table.csv')\n",
    "\n",
    "#cust_df.info()"
   ]
  },
  {
   "cell_type": "code",
   "execution_count": null,
   "id": "dfd7a08c-a93a-43c4-88d3-9ea39fa4ed5d",
   "metadata": {},
   "outputs": [],
   "source": [
    "t1_df = pd.read_csv('trx_1.csv')\n",
    "t2_df = pd.read_csv('trx_2.csv')\n",
    "t3_df = pd.read_csv('trx_3.csv')"
   ]
  },
  {
   "cell_type": "code",
   "execution_count": null,
   "id": "9c9e06c0-c177-4fa1-872e-414bd65c6cb4",
   "metadata": {},
   "outputs": [],
   "source": [
    "type(cust_df)"
   ]
  },
  {
   "cell_type": "code",
   "execution_count": null,
   "id": "7cc8c879-b24f-42dd-8fbb-356b57860362",
   "metadata": {},
   "outputs": [],
   "source": [
    "cust_sfdf = my_session.createDataFrame(cust_df)\n",
    "cust_sfdf.write.mode(\"overwrite\").save_as_table(\"casino_customers\")\n",
    "#my_session.table(\"casino_customers\").show()"
   ]
  },
  {
   "cell_type": "code",
   "execution_count": null,
   "id": "8374e745-36e8-4b82-aa13-b96ea5cdd7c7",
   "metadata": {},
   "outputs": [],
   "source": [
    "#inter_df = pd.concat([t1_df, t2_df, t2_df, ignore_index=True)\n",
    "inter_df = t1_df._append(t2_df,ignore_index=True)\n",
    "\n",
    "#for trx_df in (t1_df, t2_df, t3_df):\n",
    "#    trx_df =  trx_df.append(df, ignore_index=True)\n",
    "#trx_df"
   ]
  },
  {
   "cell_type": "code",
   "execution_count": null,
   "id": "2cf4b1ac-8936-4b6b-9828-e77b67463fd0",
   "metadata": {},
   "outputs": [],
   "source": [
    "trx_df = inter_df._append(t3_df, ignore_index=True)"
   ]
  },
  {
   "cell_type": "code",
   "execution_count": null,
   "id": "8c237e75-fa76-495a-8e25-0b7a6df9d51f",
   "metadata": {},
   "outputs": [],
   "source": [
    "trx_df.info()"
   ]
  },
  {
   "cell_type": "code",
   "execution_count": null,
   "id": "f59bb71a-b794-461e-9788-82cd08af032b",
   "metadata": {},
   "outputs": [],
   "source": [
    "cust"
   ]
  },
  {
   "cell_type": "code",
   "execution_count": null,
   "id": "499fa6d3-8fe1-40ce-b139-4de0b3fd99d7",
   "metadata": {},
   "outputs": [],
   "source": [
    "trx_sfdf = my_session.createDataFrame(trx_df)\n",
    "trx_sfdf.write.mode(\"overwrite\").save_as_table(\"casino_transactions\")"
   ]
  },
  {
   "cell_type": "markdown",
   "id": "b0f5d18d-b75d-40ae-a7c1-b22e5de7d9e9",
   "metadata": {},
   "source": [
    "### Reading data from SF "
   ]
  },
  {
   "cell_type": "code",
   "execution_count": null,
   "id": "f4446609-3be8-4475-9054-33e1278c4a8c",
   "metadata": {},
   "outputs": [],
   "source": [
    "## Reading data from SF \n",
    "\n",
    "#table_name = 'CASINO_CUSTOMERS'\n",
    "#customer_df = my_session.sql(\"select * from {}\".format(table_name))\n",
    "#customer_df = customer_df.to_pandas()\n",
    "#type(customer_df)"
   ]
  },
  {
   "cell_type": "code",
   "execution_count": null,
   "id": "3af56f92-0885-4402-96fd-d1b8228e9e88",
   "metadata": {},
   "outputs": [],
   "source": [
    "table_name = 'CASINO_TRANSACTIONS'\n",
    "transaction_df = my_session.sql(\"select * from {}\".format(table_name))\n",
    "transaction_df = transaction_df.to_pandas()\n",
    "type(transaction_df)"
   ]
  },
  {
   "cell_type": "code",
   "execution_count": null,
   "id": "5a5b18fd-20ec-4289-b60b-1651a632c78c",
   "metadata": {},
   "outputs": [],
   "source": [
    "## Customer Data Creation from transaction data"
   ]
  },
  {
   "cell_type": "code",
   "execution_count": null,
   "id": "b1b737e2-ec0b-4acc-be79-772ab66e9a75",
   "metadata": {},
   "outputs": [],
   "source": [
    "# Date transformation data type\n",
    "\n",
    "customer_aggregation['DATE_FIRST_VISIT'] = pd.to_datetime(customer_aggregation['DATE_FIRST_VISIT'], format = 'mixed')\n",
    "customer_aggregation['DATE_LAST_VISIT'] = pd.to_datetime(customer_aggregation['DATE_LAST_VISIT'], format = 'mixed')\n",
    "transaction_df['DATE'] = pd.to_datetime(transaction_df['DATE'], format = 'mixed')"
   ]
  },
  {
   "cell_type": "code",
   "execution_count": null,
   "id": "f403a89f-2653-4ada-8f2d-5395ce656408",
   "metadata": {},
   "outputs": [],
   "source": [
    "transaction_df.info()"
   ]
  },
  {
   "cell_type": "code",
   "execution_count": null,
   "id": "eeca4fed-bba7-4550-a53f-4f256cdf31c8",
   "metadata": {},
   "outputs": [],
   "source": [
    "customer_aggregation = transaction_df.groupby('PLAYER_ID').agg(\n",
    "    DATE_FIRST_VISIT=('DATE', 'min'),\n",
    "    DATE_LAST_VISIT= ('DATE', 'max'),\n",
    "    TOTAL_NUMBER_OF_VISITS=('TRANSACTION_ID', 'count'),\n",
    "    TOTAL_DURATION_SPENT=('DURATION_SPENT', 'sum'),\n",
    "    AVERAGE_DURATION_PER_VISIT=('DURATION_SPENT', 'mean'),\n",
    "    TOTAL_CHIPS_WON_OR_LOST=('CHIPS_WON_OR_LOST', 'sum'),\n",
    "    AVERAGE_CHIPS_WON_OR_LOST_PER_VISIT=('CHIPS_WON_OR_LOST', 'mean'),\n",
    "    UNIQUE_GAMES_PLAYED=('GAME_NAME', 'nunique'),\n",
    "    IS_PREMIUM_PLAYER=('IS_PREMIUM_PLAYER', 'max'),\n",
    "    IS_LOYALTY_CARD_HOLDER=('IS_LOYALTY_CARD_HOLDER', 'max'),\n",
    "    TOTAL_AMOUNT_SPENT_IN_HOTEL=('AMOUNT_SPENT_IN_HOTEL_STAY', 'sum'),\n",
    "    TOTAL_DAYS_SPENT_HOTEL=('NUMBER_OF_DAYS_SPENT_IN_HOTEL', 'sum'),\n",
    "    TOTAL_AMOUNT_SPENT_IN_CASINO_RESTAURANT=('AMOUNT_SPENT_IN_CASINO_RESTAURANT', 'sum'),\n",
    "    NUMBER_OF_RESTAURANT_VISITS=('NUMBER_OF_RESTAURANT_VISITS', 'sum'),\n",
    "    TOTAL_AMOUNT_SPENT_IN_SPA=('AMOUNT_SPENT_IN_SPA', 'sum'),\n",
    "    NUMBER_OF_SPA_VISITS=('NUMBER_OF_SPA_VISITS', 'sum'),\n",
    "    TOTAL_REVENUE_TO_CASINO=('REVENUE_MADE_BY_CASINO_FROM_PLAYER', 'sum'),\n",
    "    NUMBER_OF_CONCIERGE_VISITS=('NUMBER_OF_CONCIERGE_VISITS', 'sum')\n",
    ").reset_index()"
   ]
  },
  {
   "cell_type": "code",
   "execution_count": null,
   "id": "1686f282-62a5-4bb0-9b04-36570c85e442",
   "metadata": {},
   "outputs": [],
   "source": [
    "customer_aggregation.head()"
   ]
  },
  {
   "cell_type": "code",
   "execution_count": null,
   "id": "157259ac-5637-4cc9-86f6-d8437b99506f",
   "metadata": {},
   "outputs": [],
   "source": [
    "customer_aggregation[customer_aggregation['DATE_FIRST_VISIT']<customer_aggregation['DATE_LAST_VISIT']]"
   ]
  },
  {
   "cell_type": "code",
   "execution_count": null,
   "id": "7968623c-563d-441e-949b-1a7ddae3ca22",
   "metadata": {},
   "outputs": [],
   "source": [
    "# Calculating preferred game category and name\n",
    "preferred_game = transaction_df.groupby(['PLAYER_ID', 'GAME_CATEGORY', 'GAME_NAME','PLAYER_AGE', 'PLAYER_GENDER', 'HOME_COUNTRY', 'HOME_CITY'])['DURATION_SPENT'].sum().reset_index()\n",
    "preferred_game = preferred_game.loc[preferred_game.groupby('PLAYER_ID')['DURATION_SPENT'].idxmax()][['PLAYER_ID', 'GAME_CATEGORY', 'GAME_NAME', 'PLAYER_AGE', 'PLAYER_GENDER', 'HOME_COUNTRY', 'HOME_CITY']]\n",
    "preferred_game\n"
   ]
  },
  {
   "cell_type": "code",
   "execution_count": null,
   "id": "8a2f372c-4413-4309-9c6e-d1d20b40a502",
   "metadata": {},
   "outputs": [],
   "source": [
    "customer_aggregation = customer_aggregation.merge(preferred_game, on='PLAYER_ID', how='left')\n",
    "customer_aggregation\n"
   ]
  },
  {
   "cell_type": "code",
   "execution_count": null,
   "id": "12cc3cb7-0b49-4110-b6b7-c84539d0584e",
   "metadata": {},
   "outputs": [],
   "source": [
    "customer_aggregation.rename(columns= {'PLAYER_AGE':'AGE' , 'PLAYER_GENDER':'GENDER', 'GAME_CATEGORY':'PREFERRED_GAME_CATEGORY', \n",
    "                                      'GAME_NAME':'PREFERRED_GAME_NAME'}, inplace= True) \n",
    "customer_aggregation.info()"
   ]
  },
  {
   "cell_type": "code",
   "execution_count": null,
   "id": "43622c1e-ed2b-4f9e-8828-e71a4a7bfaa9",
   "metadata": {},
   "outputs": [],
   "source": [
    "\n",
    "customer_df = customer_aggregation.copy()"
   ]
  },
  {
   "cell_type": "markdown",
   "id": "be6a6e1c-8a51-48f8-9aa5-37d059dcf1a6",
   "metadata": {},
   "source": [
    "## Data Preparation"
   ]
  },
  {
   "cell_type": "code",
   "execution_count": null,
   "id": "8f31bd07-85a8-4bb7-8922-3e326eee0b1a",
   "metadata": {},
   "outputs": [],
   "source": [
    "# Date transformation data type\n",
    "\n",
    "customer_df['DATE_FIRST_VISIT'] = pd.to_datetime(customer_df['DATE_FIRST_VISIT'], format = 'mixed')\n",
    "customer_df['DATE_LAST_VISIT'] = pd.to_datetime(customer_df['DATE_LAST_VISIT'], format = 'mixed')\n",
    "transaction_df['DATE'] = pd.to_datetime(transaction_df['DATE'], format = 'mixed')"
   ]
  },
  {
   "cell_type": "code",
   "execution_count": null,
   "id": "147e96d0-eb38-45ce-9518-c0f169d6c8e5",
   "metadata": {
    "scrolled": true
   },
   "outputs": [],
   "source": [
    "print(customer_df.info())\n",
    "print(transaction_df.info())"
   ]
  },
  {
   "cell_type": "markdown",
   "id": "3608c3bc-cc49-4959-a567-a438dc8304fc",
   "metadata": {},
   "source": [
    "https://www.kaggle.com/code/msaksh/customer-segmentation-clustering/edit"
   ]
  },
  {
   "cell_type": "code",
   "execution_count": null,
   "id": "2adb2bb2-144e-49dd-9aa6-18ab638653cd",
   "metadata": {},
   "outputs": [],
   "source": [
    "# Adding new features for better classification\n",
    "customer_df['VISIT_FREQUENCY'] = customer_df['TOTAL_NUMBER_OF_VISITS'] / ((pd.to_datetime(customer_df['DATE_LAST_VISIT']) - \n",
    "                                                                           pd.to_datetime(customer_df['DATE_FIRST_VISIT'])).dt.days + 1)"
   ]
  },
  {
   "cell_type": "code",
   "execution_count": null,
   "id": "904f734c-bd8e-4380-a1a5-05173f19f087",
   "metadata": {},
   "outputs": [],
   "source": [
    "#Get list of categorical variables\n",
    "s = (customer_df.dtypes == 'object')\n",
    "object_cols = list(s[s].index)\n",
    "\n",
    "print(\"Categorical variables in the dataset:\", object_cols)"
   ]
  },
  {
   "cell_type": "code",
   "execution_count": null,
   "id": "524559fa-2816-4e12-ac48-8d80fbde6e28",
   "metadata": {},
   "outputs": [],
   "source": [
    "#Label Encoding the object dtypes.\n",
    "LE=LabelEncoder()\n",
    "for i in object_cols:\n",
    "    customer_df[i]=customer_df[[i]].apply(LE.fit_transform)\n",
    "    \n",
    "print(\"All features are now numerical\")"
   ]
  },
  {
   "cell_type": "code",
   "execution_count": null,
   "id": "d31ad3a2-d6b8-4859-8717-4b01fb342de7",
   "metadata": {},
   "outputs": [],
   "source": [
    "customer_df.info()"
   ]
  },
  {
   "cell_type": "code",
   "execution_count": null,
   "id": "def73e75-2acb-4e70-834d-6d00693b6a8f",
   "metadata": {},
   "outputs": [],
   "source": [
    "print(customer_df.max(axis=0)) # will return max value of each column\n",
    "print(customer_df.min(axis=0)) # will return min value of each column"
   ]
  },
  {
   "cell_type": "code",
   "execution_count": null,
   "id": "d66eb010-fa08-4b5d-b40a-e4cd3bd59632",
   "metadata": {},
   "outputs": [],
   "source": [
    "print(customer_df.mean(axis=0)) # will return min value of each column"
   ]
  },
  {
   "cell_type": "markdown",
   "id": "eeda2aa0-b44d-4d11-84e1-2f23cc8d2699",
   "metadata": {},
   "source": [
    "customer_df[\"VISIT_FREQ_PER\"] = \"Unknown\"\n",
    "customer_df[\"VISIT_FREQ_PER\"] = customer_df[\"VISIT_FREQ_PER\"].case_when([\n",
    "    (customer_df.eval(\"VISIT_FREQUENCY <=0\"), 0), \n",
    "    (customer_df.eval(\"VISIT_FREQUENCY >1\"), 1),\n",
    "    (customer_df.eval(\"0 < VISIT_FREQUENCY < 1\"), customer_df.VISIT_FREQUENCY)])"
   ]
  },
  {
   "cell_type": "code",
   "execution_count": null,
   "id": "3f9b8c0c-c228-4875-826f-74327739bd1f",
   "metadata": {},
   "outputs": [],
   "source": [
    "    sf_df = my_session.createDataFrame(customer_df)\n",
    "    sf_df.write.mode(\"overwrite\").save_as_table(\"CASINO_CUSTOMERS\")\n",
    "    my_session.table(\"CASINO_CUSTOMERS\").show()"
   ]
  },
  {
   "cell_type": "code",
   "execution_count": null,
   "id": "9ca9660d-cc98-4aa6-9f34-9e975ea0b9f9",
   "metadata": {},
   "outputs": [],
   "source": [
    "customer_df.head()"
   ]
  },
  {
   "cell_type": "code",
   "execution_count": null,
   "id": "26a13321-1002-4e23-8308-c8ab1f3a7c5d",
   "metadata": {},
   "outputs": [],
   "source": [
    "ds.info()"
   ]
  },
  {
   "cell_type": "code",
   "execution_count": null,
   "id": "4c2f2300-0e77-48a8-9af2-93cb461fb3b7",
   "metadata": {},
   "outputs": [],
   "source": [
    "#Creating a copy of data\n",
    "ds = customer_df.copy()\n",
    "# creating a subset of dataframe by dropping\n",
    "cols_del = ['DATE_FIRST_VISIT', 'DATE_LAST_VISIT']\n",
    "ds = ds.drop(cols_del, axis=1)\n",
    "\n",
    "#Scaling\n",
    "scaler = StandardScaler()\n",
    "scaler.fit(ds)\n",
    "scaled_ds = pd.DataFrame(scaler.transform(ds),columns= ds.columns )\n",
    "print(\"All features are now scaled\")"
   ]
  },
  {
   "cell_type": "markdown",
   "id": "9480e0d3-a432-4132-b2d4-5f09e11dd0ec",
   "metadata": {},
   "source": [
    "## Data Exploration"
   ]
  },
  {
   "cell_type": "code",
   "execution_count": null,
   "id": "5705cf61-bba0-4956-a593-6477cd13a30b",
   "metadata": {},
   "outputs": [],
   "source": [
    "# Descriptive statistics for customer data\n",
    "print(customer_df.describe(include='all'))\n",
    "print(transaction_df.describe(include='all'))"
   ]
  },
  {
   "cell_type": "code",
   "execution_count": null,
   "id": "857d6b0e-e468-4556-a908-4a38dac9ab6b",
   "metadata": {},
   "outputs": [],
   "source": [
    "# Plotting distribution of age\n",
    "plt.figure(figsize=(12, 6))\n",
    "sns.histplot(customer_df['AGE'], bins=20, kde=True)\n",
    "plt.title('Age Distribution')\n",
    "plt.show()"
   ]
  },
  {
   "cell_type": "code",
   "execution_count": null,
   "id": "e5deda65-29e8-4bb8-9645-1b807cce6124",
   "metadata": {},
   "outputs": [],
   "source": [
    "# Checking for missing values\n",
    "print(customer_df.isna().sum())"
   ]
  },
  {
   "cell_type": "code",
   "execution_count": null,
   "id": "d6dfd0b9-dfc0-43ce-ba8c-a9846575e226",
   "metadata": {},
   "outputs": [],
   "source": [
    "# Fill missing values or drop them if appropriate\n",
    "customer_df = customer_df.dropna()  # Here we simply drop missing values"
   ]
  },
  {
   "cell_type": "code",
   "execution_count": null,
   "id": "6ac0249c-76fb-4743-a183-aa474cff618e",
   "metadata": {},
   "outputs": [],
   "source": [
    "# Plotting distribution for numeric features in customer data\n",
    "customer_df.hist(bins=15, figsize=(20, 15))\n",
    "plt.suptitle('Distribution of Numeric Features in Customer Data')\n",
    "plt.show()"
   ]
  },
  {
   "cell_type": "code",
   "execution_count": null,
   "id": "c2e3e501-6dc2-4f6a-ad27-b1b1dbbb5515",
   "metadata": {},
   "outputs": [],
   "source": [
    "# Correlation matrix for customer_df\n",
    "correlation_matrix = customer_df.corr()\n",
    "plt.figure(figsize=(15, 10))\n",
    "sns.heatmap(correlation_matrix, annot=True, cmap='coolwarm')\n",
    "plt.title('Correlation Matrix for Customer Data')\n",
    "plt.show()"
   ]
  },
  {
   "cell_type": "code",
   "execution_count": null,
   "id": "8e5b2e3f-0b4d-48bf-bcbe-5b750284c1b9",
   "metadata": {},
   "outputs": [],
   "source": [
    "corrmat= customer_df.corr()\n",
    "plt.figure(figsize=(20,20))  \n",
    "sns.heatmap(corrmat,annot=True, cmap='coolwarm', center=0)"
   ]
  },
  {
   "cell_type": "code",
   "execution_count": null,
   "id": "a8c81e71-e40c-406c-ad44-77686c18b076",
   "metadata": {},
   "outputs": [],
   "source": [
    "scaled_ds.head()"
   ]
  },
  {
   "cell_type": "code",
   "execution_count": null,
   "id": "58baf253-95af-4a03-91e0-01e52144d703",
   "metadata": {},
   "outputs": [],
   "source": [
    "customer_df.info()"
   ]
  },
  {
   "cell_type": "code",
   "execution_count": null,
   "id": "b838a778-9734-48cf-bcce-bc0549261e18",
   "metadata": {},
   "outputs": [],
   "source": [
    "# Plotting categorical features against target variable\n",
    "sns.countplot(x='GENDER', data=customer_df)\n",
    "plt.title('Gender Distribution')\n",
    "plt.show()"
   ]
  },
  {
   "cell_type": "code",
   "execution_count": null,
   "id": "7d3ea32e-b4a8-4ad4-acea-950e7e1eb96f",
   "metadata": {},
   "outputs": [],
   "source": [
    "sns.countplot(x='HOME_COUNTRY', data=customer_df)\n",
    "plt.title('Country Distribution')\n",
    "plt.show()"
   ]
  },
  {
   "cell_type": "markdown",
   "id": "cf5d79b2-02a9-48d8-b457-41176e1136cd",
   "metadata": {},
   "source": [
    "## PCA: Principal component analysis"
   ]
  },
  {
   "cell_type": "code",
   "execution_count": null,
   "id": "092e7e4a-3f6c-4912-94ca-046f4080e8d0",
   "metadata": {},
   "outputs": [],
   "source": [
    "#Initiating PCA to reduce dimentions aka features to 3\n",
    "pca = PCA(n_components=3)\n",
    "pca.fit(scaled_ds)\n",
    "PCA_ds = pd.DataFrame(pca.transform(scaled_ds), columns=([\"col1\",\"col2\", \"col3\"]))\n",
    "PCA_ds.describe().T"
   ]
  },
  {
   "cell_type": "code",
   "execution_count": null,
   "id": "c9f735bf-fdd9-489d-a602-56b1fcc06bd2",
   "metadata": {},
   "outputs": [],
   "source": [
    "#A 3D Projection Of Data In The Reduced Dimension\n",
    "x =PCA_ds[\"col1\"]\n",
    "y =PCA_ds[\"col2\"]\n",
    "z =PCA_ds[\"col3\"]\n",
    "#To plot\n",
    "fig = plt.figure(figsize=(10,8))\n",
    "ax = fig.add_subplot(111, projection=\"3d\")\n",
    "ax.scatter(x,y,z, c=\"blue\", marker=\"o\" )\n",
    "ax.set_title(\"A 3D Projection Of Data In The Reduced Dimension\")\n",
    "plt.show()"
   ]
  },
  {
   "cell_type": "markdown",
   "id": "afcd0d72-f548-4543-8f4c-af033fe869f4",
   "metadata": {},
   "source": [
    "## Clustering\n",
    "Steps involved in the Clustering\n",
    "\n",
    "Elbow Method to determine the number of clusters to be formed\n",
    "Clustering via Agglomerative Clustering\n",
    "Examining the clusters formed via scatter plot"
   ]
  },
  {
   "cell_type": "code",
   "execution_count": null,
   "id": "efab25c9-8b8c-456a-a785-57f076ca6c88",
   "metadata": {},
   "outputs": [],
   "source": [
    "# Quick examination of elbow method to find numbers of clusters to make.\n",
    "print('Elbow Method to determine the number of clusters to be formed:')\n",
    "Elbow_M = KElbowVisualizer(KMeans(), k=10)\n",
    "Elbow_M.fit(PCA_ds)\n",
    "Elbow_M.show()"
   ]
  },
  {
   "cell_type": "code",
   "execution_count": null,
   "id": "43f6932d-024e-48e6-984b-5469532ef19c",
   "metadata": {},
   "outputs": [],
   "source": [
    "# Quick examination of elbow method to find numbers of clusters to make.\n",
    "print('Elbow Method to determine the number of clusters to be formed:')\n",
    "Elbow_M = KElbowVisualizer(KMeans(), k=10)\n",
    "Elbow_M.fit(scaled_ds)\n",
    "Elbow_M.show()"
   ]
  },
  {
   "cell_type": "markdown",
   "id": "af6557dd-3864-4222-b932-3383318825d1",
   "metadata": {},
   "source": [
    "The above cell indicates that 5 will be an optimal number of clusters for this data. \n",
    "Next, we will be fitting the Agglomerative Clustering Model to get the final clusters."
   ]
  },
  {
   "cell_type": "code",
   "execution_count": null,
   "id": "32d4501e-d34c-4f02-ab6d-83a398b99342",
   "metadata": {},
   "outputs": [],
   "source": [
    "#Initiating the Agglomerative Clustering model \n",
    "AC = AgglomerativeClustering(n_clusters=4)\n",
    "\n",
    "# fit model and predict clusters\n",
    "yhat_AC = AC.fit_predict(PCA_ds)\n",
    "PCA_ds[\"CLUSTERS\"] = yhat_AC\n",
    "\n",
    "#Adding the Clusters feature to the orignal dataframe.\n",
    "customer_df[\"CLUSTERS\"]= yhat_AC"
   ]
  },
  {
   "cell_type": "code",
   "execution_count": null,
   "id": "cdbb825e-ee39-4d84-98ae-b23a39ba1cb9",
   "metadata": {},
   "outputs": [],
   "source": [
    "#Plotting the clusters\n",
    "fig = plt.figure(figsize=(10,8))\n",
    "ax = plt.subplot(111, projection='3d', label=\"Check\")\n",
    "ax.scatter(x, y, s=40, c=PCA_ds[\"CLUSTERS\"], marker='o', cmap = \"cmap\" )\n",
    "ax.set_title(\"The Plot Of The Clusters\")\n",
    "plt.show()"
   ]
  },
  {
   "cell_type": "markdown",
   "id": "a3899c4d-6728-4e6a-99cf-20d37beb56b3",
   "metadata": {},
   "source": [
    "## Model Evaluation\n",
    "\n",
    "Since this is an unsupervised clustering. We do not have a tagged feature to evaluate or score our model. The purpose of this section is to study the patterns in the clusters formed and determine the nature of the clusters' patterns.\n",
    "\n",
    "For that, we will be having a look at the data in light of clusters via exploratory data analysis and drawing conclusions.\n",
    "\n",
    "Firstly, let us have a look at the group distribution of clustring"
   ]
  },
  {
   "cell_type": "code",
   "execution_count": null,
   "id": "a5ec1853-19a6-44c3-b6bd-d55ee22accbd",
   "metadata": {},
   "outputs": [],
   "source": [
    "#Plotting countplot of clusters\n",
    "pal = [\"#FF5733\",\"#33FF57\", \"#3357FF\",\"#FF33A1\",] #\"#FFD700\"]\n",
    "pl = sns.countplot(x=customer_df[\"CLUSTERS\"], palette= pal)\n",
    "pl.set_title(\"Distribution Of The Clusters\")\n",
    "plt.show()"
   ]
  },
  {
   "cell_type": "raw",
   "id": "11799d73-7f50-43e5-bf94-b02b87aabdda",
   "metadata": {},
   "source": []
  },
  {
   "cell_type": "code",
   "execution_count": null,
   "id": "03db37d8-ae7e-4655-8669-e0579726e8bb",
   "metadata": {},
   "outputs": [],
   "source": []
  },
  {
   "cell_type": "code",
   "execution_count": null,
   "id": "2f6df829-e0c1-4e3a-8a73-ea97ca7c428e",
   "metadata": {},
   "outputs": [],
   "source": []
  },
  {
   "cell_type": "code",
   "execution_count": null,
   "id": "75162080-d988-4832-b44a-106c7c763b34",
   "metadata": {},
   "outputs": [],
   "source": [
    "pl = sns.scatterplot(data = customer_df,x=customer_df[\"TOTAL_REVENUE_TO_CASINO\"], y=customer_df[\"VISIT_FREQUENCY\"],hue=customer_df[\"CLUSTERS\"], palette= pal)\n",
    "pl.set_title(\"Cluster's Profile Based On revenue to Casino\")\n",
    "plt.legend()\n",
    "plt.show()"
   ]
  },
  {
   "cell_type": "markdown",
   "id": "883c68ca-c443-49a4-a361-0a9eec0d927b",
   "metadata": {},
   "source": [
    "ANALYSE THE GROUP BEHAVIOR BY RECHECKING THE TRENDS"
   ]
  },
  {
   "cell_type": "code",
   "execution_count": null,
   "id": "857bd8d5-e6c9-40c8-8d45-4f7c74f5a305",
   "metadata": {},
   "outputs": [],
   "source": [
    "plt.figure()\n",
    "pl=sns.swarmplot(x=customer_df[\"CLUSTERS\"], y=customer_df[\"TOTAL_REVENUE_TO_CASINO\"], color= \"#CBEDDD\", alpha=0.5 )\n",
    "pl=sns.boxenplot(x=customer_df[\"CLUSTERS\"], y=customer_df[\"TOTAL_REVENUE_TO_CASINO\"], palette=pal)\n",
    "plt.show()"
   ]
  },
  {
   "cell_type": "code",
   "execution_count": null,
   "id": "e8968297-83b3-4ba1-8364-c476e7d2c901",
   "metadata": {},
   "outputs": [],
   "source": [
    "plt.figure()\n",
    "pl=sns.swarmplot(x=customer_df[\"CLUSTERS\"], y=customer_df[\"TOTAL_NUMBER_OF_VISITS\"], color= \"#CBEDDD\", alpha=0.5 )\n",
    "pl=sns.boxenplot(x=customer_df[\"CLUSTERS\"], y=customer_df[\"TOTAL_NUMBER_OF_VISITS\"], palette=pal)\n",
    "plt.show()"
   ]
  },
  {
   "cell_type": "code",
   "execution_count": null,
   "id": "3b37597f-12fd-498b-8720-173f87811ee9",
   "metadata": {},
   "outputs": [],
   "source": [
    "#Plotting\n",
    "plt.figure()\n",
    "pl=sns.boxenplot(y=customer_df[\"TOTAL_CHIPS_WON_OR_LOST\"],x=customer_df[\"CLUSTERS\"], palette= pal)\n",
    "pl.set_title(\"TOTAL_CHIPS_WON_OR_LOST\")\n",
    "plt.show()"
   ]
  },
  {
   "cell_type": "markdown",
   "id": "c9e0c282-2399-42b3-a9f6-c65717494f08",
   "metadata": {},
   "source": [
    "## PROFILING\n",
    "\n",
    "Now that we have formed the clusters and looked at their purchasing habits. Let us see who all are there in these clusters. For that, we will be profiling the clusters formed and come to a conclusion about who is our star customer and who needs more attention from the retail store's marketing team.\n",
    "\n",
    "To decide that I will be plotting some of the features that are indicative of the customer's personal traits in light of the cluster they are in. On the basis of the outcomes, I will be arriving at the conclusions."
   ]
  },
  {
   "cell_type": "code",
   "execution_count": null,
   "id": "d9a5bede-491e-4afc-851c-524ee9705a21",
   "metadata": {},
   "outputs": [],
   "source": [
    "column_list = [ \"AGE\", \"GENDER\",\"HOME_COUNTRY\",\"TOTAL_DURATION_SPENT\",\"TOTAL_CHIPS_WON_OR_LOST\",\"AVERAGE_DURATION_PER_VISIT\",\n",
    "               \"AVERAGE_CHIPS_WON_OR_LOST_PER_VISIT\", \"UNIQUE_GAMES_PLAYED\", \n",
    "               \"IS_PREMIUM_PLAYER\", \"IS_LOYALTY_CARD_HOLDER\", \"TOTAL_AMOUNT_SPENT_IN_HOTEL\", \"TOTAL_DAYS_SPENT_HOTEL\",\n",
    "               \"TOTAL_AMOUNT_SPENT_IN_CASINO_RESTAURANT\",\"NUMBER_OF_RESTAURANT_VISITS\", \"TOTAL_AMOUNT_SPENT_IN_SPA\", \"NUMBER_OF_SPA_VISITS\",\n",
    "               \"TOTAL_REVENUE_TO_CASINO\", \"NUMBER_OF_CONCIERGE_VISITS\", \"VISIT_FREQUENCY\"]\n",
    "\n",
    "for i in column_list:\n",
    "    plt.figure()\n",
    "    sns.jointplot(x=customer_df[i], y=customer_df[\"TOTAL_REVENUE_TO_CASINO\"], hue =customer_df[\"CLUSTERS\"], kind=\"kde\", palette=pal)\n",
    "    plt.show()"
   ]
  },
  {
   "cell_type": "code",
   "execution_count": null,
   "id": "879c690f-f8ab-4b9c-8856-5999ea0c8acb",
   "metadata": {},
   "outputs": [],
   "source": [
    "### Naming CLusters"
   ]
  },
  {
   "cell_type": "code",
   "execution_count": null,
   "id": "0808d638-9135-4bb9-8b66-483943222976",
   "metadata": {},
   "outputs": [],
   "source": [
    "customer_df['PLAYER_SEGMENT'] = customer_df.apply(lambda x: 'High roller Professionals' if x['CLUSTERS']==0 else x['PLAYER_SEGMENT'], axis=1)\n",
    "customer_df['PLAYER_SEGMENT'] = customer_df.apply(lambda x: 'Conservative Low spenders' if x['CLUSTERS']==1 else x['PLAYER_SEGMENT'], axis=1)\n",
    "customer_df['PLAYER_SEGMENT'] = customer_df.apply(lambda x: 'Mediocre cross spending players' if x['CLUSTERS']==2 else x['PLAYER_SEGMENT'], axis=1)\n",
    "customer_df['PLAYER_SEGMENT'] = customer_df.apply(lambda x: 'Money losing players' if x['CLUSTERS']==3 else x['PLAYER_SEGMENT'], axis=1)"
   ]
  },
  {
   "cell_type": "code",
   "execution_count": null,
   "id": "0eac520b-893a-40cc-b28a-cd41b92d8017",
   "metadata": {},
   "outputs": [],
   "source": [
    "customer_df['SEGMENT_DESC'] = customer_df.apply(lambda x: 'Risk taking professional, regular players with deep pockets spending across services ' if x['CLUSTERS']==0 else x['SEGMENT_DESC'], axis=1)\n",
    "customer_df['SEGMENT_DESC'] = customer_df.apply(lambda x: 'Low spends, low money making low risk players' if x['CLUSTERS']==1 else x['SEGMENT_DESC'], axis=1)\n",
    "customer_df['SEGMENT_DESC'] = customer_df.apply(lambda x: 'Budding good Players with potential to win, exploring multiple casino services' if x['CLUSTERS']==2 else x['SEGMENT_DESC'], axis=1)\n",
    "customer_df['SEGMENT_DESC'] = customer_df.apply(lambda x: 'Money losing players' if x['CLUSTERS']==3 else x['SEGMENT_DESC'], axis=1)"
   ]
  },
  {
   "cell_type": "code",
   "execution_count": null,
   "id": "756341d4-c18f-4492-b1ee-33e1fa2f8296",
   "metadata": {},
   "outputs": [],
   "source": []
  }
 ],
 "metadata": {
  "kernelspec": {
   "display_name": "Python 3 (ipykernel)",
   "language": "python",
   "name": "python3"
  },
  "language_info": {
   "codemirror_mode": {
    "name": "ipython",
    "version": 3
   },
   "file_extension": ".py",
   "mimetype": "text/x-python",
   "name": "python",
   "nbconvert_exporter": "python",
   "pygments_lexer": "ipython3",
   "version": "3.9.19"
  }
 },
 "nbformat": 4,
 "nbformat_minor": 5
}
