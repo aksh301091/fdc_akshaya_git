{
 "cells": [
  {
   "cell_type": "markdown",
   "id": "32a091ca-3f51-4916-9cc8-f057d48efb89",
   "metadata": {},
   "source": [
    "## Installing packages"
   ]
  },
  {
   "cell_type": "code",
   "execution_count": null,
   "id": "44f7ee92-4f4a-4363-a860-0f0e848ec0d3",
   "metadata": {},
   "outputs": [],
   "source": [
    "!pip install --upgrade pip\n",
    "!pip install \"snowflake-connector-python[pandas]\" \"snowflake-snowpark-python[pandas]\" snowflake-snowpark-python==1.9.0 numpy pandas matplotlib scikit-learn xgboost seaborn python-dateutil tqdm holidays faker\n",
    "!pip install --upgrade --q snowflake-snowpark-python==1.9.0\n",
    "!pip uninstall urllib3 -y\n",
    "!pip install urllib3==1.26.15\n",
    "!pip install fosforml==1.1.6"
   ]
  },
  {
   "cell_type": "markdown",
   "id": "248769c1-1205-4c9d-a4e9-f798eaa50a91",
   "metadata": {},
   "source": [
    "## Importing packages"
   ]
  },
  {
   "cell_type": "code",
   "execution_count": 11,
   "id": "4a882d38-4243-4ee5-b02d-30ae9248af86",
   "metadata": {},
   "outputs": [],
   "source": [
    "from fosforml import *\n",
    "from fosforml.constants import MLModelFlavours\n",
    "from matplotlib import pyplot as plt\n",
    "import pandas as pd\n",
    "pd.set_option('display.max_columns', 500)\n",
    "import seaborn as sns\n",
    "from sklearn.metrics import mean_absolute_percentage_error\n",
    "import numpy as np\n",
    "import warnings; warnings.simplefilter('ignore')\n",
    "from joblib import dump, load\n",
    "import requests\n",
    "from tqdm import tqdm\n",
    "import time\n",
    "import calendar\n",
    "\n",
    "from time import sleep\n",
    "import configparser\n",
    "from dateutil.relativedelta import relativedelta\n",
    "import datetime\n",
    "from dateutil.easter import easter\n",
    "from scipy.optimize import minimize_scalar\n",
    "from scipy.optimize import curve_fit\n",
    "\n",
    "%matplotlib inline"
   ]
  },
  {
   "cell_type": "markdown",
   "id": "2b8e4ce5-403b-438a-b363-ea3d32e41181",
   "metadata": {},
   "source": [
    "## Getting data from Github and moving to SF"
   ]
  },
  {
   "cell_type": "code",
   "execution_count": 2,
   "id": "8fa68879-afe3-42ee-8d7a-93637980e2ef",
   "metadata": {},
   "outputs": [],
   "source": [
    "# URL of the CSV file on GitHub\n",
    "#url = 'https://github.com/aksh301091/fdc_akshaya_git/blob/91a0b3faf99492355d3816919fbf79de434926c3/ME_CASINO_PRJ/customer_table.csv'\n",
    "#'https://raw.githubusercontent.com/username/repository/branch/filename.csv'"
   ]
  },
  {
   "cell_type": "code",
   "execution_count": 15,
   "id": "d6c9b9de-600d-4660-84e3-f3d9bd96363a",
   "metadata": {},
   "outputs": [],
   "source": [
    "from fosforml.model_manager.snowflakesession import get_session\n",
    "my_session = get_session()"
   ]
  },
  {
   "cell_type": "code",
   "execution_count": 12,
   "id": "e8efa40b-4258-4840-a052-e9e142ba2617",
   "metadata": {},
   "outputs": [
    {
     "name": "stdout",
     "output_type": "stream",
     "text": [
      "<class 'pandas.core.frame.DataFrame'>\n",
      "RangeIndex: 10000 entries, 0 to 9999\n",
      "Data columns (total 25 columns):\n",
      " #   Column                                   Non-Null Count  Dtype  \n",
      "---  ------                                   --------------  -----  \n",
      " 0   PLAYER_ID                                10000 non-null  int64  \n",
      " 1   AGE                                      10000 non-null  int64  \n",
      " 2   GENDER                                   10000 non-null  object \n",
      " 3   HOME_COUNTRY                             10000 non-null  object \n",
      " 4   HOME_CITY                                10000 non-null  object \n",
      " 5   DATE_FIRST_VISIT                         10000 non-null  object \n",
      " 6   DATE_LAST_VISIT                          10000 non-null  object \n",
      " 7   TOTAL_NUMBER_OF_VISITS                   10000 non-null  int64  \n",
      " 8   TOTAL_DURATION_SPENT                     10000 non-null  float64\n",
      " 9   AVERAGE_DURATION_PER_VISIT               10000 non-null  float64\n",
      " 10  TOTAL_CHIPS_WON_OR_LOST                  10000 non-null  int64  \n",
      " 11  AVERAGE_CHIPS_WON_OR_LOST_PER_VISIT      10000 non-null  float64\n",
      " 12  UNIQUE_GAMES_PLAYED                      10000 non-null  int64  \n",
      " 13  IS_PREMIUM_PLAYER                        10000 non-null  bool   \n",
      " 14  IS_LOYALTY_CARD_HOLDER                   10000 non-null  bool   \n",
      " 15  TOTAL_AMOUNT_SPENT_IN_HOTEL              10000 non-null  float64\n",
      " 16  TOTAL_DAYS_SPENT_HOTEL                   10000 non-null  int64  \n",
      " 17  TOTAL_AMOUNT_SPENT_IN_CASINO_RESTAURANT  10000 non-null  float64\n",
      " 18  NUMBER_OF_RESTAURANT_VISITS              10000 non-null  int64  \n",
      " 19  TOTAL_AMOUNT_SPENT_IN_SPA                10000 non-null  float64\n",
      " 20  NUMBER_OF_SPA_VISITS                     10000 non-null  int64  \n",
      " 21  TOTAL_REVENUE_TO_CASINO                  10000 non-null  float64\n",
      " 22  NUMBER_OF_CONCIERGE_VISITS               10000 non-null  int64  \n",
      " 23  PREFERRED_GAME_CATEGORY                  10000 non-null  object \n",
      " 24  PREFERRED_GAME_NAME                      10000 non-null  object \n",
      "dtypes: bool(2), float64(7), int64(9), object(7)\n",
      "memory usage: 1.8+ MB\n"
     ]
    }
   ],
   "source": [
    "# Read the CSV file into a DataFrame\n",
    "cust_df = pd.read_csv('customer_table.csv')\n",
    "trx_df = pd.read_csv('transaction_table.csv')\n",
    "cust_df.info()"
   ]
  },
  {
   "cell_type": "code",
   "execution_count": 14,
   "id": "9c9e06c0-c177-4fa1-872e-414bd65c6cb4",
   "metadata": {},
   "outputs": [
    {
     "data": {
      "text/plain": [
       "pandas.core.frame.DataFrame"
      ]
     },
     "execution_count": 14,
     "metadata": {},
     "output_type": "execute_result"
    }
   ],
   "source": [
    "type(cust_df)"
   ]
  },
  {
   "cell_type": "code",
   "execution_count": 16,
   "id": "7cc8c879-b24f-42dd-8fbb-356b57860362",
   "metadata": {},
   "outputs": [
    {
     "ename": "AttributeError",
     "evalue": "'DataFrame' object has no attribute 'write'",
     "output_type": "error",
     "traceback": [
      "\u001b[0;31m---------------------------------------------------------------------------\u001b[0m",
      "\u001b[0;31mAttributeError\u001b[0m                            Traceback (most recent call last)",
      "\u001b[0;32m/tmp/ipykernel_212/617361598.py\u001b[0m in \u001b[0;36m?\u001b[0;34m()\u001b[0m\n\u001b[0;32m----> 1\u001b[0;31m \u001b[0mcust_df\u001b[0m\u001b[0;34m.\u001b[0m\u001b[0mwrite\u001b[0m\u001b[0;34m.\u001b[0m\u001b[0mmode\u001b[0m\u001b[0;34m(\u001b[0m\u001b[0;34m\"overwrite\"\u001b[0m\u001b[0;34m)\u001b[0m\u001b[0;34m.\u001b[0m\u001b[0msave_as_table\u001b[0m\u001b[0;34m(\u001b[0m\u001b[0;34m\"casino_customers\"\u001b[0m\u001b[0;34m)\u001b[0m\u001b[0;34m\u001b[0m\u001b[0;34m\u001b[0m\u001b[0m\n\u001b[0m\u001b[1;32m      2\u001b[0m \u001b[0mmy_session\u001b[0m\u001b[0;34m.\u001b[0m\u001b[0mtable\u001b[0m\u001b[0;34m(\u001b[0m\u001b[0;34m\"casino_customers\"\u001b[0m\u001b[0;34m)\u001b[0m\u001b[0;34m.\u001b[0m\u001b[0mshow\u001b[0m\u001b[0;34m(\u001b[0m\u001b[0;34m)\u001b[0m\u001b[0;34m\u001b[0m\u001b[0;34m\u001b[0m\u001b[0m\n\u001b[1;32m      3\u001b[0m \u001b[0mtrx_df\u001b[0m\u001b[0;34m.\u001b[0m\u001b[0mwrite\u001b[0m\u001b[0;34m.\u001b[0m\u001b[0mmode\u001b[0m\u001b[0;34m(\u001b[0m\u001b[0;34m\"overwrite\"\u001b[0m\u001b[0;34m)\u001b[0m\u001b[0;34m.\u001b[0m\u001b[0msave_as_table\u001b[0m\u001b[0;34m(\u001b[0m\u001b[0;34m\"casino_transactions\"\u001b[0m\u001b[0;34m)\u001b[0m\u001b[0;34m\u001b[0m\u001b[0;34m\u001b[0m\u001b[0m\n\u001b[1;32m      4\u001b[0m \u001b[0mmy_session\u001b[0m\u001b[0;34m.\u001b[0m\u001b[0mtable\u001b[0m\u001b[0;34m(\u001b[0m\u001b[0;34m\"casino_transactions\"\u001b[0m\u001b[0;34m)\u001b[0m\u001b[0;34m.\u001b[0m\u001b[0mshow\u001b[0m\u001b[0;34m(\u001b[0m\u001b[0;34m)\u001b[0m\u001b[0;34m\u001b[0m\u001b[0;34m\u001b[0m\u001b[0m\n",
      "\u001b[0;32m/opt/conda/lib/python3.9/site-packages/pandas/core/generic.py\u001b[0m in \u001b[0;36m?\u001b[0;34m(self, name)\u001b[0m\n\u001b[1;32m   6289\u001b[0m             \u001b[0;32mand\u001b[0m \u001b[0mname\u001b[0m \u001b[0;32mnot\u001b[0m \u001b[0;32min\u001b[0m \u001b[0mself\u001b[0m\u001b[0;34m.\u001b[0m\u001b[0m_accessors\u001b[0m\u001b[0;34m\u001b[0m\u001b[0;34m\u001b[0m\u001b[0m\n\u001b[1;32m   6290\u001b[0m             \u001b[0;32mand\u001b[0m \u001b[0mself\u001b[0m\u001b[0;34m.\u001b[0m\u001b[0m_info_axis\u001b[0m\u001b[0;34m.\u001b[0m\u001b[0m_can_hold_identifiers_and_holds_name\u001b[0m\u001b[0;34m(\u001b[0m\u001b[0mname\u001b[0m\u001b[0;34m)\u001b[0m\u001b[0;34m\u001b[0m\u001b[0;34m\u001b[0m\u001b[0m\n\u001b[1;32m   6291\u001b[0m         ):\n\u001b[1;32m   6292\u001b[0m             \u001b[0;32mreturn\u001b[0m \u001b[0mself\u001b[0m\u001b[0;34m[\u001b[0m\u001b[0mname\u001b[0m\u001b[0;34m]\u001b[0m\u001b[0;34m\u001b[0m\u001b[0;34m\u001b[0m\u001b[0m\n\u001b[0;32m-> 6293\u001b[0;31m         \u001b[0;32mreturn\u001b[0m \u001b[0mobject\u001b[0m\u001b[0;34m.\u001b[0m\u001b[0m__getattribute__\u001b[0m\u001b[0;34m(\u001b[0m\u001b[0mself\u001b[0m\u001b[0;34m,\u001b[0m \u001b[0mname\u001b[0m\u001b[0;34m)\u001b[0m\u001b[0;34m\u001b[0m\u001b[0;34m\u001b[0m\u001b[0m\n\u001b[0m",
      "\u001b[0;31mAttributeError\u001b[0m: 'DataFrame' object has no attribute 'write'"
     ]
    }
   ],
   "source": [
    "cust_df.write.mode(\"overwrite\").save_as_table(\"casino_customers\")\n",
    "my_session.table(\"casino_customers\").show()\n",
    "trx_df.write.mode(\"overwrite\").save_as_table(\"casino_transactions\")\n",
    "my_session.table(\"casino_transactions\").show()"
   ]
  },
  {
   "cell_type": "code",
   "execution_count": 10,
   "id": "00521b8f-491f-4178-ad80-df272754a563",
   "metadata": {},
   "outputs": [
    {
     "name": "stdout",
     "output_type": "stream",
     "text": [
      "<class 'pandas.core.frame.DataFrame'>\n",
      "RangeIndex: 10000 entries, 0 to 9999\n",
      "Data columns (total 25 columns):\n",
      " #   Column                                   Non-Null Count  Dtype  \n",
      "---  ------                                   --------------  -----  \n",
      " 0   PLAYER_ID                                10000 non-null  int64  \n",
      " 1   AGE                                      10000 non-null  int64  \n",
      " 2   GENDER                                   10000 non-null  object \n",
      " 3   HOME_COUNTRY                             10000 non-null  object \n",
      " 4   HOME_CITY                                10000 non-null  object \n",
      " 5   DATE_FIRST_VISIT                         10000 non-null  object \n",
      " 6   DATE_LAST_VISIT                          10000 non-null  object \n",
      " 7   TOTAL_NUMBER_OF_VISITS                   10000 non-null  int64  \n",
      " 8   TOTAL_DURATION_SPENT                     10000 non-null  float64\n",
      " 9   AVERAGE_DURATION_PER_VISIT               10000 non-null  float64\n",
      " 10  TOTAL_CHIPS_WON_OR_LOST                  10000 non-null  int64  \n",
      " 11  AVERAGE_CHIPS_WON_OR_LOST_PER_VISIT      10000 non-null  float64\n",
      " 12  UNIQUE_GAMES_PLAYED                      10000 non-null  int64  \n",
      " 13  IS_PREMIUM_PLAYER                        10000 non-null  bool   \n",
      " 14  IS_LOYALTY_CARD_HOLDER                   10000 non-null  bool   \n",
      " 15  TOTAL_AMOUNT_SPENT_IN_HOTEL              10000 non-null  float64\n",
      " 16  TOTAL_DAYS_SPENT_HOTEL                   10000 non-null  int64  \n",
      " 17  TOTAL_AMOUNT_SPENT_IN_CASINO_RESTAURANT  10000 non-null  float64\n",
      " 18  NUMBER_OF_RESTAURANT_VISITS              10000 non-null  int64  \n",
      " 19  TOTAL_AMOUNT_SPENT_IN_SPA                10000 non-null  float64\n",
      " 20  NUMBER_OF_SPA_VISITS                     10000 non-null  int64  \n",
      " 21  TOTAL_REVENUE_TO_CASINO                  10000 non-null  float64\n",
      " 22  NUMBER_OF_CONCIERGE_VISITS               10000 non-null  int64  \n",
      " 23  PREFERRED_GAME_CATEGORY                  10000 non-null  object \n",
      " 24  PREFERRED_GAME_NAME                      10000 non-null  object \n",
      "dtypes: bool(2), float64(7), int64(9), object(7)\n",
      "memory usage: 1.8+ MB\n"
     ]
    }
   ],
   "source": [
    "df.info()\n"
   ]
  },
  {
   "cell_type": "code",
   "execution_count": null,
   "id": "f4446609-3be8-4475-9054-33e1278c4a8c",
   "metadata": {},
   "outputs": [],
   "source": []
  },
  {
   "cell_type": "code",
   "execution_count": null,
   "id": "3af56f92-0885-4402-96fd-d1b8228e9e88",
   "metadata": {},
   "outputs": [],
   "source": []
  }
 ],
 "metadata": {
  "kernelspec": {
   "display_name": "Python 3 (ipykernel)",
   "language": "python",
   "name": "python3"
  },
  "language_info": {
   "codemirror_mode": {
    "name": "ipython",
    "version": 3
   },
   "file_extension": ".py",
   "mimetype": "text/x-python",
   "name": "python",
   "nbconvert_exporter": "python",
   "pygments_lexer": "ipython3",
   "version": "3.9.19"
  }
 },
 "nbformat": 4,
 "nbformat_minor": 5
}
