{
 "cells": [
  {
   "cell_type": "code",
   "execution_count": null,
   "id": "92147d7e-59aa-40c5-81cb-368b714b09cb",
   "metadata": {},
   "outputs": [],
   "source": []
  }
 ],
 "metadata": {
  "kernelspec": {
   "display_name": "",
   "name": ""
  },
  "language_info": {
   "name": ""
  }
 },
 "nbformat": 4,
 "nbformat_minor": 5
}
