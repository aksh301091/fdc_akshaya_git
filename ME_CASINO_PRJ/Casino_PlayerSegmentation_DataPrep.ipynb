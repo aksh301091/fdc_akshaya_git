{
 "cells": [
  {
   "cell_type": "code",
   "execution_count": null,
   "id": "92147d7e-59aa-40c5-81cb-368b714b09cb",
   "metadata": {},
   "outputs": [],
   "source": [
    "!pip install --upgrade pip\n",
    "!pip install \"snowflake-connector-python[pandas]\" \"snowflake-snowpark-python[pandas]\" snowflake-snowpark-python==1.9.0 numpy pandas matplotlib scikit-learn xgboost seaborn python-dateutil tqdm holidays faker\n",
    "!pip install --upgrade --q snowflake-snowpark-python==1.9.0\n",
    "!pip uninstall urllib3 -y\n",
    "!pip install urllib3==1.26.15\n",
    "!pip install fosforml==1.1.6\n",
    "!pip install yellowbrick"
   ]
  },
  {
   "cell_type": "code",
   "execution_count": null,
   "id": "2108f41f-a786-4e1a-814c-fbe016a84e9a",
   "metadata": {},
   "outputs": [],
   "source": [
    "from fosforml import *\n",
    "from fosforml.constants import MLModelFlavours\n",
    "from matplotlib import pyplot as plt\n",
    "import numpy as np\n",
    "import pandas as pd\n",
    "pd.set_option('display.max_columns', 500)\n",
    "import seaborn as sns\n",
    "from sklearn.metrics import mean_absolute_percentage_error\n",
    "import warnings; warnings.simplefilter('ignore')\n",
    "from joblib import dump, load\n",
    "import requests\n",
    "from tqdm import tqdm\n",
    "import time\n",
    "import calendar\n",
    "\n",
    "from time import sleep\n",
    "import configparser\n",
    "from dateutil.relativedelta import relativedelta\n",
    "import datetime\n",
    "from dateutil.easter import easter\n",
    "from scipy.optimize import minimize_scalar\n",
    "from scipy.optimize import curve_fit\n",
    "\n",
    "%matplotlib inline"
   ]
  },
  {
   "cell_type": "code",
   "execution_count": null,
   "id": "4178e26a-da98-4398-876f-d4365aab4b65",
   "metadata": {},
   "outputs": [],
   "source": [
    "import matplotlib.pyplot as plt\n",
    "plt.rcParams['font.family'] = 'DeJavu Serif'\n",
    "plt.rcParams['font.serif'] = ['Times New Roman']\n",
    "\n",
    "import warnings\n",
    "\n",
    "# Suppress all warnings\n",
    "warnings.filterwarnings(\"ignore\")\n",
    "import matplotlib.pyplot as plt\n",
    "from matplotlib import rcParams\n",
    "\n",
    "# Configure the font family to avoid 'sans-serif' warnings\n",
    "rcParams['font.family'] = 'DejaVu Sans'  # or another available font on your system\n"
   ]
  },
  {
   "cell_type": "code",
   "execution_count": null,
   "id": "cac06fe0-d1f4-4293-9752-c51ee59c69cc",
   "metadata": {},
   "outputs": [],
   "source": [
    "#Importing the Libraries\n",
    "\n",
    "import datetime\n",
    "import matplotlib\n",
    "import matplotlib.pyplot as plt\n",
    "from matplotlib import colors\n",
    "import seaborn as sns\n",
    "from sklearn.preprocessing import LabelEncoder\n",
    "from sklearn.preprocessing import StandardScaler\n",
    "from sklearn.decomposition import PCA\n",
    "from yellowbrick.cluster import KElbowVisualizer\n",
    "from sklearn.cluster import KMeans\n",
    "from mpl_toolkits.mplot3d import Axes3D\n",
    "from sklearn.cluster import AgglomerativeClustering\n",
    "from matplotlib.colors import ListedColormap\n",
    "from sklearn import metrics\n",
    "import warnings\n",
    "import sys\n",
    "if not sys.warnoptions:\n",
    "    warnings.simplefilter(\"ignore\")\n",
    "np.random.seed(42)"
   ]
  },
  {
   "cell_type": "code",
   "execution_count": null,
   "id": "cd6d7cf3-d0f7-4c85-aaf2-569790eb8d24",
   "metadata": {},
   "outputs": [],
   "source": [
    "from fosforml.model_manager.snowflakesession import get_session\n",
    "my_session = get_session()"
   ]
  },
  {
   "cell_type": "code",
   "execution_count": null,
   "id": "06a14dfc-0407-48af-8678-20f0a6380c6b",
   "metadata": {},
   "outputs": [],
   "source": [
    "cust_df = pd.read_csv('customer_table.csv')\n",
    "cust_df"
   ]
  },
  {
   "cell_type": "code",
   "execution_count": null,
   "id": "47127e9e-a3b7-4ef8-a6cb-155c08f4445a",
   "metadata": {},
   "outputs": [],
   "source": [
    "t1_df = pd.read_csv('trx_1.csv')\n",
    "t2_df = pd.read_csv('trx_2.csv')\n",
    "t3_df = pd.read_csv('trx_3.csv')"
   ]
  },
  {
   "cell_type": "code",
   "execution_count": null,
   "id": "ebcd1834-972a-4e05-9c9f-2dcb331c4e6f",
   "metadata": {},
   "outputs": [],
   "source": [
    "cust_sfdf = my_session.createDataFrame(cust_df)\n",
    "cust_sfdf.write.mode(\"overwrite\").save_as_table(\"casino_customers\")"
   ]
  },
  {
   "cell_type": "code",
   "execution_count": null,
   "id": "bbdd48d9-b584-4f41-9a16-aaae3f327c04",
   "metadata": {},
   "outputs": [],
   "source": [
    "inter_df = t1_df._append(t2_df,ignore_index=True)\n",
    "trx_df = inter_df._append(t3_df, ignore_index=True)\n",
    "trx_df.info()"
   ]
  },
  {
   "cell_type": "code",
   "execution_count": null,
   "id": "9068b4b9-4f5e-4ec1-8d79-8ea4c148d440",
   "metadata": {},
   "outputs": [],
   "source": [
    "trx_sfdf = my_session.createDataFrame(trx_df)\n",
    "trx_sfdf.write.mode(\"overwrite\").save_as_table(\"casino_transactions\")"
   ]
  },
  {
   "cell_type": "markdown",
   "id": "164904c6-1651-4a6c-a724-0eb2530c2cd6",
   "metadata": {},
   "source": [
    "# Reading data from SF"
   ]
  },
  {
   "cell_type": "code",
   "execution_count": null,
   "id": "d1006648-392d-46b4-a60d-9057d304b577",
   "metadata": {},
   "outputs": [],
   "source": [
    "# table_name = 'CASINO_TRANSACTIONS'\n",
    "# transaction_df = my_session.sql(\"select * from {}\".format(table_name))\n",
    "# transaction_df = transaction_df.to_pandas()\n",
    "# type(transaction_df)\n",
    "\n",
    "transaction_df = trx_df.copy()\n",
    "transaction_df.columns = [col.upper() for col in transaction_df.columns]\n",
    "\n",
    "\n"
   ]
  },
  {
   "cell_type": "code",
   "execution_count": null,
   "id": "f8beb5ac-91f0-4c84-b467-460e34cf032e",
   "metadata": {},
   "outputs": [],
   "source": [
    "customer_aggregation = transaction_df.groupby('PLAYER_ID').agg(\n",
    "    DATE_FIRST_VISIT=('DATE', 'min'),\n",
    "    DATE_LAST_VISIT= ('DATE', 'max'),\n",
    "    TOTAL_NUMBER_OF_VISITS=('TRANSACTION_ID', 'count'),\n",
    "    TOTAL_DURATION_SPENT=('DURATION_SPENT', 'sum'),\n",
    "    AVERAGE_DURATION_PER_VISIT=('DURATION_SPENT', 'mean'),\n",
    "    TOTAL_CHIPS_WON_OR_LOST=('CHIPS_WON_OR_LOST', 'sum'),\n",
    "    AVERAGE_CHIPS_WON_OR_LOST_PER_VISIT=('CHIPS_WON_OR_LOST', 'mean'),\n",
    "    UNIQUE_GAMES_PLAYED=('GAME_NAME', 'nunique'),\n",
    "    IS_PREMIUM_PLAYER=('IS_PREMIUM_PLAYER', 'max'),\n",
    "    IS_LOYALTY_CARD_HOLDER=('IS_LOYALTY_CARD_HOLDER', 'max'),\n",
    "    TOTAL_AMOUNT_SPENT_IN_HOTEL=('AMOUNT_SPENT_IN_HOTEL_STAY', 'sum'),\n",
    "    TOTAL_DAYS_SPENT_HOTEL=('NUMBER_OF_DAYS_SPENT_IN_HOTEL', 'sum'),\n",
    "    TOTAL_AMOUNT_SPENT_IN_CASINO_RESTAURANT=('AMOUNT_SPENT_IN_CASINO_RESTAURANT', 'sum'),\n",
    "    NUMBER_OF_RESTAURANT_VISITS=('NUMBER_OF_RESTAURANT_VISITS', 'sum'),\n",
    "    TOTAL_AMOUNT_SPENT_IN_SPA=('AMOUNT_SPENT_IN_SPA', 'sum'),\n",
    "    NUMBER_OF_SPA_VISITS=('NUMBER_OF_SPA_VISITS', 'sum'),\n",
    "    TOTAL_REVENUE_TO_CASINO=('REVENUE_MADE_BY_CASINO_FROM_PLAYER', 'sum'),\n",
    "    NUMBER_OF_CONCIERGE_VISITS=('NUMBER_OF_CONCIERGE_VISITS', 'sum')\n",
    ").reset_index()"
   ]
  },
  {
   "cell_type": "code",
   "execution_count": null,
   "id": "e0eda159-6c0b-4004-8ad3-224078108361",
   "metadata": {},
   "outputs": [],
   "source": [
    "customer_aggregation['DATE_FIRST_VISIT'] = pd.to_datetime(customer_aggregation['DATE_FIRST_VISIT'], format = 'mixed')\n",
    "customer_aggregation['DATE_LAST_VISIT'] = pd.to_datetime(customer_aggregation['DATE_LAST_VISIT'], format = 'mixed')\n",
    "transaction_df['DATE'] = pd.to_datetime(transaction_df['DATE'], format = 'mixed')"
   ]
  },
  {
   "cell_type": "code",
   "execution_count": null,
   "id": "09affc80-a522-46c6-bd71-b635b0af0c6a",
   "metadata": {},
   "outputs": [],
   "source": [
    "customer_aggregation.head()"
   ]
  },
  {
   "cell_type": "code",
   "execution_count": null,
   "id": "0e5e4c3d-94fe-4f7b-bc0f-3e234f6b4fb2",
   "metadata": {},
   "outputs": [],
   "source": [
    "customer_aggregation[customer_aggregation['DATE_FIRST_VISIT']<customer_aggregation['DATE_LAST_VISIT']]"
   ]
  },
  {
   "cell_type": "code",
   "execution_count": null,
   "id": "a52b579f-dfce-4424-a35a-254d9743def8",
   "metadata": {},
   "outputs": [],
   "source": [
    "# Calculating preferred game category and name\n",
    "preferred_game = transaction_df.groupby(['PLAYER_ID', 'GAME_CATEGORY', 'GAME_NAME','PLAYER_AGE', 'PLAYER_GENDER', 'HOME_COUNTRY', 'HOME_CITY'])['DURATION_SPENT'].sum().reset_index()\n",
    "preferred_game = preferred_game.loc[preferred_game.groupby('PLAYER_ID')['DURATION_SPENT'].idxmax()][['PLAYER_ID', 'GAME_CATEGORY', 'GAME_NAME', 'PLAYER_AGE', 'PLAYER_GENDER', 'HOME_COUNTRY', 'HOME_CITY']]\n",
    "preferred_game\n"
   ]
  },
  {
   "cell_type": "code",
   "execution_count": null,
   "id": "19d3705e-0372-4955-8580-ce6a76e6cca7",
   "metadata": {},
   "outputs": [],
   "source": [
    "customer_aggregation = customer_aggregation.merge(preferred_game, on='PLAYER_ID', how='left')\n",
    "customer_aggregation\n"
   ]
  },
  {
   "cell_type": "code",
   "execution_count": null,
   "id": "688d05d5-89ce-4907-afe8-4cf90878a484",
   "metadata": {},
   "outputs": [],
   "source": [
    "customer_aggregation.rename(columns= {'PLAYER_AGE':'AGE' , 'PLAYER_GENDER':'GENDER', 'GAME_CATEGORY':'PREFERRED_GAME_CATEGORY', \n",
    "                                      'GAME_NAME':'PREFERRED_GAME_NAME'}, inplace= True) \n",
    "customer_aggregation.info()"
   ]
  },
  {
   "cell_type": "code",
   "execution_count": null,
   "id": "8e96f8bb-1134-46aa-9a1d-97216227e7b7",
   "metadata": {},
   "outputs": [],
   "source": [
    "customer_df = customer_aggregation.copy()"
   ]
  },
  {
   "cell_type": "markdown",
   "id": "8031f34a-e19d-46de-8017-ee7c1435c43b",
   "metadata": {},
   "source": [
    "# Data Preparation"
   ]
  },
  {
   "cell_type": "code",
   "execution_count": null,
   "id": "c35234a2-426d-465a-a020-68e400322bc1",
   "metadata": {},
   "outputs": [],
   "source": [
    "# Date transformation data type\n",
    "\n",
    "customer_df['DATE_FIRST_VISIT'] = pd.to_datetime(customer_df['DATE_FIRST_VISIT'], format = 'mixed')\n",
    "customer_df['DATE_LAST_VISIT'] = pd.to_datetime(customer_df['DATE_LAST_VISIT'], format = 'mixed')\n",
    "transaction_df['DATE'] = pd.to_datetime(transaction_df['DATE'], format = 'mixed')"
   ]
  },
  {
   "cell_type": "code",
   "execution_count": null,
   "id": "0cc5ca00-3f88-45ee-bc94-3b444340d046",
   "metadata": {},
   "outputs": [],
   "source": [
    "print(customer_df.info())\n",
    "print(transaction_df.info())"
   ]
  },
  {
   "cell_type": "code",
   "execution_count": null,
   "id": "0eeab952-c297-4f07-a468-16278df82f3f",
   "metadata": {},
   "outputs": [],
   "source": [
    "# Adding new features for better classification\n",
    "customer_df['VISIT_FREQUENCY'] = customer_df['TOTAL_NUMBER_OF_VISITS'] / ((pd.to_datetime(customer_df['DATE_LAST_VISIT']) - \n",
    "                                                                           pd.to_datetime(customer_df['DATE_FIRST_VISIT'])).dt.days + 1)"
   ]
  },
  {
   "cell_type": "code",
   "execution_count": null,
   "id": "e1876449-17b6-4bdb-be07-bd9f5613d434",
   "metadata": {},
   "outputs": [],
   "source": [
    "#Get list of categorical variables\n",
    "s = (customer_df.dtypes == 'object')\n",
    "object_cols = list(s[s].index)\n",
    "\n",
    "print(\"Categorical variables in the dataset:\", object_cols)"
   ]
  },
  {
   "cell_type": "code",
   "execution_count": null,
   "id": "ccc52b1f-b8b5-4026-93d3-5fb40b708a37",
   "metadata": {},
   "outputs": [],
   "source": [
    "#Label Encoding the object dtypes.\n",
    "LE=LabelEncoder()\n",
    "for i in object_cols:\n",
    "    customer_df[i]=customer_df[[i]].apply(LE.fit_transform)\n",
    "    \n",
    "print(\"All features are now numerical\")"
   ]
  },
  {
   "cell_type": "code",
   "execution_count": null,
   "id": "23dcc897-782c-4e50-b933-8e2f8b8cd641",
   "metadata": {},
   "outputs": [],
   "source": [
    "customer_df.info()"
   ]
  },
  {
   "cell_type": "code",
   "execution_count": null,
   "id": "fd9f30f1-9d67-464d-a826-a885cf311489",
   "metadata": {},
   "outputs": [],
   "source": [
    "print(customer_df.max(axis=0)) # will return max value of each column\n",
    "print(customer_df.min(axis=0)) # will return min value of each column"
   ]
  },
  {
   "cell_type": "code",
   "execution_count": null,
   "id": "41dc7de7-85ce-4fcb-aad0-492769bd02c5",
   "metadata": {},
   "outputs": [],
   "source": [
    "print(customer_df.mean(axis=0)) # will return min value of each column"
   ]
  },
  {
   "cell_type": "code",
   "execution_count": null,
   "id": "f9f0c55a-d13a-4f33-8797-96a75044f7c5",
   "metadata": {},
   "outputs": [],
   "source": [
    "# sf_df = my_session.createDataFrame(customer_df)\n",
    "# sf_df.write.mode(\"overwrite\").save_as_table(\"CASINO_CUSTOMERS\")\n",
    "# my_session.table(\"CASINO_CUSTOMERS\").show()"
   ]
  },
  {
   "cell_type": "code",
   "execution_count": null,
   "id": "9f8a73fd-8cfa-44e6-ad75-d7431736c70d",
   "metadata": {},
   "outputs": [],
   "source": [
    "customer_df.head()"
   ]
  },
  {
   "cell_type": "code",
   "execution_count": null,
   "id": "559e9931-f6db-4939-9f0b-f2ae7af13506",
   "metadata": {},
   "outputs": [],
   "source": [
    "#Creating a copy of data\n",
    "ds = customer_df.copy()\n",
    "# creating a subset of dataframe by dropping\n",
    "cols_del = ['DATE_FIRST_VISIT', 'DATE_LAST_VISIT']\n",
    "ds = ds.drop(cols_del, axis=1)\n",
    "\n",
    "#Scaling\n",
    "scaler = StandardScaler()\n",
    "scaler.fit(ds)\n",
    "scaled_ds = pd.DataFrame(scaler.transform(ds),columns= ds.columns )\n",
    "print(\"All features are now scaled\")"
   ]
  },
  {
   "cell_type": "code",
   "execution_count": null,
   "id": "9fa1c766-135f-485b-a5b9-ccc60577d01c",
   "metadata": {},
   "outputs": [],
   "source": [
    "ds.info()"
   ]
  },
  {
   "cell_type": "markdown",
   "id": "a6e779c4-ecab-48e2-a20e-4e7d1e395d78",
   "metadata": {},
   "source": [
    "# Data Exploration"
   ]
  },
  {
   "cell_type": "code",
   "execution_count": null,
   "id": "52c1eb6e-1a91-43a1-9120-5a25a8f1ca15",
   "metadata": {},
   "outputs": [],
   "source": [
    "# Descriptive statistics for customer data\n",
    "print(customer_df.describe(include='all'))\n",
    "print(transaction_df.describe(include='all'))"
   ]
  },
  {
   "cell_type": "code",
   "execution_count": null,
   "id": "1f8a6448-f997-4f88-8d48-daa3a36cd31a",
   "metadata": {},
   "outputs": [],
   "source": [
    "# Plotting distribution of age\n",
    "from matplotlib import rcParams\n",
    "\n",
    "# Configure the font family to avoid 'sans-serif' warnings\n",
    "rcParams['font.family'] = 'DejaVu Sans'  # or another available font on your system\n",
    "\n",
    "plt.figure(figsize=(12, 6))\n",
    "sns.histplot(customer_df['AGE'], bins=20, kde=True)\n",
    "plt.title('Age Distribution')\n",
    "plt.show()"
   ]
  },
  {
   "cell_type": "code",
   "execution_count": null,
   "id": "068e8e92-2a55-4b5e-b4eb-361128547799",
   "metadata": {},
   "outputs": [],
   "source": [
    "# Checking for missing values\n",
    "print(customer_df.isna().sum())"
   ]
  },
  {
   "cell_type": "code",
   "execution_count": null,
   "id": "4429f8ee-7057-4153-bddd-faaa3ead95ed",
   "metadata": {},
   "outputs": [],
   "source": [
    "# Fill missing values or drop them if appropriate\n",
    "customer_df = customer_df.dropna()  # Here we simply drop missing values"
   ]
  },
  {
   "cell_type": "code",
   "execution_count": null,
   "id": "cc0c8c24-fdfd-4b28-a7b5-712150e60ce9",
   "metadata": {},
   "outputs": [],
   "source": [
    "# Plotting distribution for numeric features in customer data\n",
    "customer_df.hist(bins=15, figsize=(20, 15))\n",
    "plt.suptitle('Distribution of Numeric Features in Customer Data')\n",
    "plt.show()"
   ]
  },
  {
   "cell_type": "code",
   "execution_count": null,
   "id": "7d78bf02-3689-409e-b30d-4d0c23d12ba9",
   "metadata": {},
   "outputs": [],
   "source": [
    "# Correlation matrix for customer_df\n",
    "correlation_matrix = customer_df.corr()\n",
    "plt.figure(figsize=(15, 10))\n",
    "sns.heatmap(correlation_matrix, annot=True, cmap='coolwarm')\n",
    "plt.title('Correlation Matrix for Customer Data')\n",
    "plt.show()"
   ]
  },
  {
   "cell_type": "code",
   "execution_count": null,
   "id": "47919555-52fd-404f-9a65-9043ced54a8b",
   "metadata": {},
   "outputs": [],
   "source": [
    "\n",
    "corrmat= customer_df.corr()\n",
    "plt.figure(figsize=(20,20))  \n",
    "sns.heatmap(corrmat,annot=True, cmap='coolwarm', center=0)"
   ]
  },
  {
   "cell_type": "code",
   "execution_count": null,
   "id": "ecda10d2-dbb6-478d-85aa-52a7cea4ce06",
   "metadata": {},
   "outputs": [],
   "source": [
    "scaled_ds.head()"
   ]
  },
  {
   "cell_type": "code",
   "execution_count": null,
   "id": "620f962d-7dd1-4520-8245-78338aec5f38",
   "metadata": {},
   "outputs": [],
   "source": [
    "customer_df.info()"
   ]
  },
  {
   "cell_type": "code",
   "execution_count": null,
   "id": "f3febbf7-b1fb-433a-bd1d-5c00f16c35ad",
   "metadata": {},
   "outputs": [],
   "source": [
    "# Plotting categorical features against target variable\n",
    "sns.countplot(x='GENDER', data=customer_df)\n",
    "plt.title('Gender Distribution')\n",
    "plt.show()"
   ]
  },
  {
   "cell_type": "code",
   "execution_count": null,
   "id": "b6a9670e-c681-491e-aa3d-4069804edca1",
   "metadata": {},
   "outputs": [],
   "source": [
    "sns.countplot(x='HOME_COUNTRY', data=customer_df)\n",
    "plt.title('Country Distribution')\n",
    "plt.show()"
   ]
  },
  {
   "cell_type": "code",
   "execution_count": null,
   "id": "fd14842c-ce17-4816-96c8-ceb6b2c21734",
   "metadata": {},
   "outputs": [],
   "source": []
  }
 ],
 "metadata": {
  "kernelspec": {
   "display_name": "Python 3 (ipykernel)",
   "language": "python",
   "name": "python3"
  },
  "language_info": {
   "codemirror_mode": {
    "name": "ipython",
    "version": 3
   },
   "file_extension": ".py",
   "mimetype": "text/x-python",
   "name": "python",
   "nbconvert_exporter": "python",
   "pygments_lexer": "ipython3",
   "version": "3.9.19"
  }
 },
 "nbformat": 4,
 "nbformat_minor": 5
}
