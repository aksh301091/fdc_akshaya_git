{
 "cells": [
  {
   "cell_type": "markdown",
   "id": "e9559c1a",
   "metadata": {},
   "source": [
    "## Olympics Prediction Model"
   ]
  },
  {
   "cell_type": "code",
   "execution_count": null,
   "id": "92494cb5",
   "metadata": {},
   "outputs": [],
   "source": [
    "!pip install --upgrade pip\n",
    "!pip install \"snowflake-connector-python[pandas]\" \"snowflake-snowpark-python[pandas]\" snowflake-snowpark-python==1.9.0 fosforio fosforml numpy pandas matplotlib scikit-learn xgboost seaborn python-dateutil tqdm holidays faker\n",
    "!pip install --upgrade --q snowflake-snowpark-python==1.9.0\n",
    "!pip uninstall urllib3 -y\n",
    "!pip install urllib3==1.26.15\n",
    "!pip install tensorflow[and-cuda]"
   ]
  },
  {
   "cell_type": "code",
   "execution_count": null,
   "id": "9bfcf4e9",
   "metadata": {},
   "outputs": [],
   "source": [
    "import os\n",
    "os._exit(00)"
   ]
  },
  {
   "cell_type": "code",
   "execution_count": null,
   "id": "c6eb6454",
   "metadata": {},
   "outputs": [],
   "source": [
    "# Import packages"
   ]
  },
  {
   "cell_type": "code",
   "execution_count": null,
   "id": "a4fed65b",
   "metadata": {},
   "outputs": [],
   "source": [
    "from fosforio import snowflake\n",
    "from fosforml import *\n",
    "from fosforml.constants import MLModelFlavours\n",
    "from fosforio import get_dataframe\n",
    "from matplotlib import pyplot as plt\n",
    "%matplotlib inline\n",
    "import pandas as pd\n",
    "pd.set_option('display.max_columns', 500)\n",
    "import seaborn as sns\n",
    "from sklearn.metrics import mean_absolute_percentage_error\n",
    "import numpy as np\n",
    "import warnings; warnings.simplefilter('ignore')\n",
    "from joblib import dump, load\n",
    "import requests\n",
    "from tqdm import tqdm\n",
    "import time\n",
    "import calendar\n",
    "\n",
    "from time import sleep\n",
    "import configparser\n",
    "from dateutil.relativedelta import relativedelta\n",
    "import datetime\n",
    "from dateutil.easter import easter\n",
    "from scipy.optimize import minimize_scalar\n",
    "from scipy.optimize import curve_fit"
   ]
  },
  {
   "cell_type": "code",
   "execution_count": 2,
   "id": "e47834e3",
   "metadata": {},
   "outputs": [],
   "source": [
    "from sklearn.preprocessing import StandardScaler\n",
    "from sklearn.model_selection import train_test_split\n",
    "import tensorflow as tf\n",
    "from sklearn.metrics import classification_report, confusion_matrix"
   ]
  },
  {
   "cell_type": "code",
   "execution_count": 12,
   "id": "32fec536",
   "metadata": {},
   "outputs": [
    {
     "name": "stdout",
     "output_type": "stream",
     "text": [
      "Exception occurred in getting snowflake connection: 'connectionSources'\n",
      "Reading dataframe from snowflake native connector\n"
     ]
    },
    {
     "data": {
      "text/html": [
       "<div>\n",
       "<style scoped>\n",
       "    .dataframe tbody tr th:only-of-type {\n",
       "        vertical-align: middle;\n",
       "    }\n",
       "\n",
       "    .dataframe tbody tr th {\n",
       "        vertical-align: top;\n",
       "    }\n",
       "\n",
       "    .dataframe thead th {\n",
       "        text-align: right;\n",
       "    }\n",
       "</style>\n",
       "<table border=\"1\" class=\"dataframe\">\n",
       "  <thead>\n",
       "    <tr style=\"text-align: right;\">\n",
       "      <th></th>\n",
       "      <th>ID</th>\n",
       "      <th>NAME</th>\n",
       "      <th>SEX</th>\n",
       "      <th>AGE</th>\n",
       "      <th>HEIGHT</th>\n",
       "      <th>WEIGHT</th>\n",
       "      <th>TEAM</th>\n",
       "      <th>NOC</th>\n",
       "      <th>GAMES</th>\n",
       "      <th>YEAR</th>\n",
       "      <th>SEASON</th>\n",
       "      <th>CITY</th>\n",
       "      <th>SPORT</th>\n",
       "      <th>EVENT</th>\n",
       "      <th>MEDAL</th>\n",
       "    </tr>\n",
       "  </thead>\n",
       "  <tbody>\n",
       "    <tr>\n",
       "      <th>0</th>\n",
       "      <td>1</td>\n",
       "      <td>A Dijiang</td>\n",
       "      <td>M</td>\n",
       "      <td>24</td>\n",
       "      <td>180</td>\n",
       "      <td>80</td>\n",
       "      <td>China</td>\n",
       "      <td>CHN</td>\n",
       "      <td>1992 Summer</td>\n",
       "      <td>1992</td>\n",
       "      <td>Summer</td>\n",
       "      <td>Barcelona</td>\n",
       "      <td>Basketball</td>\n",
       "      <td>Basketball Men's Basketball</td>\n",
       "      <td>NA</td>\n",
       "    </tr>\n",
       "    <tr>\n",
       "      <th>1</th>\n",
       "      <td>2</td>\n",
       "      <td>A Lamusi</td>\n",
       "      <td>M</td>\n",
       "      <td>23</td>\n",
       "      <td>170</td>\n",
       "      <td>60</td>\n",
       "      <td>China</td>\n",
       "      <td>CHN</td>\n",
       "      <td>2012 Summer</td>\n",
       "      <td>2012</td>\n",
       "      <td>Summer</td>\n",
       "      <td>London</td>\n",
       "      <td>Judo</td>\n",
       "      <td>Judo Men's Extra-Lightweight</td>\n",
       "      <td>NA</td>\n",
       "    </tr>\n",
       "    <tr>\n",
       "      <th>2</th>\n",
       "      <td>3</td>\n",
       "      <td>Gunnar Nielsen Aaby</td>\n",
       "      <td>M</td>\n",
       "      <td>24</td>\n",
       "      <td>NA</td>\n",
       "      <td>NA</td>\n",
       "      <td>Denmark</td>\n",
       "      <td>DEN</td>\n",
       "      <td>1920 Summer</td>\n",
       "      <td>1920</td>\n",
       "      <td>Summer</td>\n",
       "      <td>Antwerpen</td>\n",
       "      <td>Football</td>\n",
       "      <td>Football Men's Football</td>\n",
       "      <td>NA</td>\n",
       "    </tr>\n",
       "    <tr>\n",
       "      <th>3</th>\n",
       "      <td>4</td>\n",
       "      <td>Edgar Lindenau Aabye</td>\n",
       "      <td>M</td>\n",
       "      <td>34</td>\n",
       "      <td>NA</td>\n",
       "      <td>NA</td>\n",
       "      <td>Denmark/Sweden</td>\n",
       "      <td>DEN</td>\n",
       "      <td>1900 Summer</td>\n",
       "      <td>1900</td>\n",
       "      <td>Summer</td>\n",
       "      <td>Paris</td>\n",
       "      <td>Tug-Of-War</td>\n",
       "      <td>Tug-Of-War Men's Tug-Of-War</td>\n",
       "      <td>Gold</td>\n",
       "    </tr>\n",
       "    <tr>\n",
       "      <th>4</th>\n",
       "      <td>5</td>\n",
       "      <td>Christine Jacoba Aaftink</td>\n",
       "      <td>F</td>\n",
       "      <td>21</td>\n",
       "      <td>185</td>\n",
       "      <td>82</td>\n",
       "      <td>Netherlands</td>\n",
       "      <td>NED</td>\n",
       "      <td>1988 Winter</td>\n",
       "      <td>1988</td>\n",
       "      <td>Winter</td>\n",
       "      <td>Calgary</td>\n",
       "      <td>Speed Skating</td>\n",
       "      <td>Speed Skating Women's 500 metres</td>\n",
       "      <td>NA</td>\n",
       "    </tr>\n",
       "    <tr>\n",
       "      <th>...</th>\n",
       "      <td>...</td>\n",
       "      <td>...</td>\n",
       "      <td>...</td>\n",
       "      <td>...</td>\n",
       "      <td>...</td>\n",
       "      <td>...</td>\n",
       "      <td>...</td>\n",
       "      <td>...</td>\n",
       "      <td>...</td>\n",
       "      <td>...</td>\n",
       "      <td>...</td>\n",
       "      <td>...</td>\n",
       "      <td>...</td>\n",
       "      <td>...</td>\n",
       "      <td>...</td>\n",
       "    </tr>\n",
       "    <tr>\n",
       "      <th>271111</th>\n",
       "      <td>135569</td>\n",
       "      <td>Andrzej ya</td>\n",
       "      <td>M</td>\n",
       "      <td>29</td>\n",
       "      <td>179</td>\n",
       "      <td>89</td>\n",
       "      <td>Poland-1</td>\n",
       "      <td>POL</td>\n",
       "      <td>1976 Winter</td>\n",
       "      <td>1976</td>\n",
       "      <td>Winter</td>\n",
       "      <td>Innsbruck</td>\n",
       "      <td>Luge</td>\n",
       "      <td>Luge Mixed (Men)'s Doubles</td>\n",
       "      <td>NA</td>\n",
       "    </tr>\n",
       "    <tr>\n",
       "      <th>271112</th>\n",
       "      <td>135570</td>\n",
       "      <td>Piotr ya</td>\n",
       "      <td>M</td>\n",
       "      <td>27</td>\n",
       "      <td>176</td>\n",
       "      <td>59</td>\n",
       "      <td>Poland</td>\n",
       "      <td>POL</td>\n",
       "      <td>2014 Winter</td>\n",
       "      <td>2014</td>\n",
       "      <td>Winter</td>\n",
       "      <td>Sochi</td>\n",
       "      <td>Ski Jumping</td>\n",
       "      <td>Ski Jumping Men's Large Hill, Individual</td>\n",
       "      <td>NA</td>\n",
       "    </tr>\n",
       "    <tr>\n",
       "      <th>271113</th>\n",
       "      <td>135570</td>\n",
       "      <td>Piotr ya</td>\n",
       "      <td>M</td>\n",
       "      <td>27</td>\n",
       "      <td>176</td>\n",
       "      <td>59</td>\n",
       "      <td>Poland</td>\n",
       "      <td>POL</td>\n",
       "      <td>2014 Winter</td>\n",
       "      <td>2014</td>\n",
       "      <td>Winter</td>\n",
       "      <td>Sochi</td>\n",
       "      <td>Ski Jumping</td>\n",
       "      <td>Ski Jumping Men's Large Hill, Team</td>\n",
       "      <td>NA</td>\n",
       "    </tr>\n",
       "    <tr>\n",
       "      <th>271114</th>\n",
       "      <td>135571</td>\n",
       "      <td>Tomasz Ireneusz ya</td>\n",
       "      <td>M</td>\n",
       "      <td>30</td>\n",
       "      <td>185</td>\n",
       "      <td>96</td>\n",
       "      <td>Poland</td>\n",
       "      <td>POL</td>\n",
       "      <td>1998 Winter</td>\n",
       "      <td>1998</td>\n",
       "      <td>Winter</td>\n",
       "      <td>Nagano</td>\n",
       "      <td>Bobsleigh</td>\n",
       "      <td>Bobsleigh Men's Four</td>\n",
       "      <td>NA</td>\n",
       "    </tr>\n",
       "    <tr>\n",
       "      <th>271115</th>\n",
       "      <td>135571</td>\n",
       "      <td>Tomasz Ireneusz ya</td>\n",
       "      <td>M</td>\n",
       "      <td>34</td>\n",
       "      <td>185</td>\n",
       "      <td>96</td>\n",
       "      <td>Poland</td>\n",
       "      <td>POL</td>\n",
       "      <td>2002 Winter</td>\n",
       "      <td>2002</td>\n",
       "      <td>Winter</td>\n",
       "      <td>Salt Lake City</td>\n",
       "      <td>Bobsleigh</td>\n",
       "      <td>Bobsleigh Men's Four</td>\n",
       "      <td>NA</td>\n",
       "    </tr>\n",
       "  </tbody>\n",
       "</table>\n",
       "<p>271116 rows × 15 columns</p>\n",
       "</div>"
      ],
      "text/plain": [
       "            ID                      NAME SEX AGE HEIGHT WEIGHT  \\\n",
       "0            1                 A Dijiang   M  24    180     80   \n",
       "1            2                  A Lamusi   M  23    170     60   \n",
       "2            3       Gunnar Nielsen Aaby   M  24     NA     NA   \n",
       "3            4      Edgar Lindenau Aabye   M  34     NA     NA   \n",
       "4            5  Christine Jacoba Aaftink   F  21    185     82   \n",
       "...        ...                       ...  ..  ..    ...    ...   \n",
       "271111  135569                Andrzej ya   M  29    179     89   \n",
       "271112  135570                  Piotr ya   M  27    176     59   \n",
       "271113  135570                  Piotr ya   M  27    176     59   \n",
       "271114  135571        Tomasz Ireneusz ya   M  30    185     96   \n",
       "271115  135571        Tomasz Ireneusz ya   M  34    185     96   \n",
       "\n",
       "                  TEAM  NOC        GAMES  YEAR  SEASON            CITY  \\\n",
       "0                China  CHN  1992 Summer  1992  Summer       Barcelona   \n",
       "1                China  CHN  2012 Summer  2012  Summer          London   \n",
       "2              Denmark  DEN  1920 Summer  1920  Summer       Antwerpen   \n",
       "3       Denmark/Sweden  DEN  1900 Summer  1900  Summer           Paris   \n",
       "4          Netherlands  NED  1988 Winter  1988  Winter         Calgary   \n",
       "...                ...  ...          ...   ...     ...             ...   \n",
       "271111        Poland-1  POL  1976 Winter  1976  Winter       Innsbruck   \n",
       "271112          Poland  POL  2014 Winter  2014  Winter           Sochi   \n",
       "271113          Poland  POL  2014 Winter  2014  Winter           Sochi   \n",
       "271114          Poland  POL  1998 Winter  1998  Winter          Nagano   \n",
       "271115          Poland  POL  2002 Winter  2002  Winter  Salt Lake City   \n",
       "\n",
       "                SPORT                                     EVENT MEDAL  \n",
       "0          Basketball               Basketball Men's Basketball    NA  \n",
       "1                Judo              Judo Men's Extra-Lightweight    NA  \n",
       "2            Football                   Football Men's Football    NA  \n",
       "3          Tug-Of-War               Tug-Of-War Men's Tug-Of-War  Gold  \n",
       "4       Speed Skating          Speed Skating Women's 500 metres    NA  \n",
       "...               ...                                       ...   ...  \n",
       "271111           Luge                Luge Mixed (Men)'s Doubles    NA  \n",
       "271112    Ski Jumping  Ski Jumping Men's Large Hill, Individual    NA  \n",
       "271113    Ski Jumping        Ski Jumping Men's Large Hill, Team    NA  \n",
       "271114      Bobsleigh                      Bobsleigh Men's Four    NA  \n",
       "271115      Bobsleigh                      Bobsleigh Men's Four    NA  \n",
       "\n",
       "[271116 rows x 15 columns]"
      ]
     },
     "execution_count": 12,
     "metadata": {},
     "output_type": "execute_result"
    }
   ],
   "source": [
    "#Import Data\n",
    "\n",
    "snowflake.get_connection(connection_name=\"ME_OLYMPICS_CNX\")\n",
    "data = get_dataframe(\"ATHLETE_EVENTS\")\n",
    "data"
   ]
  },
  {
   "cell_type": "code",
   "execution_count": 13,
   "id": "aa82db46",
   "metadata": {},
   "outputs": [
    {
     "name": "stdout",
     "output_type": "stream",
     "text": [
      "Reading dataframe from snowflake native connector\n"
     ]
    },
    {
     "data": {
      "text/html": [
       "<div>\n",
       "<style scoped>\n",
       "    .dataframe tbody tr th:only-of-type {\n",
       "        vertical-align: middle;\n",
       "    }\n",
       "\n",
       "    .dataframe tbody tr th {\n",
       "        vertical-align: top;\n",
       "    }\n",
       "\n",
       "    .dataframe thead th {\n",
       "        text-align: right;\n",
       "    }\n",
       "</style>\n",
       "<table border=\"1\" class=\"dataframe\">\n",
       "  <thead>\n",
       "    <tr style=\"text-align: right;\">\n",
       "      <th></th>\n",
       "      <th>ID</th>\n",
       "      <th>NAME</th>\n",
       "      <th>SEX</th>\n",
       "      <th>AGE</th>\n",
       "      <th>HEIGHT</th>\n",
       "      <th>WEIGHT</th>\n",
       "      <th>TEAM</th>\n",
       "      <th>NOC</th>\n",
       "      <th>GAMES</th>\n",
       "      <th>YEAR</th>\n",
       "      <th>SEASON</th>\n",
       "      <th>CITY</th>\n",
       "      <th>SPORT</th>\n",
       "      <th>EVENT</th>\n",
       "      <th>MEDAL</th>\n",
       "    </tr>\n",
       "  </thead>\n",
       "  <tbody>\n",
       "    <tr>\n",
       "      <th>0</th>\n",
       "      <td>1</td>\n",
       "      <td>A Dijiang</td>\n",
       "      <td>M</td>\n",
       "      <td>24</td>\n",
       "      <td>180</td>\n",
       "      <td>80</td>\n",
       "      <td>China</td>\n",
       "      <td>CHN</td>\n",
       "      <td>1992 Summer</td>\n",
       "      <td>1992</td>\n",
       "      <td>Summer</td>\n",
       "      <td>Barcelona</td>\n",
       "      <td>Basketball</td>\n",
       "      <td>Basketball Men's Basketball</td>\n",
       "      <td>NA</td>\n",
       "    </tr>\n",
       "    <tr>\n",
       "      <th>1</th>\n",
       "      <td>2</td>\n",
       "      <td>A Lamusi</td>\n",
       "      <td>M</td>\n",
       "      <td>23</td>\n",
       "      <td>170</td>\n",
       "      <td>60</td>\n",
       "      <td>China</td>\n",
       "      <td>CHN</td>\n",
       "      <td>2012 Summer</td>\n",
       "      <td>2012</td>\n",
       "      <td>Summer</td>\n",
       "      <td>London</td>\n",
       "      <td>Judo</td>\n",
       "      <td>Judo Men's Extra-Lightweight</td>\n",
       "      <td>NA</td>\n",
       "    </tr>\n",
       "    <tr>\n",
       "      <th>2</th>\n",
       "      <td>3</td>\n",
       "      <td>Gunnar Nielsen Aaby</td>\n",
       "      <td>M</td>\n",
       "      <td>24</td>\n",
       "      <td>NA</td>\n",
       "      <td>NA</td>\n",
       "      <td>Denmark</td>\n",
       "      <td>DEN</td>\n",
       "      <td>1920 Summer</td>\n",
       "      <td>1920</td>\n",
       "      <td>Summer</td>\n",
       "      <td>Antwerpen</td>\n",
       "      <td>Football</td>\n",
       "      <td>Football Men's Football</td>\n",
       "      <td>NA</td>\n",
       "    </tr>\n",
       "    <tr>\n",
       "      <th>3</th>\n",
       "      <td>4</td>\n",
       "      <td>Edgar Lindenau Aabye</td>\n",
       "      <td>M</td>\n",
       "      <td>34</td>\n",
       "      <td>NA</td>\n",
       "      <td>NA</td>\n",
       "      <td>Denmark/Sweden</td>\n",
       "      <td>DEN</td>\n",
       "      <td>1900 Summer</td>\n",
       "      <td>1900</td>\n",
       "      <td>Summer</td>\n",
       "      <td>Paris</td>\n",
       "      <td>Tug-Of-War</td>\n",
       "      <td>Tug-Of-War Men's Tug-Of-War</td>\n",
       "      <td>Gold</td>\n",
       "    </tr>\n",
       "    <tr>\n",
       "      <th>4</th>\n",
       "      <td>5</td>\n",
       "      <td>Christine Jacoba Aaftink</td>\n",
       "      <td>F</td>\n",
       "      <td>21</td>\n",
       "      <td>185</td>\n",
       "      <td>82</td>\n",
       "      <td>Netherlands</td>\n",
       "      <td>NED</td>\n",
       "      <td>1988 Winter</td>\n",
       "      <td>1988</td>\n",
       "      <td>Winter</td>\n",
       "      <td>Calgary</td>\n",
       "      <td>Speed Skating</td>\n",
       "      <td>Speed Skating Women's 500 metres</td>\n",
       "      <td>NA</td>\n",
       "    </tr>\n",
       "    <tr>\n",
       "      <th>...</th>\n",
       "      <td>...</td>\n",
       "      <td>...</td>\n",
       "      <td>...</td>\n",
       "      <td>...</td>\n",
       "      <td>...</td>\n",
       "      <td>...</td>\n",
       "      <td>...</td>\n",
       "      <td>...</td>\n",
       "      <td>...</td>\n",
       "      <td>...</td>\n",
       "      <td>...</td>\n",
       "      <td>...</td>\n",
       "      <td>...</td>\n",
       "      <td>...</td>\n",
       "      <td>...</td>\n",
       "    </tr>\n",
       "    <tr>\n",
       "      <th>271111</th>\n",
       "      <td>135569</td>\n",
       "      <td>Andrzej ya</td>\n",
       "      <td>M</td>\n",
       "      <td>29</td>\n",
       "      <td>179</td>\n",
       "      <td>89</td>\n",
       "      <td>Poland-1</td>\n",
       "      <td>POL</td>\n",
       "      <td>1976 Winter</td>\n",
       "      <td>1976</td>\n",
       "      <td>Winter</td>\n",
       "      <td>Innsbruck</td>\n",
       "      <td>Luge</td>\n",
       "      <td>Luge Mixed (Men)'s Doubles</td>\n",
       "      <td>NA</td>\n",
       "    </tr>\n",
       "    <tr>\n",
       "      <th>271112</th>\n",
       "      <td>135570</td>\n",
       "      <td>Piotr ya</td>\n",
       "      <td>M</td>\n",
       "      <td>27</td>\n",
       "      <td>176</td>\n",
       "      <td>59</td>\n",
       "      <td>Poland</td>\n",
       "      <td>POL</td>\n",
       "      <td>2014 Winter</td>\n",
       "      <td>2014</td>\n",
       "      <td>Winter</td>\n",
       "      <td>Sochi</td>\n",
       "      <td>Ski Jumping</td>\n",
       "      <td>Ski Jumping Men's Large Hill, Individual</td>\n",
       "      <td>NA</td>\n",
       "    </tr>\n",
       "    <tr>\n",
       "      <th>271113</th>\n",
       "      <td>135570</td>\n",
       "      <td>Piotr ya</td>\n",
       "      <td>M</td>\n",
       "      <td>27</td>\n",
       "      <td>176</td>\n",
       "      <td>59</td>\n",
       "      <td>Poland</td>\n",
       "      <td>POL</td>\n",
       "      <td>2014 Winter</td>\n",
       "      <td>2014</td>\n",
       "      <td>Winter</td>\n",
       "      <td>Sochi</td>\n",
       "      <td>Ski Jumping</td>\n",
       "      <td>Ski Jumping Men's Large Hill, Team</td>\n",
       "      <td>NA</td>\n",
       "    </tr>\n",
       "    <tr>\n",
       "      <th>271114</th>\n",
       "      <td>135571</td>\n",
       "      <td>Tomasz Ireneusz ya</td>\n",
       "      <td>M</td>\n",
       "      <td>30</td>\n",
       "      <td>185</td>\n",
       "      <td>96</td>\n",
       "      <td>Poland</td>\n",
       "      <td>POL</td>\n",
       "      <td>1998 Winter</td>\n",
       "      <td>1998</td>\n",
       "      <td>Winter</td>\n",
       "      <td>Nagano</td>\n",
       "      <td>Bobsleigh</td>\n",
       "      <td>Bobsleigh Men's Four</td>\n",
       "      <td>NA</td>\n",
       "    </tr>\n",
       "    <tr>\n",
       "      <th>271115</th>\n",
       "      <td>135571</td>\n",
       "      <td>Tomasz Ireneusz ya</td>\n",
       "      <td>M</td>\n",
       "      <td>34</td>\n",
       "      <td>185</td>\n",
       "      <td>96</td>\n",
       "      <td>Poland</td>\n",
       "      <td>POL</td>\n",
       "      <td>2002 Winter</td>\n",
       "      <td>2002</td>\n",
       "      <td>Winter</td>\n",
       "      <td>Salt Lake City</td>\n",
       "      <td>Bobsleigh</td>\n",
       "      <td>Bobsleigh Men's Four</td>\n",
       "      <td>NA</td>\n",
       "    </tr>\n",
       "  </tbody>\n",
       "</table>\n",
       "<p>271116 rows × 15 columns</p>\n",
       "</div>"
      ],
      "text/plain": [
       "            ID                      NAME SEX AGE HEIGHT WEIGHT  \\\n",
       "0            1                 A Dijiang   M  24    180     80   \n",
       "1            2                  A Lamusi   M  23    170     60   \n",
       "2            3       Gunnar Nielsen Aaby   M  24     NA     NA   \n",
       "3            4      Edgar Lindenau Aabye   M  34     NA     NA   \n",
       "4            5  Christine Jacoba Aaftink   F  21    185     82   \n",
       "...        ...                       ...  ..  ..    ...    ...   \n",
       "271111  135569                Andrzej ya   M  29    179     89   \n",
       "271112  135570                  Piotr ya   M  27    176     59   \n",
       "271113  135570                  Piotr ya   M  27    176     59   \n",
       "271114  135571        Tomasz Ireneusz ya   M  30    185     96   \n",
       "271115  135571        Tomasz Ireneusz ya   M  34    185     96   \n",
       "\n",
       "                  TEAM  NOC        GAMES  YEAR  SEASON            CITY  \\\n",
       "0                China  CHN  1992 Summer  1992  Summer       Barcelona   \n",
       "1                China  CHN  2012 Summer  2012  Summer          London   \n",
       "2              Denmark  DEN  1920 Summer  1920  Summer       Antwerpen   \n",
       "3       Denmark/Sweden  DEN  1900 Summer  1900  Summer           Paris   \n",
       "4          Netherlands  NED  1988 Winter  1988  Winter         Calgary   \n",
       "...                ...  ...          ...   ...     ...             ...   \n",
       "271111        Poland-1  POL  1976 Winter  1976  Winter       Innsbruck   \n",
       "271112          Poland  POL  2014 Winter  2014  Winter           Sochi   \n",
       "271113          Poland  POL  2014 Winter  2014  Winter           Sochi   \n",
       "271114          Poland  POL  1998 Winter  1998  Winter          Nagano   \n",
       "271115          Poland  POL  2002 Winter  2002  Winter  Salt Lake City   \n",
       "\n",
       "                SPORT                                     EVENT MEDAL  \n",
       "0          Basketball               Basketball Men's Basketball    NA  \n",
       "1                Judo              Judo Men's Extra-Lightweight    NA  \n",
       "2            Football                   Football Men's Football    NA  \n",
       "3          Tug-Of-War               Tug-Of-War Men's Tug-Of-War  Gold  \n",
       "4       Speed Skating          Speed Skating Women's 500 metres    NA  \n",
       "...               ...                                       ...   ...  \n",
       "271111           Luge                Luge Mixed (Men)'s Doubles    NA  \n",
       "271112    Ski Jumping  Ski Jumping Men's Large Hill, Individual    NA  \n",
       "271113    Ski Jumping        Ski Jumping Men's Large Hill, Team    NA  \n",
       "271114      Bobsleigh                      Bobsleigh Men's Four    NA  \n",
       "271115      Bobsleigh                      Bobsleigh Men's Four    NA  \n",
       "\n",
       "[271116 rows x 15 columns]"
      ]
     },
     "execution_count": 13,
     "metadata": {},
     "output_type": "execute_result"
    }
   ],
   "source": [
    "data_bkp = get_dataframe(\"ATHLETE_EVENTS\")\n",
    "data_bkp"
   ]
  },
  {
   "cell_type": "markdown",
   "id": "c480b890",
   "metadata": {},
   "source": [
    "#EDA\n",
    "data['AGE'].value_counts().to_dict()\n",
    "data.info()\n",
    "data['AGE'][data['AGE']!='NA'].astype(int).median()\n",
    "data['WEIGHT'][data['WEIGHT']!='NA'].astype(float).median()\n",
    "data['HEIGHT'][data['HEIGHT']!='NA'].astype(int).median()"
   ]
  },
  {
   "cell_type": "code",
   "execution_count": 15,
   "id": "5020429c",
   "metadata": {},
   "outputs": [
    {
     "name": "stdout",
     "output_type": "stream",
     "text": [
      "<class 'pandas.core.frame.DataFrame'>\n",
      "RangeIndex: 271116 entries, 0 to 271115\n",
      "Data columns (total 15 columns):\n",
      " #   Column  Non-Null Count   Dtype \n",
      "---  ------  --------------   ----- \n",
      " 0   id      271116 non-null  int32 \n",
      " 1   name    271116 non-null  object\n",
      " 2   sex     271116 non-null  object\n",
      " 3   age     271116 non-null  object\n",
      " 4   height  271116 non-null  object\n",
      " 5   weight  271116 non-null  object\n",
      " 6   team    271116 non-null  object\n",
      " 7   noc     271116 non-null  object\n",
      " 8   games   271116 non-null  object\n",
      " 9   year    271116 non-null  int16 \n",
      " 10  season  271116 non-null  object\n",
      " 11  city    271116 non-null  object\n",
      " 12  sport   271116 non-null  object\n",
      " 13  event   271116 non-null  object\n",
      " 14  medal   271116 non-null  object\n",
      "dtypes: int16(1), int32(1), object(13)\n",
      "memory usage: 28.4+ MB\n"
     ]
    }
   ],
   "source": [
    "data.columns = data.columns.str.lower()\n",
    "#data.info()"
   ]
  },
  {
   "cell_type": "code",
   "execution_count": 16,
   "id": "c1eb372e",
   "metadata": {},
   "outputs": [],
   "source": [
    "data = data.drop(['id', 'name', 'games','event', 'noc', 'weight'], axis=1)"
   ]
  },
  {
   "cell_type": "markdown",
   "id": "780dd65d",
   "metadata": {},
   "source": [
    "data['WEIGHT'] = data['WEIGHT'].replace('NA',str(float(data['WEIGHT'][data['WEIGHT']!='NA'].astype(float).median()))).astype(float)\n",
    "\n",
    "data['WEIGHT'].value_counts().to_dict()\n",
    "\n",
    "data.info()"
   ]
  },
  {
   "cell_type": "code",
   "execution_count": 17,
   "id": "554ce4c3",
   "metadata": {},
   "outputs": [],
   "source": [
    "data['age'] = data['age'].replace('NA',str(int(data['age'][data['age']!='NA'].astype(int).median()))).astype(int)"
   ]
  },
  {
   "cell_type": "code",
   "execution_count": 18,
   "id": "ccace873",
   "metadata": {},
   "outputs": [],
   "source": [
    "data['height'] = data['height'].replace('NA',str(int(data['height'][data['height']!='NA'].astype(int).median()))).astype(int)"
   ]
  },
  {
   "cell_type": "code",
   "execution_count": 19,
   "id": "e5b1b729",
   "metadata": {},
   "outputs": [],
   "source": [
    "tf.random.set_seed(100)"
   ]
  },
  {
   "cell_type": "markdown",
   "id": "454d0249",
   "metadata": {},
   "source": [
    "# CREATING LABELS"
   ]
  },
  {
   "cell_type": "code",
   "execution_count": 20,
   "id": "b6414119",
   "metadata": {},
   "outputs": [
    {
     "data": {
      "text/plain": [
       "medal\n",
       "NA        231333\n",
       "Gold       13372\n",
       "Bronze     13295\n",
       "Silver     13116\n",
       "Name: count, dtype: int64"
      ]
     },
     "execution_count": 20,
     "metadata": {},
     "output_type": "execute_result"
    }
   ],
   "source": [
    "data['medal'].value_counts()"
   ]
  },
  {
   "cell_type": "code",
   "execution_count": 21,
   "id": "53e1a9db",
   "metadata": {},
   "outputs": [],
   "source": [
    "data['medals']= data['medal'].map({'Gold': 1, 'Silver': 2 , 'Bronze': 3, 'NA' : 0}) "
   ]
  },
  {
   "cell_type": "markdown",
   "id": "42857bf8",
   "metadata": {},
   "source": [
    "data['medals'].value_counts()\n",
    "data['medal'] = data['medal'].apply(lambda x: 1 if str(x) != 'nan' else 0)"
   ]
  },
  {
   "cell_type": "code",
   "execution_count": 22,
   "id": "87f7cc8e",
   "metadata": {},
   "outputs": [],
   "source": [
    "# taking a copy of data at this stage\n",
    "data_bkp_step2 = data.copy(deep= True)"
   ]
  },
  {
   "cell_type": "code",
   "execution_count": null,
   "id": "78d0a244",
   "metadata": {},
   "outputs": [],
   "source": [
    "#Dropping columns as necessary,\n",
    "#weight correlated with height, hence dropping"
   ]
  },
  {
   "cell_type": "code",
   "execution_count": 23,
   "id": "fe5726ec",
   "metadata": {},
   "outputs": [
    {
     "name": "stdout",
     "output_type": "stream",
     "text": [
      "<class 'pandas.core.frame.DataFrame'>\n",
      "RangeIndex: 271116 entries, 0 to 271115\n",
      "Data columns (total 10 columns):\n",
      " #   Column  Non-Null Count   Dtype \n",
      "---  ------  --------------   ----- \n",
      " 0   sex     271116 non-null  object\n",
      " 1   age     271116 non-null  int64 \n",
      " 2   height  271116 non-null  int64 \n",
      " 3   team    271116 non-null  object\n",
      " 4   year    271116 non-null  int16 \n",
      " 5   season  271116 non-null  object\n",
      " 6   city    271116 non-null  object\n",
      " 7   sport   271116 non-null  object\n",
      " 8   medal   271116 non-null  object\n",
      " 9   medals  271116 non-null  int64 \n",
      "dtypes: int16(1), int64(3), object(6)\n",
      "memory usage: 19.1+ MB\n"
     ]
    }
   ],
   "source": [
    "data.info()"
   ]
  },
  {
   "cell_type": "code",
   "execution_count": 24,
   "id": "5a7bd9ce",
   "metadata": {},
   "outputs": [],
   "source": [
    "data = data.drop(['medal'], axis=1)"
   ]
  },
  {
   "cell_type": "code",
   "execution_count": 25,
   "id": "5c4d4350",
   "metadata": {},
   "outputs": [
    {
     "name": "stdout",
     "output_type": "stream",
     "text": [
      "<class 'pandas.core.frame.DataFrame'>\n",
      "RangeIndex: 271116 entries, 0 to 271115\n",
      "Data columns (total 10 columns):\n",
      " #   Column  Non-Null Count   Dtype \n",
      "---  ------  --------------   ----- \n",
      " 0   sex     271116 non-null  object\n",
      " 1   age     271116 non-null  int64 \n",
      " 2   height  271116 non-null  int64 \n",
      " 3   team    271116 non-null  object\n",
      " 4   year    271116 non-null  int16 \n",
      " 5   season  271116 non-null  object\n",
      " 6   city    271116 non-null  object\n",
      " 7   sport   271116 non-null  object\n",
      " 8   medal   271116 non-null  object\n",
      " 9   medals  271116 non-null  int64 \n",
      "dtypes: int16(1), int64(3), object(6)\n",
      "memory usage: 19.1+ MB\n"
     ]
    }
   ],
   "source": [
    "# data_bkp_step2.info()\n",
    "# data['age'].value_counts()"
   ]
  },
  {
   "cell_type": "markdown",
   "id": "4f17b996",
   "metadata": {},
   "source": [
    "# Cleaning data"
   ]
  },
  {
   "cell_type": "code",
   "execution_count": 27,
   "id": "e305f9b4",
   "metadata": {},
   "outputs": [
    {
     "name": "stdout",
     "output_type": "stream",
     "text": [
      "sex       object\n",
      "age        int64\n",
      "height     int64\n",
      "team      object\n",
      "year       int16\n",
      "season    object\n",
      "city      object\n",
      "sport     object\n",
      "medals     int64\n",
      "dtype: object\n"
     ]
    }
   ],
   "source": [
    "# converting datatypes\n",
    "data = data.astype({'age': int, 'height': int})\n",
    "print(data.dtypes)"
   ]
  },
  {
   "cell_type": "code",
   "execution_count": null,
   "id": "8b0ac596",
   "metadata": {},
   "outputs": [],
   "source": [
    "#Checks\n",
    "data.isna().mean()\n",
    "print(\"Total missing values:\", data.isna().sum().sum())"
   ]
  },
  {
   "cell_type": "code",
   "execution_count": 28,
   "id": "993ab0bd",
   "metadata": {},
   "outputs": [],
   "source": [
    "data_bkp_step3= data.copy(deep= True)"
   ]
  },
  {
   "cell_type": "code",
   "execution_count": 29,
   "id": "a5770ef4",
   "metadata": {},
   "outputs": [
    {
     "name": "stdout",
     "output_type": "stream",
     "text": [
      "<class 'pandas.core.frame.DataFrame'>\n",
      "RangeIndex: 271116 entries, 0 to 271115\n",
      "Data columns (total 9 columns):\n",
      " #   Column  Non-Null Count   Dtype \n",
      "---  ------  --------------   ----- \n",
      " 0   sex     271116 non-null  object\n",
      " 1   age     271116 non-null  int64 \n",
      " 2   height  271116 non-null  int64 \n",
      " 3   team    271116 non-null  object\n",
      " 4   year    271116 non-null  int16 \n",
      " 5   season  271116 non-null  object\n",
      " 6   city    271116 non-null  object\n",
      " 7   sport   271116 non-null  object\n",
      " 8   medals  271116 non-null  int64 \n",
      "dtypes: int16(1), int64(3), object(5)\n",
      "memory usage: 17.1+ MB\n"
     ]
    }
   ],
   "source": [
    "# data_bkp_step3.info()"
   ]
  },
  {
   "cell_type": "code",
   "execution_count": 30,
   "id": "508d7497",
   "metadata": {},
   "outputs": [
    {
     "data": {
      "text/plain": [
       "year\n",
       "1896      380\n",
       "1904     1301\n",
       "1906     1733\n",
       "1900     1936\n",
       "1908     3101\n",
       "1994     3160\n",
       "1932     3321\n",
       "1998     3605\n",
       "1912     4040\n",
       "2002     4109\n",
       "1920     4292\n",
       "2006     4382\n",
       "2010     4402\n",
       "2014     4891\n",
       "1928     5574\n",
       "1924     5693\n",
       "1956     6434\n",
       "1936     7401\n",
       "1948     7480\n",
       "1980     8937\n",
       "1960     9235\n",
       "1952     9358\n",
       "1964     9480\n",
       "1968    10479\n",
       "1976    10502\n",
       "1984    11588\n",
       "1972    11959\n",
       "2012    12920\n",
       "2004    13443\n",
       "2008    13602\n",
       "2016    13688\n",
       "1996    13780\n",
       "2000    13821\n",
       "1988    14676\n",
       "1992    16413\n",
       "Name: count, dtype: int64"
      ]
     },
     "execution_count": 30,
     "metadata": {},
     "output_type": "execute_result"
    }
   ],
   "source": [
    "data['year'].value_counts().sort_values()"
   ]
  },
  {
   "cell_type": "code",
   "execution_count": 31,
   "id": "b7abc0aa",
   "metadata": {},
   "outputs": [
    {
     "data": {
      "text/plain": [
       "season\n",
       "Summer    222552\n",
       "Winter     48564\n",
       "Name: count, dtype: int64"
      ]
     },
     "execution_count": 31,
     "metadata": {},
     "output_type": "execute_result"
    }
   ],
   "source": [
    "# data['season'].value_counts()"
   ]
  },
  {
   "cell_type": "code",
   "execution_count": 33,
   "id": "2d4f37eb",
   "metadata": {},
   "outputs": [],
   "source": [
    "data = data[data['season'] == 'Summer'].reset_index()"
   ]
  },
  {
   "cell_type": "code",
   "execution_count": 34,
   "id": "546e3af5",
   "metadata": {},
   "outputs": [
    {
     "data": {
      "text/plain": [
       "season\n",
       "Summer    222552\n",
       "Name: count, dtype: int64"
      ]
     },
     "execution_count": 34,
     "metadata": {},
     "output_type": "execute_result"
    }
   ],
   "source": [
    "#data['season'].value_counts()"
   ]
  },
  {
   "cell_type": "code",
   "execution_count": 35,
   "id": "c9648131",
   "metadata": {},
   "outputs": [
    {
     "name": "stdout",
     "output_type": "stream",
     "text": [
      "<class 'pandas.core.frame.DataFrame'>\n",
      "RangeIndex: 158148 entries, 0 to 158147\n",
      "Data columns (total 11 columns):\n",
      " #   Column   Non-Null Count   Dtype \n",
      "---  ------   --------------   ----- \n",
      " 0   level_0  158148 non-null  int64 \n",
      " 1   index    158148 non-null  int64 \n",
      " 2   sex      158148 non-null  object\n",
      " 3   age      158148 non-null  int64 \n",
      " 4   height   158148 non-null  int64 \n",
      " 5   team     158148 non-null  object\n",
      " 6   year     158148 non-null  int16 \n",
      " 7   season   158148 non-null  object\n",
      " 8   city     158148 non-null  object\n",
      " 9   sport    158148 non-null  object\n",
      " 10  medals   158148 non-null  int64 \n",
      "dtypes: int16(1), int64(5), object(5)\n",
      "memory usage: 12.4+ MB\n"
     ]
    }
   ],
   "source": [
    "data = data[data['year'] > 1960].reset_index()\n",
    "data.info()"
   ]
  },
  {
   "cell_type": "code",
   "execution_count": 36,
   "id": "ae202fd8",
   "metadata": {},
   "outputs": [
    {
     "data": {
      "text/plain": [
       "year\n",
       "2000    13821\n",
       "1996    13780\n",
       "2016    13688\n",
       "2008    13602\n",
       "2004    13443\n",
       "1992    12977\n",
       "2012    12920\n",
       "1988    12037\n",
       "1972    10304\n",
       "1984     9454\n",
       "1976     8641\n",
       "1968     8588\n",
       "1964     7702\n",
       "1980     7191\n",
       "Name: count, dtype: int64"
      ]
     },
     "execution_count": 36,
     "metadata": {},
     "output_type": "execute_result"
    }
   ],
   "source": [
    "data['year'].value_counts()"
   ]
  },
  {
   "cell_type": "code",
   "execution_count": 37,
   "id": "4a6d33ce",
   "metadata": {},
   "outputs": [],
   "source": [
    "data = data.drop([ 'level_0', 'index'], axis=1)"
   ]
  },
  {
   "cell_type": "code",
   "execution_count": 42,
   "id": "f7356e3e",
   "metadata": {},
   "outputs": [],
   "source": [
    "data = data[data['sport'].map(data['sport'].value_counts()) > 3000]"
   ]
  },
  {
   "cell_type": "code",
   "execution_count": 51,
   "id": "02c5909e",
   "metadata": {},
   "outputs": [],
   "source": [
    "data = data[data['team'].map(data['team'].value_counts()) > 2]"
   ]
  },
  {
   "cell_type": "markdown",
   "id": "3a0e7d4b",
   "metadata": {},
   "source": [
    "# Checks\n",
    "data['sport'].value_counts()\n",
    "data['medals'].value_counts()\n",
    "data['year'].value_counts()"
   ]
  },
  {
   "cell_type": "markdown",
   "id": "f825283f",
   "metadata": {},
   "source": [
    "# Over all filters:\n",
    "Season: Summer only\n",
    "Year: >1960 only\n",
    "SPorts that had more than 1500 values\n",
    "Team: that had more than 2 values\n",
    "    removed rep. columns like noc, event, etc.\n",
    "    removing weight column as it is highly correlated to height column"
   ]
  },
  {
   "cell_type": "code",
   "execution_count": 55,
   "id": "f78f2510",
   "metadata": {},
   "outputs": [],
   "source": [
    "#copy data\n",
    "data_bkp_step4= data.copy(deep= True)"
   ]
  },
  {
   "cell_type": "markdown",
   "id": "026e8ac4",
   "metadata": {},
   "source": [
    "# Encoding Data"
   ]
  },
  {
   "cell_type": "code",
   "execution_count": 58,
   "id": "3b74dd00",
   "metadata": {},
   "outputs": [
    {
     "data": {
      "text/plain": [
       "medals\n",
       "0    117494\n",
       "3      6558\n",
       "1      6312\n",
       "2      6214\n",
       "Name: count, dtype: int64"
      ]
     },
     "execution_count": 58,
     "metadata": {},
     "output_type": "execute_result"
    }
   ],
   "source": [
    "# data['medals'].value_counts()"
   ]
  },
  {
   "cell_type": "code",
   "execution_count": 60,
   "id": "55b8782e",
   "metadata": {},
   "outputs": [
    {
     "data": {
      "text/plain": [
       "{'sex': 2, 'team': 270, 'season': 1, 'city': 14, 'sport': 18}"
      ]
     },
     "execution_count": 60,
     "metadata": {},
     "output_type": "execute_result"
    }
   ],
   "source": [
    "{column: len(data[column].unique()) for column in data.select_dtypes('object').columns}"
   ]
  },
  {
   "cell_type": "code",
   "execution_count": 61,
   "id": "4ea3d1f4",
   "metadata": {},
   "outputs": [],
   "source": [
    "data = data.drop(['season'], axis=1)"
   ]
  },
  {
   "cell_type": "code",
   "execution_count": 63,
   "id": "393f96d7",
   "metadata": {},
   "outputs": [],
   "source": [
    "def binary_encode(df, columns, positive_values):\n",
    "    df = df.copy()\n",
    "    for column, positive_value in zip(columns, positive_values):\n",
    "        df[column] = df[column].apply(lambda x: 1 if x == positive_value else 0)\n",
    "    return df\n",
    "\n",
    "def onehot_encode(df, columns, prefixes):\n",
    "    df = df.copy()\n",
    "    for column, prefix in zip(columns, prefixes):\n",
    "        dummies = pd.get_dummies(df[column], prefix=prefix)\n",
    "        df = pd.concat([df, dummies], axis=1)\n",
    "        df = df.drop(column, axis=1)\n",
    "    return df"
   ]
  },
  {
   "cell_type": "markdown",
   "id": "52576e8b",
   "metadata": {},
   "source": [
    "#df = binary_encode(\n",
    "    f_data2,\n",
    "    columns=['sex', 'season'],\n",
    "    positive_values=['M', 'Summer']\n",
    ")\n",
    "\n"
   ]
  },
  {
   "cell_type": "code",
   "execution_count": 64,
   "id": "56be52a6",
   "metadata": {},
   "outputs": [],
   "source": [
    "df1 = onehot_encode(\n",
    "    data,\n",
    "    columns=['sex','team', 'city', 'sport'],\n",
    "    prefixes=['sex','t', 'c', 's']\n",
    ")"
   ]
  },
  {
   "cell_type": "code",
   "execution_count": 65,
   "id": "97ebd2c8",
   "metadata": {},
   "outputs": [
    {
     "name": "stdout",
     "output_type": "stream",
     "text": [
      "Remaining non-numeric columns: 0\n"
     ]
    }
   ],
   "source": [
    "print(\"Remaining non-numeric columns:\", len(df1.select_dtypes('object').columns))"
   ]
  },
  {
   "cell_type": "code",
   "execution_count": 66,
   "id": "ee1d90f5",
   "metadata": {},
   "outputs": [
    {
     "name": "stdout",
     "output_type": "stream",
     "text": [
      "<class 'pandas.core.frame.DataFrame'>\n",
      "Index: 136578 entries, 0 to 158147\n",
      "Columns: 308 entries, age to s_Wrestling\n",
      "dtypes: bool(304), int16(1), int64(3)\n",
      "memory usage: 44.0 MB\n"
     ]
    }
   ],
   "source": [
    "df1.info()"
   ]
  },
  {
   "cell_type": "code",
   "execution_count": null,
   "id": "1ba12dd8",
   "metadata": {},
   "outputs": [],
   "source": [
    "df1 = df1.drop(['season'], axis=1)"
   ]
  },
  {
   "cell_type": "code",
   "execution_count": 67,
   "id": "593779b9",
   "metadata": {},
   "outputs": [
    {
     "name": "stdout",
     "output_type": "stream",
     "text": [
      "<class 'pandas.core.frame.DataFrame'>\n",
      "Index: 136578 entries, 0 to 158147\n",
      "Columns: 308 entries, age to s_Wrestling\n",
      "dtypes: bool(304), int16(1), int64(3)\n",
      "memory usage: 44.0 MB\n"
     ]
    }
   ],
   "source": [
    "df1.reset_index()\n",
    "df1.info()"
   ]
  },
  {
   "cell_type": "markdown",
   "id": "e6762abc",
   "metadata": {},
   "source": [
    "# Visualizing Correlations"
   ]
  },
  {
   "cell_type": "code",
   "execution_count": 71,
   "id": "9e6d706c",
   "metadata": {},
   "outputs": [
    {
     "data": {
      "image/png": "[encoded data removed]",
      "text/plain": [
       "<Figure size 1200x1000 with 2 Axes>"
      ]
     },
     "metadata": {},
     "output_type": "display_data"
    }
   ],
   "source": [
    "corr = df1.loc[:, :'medals'].corr()\n",
    "\n",
    "plt.figure(figsize=(12, 10))\n",
    "sns.heatmap(corr, annot=True, vmin=-1.0, cmap='mako')\n",
    "plt.show()"
   ]
  },
  {
   "cell_type": "code",
   "execution_count": 76,
   "id": "a6a44941",
   "metadata": {},
   "outputs": [
    {
     "ename": "ValueError",
     "evalue": "No axis named sport for object type DataFrame",
     "output_type": "error",
     "traceback": [
      "\u001b[0;31m---------------------------------------------------------------------------\u001b[0m",
      "\u001b[0;31mKeyError\u001b[0m                                  Traceback (most recent call last)",
      "\u001b[0;32m/packages/Python-3.8-Snowpark/86595857-4c87-4db3-814d-b3b9191f5ae5/3.8/pandas/core/generic.py\u001b[0m in \u001b[0;36m?\u001b[0;34m(cls, axis)\u001b[0m\n\u001b[1;32m    513\u001b[0m             \u001b[0;32mreturn\u001b[0m \u001b[0mcls\u001b[0m\u001b[0;34m.\u001b[0m\u001b[0m_AXIS_TO_AXIS_NUMBER\u001b[0m\u001b[0;34m[\u001b[0m\u001b[0maxis\u001b[0m\u001b[0;34m]\u001b[0m\u001b[0;34m\u001b[0m\u001b[0;34m\u001b[0m\u001b[0m\n\u001b[1;32m    514\u001b[0m         \u001b[0;32mexcept\u001b[0m \u001b[0mKeyError\u001b[0m\u001b[0;34m:\u001b[0m\u001b[0;34m\u001b[0m\u001b[0;34m\u001b[0m\u001b[0m\n\u001b[0;32m--> 515\u001b[0;31m             \u001b[0;32mraise\u001b[0m \u001b[0mValueError\u001b[0m\u001b[0;34m(\u001b[0m\u001b[0;34mf\"No axis named {axis} for object type {cls.__name__}\"\u001b[0m\u001b[0;34m)\u001b[0m\u001b[0;34m\u001b[0m\u001b[0;34m\u001b[0m\u001b[0m\n\u001b[0m",
      "\u001b[0;31mKeyError\u001b[0m: 'sport'",
      "\nDuring handling of the above exception, another exception occurred:\n",
      "\u001b[0;31mValueError\u001b[0m                                Traceback (most recent call last)",
      "\u001b[0;32m<ipython-input-76-e2778598d356>\u001b[0m in \u001b[0;36m?\u001b[0;34m()\u001b[0m\n\u001b[0;32m----> 1\u001b[0;31m \u001b[0mgrouped_data\u001b[0m \u001b[0;34m=\u001b[0m \u001b[0mdata\u001b[0m\u001b[0;34m.\u001b[0m\u001b[0mgroupby\u001b[0m\u001b[0;34m(\u001b[0m\u001b[0;34m'team'\u001b[0m\u001b[0;34m,\u001b[0m \u001b[0;34m'sport'\u001b[0m\u001b[0;34m)\u001b[0m\u001b[0;34m[\u001b[0m\u001b[0;34m'medals'\u001b[0m\u001b[0;34m]\u001b[0m\u001b[0;34m.\u001b[0m\u001b[0msum\u001b[0m\u001b[0;34m(\u001b[0m\u001b[0;34m)\u001b[0m\u001b[0;34m\u001b[0m\u001b[0;34m\u001b[0m\u001b[0m\n\u001b[0m\u001b[1;32m      2\u001b[0m \u001b[0mgrouped_data\u001b[0m\u001b[0;34m\u001b[0m\u001b[0;34m\u001b[0m\u001b[0m\n",
      "\u001b[0;32m/packages/Python-3.8-Snowpark/86595857-4c87-4db3-814d-b3b9191f5ae5/3.8/pandas/core/frame.py\u001b[0m in \u001b[0;36m?\u001b[0;34m(self, by, axis, level, as_index, sort, group_keys, observed, dropna)\u001b[0m\n\u001b[1;32m   8246\u001b[0m         \u001b[0;32mfrom\u001b[0m \u001b[0mpandas\u001b[0m\u001b[0;34m.\u001b[0m\u001b[0mcore\u001b[0m\u001b[0;34m.\u001b[0m\u001b[0mgroupby\u001b[0m\u001b[0;34m.\u001b[0m\u001b[0mgeneric\u001b[0m \u001b[0;32mimport\u001b[0m \u001b[0mDataFrameGroupBy\u001b[0m\u001b[0;34m\u001b[0m\u001b[0;34m\u001b[0m\u001b[0m\n\u001b[1;32m   8247\u001b[0m \u001b[0;34m\u001b[0m\u001b[0m\n\u001b[1;32m   8248\u001b[0m         \u001b[0;32mif\u001b[0m \u001b[0mlevel\u001b[0m \u001b[0;32mis\u001b[0m \u001b[0;32mNone\u001b[0m \u001b[0;32mand\u001b[0m \u001b[0mby\u001b[0m \u001b[0;32mis\u001b[0m \u001b[0;32mNone\u001b[0m\u001b[0;34m:\u001b[0m\u001b[0;34m\u001b[0m\u001b[0;34m\u001b[0m\u001b[0m\n\u001b[1;32m   8249\u001b[0m             \u001b[0;32mraise\u001b[0m \u001b[0mTypeError\u001b[0m\u001b[0;34m(\u001b[0m\u001b[0;34m\"You have to supply one of 'by' and 'level'\"\u001b[0m\u001b[0;34m)\u001b[0m\u001b[0;34m\u001b[0m\u001b[0;34m\u001b[0m\u001b[0m\n\u001b[0;32m-> 8250\u001b[0;31m         \u001b[0maxis\u001b[0m \u001b[0;34m=\u001b[0m \u001b[0mself\u001b[0m\u001b[0;34m.\u001b[0m\u001b[0m_get_axis_number\u001b[0m\u001b[0;34m(\u001b[0m\u001b[0maxis\u001b[0m\u001b[0;34m)\u001b[0m\u001b[0;34m\u001b[0m\u001b[0;34m\u001b[0m\u001b[0m\n\u001b[0m\u001b[1;32m   8251\u001b[0m \u001b[0;34m\u001b[0m\u001b[0m\n\u001b[1;32m   8252\u001b[0m         return DataFrameGroupBy(\n\u001b[1;32m   8253\u001b[0m             \u001b[0mobj\u001b[0m\u001b[0;34m=\u001b[0m\u001b[0mself\u001b[0m\u001b[0;34m,\u001b[0m\u001b[0;34m\u001b[0m\u001b[0;34m\u001b[0m\u001b[0m\n",
      "\u001b[0;32m/packages/Python-3.8-Snowpark/86595857-4c87-4db3-814d-b3b9191f5ae5/3.8/pandas/core/generic.py\u001b[0m in \u001b[0;36m?\u001b[0;34m(cls, axis)\u001b[0m\n\u001b[1;32m    511\u001b[0m     \u001b[0;32mdef\u001b[0m \u001b[0m_get_axis_number\u001b[0m\u001b[0;34m(\u001b[0m\u001b[0mcls\u001b[0m\u001b[0;34m,\u001b[0m \u001b[0maxis\u001b[0m\u001b[0;34m:\u001b[0m \u001b[0mAxis\u001b[0m\u001b[0;34m)\u001b[0m \u001b[0;34m->\u001b[0m \u001b[0mAxisInt\u001b[0m\u001b[0;34m:\u001b[0m\u001b[0;34m\u001b[0m\u001b[0;34m\u001b[0m\u001b[0m\n\u001b[1;32m    512\u001b[0m         \u001b[0;32mtry\u001b[0m\u001b[0;34m:\u001b[0m\u001b[0;34m\u001b[0m\u001b[0;34m\u001b[0m\u001b[0m\n\u001b[1;32m    513\u001b[0m             \u001b[0;32mreturn\u001b[0m \u001b[0mcls\u001b[0m\u001b[0;34m.\u001b[0m\u001b[0m_AXIS_TO_AXIS_NUMBER\u001b[0m\u001b[0;34m[\u001b[0m\u001b[0maxis\u001b[0m\u001b[0;34m]\u001b[0m\u001b[0;34m\u001b[0m\u001b[0;34m\u001b[0m\u001b[0m\n\u001b[1;32m    514\u001b[0m         \u001b[0;32mexcept\u001b[0m \u001b[0mKeyError\u001b[0m\u001b[0;34m:\u001b[0m\u001b[0;34m\u001b[0m\u001b[0;34m\u001b[0m\u001b[0m\n\u001b[0;32m--> 515\u001b[0;31m             \u001b[0;32mraise\u001b[0m \u001b[0mValueError\u001b[0m\u001b[0;34m(\u001b[0m\u001b[0;34mf\"No axis named {axis} for object type {cls.__name__}\"\u001b[0m\u001b[0;34m)\u001b[0m\u001b[0;34m\u001b[0m\u001b[0;34m\u001b[0m\u001b[0m\n\u001b[0m",
      "\u001b[0;31mValueError\u001b[0m: No axis named sport for object type DataFrame"
     ]
    }
   ],
   "source": [
    "#grouped_data = data.groupby('team', 'sport')['medals'].sum()"
   ]
  },
  {
   "cell_type": "markdown",
   "id": "70389aee",
   "metadata": {},
   "source": [
    "# Splitting/Scaling"
   ]
  },
  {
   "cell_type": "code",
   "execution_count": 79,
   "id": "9aa7f280",
   "metadata": {},
   "outputs": [
    {
     "name": "stdout",
     "output_type": "stream",
     "text": [
      "<class 'pandas.core.frame.DataFrame'>\n",
      "Index: 136578 entries, 0 to 158147\n",
      "Columns: 308 entries, age to s_Wrestling\n",
      "dtypes: bool(304), int16(1), int64(3)\n",
      "memory usage: 44.0 MB\n"
     ]
    }
   ],
   "source": [
    "df1.info()"
   ]
  },
  {
   "cell_type": "code",
   "execution_count": 80,
   "id": "95121b9e",
   "metadata": {},
   "outputs": [],
   "source": [
    "y = df1['medals'].copy()\n",
    "X = df1.drop('medals', axis=1).copy()"
   ]
  },
  {
   "cell_type": "code",
   "execution_count": 81,
   "id": "6bbc24a8",
   "metadata": {},
   "outputs": [],
   "source": [
    "from sklearn.preprocessing import StandardScaler\n",
    "scaler = StandardScaler()\n",
    "X = scaler.fit_transform(X)"
   ]
  },
  {
   "cell_type": "code",
   "execution_count": 82,
   "id": "4afe6c9d",
   "metadata": {},
   "outputs": [],
   "source": [
    "X_train, X_test, y_train, y_test = train_test_split(X, y, train_size=0.8, random_state=100)"
   ]
  },
  {
   "cell_type": "markdown",
   "id": "a4eceb91",
   "metadata": {},
   "source": [
    "# Training"
   ]
  },
  {
   "cell_type": "code",
   "execution_count": 83,
   "id": "14d729e3",
   "metadata": {},
   "outputs": [
    {
     "data": {
      "text/plain": [
       "(136578, 307)"
      ]
     },
     "execution_count": 83,
     "metadata": {},
     "output_type": "execute_result"
    }
   ],
   "source": [
    "X.shape"
   ]
  },
  {
   "cell_type": "code",
   "execution_count": 84,
   "id": "25e41d05",
   "metadata": {},
   "outputs": [
    {
     "name": "stdout",
     "output_type": "stream",
     "text": [
      "Class Distribution (Positive to Negative): 28.0% / 72.0%\n"
     ]
    }
   ],
   "source": [
    "print(\"Class Distribution (Positive to Negative): {:.1f}% / {:.1f}%\".format(y_train.mean() * 100, (1 - y_train.mean()) * 100))"
   ]
  },
  {
   "cell_type": "code",
   "execution_count": null,
   "id": "7b597147",
   "metadata": {},
   "outputs": [
    {
     "name": "stdout",
     "output_type": "stream",
     "text": [
      "Epoch 1/100\n",
      "1749/1749 [==============================] - 4s 2ms/step - loss: 0.3914 - accuracy: 0.7775 - auc: 0.7932 - val_loss: 0.3020 - val_accuracy: 0.7696 - val_auc: 0.8124\n",
      "Epoch 2/100\n",
      "1749/1749 [==============================] - 3s 2ms/step - loss: -0.5636 - accuracy: 0.7748 - auc: 0.8187 - val_loss: -2.0297 - val_accuracy: 0.7760 - val_auc: 0.8037\n",
      "Epoch 3/100\n",
      "1749/1749 [==============================] - 3s 2ms/step - loss: -12.4954 - accuracy: 0.7557 - auc: 0.8136 - val_loss: -21.0539 - val_accuracy: 0.6966 - val_auc: 0.7998\n",
      "Epoch 4/100\n",
      "1749/1749 [==============================] - 3s 2ms/step - loss: -59.9671 - accuracy: 0.7397 - auc: 0.8006 - val_loss: -72.8370 - val_accuracy: 0.7163 - val_auc: 0.7714\n",
      "Epoch 5/100\n",
      "1749/1749 [==============================] - 3s 2ms/step - loss: -163.2615 - accuracy: 0.7247 - auc: 0.7796 - val_loss: -169.5370 - val_accuracy: 0.7911 - val_auc: 0.7402\n",
      "Epoch 6/100\n",
      "1749/1749 [==============================] - 3s 2ms/step - loss: -339.1202 - accuracy: 0.7155 - auc: 0.7674 - val_loss: -326.9144 - val_accuracy: 0.6835 - val_auc: 0.7581\n",
      "Epoch 7/100\n",
      "1749/1749 [==============================] - 3s 2ms/step - loss: -591.0181 - accuracy: 0.7095 - auc: 0.7675 - val_loss: -547.7094 - val_accuracy: 0.6620 - val_auc: 0.7519\n",
      "Epoch 8/100\n",
      "1749/1749 [==============================] - 3s 2ms/step - loss: -942.2747 - accuracy: 0.7089 - auc: 0.7700 - val_loss: -826.5331 - val_accuracy: 0.7226 - val_auc: 0.7402\n",
      "Epoch 9/100\n",
      "1749/1749 [==============================] - 3s 2ms/step - loss: -1399.9595 - accuracy: 0.7079 - auc: 0.7677 - val_loss: -1202.8446 - val_accuracy: 0.7079 - val_auc: 0.7446\n",
      "Epoch 10/100\n",
      "1749/1749 [==============================] - 3s 2ms/step - loss: -1995.8922 - accuracy: 0.7077 - auc: 0.7640 - val_loss: -1690.0292 - val_accuracy: 0.6973 - val_auc: 0.7516\n",
      "Epoch 11/100\n",
      "1749/1749 [==============================] - 3s 2ms/step - loss: -2727.7097 - accuracy: 0.7076 - auc: 0.7632 - val_loss: -2264.1458 - val_accuracy: 0.7691 - val_auc: 0.7229\n",
      "Epoch 12/100\n",
      "1749/1749 [==============================] - 3s 2ms/step - loss: -3586.6875 - accuracy: 0.7068 - auc: 0.7611 - val_loss: -2967.9751 - val_accuracy: 0.6572 - val_auc: 0.7497\n",
      "Epoch 13/100\n",
      "1749/1749 [==============================] - 3s 2ms/step - loss: -4629.4688 - accuracy: 0.7051 - auc: 0.7552 - val_loss: -3796.4084 - val_accuracy: 0.5694 - val_auc: 0.7193\n",
      "Epoch 14/100\n",
      "1749/1749 [==============================] - 3s 2ms/step - loss: -5820.6455 - accuracy: 0.7041 - auc: 0.7516 - val_loss: -4699.4019 - val_accuracy: 0.6200 - val_auc: 0.7494\n",
      "Epoch 15/100\n",
      "1749/1749 [==============================] - 3s 2ms/step - loss: -7199.6611 - accuracy: 0.7032 - auc: 0.7461 - val_loss: -5824.7363 - val_accuracy: 0.5750 - val_auc: 0.7361\n",
      "Epoch 16/100\n",
      "1749/1749 [==============================] - 3s 2ms/step - loss: -8810.3486 - accuracy: 0.7023 - auc: 0.7450 - val_loss: -7032.6602 - val_accuracy: 0.7258 - val_auc: 0.7276\n",
      "Epoch 17/100\n",
      "1749/1749 [==============================] - 3s 2ms/step - loss: -10595.3525 - accuracy: 0.7019 - auc: 0.7424 - val_loss: -8379.4287 - val_accuracy: 0.7957 - val_auc: 0.6748\n",
      "Epoch 18/100\n",
      "1749/1749 [==============================] - 3s 2ms/step - loss: -12634.5400 - accuracy: 0.7028 - auc: 0.7401 - val_loss: -9947.2900 - val_accuracy: 0.6606 - val_auc: 0.7200\n",
      "Epoch 19/100\n",
      "1749/1749 [==============================] - 3s 2ms/step - loss: -14891.5986 - accuracy: 0.7004 - auc: 0.7357 - val_loss: -11730.7812 - val_accuracy: 0.6616 - val_auc: 0.7126\n",
      "Epoch 20/100\n",
      "1749/1749 [==============================] - 3s 2ms/step - loss: -17450.1777 - accuracy: 0.7011 - auc: 0.7318 - val_loss: -13648.2734 - val_accuracy: 0.7475 - val_auc: 0.7148\n",
      "Epoch 21/100\n",
      "1749/1749 [==============================] - 3s 2ms/step - loss: -20252.2090 - accuracy: 0.7004 - auc: 0.7274 - val_loss: -15767.6855 - val_accuracy: 0.6263 - val_auc: 0.7261\n",
      "Epoch 22/100\n",
      "1749/1749 [==============================] - 3s 2ms/step - loss: -23325.6895 - accuracy: 0.7019 - auc: 0.7282 - val_loss: -18050.8984 - val_accuracy: 0.8018 - val_auc: 0.6565\n",
      "Epoch 23/100\n",
      "1749/1749 [==============================] - 3s 2ms/step - loss: -26681.1719 - accuracy: 0.7007 - auc: 0.7255 - val_loss: -20613.5664 - val_accuracy: 0.7565 - val_auc: 0.6955\n",
      "Epoch 24/100\n",
      "1749/1749 [==============================] - 3s 2ms/step - loss: -30278.4688 - accuracy: 0.7005 - auc: 0.7237 - val_loss: -23396.2109 - val_accuracy: 0.7040 - val_auc: 0.7100\n",
      "Epoch 25/100\n",
      "1749/1749 [==============================] - 3s 2ms/step - loss: -34185.3984 - accuracy: 0.7001 - auc: 0.7208 - val_loss: -26181.2129 - val_accuracy: 0.7408 - val_auc: 0.6993\n",
      "Epoch 26/100\n",
      "1749/1749 [==============================] - 3s 2ms/step - loss: -38491.8594 - accuracy: 0.7009 - auc: 0.7206 - val_loss: -29631.1777 - val_accuracy: 0.7690 - val_auc: 0.6994\n",
      "Epoch 27/100\n",
      "1749/1749 [==============================] - 3s 2ms/step - loss: -43043.6133 - accuracy: 0.7013 - auc: 0.7205 - val_loss: -33033.2617 - val_accuracy: 0.7660 - val_auc: 0.6888\n",
      "Epoch 28/100\n",
      "1749/1749 [==============================] - 3s 2ms/step - loss: -48043.2617 - accuracy: 0.7018 - auc: 0.7190 - val_loss: -36815.1484 - val_accuracy: 0.6154 - val_auc: 0.7188\n",
      "Epoch 29/100\n",
      "1749/1749 [==============================] - 3s 2ms/step - loss: -53460.0469 - accuracy: 0.7007 - auc: 0.7178 - val_loss: -40717.9766 - val_accuracy: 0.6864 - val_auc: 0.7168\n",
      "Epoch 30/100\n",
      "1749/1749 [==============================] - 3s 2ms/step - loss: -59140.8594 - accuracy: 0.7000 - auc: 0.7163 - val_loss: -45088.2773 - val_accuracy: 0.6399 - val_auc: 0.7142\n",
      "Epoch 31/100\n",
      "1749/1749 [==============================] - 3s 2ms/step - loss: -65241.8164 - accuracy: 0.7003 - auc: 0.7132 - val_loss: -49560.9648 - val_accuracy: 0.4887 - val_auc: 0.6898\n",
      "Epoch 32/100\n",
      "1749/1749 [==============================] - 3s 2ms/step - loss: -71838.5156 - accuracy: 0.7000 - auc: 0.7125 - val_loss: -54704.3945 - val_accuracy: 0.7852 - val_auc: 0.6832\n",
      "Epoch 33/100\n",
      "1749/1749 [==============================] - 3s 2ms/step - loss: -78779.6094 - accuracy: 0.7004 - auc: 0.7124 - val_loss: -59796.4492 - val_accuracy: 0.6437 - val_auc: 0.6976\n",
      "Epoch 34/100\n",
      "1749/1749 [==============================] - 3s 2ms/step - loss: -86149.7188 - accuracy: 0.7003 - auc: 0.7117 - val_loss: -65393.6953 - val_accuracy: 0.7471 - val_auc: 0.7033\n",
      "Epoch 35/100\n",
      "1749/1749 [==============================] - 3s 2ms/step - loss: -94030.2969 - accuracy: 0.7009 - auc: 0.7129 - val_loss: -71150.6250 - val_accuracy: 0.7368 - val_auc: 0.6978\n",
      "Epoch 36/100\n",
      "1749/1749 [==============================] - 3s 2ms/step - loss: -102271.2656 - accuracy: 0.6992 - auc: 0.7092 - val_loss: -77228.8203 - val_accuracy: 0.7839 - val_auc: 0.6756\n",
      "Epoch 37/100\n",
      "1749/1749 [==============================] - 3s 2ms/step - loss: -111091.9062 - accuracy: 0.7005 - auc: 0.7101 - val_loss: -83538.6875 - val_accuracy: 0.5990 - val_auc: 0.7110\n",
      "Epoch 38/100\n",
      "1749/1749 [==============================] - 3s 2ms/step - loss: -120268.3203 - accuracy: 0.7004 - auc: 0.7120 - val_loss: -90826.6484 - val_accuracy: 0.7262 - val_auc: 0.6914\n",
      "Epoch 39/100\n",
      "1749/1749 [==============================] - 3s 2ms/step - loss: -129850.9141 - accuracy: 0.7006 - auc: 0.7093 - val_loss: -98078.8438 - val_accuracy: 0.7823 - val_auc: 0.6718\n",
      "Epoch 40/100\n",
      "1749/1749 [==============================] - 3s 2ms/step - loss: -140048.7656 - accuracy: 0.7006 - auc: 0.7076 - val_loss: -105692.8203 - val_accuracy: 0.4882 - val_auc: 0.6838\n",
      "Epoch 41/100\n",
      "1749/1749 [==============================] - 3s 2ms/step - loss: -150850.9531 - accuracy: 0.7001 - auc: 0.7095 - val_loss: -113670.7109 - val_accuracy: 0.6587 - val_auc: 0.7048\n",
      "Epoch 42/100\n",
      "1749/1749 [==============================] - 3s 2ms/step - loss: -162238.4062 - accuracy: 0.6984 - auc: 0.7050 - val_loss: -121764.2500 - val_accuracy: 0.7021 - val_auc: 0.7037\n",
      "Epoch 43/100\n",
      "1749/1749 [==============================] - 3s 2ms/step - loss: -173954.7031 - accuracy: 0.6991 - auc: 0.7034 - val_loss: -130721.8125 - val_accuracy: 0.7501 - val_auc: 0.6879\n",
      "Epoch 44/100\n",
      "1749/1749 [==============================] - 3s 2ms/step - loss: -186328.5625 - accuracy: 0.6993 - auc: 0.7031 - val_loss: -139860.6562 - val_accuracy: 0.6331 - val_auc: 0.6885\n"
     ]
    },
    {
     "name": "stdout",
     "output_type": "stream",
     "text": [
      "Epoch 45/100\n",
      "1749/1749 [==============================] - 3s 2ms/step - loss: -199049.1094 - accuracy: 0.6990 - auc: 0.7028 - val_loss: -149499.6406 - val_accuracy: 0.6632 - val_auc: 0.7083\n",
      "Epoch 46/100\n",
      "1749/1749 [==============================] - 3s 2ms/step - loss: -212473.2812 - accuracy: 0.6978 - auc: 0.7014 - val_loss: -159157.1719 - val_accuracy: 0.5959 - val_auc: 0.6970\n",
      "Epoch 47/100\n",
      "1749/1749 [==============================] - 3s 2ms/step - loss: -226520.2188 - accuracy: 0.6984 - auc: 0.7034 - val_loss: -169686.6250 - val_accuracy: 0.6730 - val_auc: 0.6958\n",
      "Epoch 48/100\n",
      "1749/1749 [==============================] - 3s 2ms/step - loss: -241246.6406 - accuracy: 0.6980 - auc: 0.7037 - val_loss: -180481.7656 - val_accuracy: 0.7879 - val_auc: 0.6513\n",
      "Epoch 49/100\n",
      "1749/1749 [==============================] - 3s 2ms/step - loss: -256567.6094 - accuracy: 0.6981 - auc: 0.7024 - val_loss: -191729.9688 - val_accuracy: 0.6618 - val_auc: 0.6994\n",
      "Epoch 50/100\n",
      "1749/1749 [==============================] - 3s 2ms/step - loss: -272129.0312 - accuracy: 0.6984 - auc: 0.7023 - val_loss: -203204.5312 - val_accuracy: 0.7908 - val_auc: 0.6547\n",
      "Epoch 51/100\n",
      "1749/1749 [==============================] - 3s 2ms/step - loss: -288522.5938 - accuracy: 0.6974 - auc: 0.6994 - val_loss: -215648.6250 - val_accuracy: 0.7376 - val_auc: 0.6953\n",
      "Epoch 52/100\n",
      "1749/1749 [==============================] - 3s 2ms/step - loss: -305537.9375 - accuracy: 0.6986 - auc: 0.7024 - val_loss: -228145.7344 - val_accuracy: 0.7222 - val_auc: 0.6843\n",
      "Epoch 53/100\n",
      "1749/1749 [==============================] - 3s 2ms/step - loss: -323649.5938 - accuracy: 0.6982 - auc: 0.7003 - val_loss: -241598.1094 - val_accuracy: 0.7573 - val_auc: 0.6821\n",
      "Epoch 54/100\n",
      "1749/1749 [==============================] - 3s 2ms/step - loss: -341917.4375 - accuracy: 0.6995 - auc: 0.7029 - val_loss: -255086.1875 - val_accuracy: 0.4557 - val_auc: 0.6570\n",
      "Epoch 55/100\n",
      "1749/1749 [==============================] - 3s 2ms/step - loss: -361038.1250 - accuracy: 0.6989 - auc: 0.7045 - val_loss: -269660.6875 - val_accuracy: 0.6450 - val_auc: 0.6975\n",
      "Epoch 56/100\n",
      "1749/1749 [==============================] - 3s 2ms/step - loss: -381429.9375 - accuracy: 0.6994 - auc: 0.7032 - val_loss: -284135.1562 - val_accuracy: 0.6515 - val_auc: 0.7037\n",
      "Epoch 57/100\n",
      "1749/1749 [==============================] - 3s 2ms/step - loss: -402363.4688 - accuracy: 0.6984 - auc: 0.7020 - val_loss: -299407.5312 - val_accuracy: 0.6411 - val_auc: 0.7024\n",
      "Epoch 58/100\n",
      "1749/1749 [==============================] - 3s 2ms/step - loss: -423508.7500 - accuracy: 0.6989 - auc: 0.7011 - val_loss: -315346.7812 - val_accuracy: 0.6546 - val_auc: 0.7033\n",
      "Epoch 59/100\n",
      "1749/1749 [==============================] - 3s 2ms/step - loss: -445515.1250 - accuracy: 0.6988 - auc: 0.7015 - val_loss: -330987.6875 - val_accuracy: 0.7582 - val_auc: 0.6747\n",
      "Epoch 60/100\n",
      "1749/1749 [==============================] - 3s 2ms/step - loss: -468334.2500 - accuracy: 0.6993 - auc: 0.7016 - val_loss: -348758.4375 - val_accuracy: 0.7401 - val_auc: 0.6942\n",
      "Epoch 61/100\n",
      "1749/1749 [==============================] - 3s 2ms/step - loss: -491558.6250 - accuracy: 0.6997 - auc: 0.7041 - val_loss: -365646.4688 - val_accuracy: 0.6956 - val_auc: 0.6915\n",
      "Epoch 62/100\n",
      "1749/1749 [==============================] - 3s 2ms/step - loss: -515752.4688 - accuracy: 0.6989 - auc: 0.7009 - val_loss: -383130.4688 - val_accuracy: 0.5723 - val_auc: 0.7000\n",
      "Epoch 63/100\n",
      "1749/1749 [==============================] - 3s 2ms/step - loss: -541169.8125 - accuracy: 0.6997 - auc: 0.7035 - val_loss: -401864.5938 - val_accuracy: 0.7439 - val_auc: 0.6941\n",
      "Epoch 64/100\n",
      "1749/1749 [==============================] - 3s 2ms/step - loss: -567283.7500 - accuracy: 0.6991 - auc: 0.6995 - val_loss: -421744.4375 - val_accuracy: 0.7086 - val_auc: 0.6884\n",
      "Epoch 65/100\n",
      "1749/1749 [==============================] - 3s 2ms/step - loss: -594006.0625 - accuracy: 0.6993 - auc: 0.7003 - val_loss: -440794.1562 - val_accuracy: 0.5936 - val_auc: 0.7024\n",
      "Epoch 66/100\n",
      "1749/1749 [==============================] - 3s 2ms/step - loss: -621272.6250 - accuracy: 0.7001 - auc: 0.7026 - val_loss: -461148.2500 - val_accuracy: 0.6222 - val_auc: 0.6954\n",
      "Epoch 67/100\n",
      "1749/1749 [==============================] - 3s 2ms/step - loss: -649769.3750 - accuracy: 0.6984 - auc: 0.6986 - val_loss: -481784.0938 - val_accuracy: 0.7183 - val_auc: 0.6904\n",
      "Epoch 68/100\n",
      "1749/1749 [==============================] - 3s 2ms/step - loss: -678938.1875 - accuracy: 0.6996 - auc: 0.7009 - val_loss: -503294.3438 - val_accuracy: 0.7545 - val_auc: 0.6860\n",
      "Epoch 69/100\n",
      "1749/1749 [==============================] - 3s 2ms/step - loss: -708771.3125 - accuracy: 0.6997 - auc: 0.7017 - val_loss: -524857.3125 - val_accuracy: 0.7775 - val_auc: 0.6747\n",
      "Epoch 70/100\n",
      "1749/1749 [==============================] - 3s 2ms/step - loss: -739284.2500 - accuracy: 0.7000 - auc: 0.7023 - val_loss: -547731.1875 - val_accuracy: 0.5980 - val_auc: 0.7008\n",
      "Epoch 71/100\n",
      "1712/1749 [============================>.] - ETA: 0s - loss: -763184.5000 - accuracy: 0.7002 - auc: 0.7016"
     ]
    }
   ],
   "source": [
    "inputs = tf.keras.Input(shape=(X.shape[1]))\n",
    "x = tf.keras.layers.Dense(64, activation='relu')(inputs)\n",
    "x = tf.keras.layers.Dense(64, activation='relu')(x)\n",
    "outputs = tf.keras.layers.Dense(1, activation='sigmoid')(x)\n",
    "\n",
    "model = tf.keras.Model(inputs, outputs)\n",
    "\n",
    "\n",
    "model.compile(\n",
    "    optimizer='adam',\n",
    "    loss='binary_crossentropy',\n",
    "    metrics=[\n",
    "        'accuracy',\n",
    "        tf.keras.metrics.AUC(name='auc')\n",
    "    ]\n",
    ")\n",
    "\n",
    "\n",
    "history = model.fit(\n",
    "    X_train,\n",
    "    y_train,\n",
    "    validation_split=0.2,\n",
    "    batch_size=50,\n",
    "    epochs=100,\n",
    "    callbacks=[\n",
    "        tf.keras.callbacks.EarlyStopping(\n",
    "            monitor='val_loss',\n",
    "            patience=3,\n",
    "            restore_best_weights=True\n",
    "        )\n",
    "    ]\n",
    ")"
   ]
  },
  {
   "cell_type": "code",
   "execution_count": 94,
   "id": "cfe6353c",
   "metadata": {},
   "outputs": [
    {
     "data": {
      "text/plain": [
       "77690     0\n",
       "115873    0\n",
       "18000     0\n",
       "61662     0\n",
       "52754     0\n",
       "         ..\n",
       "94932     0\n",
       "75574     0\n",
       "89617     0\n",
       "64508     0\n",
       "44090     0\n",
       "Name: medals, Length: 109262, dtype: int64"
      ]
     },
     "execution_count": 94,
     "metadata": {},
     "output_type": "execute_result"
    }
   ],
   "source": [
    "y_train"
   ]
  },
  {
   "cell_type": "markdown",
   "id": "39c292cc",
   "metadata": {},
   "source": [
    "# Results"
   ]
  },
  {
   "cell_type": "code",
   "execution_count": 95,
   "id": "392ab697",
   "metadata": {},
   "outputs": [
    {
     "name": "stdout",
     "output_type": "stream",
     "text": [
      "854/854 [==============================] - 1s 983us/step - loss: -608189.5000 - accuracy: 0.6207 - auc: 0.6974\n"
     ]
    },
    {
     "data": {
      "text/plain": [
       "[-608189.5, 0.6206985116004944, 0.6973621845245361]"
      ]
     },
     "execution_count": 95,
     "metadata": {},
     "output_type": "execute_result"
    }
   ],
   "source": [
    "model.evaluate(X_test, y_test)"
   ]
  },
  {
   "cell_type": "code",
   "execution_count": 96,
   "id": "af3201dd",
   "metadata": {},
   "outputs": [
    {
     "name": "stdout",
     "output_type": "stream",
     "text": [
      "854/854 [==============================] - 1s 787us/step\n"
     ]
    }
   ],
   "source": [
    "y_true = np.array(y_test)\n",
    "y_pred = np.squeeze(np.array(model.predict(X_test) >= 0.5, dtype=int))"
   ]
  },
  {
   "cell_type": "code",
   "execution_count": 97,
   "id": "804b8f3c",
   "metadata": {},
   "outputs": [
    {
     "name": "stdout",
     "output_type": "stream",
     "text": [
      "Classification Report:\n",
      "\n",
      "               precision    recall  f1-score   support\n",
      "\n",
      "           0       0.93      0.68      0.79     23410\n",
      "           1       0.10      0.75      0.17      1316\n",
      "           2       0.00      0.00      0.00      1215\n",
      "           3       0.00      0.00      0.00      1375\n",
      "\n",
      "    accuracy                           0.62     27316\n",
      "   macro avg       0.26      0.36      0.24     27316\n",
      "weighted avg       0.80      0.62      0.68     27316\n",
      "\n"
     ]
    }
   ],
   "source": [
    "print(\"Classification Report:\\n\\n\", classification_report(y_true, y_pred))"
   ]
  },
  {
   "cell_type": "code",
   "execution_count": 90,
   "id": "19b61d8a",
   "metadata": {},
   "outputs": [
    {
     "name": "stdout",
     "output_type": "stream",
     "text": [
      "Confusion Matrix:\n",
      " [[18624  4786     0     0]\n",
      " [  489   827     0     0]\n",
      " [  505   710     0     0]\n",
      " [  582   793     0     0]]\n"
     ]
    }
   ],
   "source": [
    "print(\"Confusion Matrix:\\n\", confusion_matrix(y_true, y_pred))"
   ]
  },
  {
   "cell_type": "code",
   "execution_count": 91,
   "id": "19a33601",
   "metadata": {},
   "outputs": [
    {
     "data": {
      "text/plain": [
       "array([0, 0, 0, ..., 0, 1, 0])"
      ]
     },
     "execution_count": 91,
     "metadata": {},
     "output_type": "execute_result"
    }
   ],
   "source": [
    "y_pred"
   ]
  }
 ],
 "metadata": {
  "kernelspec": {
   "display_name": "Python 3",
   "language": "python",
   "name": "python3"
  },
  "language_info": {
   "codemirror_mode": {
    "name": "ipython",
    "version": 3
   },
   "file_extension": ".py",
   "mimetype": "text/x-python",
   "name": "python",
   "nbconvert_exporter": "python",
   "pygments_lexer": "ipython3",
   "version": "3.8.18"
  }
 },
 "nbformat": 4,
 "nbformat_minor": 5
}
