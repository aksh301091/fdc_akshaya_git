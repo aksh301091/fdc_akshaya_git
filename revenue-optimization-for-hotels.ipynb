{
 "cells": [
  {
   "cell_type": "markdown",
   "id": "f8e67ba2",
   "metadata": {
    "papermill": {
     "duration": 0.018559,
     "end_time": "2023-06-11T08:21:39.204670",
     "exception": false,
     "start_time": "2023-06-11T08:21:39.186111",
     "status": "completed"
    },
    "tags": []
   },
   "source": [
    "# Revenue Management\n",
    "\n",
    "You just got appointed as the General manager of a 100-room hotel. The hotel has been running quite successfully, and the current sales department is doing a great job securing a lot of group business far in advance. \n",
    "\n",
    "As the General manager eagerly looks at the business for the upcoming 3 months, a sense of satisfaction washes over him. The hotel is filled with over 90 Group rooms on so many days. He is thrilled knowing that the hotel has successfully secured a substantial influx of revenue.\n",
    "\n",
    "As the month passes, the general manager beams with confidence; groups continue to come in, and guests are often turned away due to the hotel being fully booked. The General manager can't help but think, 'What a fantastic problem to have!'\n",
    "After 6 months, the owners call in for a meeting. The General manager smiles, \"Great! This is an opportunity to showcase the good results.\"\n",
    "\n",
    "At the meeting, the owners introduce their Revenue manager. The meeting starts, and he exclaims that the hotel has been losing market share, and financial results are falling short of their expectations.\n",
    "\n",
    "Thoughts start swirling through the General manager's mind,\" How could this be? The hotel had been thriving, consistently filling over 90 rooms with groups. They hadn't lost a single group to a competitor\". The general manager's mind races, trying to make sense of the contradiction.\n",
    "\n",
    "The Revenue manager continues, shedding light on the root cause of the problem. The excessive reliance on group bookings has prevented the hotel from capturing other lucrative market segments, resulting in missed revenue opportunities and a decline in market share.\n",
    "\n",
    "The General manager realizes the gravity of the problem; his initial smile and eagerness to highlight the hotel's achievements, transform into a determined expression. He set his mind to diving into the world of revenue management. He understands that mastering revenue management holds the key to revitalizing the hotel's market share, unlocking untapped revenue potential.\n",
    "\n",
    "#  What is Revenue Management\n",
    "\n",
    "The initial story echoes some of the daily complexities that hotels and many other businesses face.\n",
    "\n",
    "The hotel has 100 rooms to sell. Unlike many other industries, they cannot increase or decrease supply to accommodate the demand. Therefore, the management team is faced with a dilemma:\n",
    "> Do I take this lower-paying business in advance and secure the revenue, or do I wait for a potential higher-paying guest that might or might not turn up?\n",
    "\n",
    "Making the wrong decision could be very costly.\n",
    "\n",
    "This is where Revenue management comes into place. Revenue management is a business approach to balance supply and demand to maximize revenue. This might sound complicated, but it essentially provides a strategic answer to the above dilemma.\n",
    "Revenue managers have two strategic levers they can use to optimize revenue:\n",
    "- **Capacity control**: How many rooms to allocate to each segment\n",
    "- **Pricing**: What price to charge for each segment\n",
    "\n",
    "The beforementioned story highlights a problem that can be solved using the Revenue management capacity control lever. Using capacity control models, revenue managers can decide how many groups room nights to sell in advance while keeping enough rooms for higher-paying guests.\n",
    "\n",
    "This workbook will explore the concept and math behind the capacity control models.\n",
    "\n",
    "# Capacity Control Models\n",
    "\n",
    "As previously explored, the wrong capacity allocation decision can be costly for the hotel.\n",
    "\n",
    "In the story, the general manager used a mental model to make the decisions; the more group the better because it translates to sure revenue influx.\n",
    "\n",
    "**Mental models** are not great at making Capacity control decisions because they tend to be biased. The general manager used his own risk aversion bias to favor the certainty of a group over the uncertainty of more lucrative market segments, resulting in suboptimal performance. \n",
    "\n",
    "Fortunately, mathematics and decision science can solve this problem for us.\n",
    "\n",
    "## Decision science: Expected revenue\n",
    "\n",
    "The term decision science might sound very daunting, and it can get complex. However, we can think of it as when faced with a particular problem and variables, what is the optimal course of action.\n",
    "\n",
    "In the capacity control model, we have established that\n",
    "\n",
    "- The problem is: How to decide if we should sell the rooms to a group or transient. \n",
    "- The variables are: the number of rooms to set aside for higher-paying guests.\n",
    "- The optimal solution would be to set aside enough rooms for the higher-paying guest and sell the remaining to groups.\n",
    "\n",
    "However, the demand for higher-paying guests is uncertain. Revenue managers can use the principles of probability theory and expected value to reduce uncertainty.\n",
    "\n",
    "Expected Value refers to the anticipated average value for an outcome.\n",
    "\n",
    "In the context of Capacity control models, we use  Expected revenue; this is a valuable metric because it helps revenue managers assess the average performance of different courses of action. This average performance allows for better decision-making by considering the potential risks and rewards associated with each option\n",
    "\n",
    "Mathematically, the expected revenue (ER) can be calculated using the formula:\n",
    "\n",
    ">ER = (Outcome Revenue * Probability)\n",
    "\n",
    "Back to our story, imagine the General manager decides to set aside 60 rooms for high-paying guest, if we know the probability of selling 60 rooms to high-paying guests ( let’s say it is 50%) and we know the price they are paying(for example $150), we can establish how much revenue this course of action would generate on average.\n",
    "\n",
    ">Outcome revenue = 60*150 = 9 000\n",
    "\n",
    ">ER = 9 000 * 0.5 = 4 500\n",
    "\n",
    "In this example, this course of action generates, on average 4 500; some days it will be more than 4 500, and some days it will be less. But knowing that we can expect to generate 4 500, we can make a more informed decision. \n",
    "\n",
    "If a group revenue is higher than 4 500, we take the group; if not, the hotel is better off keeping the rooms for higher-paying guests.\n",
    "\n",
    "\n",
    "At this point, you might be thinking, this is all great, but how I can calculate the probability of selling any given room to a high-paying guest? And how should I decide if I need to set aside 59 or 60 rooms?\n",
    "\n",
    "This is the part where the Revenue managers will rely on their Revenue Management systems to make decisions. Revenue Management systems can deal with complex data and complex capacity control models; however, the Revenue manager must understand the basic model behind the system.\n",
    "\n",
    "The rest of the notebook will focus on demystifying the capacity control model and providing you with a simplified approach that can be readily implemented. By grasping the core principles of the model, you will be equipped to make strategic decisions even in the absence of advanced technology.\n",
    "\n",
    "\n",
    "\n",
    "\n",
    "# First Capacity control model\n",
    "\n",
    "As with everything revenue managers and revenue management systems do, let's first look at historical data.\n",
    "\n",
    "To solve our problem, we need to gather daily Segmentation room nights and rates.\n",
    "\n",
    "\n",
    "The data we will use is originally from the article Hotel Booking Demand Datasets, written by Nuno Antonio, Ana Almeida, and Luis Nunes for Data in Brief, Volume 22, February 2019. It can be found in kaggle:https://www.kaggle.com/datasets/jessemostipak/hotel-booking-demand\n",
    "\n",
    "Before we start solving the problem, let's explore the data\n",
    "\n",
    "## Data exploration"
   ]
  },
  {
   "cell_type": "code",
   "execution_count": 9,
   "id": "6b54d297",
   "metadata": {
    "execution": {
     "iopub.execute_input": "2023-06-11T08:21:39.243613Z",
     "iopub.status.busy": "2023-06-11T08:21:39.242445Z",
     "iopub.status.idle": "2023-06-11T08:21:40.619719Z",
     "shell.execute_reply": "2023-06-11T08:21:40.618586Z"
    },
    "papermill": {
     "duration": 1.400236,
     "end_time": "2023-06-11T08:21:40.622861",
     "exception": false,
     "start_time": "2023-06-11T08:21:39.222625",
     "status": "completed"
    },
    "tags": []
   },
   "outputs": [
    {
     "name": "stdout",
     "output_type": "stream",
     "text": [
      "\u001b[33mWARNING: The directory '/home/mosaic-ai/.cache/pip/http' or its parent directory is not owned by the current user and the cache has been disabled. Please check the permissions and owner of that directory. If executing pip with sudo, you may want sudo's -H flag.\u001b[0m\n",
      "\u001b[33mWARNING: The directory '/home/mosaic-ai/.cache/pip' or its parent directory is not owned by the current user and caching wheels has been disabled. check the permissions and owner of that directory. If executing pip with sudo, you may want sudo's -H flag.\u001b[0m\n",
      "Collecting seaborn\n",
      "\u001b[?25l  Downloading https://files.pythonhosted.org/packages/83/11/00d3c3dfc25ad54e731d91449895a79e4bf2384dc3ac01809010ba88f6d5/seaborn-0.13.2-py3-none-any.whl (294kB)\n",
      "\u001b[K     |████████████████████████████████| 296kB 4.1MB/s eta 0:00:01\n",
      "\u001b[?25hCollecting numpy!=1.24.0,>=1.20\n",
      "\u001b[?25l  Downloading https://files.pythonhosted.org/packages/98/5d/5738903efe0ecb73e51eb44feafba32bdba2081263d40c5043568ff60faf/numpy-1.24.4-cp38-cp38-manylinux_2_17_x86_64.manylinux2014_x86_64.whl (17.3MB)\n",
      "\u001b[K     |████████████████████████████████| 17.3MB 8.9MB/s eta 0:00:01\n",
      "\u001b[?25hCollecting pandas>=1.2\n",
      "\u001b[?25l  Downloading https://files.pythonhosted.org/packages/f8/7f/5b047effafbdd34e52c9e2d7e44f729a0655efafb22198c45cf692cdc157/pandas-2.0.3-cp38-cp38-manylinux_2_17_x86_64.manylinux2014_x86_64.whl (12.4MB)\n",
      "\u001b[K     |████████████████████████████████| 12.4MB 71.5MB/s eta 0:00:01\n",
      "\u001b[?25hCollecting matplotlib!=3.6.1,>=3.4\n",
      "\u001b[?25l  Downloading https://files.pythonhosted.org/packages/30/33/cc27211d2ffeee4fd7402dca137b6e8a83f6dcae3d4be8d0ad5068555561/matplotlib-3.7.5-cp38-cp38-manylinux_2_12_x86_64.manylinux2010_x86_64.whl (9.2MB)\n",
      "\u001b[K     |████████████████████████████████| 9.2MB 67.1MB/s eta 0:00:01\n",
      "\u001b[?25hCollecting tzdata>=2022.1\n",
      "\u001b[?25l  Downloading https://files.pythonhosted.org/packages/65/58/f9c9e6be752e9fcb8b6a0ee9fb87e6e7a1f6bcab2cdc73f02bb7ba91ada0/tzdata-2024.1-py2.py3-none-any.whl (345kB)\n",
      "\u001b[K     |████████████████████████████████| 348kB 72.3MB/s eta 0:00:01\n",
      "\u001b[?25hCollecting python-dateutil>=2.8.2\n",
      "\u001b[?25l  Downloading https://files.pythonhosted.org/packages/ec/57/56b9bcc3c9c6a792fcbaf139543cee77261f3651ca9da0c93f5c1221264b/python_dateutil-2.9.0.post0-py2.py3-none-any.whl (229kB)\n",
      "\u001b[K     |████████████████████████████████| 235kB 77.8MB/s eta 0:00:01\n",
      "\u001b[?25hCollecting pytz>=2020.1\n",
      "\u001b[?25l  Downloading https://files.pythonhosted.org/packages/9c/3d/a121f284241f08268b21359bd425f7d4825cffc5ac5cd0e1b3d82ffd2b10/pytz-2024.1-py2.py3-none-any.whl (505kB)\n",
      "\u001b[K     |████████████████████████████████| 512kB 65.6MB/s eta 0:00:01\n",
      "\u001b[?25hCollecting contourpy>=1.0.1\n",
      "\u001b[?25l  Downloading https://files.pythonhosted.org/packages/8e/71/7f20855592cc929bc206810432b991ec4c702dc26b0567b132e52c85536f/contourpy-1.1.1-cp38-cp38-manylinux_2_17_x86_64.manylinux2014_x86_64.whl (301kB)\n",
      "\u001b[K     |████████████████████████████████| 307kB 72.8MB/s eta 0:00:01\n",
      "\u001b[?25hCollecting pillow>=6.2.0\n",
      "\u001b[?25l  Downloading https://files.pythonhosted.org/packages/45/8c/ea6fdce74c963d7017f02708b7e4918a401200844ac2c4af1cef8ebc8823/pillow-10.3.0-cp38-cp38-manylinux_2_17_x86_64.manylinux2014_x86_64.whl (4.4MB)\n",
      "\u001b[K     |████████████████████████████████| 4.4MB 57.4MB/s eta 0:00:01\n",
      "\u001b[?25hCollecting packaging>=20.0\n",
      "\u001b[?25l  Downloading https://files.pythonhosted.org/packages/08/aa/cc0199a5f0ad350994d660967a8efb233fe0416e4639146c089643407ce6/packaging-24.1-py3-none-any.whl (53kB)\n",
      "\u001b[K     |████████████████████████████████| 61kB 80.8MB/s eta 0:00:01\n",
      "\u001b[?25hCollecting importlib-resources>=3.2.0; python_version < \"3.10\"\n",
      "  Downloading https://files.pythonhosted.org/packages/75/06/4df55e1b7b112d183f65db9503bff189e97179b256e1ea450a3c365241e0/importlib_resources-6.4.0-py3-none-any.whl\n",
      "Collecting fonttools>=4.22.0\n",
      "\u001b[?25l  Downloading https://files.pythonhosted.org/packages/f3/0e/4d144e4cb8193b0cd8743ee2ac24e87ed952cebaede0da349b2a9d2fe222/fonttools-4.53.0-cp38-cp38-manylinux_2_17_x86_64.manylinux2014_x86_64.whl (4.7MB)\n",
      "\u001b[K     |████████████████████████████████| 4.7MB 55.1MB/s eta 0:00:01\n",
      "\u001b[?25hCollecting pyparsing>=2.3.1\n",
      "\u001b[?25l  Downloading https://files.pythonhosted.org/packages/9d/ea/6d76df31432a0e6fdf81681a895f009a4bb47b3c39036db3e1b528191d52/pyparsing-3.1.2-py3-none-any.whl (103kB)\n",
      "\u001b[K     |████████████████████████████████| 112kB 92.0MB/s eta 0:00:01\n",
      "\u001b[?25hCollecting kiwisolver>=1.0.1\n",
      "\u001b[?25l  Downloading https://files.pythonhosted.org/packages/d2/55/7021ffcc8cb26a520bb051aa0a3d08daf200cde945e5863d5768161e2d3d/kiwisolver-1.4.5-cp38-cp38-manylinux_2_5_x86_64.manylinux1_x86_64.whl (1.2MB)\n",
      "\u001b[K     |████████████████████████████████| 1.2MB 64.3MB/s eta 0:00:01\n",
      "\u001b[?25hCollecting cycler>=0.10\n",
      "  Downloading https://files.pythonhosted.org/packages/e7/05/c19819d5e3d95294a6f5947fb9b9629efb316b96de511b418c53d245aae6/cycler-0.12.1-py3-none-any.whl\n",
      "Collecting six>=1.5\n",
      "  Downloading https://files.pythonhosted.org/packages/d9/5a/e7c31adbe875f2abbb91bd84cf2dc52d792b5a01506781dbcf25c91daf11/six-1.16.0-py2.py3-none-any.whl\n",
      "Collecting zipp>=3.1.0; python_version < \"3.10\"\n",
      "  Downloading https://files.pythonhosted.org/packages/20/38/f5c473fe9b90c8debdd29ea68d5add0289f1936d6f923b6b9cc0b931194c/zipp-3.19.2-py3-none-any.whl\n",
      "\u001b[31mERROR: refractio 2.1.5.4 has requirement pandas==2.0.0, but you'll have pandas 2.0.3 which is incompatible.\u001b[0m\n",
      "\u001b[31mERROR: mlflow 2.10.0 has requirement packaging<24, but you'll have packaging 24.1 which is incompatible.\u001b[0m\n",
      "\u001b[31mERROR: mlflow 2.10.0 has requirement pytz<2024, but you'll have pytz 2024.1 which is incompatible.\u001b[0m\n",
      "\u001b[31mERROR: fosforio 1.0.1 has requirement pandas==2.0.0, but you'll have pandas 2.0.3 which is incompatible.\u001b[0m\n",
      "\u001b[31mERROR: snowflake-ml-python 1.0.1 has requirement packaging<24,>=20.9, but you'll have packaging 24.1 which is incompatible.\u001b[0m\n",
      "\u001b[31mERROR: snowflake-ml-python 1.0.1 has requirement pandas<2,>=1.0.0, but you'll have pandas 2.0.3 which is incompatible.\u001b[0m\n",
      "\u001b[31mERROR: snowflake-ml-python 1.0.1 has requirement snowflake-snowpark-python<2,>=1.4.0, but you'll have snowflake-snowpark-python 1.0.0 which is incompatible.\u001b[0m\n",
      "\u001b[31mERROR: snowflake-ml-python 1.0.1 has requirement xgboost<2,>=1.7.3, but you'll have xgboost 2.0.3 which is incompatible.\u001b[0m\n",
      "\u001b[31mERROR: snowflake-connector-python 3.6.0 has requirement urllib3<2.0.0,>=1.21.1; python_version < \"3.10\", but you'll have urllib3 2.2.1 which is incompatible.\u001b[0m\n",
      "\u001b[31mERROR: openapi-spec-validator 0.7.1 has requirement jsonschema<5.0.0,>=4.18.0, but you'll have jsonschema 3.2.0 which is incompatible.\u001b[0m\n",
      "\u001b[31mERROR: openapi-schema-validator 0.6.2 has requirement jsonschema<5.0.0,>=4.19.1, but you'll have jsonschema 3.2.0 which is incompatible.\u001b[0m\n",
      "\u001b[31mERROR: mosaic-ai-serving 1.0.0 has requirement Flask==2.1.1; python_version >= \"3.7\", but you'll have flask 3.0.3 which is incompatible.\u001b[0m\n",
      "\u001b[31mERROR: mosaic-ai-serving 1.0.0 has requirement itsdangerous==2.0.1, but you'll have itsdangerous 2.2.0 which is incompatible.\u001b[0m\n",
      "\u001b[31mERROR: mosaic-ai-serving 1.0.0 has requirement Jinja2==3.0.3, but you'll have jinja2 3.1.4 which is incompatible.\u001b[0m\n",
      "\u001b[31mERROR: mosaic-ai-serving 1.0.0 has requirement matplotlib==3.6.0; python_version >= \"3.8\", but you'll have matplotlib 3.7.5 which is incompatible.\u001b[0m\n",
      "\u001b[31mERROR: mosaic-ai-client 1.0.0 has requirement matplotlib==3.1.1, but you'll have matplotlib 3.7.5 which is incompatible.\u001b[0m\n",
      "\u001b[31mERROR: jupyterlab 3.2.4 has requirement jupyter-server~=1.4, but you'll have jupyter-server 2.0.0a1 which is incompatible.\u001b[0m\n",
      "\u001b[31mERROR: jupyterlab-server 2.25.4 has requirement jsonschema>=4.18.0, but you'll have jsonschema 3.2.0 which is incompatible.\u001b[0m\n",
      "Installing collected packages: numpy, tzdata, six, python-dateutil, pytz, pandas, contourpy, pillow, packaging, zipp, importlib-resources, fonttools, pyparsing, kiwisolver, cycler, matplotlib, seaborn\n",
      "Successfully installed contourpy-1.1.1 cycler-0.12.1 fonttools-4.53.0 importlib-resources-6.4.0 kiwisolver-1.4.5 matplotlib-3.7.5 numpy-1.24.4 packaging-24.1 pandas-2.0.3 pillow-10.3.0 pyparsing-3.1.2 python-dateutil-2.9.0.post0 pytz-2024.1 seaborn-0.13.2 six-1.16.0 tzdata-2024.1 zipp-3.19.2\n",
      "\u001b[33mWARNING: Target directory /tmp/pip_packages/packaging already exists. Specify --upgrade to force replacement.\u001b[0m\n",
      "\u001b[33mWARNING: Target directory /tmp/pip_packages/packaging-24.1.dist-info already exists. Specify --upgrade to force replacement.\u001b[0m\n",
      "\u001b[33mWARNING: Target directory /tmp/pip_packages/bin already exists. Specify --upgrade to force replacement.\u001b[0m\n"
     ]
    },
    {
     "name": "stdout",
     "output_type": "stream",
     "text": [
      "\u001b[33mWARNING: You are using pip version 19.3.1; however, version 24.0 is available.\n",
      "You should consider upgrading via the 'pip install --upgrade pip' command.\u001b[0m\n",
      "Note: you may need to restart the kernel to use updated packages.\n"
     ]
    }
   ],
   "source": [
    "pip install seaborn"
   ]
  },
  {
   "cell_type": "code",
   "execution_count": 1,
   "id": "62b194c4",
   "metadata": {},
   "outputs": [
    {
     "name": "stderr",
     "output_type": "stream",
     "text": [
      "Matplotlib created a temporary cache directory at /tmp/matplotlib-zsewu_5n because the default path (/home/mosaic-ai/.cache/matplotlib) is not a writable directory; it is highly recommended to set the MPLCONFIGDIR environment variable to a writable directory, in particular to speed up the import of Matplotlib and to better support multiprocessing.\n"
     ]
    }
   ],
   "source": [
    "import pandas as pd\n",
    "import numpy as np\n",
    "import matplotlib.pyplot as plt\n",
    "import seaborn as sns\n"
   ]
  },
  {
   "cell_type": "code",
   "execution_count": 3,
   "id": "2a763323",
   "metadata": {},
   "outputs": [],
   "source": [
    "from scipy.stats import shapiro\n",
    "from scipy.stats import gamma"
   ]
  },
  {
   "cell_type": "code",
   "execution_count": 4,
   "id": "ffdfa47f",
   "metadata": {},
   "outputs": [],
   "source": [
    "%matplotlib inline"
   ]
  },
  {
   "cell_type": "code",
   "execution_count": 9,
   "id": "d65e53c6",
   "metadata": {},
   "outputs": [
    {
     "name": "stdout",
     "output_type": "stream",
     "text": [
      "connection successful!\n"
     ]
    }
   ],
   "source": [
    "from snowflake.snowpark.session import Session\n",
    "import configparser\n",
    "\n",
    "import warnings\n",
    "warnings.filterwarnings(\"ignore\")\n",
    "\n",
    "config = configparser.ConfigParser()\n",
    "config.read(\"snowflake_connection_AKSHAYA.ini\")\n",
    "\n",
    "connection_parameters = {\n",
    "    \"user\": f'{config[\"Snowflake\"][\"user\"]}',\n",
    "    \"password\": f'{config[\"Snowflake\"][\"password\"]}',\n",
    "    \"account\": f'{config[\"Snowflake\"][\"account\"]}',\n",
    "    \"WAREHOUSE\": f'{config[\"Snowflake\"][\"WAREHOUSE\"]}',\n",
    "    \"DATABASE\": f'{config[\"Snowflake\"][\"DATABASE\"]}',\n",
    "    \"SCHEMA\": f'{config[\"Snowflake\"][\"SCHEMA\"]}'\n",
    "}\n",
    "\n",
    "def snowflake_connector(conn):\n",
    "    try:\n",
    "        session = Session.builder.configs(conn).create()\n",
    "        print(\"connection successful!\")\n",
    "    except:\n",
    "        raise ValueError(\"error while connecting with db\")\n",
    "    return session\n",
    "\n",
    "session = snowflake_connector(connection_parameters)"
   ]
  },
  {
   "cell_type": "code",
   "execution_count": 11,
   "id": "c6ff62a9",
   "metadata": {},
   "outputs": [],
   "source": [
    "data = session.table(\"BOOKINGS_TRANSFORMED\").to_pandas()"
   ]
  },
  {
   "cell_type": "code",
   "execution_count": 12,
   "id": "ec4a684b",
   "metadata": {
    "execution": {
     "iopub.execute_input": "2023-06-11T08:21:41.401715Z",
     "iopub.status.busy": "2023-06-11T08:21:41.401317Z",
     "iopub.status.idle": "2023-06-11T08:21:41.447837Z",
     "shell.execute_reply": "2023-06-11T08:21:41.446661Z"
    },
    "papermill": {
     "duration": 0.068343,
     "end_time": "2023-06-11T08:21:41.450259",
     "exception": false,
     "start_time": "2023-06-11T08:21:41.381916",
     "status": "completed"
    },
    "tags": []
   },
   "outputs": [
    {
     "data": {
      "text/html": [
       "<div>\n",
       "<style scoped>\n",
       "    .dataframe tbody tr th:only-of-type {\n",
       "        vertical-align: middle;\n",
       "    }\n",
       "\n",
       "    .dataframe tbody tr th {\n",
       "        vertical-align: top;\n",
       "    }\n",
       "\n",
       "    .dataframe thead th {\n",
       "        text-align: right;\n",
       "    }\n",
       "</style>\n",
       "<table border=\"1\" class=\"dataframe\">\n",
       "  <thead>\n",
       "    <tr style=\"text-align: right;\">\n",
       "      <th></th>\n",
       "      <th>ARRIVAL_DATE_TRANSFORMED</th>\n",
       "      <th>RESERVATION_STATUS_DATE_TRANSFORMED</th>\n",
       "      <th>HOTEL</th>\n",
       "      <th>IS_CANCELED</th>\n",
       "      <th>LEAD_TIME</th>\n",
       "      <th>ARRIVAL_DATE_YEAR</th>\n",
       "      <th>MONTH</th>\n",
       "      <th>ARRIVAL_DATE_WEEK_NUMBER</th>\n",
       "      <th>ARRIVAL_DATE_DAY_OF_MONTH</th>\n",
       "      <th>EXPECTED_ARRIVAL_DATE</th>\n",
       "      <th>...</th>\n",
       "      <th>MARKET_SEGMENT</th>\n",
       "      <th>DISTRIBUTION_CHANNEL</th>\n",
       "      <th>PREVIOUS_CANCELLATIONS</th>\n",
       "      <th>PREVIOUS_BOOKINGS_NOT_CANCELED</th>\n",
       "      <th>RESERVED_ROOM_TYPE</th>\n",
       "      <th>ASSIGNED_ROOM_TYPE</th>\n",
       "      <th>DEPOSIT_TYPE</th>\n",
       "      <th>DAYS_IN_WAITING_LIST</th>\n",
       "      <th>CUSTOMER_TYPE</th>\n",
       "      <th>ADR</th>\n",
       "    </tr>\n",
       "  </thead>\n",
       "  <tbody>\n",
       "    <tr>\n",
       "      <th>0</th>\n",
       "      <td>2021-07-16</td>\n",
       "      <td>2020-10-17</td>\n",
       "      <td>City Hotel</td>\n",
       "      <td>1</td>\n",
       "      <td>272</td>\n",
       "      <td>2021</td>\n",
       "      <td>7</td>\n",
       "      <td>29</td>\n",
       "      <td>16</td>\n",
       "      <td>16-07-2021</td>\n",
       "      <td>...</td>\n",
       "      <td>Groups</td>\n",
       "      <td>TA/TO</td>\n",
       "      <td>1</td>\n",
       "      <td>0</td>\n",
       "      <td>A</td>\n",
       "      <td>A</td>\n",
       "      <td>No Deposit</td>\n",
       "      <td>0</td>\n",
       "      <td>Transient.Party</td>\n",
       "      <td>62.8</td>\n",
       "    </tr>\n",
       "    <tr>\n",
       "      <th>1</th>\n",
       "      <td>2021-08-20</td>\n",
       "      <td>2020-10-17</td>\n",
       "      <td>City Hotel</td>\n",
       "      <td>1</td>\n",
       "      <td>307</td>\n",
       "      <td>2021</td>\n",
       "      <td>8</td>\n",
       "      <td>34</td>\n",
       "      <td>20</td>\n",
       "      <td>20-08-2021</td>\n",
       "      <td>...</td>\n",
       "      <td>Groups</td>\n",
       "      <td>TA/TO</td>\n",
       "      <td>1</td>\n",
       "      <td>0</td>\n",
       "      <td>A</td>\n",
       "      <td>A</td>\n",
       "      <td>No Deposit</td>\n",
       "      <td>0</td>\n",
       "      <td>Transient.Party</td>\n",
       "      <td>62.8</td>\n",
       "    </tr>\n",
       "    <tr>\n",
       "      <th>2</th>\n",
       "      <td>2021-07-02</td>\n",
       "      <td>2020-10-17</td>\n",
       "      <td>City Hotel</td>\n",
       "      <td>1</td>\n",
       "      <td>258</td>\n",
       "      <td>2021</td>\n",
       "      <td>7</td>\n",
       "      <td>27</td>\n",
       "      <td>2</td>\n",
       "      <td>02-07-2021</td>\n",
       "      <td>...</td>\n",
       "      <td>Groups</td>\n",
       "      <td>TA/TO</td>\n",
       "      <td>1</td>\n",
       "      <td>0</td>\n",
       "      <td>A</td>\n",
       "      <td>A</td>\n",
       "      <td>No Deposit</td>\n",
       "      <td>0</td>\n",
       "      <td>Transient.Party</td>\n",
       "      <td>62.8</td>\n",
       "    </tr>\n",
       "    <tr>\n",
       "      <th>3</th>\n",
       "      <td>2021-08-20</td>\n",
       "      <td>2020-10-17</td>\n",
       "      <td>City Hotel</td>\n",
       "      <td>1</td>\n",
       "      <td>307</td>\n",
       "      <td>2021</td>\n",
       "      <td>8</td>\n",
       "      <td>34</td>\n",
       "      <td>20</td>\n",
       "      <td>20-08-2021</td>\n",
       "      <td>...</td>\n",
       "      <td>Groups</td>\n",
       "      <td>TA/TO</td>\n",
       "      <td>1</td>\n",
       "      <td>0</td>\n",
       "      <td>A</td>\n",
       "      <td>A</td>\n",
       "      <td>No Deposit</td>\n",
       "      <td>0</td>\n",
       "      <td>Transient.Party</td>\n",
       "      <td>62.8</td>\n",
       "    </tr>\n",
       "    <tr>\n",
       "      <th>4</th>\n",
       "      <td>2021-07-23</td>\n",
       "      <td>2020-10-17</td>\n",
       "      <td>City Hotel</td>\n",
       "      <td>1</td>\n",
       "      <td>279</td>\n",
       "      <td>2021</td>\n",
       "      <td>7</td>\n",
       "      <td>30</td>\n",
       "      <td>23</td>\n",
       "      <td>23-07-2021</td>\n",
       "      <td>...</td>\n",
       "      <td>Groups</td>\n",
       "      <td>TA/TO</td>\n",
       "      <td>1</td>\n",
       "      <td>0</td>\n",
       "      <td>A</td>\n",
       "      <td>A</td>\n",
       "      <td>No Deposit</td>\n",
       "      <td>0</td>\n",
       "      <td>Transient.Party</td>\n",
       "      <td>62.8</td>\n",
       "    </tr>\n",
       "  </tbody>\n",
       "</table>\n",
       "<p>5 rows × 34 columns</p>\n",
       "</div>"
      ],
      "text/plain": [
       "  ARRIVAL_DATE_TRANSFORMED RESERVATION_STATUS_DATE_TRANSFORMED       HOTEL  \\\n",
       "0               2021-07-16                          2020-10-17  City Hotel   \n",
       "1               2021-08-20                          2020-10-17  City Hotel   \n",
       "2               2021-07-02                          2020-10-17  City Hotel   \n",
       "3               2021-08-20                          2020-10-17  City Hotel   \n",
       "4               2021-07-23                          2020-10-17  City Hotel   \n",
       "\n",
       "   IS_CANCELED  LEAD_TIME  ARRIVAL_DATE_YEAR  MONTH  ARRIVAL_DATE_WEEK_NUMBER  \\\n",
       "0            1        272               2021      7                        29   \n",
       "1            1        307               2021      8                        34   \n",
       "2            1        258               2021      7                        27   \n",
       "3            1        307               2021      8                        34   \n",
       "4            1        279               2021      7                        30   \n",
       "\n",
       "   ARRIVAL_DATE_DAY_OF_MONTH EXPECTED_ARRIVAL_DATE  ... MARKET_SEGMENT  \\\n",
       "0                         16            16-07-2021  ...         Groups   \n",
       "1                         20            20-08-2021  ...         Groups   \n",
       "2                          2            02-07-2021  ...         Groups   \n",
       "3                         20            20-08-2021  ...         Groups   \n",
       "4                         23            23-07-2021  ...         Groups   \n",
       "\n",
       "  DISTRIBUTION_CHANNEL  PREVIOUS_CANCELLATIONS  \\\n",
       "0                TA/TO                       1   \n",
       "1                TA/TO                       1   \n",
       "2                TA/TO                       1   \n",
       "3                TA/TO                       1   \n",
       "4                TA/TO                       1   \n",
       "\n",
       "   PREVIOUS_BOOKINGS_NOT_CANCELED  RESERVED_ROOM_TYPE  ASSIGNED_ROOM_TYPE  \\\n",
       "0                               0                   A                   A   \n",
       "1                               0                   A                   A   \n",
       "2                               0                   A                   A   \n",
       "3                               0                   A                   A   \n",
       "4                               0                   A                   A   \n",
       "\n",
       "   DEPOSIT_TYPE  DAYS_IN_WAITING_LIST    CUSTOMER_TYPE   ADR  \n",
       "0    No Deposit                     0  Transient.Party  62.8  \n",
       "1    No Deposit                     0  Transient.Party  62.8  \n",
       "2    No Deposit                     0  Transient.Party  62.8  \n",
       "3    No Deposit                     0  Transient.Party  62.8  \n",
       "4    No Deposit                     0  Transient.Party  62.8  \n",
       "\n",
       "[5 rows x 34 columns]"
      ]
     },
     "execution_count": 12,
     "metadata": {},
     "output_type": "execute_result"
    }
   ],
   "source": [
    "data.head()"
   ]
  },
  {
   "cell_type": "code",
   "execution_count": 13,
   "id": "c42a9de5",
   "metadata": {
    "execution": {
     "iopub.execute_input": "2023-06-11T08:21:41.489308Z",
     "iopub.status.busy": "2023-06-11T08:21:41.488885Z",
     "iopub.status.idle": "2023-06-11T08:21:41.959788Z",
     "shell.execute_reply": "2023-06-11T08:21:41.958535Z"
    },
    "papermill": {
     "duration": 0.49378,
     "end_time": "2023-06-11T08:21:41.962442",
     "exception": false,
     "start_time": "2023-06-11T08:21:41.468662",
     "status": "completed"
    },
    "scrolled": true,
    "tags": []
   },
   "outputs": [
    {
     "name": "stdout",
     "output_type": "stream",
     "text": [
      "<class 'pandas.core.frame.DataFrame'>\n",
      "RangeIndex: 109711 entries, 0 to 109710\n",
      "Data columns (total 34 columns):\n",
      " #   Column                               Non-Null Count   Dtype  \n",
      "---  ------                               --------------   -----  \n",
      " 0   ARRIVAL_DATE_TRANSFORMED             109711 non-null  object \n",
      " 1   RESERVATION_STATUS_DATE_TRANSFORMED  109711 non-null  object \n",
      " 2   HOTEL                                109711 non-null  object \n",
      " 3   IS_CANCELED                          109711 non-null  int8   \n",
      " 4   LEAD_TIME                            109711 non-null  int16  \n",
      " 5   ARRIVAL_DATE_YEAR                    109711 non-null  int16  \n",
      " 6   MONTH                                109711 non-null  int8   \n",
      " 7   ARRIVAL_DATE_WEEK_NUMBER             109711 non-null  int8   \n",
      " 8   ARRIVAL_DATE_DAY_OF_MONTH            109711 non-null  int8   \n",
      " 9   EXPECTED_ARRIVAL_DATE                109711 non-null  object \n",
      " 10  RESERVATION_STATUS                   109711 non-null  object \n",
      " 11  RESERVATION_STATUS_DATE              109711 non-null  object \n",
      " 12  TOTAL_STAY_NIGHTS                    109711 non-null  int8   \n",
      " 13  TALLY_DAYS                           109711 non-null  float64\n",
      " 14  STAYS_IN_WEEKEND_NIGHTS              109711 non-null  int8   \n",
      " 15  STAYS_IN_WEEK_NIGHTS                 109711 non-null  int8   \n",
      " 16  ADULTS                               109711 non-null  int8   \n",
      " 17  CHILDREN                             109711 non-null  int8   \n",
      " 18  BABIES                               109711 non-null  int8   \n",
      " 19  TOTAL_GUESTS                         109711 non-null  int8   \n",
      " 20  AVG_ROOMS_PER_NIGHT                  109711 non-null  int8   \n",
      " 21  TOTAL_ROOM_NIGHTS                    109711 non-null  int8   \n",
      " 22  MEAL                                 109711 non-null  object \n",
      " 23  COUNTRY                              109711 non-null  object \n",
      " 24  MARKET_SEGMENT                       109711 non-null  object \n",
      " 25  DISTRIBUTION_CHANNEL                 109711 non-null  object \n",
      " 26  PREVIOUS_CANCELLATIONS               109711 non-null  int8   \n",
      " 27  PREVIOUS_BOOKINGS_NOT_CANCELED       109711 non-null  int8   \n",
      " 28  RESERVED_ROOM_TYPE                   109711 non-null  object \n",
      " 29  ASSIGNED_ROOM_TYPE                   109711 non-null  object \n",
      " 30  DEPOSIT_TYPE                         109711 non-null  object \n",
      " 31  DAYS_IN_WAITING_LIST                 109711 non-null  int16  \n",
      " 32  CUSTOMER_TYPE                        109711 non-null  object \n",
      " 33  ADR                                  109711 non-null  float64\n",
      "dtypes: float64(2), int16(3), int8(15), object(14)\n",
      "memory usage: 15.6+ MB\n"
     ]
    }
   ],
   "source": [
    "data.info()"
   ]
  },
  {
   "cell_type": "code",
   "execution_count": 5,
   "id": "55cc4e3e",
   "metadata": {
    "execution": {
     "iopub.execute_input": "2023-06-11T08:21:42.002683Z",
     "iopub.status.busy": "2023-06-11T08:21:42.002288Z",
     "iopub.status.idle": "2023-06-11T08:21:42.381715Z",
     "shell.execute_reply": "2023-06-11T08:21:42.380744Z"
    },
    "papermill": {
     "duration": 0.403008,
     "end_time": "2023-06-11T08:21:42.384171",
     "exception": false,
     "start_time": "2023-06-11T08:21:41.981163",
     "status": "completed"
    },
    "tags": []
   },
   "outputs": [
    {
     "data": {
      "text/html": [
       "<div>\n",
       "<style scoped>\n",
       "    .dataframe tbody tr th:only-of-type {\n",
       "        vertical-align: middle;\n",
       "    }\n",
       "\n",
       "    .dataframe tbody tr th {\n",
       "        vertical-align: top;\n",
       "    }\n",
       "\n",
       "    .dataframe thead th {\n",
       "        text-align: right;\n",
       "    }\n",
       "</style>\n",
       "<table border=\"1\" class=\"dataframe\">\n",
       "  <thead>\n",
       "    <tr style=\"text-align: right;\">\n",
       "      <th></th>\n",
       "      <th>hotel</th>\n",
       "      <th>is_canceled</th>\n",
       "      <th>lead_time</th>\n",
       "      <th>arrival_date_year</th>\n",
       "      <th>arrival_date_month</th>\n",
       "      <th>arrival_date_week_number</th>\n",
       "      <th>arrival_date_day_of_month</th>\n",
       "      <th>stays_in_weekend_nights</th>\n",
       "      <th>stays_in_week_nights</th>\n",
       "      <th>adults</th>\n",
       "      <th>...</th>\n",
       "      <th>agent</th>\n",
       "      <th>company</th>\n",
       "      <th>days_in_waiting_list</th>\n",
       "      <th>customer_type</th>\n",
       "      <th>adr</th>\n",
       "      <th>required_car_parking_spaces</th>\n",
       "      <th>total_of_special_requests</th>\n",
       "      <th>reservation_status</th>\n",
       "      <th>reservation_status_date</th>\n",
       "      <th>date</th>\n",
       "    </tr>\n",
       "  </thead>\n",
       "  <tbody>\n",
       "    <tr>\n",
       "      <th>0</th>\n",
       "      <td>Resort Hotel</td>\n",
       "      <td>0</td>\n",
       "      <td>342</td>\n",
       "      <td>2015</td>\n",
       "      <td>July</td>\n",
       "      <td>27</td>\n",
       "      <td>1</td>\n",
       "      <td>0</td>\n",
       "      <td>0</td>\n",
       "      <td>2</td>\n",
       "      <td>...</td>\n",
       "      <td>NaN</td>\n",
       "      <td>NaN</td>\n",
       "      <td>0</td>\n",
       "      <td>Transient</td>\n",
       "      <td>0.0</td>\n",
       "      <td>0</td>\n",
       "      <td>0</td>\n",
       "      <td>Check-Out</td>\n",
       "      <td>2015-07-01</td>\n",
       "      <td>2015-07-01</td>\n",
       "    </tr>\n",
       "    <tr>\n",
       "      <th>1</th>\n",
       "      <td>Resort Hotel</td>\n",
       "      <td>0</td>\n",
       "      <td>737</td>\n",
       "      <td>2015</td>\n",
       "      <td>July</td>\n",
       "      <td>27</td>\n",
       "      <td>1</td>\n",
       "      <td>0</td>\n",
       "      <td>0</td>\n",
       "      <td>2</td>\n",
       "      <td>...</td>\n",
       "      <td>NaN</td>\n",
       "      <td>NaN</td>\n",
       "      <td>0</td>\n",
       "      <td>Transient</td>\n",
       "      <td>0.0</td>\n",
       "      <td>0</td>\n",
       "      <td>0</td>\n",
       "      <td>Check-Out</td>\n",
       "      <td>2015-07-01</td>\n",
       "      <td>2015-07-01</td>\n",
       "    </tr>\n",
       "    <tr>\n",
       "      <th>2</th>\n",
       "      <td>Resort Hotel</td>\n",
       "      <td>0</td>\n",
       "      <td>7</td>\n",
       "      <td>2015</td>\n",
       "      <td>July</td>\n",
       "      <td>27</td>\n",
       "      <td>1</td>\n",
       "      <td>0</td>\n",
       "      <td>1</td>\n",
       "      <td>1</td>\n",
       "      <td>...</td>\n",
       "      <td>NaN</td>\n",
       "      <td>NaN</td>\n",
       "      <td>0</td>\n",
       "      <td>Transient</td>\n",
       "      <td>75.0</td>\n",
       "      <td>0</td>\n",
       "      <td>0</td>\n",
       "      <td>Check-Out</td>\n",
       "      <td>2015-07-02</td>\n",
       "      <td>2015-07-01</td>\n",
       "    </tr>\n",
       "    <tr>\n",
       "      <th>3</th>\n",
       "      <td>Resort Hotel</td>\n",
       "      <td>0</td>\n",
       "      <td>13</td>\n",
       "      <td>2015</td>\n",
       "      <td>July</td>\n",
       "      <td>27</td>\n",
       "      <td>1</td>\n",
       "      <td>0</td>\n",
       "      <td>1</td>\n",
       "      <td>1</td>\n",
       "      <td>...</td>\n",
       "      <td>304.0</td>\n",
       "      <td>NaN</td>\n",
       "      <td>0</td>\n",
       "      <td>Transient</td>\n",
       "      <td>75.0</td>\n",
       "      <td>0</td>\n",
       "      <td>0</td>\n",
       "      <td>Check-Out</td>\n",
       "      <td>2015-07-02</td>\n",
       "      <td>2015-07-01</td>\n",
       "    </tr>\n",
       "    <tr>\n",
       "      <th>4</th>\n",
       "      <td>Resort Hotel</td>\n",
       "      <td>0</td>\n",
       "      <td>14</td>\n",
       "      <td>2015</td>\n",
       "      <td>July</td>\n",
       "      <td>27</td>\n",
       "      <td>1</td>\n",
       "      <td>0</td>\n",
       "      <td>2</td>\n",
       "      <td>2</td>\n",
       "      <td>...</td>\n",
       "      <td>240.0</td>\n",
       "      <td>NaN</td>\n",
       "      <td>0</td>\n",
       "      <td>Transient</td>\n",
       "      <td>98.0</td>\n",
       "      <td>0</td>\n",
       "      <td>1</td>\n",
       "      <td>Check-Out</td>\n",
       "      <td>2015-07-03</td>\n",
       "      <td>2015-07-01</td>\n",
       "    </tr>\n",
       "  </tbody>\n",
       "</table>\n",
       "<p>5 rows × 33 columns</p>\n",
       "</div>"
      ],
      "text/plain": [
       "          hotel  is_canceled  lead_time  arrival_date_year arrival_date_month  \\\n",
       "0  Resort Hotel            0        342               2015               July   \n",
       "1  Resort Hotel            0        737               2015               July   \n",
       "2  Resort Hotel            0          7               2015               July   \n",
       "3  Resort Hotel            0         13               2015               July   \n",
       "4  Resort Hotel            0         14               2015               July   \n",
       "\n",
       "   arrival_date_week_number  arrival_date_day_of_month  \\\n",
       "0                        27                          1   \n",
       "1                        27                          1   \n",
       "2                        27                          1   \n",
       "3                        27                          1   \n",
       "4                        27                          1   \n",
       "\n",
       "   stays_in_weekend_nights  stays_in_week_nights  adults  ...  agent  company  \\\n",
       "0                        0                     0       2  ...    NaN      NaN   \n",
       "1                        0                     0       2  ...    NaN      NaN   \n",
       "2                        0                     1       1  ...    NaN      NaN   \n",
       "3                        0                     1       1  ...  304.0      NaN   \n",
       "4                        0                     2       2  ...  240.0      NaN   \n",
       "\n",
       "  days_in_waiting_list customer_type   adr required_car_parking_spaces  \\\n",
       "0                    0     Transient   0.0                           0   \n",
       "1                    0     Transient   0.0                           0   \n",
       "2                    0     Transient  75.0                           0   \n",
       "3                    0     Transient  75.0                           0   \n",
       "4                    0     Transient  98.0                           0   \n",
       "\n",
       "   total_of_special_requests  reservation_status  reservation_status_date  \\\n",
       "0                          0           Check-Out               2015-07-01   \n",
       "1                          0           Check-Out               2015-07-01   \n",
       "2                          0           Check-Out               2015-07-02   \n",
       "3                          0           Check-Out               2015-07-02   \n",
       "4                          1           Check-Out               2015-07-03   \n",
       "\n",
       "        date  \n",
       "0 2015-07-01  \n",
       "1 2015-07-01  \n",
       "2 2015-07-01  \n",
       "3 2015-07-01  \n",
       "4 2015-07-01  \n",
       "\n",
       "[5 rows x 33 columns]"
      ]
     },
     "execution_count": 5,
     "metadata": {},
     "output_type": "execute_result"
    }
   ],
   "source": [
    "#lets create a arrival date column(Changed as date is alrea)\n",
    "data['date'] = pd.to_datetime(data['arrival_date_year'].astype(str) + '-' + data['MONTH'] + '-' + data['arrival_date_day_of_month'].astype(str))\n",
    "data.head()"
   ]
  },
  {
   "cell_type": "code",
   "execution_count": null,
   "id": "b4f9595e",
   "metadata": {},
   "outputs": [],
   "source": []
  },
  {
   "cell_type": "markdown",
   "id": "25b1f07a",
   "metadata": {
    "papermill": {
     "duration": 0.019062,
     "end_time": "2023-06-11T08:21:42.422495",
     "exception": false,
     "start_time": "2023-06-11T08:21:42.403433",
     "status": "completed"
    },
    "tags": []
   },
   "source": [
    "For our problem, we are only interested in bookings that actually stayed. Therefore let's explore the `is_canceled` column and remove any canceled booking as well as any `no-show` reservation."
   ]
  },
  {
   "cell_type": "code",
   "execution_count": 6,
   "id": "ee913fa8",
   "metadata": {
    "execution": {
     "iopub.execute_input": "2023-06-11T08:21:42.462372Z",
     "iopub.status.busy": "2023-06-11T08:21:42.462010Z",
     "iopub.status.idle": "2023-06-11T08:21:42.470553Z",
     "shell.execute_reply": "2023-06-11T08:21:42.469830Z"
    },
    "papermill": {
     "duration": 0.031068,
     "end_time": "2023-06-11T08:21:42.472578",
     "exception": false,
     "start_time": "2023-06-11T08:21:42.441510",
     "status": "completed"
    },
    "scrolled": true,
    "tags": []
   },
   "outputs": [
    {
     "data": {
      "text/plain": [
       "0    75166\n",
       "1    44224\n",
       "Name: is_canceled, dtype: int64"
      ]
     },
     "execution_count": 6,
     "metadata": {},
     "output_type": "execute_result"
    }
   ],
   "source": [
    "data['is_canceled'].value_counts()"
   ]
  },
  {
   "cell_type": "code",
   "execution_count": 7,
   "id": "4a8d5f3c",
   "metadata": {
    "execution": {
     "iopub.execute_input": "2023-06-11T08:21:42.512510Z",
     "iopub.status.busy": "2023-06-11T08:21:42.512138Z",
     "iopub.status.idle": "2023-06-11T08:21:42.541732Z",
     "shell.execute_reply": "2023-06-11T08:21:42.540600Z"
    },
    "papermill": {
     "duration": 0.052574,
     "end_time": "2023-06-11T08:21:42.544280",
     "exception": false,
     "start_time": "2023-06-11T08:21:42.491706",
     "status": "completed"
    },
    "tags": []
   },
   "outputs": [
    {
     "data": {
      "text/plain": [
       "Check-Out    75166\n",
       "Canceled     43017\n",
       "No-Show       1207\n",
       "Name: reservation_status, dtype: int64"
      ]
     },
     "execution_count": 7,
     "metadata": {},
     "output_type": "execute_result"
    }
   ],
   "source": [
    "data['reservation_status'].value_counts()"
   ]
  },
  {
   "cell_type": "code",
   "execution_count": 8,
   "id": "23fbf042",
   "metadata": {
    "execution": {
     "iopub.execute_input": "2023-06-11T08:21:42.585260Z",
     "iopub.status.busy": "2023-06-11T08:21:42.584405Z",
     "iopub.status.idle": "2023-06-11T08:21:42.630502Z",
     "shell.execute_reply": "2023-06-11T08:21:42.629471Z"
    },
    "papermill": {
     "duration": 0.069219,
     "end_time": "2023-06-11T08:21:42.632813",
     "exception": false,
     "start_time": "2023-06-11T08:21:42.563594",
     "status": "completed"
    },
    "tags": []
   },
   "outputs": [
    {
     "data": {
      "text/plain": [
       "0    75166\n",
       "Name: is_canceled, dtype: int64"
      ]
     },
     "execution_count": 8,
     "metadata": {},
     "output_type": "execute_result"
    }
   ],
   "source": [
    "# make a copy for exploration\n",
    "df = data[(data['is_canceled'] == 0) & (data['reservation_status'] !='No-Show')] \n",
    "\n",
    "df['is_canceled'].value_counts()"
   ]
  },
  {
   "cell_type": "markdown",
   "id": "52782320",
   "metadata": {
    "papermill": {
     "duration": 0.018978,
     "end_time": "2023-06-11T08:21:42.671257",
     "exception": false,
     "start_time": "2023-06-11T08:21:42.652279",
     "status": "completed"
    },
    "tags": []
   },
   "source": [
    "\n",
    "### Simplifying the problem\n",
    "\n",
    "As this workbook aims to demystify the capacity control model and provide you with a simplified approach that can be readily implemented, we will make some assumptions to simplify the problem.\n",
    "\n",
    ">Ignore the length of stay by assuming all arrivals are for one night only \n",
    "\n",
    ">Look only at Transient vs Group\n",
    "\n",
    "In another workbook, we will expand the optimization to account for different lengths of stays and more segments\n",
    "\n"
   ]
  },
  {
   "cell_type": "code",
   "execution_count": 9,
   "id": "43f88806",
   "metadata": {
    "execution": {
     "iopub.execute_input": "2023-06-11T08:21:42.712255Z",
     "iopub.status.busy": "2023-06-11T08:21:42.711639Z",
     "iopub.status.idle": "2023-06-11T08:21:42.729218Z",
     "shell.execute_reply": "2023-06-11T08:21:42.728084Z"
    },
    "papermill": {
     "duration": 0.04102,
     "end_time": "2023-06-11T08:21:42.731476",
     "exception": false,
     "start_time": "2023-06-11T08:21:42.690456",
     "status": "completed"
    },
    "tags": []
   },
   "outputs": [
    {
     "data": {
      "text/html": [
       "<div>\n",
       "<style scoped>\n",
       "    .dataframe tbody tr th:only-of-type {\n",
       "        vertical-align: middle;\n",
       "    }\n",
       "\n",
       "    .dataframe tbody tr th {\n",
       "        vertical-align: top;\n",
       "    }\n",
       "\n",
       "    .dataframe thead th {\n",
       "        text-align: right;\n",
       "    }\n",
       "</style>\n",
       "<table border=\"1\" class=\"dataframe\">\n",
       "  <thead>\n",
       "    <tr style=\"text-align: right;\">\n",
       "      <th></th>\n",
       "      <th>hotel</th>\n",
       "      <th>date</th>\n",
       "      <th>market_segment</th>\n",
       "      <th>adr</th>\n",
       "    </tr>\n",
       "  </thead>\n",
       "  <tbody>\n",
       "    <tr>\n",
       "      <th>0</th>\n",
       "      <td>Resort Hotel</td>\n",
       "      <td>2015-07-01</td>\n",
       "      <td>Direct</td>\n",
       "      <td>0.0</td>\n",
       "    </tr>\n",
       "    <tr>\n",
       "      <th>1</th>\n",
       "      <td>Resort Hotel</td>\n",
       "      <td>2015-07-01</td>\n",
       "      <td>Direct</td>\n",
       "      <td>0.0</td>\n",
       "    </tr>\n",
       "    <tr>\n",
       "      <th>2</th>\n",
       "      <td>Resort Hotel</td>\n",
       "      <td>2015-07-01</td>\n",
       "      <td>Direct</td>\n",
       "      <td>75.0</td>\n",
       "    </tr>\n",
       "    <tr>\n",
       "      <th>3</th>\n",
       "      <td>Resort Hotel</td>\n",
       "      <td>2015-07-01</td>\n",
       "      <td>Corporate</td>\n",
       "      <td>75.0</td>\n",
       "    </tr>\n",
       "    <tr>\n",
       "      <th>4</th>\n",
       "      <td>Resort Hotel</td>\n",
       "      <td>2015-07-01</td>\n",
       "      <td>Online TA</td>\n",
       "      <td>98.0</td>\n",
       "    </tr>\n",
       "  </tbody>\n",
       "</table>\n",
       "</div>"
      ],
      "text/plain": [
       "          hotel       date market_segment   adr\n",
       "0  Resort Hotel 2015-07-01         Direct   0.0\n",
       "1  Resort Hotel 2015-07-01         Direct   0.0\n",
       "2  Resort Hotel 2015-07-01         Direct  75.0\n",
       "3  Resort Hotel 2015-07-01      Corporate  75.0\n",
       "4  Resort Hotel 2015-07-01      Online TA  98.0"
      ]
     },
     "execution_count": 9,
     "metadata": {},
     "output_type": "execute_result"
    }
   ],
   "source": [
    "#Selecting columns needed for our model\n",
    "df = df[['hotel','date','market_segment','adr']]\n",
    "\n",
    "df.head()"
   ]
  },
  {
   "cell_type": "code",
   "execution_count": 10,
   "id": "0d0ccd0a",
   "metadata": {
    "execution": {
     "iopub.execute_input": "2023-06-11T08:21:42.774082Z",
     "iopub.status.busy": "2023-06-11T08:21:42.773413Z",
     "iopub.status.idle": "2023-06-11T08:21:42.793963Z",
     "shell.execute_reply": "2023-06-11T08:21:42.792862Z"
    },
    "papermill": {
     "duration": 0.044486,
     "end_time": "2023-06-11T08:21:42.796219",
     "exception": false,
     "start_time": "2023-06-11T08:21:42.751733",
     "status": "completed"
    },
    "tags": []
   },
   "outputs": [
    {
     "data": {
      "text/plain": [
       "City Hotel      46228\n",
       "Resort Hotel    28938\n",
       "Name: hotel, dtype: int64"
      ]
     },
     "execution_count": 10,
     "metadata": {},
     "output_type": "execute_result"
    }
   ],
   "source": [
    "df.hotel.value_counts()"
   ]
  },
  {
   "cell_type": "markdown",
   "id": "d6e7b885",
   "metadata": {
    "papermill": {
     "duration": 0.019364,
     "end_time": "2023-06-11T08:21:42.835331",
     "exception": false,
     "start_time": "2023-06-11T08:21:42.815967",
     "status": "completed"
    },
    "tags": []
   },
   "source": [
    "Before we continue, lets separate the data into `city` and `resort'"
   ]
  },
  {
   "cell_type": "code",
   "execution_count": 11,
   "id": "0faa90fa",
   "metadata": {
    "execution": {
     "iopub.execute_input": "2023-06-11T08:21:42.876590Z",
     "iopub.status.busy": "2023-06-11T08:21:42.875972Z",
     "iopub.status.idle": "2023-06-11T08:21:42.915266Z",
     "shell.execute_reply": "2023-06-11T08:21:42.913877Z"
    },
    "papermill": {
     "duration": 0.063209,
     "end_time": "2023-06-11T08:21:42.918064",
     "exception": false,
     "start_time": "2023-06-11T08:21:42.854855",
     "status": "completed"
    },
    "tags": []
   },
   "outputs": [],
   "source": [
    "city = df[df.hotel=='City Hotel'].iloc[:,1:].reset_index(drop=True)\n",
    "resort = df[df.hotel=='Resort Hotel'].iloc[:,1:].reset_index(drop=True)"
   ]
  },
  {
   "cell_type": "code",
   "execution_count": 12,
   "id": "303bc2d7",
   "metadata": {
    "execution": {
     "iopub.execute_input": "2023-06-11T08:21:42.959959Z",
     "iopub.status.busy": "2023-06-11T08:21:42.959316Z",
     "iopub.status.idle": "2023-06-11T08:21:42.970250Z",
     "shell.execute_reply": "2023-06-11T08:21:42.969274Z"
    },
    "papermill": {
     "duration": 0.034351,
     "end_time": "2023-06-11T08:21:42.972289",
     "exception": false,
     "start_time": "2023-06-11T08:21:42.937938",
     "status": "completed"
    },
    "tags": []
   },
   "outputs": [
    {
     "data": {
      "text/html": [
       "<div>\n",
       "<style scoped>\n",
       "    .dataframe tbody tr th:only-of-type {\n",
       "        vertical-align: middle;\n",
       "    }\n",
       "\n",
       "    .dataframe tbody tr th {\n",
       "        vertical-align: top;\n",
       "    }\n",
       "\n",
       "    .dataframe thead th {\n",
       "        text-align: right;\n",
       "    }\n",
       "</style>\n",
       "<table border=\"1\" class=\"dataframe\">\n",
       "  <thead>\n",
       "    <tr style=\"text-align: right;\">\n",
       "      <th></th>\n",
       "      <th>date</th>\n",
       "      <th>market_segment</th>\n",
       "      <th>adr</th>\n",
       "    </tr>\n",
       "  </thead>\n",
       "  <tbody>\n",
       "    <tr>\n",
       "      <th>0</th>\n",
       "      <td>2015-07-01</td>\n",
       "      <td>Offline TA/TO</td>\n",
       "      <td>0.00</td>\n",
       "    </tr>\n",
       "    <tr>\n",
       "      <th>1</th>\n",
       "      <td>2015-07-02</td>\n",
       "      <td>Groups</td>\n",
       "      <td>58.67</td>\n",
       "    </tr>\n",
       "    <tr>\n",
       "      <th>2</th>\n",
       "      <td>2015-07-03</td>\n",
       "      <td>Groups</td>\n",
       "      <td>86.00</td>\n",
       "    </tr>\n",
       "    <tr>\n",
       "      <th>3</th>\n",
       "      <td>2015-07-03</td>\n",
       "      <td>Groups</td>\n",
       "      <td>43.00</td>\n",
       "    </tr>\n",
       "    <tr>\n",
       "      <th>4</th>\n",
       "      <td>2015-07-03</td>\n",
       "      <td>Groups</td>\n",
       "      <td>86.00</td>\n",
       "    </tr>\n",
       "  </tbody>\n",
       "</table>\n",
       "</div>"
      ],
      "text/plain": [
       "        date market_segment    adr\n",
       "0 2015-07-01  Offline TA/TO   0.00\n",
       "1 2015-07-02         Groups  58.67\n",
       "2 2015-07-03         Groups  86.00\n",
       "3 2015-07-03         Groups  43.00\n",
       "4 2015-07-03         Groups  86.00"
      ]
     },
     "execution_count": 12,
     "metadata": {},
     "output_type": "execute_result"
    }
   ],
   "source": [
    "city.head()"
   ]
  },
  {
   "cell_type": "markdown",
   "id": "c42d3edd",
   "metadata": {
    "papermill": {
     "duration": 0.021025,
     "end_time": "2023-06-11T08:21:43.013231",
     "exception": false,
     "start_time": "2023-06-11T08:21:42.992206",
     "status": "completed"
    },
    "tags": []
   },
   "source": [
    "### Exploring the City Hotel data\n",
    "\n",
    "In the next steps we will explore the city hotel segmentation data.\n",
    "\n",
    "If we think back to our story, we established that the excessive reliance on group bookings prevented the hotel from capturing other lucrative market segments.\n",
    "\n",
    "Let's look at ADR by Segment to see if indeed Group ADR is lower than other segments\n",
    "\n"
   ]
  },
  {
   "cell_type": "code",
   "execution_count": 13,
   "id": "64596da7",
   "metadata": {
    "execution": {
     "iopub.execute_input": "2023-06-11T08:21:43.055862Z",
     "iopub.status.busy": "2023-06-11T08:21:43.055459Z",
     "iopub.status.idle": "2023-06-11T08:21:43.069375Z",
     "shell.execute_reply": "2023-06-11T08:21:43.068360Z"
    },
    "papermill": {
     "duration": 0.038545,
     "end_time": "2023-06-11T08:21:43.072006",
     "exception": false,
     "start_time": "2023-06-11T08:21:43.033461",
     "status": "completed"
    },
    "tags": []
   },
   "outputs": [],
   "source": [
    "# Create a dictionary mapping child product names to their parent product names\n",
    "parent_product_mapping = { 'Groups': 'Group'}\n",
    "\n",
    "\n",
    "# Create a new column 'Parent Product' based on the mapping\n",
    "city['Segment'] = np.where(city['market_segment'].isin(parent_product_mapping.keys()),\n",
    "                                city['market_segment'].map(parent_product_mapping),\n",
    "                                'Transient')\n",
    "\n",
    "\n",
    "grouped_data = city.groupby('Segment')"
   ]
  },
  {
   "cell_type": "code",
   "execution_count": 14,
   "id": "bd70def9",
   "metadata": {
    "execution": {
     "iopub.execute_input": "2023-06-11T08:21:43.114843Z",
     "iopub.status.busy": "2023-06-11T08:21:43.114416Z",
     "iopub.status.idle": "2023-06-11T08:21:43.131127Z",
     "shell.execute_reply": "2023-06-11T08:21:43.129841Z"
    },
    "papermill": {
     "duration": 0.041114,
     "end_time": "2023-06-11T08:21:43.133314",
     "exception": false,
     "start_time": "2023-06-11T08:21:43.092200",
     "status": "completed"
    },
    "tags": []
   },
   "outputs": [
    {
     "name": "stdout",
     "output_type": "stream",
     "text": [
      "           Total Arrivals         ADR\n",
      "Segment                              \n",
      "Group                4352   84.343787\n",
      "Transient           41876  107.970187\n"
     ]
    }
   ],
   "source": [
    "total_transactions = grouped_data.size()\n",
    "\n",
    "# Calculate the ADR per segment\n",
    "average_price = grouped_data['adr'].mean()\n",
    "\n",
    "# Create a summary dataframe\n",
    "summary_df = pd.DataFrame({'Total Arrivals': total_transactions, 'ADR': average_price})\n",
    "\n",
    "print(summary_df)"
   ]
  },
  {
   "cell_type": "markdown",
   "id": "a5e64014",
   "metadata": {
    "papermill": {
     "duration": 0.020755,
     "end_time": "2023-06-11T08:21:43.174274",
     "exception": false,
     "start_time": "2023-06-11T08:21:43.153519",
     "status": "completed"
    },
    "tags": []
   },
   "source": [
    "From the table above we can indeed see that the group segment has a lower ADR than Transient.\n",
    "\n",
    "Therefore this hotel will greatly benefit from implementing capacity control model to ensure there are enough rooms to sell to our higher paying transient guest.\n",
    "\n",
    "So far we have only looked at aggregate data, however hotels tend to have very distinct seasonality.\n",
    "The next part of our exploration will be on the hotel seasonality\n",
    "\n",
    "### Exploring Seasonality"
   ]
  },
  {
   "cell_type": "markdown",
   "id": "ea64f818",
   "metadata": {
    "papermill": {
     "duration": 0.019588,
     "end_time": "2023-06-11T08:21:43.213858",
     "exception": false,
     "start_time": "2023-06-11T08:21:43.194270",
     "status": "completed"
    },
    "tags": []
   },
   "source": [
    "Before we can implement our Capacity control model, we need to explore the arrival data.\n",
    "Particularly, we are interested in identifying the different seasonality and the shape of the distributions for those seasonality"
   ]
  },
  {
   "cell_type": "code",
   "execution_count": 15,
   "id": "fd8db95a",
   "metadata": {
    "execution": {
     "iopub.execute_input": "2023-06-11T08:21:43.256688Z",
     "iopub.status.busy": "2023-06-11T08:21:43.255716Z",
     "iopub.status.idle": "2023-06-11T08:21:43.281137Z",
     "shell.execute_reply": "2023-06-11T08:21:43.279879Z"
    },
    "papermill": {
     "duration": 0.049756,
     "end_time": "2023-06-11T08:21:43.283484",
     "exception": false,
     "start_time": "2023-06-11T08:21:43.233728",
     "status": "completed"
    },
    "tags": []
   },
   "outputs": [
    {
     "name": "stdout",
     "output_type": "stream",
     "text": [
      "<class 'pandas.core.frame.DataFrame'>\n",
      "RangeIndex: 1043 entries, 0 to 1042\n",
      "Data columns (total 3 columns):\n",
      " #   Column        Non-Null Count  Dtype         \n",
      "---  ------        --------------  -----         \n",
      " 0   date          1043 non-null   datetime64[ns]\n",
      " 1   Segment       1043 non-null   object        \n",
      " 2   num_arrivals  1043 non-null   int64         \n",
      "dtypes: datetime64[ns](1), int64(1), object(1)\n",
      "memory usage: 24.6+ KB\n"
     ]
    }
   ],
   "source": [
    "# grouping by arrival data and segment to get total arrival for each day\n",
    "\n",
    "city_arrivals =city.groupby(['date','Segment']).size().reset_index(name='num_arrivals')\n",
    "#city_arrivals.set_index('date',inplace=True)\n",
    "city_arrivals.info()\n"
   ]
  },
  {
   "cell_type": "code",
   "execution_count": 16,
   "id": "40bf11d5",
   "metadata": {
    "execution": {
     "iopub.execute_input": "2023-06-11T08:21:43.325859Z",
     "iopub.status.busy": "2023-06-11T08:21:43.325459Z",
     "iopub.status.idle": "2023-06-11T08:21:43.342563Z",
     "shell.execute_reply": "2023-06-11T08:21:43.341689Z"
    },
    "papermill": {
     "duration": 0.040782,
     "end_time": "2023-06-11T08:21:43.344613",
     "exception": false,
     "start_time": "2023-06-11T08:21:43.303831",
     "status": "completed"
    },
    "tags": []
   },
   "outputs": [],
   "source": [
    "#Create Month and DOW column for trend visualization\n",
    "city_arrivals['month'] = city_arrivals['date'].dt.strftime('%B')\n",
    "city_arrivals['day_of_week'] = city_arrivals['date'].dt.dayofweek\n",
    "city_arrivals['weekday_weekend'] = city_arrivals['day_of_week'].apply(lambda x: 'Weekend' if x >= 5 else 'Weekday')"
   ]
  },
  {
   "cell_type": "code",
   "execution_count": 17,
   "id": "9e438741",
   "metadata": {
    "execution": {
     "iopub.execute_input": "2023-06-11T08:21:43.387422Z",
     "iopub.status.busy": "2023-06-11T08:21:43.386698Z",
     "iopub.status.idle": "2023-06-11T08:21:43.394968Z",
     "shell.execute_reply": "2023-06-11T08:21:43.394194Z"
    },
    "papermill": {
     "duration": 0.032263,
     "end_time": "2023-06-11T08:21:43.397268",
     "exception": false,
     "start_time": "2023-06-11T08:21:43.365005",
     "status": "completed"
    },
    "tags": []
   },
   "outputs": [],
   "source": [
    "#Group the data by month and segment and calculate the Avg number of arrivals in each month-segment combination:\n",
    "monthly_segment_df = city_arrivals.groupby(['month', 'weekday_weekend','Segment'])['num_arrivals'].mean().reset_index()\n"
   ]
  },
  {
   "cell_type": "code",
   "execution_count": 18,
   "id": "ff3c491a",
   "metadata": {
    "execution": {
     "iopub.execute_input": "2023-06-11T08:21:43.440000Z",
     "iopub.status.busy": "2023-06-11T08:21:43.439324Z",
     "iopub.status.idle": "2023-06-11T08:21:43.449688Z",
     "shell.execute_reply": "2023-06-11T08:21:43.448937Z"
    },
    "papermill": {
     "duration": 0.033921,
     "end_time": "2023-06-11T08:21:43.451727",
     "exception": false,
     "start_time": "2023-06-11T08:21:43.417806",
     "status": "completed"
    },
    "scrolled": true,
    "tags": []
   },
   "outputs": [
    {
     "data": {
      "text/html": [
       "<div>\n",
       "<style scoped>\n",
       "    .dataframe tbody tr th:only-of-type {\n",
       "        vertical-align: middle;\n",
       "    }\n",
       "\n",
       "    .dataframe tbody tr th {\n",
       "        vertical-align: top;\n",
       "    }\n",
       "\n",
       "    .dataframe thead th {\n",
       "        text-align: right;\n",
       "    }\n",
       "</style>\n",
       "<table border=\"1\" class=\"dataframe\">\n",
       "  <thead>\n",
       "    <tr style=\"text-align: right;\">\n",
       "      <th></th>\n",
       "      <th>month</th>\n",
       "      <th>weekday_weekend</th>\n",
       "      <th>Segment</th>\n",
       "      <th>num_arrivals</th>\n",
       "    </tr>\n",
       "  </thead>\n",
       "  <tbody>\n",
       "    <tr>\n",
       "      <th>0</th>\n",
       "      <td>April</td>\n",
       "      <td>Weekday</td>\n",
       "      <td>Group</td>\n",
       "      <td>16.642857</td>\n",
       "    </tr>\n",
       "    <tr>\n",
       "      <th>1</th>\n",
       "      <td>April</td>\n",
       "      <td>Weekday</td>\n",
       "      <td>Transient</td>\n",
       "      <td>64.317073</td>\n",
       "    </tr>\n",
       "    <tr>\n",
       "      <th>2</th>\n",
       "      <td>April</td>\n",
       "      <td>Weekend</td>\n",
       "      <td>Group</td>\n",
       "      <td>8.285714</td>\n",
       "    </tr>\n",
       "    <tr>\n",
       "      <th>3</th>\n",
       "      <td>April</td>\n",
       "      <td>Weekend</td>\n",
       "      <td>Transient</td>\n",
       "      <td>57.210526</td>\n",
       "    </tr>\n",
       "    <tr>\n",
       "      <th>4</th>\n",
       "      <td>August</td>\n",
       "      <td>Weekday</td>\n",
       "      <td>Group</td>\n",
       "      <td>17.600000</td>\n",
       "    </tr>\n",
       "  </tbody>\n",
       "</table>\n",
       "</div>"
      ],
      "text/plain": [
       "    month weekday_weekend    Segment  num_arrivals\n",
       "0   April         Weekday      Group     16.642857\n",
       "1   April         Weekday  Transient     64.317073\n",
       "2   April         Weekend      Group      8.285714\n",
       "3   April         Weekend  Transient     57.210526\n",
       "4  August         Weekday      Group     17.600000"
      ]
     },
     "execution_count": 18,
     "metadata": {},
     "output_type": "execute_result"
    }
   ],
   "source": [
    "monthly_segment_df.head()"
   ]
  },
  {
   "cell_type": "code",
   "execution_count": 19,
   "id": "614d9e12",
   "metadata": {
    "execution": {
     "iopub.execute_input": "2023-06-11T08:21:43.495616Z",
     "iopub.status.busy": "2023-06-11T08:21:43.494936Z",
     "iopub.status.idle": "2023-06-11T08:21:44.539947Z",
     "shell.execute_reply": "2023-06-11T08:21:44.539058Z"
    },
    "papermill": {
     "duration": 1.070199,
     "end_time": "2023-06-11T08:21:44.542684",
     "exception": false,
     "start_time": "2023-06-11T08:21:43.472485",
     "status": "completed"
    },
    "tags": []
   },
   "outputs": [
    {
     "data": {
      "image/png": "[encoded data removed]",
      "text/plain": [
       "<Figure size 1600x800 with 1 Axes>"
      ]
     },
     "metadata": {},
     "output_type": "display_data"
    }
   ],
   "source": [
    "# Map month names to month numbers for sorting\n",
    "month_order = {\n",
    "    'January': 1,\n",
    "    'February': 2,\n",
    "    'March': 3,\n",
    "    'April': 4,\n",
    "    'May': 5,\n",
    "    'June': 6,\n",
    "    'July': 7,\n",
    "    'August': 8,\n",
    "    'September': 9,\n",
    "    'October': 10,\n",
    "    'November': 11,\n",
    "    'December': 12\n",
    "}\n",
    "\n",
    "monthly_segment_df['month'] = pd.Categorical(monthly_segment_df['month'], categories=month_order.keys(), ordered=True)\n",
    "monthly_segment_df = monthly_segment_df.sort_values('month')\n",
    "\n",
    "# Pivot the dataframe to have separate columns for each segment and weekday/weekend\n",
    "pivot_df = monthly_segment_df.pivot(index='month', columns=['weekday_weekend', 'Segment'], values='num_arrivals')\n",
    "\n",
    "# Reorder the columns to have the desired order\n",
    "pivot_df = pivot_df.reorder_levels([1, 0], axis=1).sort_index(axis=1)\n",
    "\n",
    "# Plot the bar chart\n",
    "fig, ax = plt.subplots(figsize=(16, 8))\n",
    "\n",
    "pivot_df.plot(kind='bar', ax=ax, width =0.8)\n",
    "\n",
    "# Set labels and title\n",
    "ax.set_xlabel('Month')\n",
    "ax.set_ylabel('Number of Arrivals')\n",
    "ax.set_title('Monthly Trends by Segment and Weekday/Weekend')\n",
    "\n",
    "# Set legend\n",
    "ax.legend(title='Segment, Weekday/Weekend')\n",
    "for container in ax.containers:\n",
    "    ax.bar_label(container)\n",
    "\n",
    "plt.tight_layout()\n",
    "plt.show()\n",
    "\n",
    "\n"
   ]
  },
  {
   "cell_type": "markdown",
   "id": "1f69c817",
   "metadata": {
    "papermill": {
     "duration": 0.024631,
     "end_time": "2023-06-11T08:21:44.590583",
     "exception": false,
     "start_time": "2023-06-11T08:21:44.565952",
     "status": "completed"
    },
    "tags": []
   },
   "source": [
    "\n",
    "We see that Transient and group have different demand patterns.\n",
    "\n",
    "**Transient** arrivals generally are stronger on the weekdays, except in February and July. We can also see that Transient arrivals peak in May - June and Sept - October, representing this hotel's peak demand period. On the contrary, the low season span from November to January.\n",
    "\n",
    "**Group** arrivals do not have a clear Yearly seasonality. There seem to be some extreme values in December.\n",
    "\n",
    "With the above information, we could already make a better mental model; the hotel could have fewer rooms set aside for transients from November to Jan, and increase the number of rooms during the peak season.\n",
    "\n",
    "However, as we have seen, mental models are biased; therefore, we going to use probability theory, and to do so, we need to explore the distribution of the data.\n",
    "\n",
    "\n",
    "Next we will explore the distributions\n",
    "\n",
    "###  Transient arrival distribution\n",
    "\n",
    "We have determined that to make a capacity control model, we need to be able to calculate the probability of any number of rooms being sold to transients.\n",
    "\n",
    "To calculate those probabilities, we need to study the shape of the distribution.\n",
    "\n",
    "Typically, in many problems, a normal distribution is assumed due to its well-defined characteristics based on mean and standard deviation, and its prevalence in various scenarios.\n",
    "\n",
    "However, there is a potential issue with using a normal distribution in our case. The normal distribution does not have a lower or upper limit, which could lead to the possibility of negative arrivals. It is known that the number of arrivals cannot be negative.\n",
    "\n",
    "Nevertheless, let us analyze the data and assess whether it conforms to a normal distribution. To accomplish this, we will plot the distribution of arrivals and conduct the Shapiro-Wilk test, which is a statistical test used to evaluate the normality of a dataset.\n"
   ]
  },
  {
   "cell_type": "code",
   "execution_count": 20,
   "id": "ae4dde71",
   "metadata": {
    "execution": {
     "iopub.execute_input": "2023-06-11T08:21:44.638088Z",
     "iopub.status.busy": "2023-06-11T08:21:44.637264Z",
     "iopub.status.idle": "2023-06-11T08:21:45.164440Z",
     "shell.execute_reply": "2023-06-11T08:21:45.163169Z"
    },
    "papermill": {
     "duration": 0.553929,
     "end_time": "2023-06-11T08:21:45.167117",
     "exception": false,
     "start_time": "2023-06-11T08:21:44.613188",
     "status": "completed"
    },
    "scrolled": true,
    "tags": []
   },
   "outputs": [
    {
     "data": {
      "image/png": "[encoded data removed]",
      "text/plain": [
       "<Figure size 800x600 with 1 Axes>"
      ]
     },
     "metadata": {},
     "output_type": "display_data"
    }
   ],
   "source": [
    "df_transient_january = city_arrivals[(city_arrivals['Segment'] == 'Transient') & (city_arrivals['month'] == 'January') &(city_arrivals['weekday_weekend'] == 'Weekday')]\n",
    "\n",
    "\n",
    "statistic, p_value = shapiro(df_transient_january ['num_arrivals'])\n",
    "\n",
    "\n",
    "fig, ax = plt.subplots(figsize=(8, 6))\n",
    "sns.histplot(data=df_transient_january , x='num_arrivals', bins=10, kde=True, ax=ax)\n",
    "\n",
    "# Set labels and title\n",
    "ax.set_xlabel('Number of Transient Arrivals')\n",
    "ax.set_ylabel('Frequency')\n",
    "ax.set_title('Distribution of Transient Arrivals on Weekdays in January')\n",
    "\n",
    "\n",
    "# Add text annotation for normality test result\n",
    "if p_value > 0.05:\n",
    "    ax.text(0.5, 0.9, 'Normal Distribution', transform=ax.transAxes, ha='center', va='center', fontsize=12, color='green')\n",
    "else:\n",
    "    ax.text(0.5, 0.9, 'Non-Normal Distribution', transform=ax.transAxes, ha='center', va='center', fontsize=12, color='red')\n",
    "\n",
    "plt.tight_layout()\n",
    "plt.show()"
   ]
  },
  {
   "cell_type": "markdown",
   "id": "6f1f6ac9",
   "metadata": {
    "papermill": {
     "duration": 0.026928,
     "end_time": "2023-06-11T08:21:45.217036",
     "exception": false,
     "start_time": "2023-06-11T08:21:45.190108",
     "status": "completed"
    },
    "tags": []
   },
   "source": [
    "As we can see from the shape of the distribution and the results of the Shapiro-Wilk test, the arrival data is not normally distributed. Instead the data seems to be skewed to the right.\n",
    "\n",
    "Given that the normal distribution is not suitable for our problem, an alternative approach is to explore the Gamma Distribution.\n",
    "\n",
    "The Gamma distribution is a widely recognized probability distribution that is often employed to model positive-valued data with a right-skew. One of the primary advantages of the Gamma distribution is its flexibility in fitting the shape of the data.\n"
   ]
  },
  {
   "cell_type": "code",
   "execution_count": 21,
   "id": "7ea0a869",
   "metadata": {
    "execution": {
     "iopub.execute_input": "2023-06-11T08:21:45.265243Z",
     "iopub.status.busy": "2023-06-11T08:21:45.264864Z",
     "iopub.status.idle": "2023-06-11T08:21:45.861991Z",
     "shell.execute_reply": "2023-06-11T08:21:45.860794Z"
    },
    "papermill": {
     "duration": 0.624353,
     "end_time": "2023-06-11T08:21:45.864768",
     "exception": false,
     "start_time": "2023-06-11T08:21:45.240415",
     "status": "completed"
    },
    "tags": []
   },
   "outputs": [
    {
     "data": {
      "image/png": "[encoded data removed]",
      "text/plain": [
       "<Figure size 800x600 with 1 Axes>"
      ]
     },
     "metadata": {},
     "output_type": "display_data"
    }
   ],
   "source": [
    "\n",
    "# Fit gamma distribution to the data\n",
    "shape, loc, scale = gamma.fit(df_transient_january['num_arrivals'])\n",
    "\n",
    "# Generate values from the fitted gamma distribution\n",
    "x = range(0, int(df_transient_january['num_arrivals'].max()) + 1)\n",
    "y = gamma.pdf(x, shape, loc, scale)\n",
    "\n",
    "# Plot the histogram and fitted gamma distribution\n",
    "fig, ax = plt.subplots(figsize=(8, 6))\n",
    "sns.histplot(data=df_transient_january, x='num_arrivals', bins=10, kde=True, ax=ax, stat='density')\n",
    "ax.plot(x, y, 'r-', lw=2, label='Gamma Distribution')\n",
    "\n",
    "# Set labels and title\n",
    "ax.set_xlabel('Number of Transient Arrivals')\n",
    "ax.set_ylabel('Density')\n",
    "ax.set_title('Distribution of Transient Arrivals on Weekdays in January')\n",
    "\n",
    "# Add legend\n",
    "ax.legend()\n",
    "\n",
    "plt.tight_layout()\n",
    "plt.show()\n"
   ]
  },
  {
   "cell_type": "markdown",
   "id": "d785f809",
   "metadata": {
    "papermill": {
     "duration": 0.023689,
     "end_time": "2023-06-11T08:21:45.913411",
     "exception": false,
     "start_time": "2023-06-11T08:21:45.889722",
     "status": "completed"
    },
    "tags": []
   },
   "source": [
    "From the above graph, we can establish that the Gamma distribution fits our data quite well.\n",
    "\n",
    "In the context of the gamma distribution, the parameters shape, loc, and scale represent the characteristics of the distribution. Those parameters can be used to calculate the probabilities\n",
    "\n",
    "\n",
    "1. Shape Parameter (a or k):\n",
    "   - The shape parameter determines the shape of the gamma distribution.\n",
    "   - It controls the skewness and the peak of the distribution.\n",
    "   - Higher values of the shape parameter result in a more right-skewed distribution with a higher peak.\n",
    "\n",
    "2. Scale Parameter (b or θ):\n",
    "   - The scale parameter determines the scale or spread of the gamma distribution.\n",
    "   - It represents the average amount of change or time until the event of interest occurs.\n",
    "   - Larger values of the scale parameter lead to a broader distribution with a larger spread of values.\n",
    "\n",
    "3. Location Parameter (c or μ):\n",
    "   - The location parameter represents a shift or translation of the distribution along the x-axis.\n",
    "   - It is optional and is often set to zero by default.\n",
    "   - The location parameter allows the distribution to be shifted horizontally.\n",
    "\n",
    "\n",
    "Now that we have established that we can use Gamma distribution, we can start building or Capacity Control model\n",
    "\n",
    "## Capacity Control Model - Application\n",
    "\n",
    "### Generating shape, loc and scale paramaters by Month & DOW\n"
   ]
  },
  {
   "cell_type": "code",
   "execution_count": 22,
   "id": "a3e79fb6",
   "metadata": {
    "execution": {
     "iopub.execute_input": "2023-06-11T08:21:45.963467Z",
     "iopub.status.busy": "2023-06-11T08:21:45.963080Z",
     "iopub.status.idle": "2023-06-11T08:21:47.120832Z",
     "shell.execute_reply": "2023-06-11T08:21:47.119631Z"
    },
    "papermill": {
     "duration": 1.186325,
     "end_time": "2023-06-11T08:21:47.123737",
     "exception": false,
     "start_time": "2023-06-11T08:21:45.937412",
     "status": "completed"
    },
    "tags": []
   },
   "outputs": [
    {
     "name": "stdout",
     "output_type": "stream",
     "text": [
      "('July', 'Weekday') : (338.28148283339056, -551.7817705174871, 1.7723106073002404)\n",
      "('July', 'Weekend') : (1099.4991203237685, -894.9280142493706, 0.8670602583106841)\n",
      "('August', 'Weekend') : (495.8515936036315, -490.58347883650003, 1.0909526721823601)\n",
      "('August', 'Weekday') : (411.63848062898774, -379.3013038782017, 1.0525742645343739)\n",
      "('September', 'Weekday') : (29.06476888705344, -66.0485211702728, 4.568272872063844)\n",
      "('September', 'Weekend') : (4.525302242501823, -6.062511793587406, 11.50475703580225)\n",
      "('October', 'Weekday') : (4.626930525237684, 5.928401372951116, 13.269529541893935)\n",
      "('October', 'Weekend') : (4.282770254813147, 0.14978921180961852, 12.635134769365767)\n",
      "('November', 'Weekend') : (0.7909799132582722, 6.999999999999998, 27.93873442681083)\n",
      "('November', 'Weekday') : (1.1558250899951625, 10.861833072317156, 25.692747236900463)\n",
      "('December', 'Weekday') : (2.1288559839719703, 3.688939571416932, 16.378100396111293)\n",
      "('December', 'Weekend') : (48.17579918068469, -82.71629805710359, 2.4245646030682844)\n",
      "('January', 'Weekday') : (7.571637922281873, -2.5215386182138326, 4.848038207972977)\n",
      "('January', 'Weekend') : (2.340594039416752, 13.47414820958955, 6.296005780666187)\n",
      "('February', 'Weekday') : (3.7331846489639258, 9.762074675555343, 9.759240283763646)\n",
      "('February', 'Weekend') : (0.9642180653204317, 33.99999999999999, 22.50308105415712)\n",
      "('March', 'Weekday') : (27.102336971456204, -4.995335562758319, 2.434362179504288)\n",
      "('March', 'Weekend') : (2.183833665116804, 31.5922582469639, 10.403841690858542)\n",
      "('April', 'Weekday') : (9.436898701170776, 15.213384348625565, 5.203371660476188)\n",
      "('April', 'Weekend') : (58.43075040756149, -31.750422194413844, 1.5222995696807415)\n",
      "('May', 'Weekend') : (1020.863568611654, -491.72213855036557, 0.5402471320220725)\n",
      "('May', 'Weekday') : (29.799804284165624, -25.462713084369827, 3.1274045513197914)\n",
      "('June', 'Weekday') : (2.7320258716838923, 33.345915906262256, 14.447984599980634)\n",
      "('June', 'Weekend') : (14.254106409280933, -51.35978075252669, 7.575696450405207)\n"
     ]
    }
   ],
   "source": [
    "# Get unique combinations of month, weekday_weekend\n",
    "unique_combinations = city_arrivals[['month', 'weekday_weekend']].drop_duplicates()\n",
    "\n",
    "# get transient data only\n",
    "transient_df = city_arrivals[(city_arrivals['Segment'] == 'Transient')]\n",
    "\n",
    "# Initialize empty dictionary to store gamma parameters\n",
    "gamma_parameters = {}\n",
    "\n",
    "# Iterate over unique combinations\n",
    "for index, row in unique_combinations.iterrows():\n",
    "    month = row['month']\n",
    "    weekday_weekend = row['weekday_weekend']\n",
    "    \n",
    "    # Filter the dataframe for the specific combination\n",
    "    filtered_df = transient_df[(transient_df['month'] == month) & (transient_df['weekday_weekend'] == weekday_weekend)]\n",
    "    \n",
    "    # Fit gamma distribution and obtain parameters\n",
    "    shape, loc, scale = gamma.fit(filtered_df['num_arrivals'])\n",
    "    \n",
    "    # Store gamma parameters in dictionary\n",
    "    gamma_parameters[(month, weekday_weekend)] = (shape, loc, scale)\n",
    "\n",
    "# Print the gamma parameters for each combination\n",
    "for combination, parameters in gamma_parameters.items():\n",
    "    print(combination, \":\", parameters)"
   ]
  },
  {
   "cell_type": "markdown",
   "id": "5f9bec23",
   "metadata": {
    "papermill": {
     "duration": 0.026468,
     "end_time": "2023-06-11T08:21:47.174720",
     "exception": false,
     "start_time": "2023-06-11T08:21:47.148252",
     "status": "completed"
    },
    "tags": []
   },
   "source": [
    "Using the above table we can use the probability of having X or less arrivals for any month and weekday/end combination.\n",
    "\n",
    "Example:"
   ]
  },
  {
   "cell_type": "code",
   "execution_count": 23,
   "id": "b5f2b084",
   "metadata": {
    "execution": {
     "iopub.execute_input": "2023-06-11T08:21:47.244036Z",
     "iopub.status.busy": "2023-06-11T08:21:47.242956Z",
     "iopub.status.idle": "2023-06-11T08:21:47.249981Z",
     "shell.execute_reply": "2023-06-11T08:21:47.248634Z"
    },
    "papermill": {
     "duration": 0.04568,
     "end_time": "2023-06-11T08:21:47.252582",
     "exception": false,
     "start_time": "2023-06-11T08:21:47.206902",
     "status": "completed"
    },
    "tags": []
   },
   "outputs": [
    {
     "name": "stdout",
     "output_type": "stream",
     "text": [
      "Probability of at least 20 arrivals: 0.9884365881402576\n"
     ]
    }
   ],
   "source": [
    "# Probabilty of less than 20 arrivals in Weekdays January\n",
    "shape, loc, scale = gamma_parameters[('January', 'Weekday')]\n",
    "\n",
    "print(\"Probability of at least 20 arrivals:\",gamma.cdf(20, shape, scale))"
   ]
  },
  {
   "cell_type": "markdown",
   "id": "c9ccd305",
   "metadata": {
    "papermill": {
     "duration": 0.02493,
     "end_time": "2023-06-11T08:21:47.306409",
     "exception": false,
     "start_time": "2023-06-11T08:21:47.281479",
     "status": "completed"
    },
    "tags": []
   },
   "source": [
    "This is great, however, let's think back to our problem, knowing the probability of selling less than any number of rooms will not be helpful. If our hotel has 100 rooms, the likelihood of selling less than 100 rooms is 100%.\n",
    "\n",
    "Therefore, we want to calculate the probabilty of selling more than any number of rooms.\n",
    "\n",
    "We will use the complement of the CDF function, called the Survivor function, to calculate this.\n",
    "\n",
    "By considering the complement of the CDF, we focus on the tail of the distribution, which represents the probability of exceeding a specific threshold.\n",
    "\n",
    "This approach aligns with the goal of our capacity control model, as we are interested in determining the probability of selling more rooms to transients rather than fewer. By utilizing the Survivor function, we can effectively estimate the likelihood of meeting or surpassing different room allocation scenarios.\n"
   ]
  },
  {
   "cell_type": "code",
   "execution_count": 24,
   "id": "dad0bfe7",
   "metadata": {
    "execution": {
     "iopub.execute_input": "2023-06-11T08:21:47.367953Z",
     "iopub.status.busy": "2023-06-11T08:21:47.366849Z",
     "iopub.status.idle": "2023-06-11T08:21:47.376034Z",
     "shell.execute_reply": "2023-06-11T08:21:47.374703Z"
    },
    "papermill": {
     "duration": 0.04257,
     "end_time": "2023-06-11T08:21:47.378118",
     "exception": false,
     "start_time": "2023-06-11T08:21:47.335548",
     "status": "completed"
    },
    "tags": []
   },
   "outputs": [
    {
     "name": "stdout",
     "output_type": "stream",
     "text": [
      "Probability of more than 20 arrivals: 0.868055095836751\n"
     ]
    }
   ],
   "source": [
    "# Calculate the survivor function using the gamma distribution parameters\n",
    "survivor_prob = gamma.sf(20, shape, loc, scale)\n",
    "\n",
    "# Print the survivor probability\n",
    "print(\"Probability of more than 20 arrivals:\", survivor_prob)"
   ]
  },
  {
   "cell_type": "markdown",
   "id": "cd06c731",
   "metadata": {
    "papermill": {
     "duration": 0.024387,
     "end_time": "2023-06-11T08:21:47.427501",
     "exception": false,
     "start_time": "2023-06-11T08:21:47.403114",
     "status": "completed"
    },
    "tags": []
   },
   "source": [
    "### Expected Revenue\n",
    "\n",
    "We now have everything we need to calculate the Expected revenue. As a reminder the formulas is a follow:\n",
    "\n",
    ">ER = (Outcome Revenue * Probability)\n",
    "\n",
    "let's implement the formula and calculate the number of rooms to set aside for transient in Janruay weekdays."
   ]
  },
  {
   "cell_type": "code",
   "execution_count": 25,
   "id": "5703fbae",
   "metadata": {
    "execution": {
     "iopub.execute_input": "2023-06-11T08:21:47.483923Z",
     "iopub.status.busy": "2023-06-11T08:21:47.483515Z",
     "iopub.status.idle": "2023-06-11T08:21:47.489116Z",
     "shell.execute_reply": "2023-06-11T08:21:47.487844Z"
    },
    "papermill": {
     "duration": 0.039974,
     "end_time": "2023-06-11T08:21:47.492486",
     "exception": false,
     "start_time": "2023-06-11T08:21:47.452512",
     "status": "completed"
    },
    "tags": []
   },
   "outputs": [],
   "source": [
    "jan_arr = range(0, int(df_transient_january['num_arrivals'].max()) + 1)"
   ]
  },
  {
   "cell_type": "code",
   "execution_count": 26,
   "id": "35fc9ec4",
   "metadata": {
    "execution": {
     "iopub.execute_input": "2023-06-11T08:21:47.545979Z",
     "iopub.status.busy": "2023-06-11T08:21:47.545164Z",
     "iopub.status.idle": "2023-06-11T08:21:47.564178Z",
     "shell.execute_reply": "2023-06-11T08:21:47.563299Z"
    },
    "papermill": {
     "duration": 0.049384,
     "end_time": "2023-06-11T08:21:47.566718",
     "exception": false,
     "start_time": "2023-06-11T08:21:47.517334",
     "status": "completed"
    },
    "tags": []
   },
   "outputs": [],
   "source": [
    "results = []\n",
    "\n",
    "# Iterate over each arrival value\n",
    "for arrival in jan_arr:\n",
    "    # Calculate the survivor probability using the gamma parameters\n",
    "    survivor_prob = 1 - gamma.cdf(arrival, shape, loc, scale)\n",
    "    \n",
    "    # Append the arrival value and survivor probability to the results list\n",
    "    results.append((arrival, survivor_prob))\n",
    "    \n",
    "# Create a DataFrame from the results list\n",
    "result_df = pd.DataFrame(results, columns=['Arrival', 'Survivor Probability'])"
   ]
  },
  {
   "cell_type": "code",
   "execution_count": 27,
   "id": "44357ab9",
   "metadata": {
    "execution": {
     "iopub.execute_input": "2023-06-11T08:21:47.626726Z",
     "iopub.status.busy": "2023-06-11T08:21:47.625982Z",
     "iopub.status.idle": "2023-06-11T08:21:47.632144Z",
     "shell.execute_reply": "2023-06-11T08:21:47.631340Z"
    },
    "papermill": {
     "duration": 0.036707,
     "end_time": "2023-06-11T08:21:47.634414",
     "exception": false,
     "start_time": "2023-06-11T08:21:47.597707",
     "status": "completed"
    },
    "tags": []
   },
   "outputs": [],
   "source": [
    "#Calculated expected marginal revenue where outcome is  (107* result_df[\"Arrival\"]) and probability is result_df[\"Survivor Probability\"]\n",
    "result_df[\"expeted_Rev\"] = (107* result_df[\"Arrival\"]) * result_df[\"Survivor Probability\"]"
   ]
  },
  {
   "cell_type": "code",
   "execution_count": 28,
   "id": "5b4e97d5",
   "metadata": {
    "execution": {
     "iopub.execute_input": "2023-06-11T08:21:47.686262Z",
     "iopub.status.busy": "2023-06-11T08:21:47.685895Z",
     "iopub.status.idle": "2023-06-11T08:21:47.999921Z",
     "shell.execute_reply": "2023-06-11T08:21:47.998808Z"
    },
    "papermill": {
     "duration": 0.344158,
     "end_time": "2023-06-11T08:21:48.003308",
     "exception": false,
     "start_time": "2023-06-11T08:21:47.659150",
     "status": "completed"
    },
    "tags": []
   },
   "outputs": [
    {
     "data": {
      "text/plain": [
       "<Axes: >"
      ]
     },
     "execution_count": 28,
     "metadata": {},
     "output_type": "execute_result"
    },
    {
     "data": {
      "image/png": "[encoded data removed]",
      "text/plain": [
       "<Figure size 640x480 with 1 Axes>"
      ]
     },
     "metadata": {},
     "output_type": "display_data"
    }
   ],
   "source": [
    "#Plot Expected Revenue\n",
    "result_df['expeted_Rev'].plot()"
   ]
  },
  {
   "cell_type": "code",
   "execution_count": 29,
   "id": "bfb6f21f",
   "metadata": {
    "execution": {
     "iopub.execute_input": "2023-06-11T08:21:48.062510Z",
     "iopub.status.busy": "2023-06-11T08:21:48.061635Z",
     "iopub.status.idle": "2023-06-11T08:21:48.075073Z",
     "shell.execute_reply": "2023-06-11T08:21:48.074313Z"
    },
    "papermill": {
     "duration": 0.043254,
     "end_time": "2023-06-11T08:21:48.077684",
     "exception": false,
     "start_time": "2023-06-11T08:21:48.034430",
     "status": "completed"
    },
    "tags": []
   },
   "outputs": [
    {
     "data": {
      "text/html": [
       "<div>\n",
       "<style scoped>\n",
       "    .dataframe tbody tr th:only-of-type {\n",
       "        vertical-align: middle;\n",
       "    }\n",
       "\n",
       "    .dataframe tbody tr th {\n",
       "        vertical-align: top;\n",
       "    }\n",
       "\n",
       "    .dataframe thead th {\n",
       "        text-align: right;\n",
       "    }\n",
       "</style>\n",
       "<table border=\"1\" class=\"dataframe\">\n",
       "  <thead>\n",
       "    <tr style=\"text-align: right;\">\n",
       "      <th></th>\n",
       "      <th>Arrival</th>\n",
       "      <th>Survivor Probability</th>\n",
       "      <th>expeted_Rev</th>\n",
       "    </tr>\n",
       "  </thead>\n",
       "  <tbody>\n",
       "    <tr>\n",
       "      <th>25</th>\n",
       "      <td>25</td>\n",
       "      <td>0.736318</td>\n",
       "      <td>1969.649889</td>\n",
       "    </tr>\n",
       "  </tbody>\n",
       "</table>\n",
       "</div>"
      ],
      "text/plain": [
       "    Arrival  Survivor Probability  expeted_Rev\n",
       "25       25              0.736318  1969.649889"
      ]
     },
     "execution_count": 29,
     "metadata": {},
     "output_type": "execute_result"
    }
   ],
   "source": [
    "result_df[result_df[\"expeted_Rev\"] == max(result_df[\"expeted_Rev\"])]"
   ]
  },
  {
   "cell_type": "markdown",
   "id": "8ed21c25",
   "metadata": {
    "papermill": {
     "duration": 0.02609,
     "end_time": "2023-06-11T08:21:48.129965",
     "exception": false,
     "start_time": "2023-06-11T08:21:48.103875",
     "status": "completed"
    },
    "tags": []
   },
   "source": [
    "From the above graph, we can establish that the Expected Revenue peaks at around 25 rooms, therefore we should keep 25 rooms for transient.\n",
    "\n",
    "However, we have not yet looked at the revenue the group generates. Remember, in our theory example, we established that we should take the group if the revenue exceeds the ER; if not, the hotel is better off keeping the rooms for higher-paying guests.\n",
    "\n",
    "We could calculate each group's revenue and compare it to the ER. However, that is not very efficient.\n",
    "\n",
    "Let's think of this differently, in our 100 rooms hotel, what are the chances that we sell one room to a transient at 107\n",
    "\n",
    "The probability is 100%; therefore, for the first room, you make 107.\n",
    "\n",
    "Next, what are the chances of selling 2 rooms? Still 100%, so for the second room, you still make 107.\n",
    "\n",
    "What are the chances of selling the 20 rooms? From our example above, the probability is  87%; this means that the value of the 20 rooms is:\n",
    "\n",
    "> 87% * 107 = 93\n",
    "\n",
    "This is known as the Expected Marginal revenue.\n",
    "\n",
    "Expected marginal revenue specifically focuses on the incremental revenue generated by selling one additional unit.\n",
    "\n",
    "Using this, we can keep allocating rooms to Transient as long as the Expected Marginal Revenue exceeds the group rate.\n",
    "\n",
    "This rule of thumbs is called the **Littlewood's rule\n",
    "\n",
    "\n",
    "### Littlewood's Rule\n",
    "\n",
    "Ken Littlewood developed this rule to provide a mathematical answer to a business problem he faced in the airline industry.\n",
    "\n",
    "He was given two fares, a high fare and a low fare, for a specific flight, and he set to answer the question:\n",
    "\n",
    "> At what point am I going to stop accepting lower-fare classes?\n",
    "\n",
    "His rule states:\n",
    "\n",
    ">You should accept the lower fare class as long as the rate is higher than the expected marginal revenue of the higher fare class.\n",
    "\n",
    "Mathematically it reads as follows:\n",
    "\n",
    ">High Fare * Prob > Low Fare\n",
    "\n",
    "\n",
    "Let's look at an example using January weekdays.\n",
    "We will assume that the transient rate is:107 and  the group rate is: 84\n",
    "\n"
   ]
  },
  {
   "cell_type": "code",
   "execution_count": 30,
   "id": "ff6375c7",
   "metadata": {
    "execution": {
     "iopub.execute_input": "2023-06-11T08:21:48.184926Z",
     "iopub.status.busy": "2023-06-11T08:21:48.184096Z",
     "iopub.status.idle": "2023-06-11T08:21:48.190858Z",
     "shell.execute_reply": "2023-06-11T08:21:48.189823Z"
    },
    "papermill": {
     "duration": 0.036991,
     "end_time": "2023-06-11T08:21:48.193305",
     "exception": false,
     "start_time": "2023-06-11T08:21:48.156314",
     "status": "completed"
    },
    "tags": []
   },
   "outputs": [],
   "source": [
    "#calculate Expected marignal rev for each number of arrivals\n",
    "result_df['expected_marginal_rev'] = result_df['Survivor Probability'] *107\n"
   ]
  },
  {
   "cell_type": "code",
   "execution_count": 31,
   "id": "3f3f62f8",
   "metadata": {
    "execution": {
     "iopub.execute_input": "2023-06-11T08:21:48.251969Z",
     "iopub.status.busy": "2023-06-11T08:21:48.251559Z",
     "iopub.status.idle": "2023-06-11T08:21:48.266016Z",
     "shell.execute_reply": "2023-06-11T08:21:48.265128Z"
    },
    "papermill": {
     "duration": 0.046872,
     "end_time": "2023-06-11T08:21:48.268456",
     "exception": false,
     "start_time": "2023-06-11T08:21:48.221584",
     "status": "completed"
    },
    "tags": []
   },
   "outputs": [
    {
     "data": {
      "text/html": [
       "<div>\n",
       "<style scoped>\n",
       "    .dataframe tbody tr th:only-of-type {\n",
       "        vertical-align: middle;\n",
       "    }\n",
       "\n",
       "    .dataframe tbody tr th {\n",
       "        vertical-align: top;\n",
       "    }\n",
       "\n",
       "    .dataframe thead th {\n",
       "        text-align: right;\n",
       "    }\n",
       "</style>\n",
       "<table border=\"1\" class=\"dataframe\">\n",
       "  <thead>\n",
       "    <tr style=\"text-align: right;\">\n",
       "      <th></th>\n",
       "      <th>Arrival</th>\n",
       "      <th>Survivor Probability</th>\n",
       "      <th>expeted_Rev</th>\n",
       "      <th>expected_marginal_rev</th>\n",
       "    </tr>\n",
       "  </thead>\n",
       "  <tbody>\n",
       "    <tr>\n",
       "      <th>0</th>\n",
       "      <td>0</td>\n",
       "      <td>1.000000</td>\n",
       "      <td>0.000000</td>\n",
       "      <td>106.999971</td>\n",
       "    </tr>\n",
       "    <tr>\n",
       "      <th>1</th>\n",
       "      <td>1</td>\n",
       "      <td>0.999997</td>\n",
       "      <td>106.999692</td>\n",
       "      <td>106.999692</td>\n",
       "    </tr>\n",
       "    <tr>\n",
       "      <th>2</th>\n",
       "      <td>2</td>\n",
       "      <td>0.999984</td>\n",
       "      <td>213.996585</td>\n",
       "      <td>106.998292</td>\n",
       "    </tr>\n",
       "    <tr>\n",
       "      <th>3</th>\n",
       "      <td>3</td>\n",
       "      <td>0.999939</td>\n",
       "      <td>320.980569</td>\n",
       "      <td>106.993523</td>\n",
       "    </tr>\n",
       "    <tr>\n",
       "      <th>4</th>\n",
       "      <td>4</td>\n",
       "      <td>0.999822</td>\n",
       "      <td>427.923622</td>\n",
       "      <td>106.980905</td>\n",
       "    </tr>\n",
       "    <tr>\n",
       "      <th>...</th>\n",
       "      <td>...</td>\n",
       "      <td>...</td>\n",
       "      <td>...</td>\n",
       "      <td>...</td>\n",
       "    </tr>\n",
       "    <tr>\n",
       "      <th>76</th>\n",
       "      <td>76</td>\n",
       "      <td>0.006077</td>\n",
       "      <td>49.418564</td>\n",
       "      <td>0.650244</td>\n",
       "    </tr>\n",
       "    <tr>\n",
       "      <th>77</th>\n",
       "      <td>77</td>\n",
       "      <td>0.005337</td>\n",
       "      <td>43.975653</td>\n",
       "      <td>0.571112</td>\n",
       "    </tr>\n",
       "    <tr>\n",
       "      <th>78</th>\n",
       "      <td>78</td>\n",
       "      <td>0.004684</td>\n",
       "      <td>39.092198</td>\n",
       "      <td>0.501182</td>\n",
       "    </tr>\n",
       "    <tr>\n",
       "      <th>79</th>\n",
       "      <td>79</td>\n",
       "      <td>0.004107</td>\n",
       "      <td>34.716287</td>\n",
       "      <td>0.439447</td>\n",
       "    </tr>\n",
       "    <tr>\n",
       "      <th>80</th>\n",
       "      <td>80</td>\n",
       "      <td>0.003598</td>\n",
       "      <td>30.800041</td>\n",
       "      <td>0.385001</td>\n",
       "    </tr>\n",
       "  </tbody>\n",
       "</table>\n",
       "<p>81 rows × 4 columns</p>\n",
       "</div>"
      ],
      "text/plain": [
       "    Arrival  Survivor Probability  expeted_Rev  expected_marginal_rev\n",
       "0         0              1.000000     0.000000             106.999971\n",
       "1         1              0.999997   106.999692             106.999692\n",
       "2         2              0.999984   213.996585             106.998292\n",
       "3         3              0.999939   320.980569             106.993523\n",
       "4         4              0.999822   427.923622             106.980905\n",
       "..      ...                   ...          ...                    ...\n",
       "76       76              0.006077    49.418564               0.650244\n",
       "77       77              0.005337    43.975653               0.571112\n",
       "78       78              0.004684    39.092198               0.501182\n",
       "79       79              0.004107    34.716287               0.439447\n",
       "80       80              0.003598    30.800041               0.385001\n",
       "\n",
       "[81 rows x 4 columns]"
      ]
     },
     "execution_count": 31,
     "metadata": {},
     "output_type": "execute_result"
    }
   ],
   "source": [
    "result_df"
   ]
  },
  {
   "cell_type": "markdown",
   "id": "09b24c3d",
   "metadata": {
    "papermill": {
     "duration": 0.025313,
     "end_time": "2023-06-11T08:21:48.320323",
     "exception": false,
     "start_time": "2023-06-11T08:21:48.295010",
     "status": "completed"
    },
    "tags": []
   },
   "source": [
    "By examing the table above, we can see that the `marginal expected revenue` falls below 84 ( the group rate) at 24 rooms. This means that the value of the 24th room is less that the value of the group therefore we should keep 23 rooms for transient and sell the rest for groups.\n",
    "\n",
    "So what does this mean for the hotel?\n",
    "\n",
    "This information can then be communicated to the sales team to develop the group strategy. At the current Transient & Group rates for January weekdays, we should keep 23 rooms for transient and the rest should be open to sell for group.\n",
    "\n",
    "This information will help the team make better decisions and overcome some of the mental models biases.\n",
    "\n",
    "\n",
    "So far we have done the Capacity control rules manually, however this is not very efficient. \n",
    "\n",
    "Fortunately for us we can use simple algebra to transform Littlewood's rule into a formula\n",
    "\n",
    "> High Fare * Prob > Low Fare\n",
    "\n",
    "> Prob > Low Fare/ High Fare\n",
    "\n",
    "We now need to identify at what point the probability of selling more than x number of rooms is higher than lower fare/higher fare.\n",
    "We can now use the inverse of the survivor function to estimate the number of rooms to set aside for any given probability\n"
   ]
  },
  {
   "cell_type": "code",
   "execution_count": 32,
   "id": "3219de16",
   "metadata": {
    "execution": {
     "iopub.execute_input": "2023-06-11T08:21:48.374296Z",
     "iopub.status.busy": "2023-06-11T08:21:48.373255Z",
     "iopub.status.idle": "2023-06-11T08:21:48.381202Z",
     "shell.execute_reply": "2023-06-11T08:21:48.380121Z"
    },
    "papermill": {
     "duration": 0.03753,
     "end_time": "2023-06-11T08:21:48.383430",
     "exception": false,
     "start_time": "2023-06-11T08:21:48.345900",
     "status": "completed"
    },
    "tags": []
   },
   "outputs": [
    {
     "data": {
      "text/plain": [
       "23.30300828854896"
      ]
     },
     "execution_count": 32,
     "metadata": {},
     "output_type": "execute_result"
    }
   ],
   "source": [
    "# Calculate the number for rooms to set aside for transient\n",
    "\n",
    "probability = 84/107\n",
    "\n",
    "# Calculate the number of arrivals corresponding to the given probability\n",
    "num_arrivals = gamma.isf(probability, shape,loc, scale)\n",
    "num_arrivals"
   ]
  },
  {
   "cell_type": "markdown",
   "id": "face1e63",
   "metadata": {
    "papermill": {
     "duration": 0.025646,
     "end_time": "2023-06-11T08:21:48.434800",
     "exception": false,
     "start_time": "2023-06-11T08:21:48.409154",
     "status": "completed"
    },
    "tags": []
   },
   "source": [
    "Using the inverse of the survivor function we come up with the same number as we did manually.\n",
    "\n",
    "We are now ready to create a table with the transient protection levels for each month & weekday/end combination \n",
    "\n",
    "### Final model\n",
    "\n",
    "Before we can implement the model for each month, we need to calculate the Transient and Group ADR so that we can calculate the probability to input the the `inverse survivor function`"
   ]
  },
  {
   "cell_type": "code",
   "execution_count": 33,
   "id": "03013b35",
   "metadata": {
    "execution": {
     "iopub.execute_input": "2023-06-11T08:21:48.488558Z",
     "iopub.status.busy": "2023-06-11T08:21:48.487388Z",
     "iopub.status.idle": "2023-06-11T08:21:48.518049Z",
     "shell.execute_reply": "2023-06-11T08:21:48.516348Z"
    },
    "papermill": {
     "duration": 0.059925,
     "end_time": "2023-06-11T08:21:48.520225",
     "exception": false,
     "start_time": "2023-06-11T08:21:48.460300",
     "status": "completed"
    },
    "scrolled": true,
    "tags": []
   },
   "outputs": [
    {
     "name": "stdout",
     "output_type": "stream",
     "text": [
      "<class 'pandas.core.frame.DataFrame'>\n",
      "RangeIndex: 1043 entries, 0 to 1042\n",
      "Data columns (total 4 columns):\n",
      " #   Column    Non-Null Count  Dtype         \n",
      "---  ------    --------------  -----         \n",
      " 0   date      1043 non-null   datetime64[ns]\n",
      " 1   Segment   1043 non-null   object        \n",
      " 2   Arrivals  1043 non-null   int64         \n",
      " 3   Revenue   1043 non-null   float64       \n",
      "dtypes: datetime64[ns](1), float64(1), int64(1), object(1)\n",
      "memory usage: 32.7+ KB\n"
     ]
    }
   ],
   "source": [
    "#Calculates the total arrivals and Revenue for each day\n",
    "city_ADR = city.groupby(['date', 'Segment']).agg({'Segment': 'count', 'adr': 'sum'})\n",
    "city_ADR.columns = ['Arrivals', 'Revenue']\n",
    "city_ADR = city_ADR.reset_index()\n",
    "city_ADR.info()"
   ]
  },
  {
   "cell_type": "code",
   "execution_count": 34,
   "id": "914b22a3",
   "metadata": {
    "execution": {
     "iopub.execute_input": "2023-06-11T08:21:48.574460Z",
     "iopub.status.busy": "2023-06-11T08:21:48.574066Z",
     "iopub.status.idle": "2023-06-11T08:21:48.590766Z",
     "shell.execute_reply": "2023-06-11T08:21:48.589731Z"
    },
    "papermill": {
     "duration": 0.04673,
     "end_time": "2023-06-11T08:21:48.593079",
     "exception": false,
     "start_time": "2023-06-11T08:21:48.546349",
     "status": "completed"
    },
    "tags": []
   },
   "outputs": [],
   "source": [
    "#add Month and Weekday/weekend\n",
    "city_ADR['month'] = city_ADR['date'].dt.strftime('%B')\n",
    "city_ADR['day_of_week'] = city_ADR['date'].dt.dayofweek\n",
    "city_ADR['weekday_weekend'] = city_ADR['day_of_week'].apply(lambda x: 'Weekend' if x >= 5 else 'Weekday')"
   ]
  },
  {
   "cell_type": "code",
   "execution_count": 35,
   "id": "a00c8ff9",
   "metadata": {
    "execution": {
     "iopub.execute_input": "2023-06-11T08:21:48.647709Z",
     "iopub.status.busy": "2023-06-11T08:21:48.646602Z",
     "iopub.status.idle": "2023-06-11T08:21:48.655633Z",
     "shell.execute_reply": "2023-06-11T08:21:48.654763Z"
    },
    "papermill": {
     "duration": 0.038504,
     "end_time": "2023-06-11T08:21:48.657927",
     "exception": false,
     "start_time": "2023-06-11T08:21:48.619423",
     "status": "completed"
    },
    "tags": []
   },
   "outputs": [],
   "source": [
    "#Group the data by month and weekeday/weekend\n",
    "city_ADR = city_ADR.groupby(['month','weekday_weekend', 'Segment']).agg({'Arrivals': 'sum', 'Revenue': 'sum'})"
   ]
  },
  {
   "cell_type": "code",
   "execution_count": 36,
   "id": "34017c11",
   "metadata": {
    "execution": {
     "iopub.execute_input": "2023-06-11T08:21:48.712201Z",
     "iopub.status.busy": "2023-06-11T08:21:48.711495Z",
     "iopub.status.idle": "2023-06-11T08:21:48.734054Z",
     "shell.execute_reply": "2023-06-11T08:21:48.732958Z"
    },
    "papermill": {
     "duration": 0.052078,
     "end_time": "2023-06-11T08:21:48.736431",
     "exception": false,
     "start_time": "2023-06-11T08:21:48.684353",
     "status": "completed"
    },
    "scrolled": true,
    "tags": []
   },
   "outputs": [
    {
     "data": {
      "text/html": [
       "<div>\n",
       "<style scoped>\n",
       "    .dataframe tbody tr th:only-of-type {\n",
       "        vertical-align: middle;\n",
       "    }\n",
       "\n",
       "    .dataframe tbody tr th {\n",
       "        vertical-align: top;\n",
       "    }\n",
       "\n",
       "    .dataframe thead th {\n",
       "        text-align: right;\n",
       "    }\n",
       "</style>\n",
       "<table border=\"1\" class=\"dataframe\">\n",
       "  <thead>\n",
       "    <tr style=\"text-align: right;\">\n",
       "      <th></th>\n",
       "      <th></th>\n",
       "      <th></th>\n",
       "      <th>Arrivals</th>\n",
       "      <th>Revenue</th>\n",
       "      <th>ADR</th>\n",
       "    </tr>\n",
       "    <tr>\n",
       "      <th>month</th>\n",
       "      <th>weekday_weekend</th>\n",
       "      <th>Segment</th>\n",
       "      <th></th>\n",
       "      <th></th>\n",
       "      <th></th>\n",
       "    </tr>\n",
       "  </thead>\n",
       "  <tbody>\n",
       "    <tr>\n",
       "      <th rowspan=\"4\" valign=\"top\">April</th>\n",
       "      <th rowspan=\"2\" valign=\"top\">Weekday</th>\n",
       "      <th>Group</th>\n",
       "      <td>233</td>\n",
       "      <td>21577.58</td>\n",
       "      <td>92.607639</td>\n",
       "    </tr>\n",
       "    <tr>\n",
       "      <th>Transient</th>\n",
       "      <td>2637</td>\n",
       "      <td>298206.69</td>\n",
       "      <td>113.085586</td>\n",
       "    </tr>\n",
       "    <tr>\n",
       "      <th rowspan=\"2\" valign=\"top\">Weekend</th>\n",
       "      <th>Group</th>\n",
       "      <td>58</td>\n",
       "      <td>5836.41</td>\n",
       "      <td>100.627759</td>\n",
       "    </tr>\n",
       "    <tr>\n",
       "      <th>Transient</th>\n",
       "      <td>1087</td>\n",
       "      <td>123484.47</td>\n",
       "      <td>113.601168</td>\n",
       "    </tr>\n",
       "    <tr>\n",
       "      <th rowspan=\"4\" valign=\"top\">August</th>\n",
       "      <th rowspan=\"2\" valign=\"top\">Weekday</th>\n",
       "      <th>Group</th>\n",
       "      <td>352</td>\n",
       "      <td>27923.75</td>\n",
       "      <td>79.328835</td>\n",
       "    </tr>\n",
       "    <tr>\n",
       "      <th>Transient</th>\n",
       "      <td>3624</td>\n",
       "      <td>438988.09</td>\n",
       "      <td>121.133579</td>\n",
       "    </tr>\n",
       "    <tr>\n",
       "      <th rowspan=\"2\" valign=\"top\">Weekend</th>\n",
       "      <th>Group</th>\n",
       "      <td>93</td>\n",
       "      <td>7463.17</td>\n",
       "      <td>80.249140</td>\n",
       "    </tr>\n",
       "    <tr>\n",
       "      <th>Transient</th>\n",
       "      <td>1312</td>\n",
       "      <td>162800.41</td>\n",
       "      <td>124.085678</td>\n",
       "    </tr>\n",
       "    <tr>\n",
       "      <th rowspan=\"4\" valign=\"top\">December</th>\n",
       "      <th rowspan=\"2\" valign=\"top\">Weekday</th>\n",
       "      <th>Group</th>\n",
       "      <td>3</td>\n",
       "      <td>292.90</td>\n",
       "      <td>97.633333</td>\n",
       "    </tr>\n",
       "    <tr>\n",
       "      <th>Transient</th>\n",
       "      <td>1735</td>\n",
       "      <td>151778.21</td>\n",
       "      <td>87.480236</td>\n",
       "    </tr>\n",
       "    <tr>\n",
       "      <th rowspan=\"2\" valign=\"top\">Weekend</th>\n",
       "      <th>Group</th>\n",
       "      <td>73</td>\n",
       "      <td>4912.00</td>\n",
       "      <td>67.287671</td>\n",
       "    </tr>\n",
       "    <tr>\n",
       "      <th>Transient</th>\n",
       "      <td>581</td>\n",
       "      <td>53170.27</td>\n",
       "      <td>91.515095</td>\n",
       "    </tr>\n",
       "    <tr>\n",
       "      <th rowspan=\"4\" valign=\"top\">February</th>\n",
       "      <th rowspan=\"2\" valign=\"top\">Weekday</th>\n",
       "      <th>Group</th>\n",
       "      <td>135</td>\n",
       "      <td>9846.33</td>\n",
       "      <td>72.935778</td>\n",
       "    </tr>\n",
       "    <tr>\n",
       "      <th>Transient</th>\n",
       "      <td>1894</td>\n",
       "      <td>165855.16</td>\n",
       "      <td>87.568722</td>\n",
       "    </tr>\n",
       "    <tr>\n",
       "      <th rowspan=\"2\" valign=\"top\">Weekend</th>\n",
       "      <th>Group</th>\n",
       "      <td>144</td>\n",
       "      <td>9941.00</td>\n",
       "      <td>69.034722</td>\n",
       "    </tr>\n",
       "    <tr>\n",
       "      <th>Transient</th>\n",
       "      <td>891</td>\n",
       "      <td>78422.30</td>\n",
       "      <td>88.016049</td>\n",
       "    </tr>\n",
       "    <tr>\n",
       "      <th rowspan=\"4\" valign=\"top\">January</th>\n",
       "      <th rowspan=\"2\" valign=\"top\">Weekday</th>\n",
       "      <th>Group</th>\n",
       "      <td>157</td>\n",
       "      <td>11344.00</td>\n",
       "      <td>72.254777</td>\n",
       "    </tr>\n",
       "    <tr>\n",
       "      <th>Transient</th>\n",
       "      <td>1470</td>\n",
       "      <td>121284.34</td>\n",
       "      <td>82.506354</td>\n",
       "    </tr>\n",
       "    <tr>\n",
       "      <th rowspan=\"2\" valign=\"top\">Weekend</th>\n",
       "      <th>Group</th>\n",
       "      <td>91</td>\n",
       "      <td>6836.25</td>\n",
       "      <td>75.123626</td>\n",
       "    </tr>\n",
       "    <tr>\n",
       "      <th>Transient</th>\n",
       "      <td>536</td>\n",
       "      <td>45725.48</td>\n",
       "      <td>85.308731</td>\n",
       "    </tr>\n",
       "    <tr>\n",
       "      <th rowspan=\"4\" valign=\"top\">July</th>\n",
       "      <th rowspan=\"2\" valign=\"top\">Weekday</th>\n",
       "      <th>Group</th>\n",
       "      <td>247</td>\n",
       "      <td>20476.30</td>\n",
       "      <td>82.900000</td>\n",
       "    </tr>\n",
       "    <tr>\n",
       "      <th>Transient</th>\n",
       "      <td>2973</td>\n",
       "      <td>352077.76</td>\n",
       "      <td>118.425079</td>\n",
       "    </tr>\n",
       "    <tr>\n",
       "      <th rowspan=\"2\" valign=\"top\">Weekend</th>\n",
       "      <th>Group</th>\n",
       "      <td>160</td>\n",
       "      <td>12272.80</td>\n",
       "      <td>76.705000</td>\n",
       "    </tr>\n",
       "    <tr>\n",
       "      <th>Transient</th>\n",
       "      <td>1402</td>\n",
       "      <td>167799.28</td>\n",
       "      <td>119.685649</td>\n",
       "    </tr>\n",
       "    <tr>\n",
       "      <th rowspan=\"4\" valign=\"top\">June</th>\n",
       "      <th rowspan=\"2\" valign=\"top\">Weekday</th>\n",
       "      <th>Group</th>\n",
       "      <td>169</td>\n",
       "      <td>14768.13</td>\n",
       "      <td>87.385385</td>\n",
       "    </tr>\n",
       "    <tr>\n",
       "      <th>Transient</th>\n",
       "      <td>3204</td>\n",
       "      <td>380414.00</td>\n",
       "      <td>118.730961</td>\n",
       "    </tr>\n",
       "    <tr>\n",
       "      <th rowspan=\"2\" valign=\"top\">Weekend</th>\n",
       "      <th>Group</th>\n",
       "      <td>87</td>\n",
       "      <td>7306.49</td>\n",
       "      <td>83.982644</td>\n",
       "    </tr>\n",
       "    <tr>\n",
       "      <th>Transient</th>\n",
       "      <td>906</td>\n",
       "      <td>111398.64</td>\n",
       "      <td>122.956556</td>\n",
       "    </tr>\n",
       "    <tr>\n",
       "      <th rowspan=\"4\" valign=\"top\">March</th>\n",
       "      <th rowspan=\"2\" valign=\"top\">Weekday</th>\n",
       "      <th>Group</th>\n",
       "      <td>337</td>\n",
       "      <td>30121.49</td>\n",
       "      <td>89.381276</td>\n",
       "    </tr>\n",
       "    <tr>\n",
       "      <th>Transient</th>\n",
       "      <td>2808</td>\n",
       "      <td>252382.57</td>\n",
       "      <td>89.879833</td>\n",
       "    </tr>\n",
       "    <tr>\n",
       "      <th rowspan=\"2\" valign=\"top\">Weekend</th>\n",
       "      <th>Group</th>\n",
       "      <td>58</td>\n",
       "      <td>4720.98</td>\n",
       "      <td>81.396207</td>\n",
       "    </tr>\n",
       "    <tr>\n",
       "      <th>Transient</th>\n",
       "      <td>869</td>\n",
       "      <td>79950.14</td>\n",
       "      <td>92.002463</td>\n",
       "    </tr>\n",
       "    <tr>\n",
       "      <th rowspan=\"4\" valign=\"top\">May</th>\n",
       "      <th rowspan=\"2\" valign=\"top\">Weekday</th>\n",
       "      <th>Group</th>\n",
       "      <td>393</td>\n",
       "      <td>39520.53</td>\n",
       "      <td>100.561145</td>\n",
       "    </tr>\n",
       "    <tr>\n",
       "      <th>Transient</th>\n",
       "      <td>3048</td>\n",
       "      <td>373313.10</td>\n",
       "      <td>122.478051</td>\n",
       "    </tr>\n",
       "    <tr>\n",
       "      <th rowspan=\"2\" valign=\"top\">Weekend</th>\n",
       "      <th>Group</th>\n",
       "      <td>121</td>\n",
       "      <td>11015.86</td>\n",
       "      <td>91.040165</td>\n",
       "    </tr>\n",
       "    <tr>\n",
       "      <th>Transient</th>\n",
       "      <td>1017</td>\n",
       "      <td>127672.02</td>\n",
       "      <td>125.537876</td>\n",
       "    </tr>\n",
       "    <tr>\n",
       "      <th rowspan=\"4\" valign=\"top\">November</th>\n",
       "      <th rowspan=\"2\" valign=\"top\">Weekday</th>\n",
       "      <th>Group</th>\n",
       "      <td>379</td>\n",
       "      <td>26559.14</td>\n",
       "      <td>70.076887</td>\n",
       "    </tr>\n",
       "    <tr>\n",
       "      <th>Transient</th>\n",
       "      <td>1744</td>\n",
       "      <td>156923.52</td>\n",
       "      <td>89.979083</td>\n",
       "    </tr>\n",
       "    <tr>\n",
       "      <th rowspan=\"2\" valign=\"top\">Weekend</th>\n",
       "      <th>Group</th>\n",
       "      <td>33</td>\n",
       "      <td>2366.67</td>\n",
       "      <td>71.717273</td>\n",
       "    </tr>\n",
       "    <tr>\n",
       "      <th>Transient</th>\n",
       "      <td>540</td>\n",
       "      <td>47355.90</td>\n",
       "      <td>87.696111</td>\n",
       "    </tr>\n",
       "    <tr>\n",
       "      <th rowspan=\"4\" valign=\"top\">October</th>\n",
       "      <th rowspan=\"2\" valign=\"top\">Weekday</th>\n",
       "      <th>Group</th>\n",
       "      <td>242</td>\n",
       "      <td>21247.72</td>\n",
       "      <td>87.800496</td>\n",
       "    </tr>\n",
       "    <tr>\n",
       "      <th>Transient</th>\n",
       "      <td>2895</td>\n",
       "      <td>301377.15</td>\n",
       "      <td>104.102642</td>\n",
       "    </tr>\n",
       "    <tr>\n",
       "      <th rowspan=\"2\" valign=\"top\">Weekend</th>\n",
       "      <th>Group</th>\n",
       "      <td>169</td>\n",
       "      <td>12702.59</td>\n",
       "      <td>75.163254</td>\n",
       "    </tr>\n",
       "    <tr>\n",
       "      <th>Transient</th>\n",
       "      <td>1031</td>\n",
       "      <td>105944.75</td>\n",
       "      <td>102.759214</td>\n",
       "    </tr>\n",
       "    <tr>\n",
       "      <th rowspan=\"4\" valign=\"top\">September</th>\n",
       "      <th rowspan=\"2\" valign=\"top\">Weekday</th>\n",
       "      <th>Group</th>\n",
       "      <td>382</td>\n",
       "      <td>36323.67</td>\n",
       "      <td>95.088141</td>\n",
       "    </tr>\n",
       "    <tr>\n",
       "      <th>Transient</th>\n",
       "      <td>2936</td>\n",
       "      <td>338336.86</td>\n",
       "      <td>115.237350</td>\n",
       "    </tr>\n",
       "    <tr>\n",
       "      <th rowspan=\"2\" valign=\"top\">Weekend</th>\n",
       "      <th>Group</th>\n",
       "      <td>236</td>\n",
       "      <td>21688.40</td>\n",
       "      <td>91.900000</td>\n",
       "    </tr>\n",
       "    <tr>\n",
       "      <th>Transient</th>\n",
       "      <td>736</td>\n",
       "      <td>86698.43</td>\n",
       "      <td>117.796780</td>\n",
       "    </tr>\n",
       "  </tbody>\n",
       "</table>\n",
       "</div>"
      ],
      "text/plain": [
       "                                     Arrivals    Revenue         ADR\n",
       "month     weekday_weekend Segment                                   \n",
       "April     Weekday         Group           233   21577.58   92.607639\n",
       "                          Transient      2637  298206.69  113.085586\n",
       "          Weekend         Group            58    5836.41  100.627759\n",
       "                          Transient      1087  123484.47  113.601168\n",
       "August    Weekday         Group           352   27923.75   79.328835\n",
       "                          Transient      3624  438988.09  121.133579\n",
       "          Weekend         Group            93    7463.17   80.249140\n",
       "                          Transient      1312  162800.41  124.085678\n",
       "December  Weekday         Group             3     292.90   97.633333\n",
       "                          Transient      1735  151778.21   87.480236\n",
       "          Weekend         Group            73    4912.00   67.287671\n",
       "                          Transient       581   53170.27   91.515095\n",
       "February  Weekday         Group           135    9846.33   72.935778\n",
       "                          Transient      1894  165855.16   87.568722\n",
       "          Weekend         Group           144    9941.00   69.034722\n",
       "                          Transient       891   78422.30   88.016049\n",
       "January   Weekday         Group           157   11344.00   72.254777\n",
       "                          Transient      1470  121284.34   82.506354\n",
       "          Weekend         Group            91    6836.25   75.123626\n",
       "                          Transient       536   45725.48   85.308731\n",
       "July      Weekday         Group           247   20476.30   82.900000\n",
       "                          Transient      2973  352077.76  118.425079\n",
       "          Weekend         Group           160   12272.80   76.705000\n",
       "                          Transient      1402  167799.28  119.685649\n",
       "June      Weekday         Group           169   14768.13   87.385385\n",
       "                          Transient      3204  380414.00  118.730961\n",
       "          Weekend         Group            87    7306.49   83.982644\n",
       "                          Transient       906  111398.64  122.956556\n",
       "March     Weekday         Group           337   30121.49   89.381276\n",
       "                          Transient      2808  252382.57   89.879833\n",
       "          Weekend         Group            58    4720.98   81.396207\n",
       "                          Transient       869   79950.14   92.002463\n",
       "May       Weekday         Group           393   39520.53  100.561145\n",
       "                          Transient      3048  373313.10  122.478051\n",
       "          Weekend         Group           121   11015.86   91.040165\n",
       "                          Transient      1017  127672.02  125.537876\n",
       "November  Weekday         Group           379   26559.14   70.076887\n",
       "                          Transient      1744  156923.52   89.979083\n",
       "          Weekend         Group            33    2366.67   71.717273\n",
       "                          Transient       540   47355.90   87.696111\n",
       "October   Weekday         Group           242   21247.72   87.800496\n",
       "                          Transient      2895  301377.15  104.102642\n",
       "          Weekend         Group           169   12702.59   75.163254\n",
       "                          Transient      1031  105944.75  102.759214\n",
       "September Weekday         Group           382   36323.67   95.088141\n",
       "                          Transient      2936  338336.86  115.237350\n",
       "          Weekend         Group           236   21688.40   91.900000\n",
       "                          Transient       736   86698.43  117.796780"
      ]
     },
     "execution_count": 36,
     "metadata": {},
     "output_type": "execute_result"
    }
   ],
   "source": [
    "#calculate the ADR for each Month, Weekday/Weekend for each segment. This will be used to calculate the Propability\n",
    "city_ADR['ADR'] = city_ADR['Revenue']/city_ADR['Arrivals']\n",
    "city_ADR"
   ]
  },
  {
   "cell_type": "markdown",
   "id": "95c2ee2a",
   "metadata": {
    "papermill": {
     "duration": 0.025938,
     "end_time": "2023-06-11T08:21:48.788967",
     "exception": false,
     "start_time": "2023-06-11T08:21:48.763029",
     "status": "completed"
    },
    "tags": []
   },
   "source": [
    "Now that we have the ADRs, the next step is to calculate the Ratio of\n",
    "\n",
    ">Group ADR/ Transient ADR\n",
    "\n",
    "this will be our probability input for the `inverse survivor function`"
   ]
  },
  {
   "cell_type": "code",
   "execution_count": 37,
   "id": "70011ad8",
   "metadata": {
    "execution": {
     "iopub.execute_input": "2023-06-11T08:21:48.844043Z",
     "iopub.status.busy": "2023-06-11T08:21:48.843041Z",
     "iopub.status.idle": "2023-06-11T08:21:48.864900Z",
     "shell.execute_reply": "2023-06-11T08:21:48.863835Z"
    },
    "papermill": {
     "duration": 0.051637,
     "end_time": "2023-06-11T08:21:48.867032",
     "exception": false,
     "start_time": "2023-06-11T08:21:48.815395",
     "status": "completed"
    },
    "scrolled": true,
    "tags": []
   },
   "outputs": [
    {
     "data": {
      "text/html": [
       "<div>\n",
       "<style scoped>\n",
       "    .dataframe tbody tr th:only-of-type {\n",
       "        vertical-align: middle;\n",
       "    }\n",
       "\n",
       "    .dataframe tbody tr th {\n",
       "        vertical-align: top;\n",
       "    }\n",
       "\n",
       "    .dataframe thead th {\n",
       "        text-align: right;\n",
       "    }\n",
       "</style>\n",
       "<table border=\"1\" class=\"dataframe\">\n",
       "  <thead>\n",
       "    <tr style=\"text-align: right;\">\n",
       "      <th></th>\n",
       "      <th>Segment</th>\n",
       "      <th>Group</th>\n",
       "      <th>Transient</th>\n",
       "      <th>Probability</th>\n",
       "    </tr>\n",
       "    <tr>\n",
       "      <th>month</th>\n",
       "      <th>weekday_weekend</th>\n",
       "      <th></th>\n",
       "      <th></th>\n",
       "      <th></th>\n",
       "    </tr>\n",
       "  </thead>\n",
       "  <tbody>\n",
       "    <tr>\n",
       "      <th rowspan=\"2\" valign=\"top\">April</th>\n",
       "      <th>Weekday</th>\n",
       "      <td>92.607639</td>\n",
       "      <td>113.085586</td>\n",
       "      <td>0.818916</td>\n",
       "    </tr>\n",
       "    <tr>\n",
       "      <th>Weekend</th>\n",
       "      <td>100.627759</td>\n",
       "      <td>113.601168</td>\n",
       "      <td>0.885799</td>\n",
       "    </tr>\n",
       "    <tr>\n",
       "      <th rowspan=\"2\" valign=\"top\">August</th>\n",
       "      <th>Weekday</th>\n",
       "      <td>79.328835</td>\n",
       "      <td>121.133579</td>\n",
       "      <td>0.654887</td>\n",
       "    </tr>\n",
       "    <tr>\n",
       "      <th>Weekend</th>\n",
       "      <td>80.249140</td>\n",
       "      <td>124.085678</td>\n",
       "      <td>0.646724</td>\n",
       "    </tr>\n",
       "    <tr>\n",
       "      <th>December</th>\n",
       "      <th>Weekday</th>\n",
       "      <td>97.633333</td>\n",
       "      <td>87.480236</td>\n",
       "      <td>1.116062</td>\n",
       "    </tr>\n",
       "  </tbody>\n",
       "</table>\n",
       "</div>"
      ],
      "text/plain": [
       "Segment                        Group   Transient  Probability\n",
       "month    weekday_weekend                                     \n",
       "April    Weekday           92.607639  113.085586     0.818916\n",
       "         Weekend          100.627759  113.601168     0.885799\n",
       "August   Weekday           79.328835  121.133579     0.654887\n",
       "         Weekend           80.249140  124.085678     0.646724\n",
       "December Weekday           97.633333   87.480236     1.116062"
      ]
     },
     "execution_count": 37,
     "metadata": {},
     "output_type": "execute_result"
    }
   ],
   "source": [
    "# Pivot the DataFrame to calculate the ratio of Group ADR and Transient ADR\n",
    "ratio_df = pd.pivot_table(city_ADR, values='ADR', index=['month', 'weekday_weekend'], columns='Segment', aggfunc='sum', fill_value=0)\n",
    "\n",
    "ratio_df['Probability'] = ratio_df['Group'] / ratio_df['Transient']\n",
    "\n",
    "ratio_df.head()"
   ]
  },
  {
   "cell_type": "markdown",
   "id": "3cfae382",
   "metadata": {
    "papermill": {
     "duration": 0.026757,
     "end_time": "2023-06-11T08:21:48.920229",
     "exception": false,
     "start_time": "2023-06-11T08:21:48.893472",
     "status": "completed"
    },
    "tags": []
   },
   "source": [
    "Next step is to get the gamma parameters."
   ]
  },
  {
   "cell_type": "code",
   "execution_count": 38,
   "id": "1edc8a84",
   "metadata": {
    "execution": {
     "iopub.execute_input": "2023-06-11T08:21:48.975829Z",
     "iopub.status.busy": "2023-06-11T08:21:48.974705Z",
     "iopub.status.idle": "2023-06-11T08:21:48.990455Z",
     "shell.execute_reply": "2023-06-11T08:21:48.989677Z"
    },
    "papermill": {
     "duration": 0.046139,
     "end_time": "2023-06-11T08:21:48.992942",
     "exception": false,
     "start_time": "2023-06-11T08:21:48.946803",
     "status": "completed"
    },
    "tags": []
   },
   "outputs": [],
   "source": [
    "gamma_df = pd.DataFrame.from_dict(gamma_parameters, orient='index', columns=['shape', 'loc', 'scale'])\n",
    "\n",
    "\n",
    "gamma_df['index'] = gamma_df.index\n",
    "\n",
    "# Unpack the 'index' column into separate columns 'month' and 'weekday_weekend'\n",
    "gamma_df[['month', 'weekday_weekend']] = gamma_df['index'].apply(lambda x: pd.Series(x))\n",
    "\n",
    "# Drop the 'index' column\n",
    "gamma_df.drop('index', axis=1, inplace=True)\n",
    "\n",
    "gamma_df.reset_index(inplace=True,drop=True)\n"
   ]
  },
  {
   "cell_type": "code",
   "execution_count": 39,
   "id": "051a0e71",
   "metadata": {
    "execution": {
     "iopub.execute_input": "2023-06-11T08:21:49.050010Z",
     "iopub.status.busy": "2023-06-11T08:21:49.048932Z",
     "iopub.status.idle": "2023-06-11T08:21:49.061581Z",
     "shell.execute_reply": "2023-06-11T08:21:49.060537Z"
    },
    "papermill": {
     "duration": 0.043344,
     "end_time": "2023-06-11T08:21:49.064024",
     "exception": false,
     "start_time": "2023-06-11T08:21:49.020680",
     "status": "completed"
    },
    "tags": []
   },
   "outputs": [],
   "source": [
    "#Merge gama parameters with ratio_df\n",
    "merged_df = gamma_df.merge(ratio_df, on=['month', 'weekday_weekend'])\n",
    "\n",
    "merged_df = merged_df[['month', 'weekday_weekend'] + [col for col in merged_df.columns if col not in ['month', 'weekday_weekend']]]"
   ]
  },
  {
   "cell_type": "code",
   "execution_count": 40,
   "id": "2e11ed40",
   "metadata": {
    "execution": {
     "iopub.execute_input": "2023-06-11T08:21:49.119499Z",
     "iopub.status.busy": "2023-06-11T08:21:49.119118Z",
     "iopub.status.idle": "2023-06-11T08:21:49.126075Z",
     "shell.execute_reply": "2023-06-11T08:21:49.125079Z"
    },
    "papermill": {
     "duration": 0.0377,
     "end_time": "2023-06-11T08:21:49.128527",
     "exception": false,
     "start_time": "2023-06-11T08:21:49.090827",
     "status": "completed"
    },
    "tags": []
   },
   "outputs": [],
   "source": [
    "merged_df['month'] = pd.Categorical(merged_df['month'], categories=month_order.keys(), ordered=True)\n",
    "merged_df = merged_df.sort_values('month').reset_index(drop= True)"
   ]
  },
  {
   "cell_type": "code",
   "execution_count": 41,
   "id": "56c50b27",
   "metadata": {
    "execution": {
     "iopub.execute_input": "2023-06-11T08:21:49.184700Z",
     "iopub.status.busy": "2023-06-11T08:21:49.184331Z",
     "iopub.status.idle": "2023-06-11T08:21:49.191229Z",
     "shell.execute_reply": "2023-06-11T08:21:49.190110Z"
    },
    "papermill": {
     "duration": 0.038067,
     "end_time": "2023-06-11T08:21:49.193487",
     "exception": false,
     "start_time": "2023-06-11T08:21:49.155420",
     "status": "completed"
    },
    "tags": []
   },
   "outputs": [],
   "source": [
    "merged_df['Transient_protection'] = gamma.isf(merged_df[\"Probability\"], merged_df['shape'],merged_df['loc'],merged_df['scale'])"
   ]
  },
  {
   "cell_type": "code",
   "execution_count": 42,
   "id": "b7286c48",
   "metadata": {
    "execution": {
     "iopub.execute_input": "2023-06-11T08:21:49.261556Z",
     "iopub.status.busy": "2023-06-11T08:21:49.261041Z",
     "iopub.status.idle": "2023-06-11T08:21:49.289652Z",
     "shell.execute_reply": "2023-06-11T08:21:49.288471Z"
    },
    "papermill": {
     "duration": 0.068418,
     "end_time": "2023-06-11T08:21:49.293092",
     "exception": false,
     "start_time": "2023-06-11T08:21:49.224674",
     "status": "completed"
    },
    "tags": []
   },
   "outputs": [
    {
     "data": {
      "text/html": [
       "<div>\n",
       "<style scoped>\n",
       "    .dataframe tbody tr th:only-of-type {\n",
       "        vertical-align: middle;\n",
       "    }\n",
       "\n",
       "    .dataframe tbody tr th {\n",
       "        vertical-align: top;\n",
       "    }\n",
       "\n",
       "    .dataframe thead th {\n",
       "        text-align: right;\n",
       "    }\n",
       "</style>\n",
       "<table border=\"1\" class=\"dataframe\">\n",
       "  <thead>\n",
       "    <tr style=\"text-align: right;\">\n",
       "      <th></th>\n",
       "      <th>month</th>\n",
       "      <th>weekday_weekend</th>\n",
       "      <th>shape</th>\n",
       "      <th>loc</th>\n",
       "      <th>scale</th>\n",
       "      <th>Group</th>\n",
       "      <th>Transient</th>\n",
       "      <th>Probability</th>\n",
       "      <th>Transient_protection</th>\n",
       "    </tr>\n",
       "  </thead>\n",
       "  <tbody>\n",
       "    <tr>\n",
       "      <th>0</th>\n",
       "      <td>January</td>\n",
       "      <td>Weekend</td>\n",
       "      <td>2.340594</td>\n",
       "      <td>13.474148</td>\n",
       "      <td>6.296006</td>\n",
       "      <td>75.123626</td>\n",
       "      <td>85.308731</td>\n",
       "      <td>0.880609</td>\n",
       "      <td>18.430621</td>\n",
       "    </tr>\n",
       "    <tr>\n",
       "      <th>1</th>\n",
       "      <td>January</td>\n",
       "      <td>Weekday</td>\n",
       "      <td>7.571638</td>\n",
       "      <td>-2.521539</td>\n",
       "      <td>4.848038</td>\n",
       "      <td>72.254777</td>\n",
       "      <td>82.506354</td>\n",
       "      <td>0.875748</td>\n",
       "      <td>19.649125</td>\n",
       "    </tr>\n",
       "    <tr>\n",
       "      <th>2</th>\n",
       "      <td>February</td>\n",
       "      <td>Weekend</td>\n",
       "      <td>0.964218</td>\n",
       "      <td>34.000000</td>\n",
       "      <td>22.503081</td>\n",
       "      <td>69.034722</td>\n",
       "      <td>88.016049</td>\n",
       "      <td>0.784342</td>\n",
       "      <td>39.050370</td>\n",
       "    </tr>\n",
       "    <tr>\n",
       "      <th>3</th>\n",
       "      <td>February</td>\n",
       "      <td>Weekday</td>\n",
       "      <td>3.733185</td>\n",
       "      <td>9.762075</td>\n",
       "      <td>9.759240</td>\n",
       "      <td>72.935778</td>\n",
       "      <td>87.568722</td>\n",
       "      <td>0.832898</td>\n",
       "      <td>28.616672</td>\n",
       "    </tr>\n",
       "    <tr>\n",
       "      <th>4</th>\n",
       "      <td>March</td>\n",
       "      <td>Weekend</td>\n",
       "      <td>2.183834</td>\n",
       "      <td>31.592258</td>\n",
       "      <td>10.403842</td>\n",
       "      <td>81.396207</td>\n",
       "      <td>92.002463</td>\n",
       "      <td>0.884718</td>\n",
       "      <td>38.688425</td>\n",
       "    </tr>\n",
       "    <tr>\n",
       "      <th>5</th>\n",
       "      <td>March</td>\n",
       "      <td>Weekday</td>\n",
       "      <td>27.102337</td>\n",
       "      <td>-4.995336</td>\n",
       "      <td>2.434362</td>\n",
       "      <td>89.381276</td>\n",
       "      <td>89.879833</td>\n",
       "      <td>0.994453</td>\n",
       "      <td>33.216590</td>\n",
       "    </tr>\n",
       "    <tr>\n",
       "      <th>6</th>\n",
       "      <td>April</td>\n",
       "      <td>Weekend</td>\n",
       "      <td>58.430750</td>\n",
       "      <td>-31.750422</td>\n",
       "      <td>1.522300</td>\n",
       "      <td>100.627759</td>\n",
       "      <td>113.601168</td>\n",
       "      <td>0.885799</td>\n",
       "      <td>43.448465</td>\n",
       "    </tr>\n",
       "    <tr>\n",
       "      <th>7</th>\n",
       "      <td>April</td>\n",
       "      <td>Weekday</td>\n",
       "      <td>9.436899</td>\n",
       "      <td>15.213384</td>\n",
       "      <td>5.203372</td>\n",
       "      <td>92.607639</td>\n",
       "      <td>113.085586</td>\n",
       "      <td>0.818916</td>\n",
       "      <td>49.728101</td>\n",
       "    </tr>\n",
       "    <tr>\n",
       "      <th>8</th>\n",
       "      <td>May</td>\n",
       "      <td>Weekday</td>\n",
       "      <td>29.799804</td>\n",
       "      <td>-25.462713</td>\n",
       "      <td>3.127405</td>\n",
       "      <td>100.561145</td>\n",
       "      <td>122.478051</td>\n",
       "      <td>0.821054</td>\n",
       "      <td>51.967149</td>\n",
       "    </tr>\n",
       "    <tr>\n",
       "      <th>9</th>\n",
       "      <td>May</td>\n",
       "      <td>Weekend</td>\n",
       "      <td>1020.863569</td>\n",
       "      <td>-491.722139</td>\n",
       "      <td>0.540247</td>\n",
       "      <td>91.040165</td>\n",
       "      <td>125.537876</td>\n",
       "      <td>0.725201</td>\n",
       "      <td>49.354173</td>\n",
       "    </tr>\n",
       "    <tr>\n",
       "      <th>10</th>\n",
       "      <td>June</td>\n",
       "      <td>Weekend</td>\n",
       "      <td>14.254106</td>\n",
       "      <td>-51.359781</td>\n",
       "      <td>7.575696</td>\n",
       "      <td>83.982644</td>\n",
       "      <td>122.956556</td>\n",
       "      <td>0.683027</td>\n",
       "      <td>41.242766</td>\n",
       "    </tr>\n",
       "    <tr>\n",
       "      <th>11</th>\n",
       "      <td>June</td>\n",
       "      <td>Weekday</td>\n",
       "      <td>2.732026</td>\n",
       "      <td>33.345916</td>\n",
       "      <td>14.447985</td>\n",
       "      <td>87.385385</td>\n",
       "      <td>118.730961</td>\n",
       "      <td>0.735995</td>\n",
       "      <td>55.969059</td>\n",
       "    </tr>\n",
       "    <tr>\n",
       "      <th>12</th>\n",
       "      <td>July</td>\n",
       "      <td>Weekday</td>\n",
       "      <td>338.281483</td>\n",
       "      <td>-551.781771</td>\n",
       "      <td>1.772311</td>\n",
       "      <td>82.900000</td>\n",
       "      <td>118.425079</td>\n",
       "      <td>0.700021</td>\n",
       "      <td>30.243477</td>\n",
       "    </tr>\n",
       "    <tr>\n",
       "      <th>13</th>\n",
       "      <td>July</td>\n",
       "      <td>Weekend</td>\n",
       "      <td>1099.499120</td>\n",
       "      <td>-894.928014</td>\n",
       "      <td>0.867060</td>\n",
       "      <td>76.705000</td>\n",
       "      <td>119.685649</td>\n",
       "      <td>0.640887</td>\n",
       "      <td>47.780292</td>\n",
       "    </tr>\n",
       "    <tr>\n",
       "      <th>14</th>\n",
       "      <td>August</td>\n",
       "      <td>Weekday</td>\n",
       "      <td>411.638481</td>\n",
       "      <td>-379.301304</td>\n",
       "      <td>1.052574</td>\n",
       "      <td>79.328835</td>\n",
       "      <td>121.133579</td>\n",
       "      <td>0.654887</td>\n",
       "      <td>45.176383</td>\n",
       "    </tr>\n",
       "    <tr>\n",
       "      <th>15</th>\n",
       "      <td>August</td>\n",
       "      <td>Weekend</td>\n",
       "      <td>495.851594</td>\n",
       "      <td>-490.583479</td>\n",
       "      <td>1.090953</td>\n",
       "      <td>80.249140</td>\n",
       "      <td>124.085678</td>\n",
       "      <td>0.646724</td>\n",
       "      <td>40.912511</td>\n",
       "    </tr>\n",
       "    <tr>\n",
       "      <th>16</th>\n",
       "      <td>September</td>\n",
       "      <td>Weekend</td>\n",
       "      <td>4.525302</td>\n",
       "      <td>-6.062512</td>\n",
       "      <td>11.504757</td>\n",
       "      <td>91.900000</td>\n",
       "      <td>117.796780</td>\n",
       "      <td>0.780157</td>\n",
       "      <td>26.328500</td>\n",
       "    </tr>\n",
       "    <tr>\n",
       "      <th>17</th>\n",
       "      <td>September</td>\n",
       "      <td>Weekday</td>\n",
       "      <td>29.064769</td>\n",
       "      <td>-66.048521</td>\n",
       "      <td>4.568273</td>\n",
       "      <td>95.088141</td>\n",
       "      <td>115.237350</td>\n",
       "      <td>0.825150</td>\n",
       "      <td>43.640926</td>\n",
       "    </tr>\n",
       "    <tr>\n",
       "      <th>18</th>\n",
       "      <td>October</td>\n",
       "      <td>Weekend</td>\n",
       "      <td>4.282770</td>\n",
       "      <td>0.149789</td>\n",
       "      <td>12.635135</td>\n",
       "      <td>75.163254</td>\n",
       "      <td>102.759214</td>\n",
       "      <td>0.731450</td>\n",
       "      <td>36.267400</td>\n",
       "    </tr>\n",
       "    <tr>\n",
       "      <th>19</th>\n",
       "      <td>October</td>\n",
       "      <td>Weekday</td>\n",
       "      <td>4.626931</td>\n",
       "      <td>5.928401</td>\n",
       "      <td>13.269530</td>\n",
       "      <td>87.800496</td>\n",
       "      <td>104.102642</td>\n",
       "      <td>0.843403</td>\n",
       "      <td>39.673968</td>\n",
       "    </tr>\n",
       "    <tr>\n",
       "      <th>20</th>\n",
       "      <td>November</td>\n",
       "      <td>Weekday</td>\n",
       "      <td>1.155825</td>\n",
       "      <td>10.861833</td>\n",
       "      <td>25.692747</td>\n",
       "      <td>70.076887</td>\n",
       "      <td>89.979083</td>\n",
       "      <td>0.778813</td>\n",
       "      <td>19.503325</td>\n",
       "    </tr>\n",
       "    <tr>\n",
       "      <th>21</th>\n",
       "      <td>November</td>\n",
       "      <td>Weekend</td>\n",
       "      <td>0.790980</td>\n",
       "      <td>7.000000</td>\n",
       "      <td>27.938734</td>\n",
       "      <td>71.717273</td>\n",
       "      <td>87.696111</td>\n",
       "      <td>0.817793</td>\n",
       "      <td>10.147451</td>\n",
       "    </tr>\n",
       "    <tr>\n",
       "      <th>22</th>\n",
       "      <td>December</td>\n",
       "      <td>Weekday</td>\n",
       "      <td>2.128856</td>\n",
       "      <td>3.688940</td>\n",
       "      <td>16.378100</td>\n",
       "      <td>97.633333</td>\n",
       "      <td>87.480236</td>\n",
       "      <td>1.116062</td>\n",
       "      <td>NaN</td>\n",
       "    </tr>\n",
       "    <tr>\n",
       "      <th>23</th>\n",
       "      <td>December</td>\n",
       "      <td>Weekend</td>\n",
       "      <td>48.175799</td>\n",
       "      <td>-82.716298</td>\n",
       "      <td>2.424565</td>\n",
       "      <td>67.287671</td>\n",
       "      <td>91.515095</td>\n",
       "      <td>0.735263</td>\n",
       "      <td>23.059556</td>\n",
       "    </tr>\n",
       "  </tbody>\n",
       "</table>\n",
       "</div>"
      ],
      "text/plain": [
       "        month weekday_weekend        shape         loc      scale       Group  \\\n",
       "0     January         Weekend     2.340594   13.474148   6.296006   75.123626   \n",
       "1     January         Weekday     7.571638   -2.521539   4.848038   72.254777   \n",
       "2    February         Weekend     0.964218   34.000000  22.503081   69.034722   \n",
       "3    February         Weekday     3.733185    9.762075   9.759240   72.935778   \n",
       "4       March         Weekend     2.183834   31.592258  10.403842   81.396207   \n",
       "5       March         Weekday    27.102337   -4.995336   2.434362   89.381276   \n",
       "6       April         Weekend    58.430750  -31.750422   1.522300  100.627759   \n",
       "7       April         Weekday     9.436899   15.213384   5.203372   92.607639   \n",
       "8         May         Weekday    29.799804  -25.462713   3.127405  100.561145   \n",
       "9         May         Weekend  1020.863569 -491.722139   0.540247   91.040165   \n",
       "10       June         Weekend    14.254106  -51.359781   7.575696   83.982644   \n",
       "11       June         Weekday     2.732026   33.345916  14.447985   87.385385   \n",
       "12       July         Weekday   338.281483 -551.781771   1.772311   82.900000   \n",
       "13       July         Weekend  1099.499120 -894.928014   0.867060   76.705000   \n",
       "14     August         Weekday   411.638481 -379.301304   1.052574   79.328835   \n",
       "15     August         Weekend   495.851594 -490.583479   1.090953   80.249140   \n",
       "16  September         Weekend     4.525302   -6.062512  11.504757   91.900000   \n",
       "17  September         Weekday    29.064769  -66.048521   4.568273   95.088141   \n",
       "18    October         Weekend     4.282770    0.149789  12.635135   75.163254   \n",
       "19    October         Weekday     4.626931    5.928401  13.269530   87.800496   \n",
       "20   November         Weekday     1.155825   10.861833  25.692747   70.076887   \n",
       "21   November         Weekend     0.790980    7.000000  27.938734   71.717273   \n",
       "22   December         Weekday     2.128856    3.688940  16.378100   97.633333   \n",
       "23   December         Weekend    48.175799  -82.716298   2.424565   67.287671   \n",
       "\n",
       "     Transient  Probability  Transient_protection  \n",
       "0    85.308731     0.880609             18.430621  \n",
       "1    82.506354     0.875748             19.649125  \n",
       "2    88.016049     0.784342             39.050370  \n",
       "3    87.568722     0.832898             28.616672  \n",
       "4    92.002463     0.884718             38.688425  \n",
       "5    89.879833     0.994453             33.216590  \n",
       "6   113.601168     0.885799             43.448465  \n",
       "7   113.085586     0.818916             49.728101  \n",
       "8   122.478051     0.821054             51.967149  \n",
       "9   125.537876     0.725201             49.354173  \n",
       "10  122.956556     0.683027             41.242766  \n",
       "11  118.730961     0.735995             55.969059  \n",
       "12  118.425079     0.700021             30.243477  \n",
       "13  119.685649     0.640887             47.780292  \n",
       "14  121.133579     0.654887             45.176383  \n",
       "15  124.085678     0.646724             40.912511  \n",
       "16  117.796780     0.780157             26.328500  \n",
       "17  115.237350     0.825150             43.640926  \n",
       "18  102.759214     0.731450             36.267400  \n",
       "19  104.102642     0.843403             39.673968  \n",
       "20   89.979083     0.778813             19.503325  \n",
       "21   87.696111     0.817793             10.147451  \n",
       "22   87.480236     1.116062                   NaN  \n",
       "23   91.515095     0.735263             23.059556  "
      ]
     },
     "execution_count": 42,
     "metadata": {},
     "output_type": "execute_result"
    }
   ],
   "source": [
    "merged_df\n"
   ]
  },
  {
   "cell_type": "markdown",
   "id": "64d9811a",
   "metadata": {
    "papermill": {
     "duration": 0.027437,
     "end_time": "2023-06-11T08:21:49.350705",
     "exception": false,
     "start_time": "2023-06-11T08:21:49.323268",
     "status": "completed"
    },
    "tags": []
   },
   "source": [
    "Lets do some final clean up to before we can share the table with the sales team."
   ]
  },
  {
   "cell_type": "code",
   "execution_count": 43,
   "id": "2ca8adef",
   "metadata": {
    "execution": {
     "iopub.execute_input": "2023-06-11T08:21:49.407875Z",
     "iopub.status.busy": "2023-06-11T08:21:49.407164Z",
     "iopub.status.idle": "2023-06-11T08:21:49.418952Z",
     "shell.execute_reply": "2023-06-11T08:21:49.418068Z"
    },
    "papermill": {
     "duration": 0.043044,
     "end_time": "2023-06-11T08:21:49.421398",
     "exception": false,
     "start_time": "2023-06-11T08:21:49.378354",
     "status": "completed"
    },
    "scrolled": true,
    "tags": []
   },
   "outputs": [
    {
     "name": "stderr",
     "output_type": "stream",
     "text": [
      "/tmp/ipykernel_20/2981390268.py:2: SettingWithCopyWarning: \n",
      "A value is trying to be set on a copy of a slice from a DataFrame.\n",
      "Try using .loc[row_indexer,col_indexer] = value instead\n",
      "\n",
      "See the caveats in the documentation: https://pandas.pydata.org/pandas-docs/stable/user_guide/indexing.html#returning-a-view-versus-a-copy\n",
      "  transient_protection['Transient_protection'] = transient_protection['Transient_protection'].fillna(0)\n",
      "/tmp/ipykernel_20/2981390268.py:4: SettingWithCopyWarning: \n",
      "A value is trying to be set on a copy of a slice from a DataFrame.\n",
      "Try using .loc[row_indexer,col_indexer] = value instead\n",
      "\n",
      "See the caveats in the documentation: https://pandas.pydata.org/pandas-docs/stable/user_guide/indexing.html#returning-a-view-versus-a-copy\n",
      "  transient_protection[['Group', 'Transient', 'Transient_protection']] = transient_protection[['Group', 'Transient', 'Transient_protection']].round(0).astype(int)\n"
     ]
    }
   ],
   "source": [
    "transient_protection = merged_df[['month','weekday_weekend','Group','Transient','Transient_protection']]\n",
    "transient_protection['Transient_protection'] = transient_protection['Transient_protection'].fillna(0)\n",
    "\n",
    "transient_protection[['Group', 'Transient', 'Transient_protection']] = transient_protection[['Group', 'Transient', 'Transient_protection']].round(0).astype(int)"
   ]
  },
  {
   "cell_type": "code",
   "execution_count": 44,
   "id": "a3a333d3",
   "metadata": {
    "execution": {
     "iopub.execute_input": "2023-06-11T08:21:49.479860Z",
     "iopub.status.busy": "2023-06-11T08:21:49.479407Z",
     "iopub.status.idle": "2023-06-11T08:21:49.497264Z",
     "shell.execute_reply": "2023-06-11T08:21:49.495821Z"
    },
    "papermill": {
     "duration": 0.050113,
     "end_time": "2023-06-11T08:21:49.499534",
     "exception": false,
     "start_time": "2023-06-11T08:21:49.449421",
     "status": "completed"
    },
    "tags": []
   },
   "outputs": [
    {
     "name": "stderr",
     "output_type": "stream",
     "text": [
      "/tmp/ipykernel_20/2082567129.py:1: SettingWithCopyWarning: \n",
      "A value is trying to be set on a copy of a slice from a DataFrame\n",
      "\n",
      "See the caveats in the documentation: https://pandas.pydata.org/pandas-docs/stable/user_guide/indexing.html#returning-a-view-versus-a-copy\n",
      "  transient_protection.rename(columns={'Group': 'Group_ADR','Transient':'Transient_ADR'},inplace=True)\n"
     ]
    },
    {
     "data": {
      "text/html": [
       "<div>\n",
       "<style scoped>\n",
       "    .dataframe tbody tr th:only-of-type {\n",
       "        vertical-align: middle;\n",
       "    }\n",
       "\n",
       "    .dataframe tbody tr th {\n",
       "        vertical-align: top;\n",
       "    }\n",
       "\n",
       "    .dataframe thead th {\n",
       "        text-align: right;\n",
       "    }\n",
       "</style>\n",
       "<table border=\"1\" class=\"dataframe\">\n",
       "  <thead>\n",
       "    <tr style=\"text-align: right;\">\n",
       "      <th></th>\n",
       "      <th>month</th>\n",
       "      <th>weekday_weekend</th>\n",
       "      <th>Group_ADR</th>\n",
       "      <th>Transient_ADR</th>\n",
       "      <th>Transient_protection</th>\n",
       "    </tr>\n",
       "  </thead>\n",
       "  <tbody>\n",
       "    <tr>\n",
       "      <th>0</th>\n",
       "      <td>January</td>\n",
       "      <td>Weekend</td>\n",
       "      <td>75</td>\n",
       "      <td>85</td>\n",
       "      <td>18</td>\n",
       "    </tr>\n",
       "    <tr>\n",
       "      <th>1</th>\n",
       "      <td>January</td>\n",
       "      <td>Weekday</td>\n",
       "      <td>72</td>\n",
       "      <td>83</td>\n",
       "      <td>20</td>\n",
       "    </tr>\n",
       "    <tr>\n",
       "      <th>2</th>\n",
       "      <td>February</td>\n",
       "      <td>Weekend</td>\n",
       "      <td>69</td>\n",
       "      <td>88</td>\n",
       "      <td>39</td>\n",
       "    </tr>\n",
       "    <tr>\n",
       "      <th>3</th>\n",
       "      <td>February</td>\n",
       "      <td>Weekday</td>\n",
       "      <td>73</td>\n",
       "      <td>88</td>\n",
       "      <td>29</td>\n",
       "    </tr>\n",
       "    <tr>\n",
       "      <th>4</th>\n",
       "      <td>March</td>\n",
       "      <td>Weekend</td>\n",
       "      <td>81</td>\n",
       "      <td>92</td>\n",
       "      <td>39</td>\n",
       "    </tr>\n",
       "    <tr>\n",
       "      <th>5</th>\n",
       "      <td>March</td>\n",
       "      <td>Weekday</td>\n",
       "      <td>89</td>\n",
       "      <td>90</td>\n",
       "      <td>33</td>\n",
       "    </tr>\n",
       "    <tr>\n",
       "      <th>6</th>\n",
       "      <td>April</td>\n",
       "      <td>Weekend</td>\n",
       "      <td>101</td>\n",
       "      <td>114</td>\n",
       "      <td>43</td>\n",
       "    </tr>\n",
       "    <tr>\n",
       "      <th>7</th>\n",
       "      <td>April</td>\n",
       "      <td>Weekday</td>\n",
       "      <td>93</td>\n",
       "      <td>113</td>\n",
       "      <td>50</td>\n",
       "    </tr>\n",
       "    <tr>\n",
       "      <th>8</th>\n",
       "      <td>May</td>\n",
       "      <td>Weekday</td>\n",
       "      <td>101</td>\n",
       "      <td>122</td>\n",
       "      <td>52</td>\n",
       "    </tr>\n",
       "    <tr>\n",
       "      <th>9</th>\n",
       "      <td>May</td>\n",
       "      <td>Weekend</td>\n",
       "      <td>91</td>\n",
       "      <td>126</td>\n",
       "      <td>49</td>\n",
       "    </tr>\n",
       "    <tr>\n",
       "      <th>10</th>\n",
       "      <td>June</td>\n",
       "      <td>Weekend</td>\n",
       "      <td>84</td>\n",
       "      <td>123</td>\n",
       "      <td>41</td>\n",
       "    </tr>\n",
       "    <tr>\n",
       "      <th>11</th>\n",
       "      <td>June</td>\n",
       "      <td>Weekday</td>\n",
       "      <td>87</td>\n",
       "      <td>119</td>\n",
       "      <td>56</td>\n",
       "    </tr>\n",
       "    <tr>\n",
       "      <th>12</th>\n",
       "      <td>July</td>\n",
       "      <td>Weekday</td>\n",
       "      <td>83</td>\n",
       "      <td>118</td>\n",
       "      <td>30</td>\n",
       "    </tr>\n",
       "    <tr>\n",
       "      <th>13</th>\n",
       "      <td>July</td>\n",
       "      <td>Weekend</td>\n",
       "      <td>77</td>\n",
       "      <td>120</td>\n",
       "      <td>48</td>\n",
       "    </tr>\n",
       "    <tr>\n",
       "      <th>14</th>\n",
       "      <td>August</td>\n",
       "      <td>Weekday</td>\n",
       "      <td>79</td>\n",
       "      <td>121</td>\n",
       "      <td>45</td>\n",
       "    </tr>\n",
       "    <tr>\n",
       "      <th>15</th>\n",
       "      <td>August</td>\n",
       "      <td>Weekend</td>\n",
       "      <td>80</td>\n",
       "      <td>124</td>\n",
       "      <td>41</td>\n",
       "    </tr>\n",
       "    <tr>\n",
       "      <th>16</th>\n",
       "      <td>September</td>\n",
       "      <td>Weekend</td>\n",
       "      <td>92</td>\n",
       "      <td>118</td>\n",
       "      <td>26</td>\n",
       "    </tr>\n",
       "    <tr>\n",
       "      <th>17</th>\n",
       "      <td>September</td>\n",
       "      <td>Weekday</td>\n",
       "      <td>95</td>\n",
       "      <td>115</td>\n",
       "      <td>44</td>\n",
       "    </tr>\n",
       "    <tr>\n",
       "      <th>18</th>\n",
       "      <td>October</td>\n",
       "      <td>Weekend</td>\n",
       "      <td>75</td>\n",
       "      <td>103</td>\n",
       "      <td>36</td>\n",
       "    </tr>\n",
       "    <tr>\n",
       "      <th>19</th>\n",
       "      <td>October</td>\n",
       "      <td>Weekday</td>\n",
       "      <td>88</td>\n",
       "      <td>104</td>\n",
       "      <td>40</td>\n",
       "    </tr>\n",
       "    <tr>\n",
       "      <th>20</th>\n",
       "      <td>November</td>\n",
       "      <td>Weekday</td>\n",
       "      <td>70</td>\n",
       "      <td>90</td>\n",
       "      <td>20</td>\n",
       "    </tr>\n",
       "    <tr>\n",
       "      <th>21</th>\n",
       "      <td>November</td>\n",
       "      <td>Weekend</td>\n",
       "      <td>72</td>\n",
       "      <td>88</td>\n",
       "      <td>10</td>\n",
       "    </tr>\n",
       "    <tr>\n",
       "      <th>22</th>\n",
       "      <td>December</td>\n",
       "      <td>Weekday</td>\n",
       "      <td>98</td>\n",
       "      <td>87</td>\n",
       "      <td>0</td>\n",
       "    </tr>\n",
       "    <tr>\n",
       "      <th>23</th>\n",
       "      <td>December</td>\n",
       "      <td>Weekend</td>\n",
       "      <td>67</td>\n",
       "      <td>92</td>\n",
       "      <td>23</td>\n",
       "    </tr>\n",
       "  </tbody>\n",
       "</table>\n",
       "</div>"
      ],
      "text/plain": [
       "        month weekday_weekend  Group_ADR  Transient_ADR  Transient_protection\n",
       "0     January         Weekend         75             85                    18\n",
       "1     January         Weekday         72             83                    20\n",
       "2    February         Weekend         69             88                    39\n",
       "3    February         Weekday         73             88                    29\n",
       "4       March         Weekend         81             92                    39\n",
       "5       March         Weekday         89             90                    33\n",
       "6       April         Weekend        101            114                    43\n",
       "7       April         Weekday         93            113                    50\n",
       "8         May         Weekday        101            122                    52\n",
       "9         May         Weekend         91            126                    49\n",
       "10       June         Weekend         84            123                    41\n",
       "11       June         Weekday         87            119                    56\n",
       "12       July         Weekday         83            118                    30\n",
       "13       July         Weekend         77            120                    48\n",
       "14     August         Weekday         79            121                    45\n",
       "15     August         Weekend         80            124                    41\n",
       "16  September         Weekend         92            118                    26\n",
       "17  September         Weekday         95            115                    44\n",
       "18    October         Weekend         75            103                    36\n",
       "19    October         Weekday         88            104                    40\n",
       "20   November         Weekday         70             90                    20\n",
       "21   November         Weekend         72             88                    10\n",
       "22   December         Weekday         98             87                     0\n",
       "23   December         Weekend         67             92                    23"
      ]
     },
     "execution_count": 44,
     "metadata": {},
     "output_type": "execute_result"
    }
   ],
   "source": [
    "transient_protection.rename(columns={'Group': 'Group_ADR','Transient':'Transient_ADR'},inplace=True)\n",
    "\n",
    "transient_protection"
   ]
  },
  {
   "cell_type": "markdown",
   "id": "53d41150",
   "metadata": {
    "papermill": {
     "duration": 0.027894,
     "end_time": "2023-06-11T08:21:49.555343",
     "exception": false,
     "start_time": "2023-06-11T08:21:49.527449",
     "status": "completed"
    },
    "tags": []
   },
   "source": [
    "We have created an easy-to-understand table that can be used to make better capacity control decisions instead of relying on mental models.\n",
    "\n",
    "Let's think back to the initial story. The General manager can now look at the business on the books and ensure he communicates to the sales team when it is time to stop selling rooms to groups and confidently explain why he is making this decision.\n",
    "\n",
    "\n",
    "## Final considerations\n",
    "\n",
    "As mentioned, this notebook aims to demystify capacity control models. To do so, we have created a simple yet effective capacity control model using Littlewood's rule.\n",
    "\n",
    "To explain the concepts, we did make some assumptions to simplify the problem, such as considering all arrivals as 1 night, only looking at Transient vs Group,  and using fixed rates.\n",
    "\n",
    "But in reality, we have to optimize across more than 2 segments, rates are almost infinite, and more importantly, rate changes impact the probabilities of room sales.\n",
    "\n",
    "Our model can still be used to make better and less biased decisions despite its simplicity.\n",
    "\n",
    "As with any model, the output should not be treated as a line you cannot cross. Ultimately, a hotel is a business, and you need to consider other factors to make better decisions; this model is only the first step.\n",
    "\n",
    "I have used similar models to set maximum group limits for different seasons. That doesn't mean we could not take more groups, but these limits served as a signal to the sales team; if the group was over the limit, we wanted to review the group more closely.\n",
    "\n",
    "Suppose you are looking to implement a similar model to your hotel. In that case, I recommend spending more time doing further data cleaning. For this notebook, we kept it simple; however, you might want to look into outliers and how to treat them. \n",
    "Also, you probably want to break down your seasonality and include special events; for example, the demand pattern during Christmas and NY is likely very different from the rest of December.\n",
    "\n",
    "If you want to dig deeper into more complex models, you can do some research on ESMR (Expected Marginal Seat Revenue) & Dynamic pricing models.\n",
    "\n"
   ]
  },
  {
   "cell_type": "code",
   "execution_count": null,
   "id": "5c855a09",
   "metadata": {
    "papermill": {
     "duration": 0.028334,
     "end_time": "2023-06-11T08:21:49.613186",
     "exception": false,
     "start_time": "2023-06-11T08:21:49.584852",
     "status": "completed"
    },
    "tags": []
   },
   "outputs": [],
   "source": []
  }
 ],
 "metadata": {
  "kernelspec": {
   "display_name": "Python 3",
   "language": "python",
   "name": "python3"
  },
  "language_info": {
   "codemirror_mode": {
    "name": "ipython",
    "version": 3
   },
   "file_extension": ".py",
   "mimetype": "text/x-python",
   "name": "python",
   "nbconvert_exporter": "python",
   "pygments_lexer": "ipython3",
   "version": "3.8.18"
  },
  "papermill": {
   "default_parameters": {},
   "duration": 23.210597,
   "end_time": "2023-06-11T08:21:50.664511",
   "environment_variables": {},
   "exception": null,
   "input_path": "__notebook__.ipynb",
   "output_path": "__notebook__.ipynb",
   "parameters": {},
   "start_time": "2023-06-11T08:21:27.453914",
   "version": "2.4.0"
  }
 },
 "nbformat": 4,
 "nbformat_minor": 5
}
