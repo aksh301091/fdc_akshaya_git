{
 "cells": [
  {
   "cell_type": "markdown",
   "id": "9ff154a0-abe5-4a30-90ba-0393bd1ffc9d",
   "metadata": {},
   "source": [
    "# Data: Ad Sales Data\n",
    "# Use Case: Revenue Prediction\n",
    "# Model: Regression Models\n",
    "\n",
    "Code link: https://www.kaggle.com/code/akshaysunil07/ad-tech-revenue-regression/notebook "
   ]
  },
  {
   "cell_type": "markdown",
   "id": "c83c8bfe",
   "metadata": {},
   "source": [
    "# Installing packages section"
   ]
  },
  {
   "cell_type": "code",
   "execution_count": null,
   "id": "ddb0b697",
   "metadata": {},
   "outputs": [],
   "source": [
    "# Installing packages set for without init script\n",
    "!pip install --upgrade pip\n",
    "\n",
    "!pip install \"snowflake-connector-python[pandas]\" \"snowflake-snowpark-python[pandas]\" snowflake-snowpark-python==1.9.0 fosforio fosforml numpy pandas matplotlib scikit-learn xgboost python-dateutil \n",
    "#!pip install tqdm \n",
    "!pip install --upgrade --q snowflake-snowpark-python==1.9.0\n",
    "!pip uninstall urllib3 -y\n",
    "!pip install urllib3==1.26.15\n",
    "!pip install seaborn"
   ]
  },
  {
   "cell_type": "markdown",
   "id": "f06a4ab2",
   "metadata": {},
   "source": [
    "# Restart and clear outputs\n",
    "\n",
    "# Importing packages"
   ]
  },
  {
   "cell_type": "code",
   "execution_count": 1,
   "id": "dbf7fe85",
   "metadata": {},
   "outputs": [
    {
     "name": "stdout",
     "output_type": "stream",
     "text": [
      "Connection manager service url initialised to http://fdc-project-manager:80/project-manager\n",
      "If you need to update its value then update the variable CONNECTION_MANAGER_BASE_URL in os env.\n"
     ]
    },
    {
     "name": "stderr",
     "output_type": "stream",
     "text": [
      "/tmp/pip_packages/_distutils_hack/__init__.py:32: UserWarning: Setuptools is replacing distutils. Support for replacing an already imported distutils is deprecated. In the future, this condition will fail. Register concerns at https://github.com/pypa/setuptools/issues/new?template=distutils-deprecation.yml\n",
      "  warnings.warn(\n",
      "Matplotlib created a temporary cache directory at /tmp/matplotlib-jacd9m38 because the default path (/home/mosaic-ai/.cache/matplotlib) is not a writable directory; it is highly recommended to set the MPLCONFIGDIR environment variable to a writable directory, in particular to speed up the import of Matplotlib and to better support multiprocessing.\n"
     ]
    }
   ],
   "source": [
    "from fosforio import snowflake\n",
    "from fosforml import *\n",
    "from fosforml.constants import MLModelFlavours\n",
    "from fosforio import get_dataframe\n",
    "\n",
    "import pandas as pd\n",
    "import numpy as np\n",
    "from matplotlib import pyplot as plt\n",
    "pd.set_option('display.max_columns', 500)\n",
    "import seaborn as sns\n",
    "\n",
    "import warnings; warnings.simplefilter('ignore')\n",
    "from joblib import dump, load\n",
    "import requests\n",
    "#from tqdm import tqdm\n",
    "import time\n",
    "import calendar\n",
    "import configparser\n",
    "from dateutil.relativedelta import relativedelta\n",
    "import datetime\n",
    "\n",
    "from sklearn.metrics import mean_absolute_percentage_error\n",
    "from sklearn.preprocessing import StandardScaler, OneHotEncoder\n",
    "from sklearn.decomposition import PCA\n",
    "from time import sleep\n",
    "from sklearn.linear_model import LinearRegression\n",
    "from sklearn.decomposition import PCA\n",
    "from dateutil.easter import easter\n",
    "from scipy.optimize import minimize_scalar\n",
    "from scipy.optimize import curve_fit\n",
    "from sklearn.compose import ColumnTransformer\n",
    "from sklearn.pipeline import Pipeline\n",
    "\n",
    "\n",
    "from sklearn.compose import ColumnTransformer\n",
    "from sklearn.pipeline import Pipeline\n",
    "from sklearn.preprocessing import StandardScaler, OneHotEncoder\n",
    "from sklearn.decomposition import PCA\n",
    "from sklearn.linear_model import LinearRegression, Ridge, Lasso, ElasticNet\n",
    "from sklearn.ensemble import RandomForestRegressor, GradientBoostingRegressor\n",
    "from sklearn.svm import SVR\n",
    "from sklearn.model_selection import train_test_split, GridSearchCV\n",
    "from sklearn.metrics import mean_squared_error, r2_score\n",
    "%matplotlib inline"
   ]
  },
  {
   "cell_type": "markdown",
   "id": "5999d5f2",
   "metadata": {},
   "source": [
    "# Importing data from snowflake"
   ]
  },
  {
   "cell_type": "code",
   "execution_count": 32,
   "id": "9e536f13",
   "metadata": {},
   "outputs": [
    {
     "name": "stdout",
     "output_type": "stream",
     "text": [
      "Existing connection object fetched: <snowflake.connector.connection.SnowflakeConnection object at 0x7f83b864c250>\n",
      "Please close the connection after use!\n",
      "Reading dataframe from snowflake native connector\n",
      "Reading dataframe from snowflake native connector\n"
     ]
    }
   ],
   "source": [
    "#from fosforio import snowflake\n",
    "#from fosforio import get_dataframe\n",
    "snowflake.get_connection(connection_name=\"ME_AD_SALES_CXN\")\n",
    "#df = get_dataframe(\"AD_SALES_IMP\")\n",
    "df_all = get_dataframe(\"AD_TECH_INPUT\")"
   ]
  },
  {
   "cell_type": "code",
   "execution_count": 33,
   "id": "ccb41bfa",
   "metadata": {},
   "outputs": [],
   "source": [
    "df_copy = df_all.copy()"
   ]
  },
  {
   "cell_type": "code",
   "execution_count": 34,
   "id": "1e9d379d",
   "metadata": {},
   "outputs": [
    {
     "name": "stdout",
     "output_type": "stream",
     "text": [
      "<class 'pandas.core.frame.DataFrame'>\n",
      "RangeIndex: 567291 entries, 0 to 567290\n",
      "Data columns (total 29 columns):\n",
      " #   Column                   Non-Null Count   Dtype  \n",
      "---  ------                   --------------   -----  \n",
      " 0   AD_DATE                  567291 non-null  object \n",
      " 1   SITE_ID                  567291 non-null  int16  \n",
      " 2   AD_TYPE_ID               567291 non-null  int8   \n",
      " 3   GEO_ID                   567291 non-null  int16  \n",
      " 4   DEVICE_CATEGORY_ID       567291 non-null  int8   \n",
      " 5   ADVERTISER_ID            567291 non-null  int16  \n",
      " 6   ORDER_ID                 567291 non-null  int16  \n",
      " 7   LINE_ITEM_TYPE_ID        567291 non-null  int8   \n",
      " 8   OS_ID                    567291 non-null  int8   \n",
      " 9   MONETIZATION_CHANNEL_ID  567291 non-null  int8   \n",
      " 10  AD_UNIT_ID               567291 non-null  int16  \n",
      " 11  TOTAL_IMPRESSIONS        567291 non-null  int16  \n",
      " 12  TOTAL_REVENUE            567291 non-null  float64\n",
      " 13  VIEWABLE_IMPRESSIONS     567291 non-null  int16  \n",
      " 14  MEASURABLE_IMPRESSIONS   567291 non-null  int16  \n",
      " 15  REVENUE_SHARE_PERCENT    567291 non-null  int8   \n",
      " 16  AD_TYPE                  567291 non-null  object \n",
      " 17  AD_FORMAT                567291 non-null  object \n",
      " 18  AD_MEDIA_TYPE            567291 non-null  object \n",
      " 19  DEVICE_TYPE              567291 non-null  object \n",
      " 20  CITY                     567291 non-null  object \n",
      " 21  CITY_CODE                567291 non-null  object \n",
      " 22  POPULATION               567291 non-null  int32  \n",
      " 23  CITY_LAT                 567291 non-null  float64\n",
      " 24  CITY_LON                 567291 non-null  float64\n",
      " 25  LINE_ITEM_GROUP          567291 non-null  object \n",
      " 26  LINE_ITEM_TYPE           567291 non-null  object \n",
      " 27  MONETIZATION_CHANNEL     567291 non-null  object \n",
      " 28  OS_TYPE                  567291 non-null  object \n",
      "dtypes: float64(3), int16(8), int32(1), int8(6), object(11)\n",
      "memory usage: 74.7+ MB\n"
     ]
    }
   ],
   "source": [
    "df_all.info()"
   ]
  },
  {
   "cell_type": "code",
   "execution_count": 5,
   "id": "11f59857",
   "metadata": {},
   "outputs": [
    {
     "name": "stdout",
     "output_type": "stream",
     "text": [
      "<class 'pandas.core.frame.DataFrame'>\n",
      "RangeIndex: 567291 entries, 0 to 567290\n",
      "Data columns (total 29 columns):\n",
      " #   Column                   Non-Null Count   Dtype  \n",
      "---  ------                   --------------   -----  \n",
      " 0   ad_date                  567291 non-null  object \n",
      " 1   site_id                  567291 non-null  int16  \n",
      " 2   ad_type_id               567291 non-null  int8   \n",
      " 3   geo_id                   567291 non-null  int16  \n",
      " 4   device_category_id       567291 non-null  int8   \n",
      " 5   advertiser_id            567291 non-null  int16  \n",
      " 6   order_id                 567291 non-null  int16  \n",
      " 7   line_item_type_id        567291 non-null  int8   \n",
      " 8   os_id                    567291 non-null  int8   \n",
      " 9   monetization_channel_id  567291 non-null  int8   \n",
      " 10  ad_unit_id               567291 non-null  int16  \n",
      " 11  total_impressions        567291 non-null  int16  \n",
      " 12  total_revenue            567291 non-null  float64\n",
      " 13  viewable_impressions     567291 non-null  int16  \n",
      " 14  measurable_impressions   567291 non-null  int16  \n",
      " 15  revenue_share_percent    567291 non-null  int8   \n",
      " 16  ad_type                  567291 non-null  object \n",
      " 17  ad_format                567291 non-null  object \n",
      " 18  ad_media_type            567291 non-null  object \n",
      " 19  device_type              567291 non-null  object \n",
      " 20  city                     567291 non-null  object \n",
      " 21  city_code                567291 non-null  object \n",
      " 22  population               567291 non-null  int32  \n",
      " 23  city_lat                 567291 non-null  float64\n",
      " 24  city_lon                 567291 non-null  float64\n",
      " 25  line_item_group          567291 non-null  object \n",
      " 26  line_item_type           567291 non-null  object \n",
      " 27  monetization_channel     567291 non-null  object \n",
      " 28  os_type                  567291 non-null  object \n",
      "dtypes: float64(3), int16(8), int32(1), int8(6), object(11)\n",
      "memory usage: 74.7+ MB\n"
     ]
    }
   ],
   "source": [
    "df_all.info()"
   ]
  },
  {
   "cell_type": "code",
   "execution_count": 35,
   "id": "d633377b",
   "metadata": {},
   "outputs": [],
   "source": [
    "df.columns = df.columns.str.lower()\n",
    "df_all.columns = df_all.columns.str.lower()\n",
    "#df.info()"
   ]
  },
  {
   "cell_type": "code",
   "execution_count": 36,
   "id": "3758d0a2",
   "metadata": {},
   "outputs": [
    {
     "data": {
      "text/plain": [
       "Index(['ad_date', 'site_id', 'ad_type_id', 'geo_id', 'device_category_id',\n",
       "       'advertiser_id', 'order_id', 'line_item_type_id', 'os_id',\n",
       "       'monetization_channel_id', 'ad_unit_id', 'total_impressions',\n",
       "       'total_revenue', 'viewable_impressions', 'measurable_impressions',\n",
       "       'revenue_share_percent', 'ad_type', 'ad_format', 'ad_media_type',\n",
       "       'device_type', 'city', 'city_code', 'population', 'city_lat',\n",
       "       'city_lon', 'line_item_group', 'line_item_type', 'monetization_channel',\n",
       "       'os_type'],\n",
       "      dtype='object')"
      ]
     },
     "execution_count": 36,
     "metadata": {},
     "output_type": "execute_result"
    }
   ],
   "source": [
    "df_all.columns"
   ]
  },
  {
   "cell_type": "code",
   "execution_count": null,
   "id": "89878fb9",
   "metadata": {},
   "outputs": [],
   "source": []
  },
  {
   "cell_type": "markdown",
   "id": "c2db2869-09aa-4132-8972-a3cc74bb0263",
   "metadata": {},
   "source": [
    "# Exploratory data analysis"
   ]
  },
  {
   "cell_type": "code",
   "execution_count": 37,
   "id": "158fc2cd-8e2e-4e27-b288-87a549556779",
   "metadata": {},
   "outputs": [],
   "source": [
    "cat_col=['ad_date', 'site_id','advertiser_id', 'order_id','ad_type', 'ad_format', 'ad_media_type',\n",
    "         'device_type', 'city', 'line_item_group', 'line_item_type', 'monetization_channel','os_type']\n",
    "scat_col = ['site_id','ad_type', 'ad_format', 'device_type', 'advertiser_id',\n",
    "            'line_item_group', 'line_item_type', 'os_type','monetization_channel']\n",
    "num_col=list(df_all.select_dtypes(np.number).columns)"
   ]
  },
  {
   "cell_type": "raw",
   "id": "34d3e90d",
   "metadata": {},
   "source": [
    "import seaborn as sns\n",
    "sns.heatmap(df_all.isnull(),cbar=False,cbar_kws={'color':'r'})\n",
    "plt.show()"
   ]
  },
  {
   "cell_type": "code",
   "execution_count": 38,
   "id": "c00e0244-4680-44bf-9dfb-a67f5f61eff2",
   "metadata": {},
   "outputs": [
    {
     "ename": "IndexError",
     "evalue": "list index out of range",
     "output_type": "error",
     "traceback": [
      "\u001b[0;31m---------------------------------------------------------------------------\u001b[0m",
      "\u001b[0;31mIndexError\u001b[0m                                Traceback (most recent call last)",
      "Cell \u001b[0;32mIn[38], line 5\u001b[0m\n\u001b[1;32m      2\u001b[0m axes_ \u001b[38;5;241m=\u001b[39m [axes_row \u001b[38;5;28;01mfor\u001b[39;00m axes \u001b[38;5;129;01min\u001b[39;00m ax \u001b[38;5;28;01mfor\u001b[39;00m axes_row \u001b[38;5;129;01min\u001b[39;00m axes]\n\u001b[1;32m      4\u001b[0m \u001b[38;5;28;01mfor\u001b[39;00m i,col \u001b[38;5;129;01min\u001b[39;00m \u001b[38;5;28menumerate\u001b[39m(scat_col):\n\u001b[0;32m----> 5\u001b[0m     sns\u001b[38;5;241m.\u001b[39mcountplot(data\u001b[38;5;241m=\u001b[39mdf_all,x\u001b[38;5;241m=\u001b[39mcol,ax\u001b[38;5;241m=\u001b[39m\u001b[43maxes_\u001b[49m\u001b[43m[\u001b[49m\u001b[43mi\u001b[49m\u001b[43m]\u001b[49m)\n\u001b[1;32m      6\u001b[0m     \u001b[38;5;28;01mif\u001b[39;00m col\u001b[38;5;241m==\u001b[39m\u001b[38;5;124m'\u001b[39m\u001b[38;5;124madvertiser_id\u001b[39m\u001b[38;5;124m'\u001b[39m:\n\u001b[1;32m      7\u001b[0m         plt\u001b[38;5;241m.\u001b[39mxticks(rotation\u001b[38;5;241m=\u001b[39m\u001b[38;5;241m90\u001b[39m)\n",
      "\u001b[0;31mIndexError\u001b[0m: list index out of range"
     ]
    },
    {
     "data": {
      "image/png": "[encoded data removed]",
      "text/plain": [
       "<Figure size 1400x1200 with 8 Axes>"
      ]
     },
     "metadata": {},
     "output_type": "display_data"
    }
   ],
   "source": [
    "fig, ax = plt.subplots(4,2, figsize=(14,12))\n",
    "axes_ = [axes_row for axes in ax for axes_row in axes]\n",
    "\n",
    "for i,col in enumerate(scat_col):\n",
    "    sns.countplot(data=df_all,x=col,ax=axes_[i])\n",
    "    if col=='advertiser_id':\n",
    "        plt.xticks(rotation=90)\n",
    "    plt.tight_layout()"
   ]
  },
  {
   "cell_type": "code",
   "execution_count": null,
   "id": "51f37132-8305-4793-8c92-f8828d07970d",
   "metadata": {},
   "outputs": [],
   "source": [
    "for i in num_col:\n",
    "    if i!='total_revenue':\n",
    "        sns.scatterplot(data=df_all,x=i,y='total_revenue')\n",
    "        plt.show()"
   ]
  },
  {
   "cell_type": "code",
   "execution_count": null,
   "id": "ddb091da-8e4e-46a6-b24f-af4eb795f0ce",
   "metadata": {},
   "outputs": [],
   "source": [
    "#df.max()"
   ]
  },
  {
   "cell_type": "code",
   "execution_count": null,
   "id": "f266fcc2-2b3b-47a2-9dcb-cf2c2efb53de",
   "metadata": {},
   "outputs": [],
   "source": [
    "for col in (scat_col):\n",
    "    title='Relationship of '+col+' with total_revenue'\n",
    "    plt.figure(figsize=(6,4))\n",
    "    sns.barplot(y=df_all['total_revenue'],x=df_all[col])\n",
    "    if col=='advertiser_id':\n",
    "        plt.xticks(rotation=90)\n",
    "    plt.title(title)\n",
    "    plt.show()"
   ]
  },
  {
   "cell_type": "code",
   "execution_count": null,
   "id": "0c88c3cf-8b3f-490d-8cdd-abef798c12dd",
   "metadata": {},
   "outputs": [],
   "source": [
    "for col in (scat_col):\n",
    "    title='Relationship of '+ col +' with total_impressions'\n",
    "    plt.figure(figsize=(6,4))\n",
    "    sns.barplot(y=df_all['total_impressions'],x=df_all[col],)\n",
    "    if col=='advertiser_id':\n",
    "        plt.xticks(rotation=90)\n",
    "    plt.title(title)\n",
    "    plt.show()"
   ]
  },
  {
   "cell_type": "code",
   "execution_count": null,
   "id": "a867e33c-830f-4478-89f8-10dc9e3c7c97",
   "metadata": {},
   "outputs": [],
   "source": [
    "for i in cat_col:\n",
    "    df_all[i]=df_all[i].astype('object')"
   ]
  },
  {
   "cell_type": "code",
   "execution_count": 39,
   "id": "1b8f14dd",
   "metadata": {},
   "outputs": [
    {
     "data": {
      "text/plain": [
       "Index(['ad_date', 'site_id', 'ad_type_id', 'geo_id', 'device_category_id',\n",
       "       'advertiser_id', 'order_id', 'line_item_type_id', 'os_id',\n",
       "       'monetization_channel_id', 'ad_unit_id', 'total_impressions',\n",
       "       'total_revenue', 'viewable_impressions', 'measurable_impressions',\n",
       "       'revenue_share_percent', 'ad_type', 'ad_format', 'ad_media_type',\n",
       "       'device_type', 'city', 'city_code', 'population', 'city_lat',\n",
       "       'city_lon', 'line_item_group', 'line_item_type', 'monetization_channel',\n",
       "       'os_type'],\n",
       "      dtype='object')"
      ]
     },
     "execution_count": 39,
     "metadata": {},
     "output_type": "execute_result"
    }
   ],
   "source": [
    "df_all.columns"
   ]
  },
  {
   "cell_type": "code",
   "execution_count": 40,
   "id": "a3f35e75-ff39-485a-a87d-f01ff77b4399",
   "metadata": {},
   "outputs": [],
   "source": [
    "df_all.drop(['ad_unit_id','revenue_share_percent','ad_type_id','site_id','advertiser_id',\n",
    "        'ad_date','geo_id','order_id', 'ad_type', 'ad_format', 'ad_media_type', 'line_item_group',\n",
    "            'city', 'city_code'],axis=1,inplace=True)"
   ]
  },
  {
   "cell_type": "code",
   "execution_count": 44,
   "id": "f71b2543",
   "metadata": {},
   "outputs": [
    {
     "data": {
      "text/plain": [
       "Index(['total_impressions', 'total_revenue', 'viewable_impressions',\n",
       "       'measurable_impressions', 'device_type', 'line_item_type',\n",
       "       'monetization_channel', 'os_type'],\n",
       "      dtype='object')"
      ]
     },
     "execution_count": 44,
     "metadata": {},
     "output_type": "execute_result"
    }
   ],
   "source": [
    "df_all.columns"
   ]
  },
  {
   "cell_type": "code",
   "execution_count": 43,
   "id": "4698ba70",
   "metadata": {},
   "outputs": [],
   "source": [
    "df_all.drop(['device_category_id', 'line_item_type_id', 'os_id',\n",
    "       'monetization_channel_id','population', 'city_lat', 'city_lon'],axis=1,inplace=True)"
   ]
  },
  {
   "cell_type": "code",
   "execution_count": 45,
   "id": "963034fc",
   "metadata": {},
   "outputs": [
    {
     "data": {
      "text/html": [
       "<div>\n",
       "<style scoped>\n",
       "    .dataframe tbody tr th:only-of-type {\n",
       "        vertical-align: middle;\n",
       "    }\n",
       "\n",
       "    .dataframe tbody tr th {\n",
       "        vertical-align: top;\n",
       "    }\n",
       "\n",
       "    .dataframe thead th {\n",
       "        text-align: right;\n",
       "    }\n",
       "</style>\n",
       "<table border=\"1\" class=\"dataframe\">\n",
       "  <thead>\n",
       "    <tr style=\"text-align: right;\">\n",
       "      <th></th>\n",
       "      <th>device_type</th>\n",
       "      <th>line_item_type</th>\n",
       "      <th>monetization_channel</th>\n",
       "      <th>os_type</th>\n",
       "    </tr>\n",
       "  </thead>\n",
       "  <tbody>\n",
       "    <tr>\n",
       "      <th>0</th>\n",
       "      <td>phone</td>\n",
       "      <td>standard</td>\n",
       "      <td>in-app_purchases</td>\n",
       "      <td>mac</td>\n",
       "    </tr>\n",
       "    <tr>\n",
       "      <th>1</th>\n",
       "      <td>laptop</td>\n",
       "      <td>standard</td>\n",
       "      <td>in-app_purchases</td>\n",
       "      <td>windows</td>\n",
       "    </tr>\n",
       "    <tr>\n",
       "      <th>2</th>\n",
       "      <td>tablet</td>\n",
       "      <td>standard</td>\n",
       "      <td>in-app_purchases</td>\n",
       "      <td>android</td>\n",
       "    </tr>\n",
       "    <tr>\n",
       "      <th>3</th>\n",
       "      <td>laptop</td>\n",
       "      <td>standard</td>\n",
       "      <td>in-app_purchases</td>\n",
       "      <td>windows</td>\n",
       "    </tr>\n",
       "    <tr>\n",
       "      <th>4</th>\n",
       "      <td>tablet</td>\n",
       "      <td>standard</td>\n",
       "      <td>in-app_purchases</td>\n",
       "      <td>android</td>\n",
       "    </tr>\n",
       "    <tr>\n",
       "      <th>...</th>\n",
       "      <td>...</td>\n",
       "      <td>...</td>\n",
       "      <td>...</td>\n",
       "      <td>...</td>\n",
       "    </tr>\n",
       "    <tr>\n",
       "      <th>567286</th>\n",
       "      <td>tablet</td>\n",
       "      <td>adsense</td>\n",
       "      <td>sponsorship</td>\n",
       "      <td>android</td>\n",
       "    </tr>\n",
       "    <tr>\n",
       "      <th>567287</th>\n",
       "      <td>tablet</td>\n",
       "      <td>adsense</td>\n",
       "      <td>sponsorship</td>\n",
       "      <td>android</td>\n",
       "    </tr>\n",
       "    <tr>\n",
       "      <th>567288</th>\n",
       "      <td>tablet</td>\n",
       "      <td>adsense</td>\n",
       "      <td>sponsorship</td>\n",
       "      <td>android</td>\n",
       "    </tr>\n",
       "    <tr>\n",
       "      <th>567289</th>\n",
       "      <td>laptop</td>\n",
       "      <td>adsense</td>\n",
       "      <td>sponsorship</td>\n",
       "      <td>windows</td>\n",
       "    </tr>\n",
       "    <tr>\n",
       "      <th>567290</th>\n",
       "      <td>tablet</td>\n",
       "      <td>adsense</td>\n",
       "      <td>sponsorship</td>\n",
       "      <td>android</td>\n",
       "    </tr>\n",
       "  </tbody>\n",
       "</table>\n",
       "<p>567291 rows × 4 columns</p>\n",
       "</div>"
      ],
      "text/plain": [
       "       device_type line_item_type monetization_channel  os_type\n",
       "0            phone       standard     in-app_purchases      mac\n",
       "1           laptop       standard     in-app_purchases  windows\n",
       "2           tablet       standard     in-app_purchases  android\n",
       "3           laptop       standard     in-app_purchases  windows\n",
       "4           tablet       standard     in-app_purchases  android\n",
       "...            ...            ...                  ...      ...\n",
       "567286      tablet        adsense          sponsorship  android\n",
       "567287      tablet        adsense          sponsorship  android\n",
       "567288      tablet        adsense          sponsorship  android\n",
       "567289      laptop        adsense          sponsorship  windows\n",
       "567290      tablet        adsense          sponsorship  android\n",
       "\n",
       "[567291 rows x 4 columns]"
      ]
     },
     "execution_count": 45,
     "metadata": {},
     "output_type": "execute_result"
    }
   ],
   "source": [
    "df_all.select_dtypes(object)"
   ]
  },
  {
   "cell_type": "code",
   "execution_count": 47,
   "id": "006f89ae-6bbc-4d63-8624-3f37c9c04fad",
   "metadata": {},
   "outputs": [
    {
     "data": {
      "image/png": "[encoded data removed]",
      "text/plain": [
       "<Figure size 640x480 with 1 Axes>"
      ]
     },
     "metadata": {},
     "output_type": "display_data"
    },
    {
     "data": {
      "image/png": "[encoded data removed]",
      "text/plain": [
       "<Figure size 640x480 with 1 Axes>"
      ]
     },
     "metadata": {},
     "output_type": "display_data"
    },
    {
     "data": {
      "image/png": "[encoded data removed]",
      "text/plain": [
       "<Figure size 640x480 with 1 Axes>"
      ]
     },
     "metadata": {},
     "output_type": "display_data"
    },
    {
     "data": {
      "image/png": "[encoded data removed]",
      "text/plain": [
       "<Figure size 640x480 with 1 Axes>"
      ]
     },
     "metadata": {},
     "output_type": "display_data"
    }
   ],
   "source": [
    "for i in df_all.select_dtypes(object).columns:\n",
    "    pd.crosstab(df_all['monetization_channel'],df_all[i]).plot(kind='bar')\n",
    "    plt.show()"
   ]
  },
  {
   "cell_type": "markdown",
   "id": "7ab7196b",
   "metadata": {},
   "source": [
    "# Predictive Modelling"
   ]
  },
  {
   "cell_type": "code",
   "execution_count": null,
   "id": "f12453c4-15b8-4d77-8d7d-b4a8aa2162db",
   "metadata": {},
   "outputs": [],
   "source": [
    "#df.info()"
   ]
  },
  {
   "cell_type": "code",
   "execution_count": 48,
   "id": "a4df5c85",
   "metadata": {},
   "outputs": [],
   "source": [
    "import joblib"
   ]
  },
  {
   "cell_type": "code",
   "execution_count": 49,
   "id": "a9147704-4046-457d-8ca2-c7235c0c0051",
   "metadata": {},
   "outputs": [],
   "source": [
    "Xd = df_all.drop('total_revenue',axis=1)\n",
    "y = df_all['total_revenue']"
   ]
  },
  {
   "cell_type": "code",
   "execution_count": 50,
   "id": "16b3694b",
   "metadata": {},
   "outputs": [
    {
     "name": "stdout",
     "output_type": "stream",
     "text": [
      "<class 'pandas.core.frame.DataFrame'>\n",
      "RangeIndex: 567291 entries, 0 to 567290\n",
      "Data columns (total 7 columns):\n",
      " #   Column                  Non-Null Count   Dtype \n",
      "---  ------                  --------------   ----- \n",
      " 0   total_impressions       567291 non-null  int16 \n",
      " 1   viewable_impressions    567291 non-null  int16 \n",
      " 2   measurable_impressions  567291 non-null  int16 \n",
      " 3   device_type             567291 non-null  object\n",
      " 4   line_item_type          567291 non-null  object\n",
      " 5   monetization_channel    567291 non-null  object\n",
      " 6   os_type                 567291 non-null  object\n",
      "dtypes: int16(3), object(4)\n",
      "memory usage: 20.6+ MB\n"
     ]
    }
   ],
   "source": [
    "Xd.info()"
   ]
  },
  {
   "cell_type": "code",
   "execution_count": null,
   "id": "8a446e87",
   "metadata": {},
   "outputs": [],
   "source": [
    "#df_all.info()"
   ]
  },
  {
   "cell_type": "code",
   "execution_count": null,
   "id": "0d15e0b2-fc4c-4df7-93dc-ae3d829a5d88",
   "metadata": {},
   "outputs": [],
   "source": [
    "#X = pd.get_dummies(Xd,drop_first=True)"
   ]
  },
  {
   "cell_type": "code",
   "execution_count": null,
   "id": "5a35cbd7",
   "metadata": {},
   "outputs": [],
   "source": [
    "#X.info()"
   ]
  },
  {
   "cell_type": "code",
   "execution_count": null,
   "id": "86301728-34bc-4f81-8f38-9b73a6e5e206",
   "metadata": {},
   "outputs": [],
   "source": [
    "#from sklearn.preprocessing import StandardScaler\n",
    "#ss = StandardScaler()"
   ]
  },
  {
   "cell_type": "code",
   "execution_count": null,
   "id": "b0caeacf-bba9-47e3-b386-ebd2c62d4f0f",
   "metadata": {},
   "outputs": [],
   "source": [
    "#X[pc_col] = pd.DataFrame(ss.fit_transform(X[pc_col]),columns=[pc_col])"
   ]
  },
  {
   "cell_type": "code",
   "execution_count": 51,
   "id": "a361d941-0784-4adc-aed8-69adba480dec",
   "metadata": {},
   "outputs": [],
   "source": [
    "from sklearn.model_selection import train_test_split\n",
    "X_train,X_test,y_train,y_test = train_test_split(Xd,y,test_size=0.2,random_state=4)"
   ]
  },
  {
   "cell_type": "code",
   "execution_count": 71,
   "id": "25dd13b9",
   "metadata": {},
   "outputs": [],
   "source": []
  },
  {
   "cell_type": "code",
   "execution_count": 52,
   "id": "83f62ad3-0adc-418b-8d21-e558d18a7a05",
   "metadata": {},
   "outputs": [],
   "source": [
    "pc_col = ['total_impressions', 'viewable_impressions', 'measurable_impressions']"
   ]
  },
  {
   "cell_type": "code",
   "execution_count": 73,
   "id": "58216303",
   "metadata": {},
   "outputs": [
    {
     "data": {
      "text/plain": [
       "39593.0374774503"
      ]
     },
     "execution_count": 73,
     "metadata": {},
     "output_type": "execute_result"
    }
   ],
   "source": []
  },
  {
   "cell_type": "code",
   "execution_count": 56,
   "id": "7a39c2e9",
   "metadata": {},
   "outputs": [],
   "source": [
    "preprocessor = ColumnTransformer(\n",
    "    transformers=[\n",
    "        ('num', Pipeline(steps=[\n",
    "            ('scaler', StandardScaler()),\n",
    "            ('pca', PCA(n_components=2))\n",
    "        ]), pc_col),\n",
    "        ('cat', OneHotEncoder(handle_unknown='ignore'), ['device_type', 'line_item_type', 'os_type',\n",
    "       'monetization_channel'])\n",
    "    ])\n",
    "\n",
    "pipeline = Pipeline(steps=[\n",
    "    ('preprocessor', preprocessor),\n",
    "    ('regressor', RandomForestRegressor())\n",
    "])"
   ]
  },
  {
   "cell_type": "code",
   "execution_count": 57,
   "id": "aa3c3b00",
   "metadata": {},
   "outputs": [],
   "source": [
    "models = [\n",
    "\n",
    "    {\n",
    "        'name': 'RandomForestRegressor',\n",
    "        'regressor': [RandomForestRegressor()],\n",
    "        'regressor__n_estimators': [50],\n",
    "        'regressor__max_depth': [10],\n",
    "        'regressor__min_samples_split': [2],\n",
    "        'regressor__min_samples_leaf': [1],\n",
    "        'regressor__bootstrap': [True]\n",
    "    },\n",
    "]"
   ]
  },
  {
   "cell_type": "code",
   "execution_count": 58,
   "id": "0bb07eb8",
   "metadata": {},
   "outputs": [
    {
     "name": "stdout",
     "output_type": "stream",
     "text": [
      "Training completed for model RandomForestRegressor\n",
      "Best model RandomForestRegressor saved to best_model_RandomForestRegressor.pkl\n"
     ]
    }
   ],
   "source": [
    "#pipeline = Pipeline(steps=[\n",
    "#    ('preprocessor', preprocessor),\n",
    "#    ('regressor', LinearRegression())  # Placeholder\n",
    "#])\n",
    "\n",
    "best_estimators = []\n",
    "for model_params in models:\n",
    "    model_name = model_params.pop('name')  # Extract the model name\n",
    "    grid_search = GridSearchCV(pipeline, model_params, cv=3, scoring='r2', n_jobs=-1)\n",
    "    grid_search.fit(X_train, y_train)\n",
    "    best_estimator = grid_search.best_estimator_\n",
    "    best_estimators.append(best_estimator)\n",
    "    print(f\"Training completed for model {model_name}\")\n",
    "    \n",
    "    # Save the best model\n",
    "    joblib.dump(best_estimator, f'best_model_{model_name}.pkl')\n",
    "    print(f\"Best model {model_name} saved to best_model_{model_name}.pkl\")"
   ]
  },
  {
   "cell_type": "code",
   "execution_count": 79,
   "id": "7411d987",
   "metadata": {},
   "outputs": [
    {
     "data": {
      "text/html": [
       "<style>#sk-container-id-1 {color: black;}#sk-container-id-1 pre{padding: 0;}#sk-container-id-1 div.sk-toggleable {background-color: white;}#sk-container-id-1 label.sk-toggleable__label {cursor: pointer;display: block;width: 100%;margin-bottom: 0;padding: 0.3em;box-sizing: border-box;text-align: center;}#sk-container-id-1 label.sk-toggleable__label-arrow:before {content: \"▸\";float: left;margin-right: 0.25em;color: #696969;}#sk-container-id-1 label.sk-toggleable__label-arrow:hover:before {color: black;}#sk-container-id-1 div.sk-estimator:hover label.sk-toggleable__label-arrow:before {color: black;}#sk-container-id-1 div.sk-toggleable__content {max-height: 0;max-width: 0;overflow: hidden;text-align: left;background-color: #f0f8ff;}#sk-container-id-1 div.sk-toggleable__content pre {margin: 0.2em;color: black;border-radius: 0.25em;background-color: #f0f8ff;}#sk-container-id-1 input.sk-toggleable__control:checked~div.sk-toggleable__content {max-height: 200px;max-width: 100%;overflow: auto;}#sk-container-id-1 input.sk-toggleable__control:checked~label.sk-toggleable__label-arrow:before {content: \"▾\";}#sk-container-id-1 div.sk-estimator input.sk-toggleable__control:checked~label.sk-toggleable__label {background-color: #d4ebff;}#sk-container-id-1 div.sk-label input.sk-toggleable__control:checked~label.sk-toggleable__label {background-color: #d4ebff;}#sk-container-id-1 input.sk-hidden--visually {border: 0;clip: rect(1px 1px 1px 1px);clip: rect(1px, 1px, 1px, 1px);height: 1px;margin: -1px;overflow: hidden;padding: 0;position: absolute;width: 1px;}#sk-container-id-1 div.sk-estimator {font-family: monospace;background-color: #f0f8ff;border: 1px dotted black;border-radius: 0.25em;box-sizing: border-box;margin-bottom: 0.5em;}#sk-container-id-1 div.sk-estimator:hover {background-color: #d4ebff;}#sk-container-id-1 div.sk-parallel-item::after {content: \"\";width: 100%;border-bottom: 1px solid gray;flex-grow: 1;}#sk-container-id-1 div.sk-label:hover label.sk-toggleable__label {background-color: #d4ebff;}#sk-container-id-1 div.sk-serial::before {content: \"\";position: absolute;border-left: 1px solid gray;box-sizing: border-box;top: 0;bottom: 0;left: 50%;z-index: 0;}#sk-container-id-1 div.sk-serial {display: flex;flex-direction: column;align-items: center;background-color: white;padding-right: 0.2em;padding-left: 0.2em;position: relative;}#sk-container-id-1 div.sk-item {position: relative;z-index: 1;}#sk-container-id-1 div.sk-parallel {display: flex;align-items: stretch;justify-content: center;background-color: white;position: relative;}#sk-container-id-1 div.sk-item::before, #sk-container-id-1 div.sk-parallel-item::before {content: \"\";position: absolute;border-left: 1px solid gray;box-sizing: border-box;top: 0;bottom: 0;left: 50%;z-index: -1;}#sk-container-id-1 div.sk-parallel-item {display: flex;flex-direction: column;z-index: 1;position: relative;background-color: white;}#sk-container-id-1 div.sk-parallel-item:first-child::after {align-self: flex-end;width: 50%;}#sk-container-id-1 div.sk-parallel-item:last-child::after {align-self: flex-start;width: 50%;}#sk-container-id-1 div.sk-parallel-item:only-child::after {width: 0;}#sk-container-id-1 div.sk-dashed-wrapped {border: 1px dashed gray;margin: 0 0.4em 0.5em 0.4em;box-sizing: border-box;padding-bottom: 0.4em;background-color: white;}#sk-container-id-1 div.sk-label label {font-family: monospace;font-weight: bold;display: inline-block;line-height: 1.2em;}#sk-container-id-1 div.sk-label-container {text-align: center;}#sk-container-id-1 div.sk-container {/* jupyter's `normalize.less` sets `[hidden] { display: none; }` but bootstrap.min.css set `[hidden] { display: none !important; }` so we also need the `!important` here to be able to override the default hidden behavior on the sphinx rendered scikit-learn.org. See: https://github.com/scikit-learn/scikit-learn/issues/21755 */display: inline-block !important;position: relative;}#sk-container-id-1 div.sk-text-repr-fallback {display: none;}</style><div id=\"sk-container-id-1\" class=\"sk-top-container\"><div class=\"sk-text-repr-fallback\"><pre>Pipeline(steps=[(&#x27;preprocessor&#x27;,\n",
       "                 ColumnTransformer(transformers=[(&#x27;num&#x27;,\n",
       "                                                  Pipeline(steps=[(&#x27;scaler&#x27;,\n",
       "                                                                   StandardScaler()),\n",
       "                                                                  (&#x27;pca&#x27;,\n",
       "                                                                   PCA(n_components=2))]),\n",
       "                                                  [&#x27;total_impressions&#x27;,\n",
       "                                                   &#x27;viewable_impressions&#x27;,\n",
       "                                                   &#x27;measurable_impressions&#x27;]),\n",
       "                                                 (&#x27;cat&#x27;,\n",
       "                                                  OneHotEncoder(handle_unknown=&#x27;ignore&#x27;),\n",
       "                                                  [&#x27;device_type&#x27;,\n",
       "                                                   &#x27;line_item_type&#x27;, &#x27;os_type&#x27;,\n",
       "                                                   &#x27;monetization_channel&#x27;])])),\n",
       "                (&#x27;regressor&#x27;,\n",
       "                 RandomForestRegressor(max_depth=10, n_estimators=50))])</pre><b>In a Jupyter environment, please rerun this cell to show the HTML representation or trust the notebook. <br />On GitHub, the HTML representation is unable to render, please try loading this page with nbviewer.org.</b></div><div class=\"sk-container\" hidden><div class=\"sk-item sk-dashed-wrapped\"><div class=\"sk-label-container\"><div class=\"sk-label sk-toggleable\"><input class=\"sk-toggleable__control sk-hidden--visually\" id=\"sk-estimator-id-1\" type=\"checkbox\" ><label for=\"sk-estimator-id-1\" class=\"sk-toggleable__label sk-toggleable__label-arrow\">Pipeline</label><div class=\"sk-toggleable__content\"><pre>Pipeline(steps=[(&#x27;preprocessor&#x27;,\n",
       "                 ColumnTransformer(transformers=[(&#x27;num&#x27;,\n",
       "                                                  Pipeline(steps=[(&#x27;scaler&#x27;,\n",
       "                                                                   StandardScaler()),\n",
       "                                                                  (&#x27;pca&#x27;,\n",
       "                                                                   PCA(n_components=2))]),\n",
       "                                                  [&#x27;total_impressions&#x27;,\n",
       "                                                   &#x27;viewable_impressions&#x27;,\n",
       "                                                   &#x27;measurable_impressions&#x27;]),\n",
       "                                                 (&#x27;cat&#x27;,\n",
       "                                                  OneHotEncoder(handle_unknown=&#x27;ignore&#x27;),\n",
       "                                                  [&#x27;device_type&#x27;,\n",
       "                                                   &#x27;line_item_type&#x27;, &#x27;os_type&#x27;,\n",
       "                                                   &#x27;monetization_channel&#x27;])])),\n",
       "                (&#x27;regressor&#x27;,\n",
       "                 RandomForestRegressor(max_depth=10, n_estimators=50))])</pre></div></div></div><div class=\"sk-serial\"><div class=\"sk-item sk-dashed-wrapped\"><div class=\"sk-label-container\"><div class=\"sk-label sk-toggleable\"><input class=\"sk-toggleable__control sk-hidden--visually\" id=\"sk-estimator-id-2\" type=\"checkbox\" ><label for=\"sk-estimator-id-2\" class=\"sk-toggleable__label sk-toggleable__label-arrow\">preprocessor: ColumnTransformer</label><div class=\"sk-toggleable__content\"><pre>ColumnTransformer(transformers=[(&#x27;num&#x27;,\n",
       "                                 Pipeline(steps=[(&#x27;scaler&#x27;, StandardScaler()),\n",
       "                                                 (&#x27;pca&#x27;, PCA(n_components=2))]),\n",
       "                                 [&#x27;total_impressions&#x27;, &#x27;viewable_impressions&#x27;,\n",
       "                                  &#x27;measurable_impressions&#x27;]),\n",
       "                                (&#x27;cat&#x27;, OneHotEncoder(handle_unknown=&#x27;ignore&#x27;),\n",
       "                                 [&#x27;device_type&#x27;, &#x27;line_item_type&#x27;, &#x27;os_type&#x27;,\n",
       "                                  &#x27;monetization_channel&#x27;])])</pre></div></div></div><div class=\"sk-parallel\"><div class=\"sk-parallel-item\"><div class=\"sk-item\"><div class=\"sk-label-container\"><div class=\"sk-label sk-toggleable\"><input class=\"sk-toggleable__control sk-hidden--visually\" id=\"sk-estimator-id-3\" type=\"checkbox\" ><label for=\"sk-estimator-id-3\" class=\"sk-toggleable__label sk-toggleable__label-arrow\">num</label><div class=\"sk-toggleable__content\"><pre>[&#x27;total_impressions&#x27;, &#x27;viewable_impressions&#x27;, &#x27;measurable_impressions&#x27;]</pre></div></div></div><div class=\"sk-serial\"><div class=\"sk-item\"><div class=\"sk-serial\"><div class=\"sk-item\"><div class=\"sk-estimator sk-toggleable\"><input class=\"sk-toggleable__control sk-hidden--visually\" id=\"sk-estimator-id-4\" type=\"checkbox\" ><label for=\"sk-estimator-id-4\" class=\"sk-toggleable__label sk-toggleable__label-arrow\">StandardScaler</label><div class=\"sk-toggleable__content\"><pre>StandardScaler()</pre></div></div></div><div class=\"sk-item\"><div class=\"sk-estimator sk-toggleable\"><input class=\"sk-toggleable__control sk-hidden--visually\" id=\"sk-estimator-id-5\" type=\"checkbox\" ><label for=\"sk-estimator-id-5\" class=\"sk-toggleable__label sk-toggleable__label-arrow\">PCA</label><div class=\"sk-toggleable__content\"><pre>PCA(n_components=2)</pre></div></div></div></div></div></div></div></div><div class=\"sk-parallel-item\"><div class=\"sk-item\"><div class=\"sk-label-container\"><div class=\"sk-label sk-toggleable\"><input class=\"sk-toggleable__control sk-hidden--visually\" id=\"sk-estimator-id-6\" type=\"checkbox\" ><label for=\"sk-estimator-id-6\" class=\"sk-toggleable__label sk-toggleable__label-arrow\">cat</label><div class=\"sk-toggleable__content\"><pre>[&#x27;device_type&#x27;, &#x27;line_item_type&#x27;, &#x27;os_type&#x27;, &#x27;monetization_channel&#x27;]</pre></div></div></div><div class=\"sk-serial\"><div class=\"sk-item\"><div class=\"sk-estimator sk-toggleable\"><input class=\"sk-toggleable__control sk-hidden--visually\" id=\"sk-estimator-id-7\" type=\"checkbox\" ><label for=\"sk-estimator-id-7\" class=\"sk-toggleable__label sk-toggleable__label-arrow\">OneHotEncoder</label><div class=\"sk-toggleable__content\"><pre>OneHotEncoder(handle_unknown=&#x27;ignore&#x27;)</pre></div></div></div></div></div></div></div></div><div class=\"sk-item\"><div class=\"sk-estimator sk-toggleable\"><input class=\"sk-toggleable__control sk-hidden--visually\" id=\"sk-estimator-id-8\" type=\"checkbox\" ><label for=\"sk-estimator-id-8\" class=\"sk-toggleable__label sk-toggleable__label-arrow\">RandomForestRegressor</label><div class=\"sk-toggleable__content\"><pre>RandomForestRegressor(max_depth=10, n_estimators=50)</pre></div></div></div></div></div></div></div>"
      ],
      "text/plain": [
       "Pipeline(steps=[('preprocessor',\n",
       "                 ColumnTransformer(transformers=[('num',\n",
       "                                                  Pipeline(steps=[('scaler',\n",
       "                                                                   StandardScaler()),\n",
       "                                                                  ('pca',\n",
       "                                                                   PCA(n_components=2))]),\n",
       "                                                  ['total_impressions',\n",
       "                                                   'viewable_impressions',\n",
       "                                                   'measurable_impressions']),\n",
       "                                                 ('cat',\n",
       "                                                  OneHotEncoder(handle_unknown='ignore'),\n",
       "                                                  ['device_type',\n",
       "                                                   'line_item_type', 'os_type',\n",
       "                                                   'monetization_channel'])])),\n",
       "                ('regressor',\n",
       "                 RandomForestRegressor(max_depth=10, n_estimators=50))])"
      ]
     },
     "execution_count": 79,
     "metadata": {},
     "output_type": "execute_result"
    }
   ],
   "source": [
    "best_estimator"
   ]
  },
  {
   "cell_type": "code",
   "execution_count": 62,
   "id": "5d95ccda",
   "metadata": {},
   "outputs": [
    {
     "data": {
      "text/html": [
       "<div>\n",
       "<style scoped>\n",
       "    .dataframe tbody tr th:only-of-type {\n",
       "        vertical-align: middle;\n",
       "    }\n",
       "\n",
       "    .dataframe tbody tr th {\n",
       "        vertical-align: top;\n",
       "    }\n",
       "\n",
       "    .dataframe thead th {\n",
       "        text-align: right;\n",
       "    }\n",
       "</style>\n",
       "<table border=\"1\" class=\"dataframe\">\n",
       "  <thead>\n",
       "    <tr style=\"text-align: right;\">\n",
       "      <th></th>\n",
       "      <th>model</th>\n",
       "      <th>best_params</th>\n",
       "      <th>mse</th>\n",
       "      <th>r2</th>\n",
       "    </tr>\n",
       "  </thead>\n",
       "  <tbody>\n",
       "    <tr>\n",
       "      <th>0</th>\n",
       "      <td>RandomForestRegressor</td>\n",
       "      <td>{'bootstrap': True, 'ccp_alpha': 0.0, 'criteri...</td>\n",
       "      <td>0.112634</td>\n",
       "      <td>0.736915</td>\n",
       "    </tr>\n",
       "  </tbody>\n",
       "</table>\n",
       "</div>"
      ],
      "text/plain": [
       "                   model                                        best_params  \\\n",
       "0  RandomForestRegressor  {'bootstrap': True, 'ccp_alpha': 0.0, 'criteri...   \n",
       "\n",
       "        mse        r2  \n",
       "0  0.112634  0.736915  "
      ]
     },
     "execution_count": 62,
     "metadata": {},
     "output_type": "execute_result"
    }
   ],
   "source": [
    "results = []\n",
    "for estimator in best_estimators:\n",
    "    y_pred_train = estimator.predict(X_train)\n",
    "    y_pred_test = estimator.predict(X_test)\n",
    "    mse = mean_squared_error(y_test, y_pred_test)\n",
    "    r2 = r2_score(y_test, y_pred_test)\n",
    "    results.append({\n",
    "        'model': estimator.named_steps['regressor'].__class__.__name__,\n",
    "        'best_params': estimator.named_steps['regressor'].get_params(),\n",
    "        'mse': mse,\n",
    "        'r2': r2\n",
    "    })\n",
    "\n",
    "results_df = pd.DataFrame(results)\n",
    "results_df"
   ]
  },
  {
   "cell_type": "code",
   "execution_count": null,
   "id": "7391ab90",
   "metadata": {},
   "outputs": [],
   "source": [
    "df_all['predicted_revenue'] = best_estimator.predict(Xd)"
   ]
  },
  {
   "cell_type": "code",
   "execution_count": 77,
   "id": "59701539",
   "metadata": {},
   "outputs": [],
   "source": [
    "df_copy['predicted_revenue'] = best_estimator.predict(Xd)"
   ]
  },
  {
   "cell_type": "code",
   "execution_count": 78,
   "id": "c00dadc3",
   "metadata": {},
   "outputs": [
    {
     "data": {
      "text/html": [
       "<div>\n",
       "<style scoped>\n",
       "    .dataframe tbody tr th:only-of-type {\n",
       "        vertical-align: middle;\n",
       "    }\n",
       "\n",
       "    .dataframe tbody tr th {\n",
       "        vertical-align: top;\n",
       "    }\n",
       "\n",
       "    .dataframe thead th {\n",
       "        text-align: right;\n",
       "    }\n",
       "</style>\n",
       "<table border=\"1\" class=\"dataframe\">\n",
       "  <thead>\n",
       "    <tr style=\"text-align: right;\">\n",
       "      <th></th>\n",
       "      <th>AD_DATE</th>\n",
       "      <th>SITE_ID</th>\n",
       "      <th>AD_TYPE_ID</th>\n",
       "      <th>GEO_ID</th>\n",
       "      <th>DEVICE_CATEGORY_ID</th>\n",
       "      <th>ADVERTISER_ID</th>\n",
       "      <th>ORDER_ID</th>\n",
       "      <th>LINE_ITEM_TYPE_ID</th>\n",
       "      <th>OS_ID</th>\n",
       "      <th>MONETIZATION_CHANNEL_ID</th>\n",
       "      <th>AD_UNIT_ID</th>\n",
       "      <th>TOTAL_IMPRESSIONS</th>\n",
       "      <th>TOTAL_REVENUE</th>\n",
       "      <th>VIEWABLE_IMPRESSIONS</th>\n",
       "      <th>MEASURABLE_IMPRESSIONS</th>\n",
       "      <th>REVENUE_SHARE_PERCENT</th>\n",
       "      <th>AD_TYPE</th>\n",
       "      <th>AD_FORMAT</th>\n",
       "      <th>AD_MEDIA_TYPE</th>\n",
       "      <th>DEVICE_TYPE</th>\n",
       "      <th>CITY</th>\n",
       "      <th>CITY_CODE</th>\n",
       "      <th>POPULATION</th>\n",
       "      <th>CITY_LAT</th>\n",
       "      <th>CITY_LON</th>\n",
       "      <th>LINE_ITEM_GROUP</th>\n",
       "      <th>LINE_ITEM_TYPE</th>\n",
       "      <th>MONETIZATION_CHANNEL</th>\n",
       "      <th>OS_TYPE</th>\n",
       "      <th>predicted_revenue</th>\n",
       "    </tr>\n",
       "  </thead>\n",
       "  <tbody>\n",
       "    <tr>\n",
       "      <th>0</th>\n",
       "      <td>2024-06-18</td>\n",
       "      <td>350</td>\n",
       "      <td>10</td>\n",
       "      <td>33</td>\n",
       "      <td>3</td>\n",
       "      <td>79</td>\n",
       "      <td>3485</td>\n",
       "      <td>8</td>\n",
       "      <td>59</td>\n",
       "      <td>19</td>\n",
       "      <td>5168</td>\n",
       "      <td>2</td>\n",
       "      <td>0.0</td>\n",
       "      <td>0</td>\n",
       "      <td>2</td>\n",
       "      <td>1</td>\n",
       "      <td>interactive</td>\n",
       "      <td>in_feed</td>\n",
       "      <td>survey</td>\n",
       "      <td>phone</td>\n",
       "      <td>Los Angeles</td>\n",
       "      <td>CA</td>\n",
       "      <td>3820914</td>\n",
       "      <td>34.02</td>\n",
       "      <td>-118.41</td>\n",
       "      <td>guaranteed</td>\n",
       "      <td>standard</td>\n",
       "      <td>in-app_purchases</td>\n",
       "      <td>mac</td>\n",
       "      <td>0.000767</td>\n",
       "    </tr>\n",
       "    <tr>\n",
       "      <th>1</th>\n",
       "      <td>2024-06-18</td>\n",
       "      <td>350</td>\n",
       "      <td>10</td>\n",
       "      <td>33</td>\n",
       "      <td>2</td>\n",
       "      <td>79</td>\n",
       "      <td>3485</td>\n",
       "      <td>8</td>\n",
       "      <td>60</td>\n",
       "      <td>19</td>\n",
       "      <td>5168</td>\n",
       "      <td>2</td>\n",
       "      <td>0.0</td>\n",
       "      <td>0</td>\n",
       "      <td>2</td>\n",
       "      <td>1</td>\n",
       "      <td>interactive</td>\n",
       "      <td>in_feed</td>\n",
       "      <td>survey</td>\n",
       "      <td>laptop</td>\n",
       "      <td>Los Angeles</td>\n",
       "      <td>CA</td>\n",
       "      <td>3820914</td>\n",
       "      <td>34.02</td>\n",
       "      <td>-118.41</td>\n",
       "      <td>guaranteed</td>\n",
       "      <td>standard</td>\n",
       "      <td>in-app_purchases</td>\n",
       "      <td>windows</td>\n",
       "      <td>0.000767</td>\n",
       "    </tr>\n",
       "    <tr>\n",
       "      <th>2</th>\n",
       "      <td>2024-06-18</td>\n",
       "      <td>350</td>\n",
       "      <td>10</td>\n",
       "      <td>27</td>\n",
       "      <td>1</td>\n",
       "      <td>79</td>\n",
       "      <td>3485</td>\n",
       "      <td>8</td>\n",
       "      <td>56</td>\n",
       "      <td>19</td>\n",
       "      <td>5168</td>\n",
       "      <td>2</td>\n",
       "      <td>0.0</td>\n",
       "      <td>0</td>\n",
       "      <td>2</td>\n",
       "      <td>1</td>\n",
       "      <td>interactive</td>\n",
       "      <td>in_feed</td>\n",
       "      <td>survey</td>\n",
       "      <td>tablet</td>\n",
       "      <td>Orlando</td>\n",
       "      <td>FL</td>\n",
       "      <td>320742</td>\n",
       "      <td>28.41</td>\n",
       "      <td>-81.25</td>\n",
       "      <td>guaranteed</td>\n",
       "      <td>standard</td>\n",
       "      <td>in-app_purchases</td>\n",
       "      <td>android</td>\n",
       "      <td>0.000767</td>\n",
       "    </tr>\n",
       "    <tr>\n",
       "      <th>3</th>\n",
       "      <td>2024-06-18</td>\n",
       "      <td>350</td>\n",
       "      <td>10</td>\n",
       "      <td>24</td>\n",
       "      <td>2</td>\n",
       "      <td>79</td>\n",
       "      <td>3485</td>\n",
       "      <td>8</td>\n",
       "      <td>60</td>\n",
       "      <td>19</td>\n",
       "      <td>5168</td>\n",
       "      <td>2</td>\n",
       "      <td>0.0</td>\n",
       "      <td>0</td>\n",
       "      <td>2</td>\n",
       "      <td>1</td>\n",
       "      <td>interactive</td>\n",
       "      <td>in_feed</td>\n",
       "      <td>survey</td>\n",
       "      <td>laptop</td>\n",
       "      <td>Jacksonville</td>\n",
       "      <td>FL</td>\n",
       "      <td>985843</td>\n",
       "      <td>30.34</td>\n",
       "      <td>-81.66</td>\n",
       "      <td>guaranteed</td>\n",
       "      <td>standard</td>\n",
       "      <td>in-app_purchases</td>\n",
       "      <td>windows</td>\n",
       "      <td>0.000767</td>\n",
       "    </tr>\n",
       "    <tr>\n",
       "      <th>4</th>\n",
       "      <td>2024-06-18</td>\n",
       "      <td>350</td>\n",
       "      <td>10</td>\n",
       "      <td>21</td>\n",
       "      <td>1</td>\n",
       "      <td>79</td>\n",
       "      <td>3485</td>\n",
       "      <td>8</td>\n",
       "      <td>56</td>\n",
       "      <td>19</td>\n",
       "      <td>5168</td>\n",
       "      <td>2</td>\n",
       "      <td>0.0</td>\n",
       "      <td>0</td>\n",
       "      <td>2</td>\n",
       "      <td>1</td>\n",
       "      <td>interactive</td>\n",
       "      <td>in_feed</td>\n",
       "      <td>survey</td>\n",
       "      <td>tablet</td>\n",
       "      <td>Worcester</td>\n",
       "      <td>MA</td>\n",
       "      <td>207621</td>\n",
       "      <td>42.27</td>\n",
       "      <td>-71.81</td>\n",
       "      <td>guaranteed</td>\n",
       "      <td>standard</td>\n",
       "      <td>in-app_purchases</td>\n",
       "      <td>android</td>\n",
       "      <td>0.000767</td>\n",
       "    </tr>\n",
       "    <tr>\n",
       "      <th>...</th>\n",
       "      <td>...</td>\n",
       "      <td>...</td>\n",
       "      <td>...</td>\n",
       "      <td>...</td>\n",
       "      <td>...</td>\n",
       "      <td>...</td>\n",
       "      <td>...</td>\n",
       "      <td>...</td>\n",
       "      <td>...</td>\n",
       "      <td>...</td>\n",
       "      <td>...</td>\n",
       "      <td>...</td>\n",
       "      <td>...</td>\n",
       "      <td>...</td>\n",
       "      <td>...</td>\n",
       "      <td>...</td>\n",
       "      <td>...</td>\n",
       "      <td>...</td>\n",
       "      <td>...</td>\n",
       "      <td>...</td>\n",
       "      <td>...</td>\n",
       "      <td>...</td>\n",
       "      <td>...</td>\n",
       "      <td>...</td>\n",
       "      <td>...</td>\n",
       "      <td>...</td>\n",
       "      <td>...</td>\n",
       "      <td>...</td>\n",
       "      <td>...</td>\n",
       "      <td>...</td>\n",
       "    </tr>\n",
       "    <tr>\n",
       "      <th>567286</th>\n",
       "      <td>2024-07-09</td>\n",
       "      <td>349</td>\n",
       "      <td>10</td>\n",
       "      <td>187</td>\n",
       "      <td>1</td>\n",
       "      <td>2089</td>\n",
       "      <td>3445</td>\n",
       "      <td>11</td>\n",
       "      <td>56</td>\n",
       "      <td>1</td>\n",
       "      <td>5160</td>\n",
       "      <td>6792</td>\n",
       "      <td>0.0</td>\n",
       "      <td>4340</td>\n",
       "      <td>6788</td>\n",
       "      <td>1</td>\n",
       "      <td>interactive</td>\n",
       "      <td>retargetted</td>\n",
       "      <td>survey</td>\n",
       "      <td>tablet</td>\n",
       "      <td>New York</td>\n",
       "      <td>NY</td>\n",
       "      <td>8258035</td>\n",
       "      <td>40.66</td>\n",
       "      <td>-73.94</td>\n",
       "      <td>non_guaranteed</td>\n",
       "      <td>adsense</td>\n",
       "      <td>sponsorship</td>\n",
       "      <td>android</td>\n",
       "      <td>0.000000</td>\n",
       "    </tr>\n",
       "    <tr>\n",
       "      <th>567287</th>\n",
       "      <td>2024-06-28</td>\n",
       "      <td>349</td>\n",
       "      <td>10</td>\n",
       "      <td>187</td>\n",
       "      <td>1</td>\n",
       "      <td>2089</td>\n",
       "      <td>3445</td>\n",
       "      <td>11</td>\n",
       "      <td>56</td>\n",
       "      <td>1</td>\n",
       "      <td>5160</td>\n",
       "      <td>6734</td>\n",
       "      <td>0.0</td>\n",
       "      <td>4498</td>\n",
       "      <td>6730</td>\n",
       "      <td>1</td>\n",
       "      <td>interactive</td>\n",
       "      <td>retargetted</td>\n",
       "      <td>survey</td>\n",
       "      <td>tablet</td>\n",
       "      <td>New York</td>\n",
       "      <td>NY</td>\n",
       "      <td>8258035</td>\n",
       "      <td>40.66</td>\n",
       "      <td>-73.94</td>\n",
       "      <td>non_guaranteed</td>\n",
       "      <td>adsense</td>\n",
       "      <td>sponsorship</td>\n",
       "      <td>android</td>\n",
       "      <td>0.000000</td>\n",
       "    </tr>\n",
       "    <tr>\n",
       "      <th>567288</th>\n",
       "      <td>2024-07-09</td>\n",
       "      <td>348</td>\n",
       "      <td>10</td>\n",
       "      <td>187</td>\n",
       "      <td>1</td>\n",
       "      <td>2641</td>\n",
       "      <td>3484</td>\n",
       "      <td>11</td>\n",
       "      <td>56</td>\n",
       "      <td>1</td>\n",
       "      <td>5137</td>\n",
       "      <td>6822</td>\n",
       "      <td>0.0</td>\n",
       "      <td>5392</td>\n",
       "      <td>6820</td>\n",
       "      <td>1</td>\n",
       "      <td>interactive</td>\n",
       "      <td>rewarded</td>\n",
       "      <td>reels</td>\n",
       "      <td>tablet</td>\n",
       "      <td>New York</td>\n",
       "      <td>NY</td>\n",
       "      <td>8258035</td>\n",
       "      <td>40.66</td>\n",
       "      <td>-73.94</td>\n",
       "      <td>non_guaranteed</td>\n",
       "      <td>adsense</td>\n",
       "      <td>sponsorship</td>\n",
       "      <td>android</td>\n",
       "      <td>4.758004</td>\n",
       "    </tr>\n",
       "    <tr>\n",
       "      <th>567289</th>\n",
       "      <td>2024-06-21</td>\n",
       "      <td>349</td>\n",
       "      <td>10</td>\n",
       "      <td>187</td>\n",
       "      <td>2</td>\n",
       "      <td>2089</td>\n",
       "      <td>3445</td>\n",
       "      <td>11</td>\n",
       "      <td>60</td>\n",
       "      <td>1</td>\n",
       "      <td>5159</td>\n",
       "      <td>8024</td>\n",
       "      <td>0.0</td>\n",
       "      <td>5728</td>\n",
       "      <td>8024</td>\n",
       "      <td>1</td>\n",
       "      <td>interactive</td>\n",
       "      <td>retargetted</td>\n",
       "      <td>rich_media</td>\n",
       "      <td>laptop</td>\n",
       "      <td>New York</td>\n",
       "      <td>NY</td>\n",
       "      <td>8258035</td>\n",
       "      <td>40.66</td>\n",
       "      <td>-73.94</td>\n",
       "      <td>non_guaranteed</td>\n",
       "      <td>adsense</td>\n",
       "      <td>sponsorship</td>\n",
       "      <td>windows</td>\n",
       "      <td>3.917164</td>\n",
       "    </tr>\n",
       "    <tr>\n",
       "      <th>567290</th>\n",
       "      <td>2024-07-02</td>\n",
       "      <td>349</td>\n",
       "      <td>10</td>\n",
       "      <td>187</td>\n",
       "      <td>1</td>\n",
       "      <td>2089</td>\n",
       "      <td>3445</td>\n",
       "      <td>11</td>\n",
       "      <td>56</td>\n",
       "      <td>1</td>\n",
       "      <td>5160</td>\n",
       "      <td>9218</td>\n",
       "      <td>0.0</td>\n",
       "      <td>5854</td>\n",
       "      <td>9208</td>\n",
       "      <td>1</td>\n",
       "      <td>interactive</td>\n",
       "      <td>retargetted</td>\n",
       "      <td>survey</td>\n",
       "      <td>tablet</td>\n",
       "      <td>New York</td>\n",
       "      <td>NY</td>\n",
       "      <td>8258035</td>\n",
       "      <td>40.66</td>\n",
       "      <td>-73.94</td>\n",
       "      <td>non_guaranteed</td>\n",
       "      <td>adsense</td>\n",
       "      <td>sponsorship</td>\n",
       "      <td>android</td>\n",
       "      <td>15.058676</td>\n",
       "    </tr>\n",
       "  </tbody>\n",
       "</table>\n",
       "<p>567291 rows × 30 columns</p>\n",
       "</div>"
      ],
      "text/plain": [
       "           AD_DATE  SITE_ID  AD_TYPE_ID  GEO_ID  DEVICE_CATEGORY_ID  \\\n",
       "0       2024-06-18      350          10      33                   3   \n",
       "1       2024-06-18      350          10      33                   2   \n",
       "2       2024-06-18      350          10      27                   1   \n",
       "3       2024-06-18      350          10      24                   2   \n",
       "4       2024-06-18      350          10      21                   1   \n",
       "...            ...      ...         ...     ...                 ...   \n",
       "567286  2024-07-09      349          10     187                   1   \n",
       "567287  2024-06-28      349          10     187                   1   \n",
       "567288  2024-07-09      348          10     187                   1   \n",
       "567289  2024-06-21      349          10     187                   2   \n",
       "567290  2024-07-02      349          10     187                   1   \n",
       "\n",
       "        ADVERTISER_ID  ORDER_ID  LINE_ITEM_TYPE_ID  OS_ID  \\\n",
       "0                  79      3485                  8     59   \n",
       "1                  79      3485                  8     60   \n",
       "2                  79      3485                  8     56   \n",
       "3                  79      3485                  8     60   \n",
       "4                  79      3485                  8     56   \n",
       "...               ...       ...                ...    ...   \n",
       "567286           2089      3445                 11     56   \n",
       "567287           2089      3445                 11     56   \n",
       "567288           2641      3484                 11     56   \n",
       "567289           2089      3445                 11     60   \n",
       "567290           2089      3445                 11     56   \n",
       "\n",
       "        MONETIZATION_CHANNEL_ID  AD_UNIT_ID  TOTAL_IMPRESSIONS  TOTAL_REVENUE  \\\n",
       "0                            19        5168                  2            0.0   \n",
       "1                            19        5168                  2            0.0   \n",
       "2                            19        5168                  2            0.0   \n",
       "3                            19        5168                  2            0.0   \n",
       "4                            19        5168                  2            0.0   \n",
       "...                         ...         ...                ...            ...   \n",
       "567286                        1        5160               6792            0.0   \n",
       "567287                        1        5160               6734            0.0   \n",
       "567288                        1        5137               6822            0.0   \n",
       "567289                        1        5159               8024            0.0   \n",
       "567290                        1        5160               9218            0.0   \n",
       "\n",
       "        VIEWABLE_IMPRESSIONS  MEASURABLE_IMPRESSIONS  REVENUE_SHARE_PERCENT  \\\n",
       "0                          0                       2                      1   \n",
       "1                          0                       2                      1   \n",
       "2                          0                       2                      1   \n",
       "3                          0                       2                      1   \n",
       "4                          0                       2                      1   \n",
       "...                      ...                     ...                    ...   \n",
       "567286                  4340                    6788                      1   \n",
       "567287                  4498                    6730                      1   \n",
       "567288                  5392                    6820                      1   \n",
       "567289                  5728                    8024                      1   \n",
       "567290                  5854                    9208                      1   \n",
       "\n",
       "            AD_TYPE    AD_FORMAT AD_MEDIA_TYPE DEVICE_TYPE          CITY  \\\n",
       "0       interactive      in_feed        survey       phone   Los Angeles   \n",
       "1       interactive      in_feed        survey      laptop   Los Angeles   \n",
       "2       interactive      in_feed        survey      tablet       Orlando   \n",
       "3       interactive      in_feed        survey      laptop  Jacksonville   \n",
       "4       interactive      in_feed        survey      tablet     Worcester   \n",
       "...             ...          ...           ...         ...           ...   \n",
       "567286  interactive  retargetted        survey      tablet      New York   \n",
       "567287  interactive  retargetted        survey      tablet      New York   \n",
       "567288  interactive     rewarded         reels      tablet      New York   \n",
       "567289  interactive  retargetted    rich_media      laptop      New York   \n",
       "567290  interactive  retargetted        survey      tablet      New York   \n",
       "\n",
       "       CITY_CODE  POPULATION  CITY_LAT  CITY_LON LINE_ITEM_GROUP  \\\n",
       "0             CA     3820914     34.02   -118.41      guaranteed   \n",
       "1             CA     3820914     34.02   -118.41      guaranteed   \n",
       "2             FL      320742     28.41    -81.25      guaranteed   \n",
       "3             FL      985843     30.34    -81.66      guaranteed   \n",
       "4             MA      207621     42.27    -71.81      guaranteed   \n",
       "...          ...         ...       ...       ...             ...   \n",
       "567286        NY     8258035     40.66    -73.94  non_guaranteed   \n",
       "567287        NY     8258035     40.66    -73.94  non_guaranteed   \n",
       "567288        NY     8258035     40.66    -73.94  non_guaranteed   \n",
       "567289        NY     8258035     40.66    -73.94  non_guaranteed   \n",
       "567290        NY     8258035     40.66    -73.94  non_guaranteed   \n",
       "\n",
       "       LINE_ITEM_TYPE MONETIZATION_CHANNEL  OS_TYPE  predicted_revenue  \n",
       "0            standard     in-app_purchases      mac           0.000767  \n",
       "1            standard     in-app_purchases  windows           0.000767  \n",
       "2            standard     in-app_purchases  android           0.000767  \n",
       "3            standard     in-app_purchases  windows           0.000767  \n",
       "4            standard     in-app_purchases  android           0.000767  \n",
       "...               ...                  ...      ...                ...  \n",
       "567286        adsense          sponsorship  android           0.000000  \n",
       "567287        adsense          sponsorship  android           0.000000  \n",
       "567288        adsense          sponsorship  android           4.758004  \n",
       "567289        adsense          sponsorship  windows           3.917164  \n",
       "567290        adsense          sponsorship  android          15.058676  \n",
       "\n",
       "[567291 rows x 30 columns]"
      ]
     },
     "execution_count": 78,
     "metadata": {},
     "output_type": "execute_result"
    }
   ],
   "source": [
    "df_copy"
   ]
  },
  {
   "cell_type": "code",
   "execution_count": null,
   "id": "17063d20",
   "metadata": {},
   "outputs": [],
   "source": [
    "y_pred_train.shape"
   ]
  },
  {
   "cell_type": "markdown",
   "id": "c786b737",
   "metadata": {},
   "source": [
    "# In this section we are joining multiple tables, realigning indexes to get the output"
   ]
  },
  {
   "cell_type": "code",
   "execution_count": null,
   "id": "9ded1557",
   "metadata": {},
   "outputs": [],
   "source": [
    "#check type of data (series/ array/ dataframe)\n",
    "\n",
    "type(Xd), type(X_train), type(X_test), type(y), type(y_train), type(y_test), type(results), type(y_pred) "
   ]
  },
  {
   "cell_type": "code",
   "execution_count": null,
   "id": "ca293e90",
   "metadata": {},
   "outputs": [],
   "source": [
    "y_pred"
   ]
  },
  {
   "cell_type": "markdown",
   "id": "d62a676a",
   "metadata": {},
   "source": [
    "# Creating Data frames as necessary"
   ]
  },
  {
   "cell_type": "code",
   "execution_count": 63,
   "id": "c32c7977",
   "metadata": {},
   "outputs": [
    {
     "name": "stdout",
     "output_type": "stream",
     "text": [
      "<class 'pandas.core.frame.DataFrame'>\n",
      "RangeIndex: 567291 entries, 0 to 567290\n",
      "Data columns (total 1 columns):\n",
      " #   Column         Non-Null Count   Dtype  \n",
      "---  ------         --------------   -----  \n",
      " 0   total_revenue  567291 non-null  float64\n",
      "dtypes: float64(1)\n",
      "memory usage: 4.3 MB\n"
     ]
    }
   ],
   "source": [
    "y_df= pd.DataFrame(y)\n",
    "y_df.info()"
   ]
  },
  {
   "cell_type": "code",
   "execution_count": 64,
   "id": "687b267c-3d9a-4dfe-b133-f57d9a7c18d9",
   "metadata": {},
   "outputs": [
    {
     "data": {
      "text/html": [
       "<div>\n",
       "<style scoped>\n",
       "    .dataframe tbody tr th:only-of-type {\n",
       "        vertical-align: middle;\n",
       "    }\n",
       "\n",
       "    .dataframe tbody tr th {\n",
       "        vertical-align: top;\n",
       "    }\n",
       "\n",
       "    .dataframe thead th {\n",
       "        text-align: right;\n",
       "    }\n",
       "</style>\n",
       "<table border=\"1\" class=\"dataframe\">\n",
       "  <thead>\n",
       "    <tr style=\"text-align: right;\">\n",
       "      <th></th>\n",
       "      <th>total_revenue</th>\n",
       "    </tr>\n",
       "  </thead>\n",
       "  <tbody>\n",
       "    <tr>\n",
       "      <th>250056</th>\n",
       "      <td>0.0000</td>\n",
       "    </tr>\n",
       "    <tr>\n",
       "      <th>415671</th>\n",
       "      <td>0.0000</td>\n",
       "    </tr>\n",
       "    <tr>\n",
       "      <th>319747</th>\n",
       "      <td>0.0000</td>\n",
       "    </tr>\n",
       "    <tr>\n",
       "      <th>488332</th>\n",
       "      <td>0.0000</td>\n",
       "    </tr>\n",
       "    <tr>\n",
       "      <th>503367</th>\n",
       "      <td>0.0000</td>\n",
       "    </tr>\n",
       "    <tr>\n",
       "      <th>...</th>\n",
       "      <td>...</td>\n",
       "    </tr>\n",
       "    <tr>\n",
       "      <th>458492</th>\n",
       "      <td>0.0000</td>\n",
       "    </tr>\n",
       "    <tr>\n",
       "      <th>107578</th>\n",
       "      <td>0.0136</td>\n",
       "    </tr>\n",
       "    <tr>\n",
       "      <th>120705</th>\n",
       "      <td>0.0400</td>\n",
       "    </tr>\n",
       "    <tr>\n",
       "      <th>377541</th>\n",
       "      <td>0.0000</td>\n",
       "    </tr>\n",
       "    <tr>\n",
       "      <th>485815</th>\n",
       "      <td>0.1306</td>\n",
       "    </tr>\n",
       "  </tbody>\n",
       "</table>\n",
       "<p>453832 rows × 1 columns</p>\n",
       "</div>"
      ],
      "text/plain": [
       "        total_revenue\n",
       "250056         0.0000\n",
       "415671         0.0000\n",
       "319747         0.0000\n",
       "488332         0.0000\n",
       "503367         0.0000\n",
       "...               ...\n",
       "458492         0.0000\n",
       "107578         0.0136\n",
       "120705         0.0400\n",
       "377541         0.0000\n",
       "485815         0.1306\n",
       "\n",
       "[453832 rows x 1 columns]"
      ]
     },
     "execution_count": 64,
     "metadata": {},
     "output_type": "execute_result"
    }
   ],
   "source": [
    "y_train_df= pd.DataFrame(y_train)\n",
    "y_train_df"
   ]
  },
  {
   "cell_type": "code",
   "execution_count": 65,
   "id": "83f5446b-9b87-4bdc-9221-ab78e778b0f5",
   "metadata": {},
   "outputs": [
    {
     "data": {
      "text/html": [
       "<div>\n",
       "<style scoped>\n",
       "    .dataframe tbody tr th:only-of-type {\n",
       "        vertical-align: middle;\n",
       "    }\n",
       "\n",
       "    .dataframe tbody tr th {\n",
       "        vertical-align: top;\n",
       "    }\n",
       "\n",
       "    .dataframe thead th {\n",
       "        text-align: right;\n",
       "    }\n",
       "</style>\n",
       "<table border=\"1\" class=\"dataframe\">\n",
       "  <thead>\n",
       "    <tr style=\"text-align: right;\">\n",
       "      <th></th>\n",
       "      <th>total_revenue</th>\n",
       "    </tr>\n",
       "  </thead>\n",
       "  <tbody>\n",
       "    <tr>\n",
       "      <th>542543</th>\n",
       "      <td>0.0010</td>\n",
       "    </tr>\n",
       "    <tr>\n",
       "      <th>317500</th>\n",
       "      <td>0.0000</td>\n",
       "    </tr>\n",
       "    <tr>\n",
       "      <th>553277</th>\n",
       "      <td>0.0346</td>\n",
       "    </tr>\n",
       "    <tr>\n",
       "      <th>265376</th>\n",
       "      <td>0.0000</td>\n",
       "    </tr>\n",
       "    <tr>\n",
       "      <th>119817</th>\n",
       "      <td>0.0364</td>\n",
       "    </tr>\n",
       "    <tr>\n",
       "      <th>...</th>\n",
       "      <td>...</td>\n",
       "    </tr>\n",
       "    <tr>\n",
       "      <th>295676</th>\n",
       "      <td>0.0000</td>\n",
       "    </tr>\n",
       "    <tr>\n",
       "      <th>118927</th>\n",
       "      <td>0.0332</td>\n",
       "    </tr>\n",
       "    <tr>\n",
       "      <th>8044</th>\n",
       "      <td>0.0000</td>\n",
       "    </tr>\n",
       "    <tr>\n",
       "      <th>300743</th>\n",
       "      <td>0.0000</td>\n",
       "    </tr>\n",
       "    <tr>\n",
       "      <th>94897</th>\n",
       "      <td>0.0074</td>\n",
       "    </tr>\n",
       "  </tbody>\n",
       "</table>\n",
       "<p>113459 rows × 1 columns</p>\n",
       "</div>"
      ],
      "text/plain": [
       "        total_revenue\n",
       "542543         0.0010\n",
       "317500         0.0000\n",
       "553277         0.0346\n",
       "265376         0.0000\n",
       "119817         0.0364\n",
       "...               ...\n",
       "295676         0.0000\n",
       "118927         0.0332\n",
       "8044           0.0000\n",
       "300743         0.0000\n",
       "94897          0.0074\n",
       "\n",
       "[113459 rows x 1 columns]"
      ]
     },
     "execution_count": 65,
     "metadata": {},
     "output_type": "execute_result"
    }
   ],
   "source": [
    "y_test_df= pd.DataFrame(y_test)\n",
    "y_test_df"
   ]
  },
  {
   "cell_type": "code",
   "execution_count": null,
   "id": "9fa94720",
   "metadata": {},
   "outputs": [],
   "source": [
    "index_list_temp = y_train_df.index.values.tolist()\n",
    "min(index_list_temp), max(index_list_temp), len(index_list_temp)"
   ]
  },
  {
   "cell_type": "code",
   "execution_count": null,
   "id": "8f287897",
   "metadata": {},
   "outputs": [],
   "source": [
    "index_list_temp = y_test_df.index.values.tolist()\n",
    "min(index_list_temp), max(index_list_temp), len(index_list_temp)"
   ]
  },
  {
   "cell_type": "code",
   "execution_count": null,
   "id": "43fd6e4a",
   "metadata": {},
   "outputs": [],
   "source": [
    "y_test_df.info()"
   ]
  },
  {
   "cell_type": "code",
   "execution_count": null,
   "id": "62fc0ac7",
   "metadata": {},
   "outputs": [],
   "source": [
    "#check type of data (series/ array/ dataframe)\n",
    "\n",
    "type(X_train), type(X_test), type(y_train_df), type(y_test_df), type(y_pred_train), type(y_pred_test) "
   ]
  },
  {
   "cell_type": "code",
   "execution_count": null,
   "id": "1fa1fd8a",
   "metadata": {},
   "outputs": [],
   "source": [
    "y_pred_train"
   ]
  },
  {
   "cell_type": "code",
   "execution_count": 66,
   "id": "db0f10db",
   "metadata": {},
   "outputs": [],
   "source": [
    "y_train_pred_df = pd.DataFrame(y_pred_train, columns=['predicted_revenue'])"
   ]
  },
  {
   "cell_type": "code",
   "execution_count": 68,
   "id": "1dcbf005",
   "metadata": {},
   "outputs": [
    {
     "data": {
      "text/html": [
       "<div>\n",
       "<style scoped>\n",
       "    .dataframe tbody tr th:only-of-type {\n",
       "        vertical-align: middle;\n",
       "    }\n",
       "\n",
       "    .dataframe tbody tr th {\n",
       "        vertical-align: top;\n",
       "    }\n",
       "\n",
       "    .dataframe thead th {\n",
       "        text-align: right;\n",
       "    }\n",
       "</style>\n",
       "<table border=\"1\" class=\"dataframe\">\n",
       "  <thead>\n",
       "    <tr style=\"text-align: right;\">\n",
       "      <th></th>\n",
       "      <th>predicted_revenue</th>\n",
       "    </tr>\n",
       "  </thead>\n",
       "  <tbody>\n",
       "    <tr>\n",
       "      <th>0</th>\n",
       "      <td>1.058502e-10</td>\n",
       "    </tr>\n",
       "    <tr>\n",
       "      <th>1</th>\n",
       "      <td>1.058502e-10</td>\n",
       "    </tr>\n",
       "    <tr>\n",
       "      <th>2</th>\n",
       "      <td>1.058502e-10</td>\n",
       "    </tr>\n",
       "    <tr>\n",
       "      <th>3</th>\n",
       "      <td>6.390516e-04</td>\n",
       "    </tr>\n",
       "    <tr>\n",
       "      <th>4</th>\n",
       "      <td>1.548901e-02</td>\n",
       "    </tr>\n",
       "    <tr>\n",
       "      <th>...</th>\n",
       "      <td>...</td>\n",
       "    </tr>\n",
       "    <tr>\n",
       "      <th>453827</th>\n",
       "      <td>1.220322e-02</td>\n",
       "    </tr>\n",
       "    <tr>\n",
       "      <th>453828</th>\n",
       "      <td>6.196421e-03</td>\n",
       "    </tr>\n",
       "    <tr>\n",
       "      <th>453829</th>\n",
       "      <td>5.028839e-03</td>\n",
       "    </tr>\n",
       "    <tr>\n",
       "      <th>453830</th>\n",
       "      <td>1.058502e-10</td>\n",
       "    </tr>\n",
       "    <tr>\n",
       "      <th>453831</th>\n",
       "      <td>4.885827e-02</td>\n",
       "    </tr>\n",
       "  </tbody>\n",
       "</table>\n",
       "<p>453832 rows × 1 columns</p>\n",
       "</div>"
      ],
      "text/plain": [
       "        predicted_revenue\n",
       "0            1.058502e-10\n",
       "1            1.058502e-10\n",
       "2            1.058502e-10\n",
       "3            6.390516e-04\n",
       "4            1.548901e-02\n",
       "...                   ...\n",
       "453827       1.220322e-02\n",
       "453828       6.196421e-03\n",
       "453829       5.028839e-03\n",
       "453830       1.058502e-10\n",
       "453831       4.885827e-02\n",
       "\n",
       "[453832 rows x 1 columns]"
      ]
     },
     "execution_count": 68,
     "metadata": {},
     "output_type": "execute_result"
    }
   ],
   "source": [
    "y_train_pred_df"
   ]
  },
  {
   "cell_type": "code",
   "execution_count": 67,
   "id": "45e8f093",
   "metadata": {},
   "outputs": [],
   "source": [
    "y_test_pred_df = pd.DataFrame(y_pred_test,columns=['predicted_revenue'])"
   ]
  },
  {
   "cell_type": "code",
   "execution_count": null,
   "id": "ccbcc5cb",
   "metadata": {},
   "outputs": [],
   "source": [
    "y_train_df.reset_index(drop = True)\n",
    "y_train_df"
   ]
  },
  {
   "cell_type": "code",
   "execution_count": null,
   "id": "80d6de17",
   "metadata": {},
   "outputs": [],
   "source": []
  },
  {
   "cell_type": "code",
   "execution_count": 69,
   "id": "ba05dcfa",
   "metadata": {},
   "outputs": [
    {
     "data": {
      "text/html": [
       "<div>\n",
       "<style scoped>\n",
       "    .dataframe tbody tr th:only-of-type {\n",
       "        vertical-align: middle;\n",
       "    }\n",
       "\n",
       "    .dataframe tbody tr th {\n",
       "        vertical-align: top;\n",
       "    }\n",
       "\n",
       "    .dataframe thead th {\n",
       "        text-align: right;\n",
       "    }\n",
       "</style>\n",
       "<table border=\"1\" class=\"dataframe\">\n",
       "  <thead>\n",
       "    <tr style=\"text-align: right;\">\n",
       "      <th></th>\n",
       "      <th>total_revenue</th>\n",
       "      <th>predicted_revenue</th>\n",
       "    </tr>\n",
       "  </thead>\n",
       "  <tbody>\n",
       "    <tr>\n",
       "      <th>250056</th>\n",
       "      <td>0.0000</td>\n",
       "      <td>1.058502e-10</td>\n",
       "    </tr>\n",
       "    <tr>\n",
       "      <th>415671</th>\n",
       "      <td>0.0000</td>\n",
       "      <td>1.058502e-10</td>\n",
       "    </tr>\n",
       "    <tr>\n",
       "      <th>319747</th>\n",
       "      <td>0.0000</td>\n",
       "      <td>1.058502e-10</td>\n",
       "    </tr>\n",
       "    <tr>\n",
       "      <th>488332</th>\n",
       "      <td>0.0000</td>\n",
       "      <td>6.390516e-04</td>\n",
       "    </tr>\n",
       "    <tr>\n",
       "      <th>503367</th>\n",
       "      <td>0.0000</td>\n",
       "      <td>1.548901e-02</td>\n",
       "    </tr>\n",
       "    <tr>\n",
       "      <th>...</th>\n",
       "      <td>...</td>\n",
       "      <td>...</td>\n",
       "    </tr>\n",
       "    <tr>\n",
       "      <th>458492</th>\n",
       "      <td>0.0000</td>\n",
       "      <td>1.220322e-02</td>\n",
       "    </tr>\n",
       "    <tr>\n",
       "      <th>107578</th>\n",
       "      <td>0.0136</td>\n",
       "      <td>6.196421e-03</td>\n",
       "    </tr>\n",
       "    <tr>\n",
       "      <th>120705</th>\n",
       "      <td>0.0400</td>\n",
       "      <td>5.028839e-03</td>\n",
       "    </tr>\n",
       "    <tr>\n",
       "      <th>377541</th>\n",
       "      <td>0.0000</td>\n",
       "      <td>1.058502e-10</td>\n",
       "    </tr>\n",
       "    <tr>\n",
       "      <th>485815</th>\n",
       "      <td>0.1306</td>\n",
       "      <td>4.885827e-02</td>\n",
       "    </tr>\n",
       "  </tbody>\n",
       "</table>\n",
       "<p>453832 rows × 2 columns</p>\n",
       "</div>"
      ],
      "text/plain": [
       "        total_revenue  predicted_revenue\n",
       "250056         0.0000       1.058502e-10\n",
       "415671         0.0000       1.058502e-10\n",
       "319747         0.0000       1.058502e-10\n",
       "488332         0.0000       6.390516e-04\n",
       "503367         0.0000       1.548901e-02\n",
       "...               ...                ...\n",
       "458492         0.0000       1.220322e-02\n",
       "107578         0.0136       6.196421e-03\n",
       "120705         0.0400       5.028839e-03\n",
       "377541         0.0000       1.058502e-10\n",
       "485815         0.1306       4.885827e-02\n",
       "\n",
       "[453832 rows x 2 columns]"
      ]
     },
     "execution_count": 69,
     "metadata": {},
     "output_type": "execute_result"
    }
   ],
   "source": [
    "# Joining Actuals and predicted Y columns\n",
    "\n",
    "y_train_final= pd.concat([y_train_df, y_train_pred_df.set_index(y_train_df.index)], axis=1)\n",
    "y_train_final"
   ]
  },
  {
   "cell_type": "code",
   "execution_count": 70,
   "id": "8c9f7c2a",
   "metadata": {},
   "outputs": [
    {
     "data": {
      "text/html": [
       "<div>\n",
       "<style scoped>\n",
       "    .dataframe tbody tr th:only-of-type {\n",
       "        vertical-align: middle;\n",
       "    }\n",
       "\n",
       "    .dataframe tbody tr th {\n",
       "        vertical-align: top;\n",
       "    }\n",
       "\n",
       "    .dataframe thead th {\n",
       "        text-align: right;\n",
       "    }\n",
       "</style>\n",
       "<table border=\"1\" class=\"dataframe\">\n",
       "  <thead>\n",
       "    <tr style=\"text-align: right;\">\n",
       "      <th></th>\n",
       "      <th>total_revenue</th>\n",
       "      <th>predicted_revenue</th>\n",
       "    </tr>\n",
       "  </thead>\n",
       "  <tbody>\n",
       "    <tr>\n",
       "      <th>542543</th>\n",
       "      <td>0.0010</td>\n",
       "      <td>8.959145e-02</td>\n",
       "    </tr>\n",
       "    <tr>\n",
       "      <th>317500</th>\n",
       "      <td>0.0000</td>\n",
       "      <td>1.058502e-10</td>\n",
       "    </tr>\n",
       "    <tr>\n",
       "      <th>553277</th>\n",
       "      <td>0.0346</td>\n",
       "      <td>6.617819e-01</td>\n",
       "    </tr>\n",
       "    <tr>\n",
       "      <th>265376</th>\n",
       "      <td>0.0000</td>\n",
       "      <td>1.058502e-10</td>\n",
       "    </tr>\n",
       "    <tr>\n",
       "      <th>119817</th>\n",
       "      <td>0.0364</td>\n",
       "      <td>1.989925e-02</td>\n",
       "    </tr>\n",
       "    <tr>\n",
       "      <th>...</th>\n",
       "      <td>...</td>\n",
       "      <td>...</td>\n",
       "    </tr>\n",
       "    <tr>\n",
       "      <th>295676</th>\n",
       "      <td>0.0000</td>\n",
       "      <td>1.058502e-10</td>\n",
       "    </tr>\n",
       "    <tr>\n",
       "      <th>118927</th>\n",
       "      <td>0.0332</td>\n",
       "      <td>5.028839e-03</td>\n",
       "    </tr>\n",
       "    <tr>\n",
       "      <th>8044</th>\n",
       "      <td>0.0000</td>\n",
       "      <td>1.058502e-10</td>\n",
       "    </tr>\n",
       "    <tr>\n",
       "      <th>300743</th>\n",
       "      <td>0.0000</td>\n",
       "      <td>5.028839e-03</td>\n",
       "    </tr>\n",
       "    <tr>\n",
       "      <th>94897</th>\n",
       "      <td>0.0074</td>\n",
       "      <td>1.214511e-02</td>\n",
       "    </tr>\n",
       "  </tbody>\n",
       "</table>\n",
       "<p>113459 rows × 2 columns</p>\n",
       "</div>"
      ],
      "text/plain": [
       "        total_revenue  predicted_revenue\n",
       "542543         0.0010       8.959145e-02\n",
       "317500         0.0000       1.058502e-10\n",
       "553277         0.0346       6.617819e-01\n",
       "265376         0.0000       1.058502e-10\n",
       "119817         0.0364       1.989925e-02\n",
       "...               ...                ...\n",
       "295676         0.0000       1.058502e-10\n",
       "118927         0.0332       5.028839e-03\n",
       "8044           0.0000       1.058502e-10\n",
       "300743         0.0000       5.028839e-03\n",
       "94897          0.0074       1.214511e-02\n",
       "\n",
       "[113459 rows x 2 columns]"
      ]
     },
     "execution_count": 70,
     "metadata": {},
     "output_type": "execute_result"
    }
   ],
   "source": [
    "y_test_final= pd.concat([y_test_df, y_test_pred_df.set_index(y_test_df.index)], axis=1)\n",
    "y_test_final"
   ]
  },
  {
   "cell_type": "code",
   "execution_count": null,
   "id": "53b72733",
   "metadata": {},
   "outputs": [],
   "source": [
    "# Joining Train and test Y columns\n",
    "\n",
    "y_all = pd.concat([y_train_final, y_test_final])"
   ]
  },
  {
   "cell_type": "code",
   "execution_count": null,
   "id": "28e9f598",
   "metadata": {},
   "outputs": [],
   "source": [
    "y_all"
   ]
  },
  {
   "cell_type": "code",
   "execution_count": null,
   "id": "832f863b",
   "metadata": {
    "scrolled": true
   },
   "outputs": [],
   "source": [
    "y_compare = pd.merge(y_df, y_all, left_index=True, right_index=True)\n",
    "y_compare.head()"
   ]
  },
  {
   "cell_type": "code",
   "execution_count": null,
   "id": "bd061042",
   "metadata": {},
   "outputs": [],
   "source": [
    "y_compare[y_compare['total_revenue_x']!=y_compare['total_revenue_y']].head()"
   ]
  },
  {
   "cell_type": "code",
   "execution_count": null,
   "id": "062ec433",
   "metadata": {},
   "outputs": [],
   "source": [
    "#y_all = y_all.sort_index(axis=1, inplace = True)"
   ]
  },
  {
   "cell_type": "code",
   "execution_count": null,
   "id": "183fdd1d",
   "metadata": {},
   "outputs": [],
   "source": [
    "y_all.sort_index(axis=0, inplace = True)\n",
    "y_all"
   ]
  },
  {
   "cell_type": "code",
   "execution_count": null,
   "id": "469aee3e",
   "metadata": {},
   "outputs": [],
   "source": [
    "y_all.info()"
   ]
  },
  {
   "cell_type": "code",
   "execution_count": null,
   "id": "cf11e052",
   "metadata": {},
   "outputs": [],
   "source": [
    "df_all"
   ]
  },
  {
   "cell_type": "code",
   "execution_count": null,
   "id": "f4246596",
   "metadata": {},
   "outputs": [],
   "source": [
    "df_all.info()"
   ]
  },
  {
   "cell_type": "code",
   "execution_count": null,
   "id": "2e5b941a",
   "metadata": {},
   "outputs": [],
   "source": [
    "df_final = df_all.sort_index(axis=0)\n",
    "df_final.head()"
   ]
  },
  {
   "cell_type": "code",
   "execution_count": null,
   "id": "80f0d593",
   "metadata": {},
   "outputs": [],
   "source": [
    "# Joining x and y columns with all details\n",
    "\n",
    "model_output = pd.merge(df, y_all, left_index=True, right_index=True)\n",
    "#model_output = pd.concat([df_all, y_all], axis = 1)\n",
    "#model_output = df_all.join(y_all)\n",
    "model_output"
   ]
  },
  {
   "cell_type": "code",
   "execution_count": null,
   "id": "27330f4d",
   "metadata": {},
   "outputs": [],
   "source": [
    "#check\n",
    "\n",
    "print(model_output['predicted_revenue'].sum())\n",
    "print(model_output['total_revenue_x'].sum())\n",
    "print(model_output['total_revenue_y'].sum())"
   ]
  },
  {
   "cell_type": "code",
   "execution_count": null,
   "id": "5f760ea2",
   "metadata": {},
   "outputs": [],
   "source": [
    "#model_output.columns"
   ]
  },
  {
   "cell_type": "raw",
   "id": "978febe5",
   "metadata": {},
   "source": [
    "# fixing column names of revenue which comes in input as well as output data\n",
    "\n",
    "model_output.columns = ['ad_date', 'site_id', 'ad_type_id', 'geo_id', 'device_category_id',\n",
    "       'advertiser_id', 'order_id', 'line_item_type_id', 'os_id',\n",
    "       'monetization_channel_id', 'ad_unit_id', 'total_impressions', 'total_revenue',\n",
    "       'viewable_impressions', 'measurable_impressions',\n",
    "       'revenue_share_percent', 'ad_type', 'ad_format', 'ad_media_type',\n",
    "       'device_type', 'city', 'city_code', 'population', 'city_lat',\n",
    "       'city_lon', 'line_item_group', 'line_item_type', 'monetization_channel',\n",
    "       'os_type', 'total_revenue2', 'predicted_revenue']\n",
    "model_output.info()"
   ]
  },
  {
   "cell_type": "code",
   "execution_count": null,
   "id": "26b7f5cb",
   "metadata": {},
   "outputs": [],
   "source": [
    "model_output[model_output['total_revenue_x']!=model_output['total_revenue_y']].count()"
   ]
  },
  {
   "cell_type": "code",
   "execution_count": null,
   "id": "8eb6010a",
   "metadata": {},
   "outputs": [],
   "source": [
    "# Check if both the columns actually have same values\n",
    "\n",
    "#model_output['total_revenue'].equals(model_output['total_revenue2']) \n",
    "model_output['total_revenue_x'].equals(model_output['total_revenue_y']) "
   ]
  },
  {
   "cell_type": "code",
   "execution_count": null,
   "id": "515b17b2",
   "metadata": {},
   "outputs": [],
   "source": [
    "model_output['check'] = model_output.apply(lambda x: x['total_revenue_x'] if x['total_revenue_x'] <\n",
    "                     x['total_revenue_y'] else np.nan, axis=1)"
   ]
  },
  {
   "cell_type": "code",
   "execution_count": null,
   "id": "42dc7a28",
   "metadata": {},
   "outputs": [],
   "source": [
    "model_output['check'].unique()"
   ]
  },
  {
   "cell_type": "markdown",
   "id": "2a4501ef",
   "metadata": {},
   "source": [
    "# Pushing Model output to Snowflake"
   ]
  },
  {
   "cell_type": "code",
   "execution_count": 74,
   "id": "4fc1f342",
   "metadata": {},
   "outputs": [
    {
     "data": {
      "text/plain": [
       "[Row(status='Statement executed successfully.')]"
      ]
     },
     "execution_count": 74,
     "metadata": {},
     "output_type": "execute_result"
    }
   ],
   "source": [
    "import os\n",
    "from snowflake.snowpark.session import Session\n",
    "user = os.getenv(\"user\")\n",
    "warehouse = os.getenv(\"warehouse\")\n",
    "schema= os.getenv(\"schema\")\n",
    "database = os.getenv(\"database\")\n",
    "role =  os.getenv(\"role\")\n",
    "account =  os.getenv(\"account\")\n",
    "password= os.getenv(\"password\")\n",
    "\n",
    "connection_params = dict(user=user, \n",
    "                         password=password, \n",
    "                         account=account, \n",
    "                         warehouse=warehouse, \n",
    "                         database=database,\n",
    "                         schema=schema, \n",
    "                         role=role)\n",
    "\n",
    "session = Session.builder.configs(connection_params).create()\n",
    "\n",
    "session.sql('use warehouse {};'.format(warehouse)).collect()\n",
    "\n",
    "session.sql('use database {};'.format(database)).collect()\n",
    "\n",
    "session.sql('use schema {}.{};'.format(database, schema)).collect()"
   ]
  },
  {
   "cell_type": "code",
   "execution_count": 75,
   "id": "731f951b",
   "metadata": {},
   "outputs": [],
   "source": [
    "df_snowflake = session.createDataFrame(df_all.values.tolist(),\n",
    "        schema = df_all.columns.tolist())\n",
    "\n",
    "df_snowflake.write.mode(\"overwrite\").save_as_table(\"ME_DB.ME_AD_SALES_SCHEMA.AD_TECH_OUTPUT\")"
   ]
  },
  {
   "cell_type": "code",
   "execution_count": 76,
   "id": "e0f999a2",
   "metadata": {},
   "outputs": [
    {
     "data": {
      "text/html": [
       "<div>\n",
       "<style scoped>\n",
       "    .dataframe tbody tr th:only-of-type {\n",
       "        vertical-align: middle;\n",
       "    }\n",
       "\n",
       "    .dataframe tbody tr th {\n",
       "        vertical-align: top;\n",
       "    }\n",
       "\n",
       "    .dataframe thead th {\n",
       "        text-align: right;\n",
       "    }\n",
       "</style>\n",
       "<table border=\"1\" class=\"dataframe\">\n",
       "  <thead>\n",
       "    <tr style=\"text-align: right;\">\n",
       "      <th></th>\n",
       "      <th>total_impressions</th>\n",
       "      <th>total_revenue</th>\n",
       "      <th>viewable_impressions</th>\n",
       "      <th>measurable_impressions</th>\n",
       "      <th>device_type</th>\n",
       "      <th>line_item_type</th>\n",
       "      <th>monetization_channel</th>\n",
       "      <th>os_type</th>\n",
       "      <th>predicted_revenue</th>\n",
       "    </tr>\n",
       "  </thead>\n",
       "  <tbody>\n",
       "    <tr>\n",
       "      <th>0</th>\n",
       "      <td>2</td>\n",
       "      <td>0.0</td>\n",
       "      <td>0</td>\n",
       "      <td>2</td>\n",
       "      <td>phone</td>\n",
       "      <td>standard</td>\n",
       "      <td>in-app_purchases</td>\n",
       "      <td>mac</td>\n",
       "      <td>0.000767</td>\n",
       "    </tr>\n",
       "    <tr>\n",
       "      <th>1</th>\n",
       "      <td>2</td>\n",
       "      <td>0.0</td>\n",
       "      <td>0</td>\n",
       "      <td>2</td>\n",
       "      <td>laptop</td>\n",
       "      <td>standard</td>\n",
       "      <td>in-app_purchases</td>\n",
       "      <td>windows</td>\n",
       "      <td>0.000767</td>\n",
       "    </tr>\n",
       "    <tr>\n",
       "      <th>2</th>\n",
       "      <td>2</td>\n",
       "      <td>0.0</td>\n",
       "      <td>0</td>\n",
       "      <td>2</td>\n",
       "      <td>tablet</td>\n",
       "      <td>standard</td>\n",
       "      <td>in-app_purchases</td>\n",
       "      <td>android</td>\n",
       "      <td>0.000767</td>\n",
       "    </tr>\n",
       "    <tr>\n",
       "      <th>3</th>\n",
       "      <td>2</td>\n",
       "      <td>0.0</td>\n",
       "      <td>0</td>\n",
       "      <td>2</td>\n",
       "      <td>laptop</td>\n",
       "      <td>standard</td>\n",
       "      <td>in-app_purchases</td>\n",
       "      <td>windows</td>\n",
       "      <td>0.000767</td>\n",
       "    </tr>\n",
       "    <tr>\n",
       "      <th>4</th>\n",
       "      <td>2</td>\n",
       "      <td>0.0</td>\n",
       "      <td>0</td>\n",
       "      <td>2</td>\n",
       "      <td>tablet</td>\n",
       "      <td>standard</td>\n",
       "      <td>in-app_purchases</td>\n",
       "      <td>android</td>\n",
       "      <td>0.000767</td>\n",
       "    </tr>\n",
       "    <tr>\n",
       "      <th>...</th>\n",
       "      <td>...</td>\n",
       "      <td>...</td>\n",
       "      <td>...</td>\n",
       "      <td>...</td>\n",
       "      <td>...</td>\n",
       "      <td>...</td>\n",
       "      <td>...</td>\n",
       "      <td>...</td>\n",
       "      <td>...</td>\n",
       "    </tr>\n",
       "    <tr>\n",
       "      <th>567286</th>\n",
       "      <td>6792</td>\n",
       "      <td>0.0</td>\n",
       "      <td>4340</td>\n",
       "      <td>6788</td>\n",
       "      <td>tablet</td>\n",
       "      <td>adsense</td>\n",
       "      <td>sponsorship</td>\n",
       "      <td>android</td>\n",
       "      <td>0.000000</td>\n",
       "    </tr>\n",
       "    <tr>\n",
       "      <th>567287</th>\n",
       "      <td>6734</td>\n",
       "      <td>0.0</td>\n",
       "      <td>4498</td>\n",
       "      <td>6730</td>\n",
       "      <td>tablet</td>\n",
       "      <td>adsense</td>\n",
       "      <td>sponsorship</td>\n",
       "      <td>android</td>\n",
       "      <td>0.000000</td>\n",
       "    </tr>\n",
       "    <tr>\n",
       "      <th>567288</th>\n",
       "      <td>6822</td>\n",
       "      <td>0.0</td>\n",
       "      <td>5392</td>\n",
       "      <td>6820</td>\n",
       "      <td>tablet</td>\n",
       "      <td>adsense</td>\n",
       "      <td>sponsorship</td>\n",
       "      <td>android</td>\n",
       "      <td>4.758004</td>\n",
       "    </tr>\n",
       "    <tr>\n",
       "      <th>567289</th>\n",
       "      <td>8024</td>\n",
       "      <td>0.0</td>\n",
       "      <td>5728</td>\n",
       "      <td>8024</td>\n",
       "      <td>laptop</td>\n",
       "      <td>adsense</td>\n",
       "      <td>sponsorship</td>\n",
       "      <td>windows</td>\n",
       "      <td>3.917164</td>\n",
       "    </tr>\n",
       "    <tr>\n",
       "      <th>567290</th>\n",
       "      <td>9218</td>\n",
       "      <td>0.0</td>\n",
       "      <td>5854</td>\n",
       "      <td>9208</td>\n",
       "      <td>tablet</td>\n",
       "      <td>adsense</td>\n",
       "      <td>sponsorship</td>\n",
       "      <td>android</td>\n",
       "      <td>15.058676</td>\n",
       "    </tr>\n",
       "  </tbody>\n",
       "</table>\n",
       "<p>567291 rows × 9 columns</p>\n",
       "</div>"
      ],
      "text/plain": [
       "        total_impressions  total_revenue  viewable_impressions  \\\n",
       "0                       2            0.0                     0   \n",
       "1                       2            0.0                     0   \n",
       "2                       2            0.0                     0   \n",
       "3                       2            0.0                     0   \n",
       "4                       2            0.0                     0   \n",
       "...                   ...            ...                   ...   \n",
       "567286               6792            0.0                  4340   \n",
       "567287               6734            0.0                  4498   \n",
       "567288               6822            0.0                  5392   \n",
       "567289               8024            0.0                  5728   \n",
       "567290               9218            0.0                  5854   \n",
       "\n",
       "        measurable_impressions device_type line_item_type  \\\n",
       "0                            2       phone       standard   \n",
       "1                            2      laptop       standard   \n",
       "2                            2      tablet       standard   \n",
       "3                            2      laptop       standard   \n",
       "4                            2      tablet       standard   \n",
       "...                        ...         ...            ...   \n",
       "567286                    6788      tablet        adsense   \n",
       "567287                    6730      tablet        adsense   \n",
       "567288                    6820      tablet        adsense   \n",
       "567289                    8024      laptop        adsense   \n",
       "567290                    9208      tablet        adsense   \n",
       "\n",
       "       monetization_channel  os_type  predicted_revenue  \n",
       "0          in-app_purchases      mac           0.000767  \n",
       "1          in-app_purchases  windows           0.000767  \n",
       "2          in-app_purchases  android           0.000767  \n",
       "3          in-app_purchases  windows           0.000767  \n",
       "4          in-app_purchases  android           0.000767  \n",
       "...                     ...      ...                ...  \n",
       "567286          sponsorship  android           0.000000  \n",
       "567287          sponsorship  android           0.000000  \n",
       "567288          sponsorship  android           4.758004  \n",
       "567289          sponsorship  windows           3.917164  \n",
       "567290          sponsorship  android          15.058676  \n",
       "\n",
       "[567291 rows x 9 columns]"
      ]
     },
     "execution_count": 76,
     "metadata": {},
     "output_type": "execute_result"
    }
   ],
   "source": [
    "df_all"
   ]
  },
  {
   "cell_type": "markdown",
   "id": "245f5ae1",
   "metadata": {},
   "source": [
    "# Model Registrartion using fosforml SDK"
   ]
  },
  {
   "cell_type": "code",
   "execution_count": null,
   "id": "a19b3564",
   "metadata": {},
   "outputs": [],
   "source": [
    "#Snowpark lib\n",
    "from snowflake.snowpark import Session\n",
    "\n",
    "# Data Science Libs\n",
    "#import numpy as np\n",
    "#import pandas as pd\n",
    "\n",
    "# create_temp_table warning suppresion\n",
    "#import warnings; warnings.simplefilter('ignore')\n",
    "\n",
    "#ConfigParser to read ini file\n",
    "# import configparser\n",
    "#!pip install fosforml\n",
    "from fosforio import snowflake\n",
    "from sklearn.pipeline import Pipeline"
   ]
  },
  {
   "cell_type": "code",
   "execution_count": 80,
   "id": "60650415",
   "metadata": {},
   "outputs": [
    {
     "data": {
      "text/html": [
       "<div>\n",
       "<style scoped>\n",
       "    .dataframe tbody tr th:only-of-type {\n",
       "        vertical-align: middle;\n",
       "    }\n",
       "\n",
       "    .dataframe tbody tr th {\n",
       "        vertical-align: top;\n",
       "    }\n",
       "\n",
       "    .dataframe thead th {\n",
       "        text-align: right;\n",
       "    }\n",
       "</style>\n",
       "<table border=\"1\" class=\"dataframe\">\n",
       "  <thead>\n",
       "    <tr style=\"text-align: right;\">\n",
       "      <th></th>\n",
       "      <th>total_impressions</th>\n",
       "      <th>viewable_impressions</th>\n",
       "      <th>measurable_impressions</th>\n",
       "      <th>device_type</th>\n",
       "      <th>line_item_type</th>\n",
       "      <th>monetization_channel</th>\n",
       "      <th>os_type</th>\n",
       "    </tr>\n",
       "  </thead>\n",
       "  <tbody>\n",
       "    <tr>\n",
       "      <th>250056</th>\n",
       "      <td>0</td>\n",
       "      <td>0</td>\n",
       "      <td>0</td>\n",
       "      <td>laptop</td>\n",
       "      <td>price_priority</td>\n",
       "      <td>in-app_purchases</td>\n",
       "      <td>ios</td>\n",
       "    </tr>\n",
       "    <tr>\n",
       "      <th>415671</th>\n",
       "      <td>0</td>\n",
       "      <td>0</td>\n",
       "      <td>0</td>\n",
       "      <td>phone</td>\n",
       "      <td>standard</td>\n",
       "      <td>in-app_purchases</td>\n",
       "      <td>linux</td>\n",
       "    </tr>\n",
       "    <tr>\n",
       "      <th>319747</th>\n",
       "      <td>0</td>\n",
       "      <td>0</td>\n",
       "      <td>0</td>\n",
       "      <td>tablet</td>\n",
       "      <td>price_priority</td>\n",
       "      <td>in-app_purchases</td>\n",
       "      <td>android</td>\n",
       "    </tr>\n",
       "    <tr>\n",
       "      <th>488332</th>\n",
       "      <td>6</td>\n",
       "      <td>6</td>\n",
       "      <td>6</td>\n",
       "      <td>tablet</td>\n",
       "      <td>adsense</td>\n",
       "      <td>sponsorship</td>\n",
       "      <td>android</td>\n",
       "    </tr>\n",
       "    <tr>\n",
       "      <th>503367</th>\n",
       "      <td>8</td>\n",
       "      <td>8</td>\n",
       "      <td>8</td>\n",
       "      <td>laptop</td>\n",
       "      <td>ad_exchange</td>\n",
       "      <td>in-app_purchases</td>\n",
       "      <td>windows</td>\n",
       "    </tr>\n",
       "    <tr>\n",
       "      <th>...</th>\n",
       "      <td>...</td>\n",
       "      <td>...</td>\n",
       "      <td>...</td>\n",
       "      <td>...</td>\n",
       "      <td>...</td>\n",
       "      <td>...</td>\n",
       "      <td>...</td>\n",
       "    </tr>\n",
       "    <tr>\n",
       "      <th>458492</th>\n",
       "      <td>6</td>\n",
       "      <td>4</td>\n",
       "      <td>6</td>\n",
       "      <td>laptop</td>\n",
       "      <td>standard</td>\n",
       "      <td>in-app_purchases</td>\n",
       "      <td>windows</td>\n",
       "    </tr>\n",
       "    <tr>\n",
       "      <th>107578</th>\n",
       "      <td>2</td>\n",
       "      <td>0</td>\n",
       "      <td>2</td>\n",
       "      <td>tablet</td>\n",
       "      <td>ad_exchange</td>\n",
       "      <td>in_app_advertising</td>\n",
       "      <td>android</td>\n",
       "    </tr>\n",
       "    <tr>\n",
       "      <th>120705</th>\n",
       "      <td>2</td>\n",
       "      <td>0</td>\n",
       "      <td>2</td>\n",
       "      <td>laptop</td>\n",
       "      <td>ad_exchange</td>\n",
       "      <td>in_app_advertising</td>\n",
       "      <td>ios</td>\n",
       "    </tr>\n",
       "    <tr>\n",
       "      <th>377541</th>\n",
       "      <td>0</td>\n",
       "      <td>0</td>\n",
       "      <td>0</td>\n",
       "      <td>laptop</td>\n",
       "      <td>price_priority</td>\n",
       "      <td>in-app_purchases</td>\n",
       "      <td>ios</td>\n",
       "    </tr>\n",
       "    <tr>\n",
       "      <th>485815</th>\n",
       "      <td>26</td>\n",
       "      <td>4</td>\n",
       "      <td>26</td>\n",
       "      <td>laptop</td>\n",
       "      <td>ad_exchange</td>\n",
       "      <td>in_app_advertising</td>\n",
       "      <td>ios</td>\n",
       "    </tr>\n",
       "  </tbody>\n",
       "</table>\n",
       "<p>453832 rows × 7 columns</p>\n",
       "</div>"
      ],
      "text/plain": [
       "        total_impressions  viewable_impressions  measurable_impressions  \\\n",
       "250056                  0                     0                       0   \n",
       "415671                  0                     0                       0   \n",
       "319747                  0                     0                       0   \n",
       "488332                  6                     6                       6   \n",
       "503367                  8                     8                       8   \n",
       "...                   ...                   ...                     ...   \n",
       "458492                  6                     4                       6   \n",
       "107578                  2                     0                       2   \n",
       "120705                  2                     0                       2   \n",
       "377541                  0                     0                       0   \n",
       "485815                 26                     4                      26   \n",
       "\n",
       "       device_type  line_item_type monetization_channel  os_type  \n",
       "250056      laptop  price_priority     in-app_purchases      ios  \n",
       "415671       phone        standard     in-app_purchases    linux  \n",
       "319747      tablet  price_priority     in-app_purchases  android  \n",
       "488332      tablet         adsense          sponsorship  android  \n",
       "503367      laptop     ad_exchange     in-app_purchases  windows  \n",
       "...            ...             ...                  ...      ...  \n",
       "458492      laptop        standard     in-app_purchases  windows  \n",
       "107578      tablet     ad_exchange   in_app_advertising  android  \n",
       "120705      laptop     ad_exchange   in_app_advertising      ios  \n",
       "377541      laptop  price_priority     in-app_purchases      ios  \n",
       "485815      laptop     ad_exchange   in_app_advertising      ios  \n",
       "\n",
       "[453832 rows x 7 columns]"
      ]
     },
     "execution_count": 80,
     "metadata": {},
     "output_type": "execute_result"
    }
   ],
   "source": [
    "X_train"
   ]
  },
  {
   "cell_type": "code",
   "execution_count": null,
   "id": "688c4ad2",
   "metadata": {},
   "outputs": [],
   "source": [
    "from fosforml import *\n",
    "from fosforml.constants import MLModelFlavours\n",
    "import requests"
   ]
  },
  {
   "cell_type": "code",
   "execution_count": 88,
   "id": "db7c13c3",
   "metadata": {},
   "outputs": [],
   "source": [
    "@scoring_func\n",
    "def score(model, request):\n",
    "\n",
    "    import json\n",
    "    payload = request.json[\"payload\"]\n",
    "    if isinstance(request.json[\"payload\"],str):\n",
    "        payload_data = eval(payload)\n",
    "        if isinstance(payload_data['total_impressions'], int):\n",
    "                data_json = eval(payload)\n",
    "                data = pd.DataFrame([data_json])\n",
    "                prediction = pd.DataFrame(model.predict(data))\n",
    "                return prediction[0].to_list()[0]\n",
    "        elif isinstance(payload_data['total_impressions'], dict):\n",
    "                data = pd.DataFrame(eval(payload))\n",
    "                prediction = pd.DataFrame(model.predict(data))\n",
    "                return prediction[0].tolist()\n",
    "        elif isinstance(payload_data['total_impressions'], list):\n",
    "                data = pd.DataFrame(payload_data)\n",
    "                prediction = pd.DataFrame(model.predict(data))\n",
    "                return prediction.tolist()\n",
    "    return \"This method is not allowed\""
   ]
  },
  {
   "cell_type": "code",
   "execution_count": 89,
   "id": "0e082e99",
   "metadata": {},
   "outputs": [
    {
     "name": "stdout",
     "output_type": "stream",
     "text": [
      "[1.0585020872338033e-10, 0.6617818685010383]\n"
     ]
    }
   ],
   "source": [
    "import requests\n",
    "\n",
    "payload = str(X_test.iloc[1:3].to_dict())\n",
    "req = requests.Request()\n",
    "req.json = {\"payload\": payload}\n",
    "print(score(best_estimator, req))"
   ]
  },
  {
   "cell_type": "code",
   "execution_count": 90,
   "id": "0d2ec1ed",
   "metadata": {},
   "outputs": [
    {
     "data": {
      "text/plain": [
       "\"{'total_impressions': {317500: 0, 553277: 602}, 'viewable_impressions': {317500: 0, 553277: 52}, 'measurable_impressions': {317500: 0, 553277: 574}, 'device_type': {317500: 'tablet', 553277: 'laptop'}, 'line_item_type': {317500: 'price_priority', 553277: 'standard'}, 'monetization_channel': {317500: 'in-app_purchases', 553277: 'in-app_purchases'}, 'os_type': {317500: 'android', 553277: 'ios'}}\""
      ]
     },
     "execution_count": 90,
     "metadata": {},
     "output_type": "execute_result"
    }
   ],
   "source": [
    "payload"
   ]
  },
  {
   "cell_type": "code",
   "execution_count": 91,
   "id": "1ee733fe",
   "metadata": {},
   "outputs": [
    {
     "name": "stdout",
     "output_type": "stream",
     "text": [
      "1.0585020872338033e-10\n"
     ]
    }
   ],
   "source": [
    "import requests\n",
    "\n",
    "payload = str(X_test.iloc[1].to_dict())\n",
    "req = requests.Request()\n",
    "req.json = {\"payload\": payload}\n",
    "print(score(best_estimator, req))"
   ]
  },
  {
   "cell_type": "code",
   "execution_count": 92,
   "id": "42572f8e",
   "metadata": {},
   "outputs": [
    {
     "data": {
      "text/plain": [
       "\"{'total_impressions': 0, 'viewable_impressions': 0, 'measurable_impressions': 0, 'device_type': 'tablet', 'line_item_type': 'price_priority', 'monetization_channel': 'in-app_purchases', 'os_type': 'android'}\""
      ]
     },
     "execution_count": 92,
     "metadata": {},
     "output_type": "execute_result"
    }
   ],
   "source": [
    "payload"
   ]
  },
  {
   "cell_type": "markdown",
   "id": "64668451",
   "metadata": {},
   "source": [
    "# Sample Payload"
   ]
  },
  {
   "cell_type": "code",
   "execution_count": null,
   "id": "8b293079",
   "metadata": {},
   "outputs": [],
   "source": [
    "req.json"
   ]
  },
  {
   "cell_type": "code",
   "execution_count": null,
   "id": "e7c03957",
   "metadata": {},
   "outputs": [],
   "source": [
    "yo"
   ]
  },
  {
   "cell_type": "code",
   "execution_count": 96,
   "id": "9cf5f4c3",
   "metadata": {},
   "outputs": [
    {
     "name": "stdout",
     "output_type": "stream",
     "text": [
      "Calculating build time metrics\n",
      "\n",
      "Progress: ██████████████████████████████████████████████████████████████████████ 100.0%\n"
     ]
    },
    {
     "data": {
      "application/vnd.jupyter.widget-view+json": {
       "model_id": "db053d5f31c2469a932bd724f9bedbc3",
       "version_major": 2,
       "version_minor": 0
      },
      "text/plain": [
       "VBox(children=(HTML(value='<style>.grad_1{background: #2468a4;} .grad_2{ color:white; background: #2468a4;}</s…"
      ]
     },
     "metadata": {},
     "output_type": "display_data"
    }
   ],
   "source": [
    "## registering the model in Fosfor.\n",
    "register_model(best_estimator,\n",
    "               score, \n",
    "               name=\"Ad_Sales_Prediction_Model\", \n",
    "               description=\"Ad_Sales_Prediction_RandomForest_Model\",\n",
    "               flavour=MLModelFlavours.sklearn,\n",
    "               model_type=\"regression\",\n",
    "               init_script=\"\\\\n pip install fosforml \\\\n pip install fosforio[snowflake] \\\\n pip install sklearn\\\\n pip install snowflake-connector-python[pandas]\",\n",
    "               y_true=y_test,\n",
    "               y_pred=y_pred_test,\n",
    "               #prob=y_prob,\n",
    "               features=X_train.columns,\n",
    "               input_type=\"json\", \n",
    "               explain_ai=True,\n",
    "               x_train=X_train, \n",
    "               x_test=X_test, \n",
    "               y_train=y_train,\n",
    "               y_test=y_test,\n",
    "               feature_names=X_train.columns.tolist(),\n",
    "               original_features=X_train.columns.tolist(),\n",
    "               feature_ids=X_train.columns,\n",
    "               kyd=True, kyd_score = True)"
   ]
  },
  {
   "cell_type": "code",
   "execution_count": 94,
   "id": "3b12bedf",
   "metadata": {},
   "outputs": [
    {
     "data": {
      "text/plain": [
       "'name can only contain alphanumeric and underscore'"
      ]
     },
     "execution_count": 94,
     "metadata": {},
     "output_type": "execute_result"
    }
   ],
   "source": [
    "model_reg"
   ]
  },
  {
   "cell_type": "code",
   "execution_count": null,
   "id": "d9b7d581",
   "metadata": {},
   "outputs": [],
   "source": []
  }
 ],
 "metadata": {
  "kernelspec": {
   "display_name": "Python 3",
   "language": "python",
   "name": "python3"
  },
  "language_info": {
   "codemirror_mode": {
    "name": "ipython",
    "version": 3
   },
   "file_extension": ".py",
   "mimetype": "text/x-python",
   "name": "python",
   "nbconvert_exporter": "python",
   "pygments_lexer": "ipython3",
   "version": "3.8.18"
  }
 },
 "nbformat": 4,
 "nbformat_minor": 5
}
