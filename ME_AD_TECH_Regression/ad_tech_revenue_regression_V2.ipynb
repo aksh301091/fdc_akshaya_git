{
 "cells": [
  {
   "cell_type": "markdown",
   "id": "9ff154a0-abe5-4a30-90ba-0393bd1ffc9d",
   "metadata": {},
   "source": [
    "# Ad Sales Data\n",
    "# Revenue Regression\n",
    "Code link: https://www.kaggle.com/code/akshaysunil07/ad-tech-revenue-regression/notebook "
   ]
  },
  {
   "cell_type": "markdown",
   "id": "c83c8bfe",
   "metadata": {},
   "source": [
    "# Installing packages section"
   ]
  },
  {
   "cell_type": "code",
   "execution_count": null,
   "id": "ddb0b697",
   "metadata": {},
   "outputs": [],
   "source": [
    "# Installing packages set for without init script\n",
    "!pip install --upgrade pip\n",
    "!pip install \"snowflake-connector-python[pandas]\" \"snowflake-snowpark-python[pandas]\" snowflake-snowpark-python==1.9.0 fosforio fosforml numpy pandas matplotlib scikit-learn xgboost seaborn python-dateutil tqdm holidays faker\n",
    "!pip install --upgrade --q snowflake-snowpark-python==1.9.0\n",
    "!pip uninstall urllib3 -y\n",
    "!pip install urllib3==1.26.15"
   ]
  },
  {
   "cell_type": "code",
   "execution_count": null,
   "id": "7308264d",
   "metadata": {},
   "outputs": [],
   "source": [
    "!pip install seaborn"
   ]
  },
  {
   "cell_type": "code",
   "execution_count": null,
   "id": "96129c27",
   "metadata": {},
   "outputs": [],
   "source": [
    "# pre run in template init script\n",
    "\n",
    "! pip install \"snowflake-connector-python[pandas]\"\n",
    "! sudo pip install snowflake-ml-python==1.0.11 -U\n",
    "! pip install --upgrade snowflake-snowpark-python==1.9.0\n",
    "!pip install --q seaborn\n",
    "!pip install --q plotly \n",
    "! pip install --upgrade xgboost==1.7.3\n",
    "! pip install --upgrade numpy==1.24.3\n",
    "! pip install --upgrade pandas==1.5.3\n",
    "! pip install --upgrade anyio==3.5.0\n",
    "! pip install --upgrade packaging==23.1\n",
    "! pip install --upgrade scikit-learn==1.3.0\n",
    "! pip install --upgrade typing-extensions==4.7.1\n",
    "! pip install --upgrade cryptography==39.0.0\n",
    "! pip install --upgrade fsspec==2023.9.2\n",
    "! pip install statsmodels\n",
    "! pip install xgboost\n",
    "! pip install catboost"
   ]
  },
  {
   "cell_type": "code",
   "execution_count": null,
   "id": "657437f3",
   "metadata": {},
   "outputs": [],
   "source": [
    "#Run from here\n",
    "! pip install fosforio\n",
    "! pip install fosforml"
   ]
  },
  {
   "cell_type": "code",
   "execution_count": null,
   "id": "6c192338",
   "metadata": {},
   "outputs": [],
   "source": [
    "#new set after pre init script\n",
    "\n",
    "!pip install \"snowflake-connector-python[pandas]\" \"snowflake-snowpark-python[pandas]\" snowflake-snowpark-python==1.9.0  matplotlib python-dateutil tqdm faker\n",
    "!pip uninstall urllib3 -y\n",
    "!pip install urllib3==1.26.15"
   ]
  },
  {
   "cell_type": "markdown",
   "id": "f06a4ab2",
   "metadata": {},
   "source": [
    "# Restart and clear outputs\n",
    "\n",
    "# Importing packages"
   ]
  },
  {
   "cell_type": "code",
   "execution_count": 1,
   "id": "d1194ebf-d1d5-4714-86f9-38c7f4483e27",
   "metadata": {},
   "outputs": [
    {
     "name": "stderr",
     "output_type": "stream",
     "text": [
      "Matplotlib created a temporary cache directory at /tmp/matplotlib-d722nl_s because the default path (/home/mosaic-ai/.cache/matplotlib) is not a writable directory; it is highly recommended to set the MPLCONFIGDIR environment variable to a writable directory, in particular to speed up the import of Matplotlib and to better support multiprocessing.\n"
     ]
    }
   ],
   "source": [
    "import numpy as np\n",
    "import pandas as pd\n",
    "import matplotlib.pyplot as plt\n",
    "import seaborn as sns\n",
    "import warnings\n",
    "warnings.filterwarnings('ignore')"
   ]
  },
  {
   "cell_type": "code",
   "execution_count": 2,
   "id": "3d5105a1",
   "metadata": {},
   "outputs": [
    {
     "name": "stdout",
     "output_type": "stream",
     "text": [
      "Connection manager service url initialised to http://fdc-project-manager:80/project-manager\n",
      "If you need to update its value then update the variable CONNECTION_MANAGER_BASE_URL in os env.\n"
     ]
    }
   ],
   "source": [
    "from fosforio import snowflake\n",
    "from fosforml import *\n",
    "from fosforml.constants import MLModelFlavours\n",
    "from fosforio import get_dataframe\n",
    "from matplotlib import pyplot as plt\n",
    "import pandas as pd\n",
    "pd.set_option('display.max_columns', 500)\n",
    "import seaborn as sns\n",
    "from sklearn.metrics import mean_absolute_percentage_error\n",
    "import numpy as np\n",
    "import warnings; warnings.simplefilter('ignore')\n",
    "from joblib import dump, load\n",
    "import requests\n",
    "from tqdm import tqdm\n",
    "import time\n",
    "import calendar\n",
    "\n",
    "from time import sleep\n",
    "import configparser\n",
    "from dateutil.relativedelta import relativedelta\n",
    "import datetime\n",
    "from dateutil.easter import easter\n",
    "from scipy.optimize import minimize_scalar\n",
    "from scipy.optimize import curve_fit\n",
    "\n",
    "%matplotlib inline"
   ]
  },
  {
   "cell_type": "code",
   "execution_count": 3,
   "id": "3070123a-b554-44cf-9230-16e4f1781d2f",
   "metadata": {},
   "outputs": [],
   "source": [
    "#df1 = pd.read_csv('C:/Users/10738686/Downloads/ad_sales_data/ad_sales.csv')\n",
    "#df = df1.sample(n=50000,random_state=10).reset_index(drop=True)"
   ]
  },
  {
   "cell_type": "code",
   "execution_count": 4,
   "id": "eaf67365",
   "metadata": {},
   "outputs": [],
   "source": [
    "# Importing data from snowflake"
   ]
  },
  {
   "cell_type": "code",
   "execution_count": 5,
   "id": "9e536f13",
   "metadata": {},
   "outputs": [
    {
     "name": "stdout",
     "output_type": "stream",
     "text": [
      "Connection object created: <snowflake.connector.connection.SnowflakeConnection object at 0x7fd244036700>\n",
      "Please close the connection after use!\n"
     ]
    },
    {
     "data": {
      "text/plain": [
       "<snowflake.connector.connection.SnowflakeConnection at 0x7fd244036700>"
      ]
     },
     "execution_count": 5,
     "metadata": {},
     "output_type": "execute_result"
    }
   ],
   "source": [
    "# snowflake.get_connection(connection_name=\"ME_AD_SALES_CXN\")\n",
    "\n",
    "from fosforio import snowflake\n",
    "from fosforio import get_dataframe\n",
    "\n",
    "snowflake.get_connection(connection_name=\"ME_AD_SALES_CXN\")"
   ]
  },
  {
   "cell_type": "code",
   "execution_count": 6,
   "id": "9b48d7f5",
   "metadata": {},
   "outputs": [
    {
     "name": "stdout",
     "output_type": "stream",
     "text": [
      "Reading dataframe from snowflake native connector\n",
      "Reading dataframe from snowflake native connector\n"
     ]
    }
   ],
   "source": [
    "df = get_dataframe(\"AD_SALES_IMP\")\n",
    "df_all = get_dataframe(\"AD_TECH_INPUT\")\n"
   ]
  },
  {
   "cell_type": "code",
   "execution_count": 7,
   "id": "bac2e802",
   "metadata": {},
   "outputs": [
    {
     "name": "stdout",
     "output_type": "stream",
     "text": [
      "<class 'pandas.core.frame.DataFrame'>\n",
      "RangeIndex: 567291 entries, 0 to 567290\n",
      "Data columns (total 17 columns):\n",
      " #   Column                   Non-Null Count   Dtype  \n",
      "---  ------                   --------------   -----  \n",
      " 0   DATE                     567291 non-null  object \n",
      " 1   SITE_ID                  567291 non-null  int16  \n",
      " 2   AD_TYPE_ID               567291 non-null  int8   \n",
      " 3   GEO_ID                   567291 non-null  int16  \n",
      " 4   DEVICE_CATEGORY_ID       567291 non-null  int8   \n",
      " 5   ADVERTISER_ID            567291 non-null  int16  \n",
      " 6   ORDER_ID                 567291 non-null  int16  \n",
      " 7   LINE_ITEM_TYPE_ID        567291 non-null  int8   \n",
      " 8   OS_ID                    567291 non-null  int8   \n",
      " 9   INTEGRATION_TYPE_ID      567291 non-null  int8   \n",
      " 10  MONETIZATION_CHANNEL_ID  567291 non-null  int8   \n",
      " 11  AD_UNIT_ID               567291 non-null  int16  \n",
      " 12  TOTAL_IMPRESSIONS        567291 non-null  int16  \n",
      " 13  TOTAL_REVENUE            567291 non-null  float64\n",
      " 14  VIEWABLE_IMPRESSIONS     567291 non-null  int16  \n",
      " 15  MEASURABLE_IMPRESSIONS   567291 non-null  int16  \n",
      " 16  REVENUE_SHARE_PERCENT    567291 non-null  int8   \n",
      "dtypes: float64(1), int16(8), int8(7), object(1)\n",
      "memory usage: 21.1+ MB\n"
     ]
    }
   ],
   "source": [
    "df.info()"
   ]
  },
  {
   "cell_type": "code",
   "execution_count": 8,
   "id": "8a3e5349",
   "metadata": {},
   "outputs": [
    {
     "name": "stdout",
     "output_type": "stream",
     "text": [
      "<class 'pandas.core.frame.DataFrame'>\n",
      "RangeIndex: 567291 entries, 0 to 567290\n",
      "Data columns (total 29 columns):\n",
      " #   Column                   Non-Null Count   Dtype  \n",
      "---  ------                   --------------   -----  \n",
      " 0   AD_DATE                  567291 non-null  object \n",
      " 1   SITE_ID                  567291 non-null  int16  \n",
      " 2   AD_TYPE_ID               567291 non-null  int8   \n",
      " 3   GEO_ID                   567291 non-null  int16  \n",
      " 4   DEVICE_CATEGORY_ID       567291 non-null  int8   \n",
      " 5   ADVERTISER_ID            567291 non-null  int16  \n",
      " 6   ORDER_ID                 567291 non-null  int16  \n",
      " 7   LINE_ITEM_TYPE_ID        567291 non-null  int8   \n",
      " 8   OS_ID                    567291 non-null  int8   \n",
      " 9   MONETIZATION_CHANNEL_ID  567291 non-null  int8   \n",
      " 10  AD_UNIT_ID               567291 non-null  int16  \n",
      " 11  TOTAL_IMPRESSIONS        567291 non-null  int16  \n",
      " 12  TOTAL_REVENUE            567291 non-null  float64\n",
      " 13  VIEWABLE_IMPRESSIONS     567291 non-null  int16  \n",
      " 14  MEASURABLE_IMPRESSIONS   567291 non-null  int16  \n",
      " 15  REVENUE_SHARE_PERCENT    567291 non-null  int8   \n",
      " 16  AD_TYPE                  567291 non-null  object \n",
      " 17  AD_FORMAT                567291 non-null  object \n",
      " 18  AD_MEDIA_TYPE            567291 non-null  object \n",
      " 19  DEVICE_TYPE              567291 non-null  object \n",
      " 20  CITY                     567291 non-null  object \n",
      " 21  CITY_CODE                567291 non-null  object \n",
      " 22  POPULATION               567291 non-null  int32  \n",
      " 23  CITY_LAT                 567291 non-null  float64\n",
      " 24  CITY_LON                 567291 non-null  float64\n",
      " 25  LINE_ITEM_GROUP          567291 non-null  object \n",
      " 26  LINE_ITEM_TYPE           567291 non-null  object \n",
      " 27  MONETIZATION_CHANNEL     567291 non-null  object \n",
      " 28  OS_TYPE                  567291 non-null  object \n",
      "dtypes: float64(3), int16(8), int32(1), int8(6), object(11)\n",
      "memory usage: 74.7+ MB\n"
     ]
    }
   ],
   "source": [
    "df_all.info()"
   ]
  },
  {
   "cell_type": "code",
   "execution_count": 9,
   "id": "d633377b",
   "metadata": {},
   "outputs": [
    {
     "name": "stdout",
     "output_type": "stream",
     "text": [
      "<class 'pandas.core.frame.DataFrame'>\n",
      "RangeIndex: 567291 entries, 0 to 567290\n",
      "Data columns (total 17 columns):\n",
      " #   Column                   Non-Null Count   Dtype  \n",
      "---  ------                   --------------   -----  \n",
      " 0   date                     567291 non-null  object \n",
      " 1   site_id                  567291 non-null  int16  \n",
      " 2   ad_type_id               567291 non-null  int8   \n",
      " 3   geo_id                   567291 non-null  int16  \n",
      " 4   device_category_id       567291 non-null  int8   \n",
      " 5   advertiser_id            567291 non-null  int16  \n",
      " 6   order_id                 567291 non-null  int16  \n",
      " 7   line_item_type_id        567291 non-null  int8   \n",
      " 8   os_id                    567291 non-null  int8   \n",
      " 9   integration_type_id      567291 non-null  int8   \n",
      " 10  monetization_channel_id  567291 non-null  int8   \n",
      " 11  ad_unit_id               567291 non-null  int16  \n",
      " 12  total_impressions        567291 non-null  int16  \n",
      " 13  total_revenue            567291 non-null  float64\n",
      " 14  viewable_impressions     567291 non-null  int16  \n",
      " 15  measurable_impressions   567291 non-null  int16  \n",
      " 16  revenue_share_percent    567291 non-null  int8   \n",
      "dtypes: float64(1), int16(8), int8(7), object(1)\n",
      "memory usage: 21.1+ MB\n"
     ]
    }
   ],
   "source": [
    "df.columns = df.columns.str.lower()\n",
    "df_all.columns = df_all.columns.str.lower()\n",
    "df.info()"
   ]
  },
  {
   "cell_type": "code",
   "execution_count": 10,
   "id": "4bdb0718",
   "metadata": {
    "scrolled": true
   },
   "outputs": [],
   "source": [
    "# from fosforio import snowflake\n",
    "\n",
    "# df1 = snowflake.get_dataframe(\"ME_AD_SALES_SCHEMA.AD_SALES_IMP\")\n",
    "# df1 = get_dataframe(\"AD_SALES_IMP\")\n",
    "# df1"
   ]
  },
  {
   "cell_type": "markdown",
   "id": "c2db2869-09aa-4132-8972-a3cc74bb0263",
   "metadata": {},
   "source": [
    "# Exploratory data analysis"
   ]
  },
  {
   "cell_type": "code",
   "execution_count": 11,
   "id": "158fc2cd-8e2e-4e27-b288-87a549556779",
   "metadata": {},
   "outputs": [],
   "source": [
    "cat_col=['date','geo_id','order_id','site_id', 'ad_type_id','device_category_id', 'advertiser_id',\n",
    "         'line_item_type_id', 'os_id','monetization_channel_id']\n",
    "scat_col = ['site_id', 'ad_type_id','device_category_id', 'advertiser_id',\n",
    "         'line_item_type_id', 'os_id','monetization_channel_id']\n",
    "num_col=list(df.select_dtypes(np.number).columns)"
   ]
  },
  {
   "cell_type": "code",
   "execution_count": null,
   "id": "7af7e449",
   "metadata": {},
   "outputs": [],
   "source": []
  },
  {
   "cell_type": "code",
   "execution_count": 12,
   "id": "81e104b0",
   "metadata": {},
   "outputs": [],
   "source": [
    "import seaborn as sns"
   ]
  },
  {
   "cell_type": "code",
   "execution_count": 13,
   "id": "1e255f5d-1704-44f2-8eb7-6e77d7574182",
   "metadata": {},
   "outputs": [
    {
     "data": {
      "image/png": "[encoded data removed]",
      "text/plain": [
       "<Figure size 640x480 with 1 Axes>"
      ]
     },
     "metadata": {},
     "output_type": "display_data"
    }
   ],
   "source": [
    "sns.heatmap(df.isnull(),cbar=False,cbar_kws={'color':'r'})\n",
    "plt.show()"
   ]
  },
  {
   "cell_type": "code",
   "execution_count": null,
   "id": "c00e0244-4680-44bf-9dfb-a67f5f61eff2",
   "metadata": {},
   "outputs": [],
   "source": [
    "fig, ax = plt.subplots(4,2, figsize=(14,12))\n",
    "axes_ = [axes_row for axes in ax for axes_row in axes]\n",
    "\n",
    "for i,col in enumerate(scat_col):\n",
    "    sns.countplot(data=df,x=col,ax=axes_[i])\n",
    "    if col=='advertiser_id':\n",
    "        plt.xticks(rotation=90)\n",
    "    plt.tight_layout()"
   ]
  },
  {
   "cell_type": "code",
   "execution_count": null,
   "id": "51f37132-8305-4793-8c92-f8828d07970d",
   "metadata": {},
   "outputs": [],
   "source": [
    "for i in num_col:\n",
    "    if i!='total_revenue':\n",
    "        sns.scatterplot(data=df,x=i,y='total_revenue')\n",
    "        plt.show()"
   ]
  },
  {
   "cell_type": "code",
   "execution_count": null,
   "id": "ddb091da-8e4e-46a6-b24f-af4eb795f0ce",
   "metadata": {},
   "outputs": [],
   "source": [
    "df.max()"
   ]
  },
  {
   "cell_type": "code",
   "execution_count": null,
   "id": "f266fcc2-2b3b-47a2-9dcb-cf2c2efb53de",
   "metadata": {},
   "outputs": [],
   "source": [
    "for col in (scat_col):\n",
    "    title='Relationship of '+col+' with total_revenue'\n",
    "    plt.figure(figsize=(6,4))\n",
    "    sns.barplot(y=df['total_revenue'],x=df[col])\n",
    "    if col=='advertiser_id':\n",
    "        plt.xticks(rotation=90)\n",
    "    plt.title(title)\n",
    "    plt.show()"
   ]
  },
  {
   "cell_type": "code",
   "execution_count": null,
   "id": "0c88c3cf-8b3f-490d-8cdd-abef798c12dd",
   "metadata": {},
   "outputs": [],
   "source": [
    "for col in (scat_col):\n",
    "    title='Relationship of '+ col +' with total_impressions'\n",
    "    plt.figure(figsize=(6,4))\n",
    "    sns.barplot(y=df['total_impressions'],x=df[col],)\n",
    "    if col=='advertiser_id':\n",
    "        plt.xticks(rotation=90)\n",
    "    plt.title(title)\n",
    "    plt.show()"
   ]
  },
  {
   "cell_type": "code",
   "execution_count": null,
   "id": "a867e33c-830f-4478-89f8-10dc9e3c7c97",
   "metadata": {},
   "outputs": [],
   "source": [
    "cat_col=['date','geo_id','order_id','site_id', 'ad_type_id','device_category_id', 'advertiser_id',\n",
    "         'line_item_type_id', 'os_id','monetization_channel_id']\n",
    "\n",
    "scat_col = ['site_id', 'ad_type_id','device_category_id', 'advertiser_id',\n",
    "         'line_item_type_id', 'os_id','monetization_channel_id']\n",
    "\n",
    "for i in cat_col:\n",
    "    df[i]=df[i].astype('object')"
   ]
  },
  {
   "cell_type": "code",
   "execution_count": null,
   "id": "1b8f14dd",
   "metadata": {},
   "outputs": [],
   "source": [
    "df.info()"
   ]
  },
  {
   "cell_type": "code",
   "execution_count": null,
   "id": "a3f35e75-ff39-485a-a87d-f01ff77b4399",
   "metadata": {},
   "outputs": [],
   "source": [
    "df.drop(['ad_unit_id','revenue_share_percent','integration_type_id'],axis=1,inplace=True)\n",
    "df.drop(['ad_type_id','site_id','advertiser_id'],axis=1,inplace=True)\n",
    "df.drop(['date','geo_id','order_id'],axis=1,inplace=True)"
   ]
  },
  {
   "cell_type": "code",
   "execution_count": null,
   "id": "c05a9829-57e3-4980-a3a1-1d71cc13d605",
   "metadata": {},
   "outputs": [],
   "source": [
    "df.select_dtypes(object)"
   ]
  },
  {
   "cell_type": "code",
   "execution_count": null,
   "id": "006f89ae-6bbc-4d63-8624-3f37c9c04fad",
   "metadata": {},
   "outputs": [],
   "source": [
    "for i in df.select_dtypes(object).columns:\n",
    "    pd.crosstab(df['monetization_channel_id'],df[i]).plot(kind='bar')\n",
    "    plt.show()"
   ]
  },
  {
   "cell_type": "markdown",
   "id": "d9643053-e10d-40f3-8523-cb81552e0c91",
   "metadata": {},
   "source": [
    "# Predictive Modelling"
   ]
  },
  {
   "cell_type": "code",
   "execution_count": null,
   "id": "f12453c4-15b8-4d77-8d7d-b4a8aa2162db",
   "metadata": {},
   "outputs": [],
   "source": [
    "df.info()"
   ]
  },
  {
   "cell_type": "code",
   "execution_count": null,
   "id": "a9147704-4046-457d-8ca2-c7235c0c0051",
   "metadata": {},
   "outputs": [],
   "source": [
    "Xd = df.drop('total_revenue',axis=1)\n",
    "y = df['total_revenue']"
   ]
  },
  {
   "cell_type": "code",
   "execution_count": null,
   "id": "0d15e0b2-fc4c-4df7-93dc-ae3d829a5d88",
   "metadata": {},
   "outputs": [],
   "source": [
    "X=pd.get_dummies(Xd,drop_first=True)"
   ]
  },
  {
   "cell_type": "code",
   "execution_count": null,
   "id": "5a35cbd7",
   "metadata": {},
   "outputs": [],
   "source": [
    "X.info()"
   ]
  },
  {
   "cell_type": "code",
   "execution_count": null,
   "id": "83f62ad3-0adc-418b-8d21-e558d18a7a05",
   "metadata": {},
   "outputs": [],
   "source": [
    "pc_col=['total_impressions', 'viewable_impressions', 'measurable_impressions']"
   ]
  },
  {
   "cell_type": "code",
   "execution_count": null,
   "id": "86301728-34bc-4f81-8f38-9b73a6e5e206",
   "metadata": {},
   "outputs": [],
   "source": [
    "from sklearn.preprocessing import StandardScaler\n",
    "ss = StandardScaler()"
   ]
  },
  {
   "cell_type": "code",
   "execution_count": null,
   "id": "b0caeacf-bba9-47e3-b386-ebd2c62d4f0f",
   "metadata": {},
   "outputs": [],
   "source": [
    "X[pc_col]=pd.DataFrame(ss.fit_transform(X[pc_col]),columns=[pc_col])"
   ]
  },
  {
   "cell_type": "code",
   "execution_count": null,
   "id": "925fe4d6",
   "metadata": {},
   "outputs": [],
   "source": [
    "X"
   ]
  },
  {
   "cell_type": "code",
   "execution_count": null,
   "id": "a361d941-0784-4adc-aed8-69adba480dec",
   "metadata": {},
   "outputs": [],
   "source": [
    "from sklearn.model_selection import train_test_split\n",
    "X_train,X_test,y_train,y_test = train_test_split(X,y,test_size=0.2,random_state=4)"
   ]
  },
  {
   "cell_type": "code",
   "execution_count": null,
   "id": "94eae835-b03f-4833-ae97-28c263332559",
   "metadata": {},
   "outputs": [],
   "source": [
    "# Applying PCA (principal component analysis)"
   ]
  },
  {
   "cell_type": "code",
   "execution_count": null,
   "id": "a991f8fd-91cf-477b-afc3-c47c0d509974",
   "metadata": {},
   "outputs": [],
   "source": [
    "from sklearn.decomposition import PCA\n",
    "pc_col=['total_impressions', 'viewable_impressions', 'measurable_impressions']\n",
    "pca = PCA()\n",
    "pca.fit(X[pc_col])"
   ]
  },
  {
   "cell_type": "code",
   "execution_count": null,
   "id": "32f92590-dfc7-498f-b72f-d24d26f8743a",
   "metadata": {},
   "outputs": [],
   "source": [
    "np.cumsum(pca.explained_variance_ratio_)"
   ]
  },
  {
   "cell_type": "code",
   "execution_count": null,
   "id": "9922eea9-a925-4cb2-a601-19ffda0edf50",
   "metadata": {},
   "outputs": [],
   "source": [
    "pca = PCA(n_components=1)\n",
    "cc = pca.fit_transform(X_train[pc_col])\n",
    "cd = pca.transform(X_test[pc_col])"
   ]
  },
  {
   "cell_type": "code",
   "execution_count": null,
   "id": "abbe95c6-ae34-455d-b81d-d49edd376d8a",
   "metadata": {},
   "outputs": [],
   "source": [
    "X_train['PC']=cc\n",
    "X_test['PC']=cd"
   ]
  },
  {
   "cell_type": "code",
   "execution_count": null,
   "id": "71ceddd4-956a-4e62-b970-72ed426e5e95",
   "metadata": {},
   "outputs": [],
   "source": [
    "X_train"
   ]
  },
  {
   "cell_type": "code",
   "execution_count": null,
   "id": "cfe8f27a-4303-4552-9be1-ca7ee5854e70",
   "metadata": {},
   "outputs": [],
   "source": [
    "X_train.drop(pc_col,axis=1,inplace=True)\n",
    "X_test.drop(pc_col,axis=1,inplace=True)"
   ]
  },
  {
   "cell_type": "code",
   "execution_count": null,
   "id": "bfdbebb2-a20e-42fc-a7d6-04863ac3a65e",
   "metadata": {},
   "outputs": [],
   "source": [
    "from sklearn.linear_model import LinearRegression\n",
    "lr = LinearRegression()"
   ]
  },
  {
   "cell_type": "code",
   "execution_count": null,
   "id": "f630a827-6144-4a2f-9721-a8122dc34219",
   "metadata": {},
   "outputs": [],
   "source": [
    "from sklearn.metrics import r2_score,mean_squared_error,mean_absolute_percentage_error"
   ]
  },
  {
   "cell_type": "code",
   "execution_count": null,
   "id": "14308d26-0c4b-450a-9030-1ac4c60d4cd2",
   "metadata": {},
   "outputs": [],
   "source": [
    "lr.fit(X_train,y_train)\n",
    "y_train_pred=lr.predict(X_train)\n",
    "\n",
    "print('Train')\n",
    "print('R2 Score:',r2_score(y_train,y_train_pred))\n",
    "print('Root Mean Squared Error:',np.sqrt(mean_squared_error(y_train,y_train_pred)))\n",
    "print('Mean Absolute Percentage Error:',mean_absolute_percentage_error(y_train,y_train_pred))\n",
    "\n",
    "y_test_pred=lr.predict(X_test)\n",
    "\n",
    "print('\\n\\nTest')\n",
    "print('R2 Score:',r2_score(y_test,y_test_pred))\n",
    "print('Root Mean Squared Error:',np.sqrt(mean_squared_error(y_test,y_test_pred)))\n",
    "print('Mean Absolute Percentage Error:',mean_absolute_percentage_error(y_test,y_test_pred))"
   ]
  },
  {
   "cell_type": "code",
   "execution_count": null,
   "id": "f8d8bfdf-f7d6-4caa-8571-d33c5974813e",
   "metadata": {},
   "outputs": [],
   "source": [
    "from sklearn.ensemble import RandomForestRegressor"
   ]
  },
  {
   "cell_type": "code",
   "execution_count": null,
   "id": "64200773-dcb9-4ea1-889b-ca2ee65109fa",
   "metadata": {},
   "outputs": [],
   "source": [
    "rfr = RandomForestRegressor()\n",
    "\n",
    "rfr.fit(X_train,y_train)\n",
    "y_train_pred=rfr.predict(X_train)\n",
    "\n",
    "print('r2 Train',r2_score(y_train,y_train_pred))\n",
    "print('RMSE Train:',np.sqrt(mean_squared_error(y_train,y_train_pred)))\n",
    "\n",
    "y_test_pred=rfr.predict(X_test)\n",
    "\n",
    "print('\\n\\nTest')\n",
    "print('\\nr2 Test',r2_score(y_test,y_test_pred))\n",
    "print('RMSE Train:',np.sqrt(mean_squared_error(y_test,y_test_pred)))"
   ]
  },
  {
   "cell_type": "code",
   "execution_count": null,
   "id": "0e086d5a-3cca-4103-a21f-5176f3f9037a",
   "metadata": {},
   "outputs": [],
   "source": [
    "from sklearn.model_selection import RandomizedSearchCV\n",
    "from scipy.stats import randint as sp_randint"
   ]
  },
  {
   "cell_type": "code",
   "execution_count": null,
   "id": "611c0676-3a19-4385-9952-6ac0dc7ce6e4",
   "metadata": {},
   "outputs": [],
   "source": [
    "rfrbest1 = {'max_depth': 12,\n",
    " 'max_features': 8,\n",
    " 'min_samples_leaf': 3,\n",
    " 'n_estimators': 160}"
   ]
  },
  {
   "cell_type": "code",
   "execution_count": null,
   "id": "1ff2b200-a2b7-4138-ab09-e5966754ddb2",
   "metadata": {},
   "outputs": [],
   "source": [
    "rfr = RandomForestRegressor(**rfrbest1)\n",
    "\n",
    "rfr.fit(X_train,y_train)\n",
    "y_train_pred=rfr.predict(X_train)\n",
    "\n",
    "print('r2 Train',r2_score(y_train,y_train_pred))\n",
    "print('RMSE Train:',np.sqrt(mean_squared_error(y_train,y_train_pred)))\n",
    "\n",
    "y_test_pred=rfr.predict(X_test)\n",
    "\n",
    "print('\\n\\nTest')\n",
    "print('\\nr2 Test',r2_score(y_test,y_test_pred))\n",
    "print('RMSE Train:',np.sqrt(mean_squared_error(y_test,y_test_pred)))"
   ]
  },
  {
   "cell_type": "code",
   "execution_count": null,
   "id": "9e69d206",
   "metadata": {},
   "outputs": [],
   "source": [
    "# rfr = RandomForestRegressor() \n",
    "#param_dist = {'n_estimators':sp_randint(25,250), 'max_features':sp_randint(1,24), 'max_depth':sp_randint(2,15), \n",
    "#                                                                'min_samples_leaf':sp_randint(1,50)} rsearch = RandomizedSearchCV(rfr,param_distributions=param_dist,scoring='r2', \n",
    "#                                                                  n_iter=10,cv=3,n_jobs=-1,random_state=4) rsearch.fit(X_train,y_train) rsearch.best_params_"
   ]
  },
  {
   "cell_type": "code",
   "execution_count": null,
   "id": "8ec1dec5-3a85-4290-9de6-d67de0cef101",
   "metadata": {},
   "outputs": [],
   "source": [
    "rfrbest2 = {'max_depth': 12,\n",
    " 'max_features': 15,\n",
    " 'min_samples_leaf': 6,\n",
    " 'n_estimators': 154}"
   ]
  },
  {
   "cell_type": "code",
   "execution_count": null,
   "id": "dd52c52f-8f0f-4b9c-85a5-2507a009539a",
   "metadata": {},
   "outputs": [],
   "source": [
    "rfr = RandomForestRegressor(**rfrbest2)\n",
    "\n",
    "rfr.fit(X_train,y_train)\n",
    "y_train_pred=rfr.predict(X_train)\n",
    "\n",
    "print('r2 Train',r2_score(y_train,y_train_pred))\n",
    "print('RMSE Train:',np.sqrt(mean_squared_error(y_train,y_train_pred)))\n",
    "\n",
    "y_test_pred=rfr.predict(X_test)\n",
    "\n",
    "print('\\n\\nTest')\n",
    "print('\\nr2 Test',r2_score(y_test,y_test_pred))\n",
    "print('RMSE Train:',np.sqrt(mean_squared_error(y_test,y_test_pred)))"
   ]
  },
  {
   "cell_type": "code",
   "execution_count": null,
   "id": "45135c9b-df40-418d-b2c2-5c2feb957aee",
   "metadata": {},
   "outputs": [],
   "source": [
    "from sklearn.model_selection import GridSearchCV"
   ]
  },
  {
   "cell_type": "code",
   "execution_count": null,
   "id": "2676f84a-08db-42f2-9513-601ea46703f5",
   "metadata": {},
   "outputs": [],
   "source": [
    "rfr = RandomForestRegressor()\n",
    "\n",
    "param_dist = {'n_estimators':np.arange(50,250,50), 'max_features':np.arange(1,21,4), 'max_depth':[1,5,10,15], 'min_samples_leaf':[1,5,10,20,40,50]}\n",
    "\n",
    "rsearch = GridSearchCV(rfr,param_grid=param_dist,scoring='r2', cv=3,n_jobs=-1) \n",
    "rsearch.fit(X_train,y_train) \n",
    "rsearch.bestparams"
   ]
  },
  {
   "cell_type": "raw",
   "id": "02d18e64",
   "metadata": {},
   "source": [
    "rfr = RandomForestRegressor(**rsearch.bestparams)\n",
    "rfr.fit(X_train,y_train) y_train_pred=rfr.predict(X_train)\n",
    "print('r2 Train',r2_score(y_train,y_train_pred)) \n",
    "print('RMSE Train:',np.sqrt(mean_squared_error(y_train,y_train_pred)))"
   ]
  },
  {
   "cell_type": "code",
   "execution_count": null,
   "id": "385a9d36",
   "metadata": {},
   "outputs": [],
   "source": [
    "rfr = RandomForestRegressor(**rfrbest1)\n",
    "rfr.fit(X_train,y_train) \n",
    "y_train_pred=rfr.predict(X_train)\n",
    "print('r2 Train',r2_score(y_train,y_train_pred)) \n",
    "print('RMSE Train:',np.sqrt(mean_squared_error(y_train,y_train_pred)))"
   ]
  },
  {
   "cell_type": "code",
   "execution_count": null,
   "id": "b42cdbc7-8bc4-4d91-882c-0ba2c9da942d",
   "metadata": {},
   "outputs": [],
   "source": [
    "y_test_pred=rfr.predict(X_test)\n",
    "print('\\n\\nTest') \n",
    "print('\\nr2 Test',r2_score(y_test,y_test_pred)) \n",
    "print('RMSE Train:',np.sqrt(mean_squared_error(y_test,y_test_pred)))"
   ]
  },
  {
   "cell_type": "code",
   "execution_count": null,
   "id": "b2e173dd-a625-49df-9874-5b46bebae5ba",
   "metadata": {},
   "outputs": [],
   "source": [
    "y_train_pred.shape"
   ]
  },
  {
   "cell_type": "code",
   "execution_count": null,
   "id": "c32c7977",
   "metadata": {},
   "outputs": [],
   "source": [
    "y_train.shape"
   ]
  },
  {
   "cell_type": "code",
   "execution_count": null,
   "id": "687b267c-3d9a-4dfe-b133-f57d9a7c18d9",
   "metadata": {},
   "outputs": [],
   "source": [
    "y_train_pred.shape"
   ]
  },
  {
   "cell_type": "code",
   "execution_count": null,
   "id": "83f5446b-9b87-4bdc-9221-ab78e778b0f5",
   "metadata": {},
   "outputs": [],
   "source": [
    "453832+113459"
   ]
  },
  {
   "cell_type": "code",
   "execution_count": null,
   "id": "db0f10db",
   "metadata": {},
   "outputs": [],
   "source": [
    "X.shape"
   ]
  },
  {
   "cell_type": "code",
   "execution_count": null,
   "id": "45e8f093",
   "metadata": {},
   "outputs": [],
   "source": [
    "X_train.shape"
   ]
  },
  {
   "cell_type": "code",
   "execution_count": null,
   "id": "6c51a2a1",
   "metadata": {},
   "outputs": [],
   "source": [
    "X_test.shape"
   ]
  },
  {
   "cell_type": "code",
   "execution_count": null,
   "id": "edeb4cda",
   "metadata": {},
   "outputs": [],
   "source": [
    "X"
   ]
  },
  {
   "cell_type": "code",
   "execution_count": null,
   "id": "6a8e71dd",
   "metadata": {},
   "outputs": [],
   "source": [
    "y_train_pred_df = pd.DataFrame(y_train_pred)  \n",
    "y_test_pred_df = pd.DataFrame(y_test_pred)  "
   ]
  },
  {
   "cell_type": "code",
   "execution_count": null,
   "id": "9d4b01f2",
   "metadata": {},
   "outputs": [],
   "source": [
    "y_train.shape"
   ]
  },
  {
   "cell_type": "code",
   "execution_count": null,
   "id": "059b0eca",
   "metadata": {},
   "outputs": [],
   "source": [
    "y_train_club = pd.concat([y_train,y_train_pred_df])\n",
    "y_train_club"
   ]
  },
  {
   "cell_type": "code",
   "execution_count": null,
   "id": "898bc122",
   "metadata": {},
   "outputs": [],
   "source": [
    "X_train"
   ]
  },
  {
   "cell_type": "code",
   "execution_count": null,
   "id": "9961074c",
   "metadata": {},
   "outputs": [],
   "source": [
    "train_df = X_train.copy()"
   ]
  },
  {
   "cell_type": "code",
   "execution_count": null,
   "id": "712a7ad9",
   "metadata": {},
   "outputs": [],
   "source": [
    "train_df['pred'] = y_train_pred_df"
   ]
  },
  {
   "cell_type": "code",
   "execution_count": null,
   "id": "bc0efe43",
   "metadata": {},
   "outputs": [],
   "source": [
    "train_df"
   ]
  },
  {
   "cell_type": "code",
   "execution_count": null,
   "id": "dd93f46b",
   "metadata": {},
   "outputs": [],
   "source": [
    "X_train"
   ]
  },
  {
   "cell_type": "raw",
   "id": "1c694024",
   "metadata": {},
   "source": [
    "y_train_pred_df"
   ]
  },
  {
   "cell_type": "code",
   "execution_count": null,
   "id": "4bf305e9",
   "metadata": {},
   "outputs": [],
   "source": [
    "rfr.predict(X_train.iloc[:4])"
   ]
  },
  {
   "cell_type": "code",
   "execution_count": null,
   "id": "801768e0",
   "metadata": {},
   "outputs": [],
   "source": [
    "df_out = pd.merge(X_train,y_train_pred_df, how = 'left',left_index = True, right_index = True)\n",
    "df_out."
   ]
  },
  {
   "cell_type": "code",
   "execution_count": null,
   "id": "3c0a6aa3",
   "metadata": {},
   "outputs": [],
   "source": [
    "df_out.shape"
   ]
  },
  {
   "cell_type": "code",
   "execution_count": null,
   "id": "b318184c",
   "metadata": {},
   "outputs": [],
   "source": [
    "train_df = pd.concat([X_train, y_train,y_train_pred_df])\n",
    "test_df = pd.concat([X_test, y_test,y_test_pred_df])\n"
   ]
  },
  {
   "cell_type": "code",
   "execution_count": null,
   "id": "40f3bcc5",
   "metadata": {},
   "outputs": [],
   "source": [
    "train_df.info()"
   ]
  },
  {
   "cell_type": "code",
   "execution_count": null,
   "id": "e6c78182",
   "metadata": {},
   "outputs": [],
   "source": []
  },
  {
   "cell_type": "code",
   "execution_count": null,
   "id": "ff35a16a",
   "metadata": {},
   "outputs": [],
   "source": []
  }
 ],
 "metadata": {
  "kernelspec": {
   "display_name": "Python 3",
   "language": "python",
   "name": "python3"
  },
  "language_info": {
   "codemirror_mode": {
    "name": "ipython",
    "version": 3
   },
   "file_extension": ".py",
   "mimetype": "text/x-python",
   "name": "python",
   "nbconvert_exporter": "python",
   "pygments_lexer": "ipython3",
   "version": "3.8.18"
  }
 },
 "nbformat": 4,
 "nbformat_minor": 5
}
