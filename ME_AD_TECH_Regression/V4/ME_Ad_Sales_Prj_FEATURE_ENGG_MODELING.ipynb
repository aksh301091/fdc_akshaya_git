{
 "cells": [
  {
   "cell_type": "markdown",
   "id": "8d0c1421",
   "metadata": {},
   "source": [
    "# Installing packages section"
   ]
  },
  {
   "cell_type": "code",
   "execution_count": 6,
   "id": "a2bf3836",
   "metadata": {},
   "outputs": [
    {
     "name": "stdout",
     "output_type": "stream",
     "text": [
      "Collecting snowflake-connector-python[pandas]\n",
      "  Using cached https://files.pythonhosted.org/packages/b1/89/e8ad64316c505bdf1ae9d2537f72882349a8ef259b00ba6309ead16f76f7/snowflake_connector_python-3.12.0-cp39-cp39-manylinux_2_17_x86_64.manylinux2014_x86_64.whl\n",
      "Collecting snowflake-snowpark-python[pandas]\n",
      "  Using cached https://files.pythonhosted.org/packages/77/fd/f4cb374a50559c996f62a4367fa4919c7a52932326c086b9e7496cd786c6/snowflake_snowpark_python-1.20.0-py3-none-any.whl\n",
      "Collecting tomlkit\n",
      "  Using cached https://files.pythonhosted.org/packages/fd/7c/b753bf603852cab0a660da6e81f4ea5d2ca0f0b2b4870766d7aa9bceb7a2/tomlkit-0.13.0-py3-none-any.whl\n",
      "Collecting cffi<2.0.0,>=1.9\n",
      "  Using cached https://files.pythonhosted.org/packages/e1/d3/36e54b85f670400ff0440ab743fa0de66bdd89b8f54b7d2370708cdcb03f/cffi-1.17.0-cp39-cp39-manylinux_2_17_x86_64.manylinux2014_x86_64.whl\n",
      "Collecting typing-extensions<5,>=4.3\n",
      "  Using cached https://files.pythonhosted.org/packages/26/9f/ad63fc0248c5379346306f8668cda6e2e2e9c95e01216d2b8ffd9ff037d0/typing_extensions-4.12.2-py3-none-any.whl\n",
      "Collecting urllib3<2.0.0,>=1.21.1; python_version < \"3.10\"\n",
      "  Using cached https://files.pythonhosted.org/packages/ae/6a/99eaaeae8becaa17a29aeb334a18e5d582d873b6f084c11f02581b8d7f7f/urllib3-1.26.19-py2.py3-none-any.whl\n",
      "Collecting cryptography<43.0.0,>=3.1.0\n",
      "  Using cached https://files.pythonhosted.org/packages/49/1c/9f6d13cc8041c05eebff1154e4e71bedd1db8e174fff999054435994187a/cryptography-42.0.8-cp39-abi3-manylinux_2_17_x86_64.manylinux2014_x86_64.whl\n",
      "Collecting requests<3.0.0\n",
      "  Using cached https://files.pythonhosted.org/packages/f9/9b/335f9764261e915ed497fcdeb11df5dfd6f7bf257d4a6a2a686d80da4d54/requests-2.32.3-py3-none-any.whl\n",
      "Collecting charset-normalizer<4,>=2\n",
      "  Using cached https://files.pythonhosted.org/packages/98/69/5d8751b4b670d623aa7a47bef061d69c279e9f922f6705147983aa76c3ce/charset_normalizer-3.3.2-cp39-cp39-manylinux_2_17_x86_64.manylinux2014_x86_64.whl\n",
      "Collecting idna<4,>=2.5\n",
      "  Using cached https://files.pythonhosted.org/packages/e5/3e/741d8c82801c347547f8a2a06aa57dbb1992be9e948df2ea0eda2c8b79e8/idna-3.7-py3-none-any.whl\n",
      "Collecting filelock<4,>=3.5\n",
      "  Using cached https://files.pythonhosted.org/packages/ae/f0/48285f0262fe47103a4a45972ed2f9b93e4c80b8fd609fa98da78b2a5706/filelock-3.15.4-py3-none-any.whl\n",
      "Collecting platformdirs<5.0.0,>=2.6.0\n",
      "  Using cached https://files.pythonhosted.org/packages/68/13/2aa1f0e1364feb2c9ef45302f387ac0bd81484e9c9a4c5688a322fbdfd08/platformdirs-4.2.2-py3-none-any.whl\n",
      "Collecting sortedcontainers>=2.4.0\n",
      "  Using cached https://files.pythonhosted.org/packages/32/46/9cb0e58b2deb7f82b84065f37f3bffeb12413f947f9388e4cac22c4621ce/sortedcontainers-2.4.0-py2.py3-none-any.whl\n",
      "Collecting asn1crypto<2.0.0,>0.24.0\n",
      "  Using cached https://files.pythonhosted.org/packages/c9/7f/09065fd9e27da0eda08b4d6897f1c13535066174cc023af248fc2a8d5e5a/asn1crypto-1.5.1-py2.py3-none-any.whl\n",
      "Collecting pyjwt<3.0.0\n",
      "  Using cached https://files.pythonhosted.org/packages/79/84/0fdf9b18ba31d69877bd39c9cd6052b47f3761e9910c15de788e519f079f/PyJWT-2.9.0-py3-none-any.whl\n",
      "Collecting pytz\n",
      "  Using cached https://files.pythonhosted.org/packages/9c/3d/a121f284241f08268b21359bd425f7d4825cffc5ac5cd0e1b3d82ffd2b10/pytz-2024.1-py2.py3-none-any.whl\n",
      "Collecting certifi>=2017.4.17\n",
      "  Using cached https://files.pythonhosted.org/packages/1c/d5/c84e1a17bf61d4df64ca866a1c9a913874b4e9bdc131ec689a0ad013fb36/certifi-2024.7.4-py3-none-any.whl\n",
      "Collecting packaging\n",
      "  Using cached https://files.pythonhosted.org/packages/08/aa/cc0199a5f0ad350994d660967a8efb233fe0416e4639146c089643407ce6/packaging-24.1-py3-none-any.whl\n",
      "Collecting pyOpenSSL<25.0.0,>=16.2.0\n",
      "  Using cached https://files.pythonhosted.org/packages/d9/dd/e0aa7ebef5168c75b772eda64978c597a9129b46be17779054652a7999e4/pyOpenSSL-24.2.1-py3-none-any.whl\n",
      "Collecting pyarrow; extra == \"pandas\"\n",
      "  Using cached https://files.pythonhosted.org/packages/af/61/bcd9b58e38ead6ad42b9ed00da33a3f862bc1d445e3d3164799c25550ac2/pyarrow-17.0.0-cp39-cp39-manylinux_2_17_x86_64.manylinux2014_x86_64.whl\n",
      "Collecting pandas<3.0.0,>=1.0.0; extra == \"pandas\"\n",
      "  Using cached https://files.pythonhosted.org/packages/bb/30/f6f1f1ac36250f50c421b1b6af08c35e5a8b5a84385ef928625336b93e6f/pandas-2.2.2-cp39-cp39-manylinux_2_17_x86_64.manylinux2014_x86_64.whl\n",
      "Collecting wheel\n",
      "  Using cached https://files.pythonhosted.org/packages/1b/d1/9babe2ccaecff775992753d8686970b1e2755d21c8a63be73aba7a4e7d77/wheel-0.44.0-py3-none-any.whl\n",
      "Collecting setuptools>=40.6.0\n",
      "  Using cached https://files.pythonhosted.org/packages/e1/58/e0ef3b9974a04ce9cde2a7a33881ddcb2d68450803745804545cdd8d258f/setuptools-72.1.0-py3-none-any.whl\n",
      "Collecting pyyaml\n",
      "  Using cached https://files.pythonhosted.org/packages/3d/32/e7bd8535d22ea2874cef6a81021ba019474ace0d13a4819c2a4bce79bd6a/PyYAML-6.0.2-cp39-cp39-manylinux_2_17_x86_64.manylinux2014_x86_64.whl\n",
      "Collecting cloudpickle!=2.1.0,!=2.2.0,<=2.2.1,>=1.6.0; python_version < \"3.11\"\n",
      "  Using cached https://files.pythonhosted.org/packages/15/80/44286939ca215e88fa827b2aeb6fa3fd2b4a7af322485c7170d6f9fd96e0/cloudpickle-2.2.1-py3-none-any.whl\n",
      "Collecting pycparser\n",
      "  Using cached https://files.pythonhosted.org/packages/13/a3/a812df4e2dd5696d1f351d58b8fe16a405b234ad2886a0dab9183fb78109/pycparser-2.22-py3-none-any.whl\n",
      "Collecting numpy>=1.16.6\n",
      "  Using cached https://files.pythonhosted.org/packages/b1/e3/24d289c5a3255bf52824bd52295e9a7923cad8ae5ec29539fc971e1122f6/numpy-2.0.1-cp39-cp39-manylinux_2_17_x86_64.manylinux2014_x86_64.whl\n",
      "Collecting python-dateutil>=2.8.2\n",
      "  Using cached https://files.pythonhosted.org/packages/ec/57/56b9bcc3c9c6a792fcbaf139543cee77261f3651ca9da0c93f5c1221264b/python_dateutil-2.9.0.post0-py2.py3-none-any.whl\n",
      "Collecting tzdata>=2022.7\n",
      "  Using cached https://files.pythonhosted.org/packages/65/58/f9c9e6be752e9fcb8b6a0ee9fb87e6e7a1f6bcab2cdc73f02bb7ba91ada0/tzdata-2024.1-py2.py3-none-any.whl\n",
      "Collecting six>=1.5\n",
      "  Using cached https://files.pythonhosted.org/packages/d9/5a/e7c31adbe875f2abbb91bd84cf2dc52d792b5a01506781dbcf25c91daf11/six-1.16.0-py2.py3-none-any.whl\n",
      "\u001b[31mERROR: mosaic-utils 1.0.2 has requirement scikit-learn==1.2.1; python_version >= \"3.8\", but you'll have scikit-learn 1.5.1 which is incompatible.\u001b[0m\n",
      "\u001b[31mERROR: fosforml 1.0.1 has requirement cloudpickle==3.0.0, but you'll have cloudpickle 2.2.1 which is incompatible.\u001b[0m\n",
      "\u001b[31mERROR: fosforml 1.0.1 has requirement numpy==1.26.4; python_version > \"3.8\", but you'll have numpy 2.0.1 which is incompatible.\u001b[0m\n",
      "\u001b[31mERROR: fosforml 1.0.1 has requirement PyYAML==6.0.1, but you'll have pyyaml 6.0.2 which is incompatible.\u001b[0m\n",
      "\u001b[31mERROR: fosforml 1.0.1 has requirement urllib3==2.2.1, but you'll have urllib3 1.26.19 which is incompatible.\u001b[0m\n",
      "\u001b[31mERROR: fosforio 1.0.1 has requirement pandas==2.0.0, but you'll have pandas 2.2.2 which is incompatible.\u001b[0m\n",
      "\u001b[31mERROR: openapi-schema-validator 0.6.2 has requirement jsonschema<5.0.0,>=4.19.1, but you'll have jsonschema 4.19.0 which is incompatible.\u001b[0m\n",
      "\u001b[31mERROR: numba 0.58.1 has requirement numpy<1.27,>=1.22, but you'll have numpy 2.0.1 which is incompatible.\u001b[0m\n",
      "\u001b[31mERROR: mosaic-ai-serving 1.0.0 has requirement Flask==2.1.1; python_version >= \"3.7\", but you'll have flask 2.2.5 which is incompatible.\u001b[0m\n",
      "\u001b[31mERROR: mosaic-ai-serving 1.0.0 has requirement matplotlib==3.6.0; python_version >= \"3.8\", but you'll have matplotlib 3.9.0 which is incompatible.\u001b[0m\n",
      "\u001b[31mERROR: mosaic-ai-client 1.0.0 has requirement matplotlib==3.1.1, but you'll have matplotlib 3.9.0 which is incompatible.\u001b[0m\n",
      "\u001b[31mERROR: mosaic-ai-client 1.0.0 has requirement requests-toolbelt==0.9.1, but you'll have requests-toolbelt 1.0.0 which is incompatible.\u001b[0m\n",
      "\u001b[31mERROR: jupyterlab 3.2.4 has requirement jupyter-server~=1.4, but you'll have jupyter-server 2.7.3 which is incompatible.\u001b[0m\n",
      "\u001b[31mERROR: jsonschema-path 0.3.2 has requirement referencing<0.32.0,>=0.28.0, but you'll have referencing 0.33.0 which is incompatible.\u001b[0m\n",
      "Installing collected packages: tomlkit, pycparser, cffi, typing-extensions, urllib3, cryptography, idna, certifi, charset-normalizer, requests, filelock, platformdirs, sortedcontainers, asn1crypto, pyjwt, pytz, packaging, pyOpenSSL, numpy, pyarrow, six, python-dateutil, tzdata, pandas, snowflake-connector-python, wheel, setuptools, pyyaml, cloudpickle, snowflake-snowpark-python\n"
     ]
    },
    {
     "name": "stdout",
     "output_type": "stream",
     "text": [
      "Successfully installed asn1crypto-1.5.1 certifi-2024.7.4 cffi-1.17.0 charset-normalizer-3.3.2 cloudpickle-2.2.1 cryptography-42.0.8 filelock-3.15.4 idna-3.7 numpy-2.0.1 packaging-24.1 pandas-2.2.2 platformdirs-4.2.2 pyOpenSSL-24.2.1 pyarrow-17.0.0 pycparser-2.22 pyjwt-2.9.0 python-dateutil-2.9.0.post0 pytz-2024.1 pyyaml-6.0.2 requests-2.32.3 setuptools-72.1.0 six-1.16.0 snowflake-connector-python-3.12.0 snowflake-snowpark-python-1.20.0 sortedcontainers-2.4.0 tomlkit-0.13.0 typing-extensions-4.12.2 tzdata-2024.1 urllib3-1.26.19 wheel-0.44.0\n",
      "\u001b[33mWARNING: Target directory /tmp/pip_packages/tomlkit already exists. Specify --upgrade to force replacement.\u001b[0m\n",
      "\u001b[33mWARNING: Target directory /tmp/pip_packages/tomlkit-0.13.0.dist-info already exists. Specify --upgrade to force replacement.\u001b[0m\n",
      "\u001b[33mWARNING: Target directory /tmp/pip_packages/pycparser already exists. Specify --upgrade to force replacement.\u001b[0m\n",
      "\u001b[33mWARNING: Target directory /tmp/pip_packages/pycparser-2.22.dist-info already exists. Specify --upgrade to force replacement.\u001b[0m\n",
      "\u001b[33mWARNING: Target directory /tmp/pip_packages/_cffi_backend.cpython-39-x86_64-linux-gnu.so already exists. Specify --upgrade to force replacement.\u001b[0m\n",
      "\u001b[33mWARNING: Target directory /tmp/pip_packages/cffi-1.17.0.dist-info already exists. Specify --upgrade to force replacement.\u001b[0m\n",
      "\u001b[33mWARNING: Target directory /tmp/pip_packages/cffi already exists. Specify --upgrade to force replacement.\u001b[0m\n",
      "\u001b[33mWARNING: Target directory /tmp/pip_packages/typing_extensions.py already exists. Specify --upgrade to force replacement.\u001b[0m\n",
      "\u001b[33mWARNING: Target directory /tmp/pip_packages/typing_extensions-4.12.2.dist-info already exists. Specify --upgrade to force replacement.\u001b[0m\n",
      "\u001b[33mWARNING: Target directory /tmp/pip_packages/__pycache__ already exists. Specify --upgrade to force replacement.\u001b[0m\n",
      "\u001b[33mWARNING: Target directory /tmp/pip_packages/urllib3 already exists. Specify --upgrade to force replacement.\u001b[0m\n",
      "\u001b[33mWARNING: Target directory /tmp/pip_packages/urllib3-1.26.19.dist-info already exists. Specify --upgrade to force replacement.\u001b[0m\n",
      "\u001b[33mWARNING: Target directory /tmp/pip_packages/cryptography already exists. Specify --upgrade to force replacement.\u001b[0m\n",
      "\u001b[33mWARNING: Target directory /tmp/pip_packages/cryptography-42.0.8.dist-info already exists. Specify --upgrade to force replacement.\u001b[0m\n",
      "\u001b[33mWARNING: Target directory /tmp/pip_packages/idna already exists. Specify --upgrade to force replacement.\u001b[0m\n",
      "\u001b[33mWARNING: Target directory /tmp/pip_packages/idna-3.7.dist-info already exists. Specify --upgrade to force replacement.\u001b[0m\n",
      "\u001b[33mWARNING: Target directory /tmp/pip_packages/certifi already exists. Specify --upgrade to force replacement.\u001b[0m\n",
      "\u001b[33mWARNING: Target directory /tmp/pip_packages/certifi-2024.7.4.dist-info already exists. Specify --upgrade to force replacement.\u001b[0m\n",
      "\u001b[33mWARNING: Target directory /tmp/pip_packages/charset_normalizer already exists. Specify --upgrade to force replacement.\u001b[0m\n",
      "\u001b[33mWARNING: Target directory /tmp/pip_packages/charset_normalizer-3.3.2.dist-info already exists. Specify --upgrade to force replacement.\u001b[0m\n",
      "\u001b[33mWARNING: Target directory /tmp/pip_packages/requests already exists. Specify --upgrade to force replacement.\u001b[0m\n",
      "\u001b[33mWARNING: Target directory /tmp/pip_packages/requests-2.32.3.dist-info already exists. Specify --upgrade to force replacement.\u001b[0m\n",
      "\u001b[33mWARNING: Target directory /tmp/pip_packages/filelock already exists. Specify --upgrade to force replacement.\u001b[0m\n",
      "\u001b[33mWARNING: Target directory /tmp/pip_packages/filelock-3.15.4.dist-info already exists. Specify --upgrade to force replacement.\u001b[0m\n",
      "\u001b[33mWARNING: Target directory /tmp/pip_packages/platformdirs already exists. Specify --upgrade to force replacement.\u001b[0m\n",
      "\u001b[33mWARNING: Target directory /tmp/pip_packages/platformdirs-4.2.2.dist-info already exists. Specify --upgrade to force replacement.\u001b[0m\n",
      "\u001b[33mWARNING: Target directory /tmp/pip_packages/sortedcontainers already exists. Specify --upgrade to force replacement.\u001b[0m\n",
      "\u001b[33mWARNING: Target directory /tmp/pip_packages/sortedcontainers-2.4.0.dist-info already exists. Specify --upgrade to force replacement.\u001b[0m\n",
      "\u001b[33mWARNING: Target directory /tmp/pip_packages/asn1crypto already exists. Specify --upgrade to force replacement.\u001b[0m\n",
      "\u001b[33mWARNING: Target directory /tmp/pip_packages/asn1crypto-1.5.1.dist-info already exists. Specify --upgrade to force replacement.\u001b[0m\n",
      "\u001b[33mWARNING: Target directory /tmp/pip_packages/jwt already exists. Specify --upgrade to force replacement.\u001b[0m\n",
      "\u001b[33mWARNING: Target directory /tmp/pip_packages/PyJWT-2.9.0.dist-info already exists. Specify --upgrade to force replacement.\u001b[0m\n",
      "\u001b[33mWARNING: Target directory /tmp/pip_packages/pytz already exists. Specify --upgrade to force replacement.\u001b[0m\n",
      "\u001b[33mWARNING: Target directory /tmp/pip_packages/pytz-2024.1.dist-info already exists. Specify --upgrade to force replacement.\u001b[0m\n",
      "\u001b[33mWARNING: Target directory /tmp/pip_packages/packaging already exists. Specify --upgrade to force replacement.\u001b[0m\n",
      "\u001b[33mWARNING: Target directory /tmp/pip_packages/packaging-24.1.dist-info already exists. Specify --upgrade to force replacement.\u001b[0m\n",
      "\u001b[33mWARNING: Target directory /tmp/pip_packages/OpenSSL already exists. Specify --upgrade to force replacement.\u001b[0m\n",
      "\u001b[33mWARNING: Target directory /tmp/pip_packages/pyOpenSSL-24.2.1.dist-info already exists. Specify --upgrade to force replacement.\u001b[0m\n",
      "\u001b[33mWARNING: Target directory /tmp/pip_packages/numpy.libs already exists. Specify --upgrade to force replacement.\u001b[0m\n",
      "\u001b[33mWARNING: Target directory /tmp/pip_packages/numpy already exists. Specify --upgrade to force replacement.\u001b[0m\n",
      "\u001b[33mWARNING: Target directory /tmp/pip_packages/numpy-2.0.1.dist-info already exists. Specify --upgrade to force replacement.\u001b[0m\n",
      "\u001b[33mWARNING: Target directory /tmp/pip_packages/scripts already exists. Specify --upgrade to force replacement.\u001b[0m\n",
      "\u001b[33mWARNING: Target directory /tmp/pip_packages/benchmarks already exists. Specify --upgrade to force replacement.\u001b[0m\n",
      "\u001b[33mWARNING: Target directory /tmp/pip_packages/pyarrow-17.0.0.dist-info already exists. Specify --upgrade to force replacement.\u001b[0m\n",
      "\u001b[33mWARNING: Target directory /tmp/pip_packages/examples already exists. Specify --upgrade to force replacement.\u001b[0m\n",
      "\u001b[33mWARNING: Target directory /tmp/pip_packages/pyarrow already exists. Specify --upgrade to force replacement.\u001b[0m\n",
      "\u001b[33mWARNING: Target directory /tmp/pip_packages/cmake_modules already exists. Specify --upgrade to force replacement.\u001b[0m\n",
      "\u001b[33mWARNING: Target directory /tmp/pip_packages/six.py already exists. Specify --upgrade to force replacement.\u001b[0m\n",
      "\u001b[33mWARNING: Target directory /tmp/pip_packages/six-1.16.0.dist-info already exists. Specify --upgrade to force replacement.\u001b[0m\n",
      "\u001b[33mWARNING: Target directory /tmp/pip_packages/dateutil already exists. Specify --upgrade to force replacement.\u001b[0m\n",
      "\u001b[33mWARNING: Target directory /tmp/pip_packages/python_dateutil-2.9.0.post0.dist-info already exists. Specify --upgrade to force replacement.\u001b[0m\n",
      "\u001b[33mWARNING: Target directory /tmp/pip_packages/tzdata already exists. Specify --upgrade to force replacement.\u001b[0m\n",
      "\u001b[33mWARNING: Target directory /tmp/pip_packages/tzdata-2024.1.dist-info already exists. Specify --upgrade to force replacement.\u001b[0m\n",
      "\u001b[33mWARNING: Target directory /tmp/pip_packages/pandas already exists. Specify --upgrade to force replacement.\u001b[0m\n",
      "\u001b[33mWARNING: Target directory /tmp/pip_packages/pandas-2.2.2.dist-info already exists. Specify --upgrade to force replacement.\u001b[0m\n",
      "\u001b[33mWARNING: Target directory /tmp/pip_packages/snowflake already exists. Specify --upgrade to force replacement.\u001b[0m\n",
      "\u001b[33mWARNING: Target directory /tmp/pip_packages/snowflake_connector_python-3.12.0.dist-info already exists. Specify --upgrade to force replacement.\u001b[0m\n",
      "\u001b[33mWARNING: Target directory /tmp/pip_packages/wheel already exists. Specify --upgrade to force replacement.\u001b[0m\n",
      "\u001b[33mWARNING: Target directory /tmp/pip_packages/wheel-0.44.0.dist-info already exists. Specify --upgrade to force replacement.\u001b[0m\n",
      "\u001b[33mWARNING: Target directory /tmp/pip_packages/distutils-precedence.pth already exists. Specify --upgrade to force replacement.\u001b[0m\n",
      "\u001b[33mWARNING: Target directory /tmp/pip_packages/_distutils_hack already exists. Specify --upgrade to force replacement.\u001b[0m\n",
      "\u001b[33mWARNING: Target directory /tmp/pip_packages/pkg_resources already exists. Specify --upgrade to force replacement.\u001b[0m\n",
      "\u001b[33mWARNING: Target directory /tmp/pip_packages/setuptools already exists. Specify --upgrade to force replacement.\u001b[0m\n",
      "\u001b[33mWARNING: Target directory /tmp/pip_packages/setuptools-72.1.0.dist-info already exists. Specify --upgrade to force replacement.\u001b[0m\n",
      "\u001b[33mWARNING: Target directory /tmp/pip_packages/PyYAML-6.0.2.dist-info already exists. Specify --upgrade to force replacement.\u001b[0m\n",
      "\u001b[33mWARNING: Target directory /tmp/pip_packages/yaml already exists. Specify --upgrade to force replacement.\u001b[0m\n",
      "\u001b[33mWARNING: Target directory /tmp/pip_packages/_yaml already exists. Specify --upgrade to force replacement.\u001b[0m\n",
      "\u001b[33mWARNING: Target directory /tmp/pip_packages/cloudpickle already exists. Specify --upgrade to force replacement.\u001b[0m\n",
      "\u001b[33mWARNING: Target directory /tmp/pip_packages/cloudpickle-2.2.1.dist-info already exists. Specify --upgrade to force replacement.\u001b[0m\n",
      "\u001b[33mWARNING: Target directory /tmp/pip_packages/snowflake_snowpark_python-1.20.0-py3.12-nspkg.pth already exists. Specify --upgrade to force replacement.\u001b[0m\n",
      "\u001b[33mWARNING: Target directory /tmp/pip_packages/snowflake_snowpark_python-1.20.0.dist-info already exists. Specify --upgrade to force replacement.\u001b[0m\n",
      "\u001b[33mWARNING: Target directory /tmp/pip_packages/bin already exists. Specify --upgrade to force replacement.\u001b[0m\n"
     ]
    },
    {
     "name": "stdout",
     "output_type": "stream",
     "text": [
      "\u001b[33mWARNING: You are using pip version 19.3.1; however, version 24.2 is available.\n",
      "You should consider upgrading via the 'pip install --upgrade pip' command.\u001b[0m\n",
      "Collecting fosforio[snowflake]\n",
      "  Using cached https://files.pythonhosted.org/packages/5b/98/b5e8b5febc280807ac2ebabd7d8f1e1986add138a393fd03647115a200ad/fosforio-1.0.2-py3-none-any.whl\n",
      "Collecting pandas==2.0.0\n",
      "  Using cached https://files.pythonhosted.org/packages/66/7c/93b2b93ef90642a6a8ecf896d669f8ab5579b36fef7faca730b0c1da6034/pandas-2.0.0-cp39-cp39-manylinux_2_17_x86_64.manylinux2014_x86_64.whl\n",
      "Collecting snowflake-connector-python[pandas]==3.6.0; extra == \"snowflake\"\n",
      "  Using cached https://files.pythonhosted.org/packages/1b/a8/6ffd1f90333dec9a6e08e97894a05a8c2aec56b1e0b73b7a3e21d47d6269/snowflake_connector_python-3.6.0-cp39-cp39-manylinux_2_17_x86_64.manylinux2014_x86_64.whl\n",
      "Collecting tzdata>=2022.1\n",
      "  Using cached https://files.pythonhosted.org/packages/65/58/f9c9e6be752e9fcb8b6a0ee9fb87e6e7a1f6bcab2cdc73f02bb7ba91ada0/tzdata-2024.1-py2.py3-none-any.whl\n",
      "Collecting python-dateutil>=2.8.2\n",
      "  Using cached https://files.pythonhosted.org/packages/ec/57/56b9bcc3c9c6a792fcbaf139543cee77261f3651ca9da0c93f5c1221264b/python_dateutil-2.9.0.post0-py2.py3-none-any.whl\n",
      "Collecting pytz>=2020.1\n",
      "  Using cached https://files.pythonhosted.org/packages/9c/3d/a121f284241f08268b21359bd425f7d4825cffc5ac5cd0e1b3d82ffd2b10/pytz-2024.1-py2.py3-none-any.whl\n",
      "Collecting numpy>=1.20.3; python_version < \"3.10\"\n",
      "  Using cached https://files.pythonhosted.org/packages/b1/e3/24d289c5a3255bf52824bd52295e9a7923cad8ae5ec29539fc971e1122f6/numpy-2.0.1-cp39-cp39-manylinux_2_17_x86_64.manylinux2014_x86_64.whl\n",
      "Collecting charset-normalizer<4,>=2\n",
      "  Using cached https://files.pythonhosted.org/packages/98/69/5d8751b4b670d623aa7a47bef061d69c279e9f922f6705147983aa76c3ce/charset_normalizer-3.3.2-cp39-cp39-manylinux_2_17_x86_64.manylinux2014_x86_64.whl\n",
      "Collecting asn1crypto<2.0.0,>0.24.0\n",
      "  Using cached https://files.pythonhosted.org/packages/c9/7f/09065fd9e27da0eda08b4d6897f1c13535066174cc023af248fc2a8d5e5a/asn1crypto-1.5.1-py2.py3-none-any.whl\n",
      "Collecting urllib3<2.0.0,>=1.21.1; python_version < \"3.10\"\n",
      "  Using cached https://files.pythonhosted.org/packages/ae/6a/99eaaeae8becaa17a29aeb334a18e5d582d873b6f084c11f02581b8d7f7f/urllib3-1.26.19-py2.py3-none-any.whl\n",
      "Collecting cffi<2.0.0,>=1.9\n",
      "  Using cached https://files.pythonhosted.org/packages/e1/d3/36e54b85f670400ff0440ab743fa0de66bdd89b8f54b7d2370708cdcb03f/cffi-1.17.0-cp39-cp39-manylinux_2_17_x86_64.manylinux2014_x86_64.whl\n",
      "Collecting platformdirs<4.0.0,>=2.6.0\n",
      "  Using cached https://files.pythonhosted.org/packages/56/29/3ec311dc18804409ecf0d2b09caa976f3ae6215559306b5b530004e11156/platformdirs-3.11.0-py3-none-any.whl\n",
      "Collecting idna<4,>=2.5\n",
      "  Using cached https://files.pythonhosted.org/packages/e5/3e/741d8c82801c347547f8a2a06aa57dbb1992be9e948df2ea0eda2c8b79e8/idna-3.7-py3-none-any.whl\n",
      "Collecting pyjwt<3.0.0\n",
      "  Using cached https://files.pythonhosted.org/packages/79/84/0fdf9b18ba31d69877bd39c9cd6052b47f3761e9910c15de788e519f079f/PyJWT-2.9.0-py3-none-any.whl\n",
      "Collecting packaging\n",
      "  Using cached https://files.pythonhosted.org/packages/08/aa/cc0199a5f0ad350994d660967a8efb233fe0416e4639146c089643407ce6/packaging-24.1-py3-none-any.whl\n",
      "Collecting pyOpenSSL<24.0.0,>=16.2.0\n",
      "  Using cached https://files.pythonhosted.org/packages/db/de/007b832ad7a95e6a73745609bbe123c407aa2c46bb0b8f765c8718294e7f/pyOpenSSL-23.3.0-py3-none-any.whl\n",
      "Collecting typing-extensions<5,>=4.3\n",
      "  Using cached https://files.pythonhosted.org/packages/26/9f/ad63fc0248c5379346306f8668cda6e2e2e9c95e01216d2b8ffd9ff037d0/typing_extensions-4.12.2-py3-none-any.whl\n",
      "Collecting tomlkit\n",
      "  Using cached https://files.pythonhosted.org/packages/fd/7c/b753bf603852cab0a660da6e81f4ea5d2ca0f0b2b4870766d7aa9bceb7a2/tomlkit-0.13.0-py3-none-any.whl\n",
      "Collecting requests<3.0.0\n",
      "  Using cached https://files.pythonhosted.org/packages/f9/9b/335f9764261e915ed497fcdeb11df5dfd6f7bf257d4a6a2a686d80da4d54/requests-2.32.3-py3-none-any.whl\n",
      "Collecting filelock<4,>=3.5\n",
      "  Using cached https://files.pythonhosted.org/packages/ae/f0/48285f0262fe47103a4a45972ed2f9b93e4c80b8fd609fa98da78b2a5706/filelock-3.15.4-py3-none-any.whl\n",
      "Collecting cryptography<42.0.0,>=3.1.0\n",
      "  Using cached https://files.pythonhosted.org/packages/14/fd/dd5bd6ab0d12476ebca579cbfd48d31bd90fa28fa257b209df585dcf62a0/cryptography-41.0.7-cp37-abi3-manylinux_2_17_x86_64.manylinux2014_x86_64.whl\n",
      "Collecting sortedcontainers>=2.4.0\n",
      "  Using cached https://files.pythonhosted.org/packages/32/46/9cb0e58b2deb7f82b84065f37f3bffeb12413f947f9388e4cac22c4621ce/sortedcontainers-2.4.0-py2.py3-none-any.whl\n",
      "Collecting certifi>=2017.4.17\n",
      "  Using cached https://files.pythonhosted.org/packages/1c/d5/c84e1a17bf61d4df64ca866a1c9a913874b4e9bdc131ec689a0ad013fb36/certifi-2024.7.4-py3-none-any.whl\n",
      "Collecting pyarrow; extra == \"pandas\"\n",
      "  Using cached https://files.pythonhosted.org/packages/af/61/bcd9b58e38ead6ad42b9ed00da33a3f862bc1d445e3d3164799c25550ac2/pyarrow-17.0.0-cp39-cp39-manylinux_2_17_x86_64.manylinux2014_x86_64.whl\n",
      "Collecting six>=1.5\n",
      "  Using cached https://files.pythonhosted.org/packages/d9/5a/e7c31adbe875f2abbb91bd84cf2dc52d792b5a01506781dbcf25c91daf11/six-1.16.0-py2.py3-none-any.whl\n",
      "Collecting pycparser\n",
      "  Using cached https://files.pythonhosted.org/packages/13/a3/a812df4e2dd5696d1f351d58b8fe16a405b234ad2886a0dab9183fb78109/pycparser-2.22-py3-none-any.whl\n",
      "\u001b[31mERROR: mosaic-utils 1.0.2 has requirement scikit-learn==1.2.1; python_version >= \"3.8\", but you'll have scikit-learn 1.5.1 which is incompatible.\u001b[0m\n",
      "\u001b[31mERROR: fosforml 1.0.1 has requirement numpy==1.26.4; python_version > \"3.8\", but you'll have numpy 2.0.1 which is incompatible.\u001b[0m\n",
      "\u001b[31mERROR: fosforml 1.0.1 has requirement PyYAML==6.0.1, but you'll have pyyaml 6.0.2 which is incompatible.\u001b[0m\n",
      "\u001b[31mERROR: fosforml 1.0.1 has requirement urllib3==2.2.1, but you'll have urllib3 1.26.19 which is incompatible.\u001b[0m\n",
      "\u001b[31mERROR: snowflake-snowpark-python 1.20.0 has requirement cloudpickle!=2.1.0,!=2.2.0,<=2.2.1,>=1.6.0; python_version < \"3.11\", but you'll have cloudpickle 3.0.0 which is incompatible.\u001b[0m\n",
      "\u001b[31mERROR: snowflake-snowpark-python 1.20.0 has requirement snowflake-connector-python<4.0.0,>=3.10.0, but you'll have snowflake-connector-python 3.6.0 which is incompatible.\u001b[0m\n",
      "\u001b[31mERROR: openapi-schema-validator 0.6.2 has requirement jsonschema<5.0.0,>=4.19.1, but you'll have jsonschema 4.19.0 which is incompatible.\u001b[0m\n",
      "\u001b[31mERROR: numba 0.58.1 has requirement numpy<1.27,>=1.22, but you'll have numpy 2.0.1 which is incompatible.\u001b[0m\n",
      "\u001b[31mERROR: mosaic-ai-serving 1.0.0 has requirement Flask==2.1.1; python_version >= \"3.7\", but you'll have flask 2.2.5 which is incompatible.\u001b[0m\n",
      "\u001b[31mERROR: mosaic-ai-serving 1.0.0 has requirement matplotlib==3.6.0; python_version >= \"3.8\", but you'll have matplotlib 3.9.0 which is incompatible.\u001b[0m\n",
      "\u001b[31mERROR: mosaic-ai-client 1.0.0 has requirement matplotlib==3.1.1, but you'll have matplotlib 3.9.0 which is incompatible.\u001b[0m\n",
      "\u001b[31mERROR: mosaic-ai-client 1.0.0 has requirement requests-toolbelt==0.9.1, but you'll have requests-toolbelt 1.0.0 which is incompatible.\u001b[0m\n",
      "\u001b[31mERROR: jupyterlab 3.2.4 has requirement jupyter-server~=1.4, but you'll have jupyter-server 2.7.3 which is incompatible.\u001b[0m\n",
      "\u001b[31mERROR: jsonschema-path 0.3.2 has requirement referencing<0.32.0,>=0.28.0, but you'll have referencing 0.33.0 which is incompatible.\u001b[0m\n",
      "Installing collected packages: tzdata, six, python-dateutil, pytz, numpy, pandas, charset-normalizer, asn1crypto, urllib3, pycparser, cffi, platformdirs, idna, pyjwt, packaging, cryptography, pyOpenSSL, typing-extensions, tomlkit, certifi, requests, filelock, sortedcontainers, pyarrow, snowflake-connector-python, fosforio\n",
      "Successfully installed asn1crypto-1.5.1 certifi-2024.7.4 cffi-1.17.0 charset-normalizer-3.3.2 cryptography-41.0.7 filelock-3.15.4 fosforio-1.0.2 idna-3.7 numpy-2.0.1 packaging-24.1 pandas-2.0.0 platformdirs-3.11.0 pyOpenSSL-23.3.0 pyarrow-17.0.0 pycparser-2.22 pyjwt-2.9.0 python-dateutil-2.9.0.post0 pytz-2024.1 requests-2.32.3 six-1.16.0 snowflake-connector-python-3.6.0 sortedcontainers-2.4.0 tomlkit-0.13.0 typing-extensions-4.12.2 tzdata-2024.1 urllib3-1.26.19\n",
      "\u001b[33mWARNING: Target directory /tmp/pip_packages/tzdata already exists. Specify --upgrade to force replacement.\u001b[0m\n",
      "\u001b[33mWARNING: Target directory /tmp/pip_packages/tzdata-2024.1.dist-info already exists. Specify --upgrade to force replacement.\u001b[0m\n",
      "\u001b[33mWARNING: Target directory /tmp/pip_packages/six.py already exists. Specify --upgrade to force replacement.\u001b[0m\n",
      "\u001b[33mWARNING: Target directory /tmp/pip_packages/six-1.16.0.dist-info already exists. Specify --upgrade to force replacement.\u001b[0m\n",
      "\u001b[33mWARNING: Target directory /tmp/pip_packages/__pycache__ already exists. Specify --upgrade to force replacement.\u001b[0m\n",
      "\u001b[33mWARNING: Target directory /tmp/pip_packages/dateutil already exists. Specify --upgrade to force replacement.\u001b[0m\n",
      "\u001b[33mWARNING: Target directory /tmp/pip_packages/python_dateutil-2.9.0.post0.dist-info already exists. Specify --upgrade to force replacement.\u001b[0m\n",
      "\u001b[33mWARNING: Target directory /tmp/pip_packages/pytz already exists. Specify --upgrade to force replacement.\u001b[0m\n",
      "\u001b[33mWARNING: Target directory /tmp/pip_packages/pytz-2024.1.dist-info already exists. Specify --upgrade to force replacement.\u001b[0m\n",
      "\u001b[33mWARNING: Target directory /tmp/pip_packages/numpy.libs already exists. Specify --upgrade to force replacement.\u001b[0m\n",
      "\u001b[33mWARNING: Target directory /tmp/pip_packages/numpy already exists. Specify --upgrade to force replacement.\u001b[0m\n",
      "\u001b[33mWARNING: Target directory /tmp/pip_packages/numpy-2.0.1.dist-info already exists. Specify --upgrade to force replacement.\u001b[0m\n",
      "\u001b[33mWARNING: Target directory /tmp/pip_packages/pandas-2.0.0.dist-info already exists. Specify --upgrade to force replacement.\u001b[0m\n",
      "\u001b[33mWARNING: Target directory /tmp/pip_packages/pandas already exists. Specify --upgrade to force replacement.\u001b[0m\n",
      "\u001b[33mWARNING: Target directory /tmp/pip_packages/charset_normalizer already exists. Specify --upgrade to force replacement.\u001b[0m\n",
      "\u001b[33mWARNING: Target directory /tmp/pip_packages/charset_normalizer-3.3.2.dist-info already exists. Specify --upgrade to force replacement.\u001b[0m\n",
      "\u001b[33mWARNING: Target directory /tmp/pip_packages/asn1crypto already exists. Specify --upgrade to force replacement.\u001b[0m\n",
      "\u001b[33mWARNING: Target directory /tmp/pip_packages/asn1crypto-1.5.1.dist-info already exists. Specify --upgrade to force replacement.\u001b[0m\n",
      "\u001b[33mWARNING: Target directory /tmp/pip_packages/urllib3 already exists. Specify --upgrade to force replacement.\u001b[0m\n",
      "\u001b[33mWARNING: Target directory /tmp/pip_packages/urllib3-1.26.19.dist-info already exists. Specify --upgrade to force replacement.\u001b[0m\n",
      "\u001b[33mWARNING: Target directory /tmp/pip_packages/pycparser already exists. Specify --upgrade to force replacement.\u001b[0m\n",
      "\u001b[33mWARNING: Target directory /tmp/pip_packages/pycparser-2.22.dist-info already exists. Specify --upgrade to force replacement.\u001b[0m\n",
      "\u001b[33mWARNING: Target directory /tmp/pip_packages/_cffi_backend.cpython-39-x86_64-linux-gnu.so already exists. Specify --upgrade to force replacement.\u001b[0m\n",
      "\u001b[33mWARNING: Target directory /tmp/pip_packages/cffi-1.17.0.dist-info already exists. Specify --upgrade to force replacement.\u001b[0m\n",
      "\u001b[33mWARNING: Target directory /tmp/pip_packages/cffi already exists. Specify --upgrade to force replacement.\u001b[0m\n",
      "\u001b[33mWARNING: Target directory /tmp/pip_packages/platformdirs already exists. Specify --upgrade to force replacement.\u001b[0m\n",
      "\u001b[33mWARNING: Target directory /tmp/pip_packages/platformdirs-3.11.0.dist-info already exists. Specify --upgrade to force replacement.\u001b[0m\n",
      "\u001b[33mWARNING: Target directory /tmp/pip_packages/idna already exists. Specify --upgrade to force replacement.\u001b[0m\n",
      "\u001b[33mWARNING: Target directory /tmp/pip_packages/idna-3.7.dist-info already exists. Specify --upgrade to force replacement.\u001b[0m\n",
      "\u001b[33mWARNING: Target directory /tmp/pip_packages/jwt already exists. Specify --upgrade to force replacement.\u001b[0m\n",
      "\u001b[33mWARNING: Target directory /tmp/pip_packages/PyJWT-2.9.0.dist-info already exists. Specify --upgrade to force replacement.\u001b[0m\n",
      "\u001b[33mWARNING: Target directory /tmp/pip_packages/packaging already exists. Specify --upgrade to force replacement.\u001b[0m\n",
      "\u001b[33mWARNING: Target directory /tmp/pip_packages/packaging-24.1.dist-info already exists. Specify --upgrade to force replacement.\u001b[0m\n",
      "\u001b[33mWARNING: Target directory /tmp/pip_packages/cryptography already exists. Specify --upgrade to force replacement.\u001b[0m\n",
      "\u001b[33mWARNING: Target directory /tmp/pip_packages/cryptography-41.0.7.dist-info already exists. Specify --upgrade to force replacement.\u001b[0m\n",
      "\u001b[33mWARNING: Target directory /tmp/pip_packages/OpenSSL already exists. Specify --upgrade to force replacement.\u001b[0m\n",
      "\u001b[33mWARNING: Target directory /tmp/pip_packages/pyOpenSSL-23.3.0.dist-info already exists. Specify --upgrade to force replacement.\u001b[0m\n",
      "\u001b[33mWARNING: Target directory /tmp/pip_packages/typing_extensions.py already exists. Specify --upgrade to force replacement.\u001b[0m\n",
      "\u001b[33mWARNING: Target directory /tmp/pip_packages/typing_extensions-4.12.2.dist-info already exists. Specify --upgrade to force replacement.\u001b[0m\n",
      "\u001b[33mWARNING: Target directory /tmp/pip_packages/tomlkit already exists. Specify --upgrade to force replacement.\u001b[0m\n",
      "\u001b[33mWARNING: Target directory /tmp/pip_packages/tomlkit-0.13.0.dist-info already exists. Specify --upgrade to force replacement.\u001b[0m\n",
      "\u001b[33mWARNING: Target directory /tmp/pip_packages/certifi already exists. Specify --upgrade to force replacement.\u001b[0m\n",
      "\u001b[33mWARNING: Target directory /tmp/pip_packages/certifi-2024.7.4.dist-info already exists. Specify --upgrade to force replacement.\u001b[0m\n",
      "\u001b[33mWARNING: Target directory /tmp/pip_packages/requests already exists. Specify --upgrade to force replacement.\u001b[0m\n",
      "\u001b[33mWARNING: Target directory /tmp/pip_packages/requests-2.32.3.dist-info already exists. Specify --upgrade to force replacement.\u001b[0m\n",
      "\u001b[33mWARNING: Target directory /tmp/pip_packages/filelock already exists. Specify --upgrade to force replacement.\u001b[0m\n",
      "\u001b[33mWARNING: Target directory /tmp/pip_packages/filelock-3.15.4.dist-info already exists. Specify --upgrade to force replacement.\u001b[0m\n",
      "\u001b[33mWARNING: Target directory /tmp/pip_packages/sortedcontainers already exists. Specify --upgrade to force replacement.\u001b[0m\n",
      "\u001b[33mWARNING: Target directory /tmp/pip_packages/sortedcontainers-2.4.0.dist-info already exists. Specify --upgrade to force replacement.\u001b[0m\n",
      "\u001b[33mWARNING: Target directory /tmp/pip_packages/scripts already exists. Specify --upgrade to force replacement.\u001b[0m\n",
      "\u001b[33mWARNING: Target directory /tmp/pip_packages/benchmarks already exists. Specify --upgrade to force replacement.\u001b[0m\n",
      "\u001b[33mWARNING: Target directory /tmp/pip_packages/pyarrow-17.0.0.dist-info already exists. Specify --upgrade to force replacement.\u001b[0m\n",
      "\u001b[33mWARNING: Target directory /tmp/pip_packages/examples already exists. Specify --upgrade to force replacement.\u001b[0m\n",
      "\u001b[33mWARNING: Target directory /tmp/pip_packages/pyarrow already exists. Specify --upgrade to force replacement.\u001b[0m\n",
      "\u001b[33mWARNING: Target directory /tmp/pip_packages/cmake_modules already exists. Specify --upgrade to force replacement.\u001b[0m\n",
      "\u001b[33mWARNING: Target directory /tmp/pip_packages/snowflake already exists. Specify --upgrade to force replacement.\u001b[0m\n",
      "\u001b[33mWARNING: Target directory /tmp/pip_packages/snowflake_connector_python-3.6.0.dist-info already exists. Specify --upgrade to force replacement.\u001b[0m\n",
      "\u001b[33mWARNING: Target directory /tmp/pip_packages/fosforio already exists. Specify --upgrade to force replacement.\u001b[0m\n",
      "\u001b[33mWARNING: Target directory /tmp/pip_packages/fosforio-1.0.2.dist-info already exists. Specify --upgrade to force replacement.\u001b[0m\n",
      "\u001b[33mWARNING: Target directory /tmp/pip_packages/bin already exists. Specify --upgrade to force replacement.\u001b[0m\n"
     ]
    },
    {
     "name": "stdout",
     "output_type": "stream",
     "text": [
      "\u001b[33mWARNING: You are using pip version 19.3.1; however, version 24.2 is available.\r\n",
      "You should consider upgrading via the 'pip install --upgrade pip' command.\u001b[0m\r\n"
     ]
    }
   ],
   "source": [
    "# Installing packages set for without init script\n",
    "!pip install \"snowflake-connector-python[pandas]\" \"snowflake-snowpark-python[pandas]\"  \n",
    "!pip install fosforio[snowflake]"
   ]
  },
  {
   "cell_type": "markdown",
   "id": "b2bfef54",
   "metadata": {},
   "source": [
    "# Importing packages"
   ]
  },
  {
   "cell_type": "code",
   "execution_count": 1,
   "id": "85efc7b3",
   "metadata": {},
   "outputs": [
    {
     "name": "stdout",
     "output_type": "stream",
     "text": [
      "Connection manager service url initialised to http://fdc-project-manager:80/project-manager\n",
      "If you need to update its value then update the variable CONNECTION_MANAGER_BASE_URL in os env.\n"
     ]
    }
   ],
   "source": [
    "import numpy as np\n",
    "import pandas as pd\n",
    "import matplotlib.pyplot as plt\n",
    "import seaborn as sns\n",
    "import warnings\n",
    "warnings.filterwarnings('ignore')\n",
    "import joblib\n",
    "from fosforio import snowflake\n",
    "from fosforml import *\n",
    "from fosforml.constants import MLModelFlavours\n",
    "from fosforio import get_dataframe\n",
    "from matplotlib import pyplot as plt\n",
    "import pandas as pd\n",
    "pd.set_option('display.max_columns', 500)\n",
    "import seaborn as sns\n",
    "from sklearn.metrics import mean_absolute_percentage_error\n",
    "import numpy as np\n",
    "import warnings; warnings.simplefilter('ignore')\n",
    "from joblib import dump, load\n",
    "import requests\n",
    "from sklearn.preprocessing import StandardScaler, OneHotEncoder\n",
    "from sklearn.decomposition import PCA\n",
    "from sklearn.linear_model import LinearRegression\n",
    "import configparser\n",
    "from dateutil.relativedelta import relativedelta\n",
    "from sklearn.compose import ColumnTransformer\n",
    "from sklearn.pipeline import Pipeline\n",
    "from sklearn.linear_model import LinearRegression, Ridge, Lasso, ElasticNet\n",
    "from sklearn.ensemble import RandomForestRegressor, GradientBoostingRegressor\n",
    "from sklearn.svm import SVR\n",
    "from sklearn.model_selection import train_test_split, GridSearchCV\n",
    "from sklearn.metrics import mean_squared_error, r2_score\n",
    "%matplotlib inline"
   ]
  },
  {
   "cell_type": "markdown",
   "id": "2f4c0717",
   "metadata": {},
   "source": [
    "# Fetching the datasets"
   ]
  },
  {
   "cell_type": "code",
   "execution_count": 2,
   "id": "1683b3c2",
   "metadata": {},
   "outputs": [
    {
     "name": "stdout",
     "output_type": "stream",
     "text": [
      "Connection details fetched: {'params': {'READER': {'connectionId': '87881a55-c8db-4d18-afa7-35fdcdf7ecff', 'connectionSources': {'sourceId': '210d73c1-4da7-487d-8a5c-05c8d2025269', 'connectionType': 'SNOWFLAKE', 'sourceName': 'RDBMS', 'enable': 1, 'displayName': 'SNOWFLAKE', 'displayOrder': 5.0}, 'createdBy': 'ms.akshaya@fosfor.com', 'createdOn': '2024-07-17T14:15:29.278+00:00', 'updatedOn': '2024-08-06T12:09:10.949+00:00', 'name': 'ME_AD_SALES_CXN', 'autosyncable': False, 'autopublishable': False, 'frequency': None, 'assetConfigurations': [], 'publishableNodes': [], 'autoPublishableNodes': None, 'isPrivate': False, 'isExpired': False, 'autoSyncFrequency': None, 'application': None, 'sourceDataRefreshFrequency': None, 'defaultDb': 'ME_DB', 'defaultSchema': 'ME_AD_SALES_SCHEMA', 'recommendedPrivileges': {'DECISION_MODULE': {'grant_on_warehouse_usage_to_role': True, 'grant_on_schema_to_role': True, 'create_stage_internal': True, 'create_udfs': True, 'grant_on_database_to_role': True, 'create_store_procedure': True}}, 'roleDetails': {'selectedStandardWarehouse': 'FOSFOR_SOLUTIONS_WH', 'selectedSnowparkOptimized': '', 'standardWarehouse': ['FOSFOR_SOLUTIONS_WH'], 'snowpark_optimized_warehouse': []}, 'dbPassword': 'Password@2023', 'port': None, 'ipAddress': None, 'dbUserName': 'Akshaya', 'sslEnable': False, 'token': None, 'client_secret': None, 'client_id': None, 'accountName': 'ug94937', 'region': 'us-east4', 'wareHouse': 'FOSFOR_SOLUTIONS_WH', 'cloudPlatform': 'gcp', 'role': 'AKSHAYA', 'privateKey': None, 'passPhrase': None, 'authenticationType': 'dbPassword', 'clientId': None, 'clientSecret': None, 'tokenUrl': None, 'scopeUrl': None, 'connectionUrl': 'https://ug94937.us-east4.gcp.snowflakecomputing.com'}}}\n",
      "Ex: No module named 'cryptography.__about__'\n",
      "Exception occurred in getting snowflake connection: Exception occurred in creating snowflake connection: None\n"
     ]
    }
   ],
   "source": [
    "from fosforio import snowflake\n",
    "from fosforio import get_dataframe\n",
    "\n",
    "snowflake.get_connection(connection_name=\"ME_AD_SALES_CXN\")"
   ]
  },
  {
   "cell_type": "code",
   "execution_count": 3,
   "id": "ee6dae67",
   "metadata": {
    "scrolled": true
   },
   "outputs": [
    {
     "name": "stdout",
     "output_type": "stream",
     "text": [
      "Reading dataframe from snowflake native connector\n",
      "project_id: 32bc8d89-e57a-4d61-9779-4f165eaf05aa\n",
      "Connection details fetched: {'params': {'READER': {'schema': 'ME_AD_SALES_SCHEMA', 'cloudPlatform': 'gcp', 'role': '\"AKSHAYA\"', 'clientId': None, 'tokenUrl': None, 'scopeUrl': None, 'type': 'RDBMS', 'wareHouse': 'FOSFOR_SOLUTIONS_WH', 'accountId': 'ug94937', 'privateKey': None, 'password': 'Password@2023', 'database': 'ME_DB', 'tables': 'DF_ALL', 'sub_type': 'SNOWFLAKE', 'subType': 'SNOWFLAKE', 'clientSecret': None, 'authenticationType': 'dbPassword', 'rowCount': 10, 'region': 'us-east4', 'user': 'Akshaya', 'applicationName': 'FOSFOR', 'passPhrase': None}}, 'url': 'http://connectors-backend-service/connectors/v1/connectors/metadata', 'access': True, 'errorMsg': None, 'values': {}}\n",
      "Exception occurred in get_dataframe: No module named 'cryptography.__about__'\n",
      "Reading dataframe from snowflake native connector\n",
      "project_id: 32bc8d89-e57a-4d61-9779-4f165eaf05aa\n",
      "Connection details fetched: {'params': {'READER': {'schema': 'ME_AD_SALES_SCHEMA', 'cloudPlatform': 'gcp', 'role': '\"AKSHAYA\"', 'clientId': None, 'tokenUrl': None, 'scopeUrl': None, 'type': 'RDBMS', 'wareHouse': 'FOSFOR_SOLUTIONS_WH', 'accountId': 'ug94937', 'privateKey': None, 'password': 'Password@2023', 'database': 'ME_DB', 'tables': 'DF_OPT', 'sub_type': 'SNOWFLAKE', 'subType': 'SNOWFLAKE', 'clientSecret': None, 'authenticationType': 'dbPassword', 'rowCount': 10, 'region': 'us-east4', 'user': 'Akshaya', 'applicationName': 'FOSFOR', 'passPhrase': None}}, 'url': 'http://connectors-backend-service/connectors/v1/connectors/metadata', 'access': True, 'errorMsg': None, 'values': {}}\n",
      "Exception occurred in get_dataframe: No module named 'cryptography.__about__'\n"
     ]
    }
   ],
   "source": [
    "df_all = get_dataframe(\"DF_ALL\")\n",
    "df_opt = get_dataframe(\"DF_OPT\")"
   ]
  },
  {
   "cell_type": "code",
   "execution_count": 4,
   "id": "80af35ba",
   "metadata": {},
   "outputs": [
    {
     "ename": "AttributeError",
     "evalue": "'NoneType' object has no attribute 'copy'",
     "output_type": "error",
     "traceback": [
      "\u001b[0;31m---------------------------------------------------------------------------\u001b[0m",
      "\u001b[0;31mAttributeError\u001b[0m                            Traceback (most recent call last)",
      "Cell \u001b[0;32mIn[4], line 1\u001b[0m\n\u001b[0;32m----> 1\u001b[0m df_all_copy \u001b[38;5;241m=\u001b[39m \u001b[43mdf_all\u001b[49m\u001b[38;5;241;43m.\u001b[39;49m\u001b[43mcopy\u001b[49m()\n\u001b[1;32m      2\u001b[0m df_opt_copy \u001b[38;5;241m=\u001b[39m df_opt\u001b[38;5;241m.\u001b[39mcopy()\n",
      "\u001b[0;31mAttributeError\u001b[0m: 'NoneType' object has no attribute 'copy'"
     ]
    }
   ],
   "source": [
    "df_all_copy = df_all.copy()\n",
    "df_opt_copy = df_opt.copy()"
   ]
  },
  {
   "cell_type": "code",
   "execution_count": null,
   "id": "f92a9a0b",
   "metadata": {},
   "outputs": [],
   "source": [
    "df_all"
   ]
  },
  {
   "cell_type": "code",
   "execution_count": null,
   "id": "7d261aca",
   "metadata": {},
   "outputs": [],
   "source": [
    "df_all.info()"
   ]
  },
  {
   "cell_type": "code",
   "execution_count": null,
   "id": "13aa64eb",
   "metadata": {},
   "outputs": [],
   "source": [
    "df_opt.info()"
   ]
  },
  {
   "cell_type": "markdown",
   "id": "9d47cddd",
   "metadata": {},
   "source": [
    "# Predictive Modelling"
   ]
  },
  {
   "cell_type": "code",
   "execution_count": null,
   "id": "fabab072",
   "metadata": {},
   "outputs": [],
   "source": [
    "training_data = df_all[df_all.AD_DATE <= '2024-07-05']\n",
    "testing_data = df_all[df_all.AD_DATE > '2024-07-05']"
   ]
  },
  {
   "cell_type": "code",
   "execution_count": null,
   "id": "8602b636",
   "metadata": {},
   "outputs": [],
   "source": [
    "training_data.drop(['SITE_ID','ADVERTISER_ID',\n",
    "        'AD_DATE', 'AD_TYPE',   'LINE_ITEM_GROUP',\n",
    "            'CITY', 'POPULATION', 'CITY_LAT', 'CITY_LON'],axis=1,inplace=True)\n",
    "testing_data.drop(['SITE_ID','ADVERTISER_ID',\n",
    "        'AD_DATE', 'AD_TYPE',  'LINE_ITEM_GROUP',\n",
    "            'CITY', 'POPULATION', 'CITY_LAT', 'CITY_LON'],axis=1,inplace=True)\n"
   ]
  },
  {
   "cell_type": "code",
   "execution_count": null,
   "id": "35bbd33b",
   "metadata": {},
   "outputs": [],
   "source": [
    "X_train, y_train = training_data.drop('TOTAL_REVENUE', axis=1), training_data['TOTAL_REVENUE']\n",
    "X_test, y_test = testing_data.drop('TOTAL_REVENUE', axis=1), testing_data['TOTAL_REVENUE']"
   ]
  },
  {
   "cell_type": "code",
   "execution_count": null,
   "id": "f6a8b621",
   "metadata": {},
   "outputs": [],
   "source": [
    "X_train"
   ]
  },
  {
   "cell_type": "code",
   "execution_count": null,
   "id": "060565f6",
   "metadata": {},
   "outputs": [],
   "source": [
    "pc_col = ['TOTAL_IMPRESSIONS', 'VIEWABLE_IMPRESSIONS', 'MEASURABLE_IMPRESSIONS']\n",
    "\n",
    "preprocessor = ColumnTransformer(\n",
    "    transformers=[\n",
    "        ('num', Pipeline(steps=[\n",
    "            ('scaler', StandardScaler()),\n",
    "            ('pca', PCA(n_components=2))\n",
    "        ]), pc_col),\n",
    "        ('cat', OneHotEncoder(handle_unknown='ignore'), ['DEVICE_TYPE', 'LINE_ITEM_TYPE', 'OS_TYPE', 'AD_FORMAT',\n",
    "       'MONETIZATION_CHANNEL', 'AD_MEDIA_TYPE'])\n",
    "    ])\n",
    "\n",
    "pipeline = Pipeline(steps=[\n",
    "    ('preprocessor', preprocessor),\n",
    "    ('regressor', RandomForestRegressor())\n",
    "])"
   ]
  },
  {
   "cell_type": "code",
   "execution_count": null,
   "id": "7cb5e858",
   "metadata": {},
   "outputs": [],
   "source": [
    "models = [\n",
    "    {\n",
    "        'name': 'RandomForestRegressor',\n",
    "        'regressor': [RandomForestRegressor()],\n",
    "        'regressor__n_estimators': [50, 150, 100, 175, 200],\n",
    "        'regressor__max_depth': [10, 2, 5, 7, 9, 12],\n",
    "        'regressor__min_samples_split': [2, 3, 4, 5, 6],\n",
    "        'regressor__min_samples_leaf': [1, 2, 3],\n",
    "        'regressor__bootstrap': [True, False]\n",
    "    },\n",
    "]"
   ]
  },
  {
   "cell_type": "code",
   "execution_count": null,
   "id": "c2d1fb28",
   "metadata": {},
   "outputs": [],
   "source": [
    "best_estimators = []\n",
    "for model_params in models:\n",
    "    model_name = model_params.pop('name')  # Extract the model name\n",
    "    grid_search = GridSearchCV(pipeline, model_params, cv=3, scoring='r2', n_jobs=-1)\n",
    "    grid_search.fit(X_train, y_train)\n",
    "    best_estimator = grid_search.best_estimator_\n",
    "    best_estimators.append(best_estimator)\n",
    "    print(f\"Training completed for model {model_name}\")\n",
    "    \n",
    "    # Save the best model\n",
    "    joblib.dump(best_estimator, f'best_model_{model_name}.pkl')\n",
    "    print(f\"Best model {model_name} saved to best_model_{model_name}.pkl\")"
   ]
  },
  {
   "cell_type": "code",
   "execution_count": null,
   "id": "cf14ce06",
   "metadata": {},
   "outputs": [],
   "source": [
    "results = []\n",
    "for estimator in best_estimators:\n",
    "    y_pred_train = estimator.predict(X_train)\n",
    "    y_pred_test = estimator.predict(X_test)\n",
    "    mse = mean_squared_error(y_test, y_pred_test)\n",
    "    r2 = r2_score(y_test, y_pred_test)\n",
    "    results.append({\n",
    "        'model': estimator.named_steps['regressor'].__class__.__name__,\n",
    "        'best_params': estimator.named_steps['regressor'].get_params(),\n",
    "        'mse': mse,\n",
    "        'r2': r2\n",
    "    })\n",
    "\n",
    "results_df = pd.DataFrame(results)\n",
    "results_df"
   ]
  },
  {
   "cell_type": "code",
   "execution_count": null,
   "id": "772dfe1c",
   "metadata": {},
   "outputs": [],
   "source": [
    "df_all_copy"
   ]
  },
  {
   "cell_type": "code",
   "execution_count": null,
   "id": "79c4befb",
   "metadata": {},
   "outputs": [],
   "source": [
    "df_all_copy['PREDICTED_REVENUE'] = best_estimator.predict(df_all_copy)"
   ]
  },
  {
   "cell_type": "code",
   "execution_count": null,
   "id": "c8177fa6",
   "metadata": {},
   "outputs": [],
   "source": [
    "df_opt_copy"
   ]
  },
  {
   "cell_type": "code",
   "execution_count": null,
   "id": "f7db5806",
   "metadata": {
    "scrolled": true
   },
   "outputs": [],
   "source": [
    "df_opt_copy['OPT_REVENUE'] = best_estimator.predict(df_opt_copy)"
   ]
  },
  {
   "cell_type": "code",
   "execution_count": null,
   "id": "a05e7ed5",
   "metadata": {},
   "outputs": [],
   "source": [
    "df_all_copy_training_data = df_all_copy[df_all_copy.AD_DATE <= '2024-07-05']\n",
    "df_all_copy_testing_data = df_all_copy[df_all_copy.AD_DATE > '2024-07-05']"
   ]
  },
  {
   "cell_type": "code",
   "execution_count": null,
   "id": "192cf1b1",
   "metadata": {},
   "outputs": [],
   "source": [
    "df_opt_copy_training_data = df_opt_copy[df_opt_copy.AD_DATE <= '2024-07-05']\n",
    "df_opt_copy_testing_data = df_opt_copy[df_opt_copy.AD_DATE > '2024-07-05']"
   ]
  },
  {
   "cell_type": "markdown",
   "id": "f345d529",
   "metadata": {},
   "source": [
    "# Pushing Model output to Snowflake"
   ]
  },
  {
   "cell_type": "code",
   "execution_count": null,
   "id": "0631ccfa",
   "metadata": {},
   "outputs": [],
   "source": [
    "import os\n",
    "from snowflake.snowpark.session import Session\n",
    "user = os.getenv(\"user\")\n",
    "warehouse = os.getenv(\"warehouse\")\n",
    "schema= os.getenv(\"schema\")\n",
    "database = os.getenv(\"database\")\n",
    "role =  os.getenv(\"role\")\n",
    "account =  os.getenv(\"account\")\n",
    "password= os.getenv(\"password\")\n",
    "\n",
    "connection_params = dict(user=user, \n",
    "                         password=password, \n",
    "                         account=account, \n",
    "                         warehouse=warehouse, \n",
    "                         database=database,\n",
    "                         schema=schema, \n",
    "                         role=role)\n",
    "\n",
    "session = Session.builder.configs(connection_params).create()\n",
    "\n",
    "session.sql('use warehouse {};'.format(warehouse)).collect()\n",
    "\n",
    "session.sql('use database {};'.format(database)).collect()\n",
    "\n",
    "session.sql('use schema {}.{};'.format(database, schema)).collect()"
   ]
  },
  {
   "cell_type": "code",
   "execution_count": null,
   "id": "08647f25",
   "metadata": {},
   "outputs": [],
   "source": [
    "df_opt_copy"
   ]
  },
  {
   "cell_type": "code",
   "execution_count": 5,
   "id": "a71b2bb9",
   "metadata": {},
   "outputs": [
    {
     "ename": "NameError",
     "evalue": "name 'df_opt_copy' is not defined",
     "output_type": "error",
     "traceback": [
      "\u001b[0;31m---------------------------------------------------------------------------\u001b[0m",
      "\u001b[0;31mNameError\u001b[0m                                 Traceback (most recent call last)",
      "Cell \u001b[0;32mIn[5], line 1\u001b[0m\n\u001b[0;32m----> 1\u001b[0m \u001b[43mdf_opt_copy\u001b[49m\u001b[38;5;241m.\u001b[39mrename(columns\u001b[38;5;241m=\u001b[39m{\u001b[38;5;124m\"\u001b[39m\u001b[38;5;124mTOTAL_IMPRESSIONS\u001b[39m\u001b[38;5;124m\"\u001b[39m : \u001b[38;5;124m\"\u001b[39m\u001b[38;5;124mOPT_TOTAL_IMPRESSIONS\u001b[39m\u001b[38;5;124m\"\u001b[39m,\u001b[38;5;124m\"\u001b[39m\u001b[38;5;124mVIEWABLE_IMPRESSIONS\u001b[39m\u001b[38;5;124m\"\u001b[39m : \u001b[38;5;124m\"\u001b[39m\u001b[38;5;124mOPT_VIEWABLE_IMPRESSIONS\u001b[39m\u001b[38;5;124m\"\u001b[39m,\u001b[38;5;124m\"\u001b[39m\u001b[38;5;124mMEASURABLE_IMPRESSIONS\u001b[39m\u001b[38;5;124m\"\u001b[39m : \u001b[38;5;124m\"\u001b[39m\u001b[38;5;124mOPT_MEASURABLE_IMPRESSIONS\u001b[39m\u001b[38;5;124m\"\u001b[39m,\u001b[38;5;124m\"\u001b[39m\u001b[38;5;124mAD_TYPE\u001b[39m\u001b[38;5;124m\"\u001b[39m : \u001b[38;5;124m\"\u001b[39m\u001b[38;5;124mOPT_AD_TYPE\u001b[39m\u001b[38;5;124m\"\u001b[39m,\u001b[38;5;124m\"\u001b[39m\u001b[38;5;124mAD_FORMAT\u001b[39m\u001b[38;5;124m\"\u001b[39m : \u001b[38;5;124m\"\u001b[39m\u001b[38;5;124mOPT_AD_FORMAT\u001b[39m\u001b[38;5;124m\"\u001b[39m,\u001b[38;5;124m\"\u001b[39m\u001b[38;5;124mAD_MEDIA_TYPE\u001b[39m\u001b[38;5;124m\"\u001b[39m : \u001b[38;5;124m\"\u001b[39m\u001b[38;5;124mOPT_AD_MEDIA_TYPE\u001b[39m\u001b[38;5;124m\"\u001b[39m,\u001b[38;5;124m\"\u001b[39m\u001b[38;5;124mLINE_ITEM_GROUP\u001b[39m\u001b[38;5;124m\"\u001b[39m : \u001b[38;5;124m\"\u001b[39m\u001b[38;5;124mOPT_LINE_ITEM_GROUP\u001b[39m\u001b[38;5;124m\"\u001b[39m,\u001b[38;5;124m\"\u001b[39m\u001b[38;5;124mLINE_ITEM_TYPE\u001b[39m\u001b[38;5;124m\"\u001b[39m : \u001b[38;5;124m\"\u001b[39m\u001b[38;5;124mOPT_LINE_ITEM_TYPE\u001b[39m\u001b[38;5;124m\"\u001b[39m, \u001b[38;5;124m\"\u001b[39m\u001b[38;5;124mMONETIZATION_CHANNEL\u001b[39m\u001b[38;5;124m\"\u001b[39m : \u001b[38;5;124m\"\u001b[39m\u001b[38;5;124mOPT_MONETIZATION_CHANNEL\u001b[39m\u001b[38;5;124m\"\u001b[39m, \u001b[38;5;124m\"\u001b[39m\u001b[38;5;124mOS_TYPE\u001b[39m\u001b[38;5;124m\"\u001b[39m : \u001b[38;5;124m\"\u001b[39m\u001b[38;5;124mOPT_OS_TYPE\u001b[39m\u001b[38;5;124m\"\u001b[39m, \u001b[38;5;124m\"\u001b[39m\u001b[38;5;124mDEVICE_TYPE\u001b[39m\u001b[38;5;124m\"\u001b[39m : \u001b[38;5;124m\"\u001b[39m\u001b[38;5;124mOPT_DEVICE_TYPE\u001b[39m\u001b[38;5;124m\"\u001b[39m}, inplace\u001b[38;5;241m=\u001b[39m\u001b[38;5;28;01mTrue\u001b[39;00m)\n\u001b[1;32m      3\u001b[0m df_opt_copy_testing_data\u001b[38;5;241m.\u001b[39mrename(columns\u001b[38;5;241m=\u001b[39m{\u001b[38;5;124m\"\u001b[39m\u001b[38;5;124mTOTAL_IMPRESSIONS\u001b[39m\u001b[38;5;124m\"\u001b[39m : \u001b[38;5;124m\"\u001b[39m\u001b[38;5;124mOPT_TOTAL_IMPRESSIONS\u001b[39m\u001b[38;5;124m\"\u001b[39m,\u001b[38;5;124m\"\u001b[39m\u001b[38;5;124mVIEWABLE_IMPRESSIONS\u001b[39m\u001b[38;5;124m\"\u001b[39m : \u001b[38;5;124m\"\u001b[39m\u001b[38;5;124mOPT_VIEWABLE_IMPRESSIONS\u001b[39m\u001b[38;5;124m\"\u001b[39m,\u001b[38;5;124m\"\u001b[39m\u001b[38;5;124mMEASURABLE_IMPRESSIONS\u001b[39m\u001b[38;5;124m\"\u001b[39m : \u001b[38;5;124m\"\u001b[39m\u001b[38;5;124mOPT_MEASURABLE_IMPRESSIONS\u001b[39m\u001b[38;5;124m\"\u001b[39m,\u001b[38;5;124m\"\u001b[39m\u001b[38;5;124mAD_TYPE\u001b[39m\u001b[38;5;124m\"\u001b[39m : \u001b[38;5;124m\"\u001b[39m\u001b[38;5;124mOPT_AD_TYPE\u001b[39m\u001b[38;5;124m\"\u001b[39m,\u001b[38;5;124m\"\u001b[39m\u001b[38;5;124mAD_FORMAT\u001b[39m\u001b[38;5;124m\"\u001b[39m : \u001b[38;5;124m\"\u001b[39m\u001b[38;5;124mOPT_AD_FORMAT\u001b[39m\u001b[38;5;124m\"\u001b[39m,\u001b[38;5;124m\"\u001b[39m\u001b[38;5;124mAD_MEDIA_TYPE\u001b[39m\u001b[38;5;124m\"\u001b[39m : \u001b[38;5;124m\"\u001b[39m\u001b[38;5;124mOPT_AD_MEDIA_TYPE\u001b[39m\u001b[38;5;124m\"\u001b[39m,\u001b[38;5;124m\"\u001b[39m\u001b[38;5;124mLINE_ITEM_GROUP\u001b[39m\u001b[38;5;124m\"\u001b[39m : \u001b[38;5;124m\"\u001b[39m\u001b[38;5;124mOPT_LINE_ITEM_GROUP\u001b[39m\u001b[38;5;124m\"\u001b[39m,\u001b[38;5;124m\"\u001b[39m\u001b[38;5;124mLINE_ITEM_TYPE\u001b[39m\u001b[38;5;124m\"\u001b[39m : \u001b[38;5;124m\"\u001b[39m\u001b[38;5;124mOPT_LINE_ITEM_TYPE\u001b[39m\u001b[38;5;124m\"\u001b[39m, \u001b[38;5;124m\"\u001b[39m\u001b[38;5;124mMONETIZATION_CHANNEL\u001b[39m\u001b[38;5;124m\"\u001b[39m : \u001b[38;5;124m\"\u001b[39m\u001b[38;5;124mOPT_MONETIZATION_CHANNEL\u001b[39m\u001b[38;5;124m\"\u001b[39m, \u001b[38;5;124m\"\u001b[39m\u001b[38;5;124mOS_TYPE\u001b[39m\u001b[38;5;124m\"\u001b[39m : \u001b[38;5;124m\"\u001b[39m\u001b[38;5;124mOPT_OS_TYPE\u001b[39m\u001b[38;5;124m\"\u001b[39m, \u001b[38;5;124m\"\u001b[39m\u001b[38;5;124mDEVICE_TYPE\u001b[39m\u001b[38;5;124m\"\u001b[39m : \u001b[38;5;124m\"\u001b[39m\u001b[38;5;124mOPT_DEVICE_TYPE\u001b[39m\u001b[38;5;124m\"\u001b[39m}, inplace\u001b[38;5;241m=\u001b[39m\u001b[38;5;28;01mTrue\u001b[39;00m)\n\u001b[1;32m      5\u001b[0m df_opt_copy_training_data\u001b[38;5;241m.\u001b[39mrename(columns\u001b[38;5;241m=\u001b[39m{\u001b[38;5;124m\"\u001b[39m\u001b[38;5;124mTOTAL_IMPRESSIONS\u001b[39m\u001b[38;5;124m\"\u001b[39m : \u001b[38;5;124m\"\u001b[39m\u001b[38;5;124mOPT_TOTAL_IMPRESSIONS\u001b[39m\u001b[38;5;124m\"\u001b[39m,\u001b[38;5;124m\"\u001b[39m\u001b[38;5;124mVIEWABLE_IMPRESSIONS\u001b[39m\u001b[38;5;124m\"\u001b[39m : \u001b[38;5;124m\"\u001b[39m\u001b[38;5;124mOPT_VIEWABLE_IMPRESSIONS\u001b[39m\u001b[38;5;124m\"\u001b[39m,\u001b[38;5;124m\"\u001b[39m\u001b[38;5;124mMEASURABLE_IMPRESSIONS\u001b[39m\u001b[38;5;124m\"\u001b[39m : \u001b[38;5;124m\"\u001b[39m\u001b[38;5;124mOPT_MEASURABLE_IMPRESSIONS\u001b[39m\u001b[38;5;124m\"\u001b[39m,\u001b[38;5;124m\"\u001b[39m\u001b[38;5;124mAD_TYPE\u001b[39m\u001b[38;5;124m\"\u001b[39m : \u001b[38;5;124m\"\u001b[39m\u001b[38;5;124mOPT_AD_TYPE\u001b[39m\u001b[38;5;124m\"\u001b[39m,\u001b[38;5;124m\"\u001b[39m\u001b[38;5;124mAD_FORMAT\u001b[39m\u001b[38;5;124m\"\u001b[39m : \u001b[38;5;124m\"\u001b[39m\u001b[38;5;124mOPT_AD_FORMAT\u001b[39m\u001b[38;5;124m\"\u001b[39m,\u001b[38;5;124m\"\u001b[39m\u001b[38;5;124mAD_MEDIA_TYPE\u001b[39m\u001b[38;5;124m\"\u001b[39m : \u001b[38;5;124m\"\u001b[39m\u001b[38;5;124mOPT_AD_MEDIA_TYPE\u001b[39m\u001b[38;5;124m\"\u001b[39m,\u001b[38;5;124m\"\u001b[39m\u001b[38;5;124mLINE_ITEM_GROUP\u001b[39m\u001b[38;5;124m\"\u001b[39m : \u001b[38;5;124m\"\u001b[39m\u001b[38;5;124mOPT_LINE_ITEM_GROUP\u001b[39m\u001b[38;5;124m\"\u001b[39m,\u001b[38;5;124m\"\u001b[39m\u001b[38;5;124mLINE_ITEM_TYPE\u001b[39m\u001b[38;5;124m\"\u001b[39m : \u001b[38;5;124m\"\u001b[39m\u001b[38;5;124mOPT_LINE_ITEM_TYPE\u001b[39m\u001b[38;5;124m\"\u001b[39m, \u001b[38;5;124m\"\u001b[39m\u001b[38;5;124mMONETIZATION_CHANNEL\u001b[39m\u001b[38;5;124m\"\u001b[39m : \u001b[38;5;124m\"\u001b[39m\u001b[38;5;124mOPT_MONETIZATION_CHANNEL\u001b[39m\u001b[38;5;124m\"\u001b[39m, \u001b[38;5;124m\"\u001b[39m\u001b[38;5;124mOS_TYPE\u001b[39m\u001b[38;5;124m\"\u001b[39m : \u001b[38;5;124m\"\u001b[39m\u001b[38;5;124mOPT_OS_TYPE\u001b[39m\u001b[38;5;124m\"\u001b[39m, \u001b[38;5;124m\"\u001b[39m\u001b[38;5;124mDEVICE_TYPE\u001b[39m\u001b[38;5;124m\"\u001b[39m : \u001b[38;5;124m\"\u001b[39m\u001b[38;5;124mOPT_DEVICE_TYPE\u001b[39m\u001b[38;5;124m\"\u001b[39m}, inplace\u001b[38;5;241m=\u001b[39m\u001b[38;5;28;01mTrue\u001b[39;00m)\n",
      "\u001b[0;31mNameError\u001b[0m: name 'df_opt_copy' is not defined"
     ]
    }
   ],
   "source": [
    "df_opt_copy.rename(columns={\"TOTAL_IMPRESSIONS\" : \"OPT_TOTAL_IMPRESSIONS\",\"VIEWABLE_IMPRESSIONS\" : \"OPT_VIEWABLE_IMPRESSIONS\",\"MEASURABLE_IMPRESSIONS\" : \"OPT_MEASURABLE_IMPRESSIONS\",\"AD_TYPE\" : \"OPT_AD_TYPE\",\"AD_FORMAT\" : \"OPT_AD_FORMAT\",\"AD_MEDIA_TYPE\" : \"OPT_AD_MEDIA_TYPE\",\"LINE_ITEM_GROUP\" : \"OPT_LINE_ITEM_GROUP\",\"LINE_ITEM_TYPE\" : \"OPT_LINE_ITEM_TYPE\", \"MONETIZATION_CHANNEL\" : \"OPT_MONETIZATION_CHANNEL\", \"OS_TYPE\" : \"OPT_OS_TYPE\", \"DEVICE_TYPE\" : \"OPT_DEVICE_TYPE\"}, inplace=True)\n",
    "\n",
    "df_opt_copy_testing_data.rename(columns={\"TOTAL_IMPRESSIONS\" : \"OPT_TOTAL_IMPRESSIONS\",\"VIEWABLE_IMPRESSIONS\" : \"OPT_VIEWABLE_IMPRESSIONS\",\"MEASURABLE_IMPRESSIONS\" : \"OPT_MEASURABLE_IMPRESSIONS\",\"AD_TYPE\" : \"OPT_AD_TYPE\",\"AD_FORMAT\" : \"OPT_AD_FORMAT\",\"AD_MEDIA_TYPE\" : \"OPT_AD_MEDIA_TYPE\",\"LINE_ITEM_GROUP\" : \"OPT_LINE_ITEM_GROUP\",\"LINE_ITEM_TYPE\" : \"OPT_LINE_ITEM_TYPE\", \"MONETIZATION_CHANNEL\" : \"OPT_MONETIZATION_CHANNEL\", \"OS_TYPE\" : \"OPT_OS_TYPE\", \"DEVICE_TYPE\" : \"OPT_DEVICE_TYPE\"}, inplace=True)\n",
    "\n",
    "df_opt_copy_training_data.rename(columns={\"TOTAL_IMPRESSIONS\" : \"OPT_TOTAL_IMPRESSIONS\",\"VIEWABLE_IMPRESSIONS\" : \"OPT_VIEWABLE_IMPRESSIONS\",\"MEASURABLE_IMPRESSIONS\" : \"OPT_MEASURABLE_IMPRESSIONS\",\"AD_TYPE\" : \"OPT_AD_TYPE\",\"AD_FORMAT\" : \"OPT_AD_FORMAT\",\"AD_MEDIA_TYPE\" : \"OPT_AD_MEDIA_TYPE\",\"LINE_ITEM_GROUP\" : \"OPT_LINE_ITEM_GROUP\",\"LINE_ITEM_TYPE\" : \"OPT_LINE_ITEM_TYPE\", \"MONETIZATION_CHANNEL\" : \"OPT_MONETIZATION_CHANNEL\", \"OS_TYPE\" : \"OPT_OS_TYPE\", \"DEVICE_TYPE\" : \"OPT_DEVICE_TYPE\"}, inplace=True)\n",
    "\n"
   ]
  },
  {
   "cell_type": "code",
   "execution_count": null,
   "id": "b0ce6cd2",
   "metadata": {},
   "outputs": [],
   "source": [
    "df_opt_copy['TOTAL_REVENUE'].sum(), df_opt_copy['OPT_REVENUE'].sum()"
   ]
  },
  {
   "cell_type": "code",
   "execution_count": null,
   "id": "a1ba9e9c",
   "metadata": {},
   "outputs": [],
   "source": [
    "df_all_copy['TOTAL_REVENUE'].sum()"
   ]
  },
  {
   "cell_type": "code",
   "execution_count": null,
   "id": "e92417bb",
   "metadata": {},
   "outputs": [],
   "source": [
    "r2 = r2_score(df_opt_copy['TOTAL_REVENUE'], df_opt_copy['OPT_REVENUE'])\n",
    "r2"
   ]
  },
  {
   "cell_type": "code",
   "execution_count": null,
   "id": "adb6055e",
   "metadata": {},
   "outputs": [],
   "source": [
    "# df_snowflake = session.createDataFrame(df_all_copy.values.tolist(),\n",
    "#         schema = df_all_copy.columns.tolist())\n",
    "\n",
    "# df_snowflake.write.mode(\"overwrite\").save_as_table(\"ME_DB.ME_AD_SALES_SCHEMA.FULL_OUTPUT\")\n",
    "\n",
    "\n",
    "\n",
    "\n",
    "# df_snowflake = session.createDataFrame(df_all_copy_training_data.values.tolist(),\n",
    "#         schema = df_all_copy_training_data.columns.tolist())\n",
    "\n",
    "# df_snowflake.write.mode(\"overwrite\").save_as_table(\"ME_DB.ME_AD_SALES_SCHEMA.RAW_TABLE\")\n",
    "\n",
    "\n",
    "# df_snowflake = session.createDataFrame(df_all_copy_testing_data.values.tolist(),\n",
    "#         schema = df_all_copy_testing_data.columns.tolist())\n",
    "\n",
    "# df_snowflake.write.mode(\"overwrite\").save_as_table(\"ME_DB.ME_AD_SALES_SCHEMA.FUTURE_PREDICTION_TABLE\")\n",
    "\n",
    "# df_snowflake = session.createDataFrame(df_opt_copy.values.tolist(),\n",
    "#         schema = df_opt_copy.columns.tolist())\n",
    "\n",
    "# df_snowflake.write.mode(\"overwrite\").save_as_table(\"ME_DB.ME_AD_SALES_SCHEMA.OPT_FULL_OUTPUT\")\n",
    "\n",
    "\n",
    "# df_snowflake = session.createDataFrame(df_opt_copy_training_data.values.tolist(),\n",
    "#         schema = df_opt_copy_training_data.columns.tolist())\n",
    "\n",
    "# df_snowflake.write.mode(\"overwrite\").save_as_table(\"ME_DB.ME_AD_SALES_SCHEMA.OPT_RAW_TABLE\")\n",
    "\n",
    "# df_snowflake = session.createDataFrame(df_opt_copy_testing_data.values.tolist(),\n",
    "#         schema = df_opt_copy_testing_data.columns.tolist())\n",
    "\n",
    "# df_snowflake.write.mode(\"overwrite\").save_as_table(\"ME_DB.ME_AD_SALES_SCHEMA.FUTURE_OPT_TABLE\")\n"
   ]
  },
  {
   "cell_type": "code",
   "execution_count": null,
   "id": "e031156a",
   "metadata": {},
   "outputs": [],
   "source": []
  },
  {
   "cell_type": "code",
   "execution_count": null,
   "id": "116c7adc",
   "metadata": {},
   "outputs": [],
   "source": []
  },
  {
   "cell_type": "code",
   "execution_count": null,
   "id": "59835d23",
   "metadata": {},
   "outputs": [],
   "source": []
  },
  {
   "cell_type": "code",
   "execution_count": null,
   "id": "5c7214b2",
   "metadata": {},
   "outputs": [],
   "source": [
    "session.write_pandas(df_all_copy, \"FULL_OUTPUT\", auto_create_table=True,  overwrite=True)\n",
    "session.write_pandas(df_all_copy_training_data, \"RAW_TABLE\", auto_create_table=True,  overwrite=True)\n",
    "session.write_pandas(df_all_copy_testing_data, \"FUTURE_PREDICTION_TABLE\", auto_create_table=True,  overwrite=True)\n",
    "\n",
    "session.write_pandas(df_opt_copy, \"OPT_FULL_OUTPUT\", auto_create_table=True,  overwrite=True)\n",
    "session.write_pandas(df_opt_copy_training_data, \"OPT_RAW_TABLE\", auto_create_table=True,  overwrite=True)\n",
    "session.write_pandas(df_opt_copy_testing_data, \"FUTURE_OPT_TABLE\", auto_create_table=True,  overwrite=True)"
   ]
  },
  {
   "cell_type": "markdown",
   "id": "de35c178",
   "metadata": {},
   "source": [
    "# Model Registrartion using fosforml SDK\n"
   ]
  },
  {
   "cell_type": "code",
   "execution_count": null,
   "id": "45efad4c",
   "metadata": {},
   "outputs": [],
   "source": [
    "#Snowpark lib\n",
    "from snowflake.snowpark import Session\n",
    "from fosforio import snowflake\n",
    "from sklearn.pipeline import Pipeline\n",
    "from fosforml import *\n",
    "from fosforml.constants import MLModelFlavours\n",
    "import requests\n"
   ]
  },
  {
   "cell_type": "code",
   "execution_count": null,
   "id": "0ce363f7",
   "metadata": {},
   "outputs": [],
   "source": [
    "@scoring_func\n",
    "def score(model, request):\n",
    "\n",
    "    import json\n",
    "    payload = request.json[\"payload\"]\n",
    "    if isinstance(request.json[\"payload\"],str):\n",
    "        payload_data = eval(payload)\n",
    "        if isinstance(payload_data['TOTAL_IMPRESSIONS'], int):\n",
    "                data_json = eval(payload)\n",
    "                data = pd.DataFrame([data_json])\n",
    "                prediction = pd.DataFrame(model.predict(data))\n",
    "                return prediction[0].to_list()[0]\n",
    "        elif isinstance(payload_data['TOTAL_IMPRESSIONS'], dict):\n",
    "                data = pd.DataFrame(eval(payload))\n",
    "                prediction = pd.DataFrame(model.predict(data))\n",
    "                return prediction[0].tolist()\n",
    "        elif isinstance(payload_data['TOTAL_IMPRESSIONS'], list):\n",
    "                data = pd.DataFrame(payload_data)\n",
    "                prediction = pd.DataFrame(model.predict(data))\n",
    "                return prediction.tolist()\n",
    "    return \"This method is not allowed\""
   ]
  },
  {
   "cell_type": "code",
   "execution_count": null,
   "id": "eb6ba37e",
   "metadata": {},
   "outputs": [],
   "source": [
    "import requests\n",
    "\n",
    "payload = str(X_test.iloc[1:3].to_dict())\n",
    "req = requests.Request()\n",
    "req.json = {\"payload\": payload}\n",
    "print(score(best_estimator, req))"
   ]
  },
  {
   "cell_type": "code",
   "execution_count": null,
   "id": "46b89b21",
   "metadata": {},
   "outputs": [],
   "source": [
    "req.json"
   ]
  },
  {
   "cell_type": "code",
   "execution_count": null,
   "id": "0f76c22e",
   "metadata": {},
   "outputs": [],
   "source": [
    "## registering the model in Fosfor.\n",
    "model_reg = register_model(best_estimator,\n",
    "               score, \n",
    "               name=\"Ad_Sales_Prediction_Model\", \n",
    "               description=\"Ad_Sales_Prediction_RandomForest_Model\",\n",
    "               flavour=MLModelFlavours.sklearn,\n",
    "               model_type=\"regression\",\n",
    "               init_script=\"\\\\n pip install scikit-learn==1.5.1 --no-deps\\\\n pip install joblib==1.4.2\\\\n pip install scipy==1.13.1\\\\n pip install threadpoolctl==3.5.0\\\\n pip install fosforml==1.0.1\\\\n pip install fosforio==1.0.1 --no-deps\\\\n pip install holidays==0.9.9\\\\n pip install pandas==2.2.2 --no-deps\\\\n pip install holidays==0.9.9\\\\n pip install python-dateutil==2.9.0\\\\n pip install pytz==2024.1\\\\n pip install six==1.16.0\\\\n pip install tzdata==2024.1\\\\n pip install numpy==1.26.4\",\n",
    "               y_true=y_test,\n",
    "               y_pred=y_pred_test,\n",
    "               #prob=y_prob,\n",
    "               features=X_train.columns,\n",
    "               input_type=\"json\", \n",
    "               explain_ai=True,\n",
    "               x_train=X_train, \n",
    "               x_test=X_test, \n",
    "               y_train=y_train,\n",
    "               y_test=y_test,\n",
    "               feature_names=X_train.columns.tolist(),\n",
    "               original_features=X_train.columns.tolist(),\n",
    "               feature_ids=X_train.columns,\n",
    "               kyd=True, kyd_score = True)"
   ]
  }
 ],
 "metadata": {
  "kernelspec": {
   "display_name": "Python 3",
   "language": "python",
   "name": "python3"
  },
  "language_info": {
   "codemirror_mode": {
    "name": "ipython",
    "version": 3
   },
   "file_extension": ".py",
   "mimetype": "text/x-python",
   "name": "python",
   "nbconvert_exporter": "python",
   "pygments_lexer": "ipython3",
   "version": "3.9.18"
  }
 },
 "nbformat": 4,
 "nbformat_minor": 5
}
