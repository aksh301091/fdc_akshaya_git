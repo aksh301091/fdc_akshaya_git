{
 "cells": [
  {
   "cell_type": "markdown",
   "id": "8d0c1421",
   "metadata": {},
   "source": [
    "# Installing packages section"
   ]
  },
  {
   "cell_type": "code",
   "execution_count": null,
   "id": "a2bf3836",
   "metadata": {},
   "outputs": [],
   "source": [
    "!pip install --upgrade pip\n",
    "!pip install \"snowflake-connector-python[pandas]\" \"snowflake-snowpark-python[pandas]\" snowflake-snowpark-python==1.9.0 numpy pandas matplotlib scikit-learn xgboost seaborn python-dateutil tqdm holidays faker\n",
    "!pip install --upgrade --q snowflake-snowpark-python==1.9.0\n",
    "!pip uninstall urllib3 -y\n",
    "!pip install urllib3==1.26.15\n",
    "!pip install fosforml==1.1.6"
   ]
  },
  {
   "cell_type": "markdown",
   "id": "b2bfef54",
   "metadata": {},
   "source": [
    "# Importing packages"
   ]
  },
  {
   "cell_type": "code",
   "execution_count": null,
   "id": "85efc7b3",
   "metadata": {},
   "outputs": [],
   "source": [
    "import numpy as np\n",
    "import pandas as pd\n",
    "import matplotlib.pyplot as plt\n",
    "import seaborn as sns\n",
    "import warnings\n",
    "warnings.filterwarnings('ignore')\n",
    "import joblib\n",
    "# from fosforio import snowflake\n",
    "from fosforml import *\n",
    "from fosforml.constants import MLModelFlavours\n",
    "# from fosforio import get_dataframe\n",
    "from matplotlib import pyplot as plt\n",
    "import pandas as pd\n",
    "pd.set_option('display.max_columns', 500)\n",
    "import seaborn as sns\n",
    "from sklearn.metrics import mean_absolute_percentage_error\n",
    "import numpy as np\n",
    "import warnings; warnings.simplefilter('ignore')\n",
    "from joblib import dump, load\n",
    "import requests\n",
    "from sklearn.preprocessing import StandardScaler, OneHotEncoder\n",
    "from sklearn.decomposition import PCA\n",
    "from sklearn.linear_model import LinearRegression\n",
    "import configparser\n",
    "from dateutil.relativedelta import relativedelta\n",
    "from sklearn.compose import ColumnTransformer\n",
    "from sklearn.pipeline import Pipeline\n",
    "from sklearn.linear_model import LinearRegression, Ridge, Lasso, ElasticNet\n",
    "from sklearn.ensemble import RandomForestRegressor, GradientBoostingRegressor\n",
    "from sklearn.svm import SVR\n",
    "from sklearn.model_selection import train_test_split, GridSearchCV\n",
    "from sklearn.metrics import mean_squared_error, r2_score\n",
    "%matplotlib inline"
   ]
  },
  {
   "cell_type": "markdown",
   "id": "2f4c0717",
   "metadata": {},
   "source": [
    "# Fetching the datasets"
   ]
  },
  {
   "cell_type": "markdown",
   "id": "e16d9bd6-b6b5-407b-a0b8-7d68b7ccd7cf",
   "metadata": {},
   "source": [
    "--OLD code: DO NOT RUN\n",
    "from fosforio import snowflake\n",
    "from fosforio import get_dataframe\n",
    "\n",
    "snowflake.get_connection(connection_name=\"ME_AD_SALES_CXN\")"
   ]
  },
  {
   "cell_type": "markdown",
   "id": "26b93ee0-2a42-40ad-861e-be02f9a7e1a7",
   "metadata": {
    "scrolled": true
   },
   "source": [
    "--OLD code: DO NOT RUN\n",
    "df_all = get_dataframe(\"DF_ALL\")\n",
    "df_opt = get_dataframe(\"DF_OPT\")"
   ]
  },
  {
   "cell_type": "code",
   "execution_count": null,
   "id": "cc358419-c304-45d9-be48-98933c4f9744",
   "metadata": {},
   "outputs": [],
   "source": [
    "from fosforml.model_manager.snowflakesession import get_session\n",
    "my_session = get_session()"
   ]
  },
  {
   "cell_type": "code",
   "execution_count": null,
   "id": "1a914f84-e9c0-45e0-a817-4821057e69f3",
   "metadata": {},
   "outputs": [],
   "source": [
    "table_name = 'DF_ALL'\n",
    "df_all = my_session.sql(\"select * from {}\".format(table_name))\n",
    "df_all = df_all.to_pandas()\n",
    "## df_all"
   ]
  },
  {
   "cell_type": "code",
   "execution_count": null,
   "id": "88f246c2-750c-433a-8e06-44d9eb204ade",
   "metadata": {},
   "outputs": [],
   "source": [
    "table_name = 'DF_OPT'\n",
    "df_opt = my_session.sql(\"select * from {}\".format(table_name))\n",
    "df_opt = df_opt.to_pandas()\n",
    "## df_opt"
   ]
  },
  {
   "cell_type": "code",
   "execution_count": null,
   "id": "80af35ba",
   "metadata": {},
   "outputs": [],
   "source": [
    "df_all_copy = df_all.copy()\n",
    "df_opt_copy = df_opt.copy()"
   ]
  },
  {
   "cell_type": "code",
   "execution_count": null,
   "id": "f92a9a0b",
   "metadata": {},
   "outputs": [],
   "source": [
    "df_all"
   ]
  },
  {
   "cell_type": "code",
   "execution_count": null,
   "id": "7d261aca",
   "metadata": {},
   "outputs": [],
   "source": [
    "df_all.info()"
   ]
  },
  {
   "cell_type": "code",
   "execution_count": null,
   "id": "13aa64eb",
   "metadata": {},
   "outputs": [],
   "source": [
    "df_opt.info()"
   ]
  },
  {
   "cell_type": "markdown",
   "id": "9d47cddd",
   "metadata": {},
   "source": [
    "# Predictive Modelling"
   ]
  },
  {
   "cell_type": "code",
   "execution_count": null,
   "id": "f4184a80",
   "metadata": {},
   "outputs": [],
   "source": [
    "df_all.AD_DATE = pd.to_datetime(df_all.AD_DATE)\n",
    "df_opt.AD_DATE = pd.to_datetime(df_opt.AD_DATE)\n",
    "df_all_copy.AD_DATE = pd.to_datetime(df_all_copy.AD_DATE)\n",
    "df_opt_copy.AD_DATE = pd.to_datetime(df_opt_copy.AD_DATE)"
   ]
  },
  {
   "cell_type": "code",
   "execution_count": null,
   "id": "fabab072",
   "metadata": {},
   "outputs": [],
   "source": [
    "training_data = df_all[df_all.AD_DATE <= '2024-07-05']\n",
    "testing_data = df_all[df_all.AD_DATE > '2024-07-05']"
   ]
  },
  {
   "cell_type": "code",
   "execution_count": null,
   "id": "8602b636",
   "metadata": {},
   "outputs": [],
   "source": [
    "training_data.drop(['SITE_ID','ADVERTISER_ID',\n",
    "        'AD_DATE', 'AD_TYPE',   'LINE_ITEM_GROUP',\n",
    "            'CITY', 'POPULATION', 'CITY_LAT', 'CITY_LON'],axis=1,inplace=True)\n",
    "testing_data.drop(['SITE_ID','ADVERTISER_ID',\n",
    "        'AD_DATE', 'AD_TYPE',  'LINE_ITEM_GROUP',\n",
    "            'CITY', 'POPULATION', 'CITY_LAT', 'CITY_LON'],axis=1,inplace=True)\n"
   ]
  },
  {
   "cell_type": "code",
   "execution_count": null,
   "id": "35bbd33b",
   "metadata": {},
   "outputs": [],
   "source": [
    "X_train, y_train = training_data.drop('TOTAL_REVENUE', axis=1), training_data['TOTAL_REVENUE']\n",
    "X_test, y_test = testing_data.drop('TOTAL_REVENUE', axis=1), testing_data['TOTAL_REVENUE']"
   ]
  },
  {
   "cell_type": "code",
   "execution_count": null,
   "id": "f6a8b621",
   "metadata": {},
   "outputs": [],
   "source": [
    "X_train"
   ]
  },
  {
   "cell_type": "code",
   "execution_count": null,
   "id": "060565f6",
   "metadata": {},
   "outputs": [],
   "source": [
    "pc_col = ['TOTAL_IMPRESSIONS', 'VIEWABLE_IMPRESSIONS', 'MEASURABLE_IMPRESSIONS']\n",
    "\n",
    "preprocessor = ColumnTransformer(\n",
    "    transformers=[\n",
    "        ('num', Pipeline(steps=[\n",
    "            ('scaler', StandardScaler()),\n",
    "            ('pca', PCA(n_components=2))\n",
    "        ]), pc_col),\n",
    "        ('cat', OneHotEncoder(handle_unknown='ignore'), ['DEVICE_TYPE', 'LINE_ITEM_TYPE', 'OS_TYPE', 'AD_FORMAT',\n",
    "       'MONETIZATION_CHANNEL', 'AD_MEDIA_TYPE'])\n",
    "    ])\n",
    "\n",
    "pipeline = Pipeline(steps=[\n",
    "    ('preprocessor', preprocessor),\n",
    "    ('regressor', RandomForestRegressor())\n",
    "])"
   ]
  },
  {
   "cell_type": "code",
   "execution_count": null,
   "id": "7cb5e858",
   "metadata": {},
   "outputs": [],
   "source": [
    "models = [\n",
    "    {\n",
    "        'name': 'RandomForestRegressor',\n",
    "        'regressor': [RandomForestRegressor()],\n",
    "        'regressor__n_estimators': [ 200],\n",
    "        'regressor__max_depth': [10],\n",
    "        'regressor__min_samples_split': [2],\n",
    "        'regressor__min_samples_leaf': [3],\n",
    "        'regressor__bootstrap': [True]\n",
    "    },\n",
    "]\n",
    "\n",
    "# models = [\n",
    "#     {\n",
    "#         'name': 'RandomForestRegressor',\n",
    "#         'regressor': [RandomForestRegressor()],\n",
    "#         'regressor__n_estimators': [50, 150, 100, 175, 200],\n",
    "#         'regressor__max_depth': [10, 2, 5, 7, 9, 12],\n",
    "#         'regressor__min_samples_split': [2, 3, 4, 5, 6],\n",
    "#         'regressor__min_samples_leaf': [1, 2, 3],\n",
    "#         'regressor__bootstrap': [True, False]\n",
    "#     },\n",
    "# ]"
   ]
  },
  {
   "cell_type": "code",
   "execution_count": null,
   "id": "c2d1fb28",
   "metadata": {},
   "outputs": [],
   "source": [
    "\n",
    "best_estimators = []\n",
    "for model_params in models:\n",
    "    model_name = model_params.pop('name')  # Extract the model name\n",
    "    grid_search = GridSearchCV(pipeline, model_params, cv=3, scoring='r2', n_jobs=-1)\n",
    "    grid_search.fit(X_train, y_train)\n",
    "    best_estimator = grid_search.best_estimator_\n",
    "    best_estimators.append(best_estimator)\n",
    "    print(f\"Training completed for model {model_name}\")\n",
    "    \n",
    "    # Save the best model\n",
    "    joblib.dump(best_estimator, f'best_model_{model_name}.pkl')\n",
    "    print(f\"Best model {model_name} saved to best_model_{model_name}.pkl\")"
   ]
  },
  {
   "cell_type": "code",
   "execution_count": null,
   "id": "cf14ce06",
   "metadata": {},
   "outputs": [],
   "source": [
    "results = []\n",
    "for estimator in best_estimators:\n",
    "    y_pred_train = estimator.predict(X_train)\n",
    "    y_pred_test = estimator.predict(X_test)\n",
    "    mse = mean_squared_error(y_test, y_pred_test)\n",
    "    r2 = r2_score(y_test, y_pred_test)\n",
    "    results.append({\n",
    "        'model': estimator.named_steps['regressor'].__class__.__name__,\n",
    "        'best_params': estimator.named_steps['regressor'].get_params(),\n",
    "        'mse': mse,\n",
    "        'r2': r2\n",
    "    })\n",
    "\n",
    "results_df = pd.DataFrame(results)\n",
    "results_df"
   ]
  },
  {
   "cell_type": "code",
   "execution_count": null,
   "id": "772dfe1c",
   "metadata": {},
   "outputs": [],
   "source": [
    "df_all_copy"
   ]
  },
  {
   "cell_type": "code",
   "execution_count": null,
   "id": "79c4befb",
   "metadata": {},
   "outputs": [],
   "source": [
    "df_all_copy['PREDICTED_REVENUE'] = best_estimator.predict(df_all_copy)"
   ]
  },
  {
   "cell_type": "code",
   "execution_count": null,
   "id": "c8177fa6",
   "metadata": {},
   "outputs": [],
   "source": [
    "df_opt_copy"
   ]
  },
  {
   "cell_type": "code",
   "execution_count": null,
   "id": "f7db5806",
   "metadata": {
    "scrolled": true
   },
   "outputs": [],
   "source": [
    "df_opt_copy['OPT_REVENUE'] = best_estimator.predict(df_opt_copy)"
   ]
  },
  {
   "cell_type": "code",
   "execution_count": null,
   "id": "a05e7ed5",
   "metadata": {},
   "outputs": [],
   "source": [
    "df_all_copy_training_data = df_all_copy[df_all_copy.AD_DATE <= '2024-07-05']\n",
    "df_all_copy_testing_data = df_all_copy[df_all_copy.AD_DATE > '2024-07-05']"
   ]
  },
  {
   "cell_type": "code",
   "execution_count": null,
   "id": "192cf1b1",
   "metadata": {},
   "outputs": [],
   "source": [
    "df_opt_copy_training_data = df_opt_copy[df_opt_copy.AD_DATE <= '2024-07-05']\n",
    "df_opt_copy_testing_data = df_opt_copy[df_opt_copy.AD_DATE > '2024-07-05']"
   ]
  },
  {
   "cell_type": "markdown",
   "id": "f345d529",
   "metadata": {},
   "source": [
    "# Pushing Model output to Snowflake"
   ]
  },
  {
   "cell_type": "code",
   "execution_count": null,
   "id": "0631ccfa",
   "metadata": {},
   "outputs": [],
   "source": [
    "import os\n",
    "from snowflake.snowpark.session import Session\n",
    "user = os.getenv(\"user\")\n",
    "warehouse = os.getenv(\"warehouse\")\n",
    "schema= os.getenv(\"schema\")\n",
    "database = os.getenv(\"database\")\n",
    "role =  os.getenv(\"role\")\n",
    "account =  os.getenv(\"account\")\n",
    "password= os.getenv(\"password\")\n",
    "\n",
    "connection_params = dict(user=user, \n",
    "                         password=password, \n",
    "                         account=account, \n",
    "                         warehouse=warehouse, \n",
    "                         database=database,\n",
    "                         schema=schema, \n",
    "                         role=role)\n",
    "\n",
    "session = Session.builder.configs(connection_params).create()\n",
    "\n",
    "session.sql('use warehouse {};'.format(warehouse)).collect()\n",
    "\n",
    "session.sql('use database {};'.format(database)).collect()\n",
    "\n",
    "session.sql('use schema {}.{};'.format(database, schema)).collect()"
   ]
  },
  {
   "cell_type": "code",
   "execution_count": null,
   "id": "08647f25",
   "metadata": {},
   "outputs": [],
   "source": [
    "df_opt_copy"
   ]
  },
  {
   "cell_type": "code",
   "execution_count": null,
   "id": "a71b2bb9",
   "metadata": {},
   "outputs": [],
   "source": [
    "df_opt_copy.rename(columns={\"TOTAL_IMPRESSIONS\" : \"OPT_TOTAL_IMPRESSIONS\",\"VIEWABLE_IMPRESSIONS\" : \"OPT_VIEWABLE_IMPRESSIONS\",\"MEASURABLE_IMPRESSIONS\" : \"OPT_MEASURABLE_IMPRESSIONS\",\"AD_TYPE\" : \"OPT_AD_TYPE\",\"AD_FORMAT\" : \"OPT_AD_FORMAT\",\"AD_MEDIA_TYPE\" : \"OPT_AD_MEDIA_TYPE\",\"LINE_ITEM_GROUP\" : \"OPT_LINE_ITEM_GROUP\",\"LINE_ITEM_TYPE\" : \"OPT_LINE_ITEM_TYPE\", \"MONETIZATION_CHANNEL\" : \"OPT_MONETIZATION_CHANNEL\", \"OS_TYPE\" : \"OPT_OS_TYPE\", \"DEVICE_TYPE\" : \"OPT_DEVICE_TYPE\"}, inplace=True)\n",
    "\n",
    "df_opt_copy_testing_data.rename(columns={\"TOTAL_IMPRESSIONS\" : \"OPT_TOTAL_IMPRESSIONS\",\"VIEWABLE_IMPRESSIONS\" : \"OPT_VIEWABLE_IMPRESSIONS\",\"MEASURABLE_IMPRESSIONS\" : \"OPT_MEASURABLE_IMPRESSIONS\",\"AD_TYPE\" : \"OPT_AD_TYPE\",\"AD_FORMAT\" : \"OPT_AD_FORMAT\",\"AD_MEDIA_TYPE\" : \"OPT_AD_MEDIA_TYPE\",\"LINE_ITEM_GROUP\" : \"OPT_LINE_ITEM_GROUP\",\"LINE_ITEM_TYPE\" : \"OPT_LINE_ITEM_TYPE\", \"MONETIZATION_CHANNEL\" : \"OPT_MONETIZATION_CHANNEL\", \"OS_TYPE\" : \"OPT_OS_TYPE\", \"DEVICE_TYPE\" : \"OPT_DEVICE_TYPE\"}, inplace=True)\n",
    "\n",
    "df_opt_copy_training_data.rename(columns={\"TOTAL_IMPRESSIONS\" : \"OPT_TOTAL_IMPRESSIONS\",\"VIEWABLE_IMPRESSIONS\" : \"OPT_VIEWABLE_IMPRESSIONS\",\"MEASURABLE_IMPRESSIONS\" : \"OPT_MEASURABLE_IMPRESSIONS\",\"AD_TYPE\" : \"OPT_AD_TYPE\",\"AD_FORMAT\" : \"OPT_AD_FORMAT\",\"AD_MEDIA_TYPE\" : \"OPT_AD_MEDIA_TYPE\",\"LINE_ITEM_GROUP\" : \"OPT_LINE_ITEM_GROUP\",\"LINE_ITEM_TYPE\" : \"OPT_LINE_ITEM_TYPE\", \"MONETIZATION_CHANNEL\" : \"OPT_MONETIZATION_CHANNEL\", \"OS_TYPE\" : \"OPT_OS_TYPE\", \"DEVICE_TYPE\" : \"OPT_DEVICE_TYPE\"}, inplace=True)\n",
    "\n"
   ]
  },
  {
   "cell_type": "code",
   "execution_count": null,
   "id": "755a7135",
   "metadata": {},
   "outputs": [],
   "source": [
    "df_all_copy['TOTAL_REVENUE'].sum(), df_all_copy['PREDICTED_REVENUE'].sum()"
   ]
  },
  {
   "cell_type": "code",
   "execution_count": null,
   "id": "b0ce6cd2",
   "metadata": {},
   "outputs": [],
   "source": [
    "df_opt_copy['TOTAL_REVENUE'].sum(), df_opt_copy['OPT_REVENUE'].sum()"
   ]
  },
  {
   "cell_type": "code",
   "execution_count": null,
   "id": "a1ba9e9c",
   "metadata": {},
   "outputs": [],
   "source": [
    "df_all_copy['TOTAL_REVENUE'].sum()"
   ]
  },
  {
   "cell_type": "code",
   "execution_count": null,
   "id": "e92417bb",
   "metadata": {},
   "outputs": [],
   "source": [
    "r2 = r2_score(df_opt_copy['TOTAL_REVENUE'], df_opt_copy['OPT_REVENUE'])\n",
    "r2"
   ]
  },
  {
   "cell_type": "code",
   "execution_count": null,
   "id": "adb6055e",
   "metadata": {},
   "outputs": [],
   "source": [
    "# df_snowflake = session.createDataFrame(df_all_copy.values.tolist(),\n",
    "#         schema = df_all_copy.columns.tolist())\n",
    "\n",
    "# df_snowflake.write.mode(\"overwrite\").save_as_table(\"ME_DB.ME_AD_SALES_SCHEMA.FULL_OUTPUT\")\n",
    "\n",
    "\n",
    "\n",
    "\n",
    "# df_snowflake = session.createDataFrame(df_all_copy_training_data.values.tolist(),\n",
    "#         schema = df_all_copy_training_data.columns.tolist())\n",
    "\n",
    "# df_snowflake.write.mode(\"overwrite\").save_as_table(\"ME_DB.ME_AD_SALES_SCHEMA.RAW_TABLE\")\n",
    "\n",
    "\n",
    "# df_snowflake = session.createDataFrame(df_all_copy_testing_data.values.tolist(),\n",
    "#         schema = df_all_copy_testing_data.columns.tolist())\n",
    "\n",
    "# df_snowflake.write.mode(\"overwrite\").save_as_table(\"ME_DB.ME_AD_SALES_SCHEMA.FUTURE_PREDICTION_TABLE\")\n",
    "\n",
    "# df_snowflake = session.createDataFrame(df_opt_copy.values.tolist(),\n",
    "#         schema = df_opt_copy.columns.tolist())\n",
    "\n",
    "# df_snowflake.write.mode(\"overwrite\").save_as_table(\"ME_DB.ME_AD_SALES_SCHEMA.OPT_FULL_OUTPUT\")\n",
    "\n",
    "\n",
    "# df_snowflake = session.createDataFrame(df_opt_copy_training_data.values.tolist(),\n",
    "#         schema = df_opt_copy_training_data.columns.tolist())\n",
    "\n",
    "# df_snowflake.write.mode(\"overwrite\").save_as_table(\"ME_DB.ME_AD_SALES_SCHEMA.OPT_RAW_TABLE\")\n",
    "\n",
    "# df_snowflake = session.createDataFrame(df_opt_copy_testing_data.values.tolist(),\n",
    "#         schema = df_opt_copy_testing_data.columns.tolist())\n",
    "\n",
    "# df_snowflake.write.mode(\"overwrite\").save_as_table(\"ME_DB.ME_AD_SALES_SCHEMA.FUTURE_OPT_TABLE\")\n"
   ]
  },
  {
   "cell_type": "code",
   "execution_count": null,
   "id": "e031156a",
   "metadata": {},
   "outputs": [],
   "source": [
    "df_all_copy_training_data.shape[0], df_all_copy_testing_data.shape[0]"
   ]
  },
  {
   "cell_type": "code",
   "execution_count": null,
   "id": "57621fe7",
   "metadata": {},
   "outputs": [],
   "source": []
  },
  {
   "cell_type": "code",
   "execution_count": null,
   "id": "116c7adc",
   "metadata": {},
   "outputs": [],
   "source": [
    "assert df_all_copy_training_data.shape[0] + df_all_copy_testing_data.shape[0] == df_all_copy.shape[0], \\\n",
    "    \"The sum of training and testing data rows does not match the total number of rows in df_all_copy\""
   ]
  },
  {
   "cell_type": "code",
   "execution_count": null,
   "id": "59835d23",
   "metadata": {},
   "outputs": [],
   "source": [
    "df_all_copy['AD_DATE'] = df_all_copy['AD_DATE'].astype(str)\n",
    "df_all_copy_training_data['AD_DATE'] = df_all_copy_training_data['AD_DATE'].astype(str)\n",
    "df_all_copy_testing_data['AD_DATE'] = df_all_copy_testing_data['AD_DATE'].astype(str)\n",
    "df_opt_copy['AD_DATE'] = df_opt_copy['AD_DATE'].astype(str)\n",
    "df_opt_copy_training_data['AD_DATE'] = df_opt_copy_training_data['AD_DATE'].astype(str)\n",
    "df_opt_copy_testing_data['AD_DATE'] = df_opt_copy_testing_data['AD_DATE'].astype(str)"
   ]
  },
  {
   "cell_type": "code",
   "execution_count": null,
   "id": "5c7214b2",
   "metadata": {},
   "outputs": [],
   "source": [
    "session.write_pandas(df_all_copy, \"FULL_OUTPUT\", auto_create_table=True,  overwrite=True)\n",
    "session.write_pandas(df_all_copy_training_data, \"RAW_TABLE\", auto_create_table=True,  overwrite=True)\n",
    "session.write_pandas(df_all_copy_testing_data, \"FUTURE_PREDICTION_TABLE\", auto_create_table=True,  overwrite=True)\n",
    "\n",
    "session.write_pandas(df_opt_copy, \"OPT_FULL_OUTPUT\", auto_create_table=True,  overwrite=True)\n",
    "session.write_pandas(df_opt_copy_training_data, \"OPT_RAW_TABLE\", auto_create_table=True,  overwrite=True)\n",
    "session.write_pandas(df_opt_copy_testing_data, \"FUTURE_OPT_TABLE\", auto_create_table=True,  overwrite=True)"
   ]
  },
  {
   "cell_type": "code",
   "execution_count": null,
   "id": "c328e2f7",
   "metadata": {},
   "outputs": [],
   "source": [
    "df_opt_copy_testing_data.shape[0], session.table(['FUTURE_OPT_TABLE']).to_pandas().shape[0]"
   ]
  },
  {
   "cell_type": "code",
   "execution_count": null,
   "id": "eb591548",
   "metadata": {},
   "outputs": [],
   "source": [
    "assert df_opt_copy_training_data.shape[0] + df_opt_copy_testing_data.shape[0] == df_opt_copy.shape[0], \\\n",
    "    \"The sum of training and testing data rows does not match the total number of rows in df_all_copy\""
   ]
  },
  {
   "cell_type": "code",
   "execution_count": null,
   "id": "0d4793bd",
   "metadata": {},
   "outputs": [],
   "source": [
    "assert df_opt_copy.shape[0] == session.table(['OPT_FULL_OUTPUT']).to_pandas().shape[0], \"rows are not matching\""
   ]
  },
  {
   "cell_type": "code",
   "execution_count": null,
   "id": "d4b0c7a1",
   "metadata": {},
   "outputs": [],
   "source": [
    "assert df_all_copy_training_data.shape[0] + df_all_copy_testing_data.shape[0] == df_all_copy.shape[0], \\\n",
    "    \"The sum of training and testing data rows does not match the total number of rows in df_all_copy\""
   ]
  },
  {
   "cell_type": "code",
   "execution_count": null,
   "id": "8aaf3a9e",
   "metadata": {},
   "outputs": [],
   "source": [
    "assert df_all_copy.shape[0] == session.table(['FULL_OUTPUT']).to_pandas().shape[0], \"rows are not matching\""
   ]
  },
  {
   "cell_type": "code",
   "execution_count": null,
   "id": "3f34e6d6",
   "metadata": {},
   "outputs": [],
   "source": [
    "assert df_all_copy_training_data.shape[0] == session.table(['RAW_TABLE']).to_pandas().shape[0], \"rows are not matching\""
   ]
  },
  {
   "cell_type": "code",
   "execution_count": null,
   "id": "56b68711",
   "metadata": {},
   "outputs": [],
   "source": [
    "assert df_all_copy_testing_data.shape[0] == session.table(['FUTURE_PREDICTION_TABLE']).to_pandas().shape[0], \"rows are not matching\""
   ]
  },
  {
   "cell_type": "code",
   "execution_count": null,
   "id": "b2ac5811",
   "metadata": {},
   "outputs": [],
   "source": [
    "assert df_opt_copy_training_data.shape[0] == session.table(['OPT_RAW_TABLE']).to_pandas().shape[0], \"rows are not matching\""
   ]
  },
  {
   "cell_type": "code",
   "execution_count": null,
   "id": "c17a439e",
   "metadata": {},
   "outputs": [],
   "source": [
    "assert df_opt_copy_testing_data.shape[0] == session.table(['FUTURE_OPT_TABLE']).to_pandas().shape[0], \"rows are not matching\""
   ]
  },
  {
   "cell_type": "code",
   "execution_count": null,
   "id": "5c680b4e",
   "metadata": {},
   "outputs": [],
   "source": [
    "assert df_opt_copy.shape[0] == session.table(['OPT_FULL_OUTPUT']).to_pandas().shape[0], \"rows are not matching\""
   ]
  },
  {
   "cell_type": "markdown",
   "id": "de35c178",
   "metadata": {},
   "source": [
    "# Model Registrartion using fosforml SDK\n"
   ]
  },
  {
   "cell_type": "code",
   "execution_count": null,
   "id": "45efad4c",
   "metadata": {},
   "outputs": [],
   "source": [
    "#Snowpark lib\n",
    "from snowflake.snowpark import Session\n",
    "from fosforio import snowflake\n",
    "from sklearn.pipeline import Pipeline\n",
    "from fosforml import *\n",
    "from fosforml.constants import MLModelFlavours\n",
    "import requests\n"
   ]
  },
  {
   "cell_type": "code",
   "execution_count": null,
   "id": "0ce363f7",
   "metadata": {},
   "outputs": [],
   "source": [
    "@scoring_func\n",
    "def score(model, request):\n",
    "\n",
    "    import json\n",
    "    payload = request.json[\"payload\"]\n",
    "    if isinstance(request.json[\"payload\"],str):\n",
    "        payload_data = eval(payload)\n",
    "        if isinstance(payload_data['TOTAL_IMPRESSIONS'], int):\n",
    "                data_json = eval(payload)\n",
    "                data = pd.DataFrame([data_json])\n",
    "                prediction = pd.DataFrame(model.predict(data))\n",
    "                return prediction[0].to_list()[0]\n",
    "        elif isinstance(payload_data['TOTAL_IMPRESSIONS'], dict):\n",
    "                data = pd.DataFrame(eval(payload))\n",
    "                prediction = pd.DataFrame(model.predict(data))\n",
    "                return prediction[0].tolist()\n",
    "        elif isinstance(payload_data['TOTAL_IMPRESSIONS'], list):\n",
    "                data = pd.DataFrame(payload_data)\n",
    "                prediction = pd.DataFrame(model.predict(data))\n",
    "                return prediction.tolist()\n",
    "    return \"This method is not allowed\""
   ]
  },
  {
   "cell_type": "code",
   "execution_count": null,
   "id": "eb6ba37e",
   "metadata": {},
   "outputs": [],
   "source": [
    "import requests\n",
    "\n",
    "payload = str(X_test.iloc[1:3].to_dict())\n",
    "req = requests.Request()\n",
    "req.json = {\"payload\": payload}\n",
    "print(score(best_estimator, req))"
   ]
  },
  {
   "cell_type": "code",
   "execution_count": null,
   "id": "46b89b21",
   "metadata": {},
   "outputs": [],
   "source": [
    "req.json"
   ]
  },
  {
   "cell_type": "code",
   "execution_count": null,
   "id": "0f76c22e",
   "metadata": {},
   "outputs": [],
   "source": [
    "## registering the model in Fosfor.\n",
    "model_reg = register_model(best_estimator,\n",
    "               score, \n",
    "               name=\"Ad_Sales_Prediction_Model\", \n",
    "               description=\"Ad_Sales_Prediction_RandomForest_Model\",\n",
    "               flavour=MLModelFlavours.sklearn,\n",
    "               model_type=\"regression\",\n",
    "               init_script=\"\\\\n pip install scikit-learn==1.5.1 --no-deps\\\\n pip install joblib==1.4.2\\\\n pip install scipy==1.13.1\\\\n pip install threadpoolctl==3.5.0\\\\n pip install fosforml==1.0.1\\\\n pip install fosforio==1.0.1 --no-deps\\\\n pip install holidays==0.9.9\\\\n pip install pandas==2.2.2 --no-deps\\\\n pip install holidays==0.9.9\\\\n pip install python-dateutil==2.9.0\\\\n pip install pytz==2024.1\\\\n pip install six==1.16.0\\\\n pip install tzdata==2024.1\\\\n pip install numpy==1.26.4\",\n",
    "               y_true=y_test,\n",
    "               y_pred=y_pred_test,\n",
    "               #prob=y_prob,\n",
    "               features=X_train.columns,\n",
    "               input_type=\"json\", \n",
    "               explain_ai=True,\n",
    "               x_train=X_train, \n",
    "               x_test=X_test, \n",
    "               y_train=y_train,\n",
    "               y_test=y_test,\n",
    "               feature_names=X_train.columns.tolist(),\n",
    "               original_features=X_train.columns.tolist(),\n",
    "               feature_ids=X_train.columns,\n",
    "               kyd=True, kyd_score = True)"
   ]
  },
  {
   "cell_type": "code",
   "execution_count": null,
   "id": "efbdb564",
   "metadata": {},
   "outputs": [],
   "source": []
  }
 ],
 "metadata": {
  "kernelspec": {
   "display_name": "Python 3 (ipykernel)",
   "language": "python",
   "name": "python3"
  },
  "language_info": {
   "codemirror_mode": {
    "name": "ipython",
    "version": 3
   },
   "file_extension": ".py",
   "mimetype": "text/x-python",
   "name": "python",
   "nbconvert_exporter": "python",
   "pygments_lexer": "ipython3",
   "version": "3.9.19"
  }
 },
 "nbformat": 4,
 "nbformat_minor": 5
}
