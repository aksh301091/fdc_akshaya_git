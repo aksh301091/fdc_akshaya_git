{
 "cells": [
  {
   "cell_type": "markdown",
   "id": "8d0c1421",
   "metadata": {},
   "source": [
    "# Installing packages section"
   ]
  },
  {
   "cell_type": "code",
   "execution_count": null,
   "id": "30b56f80-0b6f-4c8a-960e-8f0d025cb154",
   "metadata": {},
   "outputs": [],
   "source": [
    "!pip install --upgrade pip\n",
    "!pip install \"snowflake-connector-python[pandas]\" \"snowflake-snowpark-python[pandas]\" snowflake-snowpark-python==1.9.0 numpy pandas matplotlib scikit-learn xgboost seaborn python-dateutil tqdm holidays faker\n",
    "!pip install --upgrade --q snowflake-snowpark-python==1.9.0\n",
    "!pip uninstall urllib3 -y\n",
    "!pip install urllib3==1.26.15\n",
    "!pip install fosforml==1.1.6"
   ]
  },
  {
   "cell_type": "markdown",
   "id": "b2bfef54",
   "metadata": {},
   "source": [
    "# Importing packages"
   ]
  },
  {
   "cell_type": "code",
   "execution_count": null,
   "id": "85efc7b3",
   "metadata": {},
   "outputs": [],
   "source": [
    "import numpy as np\n",
    "import pandas as pd\n",
    "import matplotlib.pyplot as plt\n",
    "import seaborn as sns\n",
    "import warnings\n",
    "warnings.filterwarnings('ignore')\n",
    "import joblib\n",
    "#from fosforio import snowflake\n",
    "from fosforml import *\n",
    "from fosforml.constants import MLModelFlavours\n",
    "from fosforio import get_dataframe\n",
    "from matplotlib import pyplot as plt\n",
    "import pandas as pd\n",
    "pd.set_option('display.max_columns', 500)\n",
    "import seaborn as sns\n",
    "from sklearn.metrics import mean_absolute_percentage_error\n",
    "import numpy as np\n",
    "import warnings; warnings.simplefilter('ignore')\n",
    "from joblib import dump, load\n",
    "import requests\n",
    "from sklearn.preprocessing import StandardScaler, OneHotEncoder\n",
    "from sklearn.decomposition import PCA\n",
    "from sklearn.linear_model import LinearRegression\n",
    "import configparser\n",
    "from dateutil.relativedelta import relativedelta\n",
    "from sklearn.compose import ColumnTransformer\n",
    "from sklearn.pipeline import Pipeline\n",
    "from sklearn.linear_model import LinearRegression, Ridge, Lasso, ElasticNet\n",
    "from sklearn.ensemble import RandomForestRegressor, GradientBoostingRegressor\n",
    "from sklearn.svm import SVR\n",
    "from sklearn.model_selection import train_test_split, GridSearchCV\n",
    "from sklearn.metrics import mean_squared_error, r2_score\n",
    "%matplotlib inline"
   ]
  },
  {
   "cell_type": "markdown",
   "id": "2f4c0717",
   "metadata": {},
   "source": [
    "# Fetching the datasets"
   ]
  },
  {
   "cell_type": "code",
   "execution_count": null,
   "id": "3bde7c30-99e4-4452-8a23-67591461a5e4",
   "metadata": {},
   "outputs": [],
   "source": [
    "from fosforml.model_manager.snowflakesession import get_session\n",
    "my_session = get_session()"
   ]
  },
  {
   "cell_type": "code",
   "execution_count": null,
   "id": "3a3c1672-2ba8-467a-96a8-15342189d8e9",
   "metadata": {},
   "outputs": [],
   "source": [
    "table_name = 'BOOKINGS_TRANSFORMED'"
   ]
  },
  {
   "cell_type": "code",
   "execution_count": null,
   "id": "1683b3c2",
   "metadata": {},
   "outputs": [],
   "source": [
    "from fosforio import snowflake\n",
    "from fosforio import get_dataframe\n",
    "\n",
    "snowflake.get_connection(connection_name=\"ME_AD_SALES_CXN\")"
   ]
  },
  {
   "cell_type": "code",
   "execution_count": null,
   "id": "ee6dae67",
   "metadata": {},
   "outputs": [],
   "source": [
    "df_all = get_dataframe(\"DF_ALL\")\n",
    "df_opt = get_dataframe(\"DF_OPT\")"
   ]
  },
  {
   "cell_type": "code",
   "execution_count": null,
   "id": "f92a9a0b",
   "metadata": {},
   "outputs": [],
   "source": [
    "df_all"
   ]
  },
  {
   "cell_type": "code",
   "execution_count": null,
   "id": "7d261aca",
   "metadata": {},
   "outputs": [],
   "source": [
    "df_all.info()"
   ]
  },
  {
   "cell_type": "code",
   "execution_count": null,
   "id": "13aa64eb",
   "metadata": {},
   "outputs": [],
   "source": [
    "df_opt.info()"
   ]
  },
  {
   "cell_type": "code",
   "execution_count": null,
   "id": "aa9d0a05",
   "metadata": {},
   "outputs": [],
   "source": [
    "df_opt.columns = df_opt.columns.str.lower()\n",
    "df_all.columns = df_all.columns.str.lower()"
   ]
  },
  {
   "cell_type": "markdown",
   "id": "6d91a392",
   "metadata": {},
   "source": [
    "# Exploratory data analysis"
   ]
  },
  {
   "cell_type": "code",
   "execution_count": null,
   "id": "081d696a",
   "metadata": {},
   "outputs": [],
   "source": [
    "cat_col=['date','geo_id','order_id','site_id', 'ad_type_id','device_type', 'advertiser_id',\n",
    "         'line_item_type', 'os_type','monetization_channel']\n",
    "scat_col = ['site_id', 'ad_type','device_type', 'advertiser_id',\n",
    "         'line_item_type', 'os_type','monetization_channel']\n",
    "num_col=list(df_all.select_dtypes(np.number).columns)"
   ]
  },
  {
   "cell_type": "code",
   "execution_count": null,
   "id": "8605744f",
   "metadata": {},
   "outputs": [],
   "source": [
    "null_counts = df_all.isnull().sum()\n",
    "\n",
    "null_counts = null_counts[null_counts > 0]\n",
    "\n",
    "if not null_counts.empty:\n",
    "    plt.figure(figsize=(12, 8))\n",
    "    null_counts.plot(kind='bar', color='skyblue')\n",
    "    plt.title('Count of Null Values in Each Column')\n",
    "    plt.xlabel('Columns')\n",
    "    plt.ylabel('Number of Null Values')\n",
    "    plt.xticks(rotation=45, ha='right')\n",
    "    plt.tight_layout()\n",
    "    plt.show()\n",
    "else:\n",
    "    print(\"There are no null values in the DataFrame.\")"
   ]
  },
  {
   "cell_type": "markdown",
   "id": "31be5e71",
   "metadata": {},
   "source": [
    "# bar plot"
   ]
  },
  {
   "cell_type": "code",
   "execution_count": null,
   "id": "f52c7e12",
   "metadata": {},
   "outputs": [],
   "source": [
    "fig, ax = plt.subplots(4, 2, figsize=(14, 12))\n",
    "\n",
    "axes_ = [axes_row for axes in ax for axes_row in axes]\n",
    "\n",
    "for i, col in enumerate(scat_col):\n",
    "    if col in df_all.columns:\n",
    "        sns.countplot(data=df_opt, x=col, ax=axes_[i])\n",
    "        if col == 'advertiser_id':\n",
    "            axes_[i].set_xticklabels(axes_[i].get_xticklabels(), rotation=90)\n",
    "    else:\n",
    "        axes_[i].text(0.5, 0.5, f'Column {col} not found', ha='center', va='center')\n",
    "        axes_[i].set_axis_off()\n",
    "\n",
    "plt.tight_layout()\n",
    "\n",
    "plt.show()"
   ]
  },
  {
   "cell_type": "markdown",
   "id": "3aa40fcd",
   "metadata": {},
   "source": [
    "# Scatter plot using total_revenue"
   ]
  },
  {
   "cell_type": "code",
   "execution_count": null,
   "id": "b757b5c4",
   "metadata": {},
   "outputs": [],
   "source": [
    "for i in num_col:\n",
    "    if i!='total_revenue':\n",
    "        sns.scatterplot(data=df_opt,x=i,y='total_revenue')\n",
    "        plt.show()"
   ]
  },
  {
   "cell_type": "code",
   "execution_count": null,
   "id": "00df2996",
   "metadata": {},
   "outputs": [],
   "source": [
    "for col in (scat_col):\n",
    "    title='Relationship of '+col+' with total_revenue'\n",
    "    plt.figure(figsize=(6,4))\n",
    "    sns.barplot(y=df_all['total_revenue'],x=df_all[col])\n",
    "    if col=='advertiser_id':\n",
    "        plt.xticks(rotation=90)\n",
    "    plt.title(title)\n",
    "    plt.show()"
   ]
  },
  {
   "cell_type": "code",
   "execution_count": null,
   "id": "93eddbd8",
   "metadata": {},
   "outputs": [],
   "source": [
    "for col in (scat_col):\n",
    "    title='Relationship of '+ col +' with total_impressions'\n",
    "    plt.figure(figsize=(6,4))\n",
    "    sns.barplot(y=df_all['total_impressions'],x=df_all[col],)\n",
    "    if col=='advertiser_id':\n",
    "        plt.xticks(rotation=90)\n",
    "    plt.title(title)\n",
    "    plt.show()"
   ]
  },
  {
   "cell_type": "code",
   "execution_count": null,
   "id": "aa4e01b4",
   "metadata": {},
   "outputs": [],
   "source": [
    "for i in df_all.select_dtypes(object).columns:\n",
    "    pd.crosstab(df_all['monetization_channel'],df_all[i]).plot(kind='bar')\n",
    "    plt.show()"
   ]
  }
 ],
 "metadata": {
  "kernelspec": {
   "display_name": "Python 3 (ipykernel)",
   "language": "python",
   "name": "python3"
  },
  "language_info": {
   "codemirror_mode": {
    "name": "ipython",
    "version": 3
   },
   "file_extension": ".py",
   "mimetype": "text/x-python",
   "name": "python",
   "nbconvert_exporter": "python",
   "pygments_lexer": "ipython3",
   "version": "3.9.19"
  }
 },
 "nbformat": 4,
 "nbformat_minor": 5
}
